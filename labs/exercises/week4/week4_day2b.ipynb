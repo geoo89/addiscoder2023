{
 "cells": [
  {
   "cell_type": "markdown",
   "metadata": {
    "colab_type": "text",
    "id": "2yAfedtWV0ho"
   },
   "source": [
    "# Dynamic Programming Practice"
   ]
  },
  {
   "cell_type": "markdown",
   "metadata": {},
   "source": [
    "## 2. Partition Problem"
   ]
  },
  {
   "cell_type": "markdown",
   "metadata": {
    "colab_type": "text",
    "id": "ReNfcHkD4KmY"
   },
   "source": [
    "Given a list of positive integers, find if it is possible to partition the list into two subsets with equal sum. For example, given the list `L = [3,1,1,2,2,1]` we can partition L into two partitions each having sum 5. `L1 = [1,1,1,2]` and `L2 = [2,3]`. Note that this solution is not unique. Another solution would be `L1 = [3,1,1]` and `L2 = [2,2,1]`."
   ]
  },
  {
   "cell_type": "code",
   "execution_count": 1,
   "metadata": {
    "colab": {},
    "colab_type": "code",
    "id": "9cb1ZBh04Esm"
   },
   "outputs": [],
   "source": [
    "def check(actual, expected):\n",
    "    if expected != actual:\n",
    "        print(f\"Function should return the value {expected}, it is returning the value {actual}\")\n",
    "    else:\n",
    "        print(f\"Congratulations, the test case passed!\")"
   ]
  },
  {
   "cell_type": "markdown",
   "metadata": {
    "colab_type": "text",
    "id": "gkiciKfSV0hy"
   },
   "source": [
    "### 2.1.0 Partitioning a list"
   ]
  },
  {
   "cell_type": "markdown",
   "metadata": {
    "colab_type": "text",
    "id": "1kXLfsw8zcVE"
   },
   "source": [
    "Given the `L = [ 3, 5, 2, 1, 1 ]`, is it possible to partition it to two sets with the same sum? If yes, write down what the two lists would be."
   ]
  },
  {
   "cell_type": "code",
   "execution_count": 2,
   "metadata": {
    "colab_type": "text",
    "id": "BD9lNV8u1Qs0"
   },
   "outputs": [],
   "source": [
    "# Your answer here"
   ]
  },
  {
   "cell_type": "markdown",
   "metadata": {},
   "source": [
    "<details>\n",
    "<summary><i>Click here to see the solution</i></summary><br/>\n",
    "Yes! The two lists are [5, 1] and [3, 2, 1]. In this case there is only one answer, but sometimes there can be multiple.\n",
    "</details>"
   ]
  },
  {
   "cell_type": "markdown",
   "metadata": {
    "colab_type": "text",
    "id": "P2k5EOI3V0iO"
   },
   "source": [
    "### 2.1.1"
   ]
  },
  {
   "cell_type": "markdown",
   "metadata": {
    "colab_type": "text",
    "id": "Blx6ktzf15bp"
   },
   "source": [
    "Given the `L =  [ 3, 5, 2, 1, 1, 2 ]`, is it possible to partition it to two sets with the same sum? If yes, write down what the two lists would be."
   ]
  },
  {
   "cell_type": "code",
   "execution_count": 3,
   "metadata": {
    "colab_type": "text",
    "id": "aE2aWrjS1tQS"
   },
   "outputs": [],
   "source": [
    "# Your answer here"
   ]
  },
  {
   "cell_type": "markdown",
   "metadata": {},
   "source": [
    "<details>\n",
    "<summary><i>Click here to see the solution</i></summary><br/>\n",
    "The two lists are [5, 2] and [3, 2, 1, 1]. This is not the only answer, another pairing might be [5, 1, 1] and [3, 2, 2]."
   ]
  },
  {
   "cell_type": "markdown",
   "metadata": {
    "colab_type": "text",
    "id": "L7QkkRWlV0jd"
   },
   "source": [
    "### 2.2 Partition List Without Memoization"
   ]
  },
  {
   "cell_type": "markdown",
   "metadata": {
    "colab_type": "text",
    "id": "ZbJSZlPBV0jg"
   },
   "source": [
    "In today's lab, implement a function called `partition` which returns `True` if it is possible to partition the list `L` into two lists with equal sum."
   ]
  },
  {
   "cell_type": "markdown",
   "metadata": {},
   "source": [
    "#### 2.2.1 Base case and sub-problem\n",
    "Let's start by writing down the sub-problem and base cases. When does this become a trivial (simple) problem?"
   ]
  },
  {
   "cell_type": "markdown",
   "metadata": {},
   "source": [
    "<details>\n",
    "<summary>Click here to see the solution</summary>\n",
    "Essentially we want to find a set of numbers in `L` that sum up to `sum(L)/2`. If `sum(L)/2` is an odd number then L cannot be partitioned.  When the list is empty (base case) and the sum of numbers we have chosen is not `sum(L)/2` then the partition has failed.\n",
    "This would be our base case.\n",
    "</details>"
   ]
  },
  {
   "cell_type": "markdown",
   "metadata": {
    "tags": []
   },
   "source": [
    "#### 2.2.2 Rest of the Problem\n",
    "If you had a list `L` and you know `d`, the difference between the sum of the two partitions, how can you tell if the list L can be partitioned?"
   ]
  },
  {
   "cell_type": "markdown",
   "metadata": {},
   "source": [
    "<details>\n",
    "<summary>Click here to see the solution</summary>\n",
    "If the list is not empty, then we have two strategies: either we add it to the set or not. The function returns true if either of these strategies is successful.\n",
    "</details>"
   ]
  },
  {
   "cell_type": "markdown",
   "metadata": {},
   "source": [
    "#### 2.2.3 Partition Using Recursion\n",
    "Now write a function which returns true if the list can be partitioned. You may need to use a helper function to keep track of the difference between the two partitions so far."
   ]
  },
  {
   "cell_type": "code",
   "execution_count": 14,
   "metadata": {
    "colab": {},
    "colab_type": "code",
    "id": "61uTwNqHV0jj"
   },
   "outputs": [],
   "source": [
    "def split_L(L, sum_L):\n",
    "    if sum_L == 0:\n",
    "        return True\n",
    "    if len(L) == 0 or sum_L < 0:\n",
    "        return False\n",
    "    else:\n",
    "        include = split_L(L[1:], sum_L-L[0])\n",
    "        if include == True:\n",
    "            return include\n",
    "        exclude = split_L(L[1:], sum_L)\n",
    "        return exclude\n",
    "def partition(L):\n",
    "    sum_of_L = sum(L)\n",
    "    if sum_of_L%2 == 0:\n",
    "        return split_L(L, int(sum_of_L/2))\n",
    "    else:\n",
    "        return False"
   ]
  },
  {
   "cell_type": "code",
   "execution_count": 15,
   "metadata": {
    "colab": {
     "base_uri": "https://localhost:8080/",
     "height": 54
    },
    "colab_type": "code",
    "id": "TRV1Bkh9V0jw",
    "outputId": "87362a34-57eb-4918-bccb-90411354ce18"
   },
   "outputs": [
    {
     "name": "stdout",
     "output_type": "stream",
     "text": [
      "Congratulations, the test case passed!\n",
      "Congratulations, the test case passed!\n"
     ]
    }
   ],
   "source": [
    "# test-case 1\n",
    "L = [3,1,1,2,2,1]\n",
    "check(partition(L), True)\n",
    "L = [3,3,3,3,3,1,1]\n",
    "check(partition(L), False)\n"
   ]
  },
  {
   "cell_type": "markdown",
   "metadata": {
    "colab_type": "text",
    "id": "W54tOcfGV0kA"
   },
   "source": [
    "### 2.3 Use Memoization"
   ]
  },
  {
   "cell_type": "markdown",
   "metadata": {
    "colab_type": "text",
    "id": "ffCwyQU_2IS2"
   },
   "source": [
    "Think how you could use memoization to improve the running time of the algorithm and write down a function `partition_memo` which contains a memoized version of the above solution."
   ]
  },
  {
   "cell_type": "code",
   "execution_count": 16,
   "metadata": {
    "colab": {},
    "colab_type": "code",
    "id": "GMdTzb0cV0kG"
   },
   "outputs": [],
   "source": [
    "# Write the memoized version of the previous solution here.\n",
    "def split_L_memo(L, sum_L, memo):\n",
    "    if memo[sum_L] != -1:\n",
    "        return memo[sum_L]\n",
    "    if sum_L == 0:\n",
    "        return True\n",
    "    if len(L) == 0 or sum_L < 0:\n",
    "        return False\n",
    "    else:\n",
    "        memo[sum_L]= split_L_memo(L[1:], sum_L-L[0], memo) or split_L_memo(L[1:], sum_L, memo)\n",
    "        return memo[sum_L]\n",
    "    \n",
    "def partition_memo(L):\n",
    "    sum_of_L = sum(L)\n",
    "    \n",
    "    memo = []\n",
    "    for i in range(int(sum_of_L/2)+1):\n",
    "        memo.append(-1)\n",
    "    if sum_of_L%2 == 0:\n",
    "        return split_L_memo(L, int(sum_of_L/2), memo)\n",
    "    else:\n",
    "        return False"
   ]
  },
  {
   "cell_type": "code",
   "execution_count": 17,
   "metadata": {
    "colab": {},
    "colab_type": "code",
    "id": "B_s2gyIoV0kR"
   },
   "outputs": [
    {
     "name": "stdout",
     "output_type": "stream",
     "text": [
      "Congratulations, the test case passed!\n",
      "Congratulations, the test case passed!\n",
      "Congratulations, the test case passed!\n",
      "Congratulations, the test case passed!\n",
      "Congratulations, the test case passed!\n"
     ]
    }
   ],
   "source": [
    "# test-case 2\n",
    "L = [3,1,1,2,2,1,2,3,2,1,100,123,3,1,32,1,23,1,23,12,321,32,123,213,1,1]\n",
    "check(partition_memo(L),True)\n",
    "L = [3,1,1,2,2,1]\n",
    "check(partition_memo(L), True)\n",
    "L = [500, 500, 10, 15, 1000, 5]\n",
    "check(partition_memo(L), True)\n",
    "L = [200, 200, 200, 200, 200, 200, 200, 200, 200, 200]\n",
    "check(partition_memo(L), True)\n",
    "L = [4,21,3,100,2,30,1000,20,200,1]\n",
    "check(partition_memo(L), False)\n"
   ]
  },
  {
   "cell_type": "markdown",
   "metadata": {
    "colab_type": "text",
    "id": "6S3zjT05JosP"
   },
   "source": [
    "## 3) Count the Paths  (Mini-Tron is back!)"
   ]
  },
  {
   "cell_type": "markdown",
   "metadata": {
    "colab_type": "text",
    "id": "0iUTzWzyJosV"
   },
   "source": [
    "Alright, so now that you've built Mini-Tron, time to begin navigation. Mini-Tron needs to go down a staircase in order to get out of the building that it was constructed in. The staircase has $n$ number of steps. Unfortunately, Mini-Tron cannot fly and it needs to go down the steps in the old boring way: using its artificial legs. \n",
    "\n",
    " **Minitron can only hop 1 step, 2 steps or 3 steps at a time.** Our goal is to figure out how many possible ways there are for the robot to go down $n$ number of steps. **We will implement a function `countWays(n)` that take as input the number $n$ of steps in the staircase and returns the *number* of ways for Mini-Tron to descend the step.**"
   ]
  },
  {
   "cell_type": "markdown",
   "metadata": {
    "colab_type": "text",
    "id": "Ny609jpKJosX"
   },
   "source": [
    "\n",
    "### Example\n",
    "1. `countWays(1)` => 1. For a staircase with 1 step, you can only go down the staircase in one way: hopping 1 step.   \n",
    "2. `countWays(2)` => 2. For a staircase with 2 steps, either one double hop or two single hops are possible )\n",
    "3. `countWays(3)`  => 4. For a staircase with 3 steps, there are 4 possible ways to go down:\n",
    "    - 1 step, 2 steps\n",
    "    - 1 step, 1 step, 1 step\n",
    "    - 2 steps, 1 step\n",
    "    \n"
   ]
  },
  {
   "cell_type": "markdown",
   "metadata": {
    "colab_type": "text",
    "id": "UoeG1R25JosZ"
   },
   "source": [
    "### 3.1"
   ]
  },
  {
   "cell_type": "markdown",
   "metadata": {
    "colab_type": "text",
    "id": "lOJ_ptN4Josb"
   },
   "source": [
    "Assume that you have the `countWays` function propely implemented. What would be the output of the function for the following inputs? \n",
    "\n",
    "*NOTE:* You don't have to write code for this problem. "
   ]
  },
  {
   "cell_type": "markdown",
   "metadata": {
    "colab_type": "text",
    "id": "S8UK-uKGJosg"
   },
   "source": [
    "#### 3.1.1) n = 4"
   ]
  },
  {
   "cell_type": "code",
   "execution_count": 30,
   "metadata": {
    "colab": {},
    "colab_type": "code",
    "id": "EHFIbGvyJosk"
   },
   "outputs": [],
   "source": [
    "# Write your answer here"
   ]
  },
  {
   "cell_type": "markdown",
   "metadata": {
    "colab_type": "text",
    "id": "t_SfHOunJosr"
   },
   "source": [
    "#### 3.1.2) n = 5 "
   ]
  },
  {
   "cell_type": "code",
   "execution_count": 31,
   "metadata": {
    "colab": {},
    "colab_type": "code",
    "id": "JVj2x3SLJosx"
   },
   "outputs": [],
   "source": [
    "# Write your answer here"
   ]
  },
  {
   "cell_type": "markdown",
   "metadata": {
    "colab_type": "text",
    "id": "XZKAVRLuJos9"
   },
   "source": [
    "### 3.2.1 "
   ]
  },
  {
   "cell_type": "markdown",
   "metadata": {
    "colab_type": "text",
    "id": "i7j3bia4JotA"
   },
   "source": [
    "Write a recursive function `countWays(n)` that takes the number of steps n in the staircase and returns the number of possible ways for the robot to go down `n`  number of steps.\n"
   ]
  },
  {
   "cell_type": "code",
   "execution_count": 32,
   "metadata": {
    "colab": {},
    "colab_type": "code",
    "id": "yjfAp4HBJotF"
   },
   "outputs": [],
   "source": [
    "def countWays(n):\n",
    "    pass"
   ]
  },
  {
   "cell_type": "markdown",
   "metadata": {
    "colab_type": "text",
    "id": "XouTacY4JotQ"
   },
   "source": [
    "## Check your answer here\n",
    "Run the four cells below."
   ]
  },
  {
   "cell_type": "code",
   "execution_count": 34,
   "metadata": {
    "colab": {},
    "colab_type": "code",
    "id": "o4PU2EJsJotU"
   },
   "outputs": [],
   "source": [
    "def check(actual, expected):\n",
    "    if expected != actual:\n",
    "        print(f\"Function should return the value {expected}, it is returning the value {actual}\")\n",
    "    else:\n",
    "        print(f\"Congratulations, the test case passed!\")"
   ]
  },
  {
   "cell_type": "code",
   "execution_count": 35,
   "metadata": {
    "colab": {},
    "colab_type": "code",
    "id": "l4iYWedBJotc",
    "outputId": "a1391e49-e713-4b47-f35d-39e7bb6a1d78"
   },
   "outputs": [
    {
     "name": "stdout",
     "output_type": "stream",
     "text": [
      "Function should return the value 24, it is returning the value None\n"
     ]
    }
   ],
   "source": [
    "# Run test case 1\n",
    "check(countWays(6),24)"
   ]
  },
  {
   "cell_type": "code",
   "execution_count": 36,
   "metadata": {
    "colab": {},
    "colab_type": "code",
    "id": "OgBcu3oHJotp"
   },
   "outputs": [
    {
     "name": "stdout",
     "output_type": "stream",
     "text": [
      "Function should return the value 5768, it is returning the value None\n"
     ]
    }
   ],
   "source": [
    "# Run test case 2\n",
    "check(countWays(15),5768)"
   ]
  },
  {
   "cell_type": "code",
   "execution_count": 37,
   "metadata": {
    "colab": {},
    "colab_type": "code",
    "id": "3h1OXZjMJotv"
   },
   "outputs": [
    {
     "name": "stdout",
     "output_type": "stream",
     "text": [
      "Function should return the value 0, it is returning the value None\n"
     ]
    }
   ],
   "source": [
    "# Run test case 3\n",
    "check(countWays(-1),0)"
   ]
  },
  {
   "cell_type": "markdown",
   "metadata": {
    "colab_type": "text",
    "id": "B0s8BvirJot4"
   },
   "source": [
    "### 3.2.2"
   ]
  },
  {
   "cell_type": "markdown",
   "metadata": {
    "colab_type": "text",
    "id": "8ecDT-p1Jot6"
   },
   "source": [
    "Add print(\"Calculating countWays of ({n})\".format(n)) at the beginning of your function above, and run the cell below:"
   ]
  },
  {
   "cell_type": "code",
   "execution_count": 38,
   "metadata": {
    "colab": {},
    "colab_type": "code",
    "id": "pdGFysDqJot8"
   },
   "outputs": [],
   "source": [
    "countWays(4)"
   ]
  },
  {
   "cell_type": "markdown",
   "metadata": {
    "colab_type": "text",
    "id": "IIh4AxDxJouE"
   },
   "source": [
    "### 3.2.3"
   ]
  },
  {
   "cell_type": "markdown",
   "metadata": {
    "colab_type": "text",
    "id": "-H_gq9n2JouG"
   },
   "source": [
    " Looking at the printed output above, how many times does your function calculate `countWays(1)`?"
   ]
  },
  {
   "cell_type": "code",
   "execution_count": 39,
   "metadata": {
    "colab": {},
    "colab_type": "code",
    "id": "dSmclA2-JouJ"
   },
   "outputs": [],
   "source": [
    "# Answer here"
   ]
  },
  {
   "cell_type": "markdown",
   "metadata": {
    "colab_type": "text",
    "id": "86tAfU9yJouT"
   },
   "source": [
    "### 3.2.4 "
   ]
  },
  {
   "cell_type": "markdown",
   "metadata": {
    "colab_type": "text",
    "id": "uFqvR0u0JouV"
   },
   "source": [
    "What is the time complexity of your algorithm? "
   ]
  },
  {
   "cell_type": "code",
   "execution_count": 40,
   "metadata": {
    "colab": {},
    "colab_type": "code",
    "id": "O6306OUaJouY"
   },
   "outputs": [],
   "source": [
    "# Answer here"
   ]
  },
  {
   "cell_type": "markdown",
   "metadata": {
    "colab_type": "text",
    "id": "Ux2cq9C_Joud"
   },
   "source": [
    "### 3.3 countWays - Memoized"
   ]
  },
  {
   "cell_type": "markdown",
   "metadata": {
    "colab_type": "text",
    "id": "oT_zYB9ZJouf"
   },
   "source": [
    "Now, let's try to make our function more efficient by adding memoization to it. We want to store our pre-calculated results in a list called $mem$.\n",
    "\n",
    "$$\n",
    "mem[i] = \\begin{cases} -1 \\text { if we haven't computed } countWays_i \\text { before } \\\\\n",
    "            countWays_i \\text { if we have already computed it}\n",
    "            \\end{cases}\n",
    "$$\n",
    "\n"
   ]
  },
  {
   "cell_type": "markdown",
   "metadata": {
    "colab_type": "text",
    "id": "xHhbLuVqJoug"
   },
   "source": [
    "### 3.3.1"
   ]
  },
  {
   "cell_type": "code",
   "execution_count": null,
   "metadata": {
    "colab": {},
    "colab_type": "code",
    "id": "Q6ekJKC9Joui"
   },
   "outputs": [],
   "source": [
    "## NOTE:  Don't run this cell before you complete both functions. \n",
    "\n",
    "## Implement the wrapper function countWays_mem that creates a list called mem and passes it to count_steps_recursive \n",
    "## which does most of the work. \n",
    "def countWays_mem(n):\n",
    "    \n",
    "    ## Initialize a list called mem below here. \n",
    "    \n",
    "    \n",
    "    \n",
    "    ## call the recursive version 'count_steps_recursive' below here by passing in mem as an additional argument to n. \n",
    "    pass\n",
    "\n",
    "\n",
    "\n",
    "### 3.3.2 Implement count_steps_recursive\n",
    "def count_steps_recursive(n, mem):\n",
    "    pass\n",
    "    # write your recursive function here"
   ]
  },
  {
   "cell_type": "code",
   "execution_count": null,
   "metadata": {
    "colab": {},
    "colab_type": "code",
    "id": "SKkRNTl8Jouq"
   },
   "outputs": [],
   "source": [
    "## Run test case 1\n",
    "check(countWays_mem(6),24)"
   ]
  },
  {
   "cell_type": "code",
   "execution_count": null,
   "metadata": {
    "colab": {},
    "colab_type": "code",
    "id": "etohTmGsJou1"
   },
   "outputs": [],
   "source": [
    "## Run test case 2\n",
    "check(countWays_mem(35),1132436852)"
   ]
  },
  {
   "cell_type": "code",
   "execution_count": null,
   "metadata": {
    "colab": {},
    "colab_type": "code",
    "id": "COEc4cOkJou8"
   },
   "outputs": [],
   "source": [
    "## Run test case 3\n",
    "check(countWays_mem(50),10562230626642)"
   ]
  },
  {
   "cell_type": "markdown",
   "metadata": {
    "colab_type": "text",
    "id": "laXSqP4EJovA"
   },
   "source": [
    "### 3.3.2"
   ]
  },
  {
   "cell_type": "markdown",
   "metadata": {
    "colab_type": "text",
    "id": "Og1ZqelWJovC"
   },
   "source": [
    "Add 'print(\"Calculating countWays of ({n})\".format(n))' in your countWays_rec function right after you check if your current input has been memoized previously. Then run the cell below:"
   ]
  },
  {
   "cell_type": "code",
   "execution_count": null,
   "metadata": {
    "colab": {},
    "colab_type": "code",
    "id": "iLwgGEnlJovE"
   },
   "outputs": [],
   "source": [
    "countWays_mem(10)"
   ]
  },
  {
   "cell_type": "markdown",
   "metadata": {
    "colab_type": "text",
    "id": "uI9ahvmtJovI"
   },
   "source": [
    "### 3.3.3"
   ]
  },
  {
   "cell_type": "markdown",
   "metadata": {
    "colab_type": "text",
    "id": "2je4SEwxJovK"
   },
   "source": [
    "How many times does it calculate `count_steps_recursive` with `n = 1`?"
   ]
  },
  {
   "cell_type": "code",
   "execution_count": null,
   "metadata": {
    "colab": {},
    "colab_type": "code",
    "id": "cjTWiN4AJovN"
   },
   "outputs": [],
   "source": [
    "# Answer here"
   ]
  },
  {
   "cell_type": "markdown",
   "metadata": {
    "colab_type": "text",
    "id": "hWebc1wMJovR"
   },
   "source": [
    "### 3.3.4"
   ]
  },
  {
   "cell_type": "markdown",
   "metadata": {
    "colab_type": "text",
    "id": "IyFbgmg8JovT"
   },
   "source": [
    "What is the time complexity of the `countWays_mem` function?"
   ]
  },
  {
   "cell_type": "markdown",
   "metadata": {
    "colab_type": "text",
    "id": "7py3Gj1qJovV"
   },
   "source": [
    "\n"
   ]
  },
  {
   "cell_type": "markdown",
   "metadata": {
    "colab_type": "text",
    "id": "b6GAp7CXJova"
   },
   "source": [
    "## 4. The Adventures of Mini-Tron Part II: Rescue Mission"
   ]
  },
  {
   "cell_type": "markdown",
   "metadata": {
    "colab_type": "text",
    "id": "_bHsPA3IJovb"
   },
   "source": [
    "Congratulations! Mini-Tron has made it out of the building. But now it needs to navigate its way to the rescue destination. But before the robot makes an effort to get to the destination, we want to make sure it will be able to reach the destination in time. If it's not going to make it in time, why even bother right?\n",
    "\n",
    "Given a cost matrix where the cost for each cell is the amount of time it takes to walk through the cell, we want to find out the minimum time it would take for the robot to get from *point A(source)* to *point Z(destination).*\n",
    "\n",
    "But there are a couple of restrictions: \n",
    "1. The robot can only move down, right or diagonally lower cells from a given cell. i.e. from a given cell $[i,j]$, the robot can only move to 3 adjacent cells: $(i+1, j), (i, j+1)$, or $(i+1, j+1)$. \n",
    "2. There are some inaccessible cells that have landmines on them; they are represented with cost of infinity. \n",
    "\n",
    "An example cost matrix is \n",
    "```\n",
    "inf = float('inf')\n",
    "cost = [[1,2,inf],\n",
    "        [8,inf,2],\n",
    "        [3,5,1]]  \n",
    "```"
   ]
  },
  {
   "cell_type": "markdown",
   "metadata": {
    "colab_type": "text",
    "id": "kX0Ss3jdJovd"
   },
   "source": [
    "### 4.1.1"
   ]
  },
  {
   "cell_type": "markdown",
   "metadata": {
    "colab_type": "text",
    "id": "ZsoKQwa_Jovd"
   },
   "source": [
    "Write a simple recursive function `minTime(grid,x,y)` that takes in a 2d array `grid` and coordinates `x,y` and outputs the minimum time required to go from `(0,0)` to `(x,y)` in the grid."
   ]
  },
  {
   "cell_type": "code",
   "execution_count": null,
   "metadata": {
    "colab": {},
    "colab_type": "code",
    "id": "2KdJjsZhJovf"
   },
   "outputs": [],
   "source": [
    "def minTime(grid, x, y):\n",
    "    pass\n",
    "    # Write your solution here"
   ]
  },
  {
   "cell_type": "code",
   "execution_count": null,
   "metadata": {
    "colab": {
     "base_uri": "https://localhost:8080/",
     "height": 69
    },
    "colab_type": "code",
    "executionInfo": {
     "elapsed": 882,
     "status": "ok",
     "timestamp": 1564145331476,
     "user": {
      "displayName": "Hailey James Sorenson",
      "photoUrl": "",
      "userId": "02576305393335956279"
     },
     "user_tz": 240
    },
    "id": "X7GiQ1zDJovn",
    "outputId": "c9fa2b21-313d-4c42-cba6-d3b25f2c45c5"
   },
   "outputs": [
    {
     "name": "stdout",
     "output_type": "stream",
     "text": [
      "Congratulations, the test case passed!\n",
      "Congratulations, the test case passed!\n",
      "Congratulations, the test case passed!\n"
     ]
    }
   ],
   "source": [
    "# test minTime\n",
    "\n",
    "inf = float('inf')\n",
    "Grid = [[2,4,inf],\n",
    "        [1,inf,9],\n",
    "        [3,1,4]]\n",
    "\n",
    "check(minTime(Grid, 2,2),8)\n",
    "check(minTime(Grid, 1, 2), 15)\n",
    "check(minTime(Grid, 1, 1), inf)"
   ]
  },
  {
   "cell_type": "markdown",
   "metadata": {
    "colab_type": "text",
    "id": "rD_jeL8RJovv"
   },
   "source": [
    "### 4.1.2"
   ]
  },
  {
   "cell_type": "markdown",
   "metadata": {
    "colab_type": "text",
    "id": "znqjxxaSJovx"
   },
   "source": [
    "What is the time complexity of the `minTime` algorithm?"
   ]
  },
  {
   "cell_type": "markdown",
   "metadata": {
    "colab_type": "text",
    "id": "LWf1rpdlK35P"
   },
   "source": [
    "Write your answer here:"
   ]
  },
  {
   "cell_type": "markdown",
   "metadata": {
    "colab_type": "text",
    "id": "h7wik9JvJov5"
   },
   "source": [
    "### 4.2.1"
   ]
  },
  {
   "cell_type": "markdown",
   "metadata": {
    "colab_type": "text",
    "id": "z0HWtDcZJov7"
   },
   "source": [
    "Write a memoized version of `minTime` function and call it `minTime_mem`."
   ]
  },
  {
   "cell_type": "code",
   "execution_count": null,
   "metadata": {
    "colab": {},
    "colab_type": "code",
    "id": "YaCgSVmmJov9"
   },
   "outputs": [],
   "source": [
    "# Write your solution here (Hint: You might want to use a helper function.)\n",
    "\n",
    "def minTime_mem(grid,x,y):\n",
    "    pass\n",
    "    # write your code here"
   ]
  },
  {
   "cell_type": "code",
   "execution_count": null,
   "metadata": {
    "colab": {
     "base_uri": "https://localhost:8080/",
     "height": 69
    },
    "colab_type": "code",
    "executionInfo": {
     "elapsed": 847,
     "status": "ok",
     "timestamp": 1564145574857,
     "user": {
      "displayName": "Hailey James Sorenson",
      "photoUrl": "",
      "userId": "02576305393335956279"
     },
     "user_tz": 240
    },
    "id": "f4WQry0wJowB",
    "outputId": "78a0b055-fda2-4097-b201-dbe4e9ef98a7"
   },
   "outputs": [
    {
     "name": "stdout",
     "output_type": "stream",
     "text": [
      "Congratulations, the test case passed!\n",
      "Congratulations, the test case passed!\n",
      "Congratulations, the test case passed!\n"
     ]
    }
   ],
   "source": [
    "## test minTime_mem\n",
    "\n",
    "# test-case set 1\n",
    "inf = float(\"inf\")\n",
    "Grid = [[2,4,inf],\n",
    "        [1,inf,9],\n",
    "        [3,1,4]]\n",
    "\n",
    "check(minTime_mem(Grid, 2,2),8)\n",
    "check(minTime_mem(Grid, 1, 2), 15)\n",
    "check(minTime_mem(Grid, 1, 1), inf)"
   ]
  },
  {
   "cell_type": "code",
   "execution_count": null,
   "metadata": {
    "colab": {
     "base_uri": "https://localhost:8080/",
     "height": 69
    },
    "colab_type": "code",
    "executionInfo": {
     "elapsed": 953,
     "status": "ok",
     "timestamp": 1564145626810,
     "user": {
      "displayName": "Hailey James Sorenson",
      "photoUrl": "",
      "userId": "02576305393335956279"
     },
     "user_tz": 240
    },
    "id": "yuJtjnKXJowL",
    "outputId": "405346a7-21e8-4dda-d370-1f0c5b9ea96d"
   },
   "outputs": [
    {
     "name": "stdout",
     "output_type": "stream",
     "text": [
      "Congratulations, the test case passed!\n",
      "Congratulations, the test case passed!\n",
      "Congratulations, the test case passed!\n"
     ]
    }
   ],
   "source": [
    "# test-case set 2\n",
    "Grid = [[2,4,inf,9, 1, 3, 8, 9],\n",
    "        [1,inf,9,13, 12, 2, 4, 1],\n",
    "        [3,1,4,1, 6, 2, 2, 2 ]]\n",
    "\n",
    "check(minTime_mem(Grid, 2,7),21)\n",
    "check(minTime_mem(Grid, 0,7), inf)\n",
    "check(minTime_mem(Grid, 1, 4), 40)"
   ]
  },
  {
   "cell_type": "markdown",
   "metadata": {
    "colab_type": "text",
    "id": "qfaC41YVJowR"
   },
   "source": [
    "### 4.2.2"
   ]
  },
  {
   "cell_type": "markdown",
   "metadata": {
    "colab_type": "text",
    "id": "qelCuLGqJowp"
   },
   "source": [
    "What is the time complexity of the `minTime_mem` algorithm?"
   ]
  },
  {
   "cell_type": "markdown",
   "metadata": {
    "colab_type": "text",
    "id": "KzG_9UonMR0c"
   },
   "source": [
    "Write your answer here:"
   ]
  },
  {
   "cell_type": "markdown",
   "metadata": {
    "colab_type": "text",
    "id": "f6PDa1DEJowu"
   },
   "source": [
    "## 4.3"
   ]
  },
  {
   "cell_type": "markdown",
   "metadata": {
    "colab_type": "text",
    "id": "3FCrgMeGJowv"
   },
   "source": [
    "Now that we've found the minimum **time** required to get from the source cell (cell A) to the destination cell (cell B), we want to figure out the minimum or shortest **path**. Implement a `minPath(grid, x, y)` function that returns the shortest path from cell A to cell B. You should return a list of tuples where the tuples represent the coordinates (x,y) of the path, including the origin and the destination.\n",
    "\n",
    "**Example:** \n",
    "```\n",
    "Grid = [[2,4,inf],\n",
    "        [1,7,9],\n",
    "        [3,1,4]]\n",
    "```\n",
    "       \n",
    "`minPath(Grid, 2, 2)` => [(0,0),(1,0),(2,0),(2,1),(2,2)]\n",
    "\n",
    "NOTE: `minPath(grid, x, y)` should return an empty list if there is no valid path from the origin to the destination\n",
    "        "
   ]
  },
  {
   "cell_type": "markdown",
   "metadata": {
    "colab_type": "text",
    "id": "yryZIZY7Joww"
   },
   "source": [
    "### 4.3.1"
   ]
  },
  {
   "cell_type": "code",
   "execution_count": null,
   "metadata": {
    "colab": {},
    "colab_type": "code",
    "id": "XfFEXgVQJowx"
   },
   "outputs": [],
   "source": [
    "def minPath(grid, x, y):\n",
    "    pass\n",
    "    # Write your solution here"
   ]
  },
  {
   "cell_type": "code",
   "execution_count": null,
   "metadata": {
    "colab": {
     "base_uri": "https://localhost:8080/",
     "height": 69
    },
    "colab_type": "code",
    "executionInfo": {
     "elapsed": 898,
     "status": "ok",
     "timestamp": 1564146001671,
     "user": {
      "displayName": "Hailey James Sorenson",
      "photoUrl": "",
      "userId": "02576305393335956279"
     },
     "user_tz": 240
    },
    "id": "8Kk5YT72Jow2",
    "outputId": "0af042a0-8ba6-4695-b561-f6b38da53e01"
   },
   "outputs": [
    {
     "name": "stdout",
     "output_type": "stream",
     "text": [
      "Congratulations, the test case passed!\n",
      "Congratulations, the test case passed!\n",
      "Congratulations, the test case passed!\n"
     ]
    }
   ],
   "source": [
    "# test minPath\n",
    "\n",
    "# test-case set 1\n",
    "inf = float(\"inf\")\n",
    "grid = [[2,4,inf],\n",
    "        [1,inf,9],\n",
    "        [3,1,4]]\n",
    "\n",
    "check(minPath(grid, 2, 2), [(0, 0), (1, 0), (2, 1), (2, 2)])\n",
    "check(minPath(grid, 2, 1), [(0, 0), (1, 0), (2, 1)])\n",
    "check(minPath(grid, 1, 1), [])"
   ]
  },
  {
   "cell_type": "markdown",
   "metadata": {
    "colab_type": "text",
    "id": "dHzNrBdHJow7"
   },
   "source": [
    "### 4.3.2"
   ]
  },
  {
   "cell_type": "markdown",
   "metadata": {
    "colab_type": "text",
    "id": "X53qIXmVJow8"
   },
   "source": [
    "Now write the memoized version of the `minPath` function and call it `minPath_mem(grid, x, y)`."
   ]
  },
  {
   "cell_type": "code",
   "execution_count": null,
   "metadata": {
    "colab": {},
    "colab_type": "code",
    "id": "mBX74s3FJow9"
   },
   "outputs": [],
   "source": [
    "# Write your solution here (you may want to create a helper function)\n",
    "\n",
    "def minPath_mem(grid, x, y):\n",
    "    pass"
   ]
  },
  {
   "cell_type": "code",
   "execution_count": null,
   "metadata": {
    "colab": {
     "base_uri": "https://localhost:8080/",
     "height": 69
    },
    "colab_type": "code",
    "executionInfo": {
     "elapsed": 795,
     "status": "ok",
     "timestamp": 1564146660136,
     "user": {
      "displayName": "Hailey James Sorenson",
      "photoUrl": "",
      "userId": "02576305393335956279"
     },
     "user_tz": 240
    },
    "id": "FJqAm-aQYfB4",
    "outputId": "ba3f0207-45d2-490f-fa06-0bb175ea754a"
   },
   "outputs": [
    {
     "name": "stdout",
     "output_type": "stream",
     "text": [
      "Congratulations, the test case passed!\n",
      "Congratulations, the test case passed!\n",
      "Congratulations, the test case passed!\n"
     ]
    }
   ],
   "source": [
    "# test minPath_mem\n",
    "\n",
    "# test-case set 1\n",
    "inf = float(\"inf\")\n",
    "grid = [[2,4,inf],\n",
    "        [1,inf,9],\n",
    "        [3,1,4]]\n",
    "\n",
    "check(minPath(grid, 2, 2), [(0, 0), (1, 0), (2, 1), (2, 2)])\n",
    "check(minPath(grid, 2, 1), [(0, 0), (1, 0), (2, 1)])\n",
    "check(minPath(grid, 1, 1), [])"
   ]
  }
 ],
 "metadata": {
  "colab": {
   "collapsed_sections": [
    "Ny609jpKJosX"
   ],
   "name": "week4_day2_problems_reviewed_final.ipynb",
   "provenance": [],
   "version": "0.3.2"
  },
  "kernelspec": {
   "display_name": "Python 3 (ipykernel)",
   "language": "python",
   "name": "python3"
  },
  "language_info": {
   "codemirror_mode": {
    "name": "ipython",
    "version": 3
   },
   "file_extension": ".py",
   "mimetype": "text/x-python",
   "name": "python",
   "nbconvert_exporter": "python",
   "pygments_lexer": "ipython3",
   "version": "3.10.6"
  }
 },
 "nbformat": 4,
 "nbformat_minor": 4
}
