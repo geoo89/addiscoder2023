{
 "cells": [
  {
   "cell_type": "markdown",
   "metadata": {
    "colab_type": "text",
    "id": "ldVfswZLZntQ"
   },
   "source": [
    "# The Adventures of Minitron Part III: Bomb Squad (Continued)\n",
    "#### Creators\n",
    "Abraham Kassahun Negash\n",
    "<br>\n",
    "Andrew Zuckerman\n",
    "\n",
    "#### Reviewers\n",
    "Insert Reviewers\n",
    "\n",
    "Our trusty Minitron has been tasked with the diffusion of a bomb. Minitron has never diffused a bomb before and has no idea how to do it. It is up to you to tell the robot how to proceed. However, there is one problem. The robot doesn't have enough memory to store all your instructions. So you decide to make your instruction as short as possible and take out the spaces. But now Minitron is receiving a string which it doesn't understand. Can you help Minitron be able to break the string into the original instructions. "
   ]
  },
  {
   "cell_type": "code",
   "execution_count": 0,
   "metadata": {
    "colab": {},
    "colab_type": "code",
    "id": "NWxRwdBCZntT"
   },
   "outputs": [],
   "source": [
    "def check(actual, expected):\n",
    "    if expected != actual:\n",
    "        print(f\"Function should return the value {expected}, it is returning the value {actual}\")\n",
    "    else:\n",
    "        print(f\"Congratulations, the test case passed!\")"
   ]
  },
  {
   "cell_type": "code",
   "execution_count": 0,
   "metadata": {
    "colab": {},
    "colab_type": "code",
    "id": "guIFBJ-lZnta"
   },
   "outputs": [],
   "source": [
    "def checkUnorderedList(actual, expected):\n",
    "    \n",
    "    if set(actual) == set(expected):\n",
    "        print(f\"Congratulations, the test case passed!\")\n",
    "    else:\n",
    "        print(f\"Your list is different from the solution list\")\n",
    "        print(f\"Your list: {actual}\")\n",
    "        print(f\"The true return value: {actual}\")"
   ]
  },
  {
   "cell_type": "markdown",
   "metadata": {
    "colab_type": "text",
    "id": "sJIdkejPZntg"
   },
   "source": [
    "## 4. Time is gold\n",
    "\n"
   ]
  },
  {
   "cell_type": "markdown",
   "metadata": {
    "colab_type": "text",
    "id": "6MWPqI92Znti"
   },
   "source": [
    "### 4.1. Implement using DP \n",
    "Can you rewrite your algorithm from problem 3 using a dynamic programming, bottom-up approach?"
   ]
  },
  {
   "cell_type": "code",
   "execution_count": 0,
   "metadata": {
    "colab": {},
    "colab_type": "code",
    "id": "yNYUILtVZntk"
   },
   "outputs": [],
   "source": [
    "# Write your solution here\n",
    "def recursiveBreakable(S, w):\n",
    "  return False\n"
   ]
  },
  {
   "cell_type": "markdown",
   "metadata": {
    "colab_type": "text",
    "id": "9wU3IvoCZnto"
   },
   "source": [
    "### 4.2. Testing your solution\n",
    "Now test your algorithm on the same input from problem 2.3. Your input string is \"icecreamcone\" and your list of words is: \"i\", \"ice\", \"cream\", \"cone\", \"con\", \"am\", \"ream\" and \"one\"."
   ]
  },
  {
   "cell_type": "code",
   "execution_count": 68,
   "metadata": {
    "colab": {
     "base_uri": "https://localhost:8080/",
     "height": 34
    },
    "colab_type": "code",
    "executionInfo": {
     "elapsed": 940,
     "status": "ok",
     "timestamp": 1564158643401,
     "user": {
      "displayName": "Hailey James Sorenson",
      "photoUrl": "",
      "userId": "02576305393335956279"
     },
     "user_tz": -180
    },
    "id": "SVI4SeTgZntq",
    "outputId": "7fe29dc1-e94a-418c-8c4b-d6876bf15a0f"
   },
   "outputs": [
    {
     "name": "stdout",
     "output_type": "stream",
     "text": [
      "Function should return the value True, it is returning the value False\n"
     ]
    }
   ],
   "source": [
    "words = [\"i\", \"ice\", \"cream\", \"cone\", \"con\", \"am\", \"ream\", \"one\"]\n",
    "check(dynamicBreakable(\"icecreamcone\", words), True)\n"
   ]
  },
  {
   "cell_type": "code",
   "execution_count": 69,
   "metadata": {
    "colab": {
     "base_uri": "https://localhost:8080/",
     "height": 52
    },
    "colab_type": "code",
    "executionInfo": {
     "elapsed": 875,
     "status": "ok",
     "timestamp": 1564158652955,
     "user": {
      "displayName": "Hailey James Sorenson",
      "photoUrl": "",
      "userId": "02576305393335956279"
     },
     "user_tz": -180
    },
    "id": "sBcSOpf8Znt5",
    "outputId": "9c1a119b-41b0-4269-b27d-0260df5dc422"
   },
   "outputs": [
    {
     "name": "stdout",
     "output_type": "stream",
     "text": [
      "Congratulations, the test case passed!\n",
      "Function should return the value True, it is returning the value False\n"
     ]
    }
   ],
   "source": [
    "# Let's modify words by deleting \"ice\" so that if you run your algorithm, it returns False\n",
    "words = [\"i\", \"cream\", \"cone\", \"con\", \"am\", \"ream\", \"one\"]\n",
    "words2 = ['It', 'is', 'one', 'am' , 'thing', 'to', 'hello', 'know', 'if', 'a', 'string', 'cream' , 'can', 'one' , 'be', 'broken', 'down', 'into', 'valid', 'words', 'but', 'can', 'we', 'also', 'know', 'the', 'exact', 'way']\n",
    "\n",
    "check(dynamicBreakable(\"icecreamcone\", words), False)\n",
    "# Check\n",
    "check(dynamicBreakable(\"Itisonethingtoknowifastringcanbebrokendownintovalidwordsbutcanwealsoknowtheexactway\", words2), True)"
   ]
  },
  {
   "cell_type": "markdown",
   "metadata": {
    "colab_type": "text",
    "id": "V4aoj7MrZnuB"
   },
   "source": [
    "### 4.2. How fast is it?\n",
    "What is the running time of this algorithm? Given a string of size <i>m</i> and a list of <i>n</i> words (where <i>s</i> is the size of the smallest word in your dictionary and <i>l</i> is the size of the longest word in your dicitonary)?"
   ]
  },
  {
   "cell_type": "code",
   "execution_count": 0,
   "metadata": {
    "colab": {},
    "colab_type": "code",
    "id": "T0-JpfYfZnuD"
   },
   "outputs": [],
   "source": [
    "# Your answer here\n",
    "O()"
   ]
  },
  {
   "cell_type": "markdown",
   "metadata": {
    "colab_type": "text",
    "id": "YmJsEG-VZnuH"
   },
   "source": [
    "## 5. Breaking it Down\n",
    "It is one thing to know if a string can be broken down into valid words, but can we also know the exact way(s) to break it down? (Just like you did in problem 1.2)\n",
    "\n",
    "Write a recursive algorithm that takes in a string `S` and a list of words `w` and outputs a list of strings that show all the way that `S` can be broken down into valid words (in no particular order). For example, given `S = \"freshmango\"` and `w=[\"fresh\", \"mango\", \"man\" \"go\", \"an\"]`, your output should be a list such as `[\"fresh mango\", \"fresh man go\"]`. If there are no valid ways to break apart the input string, return an empty list."
   ]
  },
  {
   "cell_type": "code",
   "execution_count": 0,
   "metadata": {
    "colab": {},
    "colab_type": "code",
    "id": "R7XTihB7ZnuI"
   },
   "outputs": [],
   "source": [
    "# Write your solution here (you may want to create a helper function!)\n",
    "def recursiveWBSolutions(S, w):\n",
    "    return []"
   ]
  },
  {
   "cell_type": "markdown",
   "metadata": {
    "colab_type": "text",
    "id": "6y_1Y6cdZnuM"
   },
   "source": [
    "### 5.1. Testing your solution"
   ]
  },
  {
   "cell_type": "code",
   "execution_count": 0,
   "metadata": {
    "colab": {},
    "colab_type": "code",
    "id": "6w3rKnS4ZnuO",
    "outputId": "4a6d14e6-284c-465f-df65-18d54d6b8c5f"
   },
   "outputs": [
    {
     "name": "stdout",
     "output_type": "stream",
     "text": [
      "Congratulations, the test case passed!\n"
     ]
    }
   ],
   "source": [
    "words = [\"a\", \"b\", \"c\", \"d\", \"e\", \"bcd\", \"abc\", \"ab\", \"de\"]\n",
    "sol = [\"abc de\", \"abc d e\", \"ab c de\", \"ab c d e\", \"a bcd e\", \"a b c de\", \"a b c d e\"]\n",
    "\n",
    "# Check\n",
    "checkUnorderedList(recursiveWBSolutions(\"abcde\", words), sol)"
   ]
  },
  {
   "cell_type": "markdown",
   "metadata": {
    "colab_type": "text",
    "id": "hl0kuvtdZnuV"
   },
   "source": [
    "## And now to defuse the bomb!\n",
    "Run the below code and figure out which set of instructions makes the most sense :)"
   ]
  },
  {
   "cell_type": "code",
   "execution_count": 0,
   "metadata": {
    "colab": {},
    "colab_type": "code",
    "id": "Y4kSDG0DZnuW"
   },
   "outputs": [],
   "source": [
    "instructions = \"openthebombcuttheredwireinserttheyellowtransistorsoldertheconnectionbacktogether\"\n",
    "\n",
    "englishDictionary = ['the', 'of', 'to', 'and', 'a', 'in', 'is', 'it', 'you', 'that', 'he', 'was', 'for', 'on', 'are', 'with', 'as', 'I', 'his', 'they', 'be', 'at', 'one', 'have', 'this', 'from', 'or', 'had', 'by', 'hot', 'word', 'but', 'what', 'some', 'we', 'can', 'out', 'other', 'were', 'all', 'there', 'when', 'up', 'use', 'your', 'how', 'said', 'an', 'each', 'she', 'which', 'do', 'their', 'time', 'if', 'will', 'way', 'about', 'many', 'then', 'them', 'write', 'would', 'like', 'so', 'these', 'her', 'long', 'make', 'thing', 'see', 'him', 'two', 'has', 'look', 'more', 'day', 'could', 'go', 'come', 'did', 'number', 'sound', 'no', 'most', 'people', 'my', 'over', 'know', 'water', 'than', 'call', 'first', 'who', 'may', 'down', 'side', 'been', 'now', 'find', 'any', 'new', 'work', 'part', 'take', 'get', 'place', 'made', 'live', 'where', 'after', 'back', 'little', 'only', 'round', 'man', 'year', 'came', 'show', 'every', 'good', 'me', 'give', 'our', 'under', 'name', 'very', 'through', 'just', 'form', 'sentence', 'great', 'think', 'say', 'help', 'low', 'line', 'differ', 'turn', 'cause', 'much', 'mean', 'before', 'move', 'right', 'boy', 'old', 'too', 'same', 'tell', 'does', 'set', 'three', 'want', 'air', 'well', 'also', 'play', 'small', 'end', 'put', 'home', 'read', 'hand', 'port', 'large', 'spell', 'add', 'even', 'land', 'here', 'must', 'big', 'high', 'such', 'follow', 'act', 'why', 'ask', 'men', 'change', 'went', 'light', 'kind', 'off', 'need', 'house', 'picture', 'try', 'us', 'again', 'animal', 'point', 'mother', 'world', 'near', 'build', 'self', 'earth', 'father', 'head', 'stand', 'own', 'page', 'should', 'country', 'found', 'answer', 'school', 'grow', 'study', 'still', 'learn', 'plant', 'cover', 'food', 'sun', 'four', 'between', 'state', 'keep', 'eye', 'never', 'last', 'let', 'thought', 'city', 'tree', 'cross', 'farm', 'hard', 'start', 'might', 'story', 'saw', 'far', 'sea', 'draw', 'left', 'late', 'run', \"don't\", 'while', 'press', 'close', 'night', 'real', 'life', 'few', 'north', 'open', 'seem', 'together', 'next', 'white', 'children', 'begin', 'got', 'walk', 'example', 'ease', 'paper', 'group', 'always', 'music', 'those', 'both', 'mark', 'often', 'letter', 'until', 'mile', 'river', 'car', 'feet', 'care', 'second', 'book', 'carry', 'took', 'science', 'eat', 'room', 'friend', 'began', 'idea', 'fish', 'mountain', 'stop', 'once', 'base', 'hear', 'horse', 'cut', 'sure', 'watch', 'color', 'face', 'wood', 'main', 'enough', 'plain', 'girl', 'usual', 'young', 'ready', 'above', 'ever', 'red', 'list', 'though', 'feel', 'talk', 'bird', 'soon', 'body', 'dog', 'family', 'direct', 'pose', 'leave', 'song', 'measure', 'door', 'product', 'black', 'short', 'numeral', 'class', 'wind', 'question', 'happen', 'complete', 'ship', 'area', 'half', 'rock', 'order', 'fire', 'south', 'problem', 'piece', 'told', 'knew', 'pass', 'since', 'top', 'whole', 'king', 'space', 'heard', 'best', 'hour', 'better', 'true', 'during', 'hundred', 'five', 'remember', 'step', 'early', 'hold', 'west', 'ground', 'interest', 'reach', 'fast', 'verb', 'sing', 'listen', 'six', 'table', 'travel', 'less', 'morning', 'ten', 'simple', 'several', 'vowel', 'toward', 'war', 'lay', 'against', 'pattern', 'slow', 'center', 'love', 'person', 'money', 'serve', 'appear', 'road', 'map', 'rain', 'rule', 'govern', 'pull', 'cold', 'notice', 'voice', 'unit', 'power', 'town', 'fine', 'certain', 'fly', 'fall', 'lead', 'cry', 'dark', 'machine', 'note', 'wait', 'plan', 'figure', 'star', 'box', 'noun', 'field', 'rest', 'correct', 'able', 'pound', 'done', 'beauty', 'drive', 'stood', 'contain', 'front', 'teach', 'week', 'final', 'gave', 'green', 'oh', 'quick', 'develop', 'ocean', 'warm', 'free', 'minute', 'strong', 'special', 'mind', 'behind', 'clear', 'tail', 'produce', 'fact', 'street', 'inch', 'multiply', 'nothing', 'course', 'transistor', 'stay', 'wheel', 'full', 'force', 'blue', 'object', 'decide', 'surface', 'deep', 'moon', 'island', 'foot', 'system', 'busy', 'test', 'record', 'boat', 'common', 'bomb', 'insert', 'gold', 'possible', 'plane', 'stead', 'dry', 'wonder', 'laugh', 'thousand', 'ago', 'ran', 'check', 'game', 'shape', 'equate', 'hot', 'miss', 'brought', 'heat', 'snow', 'tire', 'bring', 'yes', 'distant', 'fill', 'east', 'paint', 'language', 'among', 'grand', 'ball', 'yet', 'wave', 'drop', 'heart', 'am', 'present', 'heavy', 'dance', 'engine', 'position', 'arm', 'wide', 'sail', 'material', 'size', 'vary', 'settle', 'speak', 'weight', 'general', 'ice', 'matter', 'circle', 'pair', 'include', 'divide', 'syllable', 'felt', 'perhaps', 'pick', 'sudden', 'count', 'square', 'reason', 'length', 'represent', 'art', 'subject', 'region', 'energy', 'hunt', 'probable', 'bed', 'brother', 'egg', 'ride', 'cell', 'believe', 'fraction', 'forest', 'sit', 'race', 'window', 'store', 'summer', 'train', 'sleep', 'prove', 'lone', 'leg', 'exercise', 'wall', 'catch', 'mount', 'wish', 'sky', 'board', 'joy', 'winter', 'sat', 'written', 'wild', 'instrument', 'kept', 'glass', 'grass', 'cow', 'job', 'edge', 'sign', 'visit', 'past', 'soft', 'fun', 'bright', 'gas', 'weather', 'month', 'million', 'bear', 'finish', 'happy', 'hope', 'flower', 'clothe', 'strange', 'gone', 'jump', 'baby', 'eight', 'village', 'meet', 'root', 'buy', 'raise', 'solve', 'metal', 'whether', 'push', 'seven', 'paragraph', 'third', 'shall', 'held', 'hair', 'describe', 'cook', 'floor', 'either', 'result', 'burn', 'hill', 'safe', 'cat', 'century', 'consider', 'type', 'law', 'bit', 'coast', 'copy', 'phrase', 'silent', 'tall', 'sand', 'soil', 'roll', 'temperature', 'finger', 'industry', 'value', 'fight', 'lie', 'beat', 'excite', 'natural', 'view', 'sense', 'ear', 'else', 'quite', 'broke', 'case', 'middle', 'kill', 'son', 'lake', 'moment', 'scale', 'loud', 'spring', 'observe', 'child', 'straight', 'consonant', 'nation', 'dictionary', 'milk', 'speed', 'method', 'organ', 'pay', 'age', 'section', 'solder', 'connection', 'dress', 'cloud', 'surprise', 'quiet', 'stone', 'tiny', 'climb', 'cool', 'design', 'poor', 'lot', 'experiment', 'bottom', 'key', 'iron', 'single', 'stick', 'flat', 'twenty', 'skin', 'smile', 'crease', 'hole', 'trade', 'melody', 'trip', 'office', 'receive', 'row', 'mouth', 'exact', 'symbol', 'die', 'least', 'trouble', 'shout', 'except', 'wrote', 'seed', 'tone', 'join', 'suggest', 'clean', 'break', 'lady', 'yard', 'rise', 'bad', 'blow', 'oil', 'blood', 'touch', 'grew', 'cent', 'mix', 'team', 'wire', 'cost', 'lost', 'brown', 'wear', 'garden', 'equal', 'sent', 'choose', 'fell', 'fit', 'flow', 'fair', 'bank', 'collect', 'save', 'control', 'decimal', 'gentle', 'woman', 'captain', 'practice', 'separate', 'difficult', 'doctor', 'please', 'protect', 'noon', 'whose', 'locate', 'ring', 'character', 'insect', 'caught', 'period', 'indicate', 'radio', 'spoke', 'atom', 'human', 'history', 'effect', 'electric', 'expect', 'crop', 'modern', 'element', 'hit', 'student', 'corner', 'party', 'supply', 'bone', 'rail', 'imagine', 'provide', 'agree', 'thus', 'capital', \"won't\", 'chair', 'danger', 'fruit', 'rich', 'thick', 'soldier', 'process', 'operate', 'guess', 'necessary', 'sharp', 'wing', 'create', 'neighbor', 'wash', 'bat', 'rather', 'crowd', 'corn', 'compare', 'poem', 'string', 'bell', 'depend', 'meat', 'rub', 'tube', 'famous', 'dollar', 'stream', 'fear', 'sight', 'thin', 'triangle', 'planet', 'hurry', 'chief', 'colony', 'clock', 'mine', 'tie', 'enter', 'major', 'fresh', 'search', 'send', 'yellow', 'gun', 'allow', 'print', 'dead', 'spot', 'desert', 'suit', 'current', 'lift', 'rose', 'continue', 'block', 'chart', 'hat', 'sell', 'success', 'company', 'subtract', 'event', 'particular', 'deal', 'swim', 'term', 'opposite', 'wife', 'shoe', 'shoulder', 'spread', 'arrange', 'camp', 'invent', 'cotton', 'born', 'determine', 'quart', 'nine', 'truck', 'noise', 'level', 'chance', 'gather', 'shop', 'stretch', 'throw', 'shine', 'property', 'column', 'molecule', 'select', 'wrong', 'gray', 'repeat', 'require', 'broad', 'prepare', 'salt', 'nose', 'plural', 'anger', 'claim', 'continent', 'oxygen', 'sugar', 'death', 'pretty', 'skill', 'women', 'season', 'solution', 'magnet', 'silver', 'thank', 'branch', 'match', 'suffix', 'especially', 'fig', 'afraid', 'huge', 'sister', 'steel', 'discuss', 'forward', 'similar', 'guide', 'experience', 'score', 'apple', 'bought', 'led', 'pitch', 'coat', 'mass', 'card', 'band', 'rope', 'slip', 'win', 'dream', 'evening', 'condition', 'feed', 'tool', 'total', 'basic', 'smell', 'valley', 'nor', 'double', 'seat', 'arrive', 'master', 'track', 'parent', 'shore', 'division', 'sheet', 'substance', 'favor', 'connect', 'post', 'spend', 'chord', 'fat', 'glad', 'original', 'share', 'station', 'dad', 'bread', 'charge', 'proper', 'bar', 'offer', 'segment', 'slave', 'duck', 'instant', 'market', 'degree', 'populate', 'chick', 'dear', 'enemy', 'reply', 'drink', 'occur', 'support', 'speech', 'nature', 'range', 'steam', 'motion', 'path', 'liquid', 'log', 'meant', 'quotient', 'teeth', 'shell', 'neck']\n"
   ]
  },
  {
   "cell_type": "code",
   "execution_count": 0,
   "metadata": {
    "colab": {},
    "colab_type": "code",
    "id": "FzjcdlYDZnuZ"
   },
   "outputs": [],
   "source": [
    "# Figure out the instructions!\n",
    "recursiveWBSolutions(instructions, englishDictionary)"
   ]
  },
  {
   "cell_type": "markdown",
   "metadata": {
    "colab_type": "text",
    "id": "rXOoXQONZnuc"
   },
   "source": [
    "## Moving On\n",
    "Minitron has now understood your instructions and has performed it admirably. But now it is time to say goodbye. Sadness is in the air because this maybe the last time you go on an adventure together. Solving one last problem might lift everyone's spirits."
   ]
  },
  {
   "cell_type": "markdown",
   "metadata": {
    "colab_type": "text",
    "id": "GgTdgKg_Znue"
   },
   "source": [
    "## 6. Longest Increasing Subsequence (Challenge)\n",
    "Write a function `lis(L)` which takes as input a list of integers `L` and outputs the length of the longest increasing subsequence (lis) of `L`. A subsequence of `L` is a sublist of `L` that does not have to be contiguous. For example, `[1, 5, 9]` is a subsequence of the list `L = [1, 2, 3, 4, 5, 6, 7, 8, 9]` since `1, 5, 9` appear in the list `L` in the same order (though just not in a row). `9, 5, 1` is not a subsequence of `L` since it does not appear in `L` in that order."
   ]
  },
  {
   "cell_type": "markdown",
   "metadata": {
    "colab_type": "text",
    "id": "4PEhzFTcZnug"
   },
   "source": [
    "### 6.1\n",
    "First implement `lis` using plain recursion"
   ]
  },
  {
   "cell_type": "code",
   "execution_count": 0,
   "metadata": {
    "colab": {
     "base_uri": "https://localhost:8080/",
     "height": 34
    },
    "colab_type": "code",
    "executionInfo": {
     "elapsed": 2575,
     "status": "ok",
     "timestamp": 1564153440671,
     "user": {
      "displayName": "Hailey James Sorenson",
      "photoUrl": "",
      "userId": "02576305393335956279"
     },
     "user_tz": -180
    },
    "id": "vQ8_2M_kZnug",
    "outputId": "87ee5cec-c6a6-4a55-a2f3-e50d39af0f22"
   },
   "outputs": [
    {
     "name": "stdout",
     "output_type": "stream",
     "text": [
      "13\n"
     ]
    }
   ],
   "source": []
  },
  {
   "cell_type": "markdown",
   "metadata": {
    "colab_type": "text",
    "id": "QnYm3bNcZnul"
   },
   "source": [
    "#### 6.2\n",
    "Implement a faster version of `lis` using memoization"
   ]
  },
  {
   "cell_type": "code",
   "execution_count": 0,
   "metadata": {
    "colab": {
     "base_uri": "https://localhost:8080/",
     "height": 34
    },
    "colab_type": "code",
    "executionInfo": {
     "elapsed": 729,
     "status": "ok",
     "timestamp": 1564153668200,
     "user": {
      "displayName": "Hailey James Sorenson",
      "photoUrl": "",
      "userId": "02576305393335956279"
     },
     "user_tz": -180
    },
    "id": "Oefq6GyFZnum",
    "outputId": "78e32aa4-8c79-4dd4-d4ca-090b07dc33a2"
   },
   "outputs": [
    {
     "name": "stdout",
     "output_type": "stream",
     "text": [
      "14\n"
     ]
    }
   ],
   "source": []
  },
  {
   "cell_type": "markdown",
   "metadata": {
    "colab_type": "text",
    "id": "5eWyvX8jZnup"
   },
   "source": [
    "### 6.3 Check"
   ]
  },
  {
   "cell_type": "code",
   "execution_count": 0,
   "metadata": {
    "colab": {
     "base_uri": "https://localhost:8080/",
     "height": 260
    },
    "colab_type": "code",
    "executionInfo": {
     "elapsed": 739,
     "status": "ok",
     "timestamp": 1564153480655,
     "user": {
      "displayName": "Hailey James Sorenson",
      "photoUrl": "",
      "userId": "02576305393335956279"
     },
     "user_tz": -180
    },
    "id": "1WCM78ZwZnur",
    "outputId": "c80e81f4-0254-41ea-8def-c3e255dbb4a5"
   },
   "outputs": [
    {
     "name": "stdout",
     "output_type": "stream",
     "text": [
      "Congratulations, the test case passed!\n",
      "Congratulations, the test case passed!\n",
      "Congratulations, the test case passed!\n",
      "Congratulations, the test case passed!\n",
      "Congratulations, the test case passed!\n",
      "Congratulations, the test case passed!\n",
      "Congratulations, the test case passed!\n",
      "Congratulations, the test case passed!\n",
      "Congratulations, the test case passed!\n",
      "Congratulations, the test case passed!\n",
      "Congratulations, the test case passed!\n",
      "Congratulations, the test case passed!\n",
      "Congratulations, the test case passed!\n",
      "Congratulations, the test case passed!\n"
     ]
    }
   ],
   "source": [
    "# Check your solutions\n",
    "check(lis([]), 0)\n",
    "check(lis([1]), 1)\n",
    "check(lis([5,4,3,2,1]), 1)\n",
    "check(lis([1,1,1]), 1)\n",
    "check(lis([1,1,1,2,2,2]), 2)\n",
    "check(lis([1,1,1,6,2,2,2]), 2)\n",
    "check(lis([1,2,3,4,5]), 5)\n",
    "check(lis([1,2,2,3,4,5]), 5)\n",
    "check(lis([1,3,2,3,4,5]), 5)\n",
    "check(lis([1,2,5,2,3,8,5,6,9]), 6)\n",
    "check(lis([1,6,7,8,2,3,4,5,6]), 6)\n",
    "check(lis([4,6,7,8,9,10,1,2,3,4,5,1,1,2,2,8,8,9,9]), 7)\n",
    "check(lis([0, -4, 10, 2, 4, 8, 11, 13, -8, 1, 2, 3, 5, 15]), 7)\n",
    "check(lis([59, 20, 30, 28, 7, 65, 33, 67, 77, 46, 83, 93, 54, 22, 71, 91, 44, 99, 37, 47, 2, 82, 25, 61, 16, 12, 75, 80, 99, 19, 60, 78, 38, 1, 59, 31, 71, 93, 37, 17, 28, 2, 75, 60, 53, 82, 31, 18, 65, 29, 97, 27, 34, 92, 20, 36, 90, 48, 60, 100, 21, 63, 19, 97, 84, 47, 80, 6, 62, 35, 79, 99, 36, 61, 44, 81, 78, 64, 59, 93, 85, 75, 21, 29, 42, 71, 82, 19, 81, 23, 47, 42, 16, 52, 43, 42, 81, 97, 32, 45]),14)\n"
   ]
  },
  {
   "cell_type": "code",
   "execution_count": 0,
   "metadata": {
    "colab": {},
    "colab_type": "code",
    "id": "9OJEBrPSZnut"
   },
   "outputs": [],
   "source": []
  }
 ],
 "metadata": {
  "colab": {
   "collapsed_sections": [],
   "name": "week4_day3_afternoon-fv.ipynb",
   "provenance": [],
   "version": "0.3.2"
  },
  "kernelspec": {
   "display_name": "Python 3",
   "language": "python",
   "name": "python3"
  },
  "language_info": {
   "codemirror_mode": {
    "name": "ipython",
    "version": 3
   },
   "file_extension": ".py",
   "mimetype": "text/x-python",
   "name": "python",
   "nbconvert_exporter": "python",
   "pygments_lexer": "ipython3",
   "version": "3.7.3"
  }
 },
 "nbformat": 4,
 "nbformat_minor": 1
}
