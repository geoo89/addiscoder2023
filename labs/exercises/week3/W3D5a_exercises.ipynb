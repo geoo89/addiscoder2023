{
 "cells": [
  {
   "cell_type": "markdown",
   "metadata": {},
   "source": [
    "# Week 3 Day 5: Graphics\n",
    "### Adopted as is from Addis Coder 2019."
   ]
  },
  {
   "cell_type": "code",
   "execution_count": null,
   "metadata": {},
   "outputs": [],
   "source": [
    "%run \"boaz_utils.ipynb\""
   ]
  },
  {
   "cell_type": "markdown",
   "metadata": {
    "slideshow": {
     "slide_type": "slide"
    }
   },
   "source": [
    "# Reminder: Graphics on a computer"
   ]
  },
  {
   "cell_type": "markdown",
   "metadata": {
    "slideshow": {
     "slide_type": "fragment"
    }
   },
   "source": [
    "__Helper functions:__\n",
    "\n",
    "<b>color(red,green,blue)</b>: takes three numbers and simply returns a list of these three numbers, but it can also be called with named parameters and has defeault values.\n",
    "\n",
    "<b>empty_screen(height,width)</b>: returns an width  ×  height array s (namely a list of width lists, each of them is of length height). For every x between 0 and width and y between 0 and height,  s[x][y] = color(255,255,255).\n",
    "\n",
    "<b>plot_array(s)</b>: plots the array s on the screen where s[0][0] corresponds to the bottom left corner and s[width][length] corresponds to the top right corner.\n",
    "\n",
    "<b>sine(angle)</b>/<b>cosine(angle)</b>: sin and cos functions (angles given in degrees)\n",
    "\n",
    "<b>draw_cannon(angle,speed)</b>: draw the trajectory for the given angle and speed"
   ]
  },
  {
   "cell_type": "code",
   "execution_count": null,
   "metadata": {
    "scrolled": true,
    "slideshow": {
     "slide_type": "skip"
    }
   },
   "outputs": [],
   "source": [
    "from PIL import Image\n",
    "import numpy as np\n",
    "import IPython.display as dsp\n",
    "from ipywidgets import interact, interactive, fixed, Box\n",
    "import ipywidgets as widgets\n",
    "\n",
    "\n",
    "def empty_screen(w=100, h=100):\n",
    "    res = [[color(255, 255, 255) for i in range(h)] for j in range(w)]\n",
    "    return res\n",
    "\n",
    "\n",
    "def color(red=0, green=0, blue=0):\n",
    "    return (red, green, blue)\n",
    "\n",
    "\n",
    "def array_to_image(array, scale=2):\n",
    "    w = len(array)\n",
    "    h = len(array[0])\n",
    "    data = np.zeros((h*scale, w*scale, 3), dtype=np.uint8)\n",
    "    for i in range(w):\n",
    "        for j in range(h):\n",
    "            for k in range(scale):\n",
    "                for l in range(scale):\n",
    "                    data[(h-1)*scale-(j*scale + k), i*scale+l] = array[i][j]\n",
    "    img = Image.fromarray(data, 'RGB')\n",
    "    img.save('my.png')\n",
    "    return dsp.Image(filename='my.png')\n",
    "\n",
    "\n",
    "def plot_array(array, scale=2):\n",
    "    dsp.clear_output(True)\n",
    "    dsp.display_png(array_to_image(array, scale))\n",
    "    # sys.stdout.flush()"
   ]
  },
  {
   "cell_type": "code",
   "execution_count": null,
   "metadata": {
    "slideshow": {
     "slide_type": "skip"
    }
   },
   "outputs": [],
   "source": [
    "import math\n",
    "\n",
    "\n",
    "def sine(angle):\n",
    "    return math.sin((angle/360.0)*2*math.pi)\n",
    "\n",
    "\n",
    "def cosine(angle):\n",
    "    return math.cos((angle/360.0)*2*math.pi)"
   ]
  },
  {
   "cell_type": "code",
   "execution_count": null,
   "metadata": {
    "slideshow": {
     "slide_type": "slide"
    }
   },
   "outputs": [],
   "source": [
    "def cannon(angle, speed, time, gravity=9.8):\n",
    "    x = speed*time*cosine(angle)\n",
    "    y = speed*time*sine(angle) - (gravity/2.0)*(time**2)\n",
    "    return round(x, 3), round(y, 3)\n",
    "\n",
    "\n",
    "def draw_cannon(angle, speed):\n",
    "    s = empty_screen(100, 100)\n",
    "    x = 0\n",
    "    y = 0\n",
    "    t = 0.0\n",
    "    while x < 100 and y >= 0 and y < 100:\n",
    "        s[x][y] = color(red=255)\n",
    "        (x, y) = cannon(angle, speed, t)\n",
    "        x = int(x)\n",
    "        y = int(y)\n",
    "        t += 1.0/speed\n",
    "        plot_array(s)"
   ]
  },
  {
   "cell_type": "markdown",
   "metadata": {},
   "source": [
    "## Exercises"
   ]
  },
  {
   "cell_type": "markdown",
   "metadata": {},
   "source": [
    "Design a function that outputs an array of color values."
   ]
  },
  {
   "cell_type": "code",
   "execution_count": null,
   "metadata": {},
   "outputs": [],
   "source": [
    "def RGB(width, height, red, green, blue):\n"
   ]
  },
  {
   "cell_type": "markdown",
   "metadata": {},
   "source": [
    "Use the following to test your function:"
   ]
  },
  {
   "cell_type": "code",
   "execution_count": null,
   "metadata": {},
   "outputs": [],
   "source": [
    "# RED\n",
    "array_to_image(RGB(100, 100, 255, 0, 0))"
   ]
  },
  {
   "cell_type": "code",
   "execution_count": null,
   "metadata": {},
   "outputs": [],
   "source": [
    "# GREEN\n",
    "array_to_image(RGB(100, 100, 0, 255, 0))"
   ]
  },
  {
   "cell_type": "code",
   "execution_count": null,
   "metadata": {},
   "outputs": [],
   "source": [
    "# BLUE\n",
    "array_to_image(RGB(100, 100, 0, 0, 255))"
   ]
  },
  {
   "cell_type": "markdown",
   "metadata": {},
   "source": [
    "Now create another array (named screen) of size 100x100 that corresponds to your favorite color."
   ]
  },
  {
   "cell_type": "code",
   "execution_count": null,
   "metadata": {},
   "outputs": [],
   "source": [
    "screen = RGB()\n",
    "array_to_image(screen)"
   ]
  },
  {
   "cell_type": "markdown",
   "metadata": {},
   "source": [
    "We will add a white dot in the middle of the screen array."
   ]
  },
  {
   "cell_type": "code",
   "execution_count": null,
   "metadata": {},
   "outputs": [],
   "source": [
    "x = 50\n",
    "y = 50\n",
    "screen[x][y] = color(255, 255, 255)\n",
    "\n",
    "array_to_image(screen)"
   ]
  },
  {
   "cell_type": "markdown",
   "metadata": {},
   "source": [
    "Now we will create some buttons. \n",
    "\n",
    "The left button is created for you, create in a similar way a right, an up and a down button.\n",
    "\n",
    "Create functions, like the one below, to control the behaviour of the other buttons."
   ]
  },
  {
   "cell_type": "code",
   "execution_count": null,
   "metadata": {},
   "outputs": [],
   "source": [
    "left = widgets.Button(description='Left')\n",
    "right = widgets.Button(description='Right')\n",
    "up = widgets.Button(description='Up')\n",
    "down = widgets.Button(description='Down')\n",
    "\n",
    "items = [left, up, down, right]\n",
    "box = Box(children=items)\n",
    "\n",
    "# Left\n",
    "\n",
    "\n",
    "def leftB(button):\n",
    "    global x\n",
    "    global screen\n",
    "    #This is the part of the code you need to change for the other 3 buttons\n",
    "    if x > 0:\n",
    "        screen[x][y] = color(0, 0, 0)\n",
    "        x = x-1\n",
    "        screen[x][y] = color(255, 255, 255)\n",
    "    #Don't change the following\n",
    "    dsp.clear_output(wait=True)\n",
    "    display(box)\n",
    "    display(array_to_image(screen))\n",
    "\n",
    "\n",
    "left.on_click(leftB)"
   ]
  },
  {
   "cell_type": "markdown",
   "metadata": {},
   "source": [
    "We now have created an interactive way to control the white dot in our screen!\n",
    "\n",
    "This gives us a really simple drawing program!"
   ]
  },
  {
   "cell_type": "code",
   "execution_count": null,
   "metadata": {},
   "outputs": [],
   "source": [
    "box"
   ]
  },
  {
   "cell_type": "markdown",
   "metadata": {},
   "source": [
    "## Challenge: Passing Game"
   ]
  },
  {
   "cell_type": "markdown",
   "metadata": {},
   "source": [
    "Prepare a game for two players that will work as follows:\n",
    "\n",
    "Each player chooses a _position_, _angle_ and _speed_ for their football player.\n",
    "\n",
    "Then the two footballers pass the ball to each other. Add a point to a player if they pass the ball to the other player's footballer successfully.\n",
    "\n",
    "The next function is provided to help you begin working on the game! Take a few minuits to look at it and make sure you understund how everyting works."
   ]
  },
  {
   "cell_type": "code",
   "execution_count": null,
   "metadata": {},
   "outputs": [],
   "source": [
    "def passing_game(width=100, height=100, points1=0, points2=0):\n",
    "    # Input from the users\n",
    "    location1 = int(input(\"Player 1, enter your location: \"))\n",
    "    location2 = width - int(input(\"Player 2, enter your location: \"))\n",
    "    angle1 = int(input(\"Player 1, enter your angle: \"))\n",
    "    speed1 = int(input(\"Player 1, enter your speed: \"))\n",
    "    angle2 = 180-int(input(\"Player 2, enter your angle: \"))\n",
    "    speed2 = int(input(\"Player 2, enter your speed: \"))\n",
    "\n",
    "    # Function to draw the ball trajectories\n",
    "    draw_two_trajectories(angle1, speed1, location1, angle2,\n",
    "                          speed2, location2, width, height)\n",
    "\n",
    "    # Test if a pass is successful and allocate points\n",
    "    if will_it_hit(angle1, speed1, location2-location1):\n",
    "        points1 = points1 + 1\n",
    "        print(\"Player 1 has successfully passed the ball to Player 2!\")\n",
    "        print(\"Player 1 has \", points1, \" points!\")\n",
    "    if will_it_hit(180-angle2, speed2, location2-location1):\n",
    "        points2 = points2 + 1\n",
    "        print(\"Player 2 has successfully passed the ball to Player 1!\")\n",
    "        print(\"Player 2 has \", points2, \" points!\")\n",
    "\n",
    "    # Recursivly continue playing the game until you are bored\n",
    "    stop = str(input(\"Stop playing? Y/N \"))\n",
    "    if stop == \"Y\" or stop == \"y\":\n",
    "        if points1 > points2:\n",
    "            print(\"Player 1 won.\")\n",
    "        elif points1 < points2:\n",
    "            print(\"Player 2 won.\")\n",
    "        else:\n",
    "            print(\"It's a tie.\")\n",
    "        print(\"The final score is: \", points1, \"-\", points2)\n",
    "    else:\n",
    "        passing_game(width, height, points1, points2)"
   ]
  },
  {
   "cell_type": "markdown",
   "metadata": {},
   "source": [
    "#### Exercise 1:\n",
    "\n",
    "We will start by creating a function that draws the trajectories of the two passes.\n",
    "\n",
    "<i>You can learn from the draw_cannon function.</i>"
   ]
  },
  {
   "cell_type": "code",
   "execution_count": null,
   "metadata": {},
   "outputs": [],
   "source": [
    "def draw_two_trajectories(angle1, speed1, location1, angle2, speed2, location2, width, height):\n",
    "    \"\"\"\n",
    "    Draw in two colors the trajectory of two passes from these locations at the given widths and angles.\n",
    "    Use a screen of the given width and height\n",
    "    \"\"\"\n",
    "\n",
    "    "
   ]
  },
  {
   "cell_type": "markdown",
   "metadata": {},
   "source": [
    "Now test if your drawing function works with the given values:"
   ]
  },
  {
   "cell_type": "code",
   "execution_count": null,
   "metadata": {},
   "outputs": [],
   "source": [
    "draw_two_trajectories(80, 40, 1, 120, 30, 90, 100, 100)"
   ]
  },
  {
   "cell_type": "markdown",
   "metadata": {},
   "source": [
    "#### Exercise 2:\n",
    "\n",
    "Now we have to create a function that checks if a pass is successful."
   ]
  },
  {
   "cell_type": "code",
   "execution_count": null,
   "metadata": {},
   "outputs": [],
   "source": [
    "def will_it_hit(angle, speed, distance):\n",
    "    \"\"\"\n",
    "    Return True if a pass (with given speed and angle) will land back on the ground \n",
    "    within five units (-3/+3) from the given distance.\n",
    "    \"\"\"\n",
    "    "
   ]
  },
  {
   "cell_type": "markdown",
   "metadata": {},
   "source": [
    "Now it is time to play the game! "
   ]
  },
  {
   "cell_type": "code",
   "execution_count": null,
   "metadata": {},
   "outputs": [],
   "source": [
    "passing_game(width=100, height=100, points1=0, points2=0)"
   ]
  },
  {
   "cell_type": "markdown",
   "metadata": {},
   "source": [
    "__Bonus__: Modify your drawing function to handle the case the ball goes higher than the size of the screen, showing when it goes back down.\n",
    "\n",
    "To test if your game works use:"
   ]
  },
  {
   "cell_type": "code",
   "execution_count": null,
   "metadata": {},
   "outputs": [],
   "source": [
    "draw_two_trajectories(80, 46, 1, 120, 30, 90, 100, 100)"
   ]
  },
  {
   "cell_type": "markdown",
   "metadata": {},
   "source": [
    "Now that you are done with the exersises, feel free to add other features to this game to make it more interesting."
   ]
  }
 ],
 "metadata": {
  "kernelspec": {
   "display_name": "Python 3 (ipykernel)",
   "language": "python",
   "name": "python3"
  },
  "language_info": {
   "codemirror_mode": {
    "name": "ipython",
    "version": 3
   },
   "file_extension": ".py",
   "mimetype": "text/x-python",
   "name": "python",
   "nbconvert_exporter": "python",
   "pygments_lexer": "ipython3",
   "version": "3.9.7"
  }
 },
 "nbformat": 4,
 "nbformat_minor": 2
}
