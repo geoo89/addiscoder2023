{
 "cells": [
  {
   "cell_type": "markdown",
   "metadata": {},
   "source": [
    "# Week 3 Exercises 2a: Computational efficiency, more on sorting\n",
    "\n",
    "### Adopted from Addis Coder 2019 with slight modifications by Mukerem, Henok, and Hellina"
   ]
  },
  {
   "cell_type": "code",
   "execution_count": 5,
   "metadata": {},
   "outputs": [],
   "source": [
    "import numpy as np"
   ]
  },
  {
   "cell_type": "markdown",
   "metadata": {},
   "source": [
    "Find the time complexity of the following:"
   ]
  },
  {
   "cell_type": "markdown",
   "metadata": {},
   "source": [
    "### Q1\n",
    "```python\n",
    "a = 0\n",
    "\n",
    "for i in range(N):\n",
    "    a = a + i\n",
    "\n",
    "b = sum([i for i in range(M)])\n",
    "\n",
    "```"
   ]
  },
  {
   "cell_type": "raw",
   "metadata": {},
   "source": [
    "Write your answer here:\n"
   ]
  },
  {
   "cell_type": "markdown",
   "metadata": {},
   "source": [
    "### Q2\n",
    "```python\n",
    "a = 0\n",
    "for i in range(N): \n",
    "\tfor j in range(N):\n",
    "\t\ta += i + j \n",
    "\n",
    "```"
   ]
  },
  {
   "cell_type": "raw",
   "metadata": {},
   "source": [
    "Write your answer here:\n"
   ]
  },
  {
   "cell_type": "markdown",
   "metadata": {},
   "source": [
    "### Q3\n",
    "```python\n",
    "if a > b:\n",
    "    return True\n",
    "else:\n",
    "    return False\n",
    "```"
   ]
  },
  {
   "cell_type": "code",
   "execution_count": null,
   "metadata": {},
   "outputs": [],
   "source": [
    "Write your answer here:\n"
   ]
  },
  {
   "cell_type": "markdown",
   "metadata": {},
   "source": [
    "### Q4\n",
    "```python\n",
    "def binary_search(data, value):\n",
    "    n = len(data)\n",
    "    left = 0\n",
    "    right = n - 1\n",
    "    \n",
    "    while left <= right:\n",
    "            middle = (left + right) // 2\n",
    "            if value == data[middle]:\n",
    "                return middle\n",
    "            elif value < data[middle]:\n",
    "                right = middle - 1\n",
    "            else:\n",
    "                left = middle + 1\n",
    "\n",
    "```"
   ]
  },
  {
   "cell_type": "raw",
   "metadata": {},
   "source": [
    "Write your answer here:\n"
   ]
  },
  {
   "cell_type": "markdown",
   "metadata": {},
   "source": [
    "### Q5\n",
    "```python\n",
    "L = np.random.rand(100)\n",
    "for i in range(100):\n",
    "    print(\"My random number is: \", L[i])\n",
    "```"
   ]
  },
  {
   "cell_type": "code",
   "execution_count": null,
   "metadata": {},
   "outputs": [],
   "source": [
    "Write your answer here:\n"
   ]
  },
  {
   "cell_type": "markdown",
   "metadata": {},
   "source": [
    "### Q6\n",
    "```python\n",
    "L = [1, 2, 3, 4, 5]\n",
    "L[0] = L[0] + 1\n",
    "L[1] = L[1] + 2\n",
    "L[2] = L[2] + 3\n",
    "L[3] = L[3] + 4\n",
    "L[4] = L[4] + 5\n",
    "```"
   ]
  },
  {
   "cell_type": "code",
   "execution_count": null,
   "metadata": {},
   "outputs": [],
   "source": [
    "Write your answer here:\n"
   ]
  },
  {
   "cell_type": "markdown",
   "metadata": {},
   "source": [
    "### Q7\n",
    "\n",
    "```python\n",
    "def loop(K):\n",
    "    for i in range(k):\n",
    "        print(i)\n",
    "        \n",
    "for j in range(10):\n",
    "    loop(j)\n",
    "```"
   ]
  },
  {
   "cell_type": "code",
   "execution_count": null,
   "metadata": {},
   "outputs": [],
   "source": [
    "Write your answer here:\n"
   ]
  },
  {
   "cell_type": "markdown",
   "metadata": {},
   "source": [
    "### Q8\n",
    "```python\n",
    "L = np.ones((100, 100))\n",
    "for i in range(0, 100):\n",
    "    for j in range(0, 100):\n",
    "        L[i][j] = L[i][j] + i + j\n",
    "```"
   ]
  },
  {
   "cell_type": "code",
   "execution_count": null,
   "metadata": {},
   "outputs": [],
   "source": [
    "Write your answer here:\n"
   ]
  },
  {
   "cell_type": "markdown",
   "metadata": {},
   "source": [
    "### Q9\n",
    "```python\n",
    "for i in range(0, 20):\n",
    "    for j in range(i, 20):\n",
    "        print(\"*\", end=\"\")\n",
    "    print(\"\")\n",
    "```"
   ]
  },
  {
   "cell_type": "code",
   "execution_count": null,
   "metadata": {},
   "outputs": [],
   "source": [
    "Write your answer here:\n"
   ]
  },
  {
   "cell_type": "markdown",
   "metadata": {},
   "source": [
    "### Q10\n",
    "```python\n",
    "for i in range(20):\n",
    "    for j in range(i, 20):\n",
    "        for k in range(j, 20):\n",
    "            print(\"*\", end=\"\")\n",
    "        print(\"\")\n",
    "```"
   ]
  },
  {
   "cell_type": "code",
   "execution_count": null,
   "metadata": {},
   "outputs": [],
   "source": [
    "Write your answer here:\n"
   ]
  },
  {
   "cell_type": "markdown",
   "metadata": {},
   "source": [
    "## Q11\n",
    "Assume that each of the expressions below gives the processing time **T(n)** spent by an algorithm for solving a problem of size `n`. Select the dominant **term(s)** having the steepest increase in `n` and specify the lowest time\n",
    "complexity of each algorithm.\n"
   ]
  },
  {
   "cell_type": "markdown",
   "metadata": {},
   "source": [
    "### Q11.1\n",
    "\n",
    "#### O(5 + 0.001n<sup>3</sup> + 0.025n)"
   ]
  },
  {
   "cell_type": "raw",
   "metadata": {},
   "source": [
    "Write your answer here:\n"
   ]
  },
  {
   "cell_type": "markdown",
   "metadata": {},
   "source": [
    "### Q11.2\n",
    "\n",
    "#### O(100n + 0.01n<sup>2</sup>)"
   ]
  },
  {
   "cell_type": "markdown",
   "metadata": {},
   "source": [
    "## Challenge:\n",
    "\n",
    "### Q1\n",
    "\n",
    "```python\n",
    "def fibonacci(n):\n",
    "    if n <= 1:\n",
    "        return n\n",
    "    return fibonacci(n-1) + fibonacci(n-2)\n",
    "```\n",
    "\n",
    "Here is what the recursion tree for `n = 4`:\n",
    "![](fibonacci.png)\n",
    "\n",
    "What is the time complexity of the fibonnaci function for any given input?\n"
   ]
  },
  {
   "cell_type": "raw",
   "metadata": {},
   "source": [
    "Write your answer here:\n"
   ]
  },
  {
   "cell_type": "markdown",
   "metadata": {},
   "source": [
    "### Q2 Time vs Space\n",
    "\n",
    "Below are two methods that solve the same problem(finding how many times each number appears in a list of numbers).\n",
    "\n",
    "Check out the two provided methods and try to find the differences. What is the time complexity of each and how much memory does each one use?\n",
    "\n",
    "```python\n",
    "for i in range(100):\n",
    "    L[i] = int(np.random.rand()*50)\n",
    "    \n",
    "#Method 1\n",
    "for i in range(50):\n",
    "    count = 0\n",
    "    for j in range(100):\n",
    "        if(L[j] == i):\n",
    "            count = count + 1\n",
    "    print(count, end=\" \")\n",
    "\n",
    "#Method 2\n",
    "count = np.zeros(50)\n",
    "for i in range(100):\n",
    "    count[int(L[i])] = count[int(L[i])] + 1\n",
    "print(count)\n",
    "```"
   ]
  },
  {
   "cell_type": "raw",
   "metadata": {},
   "source": [
    "Write your answer here:\n",
    "Method 1: \n",
    "    Time:\n",
    "   Space:\n",
    "Method 2: \n",
    "    Time:\n",
    "   Space:"
   ]
  }
 ],
 "metadata": {
  "kernelspec": {
   "display_name": "Python 3 (ipykernel)",
   "language": "python",
   "name": "python3"
  },
  "language_info": {
   "codemirror_mode": {
    "name": "ipython",
    "version": 3
   },
   "file_extension": ".py",
   "mimetype": "text/x-python",
   "name": "python",
   "nbconvert_exporter": "python",
   "pygments_lexer": "ipython3",
   "version": "3.9.7"
  }
 },
 "nbformat": 4,
 "nbformat_minor": 2
}
