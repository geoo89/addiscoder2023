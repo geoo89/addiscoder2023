{
 "cells": [
  {
   "cell_type": "markdown",
   "metadata": {},
   "source": [
    "# Week 3 Lecture 1b : Exercises\n",
    "\n",
    "Edited by: Mukerem, Hellina, Henok <br>\n",
    "Reviewer: ..."
   ]
  },
  {
   "cell_type": "code",
   "execution_count": null,
   "metadata": {},
   "outputs": [],
   "source": [
    "#This function is for testing, do not modify\n",
    "def check(actual, expected):\n",
    "    if expected != actual:\n",
    "        print(f\"Function should return the value {expected}, it is returning the value {actual}\")\n",
    "    else:\n",
    "        print(f\"Congratulations, the test case passed!\")"
   ]
  },
  {
   "cell_type": "markdown",
   "metadata": {},
   "source": [
    "\n",
    "\n",
    "# 1. Insertion Sort"
   ]
  },
  {
   "cell_type": "markdown",
   "metadata": {},
   "source": [
    "## 1.1  \n",
    "The key challenge in implementing insertion sort is inserting elements from the original list `lst` int `new_lst` **while keeping `new_lst` sorted**; we'll need to manipulate `new_lst` using list slicing to insert each element into the correct position.\n",
    "\n",
    "So first, let's go back and recall list slicing and concatanating. If you're given the list  `L = [1, 2, 4]` and you want to insert the element `3` into the list such that `L` remains sorted, you can do\n",
    "> `L = L[0:2] + [3] + L[2:]` to get `L = [1,2,3,4]`.\n",
    "\n",
    "Why? Because `L[0:2] = [1,2]` and `L[2:] = [4]`. Therefore,\n",
    "`L[0:2] + [3] + L[2:]` is the same thing as `[1, 2] + [3] + [4]`.\n",
    "\n",
    "You're given the list  `L = [1, 2, 4, 5]`. Using slicing, insert the element `3` in the list such that `L` remains sorted."
   ]
  },
  {
   "cell_type": "code",
   "execution_count": null,
   "metadata": {},
   "outputs": [],
   "source": [
    "#Write your solution here"
   ]
  },
  {
   "cell_type": "code",
   "execution_count": null,
   "metadata": {},
   "outputs": [],
   "source": [
    "# TEST_CASE\n",
    "check(L, [1, 2, 3, 4, 5])"
   ]
  },
  {
   "cell_type": "markdown",
   "metadata": {},
   "source": [
    "## 1.2 \n",
    "When we use `insertion sort`, we need to find the list of elements that are less than the element we are trying to insert so that we can insert the element right after the elements that are less than it and add the rest of the elements after we add the new element. (Similar to what we did in 1.1) Get all the elements that are less than the numbers we are trying to insert, add the number and add the rest of elements.\n",
    "\n",
    "</br>\n",
    "\n",
    "Write a function `less(L, k)` that takes a sorted list `L` and returns a list of all the elements of `L` that are less than `k`.\n",
    "\n",
    "For example, given a list `[1, 4, 7, 9, 10]` and `k = 8`, the function would return the list `[1, 4, 7]`."
   ]
  },
  {
   "cell_type": "code",
   "execution_count": null,
   "metadata": {},
   "outputs": [],
   "source": [
    "def less(L, k):\n",
    "    \"\"\"Returns a list of elements from L that are less than k.\n",
    "    Arguments:\n",
    "        L (list of ints)\n",
    "        k (int): An integer\n",
    "    Returns: (sorted list of ints)\n",
    "    Effects: None.\n",
    "    \"\"\"\n",
    "    #Write your solution here\n",
    "    return\n",
    "    \n",
    "    "
   ]
  },
  {
   "cell_type": "code",
   "execution_count": null,
   "metadata": {},
   "outputs": [],
   "source": [
    "# TEST_CASE\n",
    "L = [1, 4, 7, 9, 10, 13, 15]\n",
    "\n",
    "k = 12\n",
    "check(less(L, k), [1, 4, 7, 9, 10])\n",
    "\n",
    "k = 0\n",
    "check(less(L, k), [])\n",
    "\n",
    "k = 16\n",
    "check(less(L, k), [1, 4, 7, 9, 10, 13, 15])"
   ]
  },
  {
   "cell_type": "markdown",
   "metadata": {},
   "source": [
    "## 1.3 \n",
    "\n",
    "Let's write a funtion that is similar to the one that we wrote in 1.2, but here we will return the index of the largest element that is less than k.\n",
    "\n",
    "If we have a list, L = [1,2,5,7,9,13] and k = 10, the largest element that is less than 10 from the list L is 9, and the function should return the index of 9 that is 4.\n",
    "\n",
    "If all the elements in L are greater than k, the function should return -1.\n",
    "\n",
    "Now, write a function `find_position(L, k)` that finds the position of the greatest item in `L` that is less that `k` : <br/>\n",
    "For example : <br/>\n",
    ">`find_position([1, 2, 4, 5], 3)` should return `1` because `2` is the greatest item less than `3` and is in position `1`.<br/>\n",
    ">`find_position([9, 10, 11, 13, 14], 12)` should return `2`."
   ]
  },
  {
   "cell_type": "code",
   "execution_count": null,
   "metadata": {},
   "outputs": [],
   "source": [
    "def find_position(L, k):\n",
    "    \"\"\"Returns the index of the greatest number that is less than k.\n",
    "    Arguments:\n",
    "        L (sorted list of ints)\n",
    "        k (int)\n",
    "    Returns: (int)\n",
    "    Effects: None.\n",
    "    \"\"\"\n",
    "    # Write your solution here\n",
    "    return\n",
    "    "
   ]
  },
  {
   "cell_type": "code",
   "execution_count": null,
   "metadata": {},
   "outputs": [],
   "source": [
    "# TEST_CASE\n",
    "L = [1, 2, 4, 5]\n",
    "k = 3\n",
    "check(find_position(L, k), 1)\n",
    "\n",
    "L = [9, 10, 11, 13, 14]\n",
    "k = 12\n",
    "check(find_position(L, k), 2)\n",
    "\n",
    "L = [9, 10, 11, 13, 14]\n",
    "k = 8\n",
    "check(find_position(L, k), -1)\n",
    "\n",
    "L = [9, 10, 11, 13, 14]\n",
    "k = 15\n",
    "check(find_position(L, k), 4)"
   ]
  },
  {
   "cell_type": "markdown",
   "metadata": {},
   "source": [
    "## 1.4 \n",
    "\n",
    "Using `find_position(L, k)`, write a function `insert(L, k)` that inserts `k` into a sorted list `L` so that the list stays sorted. (Hint: what does find_position return?)\n",
    "\n",
    "As input the function takes `k`, the element to insert and `L`, the sorted list to insert `k` into.\n",
    "\n",
    "For example:\n",
    "``` \n",
    "insert([4,6,8,9], 5)\n",
    "  - Needs to find the position of the largest element that is less than 5(find_position)\n",
    "  - Then insert 5 next to the largest element that is less than 5(which is 4)\n",
    "  - Therefore the output should look like [4,5,6,8,9] \n",
    "insert([2,5,6,9,10,34], 8)(Think about the output of this one)\n",
    "```"
   ]
  },
  {
   "cell_type": "code",
   "execution_count": null,
   "metadata": {},
   "outputs": [],
   "source": [
    "def insert(L, k):\n",
    "    \"\"\"Inserts k at the right position in L where L remains sorted.\n",
    "    Arguments:\n",
    "        L (sorted list of ints)\n",
    "        k (int)\n",
    "    Returns: (sorted list of ints)\n",
    "    Effects: Updates the List L.\n",
    "    \"\"\"\n",
    "    #Write your solution here\n",
    "    return\n",
    "    \n",
    "    \n",
    "    "
   ]
  },
  {
   "cell_type": "code",
   "execution_count": null,
   "metadata": {},
   "outputs": [],
   "source": [
    "# TEST_CASE\n",
    "L = [4, 6, 8, 9]\n",
    "k = 5\n",
    "check(insert([4, 6, 8, 9], 5), [4, 5, 6, 8, 9])\n",
    "\n",
    "L = [2, 5, 6, 9, 10, 34]\n",
    "k = 35\n",
    "check(insert(L, k), [2, 5, 6, 9, 10, 34, 35])\n",
    "\n",
    "L = [2, 5, 6, 9, 10, 34]\n",
    "k = 1\n",
    "check(insert(L, k), [1, 2, 5, 6, 9, 10, 34])"
   ]
  },
  {
   "cell_type": "markdown",
   "metadata": {},
   "source": [
    "## 1.5\n",
    "\n",
    "Write a function `insertion_sort(L)` that takes a list `L` and inserts elements of `L` in a new list using `insert(L, k)`. <br/>\n",
    "\n",
    "Here is how the function should work : <br/>\n",
    "`L = [ 8, 5, 7, 1, 9, 3]`  and `new_list = [] `<br/>\n",
    "`L = [ 5, 7, 1, 9, 3]`  and `new_list = [8] `<br/>\n",
    "`L = [ 7, 1, 9, 3]`  and `new_list = [5, 8] `<br/>\n",
    "`L = [ 1, 9, 3]`  and `new_list = [5, 7, 8] `<br/>\n",
    "`L = [ 9, 3]`  and `new_list = [1, 5, 7, 8] `<br/>\n",
    "`L = [ 3]`  and `new_list = [1, 5, 7, 8, 9] `<br/>\n",
    "`L = [ ]`  and `new_list = [1, 3, 5, 7, 8, 9] `<br/>\n",
    "\n",
    "![](insertion_sort.png)\n"
   ]
  },
  {
   "cell_type": "code",
   "execution_count": null,
   "metadata": {},
   "outputs": [],
   "source": [
    "def insertion_sort(L):\n",
    "    \"\"\"Sorts L using insertion sort algorithm.\n",
    "    Arguments: L (list of ints)\n",
    "    Returns: (list of ints)\n",
    "    Effects: Sorts the list\n",
    "    \"\"\"\n",
    "    #Write your solution here\n",
    "    return\n",
    "    \n",
    "    \n",
    "    \n",
    "    "
   ]
  },
  {
   "cell_type": "code",
   "execution_count": null,
   "metadata": {},
   "outputs": [],
   "source": [
    "# TEST_CASE\n",
    "L = [1, 4, 5, 3, 2, 7, 0]\n",
    "check(insertion_sort(L), [0, 1, 2, 3, 4, 5, 7])\n",
    "\n",
    "L = [1, 4, 5, 3, 2, 0, 7]\n",
    "check(insertion_sort(L), [0, 1, 2, 3, 4, 5, 7])\n",
    "\n",
    "L = [5, 6, 11, 12, 13]\n",
    "check(insertion_sort(L), [5, 6, 11, 12, 13])\n",
    "\n",
    "L = [12, 11, 13, 5, 6]\n",
    "check(insertion_sort(L), [5, 6, 11, 12, 13])"
   ]
  },
  {
   "cell_type": "markdown",
   "metadata": {},
   "source": [
    "# 2. Selection Sort\n",
    "\n",
    "\n",
    "**Selection Sort** works by finding the minimun element from the list `L` and swaping it with the first element.\n",
    "\n",
    "\n",
    "\n",
    "1.   Find the smallest element from the list\n",
    "2.   Swap it with the element at `index 0`\n",
    "3.   Find the second smallest element and swap it with the element at `index 1`.\n",
    "4.   Repeat until list is sorted.\n",
    "\n",
    "For example, \n",
    "\n",
    "`L = [8, 5, 7, 1, 9, 3]` <br/>\n",
    "`L = [1, 5, 7, 8, 9, 3]` #Swapped 8 and 1 <br/>\n",
    "`L = [1, 3, 7, 8, 9, 5]` #Swapped 5 and 3 <br/>\n",
    "`L = [1, 3, 5, 8, 9, 7]` #Swapped 7 and 5 <br/>\n",
    "`L = [1, 3, 5, 7, 9, 8]` #Swapped 8 and 7 <br/>\n",
    "`L = [1, 3, 5, 7, 8, 9]` #Swapped 8 and 9 <br/>\n",
    "\n",
    "## 2.1\n",
    "\n",
    "Write a function `min_index(L)` that takes a list `L` and returns the position of the smallest integer in `L`. Hint: you should use a `for` loop!\n",
    "\n",
    "For example, in the list `[66, 94, 71, 53]` the result would be `3` since the smallest integer is `53`."
   ]
  },
  {
   "cell_type": "code",
   "execution_count": null,
   "metadata": {
    "scrolled": true
   },
   "outputs": [],
   "source": [
    "def min_index(L):\n",
    "    \"\"\"Returns the index of the smallest element in L.\n",
    "    Arguments: L (list of ints)\n",
    "    Returns: (int)\n",
    "    Effects: None\n",
    "    \"\"\"\n",
    "    # Write your solution here\n",
    "    return\n",
    "    \n",
    "club_points_list = [66, 67, 71, 94, 95, 70, 53, 98, 96, 101, 88, 78]\n",
    "\n",
    "print(min_index(club_points_list) == 6)"
   ]
  },
  {
   "cell_type": "code",
   "execution_count": null,
   "metadata": {},
   "outputs": [],
   "source": [
    "# TEST_CASE\n",
    "\n",
    "L = [2, 5, 98, 1, 0, 67]\n",
    "check(min_index(L), 4)\n",
    "\n",
    "M = [3, 6, 1, 0, 7, 9]\n",
    "check(min_index(M), 3)"
   ]
  },
  {
   "cell_type": "markdown",
   "metadata": {},
   "source": [
    "## 2.2\n",
    "\n",
    "Write a function, using a for loop, `selection_sort(L)` that takes a list `L` and sorts elements of `L` using selection sort. <br/>\n",
    "\n",
    "Hint use: the `min_index(L)` function you defined above\n",
    "Your code should work like this:\n",
    "\n",
    "\n",
    "1.   Find the index of the smallest element from the list\n",
    "2.   Swap it with the `0th` element\n",
    "3.   Then find the smallest element from the same list but without the first element (because it is the smallest and we want it right there)"
   ]
  },
  {
   "cell_type": "code",
   "execution_count": null,
   "metadata": {},
   "outputs": [],
   "source": [
    "def selection_sort(L):\n",
    "    \"\"\"Sorts L using selection sort algorithm (watch video).\n",
    "    Arguments:\n",
    "        L (list of ints)\n",
    "    Returns: (list of ints)\n",
    "    Effects: Sorts the list\n",
    "    \"\"\"\n",
    "    #Write Your Code Here\n",
    "    return"
   ]
  },
  {
   "cell_type": "markdown",
   "metadata": {},
   "source": [
    "```python\n",
    "\n",
    "```\n",
    "\n",
    "\n",
    "![](selection_sort.png)"
   ]
  },
  {
   "cell_type": "markdown",
   "metadata": {},
   "source": [
    "## 2.3 \n",
    "\n",
    "Write a **recursive** function of selection sort called `selection_sort_rec(L)`. \n",
    "\n",
    "Hint: you should use the function `min_index(L)` from 2.1.\n",
    "\n",
    "For example, if you have an array `[1, 3, 0, 2, 9]` the output of the recursive sort function should be `[0, 1, 2, 3, 9]`"
   ]
  },
  {
   "cell_type": "code",
   "execution_count": null,
   "metadata": {},
   "outputs": [],
   "source": [
    "def selection_sort_rec(L):\n",
    "    \"\"\"Sorts L using selection sort algorithm(watch video).\n",
    "    Arguments:\n",
    "        L (list of ints)\n",
    "    Returns: (sorted list of ints) \n",
    "    Effects: Sorts the list\n",
    "    \"\"\"\n",
    "    #Write your solution here\n",
    "    return\n",
    "    "
   ]
  },
  {
   "cell_type": "code",
   "execution_count": null,
   "metadata": {},
   "outputs": [],
   "source": [
    "# TEST_CASE\n",
    "\n",
    "L = [1, 54, 6, 7, 90, 0, 20]\n",
    "expected = [0, 1, 6, 7, 20, 54, 90]\n",
    "\n",
    "check(selection_sort_rec(L), expected)\n",
    "\n",
    "L = [2, 5, 3, 0, 91, 73, 56, 2, 93, 10, 10]\n",
    "expected = [0, 2, 2, 3, 5, 10, 10, 56, 73, 91, 93]\n",
    "check(selection_sort_rec(L), expected)\n",
    "\n",
    "L = [9, 5, 4, 9]\n",
    "expected = [4, 5, 9, 9]\n",
    "check(selection_sort_rec(L), expected)"
   ]
  },
  {
   "cell_type": "markdown",
   "metadata": {},
   "source": [
    "# 3. Median Finding\n",
    "\n",
    "The **median** element of a list `L` is the element that is the element whose value is \"right in the middle\" of the list; which means it is smaller or equal to half of the elements in `L`. <br/>\n",
    "\n",
    "For example, <br/>\n",
    "The median of `[1, 2, 4, 5, 6]` is `4`. <br/>\n",
    "The median of `[7, 5, 4, 1, 3, 2, 4, 9, 9, 7]` is `5`. <br/>\n",
    "\n",
    "Write a function `median(L)` that takes a list `L` and returns the median of the list `L`.\n",
    "Hint : The list `L` is not sorted. You need to use your sort function from 2.3 (`selection_sort_rec`)"
   ]
  },
  {
   "cell_type": "code",
   "execution_count": null,
   "metadata": {},
   "outputs": [],
   "source": [
    "def median(L):\n",
    "    \"\"\"Find the median in list L.\n",
    "    Arguments: L (list of ints)\n",
    "    Returns: (int)\n",
    "    Effects: None\n",
    "    \"\"\"\n",
    "    #Write your solution here\n",
    "    return "
   ]
  },
  {
   "cell_type": "code",
   "execution_count": null,
   "metadata": {},
   "outputs": [],
   "source": [
    "#TEST_CASE\n",
    "L=[7, 5, 4, 1, 3, 2, 4, 9, 9, 7]\n",
    "check(median(L), 5)\n",
    "\n",
    "M=[4, 6, 78, 90, 12, 43, 9]\n",
    "check(median(M), 12)"
   ]
  },
  {
   "cell_type": "markdown",
   "metadata": {},
   "source": [
    "# 4. Sorting points (optional)\n",
    "\n",
    "We want to sort a list of points (x, y) in a plane. For example `L = [[2, 3], [4, 5], [6, 3], [4, 0]]`.\n",
    "\n",
    "We define the order of the points as `[a, b] < [c, d]` if `a+b < c+d`. In other words, a point is smaller than an other point if the sum of x + y is smaller. \n",
    "\n",
    "So according to this ordering, the list `[[4, 0], [2, 3], [6, 3], [4, 5]]` is a sorted one. <br/>\n",
    "\n",
    "Modify the function `min_index(L)` from 2.1 so that `selection_sort_rec` from 2.3 works for sorting points."
   ]
  },
  {
   "cell_type": "code",
   "execution_count": null,
   "metadata": {},
   "outputs": [],
   "source": [
    "def sort_points(L):\n",
    "    \"\"\"Sorts L.\n",
    "    Arguments:\n",
    "        L (list): A list that contains points([x, y] coordinates).\n",
    "    Returns: (list) the sorted list.\n",
    "    Effects: Sorts the list\n",
    "    \"\"\"\n",
    "    #Write your solution here\n",
    "    return"
   ]
  },
  {
   "cell_type": "code",
   "execution_count": null,
   "metadata": {},
   "outputs": [],
   "source": [
    "# TEST_CASE\n",
    "L = [[2, 3], [4, 5], [6, 3], [4, 0]]\n",
    "expected = [[4, 0], [2, 3], [6, 3], [4, 5]]\n",
    "check(sort_points(L), expected)\n",
    "\n",
    "\n",
    "L = [[0, 3], [3, 0], [2, 1], [1, 2]]\n",
    "expected = [[0, 3], [3, 0], [2, 1], [1, 2]]\n",
    "check(sort_points(L), expected)"
   ]
  }
 ],
 "metadata": {
  "kernelspec": {
   "display_name": "Python 3",
   "language": "python",
   "name": "python3"
  },
  "language_info": {
   "codemirror_mode": {
    "name": "ipython",
    "version": 3
   },
   "file_extension": ".py",
   "mimetype": "text/x-python",
   "name": "python",
   "nbconvert_exporter": "python",
   "pygments_lexer": "ipython3",
   "version": "3.7.3"
  }
 },
 "nbformat": 4,
 "nbformat_minor": 2
}
