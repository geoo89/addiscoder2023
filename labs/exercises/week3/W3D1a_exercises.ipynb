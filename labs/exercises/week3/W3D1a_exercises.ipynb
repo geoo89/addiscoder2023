{
 "cells": [
  {
   "cell_type": "markdown",
   "metadata": {},
   "source": [
    "# Week 3 Lecture 1a : Exercises\n",
    " \n",
    "Adopted from AddisCoder'2019 with modifications by Hellina, Henok, and Mukerem.\n",
    "\n",
    "Imagine you are the TA for Addis Coder 2030. You are looking at the results of the top 7 students in your lab so you can give them prizes. Their names are \"Bontu\", \"Menbere\", \"Akayou\", \"Yeabsira\", \"Yared\", \"Hanna\", and \"Alex\".\n",
    "\n",
    "The clubs have the following points in the league:\n",
    "\n",
    "| Student Name        |   Points |\n",
    "| -------------       |:--------:|\n",
    "| Bontu               |  66      |\n",
    "| Menbere             |  67      |\n",
    "| Akayou              |  71      |   \n",
    "| Yeabsira            |  94      | \n",
    "| Yared               |  95      |\n",
    "| Hanna               |  70      |\n",
    "| Alex                |  55      |"
   ]
  },
  {
   "cell_type": "code",
   "execution_count": 7,
   "metadata": {},
   "outputs": [],
   "source": [
    "#This function is for testing, do not modify\n",
    "def check(actual, expected):\n",
    "    if expected != actual:\n",
    "        print(f\"Function should return the value {expected}, it is returning the value {actual}\")\n",
    "    else:\n",
    "        print(f\"Congratulations, the test case passed!\")"
   ]
  },
  {
   "cell_type": "code",
   "execution_count": 7,
   "metadata": {},
   "outputs": [],
   "source": [
    "#This function is for testing, do not modify\n",
    "def check_multiple(actual, expected):\n",
    "    if actual not in expected:\n",
    "        print(f\"Function should return one of the values in the list {expected}, it is returning the value {actual}\")\n",
    "    else:\n",
    "        print(f\"Congratulations, the test case passed!\")"
   ]
  },
  {
   "cell_type": "markdown",
   "metadata": {},
   "source": [
    "# 1. List review\n",
    "\n",
    "### 1.1\n",
    "\n",
    "Create a list called `student_grades` that contains 5 integers from 0 to 100."
   ]
  },
  {
   "cell_type": "code",
   "execution_count": null,
   "metadata": {},
   "outputs": [],
   "source": [
    "# Write your solution here"
   ]
  },
  {
   "cell_type": "markdown",
   "metadata": {},
   "source": [
    "## 1.2\n",
    "\n",
    "Print every element in that list (`student_grades`) using a `for` loop."
   ]
  },
  {
   "cell_type": "code",
   "execution_count": null,
   "metadata": {},
   "outputs": [],
   "source": [
    "#Write your answer here"
   ]
  },
  {
   "cell_type": "markdown",
   "metadata": {},
   "source": [
    "## 1.3"
   ]
  },
  {
   "cell_type": "markdown",
   "metadata": {},
   "source": [
    "The function `maximum(L)` finds the minimum element in a list `L` :\n",
    "```python\n",
    "def maximum(L):\n",
    "    max_so_far = L[0]\n",
    "    for element in L:\n",
    "        if element > max_so_far :\n",
    "            max_so_far = element     \n",
    "    return max_so_far\n",
    "```"
   ]
  },
  {
   "cell_type": "markdown",
   "metadata": {},
   "source": [
    "Write a non recursive function `minimum(L)` that takes a list of integers `L` and returns the smallest integer in that list."
   ]
  },
  {
   "cell_type": "code",
   "execution_count": 1,
   "metadata": {},
   "outputs": [],
   "source": [
    "def minimum(L):\n",
    "    #Write your solution here\n",
    "    return"
   ]
  },
  {
   "cell_type": "code",
   "execution_count": null,
   "metadata": {},
   "outputs": [],
   "source": [
    "# TEST_CASE\n",
    "L = [23, 45, 56, 88, 19, 10]\n",
    "check(minimum(L), 10)\n",
    "\n",
    "L = [0, 12, 44, 5, 6, 7]\n",
    "check(minimum(L), 0)"
   ]
  },
  {
   "cell_type": "markdown",
   "metadata": {},
   "source": [
    "## 1.4"
   ]
  },
  {
   "cell_type": "markdown",
   "metadata": {},
   "source": [
    "Let's write a **recursive** function `recursive_max(L)` that takes a list of integers `L` and returns the largest integer in that list."
   ]
  },
  {
   "cell_type": "code",
   "execution_count": null,
   "metadata": {},
   "outputs": [],
   "source": [
    "def recursive_max(L):\n",
    "    # Write your solution here\n",
    "    return"
   ]
  },
  {
   "cell_type": "code",
   "execution_count": null,
   "metadata": {},
   "outputs": [],
   "source": [
    "# TEST_CASE\n",
    "L = [23, 45, 56, 88, 19, 10]\n",
    "check(recursive_max(L), 88)\n",
    "\n",
    "\n",
    "L = [0, 12, 44, 5, 6, 7]\n",
    "check(recursive_max(L), 44)"
   ]
  },
  {
   "cell_type": "markdown",
   "metadata": {},
   "source": [
    "## 1.4 "
   ]
  },
  {
   "cell_type": "markdown",
   "metadata": {},
   "source": [
    "Write a function called `average(L)` that returns the average of numbers in a given list."
   ]
  },
  {
   "cell_type": "code",
   "execution_count": 2,
   "metadata": {},
   "outputs": [],
   "source": [
    "def average(L):\n",
    "    #Write your function here.\n",
    "    return"
   ]
  },
  {
   "cell_type": "code",
   "execution_count": 3,
   "metadata": {},
   "outputs": [],
   "source": [
    "L=[66,67,71,94,95,70,55]\n",
    "check(average(L), 74)"
   ]
  },
  {
   "cell_type": "markdown",
   "metadata": {},
   "source": [
    "# 2. Classic binary search"
   ]
  },
  {
   "cell_type": "markdown",
   "metadata": {},
   "source": [
    "The code below can be used to play the _Guess The Number_ game. Let's say you have a number x and you want your friend to guess it. They make a guess and then you tell them if your number is less, greater or equal to their guess.\n",
    "\n",
    "Try playing the game by running the code below using different inputs. "
   ]
  },
  {
   "cell_type": "code",
   "execution_count": null,
   "metadata": {},
   "outputs": [],
   "source": [
    "# This code returns the number of guesses made\n",
    "def guess(x, left, right):\n",
    "\n",
    "    if x > right or x < left:\n",
    "        print(\"Invalid number!\")\n",
    "        return -1\n",
    "\n",
    "    mid = (left+right)//2\n",
    "\n",
    "    print(\"My guess is:\", mid)\n",
    "\n",
    "    if mid == x:\n",
    "        print(\"Exactly!\\n\")\n",
    "        return 1\n",
    "\n",
    "    if mid > x:\n",
    "        print(\"But that is too big!\\n\")\n",
    "        return 1 + guess(x, left, mid-1)\n",
    "\n",
    "    if mid < x:\n",
    "        print(\"But that is too small!\\n\")\n",
    "        return 1 + guess(x, mid+1, right)\n",
    "\n",
    "\n",
    "print(guess(56, 1, 100))"
   ]
  },
  {
   "cell_type": "markdown",
   "metadata": {},
   "source": [
    "## 2.1 "
   ]
  },
  {
   "cell_type": "markdown",
   "metadata": {},
   "source": [
    "What are the **left** and **right** values for each of the 4 guesses made in  `guess(56,1,100)` ?"
   ]
  },
  {
   "cell_type": "raw",
   "metadata": {},
   "source": [
    "Type your answer here:\n"
   ]
  },
  {
   "cell_type": "markdown",
   "metadata": {},
   "source": [
    "## 2.2 "
   ]
  },
  {
   "cell_type": "markdown",
   "metadata": {},
   "source": [
    "What are the **left** and **right** values for each of the guesses made in  `guess(1,1,100)` ?"
   ]
  },
  {
   "cell_type": "raw",
   "metadata": {},
   "source": [
    "Type your answer here:\n"
   ]
  },
  {
   "cell_type": "markdown",
   "metadata": {},
   "source": [
    "## 2.3"
   ]
  },
  {
   "cell_type": "markdown",
   "metadata": {},
   "source": [
    "How many guesses does it take to find the number `guess(40, 1, 100)`?"
   ]
  },
  {
   "cell_type": "raw",
   "metadata": {},
   "source": [
    "Type your answer here:"
   ]
  },
  {
   "cell_type": "markdown",
   "metadata": {},
   "source": [
    "# 3. Iterative Binary Search\n",
    "\n",
    "Here is an implementation of binary search using a `while` loop. Run this cell before continuing:"
   ]
  },
  {
   "cell_type": "code",
   "execution_count": 4,
   "metadata": {},
   "outputs": [
    {
     "name": "stdout",
     "output_type": "stream",
     "text": [
      "Number of guesses: 3\n",
      "Your number is: 4\n"
     ]
    },
    {
     "data": {
      "text/plain": [
       "3"
      ]
     },
     "execution_count": 4,
     "metadata": {},
     "output_type": "execute_result"
    }
   ],
   "source": [
    "def binarySearch(a, x):\n",
    "    computer_num = 3\n",
    "    cnt = 0\n",
    "    left = 0\n",
    "    right = len(a) - 1 \n",
    "\n",
    "    while left <= right:\n",
    "\n",
    "        mid = (left+right)//2\n",
    "\n",
    "        cnt += 1\n",
    "\n",
    "        if a[mid] == x:\n",
    "            break\n",
    "\n",
    "        if a[mid] > x:\n",
    "            right = mid - 1\n",
    "\n",
    "        else:\n",
    "            left = mid + 1\n",
    "\n",
    "    print(\"Number of guesses:\", cnt)\n",
    "    print(\"Your number is:\", a[mid])\n",
    "    return cnt\n",
    "\n",
    "\n",
    "binarySearch([1, 2, 4, 6, 7, 10], 4)"
   ]
  },
  {
   "cell_type": "markdown",
   "metadata": {},
   "source": [
    "## 3.1"
   ]
  },
  {
   "cell_type": "markdown",
   "metadata": {},
   "source": [
    "Given the array `[-14,0,12,21,44]` if we are searching for `21` what values of the array are compared to `21` from the array while searching? In the function `binarySearch` above, print the values of the comapred numbers. "
   ]
  },
  {
   "cell_type": "raw",
   "metadata": {},
   "source": [
    "Type your answer here:\n"
   ]
  },
  {
   "cell_type": "markdown",
   "metadata": {},
   "source": [
    "## 3.2 \n",
    "What are the values of  **left**  and  **right**  for `binarySearch([-15, -3, 0, 35, 40, 55], 35)`?"
   ]
  },
  {
   "cell_type": "raw",
   "metadata": {},
   "source": [
    "Type your answer here:"
   ]
  },
  {
   "cell_type": "markdown",
   "metadata": {},
   "source": [
    "## 3.3\n",
    "\n",
    "What will happen if we run `binarySearch([1, 9, 8, -1, 4, 11], 4)`? Why does this not work? How would you fix it?"
   ]
  },
  {
   "cell_type": "raw",
   "metadata": {},
   "source": [
    "Type your answer here:"
   ]
  },
  {
   "cell_type": "markdown",
   "metadata": {},
   "source": [
    "## 3.4"
   ]
  },
  {
   "cell_type": "markdown",
   "metadata": {},
   "source": [
    "If you have a sorted array with `20` numbers, what is the `maximum` (worst case) number of comparisons you have to do to find a given number in a binary search?"
   ]
  },
  {
   "cell_type": "raw",
   "metadata": {},
   "source": [
    "Type your answer here:"
   ]
  },
  {
   "cell_type": "markdown",
   "metadata": {},
   "source": [
    "## 3.5"
   ]
  },
  {
   "cell_type": "markdown",
   "metadata": {},
   "source": [
    "The above function only works if the number you are searching for is in the array. How would you fix it to work when you are searching for a number that is not in the array?"
   ]
  },
  {
   "cell_type": "raw",
   "metadata": {},
   "source": [
    "Type your answer here:"
   ]
  },
  {
   "cell_type": "markdown",
   "metadata": {},
   "source": [
    "# 4."
   ]
  },
  {
   "cell_type": "markdown",
   "metadata": {},
   "source": [
    "Given a sorted list of strings `L`, and an element in the list `t`,  write a function called `findInd(L, t)` that uses binary search to determine the index of `t` in `L`.\n",
    "\n",
    "```findInd(['ape', 'bubble', 'candy', 'tape', 'yellow', 'zebra'], 'tape') == 3```\n",
    "\n",
    "```findInd(['ape', 'bubble', 'candy', 'tape', 'yellow', 'zebra'], 'zebra') == 5```\n",
    "\n",
    "```findInd(['ape', 'bubble', 'candy', 'tape', 'yellow', 'zebra'], 'ape') == 0```"
   ]
  },
  {
   "cell_type": "code",
   "execution_count": null,
   "metadata": {},
   "outputs": [],
   "source": [
    "def findInd(L, t):\n",
    "    # Complete the function here!\n",
    "    return"
   ]
  },
  {
   "cell_type": "code",
   "execution_count": null,
   "metadata": {},
   "outputs": [],
   "source": [
    "# TEST_CASE\n",
    "L = ['ape', 'bubble', 'candy', 'tape', 'yellow', 'zebra']\n",
    "check(findInd(L, 'tape'), 3)\n",
    "check(findInd(L, 'zebra'), 5)\n",
    "check(findInd(L, 'ape'), 0)"
   ]
  },
  {
   "cell_type": "markdown",
   "metadata": {},
   "source": [
    "# 5. Search and binary search "
   ]
  },
  {
   "cell_type": "markdown",
   "metadata": {},
   "source": [
    "We saw the function `find` in lecture to find an element `s` in a list `L`"
   ]
  },
  {
   "cell_type": "code",
   "execution_count": null,
   "metadata": {},
   "outputs": [],
   "source": [
    "def find(L, s):\n",
    "    for i in range(len(L)):\n",
    "        if L[i] == s:\n",
    "            return i\n",
    "    return -1\n",
    "\n",
    "\n",
    "find([2, 17, 3, 4], 3)"
   ]
  },
  {
   "cell_type": "markdown",
   "metadata": {},
   "source": [
    "## 5.1\n",
    "\n",
    "\n",
    "We have seen string comparisons before. String comparisons follow certain rules. For example, `'a < b', 'aa' < 'ab'` and `'a' < 'ab'`.\n",
    "\n",
    "Write a function `findsmaller` that on input a list `L` and an element `P`, outputs position `i` so that `L[i] <= P` if there is such an `i`, and otherwise outputs `-1`. If there is more than one such `i`,  the function can return any one of them.\n",
    "\n",
    "For example, in the list `[\"Manchester United\", \"Arsenal\", \"Chelsea\", \"Everton\"]` where `P` is `Chelsea`, when walking through the list `Arsenal` is less than `Chelsea` and is one possible solution (position is 1).\n",
    "The other possible solution is the position 2, which has the value `Chelsea` which is equal to `Chelsea`."
   ]
  },
  {
   "cell_type": "code",
   "execution_count": null,
   "metadata": {},
   "outputs": [],
   "source": [
    "def findsmaller(L, P):\n",
    "    # Write your solution here\n",
    "    return"
   ]
  },
  {
   "cell_type": "code",
   "execution_count": null,
   "metadata": {},
   "outputs": [],
   "source": [
    "# TEST_CASE\n",
    "L = [\"Manchester United\", \"Arsenal\", \"Chelsea\", \"Everton\"]\n",
    "check_multiple(findsmaller(L, \"Chelsea\"), [1,2]) \n",
    "\n",
    "L = [\"Manchester United\", \"Liverpool\", \"Chelsea\", \"Everton\"]\n",
    "check_multiple(findsmaller(L, \"Arsenal\"), [-1])"
   ]
  },
  {
   "cell_type": "markdown",
   "metadata": {},
   "source": [
    "## 5.2\n",
    "\n",
    "Write a function `find_nearest_smaller` that on input a list `L` and an element `P` outputs the largest position `i` such that `P >= L[i]`. The function should output `-1` if every element of `L` is larger than `P`.\n",
    "\n",
    "For example, if we have a list `[\"Manchester United\", \"Arsenal\", \"Chelsea\", \"Everton\"]`, and club `P` is `Liverpool` then `Arsenal`, `Chelsea` and `Everton` are lexicographically smaller than `Liverpool`, but `Everton` has the largest index of `3`, hence that would be the output."
   ]
  },
  {
   "cell_type": "code",
   "execution_count": null,
   "metadata": {},
   "outputs": [],
   "source": [
    "def find_nearest_smaller(L, P):\n",
    "     # Write your solution here\n",
    "    return"
   ]
  },
  {
   "cell_type": "code",
   "execution_count": null,
   "metadata": {},
   "outputs": [],
   "source": [
    "# TEST_CASE\n",
    "L = [\"Manchester United\", \"Arsenal\", \"Chelsea\", \"Everton\"]\n",
    "check(find_nearest_smaller(L, \"Liverpool\"), 3)\n",
    "\n",
    "L = [\"Manchester United\", \"Liverpool\", \"Chelsea\", \"Everton\"]\n",
    "check(find_nearest_smaller(L, \"Arsenal\"), -1)\n",
    "\n",
    "L = [1, 12, 3, 8]\n",
    "check(find_nearest_smaller(L, 3), 2)\n",
    "\n",
    "L = [7, 19, 4, 9]\n",
    "check(find_nearest_smaller(L, 3), -1)"
   ]
  },
  {
   "cell_type": "markdown",
   "metadata": {},
   "source": [
    "## 5.3\n",
    "\n",
    "When we have a sorted list, search can be more efficient if we use binary search (code below).\n",
    "\n",
    "Let's write a function `find_nearest_smaller_fast` that can compute the same value as `find_nearest_smaller` on sorted lists but uses binary search.\n",
    "\n"
   ]
  },
  {
   "cell_type": "code",
   "execution_count": null,
   "metadata": {},
   "outputs": [],
   "source": [
    "# code of binary search, in case you find it useful\n",
    "def bin_search(L, s):\n",
    "    if not L:\n",
    "        return -1\n",
    "    if len(L) == 1:\n",
    "        return 0 if s == L[0] else -1\n",
    "    mid = int((len(L)+1)/2)  # could also use int(math.ceil(len(L)/2))\n",
    "    if s < L[mid]:\n",
    "        return bin_search(L[:mid], s)\n",
    "    if s >= L[mid]:\n",
    "        i = bin_search(L[mid:], s)\n",
    "        if i >= 0:\n",
    "            return mid+i\n",
    "        return -1"
   ]
  },
  {
   "cell_type": "code",
   "execution_count": null,
   "metadata": {},
   "outputs": [],
   "source": [
    "# You can assume that L is sorted.\n",
    "def find_nearest_smaller_fast(L, s):\n",
    "    # Write your solution here\n",
    "    return"
   ]
  },
  {
   "cell_type": "code",
   "execution_count": null,
   "metadata": {},
   "outputs": [],
   "source": [
    "# TEST_CASE 1\n",
    "L = [2, 10, 34, 55, 100, 204]\n",
    "check(find_nearest_smaller_fast_recursive(L, 15), 1)\n",
    "\n",
    "L = [1, 4, 7, 8, 9, 12, 15]\n",
    "check(find_nearest_smaller_fast_recursive(L, 9), 4)\n",
    "\n",
    "L = [7, 9, 11, 13]\n",
    "check(find_nearest_smaller_fast_recursive(L, 10), 1)"
   ]
  },
  {
   "cell_type": "markdown",
   "metadata": {},
   "source": [
    "## 5.4\n",
    "\n",
    "\n",
    "Let's write a function `find_nearest_larger_fast` that that is like `find_nearest_smaller_fast` but computes the nearest largest value instead of the smallest value. \n"
   ]
  },
  {
   "cell_type": "code",
   "execution_count": 1,
   "metadata": {},
   "outputs": [],
   "source": [
    "# Write your solution here"
   ]
  },
  {
   "cell_type": "markdown",
   "metadata": {},
   "source": [
    "## Optional  Problems:"
   ]
  },
  {
   "cell_type": "markdown",
   "metadata": {},
   "source": [
    "### Problem 1\n",
    "Now, you are given a list `clubs_list` which has both the club name and the club points. Write a function `qualifying_club(L, P)` where given a list L of and number of qualifying teams is T, you are required to find which top T teams have qualified to the chamipions league based on their points.\n",
    "\n"
   ]
  },
  {
   "cell_type": "code",
   "execution_count": 5,
   "metadata": {},
   "outputs": [],
   "source": [
    "clubs_list = [[\"Ethiopia Bunna\", 66], [\"Dedebit\", 67], [\"St George\", 71], [\n",
    "    \"Bahrdar Kenema\", 94], [\"Lucy\", 95], [\"Adama Kenema\", 70], [\"Mechal\", 53]]"
   ]
  },
  {
   "cell_type": "code",
   "execution_count": null,
   "metadata": {},
   "outputs": [],
   "source": [
    "def qualifying_club(L, T):\n",
    "    # Write your solution here\n",
    "    return"
   ]
  },
  {
   "cell_type": "markdown",
   "metadata": {},
   "source": [
    "### Problem 2\n",
    "\n",
    "Write a function `sublist` such that for a sorted list `L` and two values `small` and `large` (with `large>small`), `sublist(L,small,large)` will return a pair of indices `beg` , `end` that correspond to the part of `L` that is between `small` and `large`. Can you make your function fast?\n",
    "\n",
    "Hint: You can use the functions you've written for `find_nearest_smaller` or `find_nearest_larger`."
   ]
  },
  {
   "cell_type": "code",
   "execution_count": null,
   "metadata": {},
   "outputs": [],
   "source": [
    "def sublist(L, small, large):\n",
    "    # Write your solution here\n",
    "    return\n",
    "\n",
    "\n",
    "sublist([2, 10, 34, 55, 100, 204], 15, 101) == (\n",
    "    2, 4)  # since L[2]=34 and L[4]=100"
   ]
  },
  {
   "cell_type": "code",
   "execution_count": null,
   "metadata": {},
   "outputs": [],
   "source": [
    "# TEST_CASE\n",
    "check(sublist([2, 10, 34, 55, 100, 204, 555], 15, 101),\n",
    "      (2, 4))  # since L[2]=34 and L[4]=100\n",
    "check(sublist([2, 10, 34, 55, 100, 555], 15, 101), (2, 4))\n",
    "check(sublist([2, 10, 14, 34, 55, 100, 204, 555], 15, 101), (3, 5))\n",
    "check(sublist([2, 10, 24, 55, 98, 99, 100, 204, 555], 15, 101), (2, 6))"
   ]
  },
  {
   "cell_type": "markdown",
   "metadata": {},
   "source": [
    "### Problem 3\n",
    "#### Local maximum.\n",
    "\n",
    "You are given an unsorted list `L` of nonnegative integers. For example,\n",
    "`L = [200, 500, 30, 0, 1, 4]`\n",
    "\n",
    "Find any number `n` in the list that is greater than the numbers to the left and right of it and return it.\n",
    "\n",
    "For example,\n",
    "`localMax(L)` should return `500`.\n",
    "\n",
    "The first element is a local max if it is greater than the second element.\n",
    "The last element is a local max if it is greater than the second to last element.\n",
    "\n",
    "\n",
    "For example:\n",
    "\n",
    "`L = [1, 2, 3, 4, 5]`\n",
    "\n",
    "`localMax(L) == 5`."
   ]
  },
  {
   "cell_type": "code",
   "execution_count": null,
   "metadata": {},
   "outputs": [],
   "source": [
    "def localMax(L):\n",
    "    # Write your solution here.\n",
    "    return"
   ]
  },
  {
   "cell_type": "code",
   "execution_count": null,
   "metadata": {},
   "outputs": [],
   "source": [
    "#TEST_CASE\n",
    "L = [1, 2, 3, 4, 5]\n",
    "check_multiple(localMax(L), [5])\n",
    "\n",
    "M=[4, 78, 90, 23, 65, 12, 19]\n",
    "check_multiple(localMax(M), [19,65,90])\n",
    "\n",
    "N=[19, 18, 3]\n",
    "check_multiple(localMax(N), [19])\n",
    "\n",
    "K=[23, 45, 67, 78, 98]\n",
    "check_multiple(localMax(K), [98])"
   ]
  }
 ],
 "metadata": {
  "kernelspec": {
   "display_name": "Python 3 (ipykernel)",
   "language": "python",
   "name": "python3"
  },
  "language_info": {
   "codemirror_mode": {
    "name": "ipython",
    "version": 3
   },
   "file_extension": ".py",
   "mimetype": "text/x-python",
   "name": "python",
   "nbconvert_exporter": "python",
   "pygments_lexer": "ipython3",
   "version": "3.11.1"
  }
 },
 "nbformat": 4,
 "nbformat_minor": 2
}
