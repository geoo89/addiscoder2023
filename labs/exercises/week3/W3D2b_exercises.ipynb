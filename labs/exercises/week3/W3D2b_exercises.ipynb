{
 "cells": [
  {
   "cell_type": "markdown",
   "metadata": {},
   "source": [
    "## 1. Merge Sort\n",
    "\n",
    "### Edited by: Mukerem, Henok, Hellina\n",
    "### Reviewed by: ..."
   ]
  },
  {
   "cell_type": "code",
   "execution_count": 1,
   "metadata": {},
   "outputs": [],
   "source": [
    "# This function is for testing, do not modify\n",
    "def check(actual, expected):\n",
    "    if expected != actual:\n",
    "        print(\n",
    "            f\"Function should return the value {expected}, it is returning the value {actual}\")\n",
    "    else:\n",
    "        print(f\"Congratulations, the test case passed!\")"
   ]
  },
  {
   "cell_type": "markdown",
   "metadata": {
    "slideshow": {
     "slide_type": "slide"
    }
   },
   "source": [
    "### 1.1\n",
    "\n",
    "Python3 has a built in sorting function that we can use for parts of this exercise.\n",
    "  \n",
    "Write a function ```sort4``` that sorts a list of 4 elements. The function should make two calls to ```sort2``` where `sort2` sorts a list of size 2."
   ]
  },
  {
   "cell_type": "code",
   "execution_count": 1,
   "metadata": {},
   "outputs": [],
   "source": [
    "sort2 = sorted\n",
    "\n",
    "\n",
    "def sort4(L):\n",
    "    L_first_sorted = sort2(L[0:2])\n",
    "    L_last_sorted = sort2(L[2:4])\n",
    "    #\n",
    "    # do something to return a sorted list\n",
    "    #"
   ]
  },
  {
   "cell_type": "code",
   "execution_count": null,
   "metadata": {},
   "outputs": [],
   "source": [
    "L = [5, 2, 1, 6]\n",
    "check(sort4(L), [1, 2, 5, 6])\n",
    "\n",
    "M = [4, 3, 2, 1]\n",
    "check(sort4(M), [1, 2, 3, 4])"
   ]
  },
  {
   "cell_type": "markdown",
   "metadata": {
    "slideshow": {
     "slide_type": "slide"
    }
   },
   "source": [
    "### 1.2\n",
    "\n",
    "Write a function ```sort32``` that sorts a list of 32 elements. The function should make two recursive calls to a provided function ```sort16```"
   ]
  },
  {
   "cell_type": "code",
   "execution_count": 16,
   "metadata": {
    "slideshow": {
     "slide_type": "fragment"
    }
   },
   "outputs": [],
   "source": [
    "sort16 = sorted\n",
    "\n",
    "def sort32(L):\n",
    "    L_first_sorted = sort16(L[0:16])\n",
    "    L_last_sorted = sort16(L[16:32])\n",
    "    #\n",
    "    # do something to return a sorted list\n",
    "    #"
   ]
  },
  {
   "cell_type": "code",
   "execution_count": null,
   "metadata": {},
   "outputs": [],
   "source": [
    "# TEST_CASE\n",
    "L = [32, 31, 30, 29, 28, 27, 26, 25, 24, 23, 22, 21, 20, 19, 18,\n",
    "        17, 16, 15, 14, 13, 12, 11, 10, 9, 8, 7, 6, 5, 4, 3, 2, 1]\n",
    "\n",
    "check(sort32(L), [1, 2, 3, 4, 5, 6, 7, 8, 9, 10, 11, 12, 13, 14, 15, 16, 17,\n",
    "                  18, 19, 20, 21, 22, 23, 24, 25, 26, 27, 28, 29, 30, 31, 32])"
   ]
  },
  {
   "cell_type": "markdown",
   "metadata": {
    "slideshow": {
     "slide_type": "slide"
    }
   },
   "source": [
    "### 1.3\n",
    "\n",
    "Write a function ```merge_sort``` that will sort a list of _any_ size. The function should make two recursive calls to itself "
   ]
  },
  {
   "cell_type": "code",
   "execution_count": 18,
   "metadata": {
    "slideshow": {
     "slide_type": "fragment"
    }
   },
   "outputs": [],
   "source": [
    "def merge_sort(L):\n",
    "    #\n",
    "    # do something here\n",
    "    #\n",
    "    L_first_sorted = merge_sort(\n",
    "        L[0:int(len(L)/2)])\n",
    "    L_last_sorted = merge_sort(\n",
    "        L[int(len(L)/2):len(L)])\n",
    "    #\n",
    "    # do something to return a sorted list"
   ]
  },
  {
   "cell_type": "code",
   "execution_count": null,
   "metadata": {},
   "outputs": [],
   "source": [
    "L = [23, 10, 5, 1, 4]\n",
    "check(merge_sort(L), [1, 4, 5, 10, 23])\n",
    "\n",
    "M = [4, 3, 2, 1]\n",
    "check(merge_sort(M), [1, 2, 3, 4])"
   ]
  },
  {
   "cell_type": "markdown",
   "metadata": {},
   "source": [
    "## 2. Quick Sort"
   ]
  },
  {
   "attachments": {
    "image.png": {
     "image/png": "[encoded data removed]"
    }
   },
   "cell_type": "markdown",
   "metadata": {},
   "source": [
    "Check out this interesting diagram which shows how quicksort divides up an example array:\n",
    "\n",
    "We are going to try this process ourselves by hand, and then later implement a function which performs quicksort.\n",
    "\n",
    "When in doubt, try drawing a picture like this with your array.\n",
    "\n",
    "![image.png](attachment:image.png)"
   ]
  },
  {
   "cell_type": "markdown",
   "metadata": {},
   "source": [
    "### 2.1 Sort by hand\n",
    "\n",
    "We are going to quicksort by hand, step by step, the following list of numbers [10, 15, 1, 2, 6, 12, 5, 7]. (Use the following pivots 7, 5, 10, 12.)\n",
    "\n",
    "1. The first step in quicksort is to pick a pivot element, for example 7. \n",
    "\n",
    "2. Then, put all elements less than 7 on the left of 7. \n",
    "\n",
    "3. Then, put all elements greater than 7 on the right of 7.\n",
    "\n",
    "Note: the array doesn't have to be completely sorted, but 7 must end up with only items smaller to the left of it. "
   ]
  },
  {
   "cell_type": "code",
   "execution_count": 7,
   "metadata": {},
   "outputs": [],
   "source": [
    "# Items smaller than 7:\n",
    "\n",
    "\n",
    "# Items larger than 7:\n",
    "5\n",
    "\n",
    "# All items together, with 7 in-between:"
   ]
  },
  {
   "cell_type": "markdown",
   "metadata": {},
   "source": [
    "### Let's pivot again!\n",
    "\n",
    "Next, we are going to consider each half of our new array, and run merge sort on each half. We are going to divide our arrays again by picking a new pivot for each half.\n",
    "\n",
    "For the smaller side, we can use the number 5.\n",
    "\n",
    "For the greater side, we will use the number 10."
   ]
  },
  {
   "cell_type": "markdown",
   "metadata": {},
   "source": [
    "### Smaller side:\n",
    "First, write the half of the array that you found earlier, with items less than 7.\n",
    "\n",
    "Now, divide this array based on the new pivot 5"
   ]
  },
  {
   "cell_type": "code",
   "execution_count": 10,
   "metadata": {},
   "outputs": [],
   "source": [
    "#Write your answer here:\n"
   ]
  },
  {
   "cell_type": "markdown",
   "metadata": {},
   "source": [
    "### Greater side:\n",
    "First, write the half of the array you found earlier, with the items greater than 7.\n",
    "\n",
    "Now, divide this array based on the new pivot 10"
   ]
  },
  {
   "cell_type": "code",
   "execution_count": 15,
   "metadata": {},
   "outputs": [],
   "source": [
    "#Write your answer here:\n"
   ]
  },
  {
   "cell_type": "markdown",
   "metadata": {},
   "source": [
    "### Continuing the process...\n",
    "What happens next, as this process continues? Try to execute the rest of quicksort by hand. When in doubt, try drawing on paper.\n",
    "\n"
   ]
  },
  {
   "cell_type": "code",
   "execution_count": 16,
   "metadata": {},
   "outputs": [],
   "source": [
    "\n"
   ]
  },
  {
   "cell_type": "markdown",
   "metadata": {},
   "source": [
    "### 2.2 Quick sort function \n",
    "Using quicksort, sort the following list of football teams based on their names. Try to write your own quicksort function based on the algorithm given in the lecture (below)\n",
    "\n",
    "__Algorithm Quicksort:__ Input `L` of length `n`.\n",
    "    \n",
    "1. Pick random `j` in `[0,...,n-1]`\n",
    "\n",
    "2. Let `x=L[j]` and reorder `L` so that locations `L[0],..,L[j-1]` are smaller than `x` and locations `L[j],...,L[n-1]` are at least as large as `x`.\n",
    "\n",
    "3. Recursively sort `L[0],...,L[j-1]` and `L[j+1],...,L[n-1]`"
   ]
  },
  {
   "cell_type": "code",
   "execution_count": 1,
   "metadata": {},
   "outputs": [],
   "source": [
    "import random\n",
    "L = [\"Man United\", \"Leicester\", \"Chelsea\", \"Tottenham\", \"Arsenal\",\n",
    "     \"Liverpool\", \"Southampton\", \"Man City\", \"Crystal Palace\"]\n",
    "\n",
    "# Write your solution here:"
   ]
  },
  {
   "cell_type": "markdown",
   "metadata": {},
   "source": [
    "### Challenge: \n",
    "Using your quicksort algorithm, sort the following list of football teams based on their points."
   ]
  },
  {
   "cell_type": "code",
   "execution_count": null,
   "metadata": {},
   "outputs": [],
   "source": [
    "L = [[\"Man United\", 10],\n",
    "     [\"Leicester\", 3],\n",
    "     [\"Chelsea\", 6],\n",
    "     [\"Tottenham\", 5],\n",
    "     [\"Arsenal\", 7],\n",
    "     [\"Liverpool\", 9],\n",
    "     [\"Southampton\", 1],\n",
    "     [\"Man City\", 10],\n",
    "     [\"Crystal Palace\", 9]]\n",
    "\n",
    "# Write your solution here:"
   ]
  }
 ],
 "metadata": {
  "kernelspec": {
   "display_name": "Python 3 (ipykernel)",
   "language": "python",
   "name": "python3"
  },
  "language_info": {
   "codemirror_mode": {
    "name": "ipython",
    "version": 3
   },
   "file_extension": ".py",
   "mimetype": "text/x-python",
   "name": "python",
   "nbconvert_exporter": "python",
   "pygments_lexer": "ipython3",
   "version": "3.9.7"
  }
 },
 "nbformat": 4,
 "nbformat_minor": 2
}
