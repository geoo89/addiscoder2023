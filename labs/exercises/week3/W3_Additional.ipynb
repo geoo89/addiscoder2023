{
 "cells": [
  {
   "cell_type": "markdown",
   "metadata": {},
   "source": [
    "# 1. Searching"
   ]
  },
  {
   "cell_type": "markdown",
   "metadata": {},
   "source": [
    "We will start by looking at how the Binary Search Algorithm works!\n",
    "\n",
    "Reminder:\n",
    "\n",
    "```python\n",
    "def binSearch(L,s):\n",
    "    start = 0\n",
    "    end   = len(L)\n",
    "    while start<=end:\n",
    "        mid = (start+end)//2\n",
    "        if s<L[mid]: end = mid-1\n",
    "        if s>L[mid]: start = mid+1\n",
    "        if s==L[mid]: return mid\n",
    "    return -1\n",
    "```\n"
   ]
  },
  {
   "cell_type": "markdown",
   "metadata": {},
   "source": [
    "### 1.1\n",
    "\n",
    "Let's start with the list `L=[0,1,2,3,4,5]` and `s = 4`\n",
    "\n",
    "Imagine we wanted to check if `s` is in this list. The values of `mid` in this case will be 2 and 4.\n",
    "\n",
    "Do the same, for the following lists:"
   ]
  },
  {
   "cell_type": "raw",
   "metadata": {},
   "source": [
    "L = [0,1,2,3,4,5,6,7,8,9], s = 3\n",
    "step 1: mid = \n",
    "step 2: mid = \n",
    "step 3: mid = \n",
    "step 4: mid = "
   ]
  },
  {
   "cell_type": "raw",
   "metadata": {},
   "source": [
    "L = [2,4,6,8,10,12,14,16,18,20], s = 20\n",
    "step 1: mid = \n",
    "step 2: mid = \n",
    "step 3: mid = \n",
    "step 4: mid = "
   ]
  },
  {
   "cell_type": "markdown",
   "metadata": {},
   "source": [
    "### 1.2\n",
    "Write a function that given a list `L` and a number `n`, returns the position of that number in the list."
   ]
  },
  {
   "cell_type": "code",
   "execution_count": null,
   "metadata": {},
   "outputs": [],
   "source": [
    "def mySearch(L, n):\n",
    "    for i in range(len(L)):\n",
    "        if L[i] == n:\n",
    "            return i\n",
    "    return -1"
   ]
  },
  {
   "cell_type": "markdown",
   "metadata": {},
   "source": [
    "### 1.3\n",
    "\n",
    "Write a function that given a sorted list `L` and a number `n`, returns the position of that number in the list using Binary Search."
   ]
  },
  {
   "cell_type": "code",
   "execution_count": null,
   "metadata": {},
   "outputs": [],
   "source": [
    "def myBetterSearch(L, s):\n",
    "    # Write your code here\n",
    "    "
   ]
  },
  {
   "cell_type": "markdown",
   "metadata": {},
   "source": [
    "Questions 1.2 and 1.3 ask you to solve the same problem but with different algorithms. What is the complexity of each?"
   ]
  },
  {
   "cell_type": "raw",
   "metadata": {},
   "source": [
    "Complexity of 1.2:\n",
    "Complexity of 1.3:\n",
    "Explain:\n"
   ]
  },
  {
   "cell_type": "markdown",
   "metadata": {},
   "source": [
    "### 1.4\n",
    "\n",
    "Write a function that takes in two lists of strings, `L1` and `L2`. For every string in `L1`, check if it is in `L2`."
   ]
  },
  {
   "cell_type": "code",
   "execution_count": null,
   "metadata": {},
   "outputs": [],
   "source": [
    "def inMyList(L1, L2):\n",
    "    # Write your code here"
   ]
  },
  {
   "cell_type": "markdown",
   "metadata": {},
   "source": [
    "### 1.5\n",
    "\n",
    "Given that `L2` is sorted, do the same using Binary Search."
   ]
  },
  {
   "cell_type": "code",
   "execution_count": null,
   "metadata": {},
   "outputs": [],
   "source": [
    "def inMyListBS(L1, L2):\n",
    "    # Write your code here"
   ]
  },
  {
   "cell_type": "markdown",
   "metadata": {},
   "source": [
    "Questions 1.4 and 1.5 ask you to solve the same problem but with different algorithms. What is the complexity of each?"
   ]
  },
  {
   "cell_type": "raw",
   "metadata": {},
   "source": [
    "Complexity of 1.4:\n",
    "Complexity of 1.5:\n",
    "Explain:\n"
   ]
  },
  {
   "cell_type": "markdown",
   "metadata": {},
   "source": [
    "# 2. Sorting"
   ]
  },
  {
   "cell_type": "markdown",
   "metadata": {},
   "source": [
    "### Selection Sort\n",
    "```python\n",
    "def selection_sort(L):    \n",
    "    for i in range(len(L)):\n",
    "        min_idx = i + min_index(L[i:])\n",
    "        L[i], L[min_idx] = L[min_idx], L[i]\n",
    "    return L\n",
    "```\n",
    "\n",
    "\n",
    "![](selection_sort.png)"
   ]
  },
  {
   "cell_type": "markdown",
   "metadata": {},
   "source": [
    "### 2.1\n",
    "\n",
    "By hand show the steps of selection sort algorithm for the following lists:"
   ]
  },
  {
   "cell_type": "raw",
   "metadata": {},
   "source": [
    "L = [4,3,2,1,0]\n",
    "step 1: \n",
    "step 2: \n",
    "step 3: \n",
    "step 4: "
   ]
  },
  {
   "cell_type": "raw",
   "metadata": {},
   "source": [
    "L = [10,5,7,6,11,42,3,8]\n",
    "step 1: \n",
    "step 2: \n",
    "step 3: \n",
    "step 4: \n",
    "step 5: \n",
    "step 6: \n",
    "step 7: "
   ]
  },
  {
   "cell_type": "markdown",
   "metadata": {},
   "source": [
    "What is the complexity of selection sort? Keep in mind that `min_index` has $O(N)$ complexity."
   ]
  },
  {
   "cell_type": "raw",
   "metadata": {},
   "source": [
    "Complexity of Selection Sort: \n",
    "Explain:\n"
   ]
  },
  {
   "cell_type": "markdown",
   "metadata": {},
   "source": [
    "### Merge Sort\n",
    "\n",
    "General Idea:\n",
    "1. Sort the first $n/2$ elements to get a list $L1$ and the last $n/2$ elements to get a list $L2$.\n",
    "2. Merge the two lists together to one sorted list.\n",
    "\n",
    "Code:\n",
    "```python\n",
    "def mergesort(L):\n",
    "    if len(L) <= 1: return L\n",
    "    m = len(L)//2\n",
    "    L1 = mergesort(L[:m])\n",
    "    L2 = mergesort(L[m:])\n",
    "    return merge(L1,L2)\n",
    "```"
   ]
  },
  {
   "cell_type": "markdown",
   "metadata": {},
   "source": [
    "### 2.2\n",
    "\n",
    "By hand show the steps of merge sort algorithm for the following lists:"
   ]
  },
  {
   "cell_type": "raw",
   "metadata": {},
   "source": [
    "L = [10,5,7,6,11,42,3,8]\n",
    "step 1: \n",
    "step 2: \n",
    "step 3: \n",
    "step 4: \n",
    "step 5: \n",
    "step 6: "
   ]
  },
  {
   "cell_type": "raw",
   "metadata": {},
   "source": [
    "L = [4,3,2,1,0]\n",
    "step 1: \n",
    "step 2: \n",
    "step 3: \n",
    "step 4: \n",
    "step 5: \n",
    "step 6: "
   ]
  }
 ],
 "metadata": {
  "kernelspec": {
   "display_name": "Python 3",
   "language": "python",
   "name": "python3"
  },
  "language_info": {
   "codemirror_mode": {
    "name": "ipython",
    "version": 3
   },
   "file_extension": ".py",
   "mimetype": "text/x-python",
   "name": "python",
   "nbconvert_exporter": "python",
   "pygments_lexer": "ipython3",
   "version": "3.7.1"
  }
 },
 "nbformat": 4,
 "nbformat_minor": 2
}
