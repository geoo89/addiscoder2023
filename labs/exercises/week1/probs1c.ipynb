{
 "cells": [
  {
   "cell_type": "markdown",
   "metadata": {
    "colab_type": "text",
    "id": "G-TFIZNH55GY"
   },
   "source": [
    "# Lecture 1 Extra Exercises"
   ]
  },
  {
   "cell_type": "markdown",
   "metadata": {
    "colab_type": "text",
    "id": "yQUoS32y55Ga"
   },
   "source": [
    "## Question 11"
   ]
  },
  {
   "cell_type": "markdown",
   "metadata": {
    "colab_type": "text",
    "id": "KCrOgdXO55Gc"
   },
   "source": [
    "### 11.0\n",
    "\n",
    "The exponentiation operator in python is `**`. You might have seen the `^` character on your calculator. They do the same thing. <br/>\n",
    "For example : <br/>\n",
    "`2**2 = 4` <br/>\n",
    "`3**3 = 27` <br/>\n",
    "`25**0.5 = 5` <br/>\n",
    "\n",
    "Compute $2^{10}$:"
   ]
  },
  {
   "cell_type": "code",
   "execution_count": 0,
   "metadata": {
    "colab": {},
    "colab_type": "code",
    "id": "Zoy4UFSE55Ge"
   },
   "outputs": [],
   "source": [
    "# Write and test your code here."
   ]
  },
  {
   "cell_type": "markdown",
   "metadata": {
    "colab_type": "text",
    "id": "7Nme33Zw55Go"
   },
   "source": [
    "### 11.1\n",
    "\n",
    "Write a function `kthDigit` that takes two integer arguments `n` and `k` and returns the k-th digit of  `n` ? <br/>\n",
    "For example :<br/>\n",
    "`kthDigit(567, 2)` should return `6` <br/>\n",
    "`kthDigit(324877, 5)` should return `2` <br/>\n",
    "`kthDigit(235468, 1)` should return `8` <br/>"
   ]
  },
  {
   "cell_type": "code",
   "execution_count": 0,
   "metadata": {
    "colab": {},
    "colab_type": "code",
    "id": "104vxJAQ55Gq"
   },
   "outputs": [],
   "source": [
    "# Write and test your code here."
   ]
  },
  {
   "cell_type": "markdown",
   "metadata": {
    "colab_type": "text",
    "id": "PGo7m5UM55Gv"
   },
   "source": [
    "### 11.2\n",
    "\n",
    "Write a function `kEdit` that takes three integer arguments `n`, `k`, and `e` with $0 \\leq e \\leq 9$ that replaces the `k`-th digit of `n` with `e`. <br/>\n",
    "\n",
    "Examples : <br/>\n",
    "\n",
    "`kEdit(1234, 2, 0)` should return `1204` <br/>\n",
    "`kEdit(34578, 3, 1)` should return `34178` <br/>"
   ]
  },
  {
   "cell_type": "code",
   "execution_count": 0,
   "metadata": {
    "colab": {},
    "colab_type": "code",
    "id": "Lg17GK7E55Gx"
   },
   "outputs": [],
   "source": [
    "# Write and test your code here."
   ]
  },
  {
   "cell_type": "markdown",
   "metadata": {
    "colab_type": "text",
    "id": "XZur0vnx55G1"
   },
   "source": [
    "### 11.3"
   ]
  },
  {
   "cell_type": "markdown",
   "metadata": {
    "colab_type": "text",
    "id": "wrrzcP5N55G2"
   },
   "source": [
    "An RGB value is three colors that combine to make up one color. Write a function `rgbconvert` that takes in a 9 digit integer `n`, and returns 3 integers that represents each RGB value. \n",
    "\n",
    "Examples: \n",
    "\n",
    "`rgbconvert(255255255)` => 255, 255, 255\n",
    "\n",
    "`rgbconvert(132234075)` => 132, 234, 75"
   ]
  },
  {
   "cell_type": "code",
   "execution_count": 0,
   "metadata": {
    "colab": {},
    "colab_type": "code",
    "id": "aGIRUGRg55G3"
   },
   "outputs": [],
   "source": [
    "# Write and test your code here."
   ]
  },
  {
   "cell_type": "markdown",
   "metadata": {
    "colab_type": "text",
    "id": "DI11mM3X55G8"
   },
   "source": [
    "## Question 12"
   ]
  },
  {
   "cell_type": "markdown",
   "metadata": {
    "colab_type": "text",
    "id": "mB5CwFVY55G9"
   },
   "source": [
    "### 12.1"
   ]
  },
  {
   "cell_type": "markdown",
   "metadata": {
    "colab_type": "text",
    "id": "3mGdWx_M55G-"
   },
   "source": [
    "Given this code:\n",
    "```\n",
    "x = 12\n",
    "y = 5\n",
    "z = y\n",
    "y = 12\n",
    "x = 1\n",
    "z = x + y + z\n",
    "```\n",
    "what is the value of z? Verify your solution by running the code above."
   ]
  },
  {
   "cell_type": "code",
   "execution_count": 0,
   "metadata": {
    "colab": {},
    "colab_type": "code",
    "id": "FCk5g-ja55G_"
   },
   "outputs": [],
   "source": [
    "# Your answer:\n",
    "\n",
    "\n",
    "# Verify your answer here."
   ]
  },
  {
   "cell_type": "markdown",
   "metadata": {
    "colab_type": "text",
    "id": "cUrWql9955HD"
   },
   "source": [
    "### 12.2"
   ]
  },
  {
   "cell_type": "markdown",
   "metadata": {
    "colab_type": "text",
    "id": "KnOzA7Xw55HE"
   },
   "source": [
    "Given this code:\n",
    "```\n",
    "z = 5 * (12 % 1) / 18\n",
    "x = 23 - 14\n",
    "y = x * z\n",
    "z = 2 * x\n",
    "```\n",
    "what is the value of z? Verify your solution by running the code above."
   ]
  },
  {
   "cell_type": "code",
   "execution_count": 0,
   "metadata": {
    "colab": {},
    "colab_type": "code",
    "id": "aIE4ujuf55HF"
   },
   "outputs": [],
   "source": [
    "# Your answer:\n",
    "\n",
    "\n",
    "# Verify your answer here."
   ]
  },
  {
   "cell_type": "markdown",
   "metadata": {
    "colab_type": "text",
    "id": "uXeAoaoW55HI"
   },
   "source": [
    "### 12.3"
   ]
  },
  {
   "cell_type": "markdown",
   "metadata": {
    "colab_type": "text",
    "id": "G1cVCZBS55HM"
   },
   "source": [
    "Given this code:\n",
    "```\n",
    "d = 1\n",
    "c = d\n",
    "b = c\n",
    "a = b\n",
    "```\n",
    "what is the value of a? Verify your solution by running the code above."
   ]
  },
  {
   "cell_type": "code",
   "execution_count": 0,
   "metadata": {
    "colab": {},
    "colab_type": "code",
    "id": "AwncMqzz55HN"
   },
   "outputs": [],
   "source": [
    "# Your answer:\n",
    "\n",
    "\n",
    "# Verify your answer here."
   ]
  }
 ],
 "metadata": {
  "colab": {
   "collapsed_sections": [],
   "name": "probs1c.ipynb",
   "provenance": [],
   "version": "0.3.2"
  },
  "kernelspec": {
   "display_name": "Python 3 (ipykernel)",
   "language": "python",
   "name": "python3"
  },
  "language_info": {
   "codemirror_mode": {
    "name": "ipython",
    "version": 3
   },
   "file_extension": ".py",
   "mimetype": "text/x-python",
   "name": "python",
   "nbconvert_exporter": "python",
   "pygments_lexer": "ipython3",
   "version": "3.11.2"
  }
 },
 "nbformat": 4,
 "nbformat_minor": 1
}
