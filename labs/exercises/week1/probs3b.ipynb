{
 "cells": [
  {
   "cell_type": "markdown",
   "metadata": {
    "colab_type": "text",
    "id": "cBfRc7j-3Dun"
   },
   "source": [
    "# WEEK 1 , Day 3 and Part 2 Exercises"
   ]
  },
  {
   "cell_type": "markdown",
   "metadata": {
    "colab_type": "text",
    "id": "KPM2evaq3Duo"
   },
   "source": [
    "## Question 1\n",
    "_Use code for exercises 1.1-1.3_"
   ]
  },
  {
   "cell_type": "markdown",
   "metadata": {
    "colab_type": "text",
    "id": "jwOebVs73Dup"
   },
   "source": [
    "### 1.1 \n",
    "Use function _print_ to print ```\"Daniel\"```. On a new line, print his occupation - ```\"Lecturer\"```. Finish by printing another new line with his favorite TAs - ```\"Jessica\"```, ```\"Jess\"``` and ```\"Jessica Lee\"```.\n"
   ]
  },
  {
   "cell_type": "code",
   "execution_count": 0,
   "metadata": {
    "colab": {},
    "colab_type": "code",
    "id": "4hPQYv0C3Duq"
   },
   "outputs": [],
   "source": [
    "# Your code here."
   ]
  },
  {
   "cell_type": "markdown",
   "metadata": {
    "colab_type": "text",
    "id": "F8U0tapU3Duw"
   },
   "source": [
    "### 1.2 \n",
    "Given the code below, print ```x```, ```y```, and ```z``` on three different lines."
   ]
  },
  {
   "cell_type": "code",
   "execution_count": 0,
   "metadata": {
    "colab": {},
    "colab_type": "code",
    "id": "g7TxFr5X3Dux"
   },
   "outputs": [],
   "source": [
    "x = 17\n",
    "y = 19\n",
    "z = 42\n",
    "\n",
    "\n",
    "# Your code here."
   ]
  },
  {
   "cell_type": "markdown",
   "metadata": {
    "colab_type": "text",
    "id": "8dqsENZT3Du1"
   },
   "source": [
    "### 1.3 \n",
    "Given the code below, print ```u```, ```v```, and ```w``` on the same line."
   ]
  },
  {
   "cell_type": "code",
   "execution_count": 0,
   "metadata": {
    "colab": {},
    "colab_type": "code",
    "id": "-DFnop2A3Du2"
   },
   "outputs": [],
   "source": [
    "u = [3, 5, 8]\n",
    "v = True\n",
    "w = 3.14\n",
    "\n",
    "\n",
    "# Your code here."
   ]
  },
  {
   "cell_type": "markdown",
   "metadata": {
    "colab_type": "text",
    "id": "721Z50Su3Du6"
   },
   "source": [
    "## Question 2 \n",
    "_Use code for exercises 2.1-2.3_"
   ]
  },
  {
   "cell_type": "markdown",
   "metadata": {
    "colab_type": "text",
    "id": "qZb3Q5eD3Du7"
   },
   "source": [
    "### 2.1 \n",
    "Given the list ```list1```, print the first element. "
   ]
  },
  {
   "cell_type": "code",
   "execution_count": 0,
   "metadata": {
    "colab": {},
    "colab_type": "code",
    "id": "Jq8s3yXj3Du8"
   },
   "outputs": [],
   "source": [
    "list1 = [\"coder\", 2018, \"addis\"]\n",
    "\n",
    "\n",
    "# Your code here."
   ]
  },
  {
   "cell_type": "markdown",
   "metadata": {
    "colab_type": "text",
    "id": "0s456woN3DvA"
   },
   "source": [
    "### 2.2 \n",
    "Given the list ```list2```, print the last element in two ways. "
   ]
  },
  {
   "cell_type": "code",
   "execution_count": 0,
   "metadata": {
    "colab": {},
    "colab_type": "code",
    "id": "wEyrspPz3DvB"
   },
   "outputs": [],
   "source": [
    "list2 = ['apple', 'orange', 'banana', 'pear',\n",
    "         'dragonfruit', 'lychee', 'starfruit']\n",
    "\n",
    "\n",
    "# Your code here."
   ]
  },
  {
   "cell_type": "markdown",
   "metadata": {
    "colab_type": "text",
    "id": "9gWi8sR_3DvF"
   },
   "source": [
    "### 2.3 \n",
    "Given ```list3```, print the 5th through 8th indexed elements \n",
    "\n",
    "_Hint: You should be printing 4 elements_"
   ]
  },
  {
   "cell_type": "code",
   "execution_count": 0,
   "metadata": {
    "colab": {},
    "colab_type": "code",
    "id": "YY3L7WRX3DvG"
   },
   "outputs": [],
   "source": [
    "list3 = [True, False, True, True, True, False, True, True, True, False]\n",
    "\n",
    "\n",
    "# Your code here."
   ]
  },
  {
   "cell_type": "markdown",
   "metadata": {
    "colab_type": "text",
    "id": "9obi8XrH3DvK"
   },
   "source": [
    "### 2.4 \n",
    "Given ```list4``` print the last 5 elements in two ways. "
   ]
  },
  {
   "cell_type": "code",
   "execution_count": 0,
   "metadata": {
    "colab": {},
    "colab_type": "code",
    "id": "Ah1uGgYe3DvL"
   },
   "outputs": [],
   "source": [
    "list4 = [1, 1, 2, 3, 5, 8, 13, 21, 34, 55, 89, 144]\n",
    "\n",
    "\n",
    "# Your code here."
   ]
  },
  {
   "cell_type": "markdown",
   "metadata": {
    "colab_type": "text",
    "id": "73DsLSHu3DvP"
   },
   "source": [
    "### 2.5 \n",
    "Given ```list5```, create the list ```[4,3,\"hello world\", \"Jelani\"]``` using one line of code. How do you know you've succeeded? \n",
    "\n",
    "_Hint: print out the list to check_"
   ]
  },
  {
   "cell_type": "code",
   "execution_count": 0,
   "metadata": {
    "colab": {},
    "colab_type": "code",
    "id": "7otOl0HX3DvQ"
   },
   "outputs": [],
   "source": [
    "list5 = [4, 3, 7, 'Jelani']\n",
    "\n",
    "# Your code here."
   ]
  },
  {
   "cell_type": "markdown",
   "metadata": {
    "colab_type": "text",
    "id": "z57oHPiI3DvT"
   },
   "source": [
    "### 2.6 \n",
    "Given ```str1```, create the string ```cat``` by using slicing."
   ]
  },
  {
   "cell_type": "code",
   "execution_count": 0,
   "metadata": {
    "colab": {},
    "colab_type": "code",
    "id": "zg_O2KgL3DvT"
   },
   "outputs": [],
   "source": [
    "str1 = \"caterpillar\"\n",
    "\n",
    "print(str1)  # modify this line"
   ]
  },
  {
   "cell_type": "markdown",
   "metadata": {
    "colab_type": "text",
    "id": "dYrJ4v4_3DvX"
   },
   "source": [
    "## Question 3"
   ]
  },
  {
   "cell_type": "markdown",
   "metadata": {
    "colab_type": "text",
    "id": "xkreUcsv3DvX"
   },
   "source": [
    "### 3.1 \n",
    "Try executing the code below. Can you change the output by changing only 1 character (there may be multiple solutions)?"
   ]
  },
  {
   "cell_type": "code",
   "execution_count": 0,
   "metadata": {
    "colab": {},
    "colab_type": "code",
    "id": "8PSbFJZa3DvY"
   },
   "outputs": [],
   "source": [
    "x = 42\n",
    "y = 111\n",
    "\n",
    "# Modify the output of this code by changing only 1 character:\n",
    "print(x < y)"
   ]
  },
  {
   "cell_type": "markdown",
   "metadata": {
    "colab_type": "text",
    "id": "1QAcecKL3Dvc"
   },
   "source": [
    "### 3.2 \n",
    "What is different in the case below? "
   ]
  },
  {
   "cell_type": "markdown",
   "metadata": {
    "colab_type": "text",
    "id": "wtgz1eHd3Dvd"
   },
   "source": [
    "```\n",
    "x = \"42\"\n",
    "y = \"111\"\n",
    "print(x < y)\n",
    "```"
   ]
  },
  {
   "cell_type": "code",
   "execution_count": 0,
   "metadata": {
    "colab": {},
    "colab_type": "code",
    "id": "UD4xnRXT3Dve"
   },
   "outputs": [],
   "source": [
    "# Your answer here"
   ]
  },
  {
   "cell_type": "markdown",
   "metadata": {
    "colab_type": "text",
    "id": "27T0ARvh3Dvf"
   },
   "source": [
    "### 3.3 \n",
    "Construct an 4 digit number and a 5 digit number such that the 4 digit number is greater than the 5 digit number when they are of type string. "
   ]
  },
  {
   "cell_type": "code",
   "execution_count": 0,
   "metadata": {
    "colab": {},
    "colab_type": "code",
    "id": "BV9E0CLX3Dvg"
   },
   "outputs": [],
   "source": [
    "# Your code here.\n",
    "\n",
    "# Make sure to test your code here."
   ]
  },
  {
   "cell_type": "markdown",
   "metadata": {
    "colab_type": "text",
    "id": "amXndd0W3Dvl"
   },
   "source": [
    "### 3.4 \n",
    "What would be the result of the following operations?\n",
    "\n",
    "\n",
    "```python\n",
    "'A' == 'a' \n",
    "'Brunch'< 'banana' \n",
    "'coffee' < 'Coffee' \n",
    "'Dog' > 'cat'\n",
    "'Daniel' != 'daniel'\n",
    "'jessica' > 'jess'\n",
    "'CORINA' < 'CORONA'\n",
    "```"
   ]
  },
  {
   "cell_type": "markdown",
   "metadata": {
    "colab_type": "text",
    "id": "SIYL0N813Dvs"
   },
   "source": [
    "### 3.5 \n",
    "Check your answer in the box below. Can you figure out the rules for string comparisons?"
   ]
  },
  {
   "cell_type": "code",
   "execution_count": 0,
   "metadata": {
    "colab": {},
    "colab_type": "code",
    "id": "E-_d4bYV3Dvt"
   },
   "outputs": [],
   "source": [
    "# Explore here\n",
    "# print('A' == 'a')"
   ]
  },
  {
   "cell_type": "markdown",
   "metadata": {
    "colab_type": "text",
    "id": "VBX3T-643Dvv"
   },
   "source": [
    "## Question 4 "
   ]
  },
  {
   "cell_type": "markdown",
   "metadata": {
    "colab_type": "text",
    "id": "nwc1BwLx3Dvw"
   },
   "source": [
    "### 4.1 \n",
    "Write a function that takes ```x``` as an argument, and returns ```5 * x```."
   ]
  },
  {
   "cell_type": "code",
   "execution_count": 0,
   "metadata": {
    "colab": {},
    "colab_type": "code",
    "id": "aoz7L9se3Dvw"
   },
   "outputs": [],
   "source": [
    "def multFive(x):\n",
    "    # Your code here.\n",
    "\n",
    "\n",
    "    # Test your code here.\n",
    "multFive(2)"
   ]
  },
  {
   "cell_type": "markdown",
   "metadata": {
    "colab_type": "text",
    "id": "hQ824svS3Dvz"
   },
   "source": [
    "### 4.2 \n",
    "Write a function that takes ```x``` as an argument and returns ```x + 2```. "
   ]
  },
  {
   "cell_type": "code",
   "execution_count": 0,
   "metadata": {
    "colab": {},
    "colab_type": "code",
    "id": "Ojgg_T4Q3Dv0"
   },
   "outputs": [],
   "source": [
    "def addTwo(x):\n",
    "    # Your code here.\n",
    "\n",
    "\n",
    "    # Test your code here.\n",
    "addTwo(2)"
   ]
  },
  {
   "cell_type": "markdown",
   "metadata": {
    "colab_type": "text",
    "id": "juihTViV3Dv3"
   },
   "source": [
    "### 4.3 \n",
    "Write a function that returns ```5 * x + 2```, without using any arithmetic operations.\n",
    "\n",
    "_Hint: use multFive and addTwo. Please run the cells for exercises 4.1 and 4.2 before running this cell._"
   ]
  },
  {
   "cell_type": "code",
   "execution_count": 0,
   "metadata": {
    "colab": {},
    "colab_type": "code",
    "id": "3UKAiGBl3Dv3"
   },
   "outputs": [],
   "source": [
    "# Define your function here.\n",
    "\n",
    "\n",
    "# Test your code here."
   ]
  },
  {
   "cell_type": "markdown",
   "metadata": {
    "colab_type": "text",
    "id": "2lWaFHGC3Dv6"
   },
   "source": [
    "### 5.1 \n",
    "Write a function called ```addXtoY``` that takes two arguments ```x``` and ```y```, and returns their sum. "
   ]
  },
  {
   "cell_type": "code",
   "execution_count": 0,
   "metadata": {
    "colab": {},
    "colab_type": "code",
    "id": "ZDZsqta_3Dv6"
   },
   "outputs": [],
   "source": [
    "# Define addXtoY(x, y) function here.\n",
    "\n",
    "\n",
    "# Test your code here."
   ]
  },
  {
   "cell_type": "markdown",
   "metadata": {
    "colab_type": "text",
    "id": "rToywkYC3Dv9"
   },
   "source": [
    "### 5.2 \n",
    "Write a function called ```multiplyXandY``` that takes two arguments ```x``` and ```y```, and returns their product. "
   ]
  },
  {
   "cell_type": "code",
   "execution_count": 0,
   "metadata": {
    "colab": {},
    "colab_type": "code",
    "id": "-nIwrQp63DwC"
   },
   "outputs": [],
   "source": [
    "# Define multiplyXandY(x, y) function here.\n",
    "\n",
    "\n",
    "# Test your code here."
   ]
  },
  {
   "cell_type": "markdown",
   "metadata": {
    "colab_type": "text",
    "id": "O6EfwZ_33DwE"
   },
   "source": [
    "### 5.3 \n",
    "Use the functions from 5.1 and 5.2, and add at least 3 functions similar to those above that simulate a calculator's functions."
   ]
  },
  {
   "cell_type": "code",
   "execution_count": 0,
   "metadata": {
    "colab": {},
    "colab_type": "code",
    "id": "WfUyVERw3DwF"
   },
   "outputs": [],
   "source": [
    "# Define your functions here.\n",
    "\n",
    "\n",
    "# Test your functions here."
   ]
  },
  {
   "cell_type": "markdown",
   "metadata": {
    "colab_type": "text",
    "id": "FK2YN_Pp3DwJ"
   },
   "source": [
    "### 5.4 \n",
    "Use your calculator functions to write a function that represents $ f(x) = 5x + 4 $."
   ]
  },
  {
   "cell_type": "code",
   "execution_count": 0,
   "metadata": {
    "colab": {},
    "colab_type": "code",
    "id": "6LYDjadv3DwK"
   },
   "outputs": [],
   "source": [
    "# Define your function here.\n",
    "\n",
    "\n",
    "# Test your function here."
   ]
  },
  {
   "cell_type": "markdown",
   "metadata": {
    "colab_type": "text",
    "id": "7cRTSw2H3DwN"
   },
   "source": [
    "## Question 6 "
   ]
  },
  {
   "cell_type": "markdown",
   "metadata": {
    "colab_type": "text",
    "id": "9mmFbOkC3DwN"
   },
   "source": [
    "### 6.1 \n",
    "Write a function called ```concatXandY``` that takes two strings ```x``` and ```y```, and concatenates them together."
   ]
  },
  {
   "cell_type": "code",
   "execution_count": 0,
   "metadata": {
    "colab": {},
    "colab_type": "code",
    "id": "5DX7WcSW3DwO"
   },
   "outputs": [],
   "source": [
    "# Define your function here.\n",
    "\n",
    "\n",
    "# Test your function here."
   ]
  },
  {
   "cell_type": "markdown",
   "metadata": {
    "colab_type": "text",
    "id": "2gB3XPjJ3DwR"
   },
   "source": [
    "### 6.2 \n",
    "Write a function ```concatXYZ``` that takes three strings ```x```, ```y```, and ```z```, and concatenates them together without using any arithmethic operations."
   ]
  },
  {
   "cell_type": "code",
   "execution_count": 0,
   "metadata": {
    "colab": {},
    "colab_type": "code",
    "id": "UeH_tcUA3DwS"
   },
   "outputs": [],
   "source": [
    "# Define your function here.\n",
    "\n",
    "\n",
    "# Test your function here."
   ]
  },
  {
   "cell_type": "markdown",
   "metadata": {
    "colab_type": "text",
    "id": "a_bmDxIu3DwW"
   },
   "source": [
    "## Question 7\n"
   ]
  },
  {
   "cell_type": "markdown",
   "metadata": {
    "colab_type": "text",
    "id": "yZfizhwJ3DwX"
   },
   "source": [
    "### 7.1 \n",
    "Write a function ```cToF``` that converts Celsius to Fahrenheit using the equation $F = C \\times \\frac{9}{5} + 32$."
   ]
  },
  {
   "cell_type": "code",
   "execution_count": 0,
   "metadata": {
    "colab": {},
    "colab_type": "code",
    "id": "B_wfCqD63DwY"
   },
   "outputs": [],
   "source": [
    "# Define your function here.\n",
    "\n",
    "\n",
    "# Test your function here."
   ]
  },
  {
   "cell_type": "markdown",
   "metadata": {
    "colab_type": "text",
    "id": "IBXdjcMZ3Dwd"
   },
   "source": [
    "### 7.2 \n",
    "Write a function ```fToC``` that converts Fahrenheit to Celsius using the equation $C = (F - 32) \\times \\frac{5}{9}$."
   ]
  },
  {
   "cell_type": "code",
   "execution_count": 0,
   "metadata": {
    "colab": {},
    "colab_type": "code",
    "id": "Q3-NQ0Tx3Dwd"
   },
   "outputs": [],
   "source": [
    "# Define your function here.\n",
    "\n",
    "\n",
    "# Test your function here."
   ]
  },
  {
   "cell_type": "markdown",
   "metadata": {
    "colab_type": "text",
    "id": "H511TM4X3Dwh"
   },
   "source": [
    "### 7.3 \n",
    "What happens when you call ```cToF(fToC(x))```? Try for a few values of ```x```. Can you prove it? "
   ]
  },
  {
   "cell_type": "code",
   "execution_count": 0,
   "metadata": {
    "colab": {},
    "colab_type": "code",
    "id": "YyEjcp-A3Dwi"
   },
   "outputs": [],
   "source": [
    "# Define your function here.\n",
    "\n",
    "\n",
    "# Test your function here."
   ]
  },
  {
   "cell_type": "markdown",
   "metadata": {
    "colab_type": "text",
    "id": "5pI3DDzd3Dwl"
   },
   "source": [
    "## Question 8 \n"
   ]
  },
  {
   "cell_type": "markdown",
   "metadata": {
    "colab_type": "text",
    "id": "gxVdZ62A3Dwm"
   },
   "source": [
    "### 8.1 \n",
    "Write a function called ```pythagoreanTriplet``` that takes in 3 integers which will represent triangle side lengths and returns a bool, to determine if it forms a right-angled triangle. The arguments are guaranteed to be sorted in increasing order.\n",
    "\n",
    "_Hint: A triangle is a right-angled when side lengths a, b, and c satisfy $ a^{2} + b^{2} = c^{2}$._ "
   ]
  },
  {
   "cell_type": "code",
   "execution_count": 0,
   "metadata": {
    "colab": {},
    "colab_type": "code",
    "id": "dd15dCl83Dwm"
   },
   "outputs": [],
   "source": [
    "# Define your function here.\n",
    "\n",
    "\n",
    "# Test your function here.\n",
    "# Add your own test cases to confirm your solution works properly.\n",
    "print(pythagoreanTriplet(3, 4, 5))"
   ]
  },
  {
   "cell_type": "markdown",
   "metadata": {
    "colab_type": "text",
    "id": "KsP7vDBz3Dwp"
   },
   "source": [
    "## Question 9"
   ]
  },
  {
   "cell_type": "markdown",
   "metadata": {
    "colab_type": "text",
    "id": "w0FkjQ3k3Dwp"
   },
   "source": [
    "### 9.1 \n",
    "A palindrome is a string that is the same when read forwards and backwards. For example, \"madam\", \"alabala\", and \"12321\" are palindromes but \"daniel\", \"hello\", and \"1234\" are not. Write a function ```threePalindrome``` that takes in a THREE-LETTER string, and returns a boolean that is ```True``` when the string is palindrome, and ```False``` when it is not.\n"
   ]
  },
  {
   "cell_type": "code",
   "execution_count": 0,
   "metadata": {
    "colab": {},
    "colab_type": "code",
    "id": "KFXNe2Bc3Dwr"
   },
   "outputs": [],
   "source": [
    "# Define your function here.\n",
    "\n",
    "\n",
    "# Test your function here.\n",
    "# Add your own test cases to confirm your solution works properly."
   ]
  },
  {
   "cell_type": "markdown",
   "metadata": {
    "colab_type": "text",
    "id": "id3KOvOT3Dwx"
   },
   "source": [
    "### 9.2 \n",
    "Write a function ```fourPalindrome``` that checks if a four-letter string is a palindrome."
   ]
  },
  {
   "cell_type": "code",
   "execution_count": 0,
   "metadata": {
    "colab": {},
    "colab_type": "code",
    "id": "tRMRSRKd3Dwy"
   },
   "outputs": [],
   "source": [
    "# Define your function here.\n",
    "\n",
    "\n",
    "# Test your function here.\n",
    "# Add your own test cases to confirm your solution works properly."
   ]
  },
  {
   "cell_type": "markdown",
   "metadata": {
    "colab_type": "text",
    "id": "_UhGlRUc3Dw0"
   },
   "source": [
    "## Question 10"
   ]
  },
  {
   "cell_type": "markdown",
   "metadata": {
    "colab_type": "text",
    "id": "P1ekwsWW3Dw1"
   },
   "source": [
    "### 10.1 \n",
    "Look at the function below. Without calling it, can you predict the outcomes of calling ```funkyFunc(100)```, ```funkyFunc(123456)```, and ```funkyFunc(420)```?"
   ]
  },
  {
   "cell_type": "code",
   "execution_count": 0,
   "metadata": {
    "colab": {},
    "colab_type": "code",
    "id": "NHDP7jkW3Dw1"
   },
   "outputs": [],
   "source": [
    "# Run this cell first.\n",
    "def funkyFunc(x):\n",
    "    z = x * 10\n",
    "    x = x % 10\n",
    "    z = z + x\n",
    "    return z"
   ]
  },
  {
   "cell_type": "code",
   "execution_count": 0,
   "metadata": {
    "colab": {},
    "colab_type": "code",
    "id": "mIjxn2aa3Dw2"
   },
   "outputs": [],
   "source": [
    "# FILL IN YOUR ANSWERS FOR ??\n",
    "\n",
    "# for x = 100,     funkyFunc(x) = ??\n",
    "# for x = 123456,  funkyFunc(x) = ??\n",
    "# for x = 420,      funkyFunc(x) = ??\n",
    "\n",
    "# Check your answers below with code:"
   ]
  },
  {
   "cell_type": "markdown",
   "metadata": {
    "colab_type": "text",
    "id": "W_rNUgyF3Dw6"
   },
   "source": [
    "### 10.2 \n",
    "Can you write a function ```funkierFunc``` which takes one argument and for which the following equation is true for any $x>0$:\n",
    " \n",
    " ```funkierFunc ( funkyFunc(x) ) = x```\n",
    " "
   ]
  },
  {
   "cell_type": "code",
   "execution_count": 0,
   "metadata": {
    "colab": {
     "base_uri": "https://localhost:8080/",
     "height": 34
    },
    "colab_type": "code",
    "executionInfo": {
     "elapsed": 1068,
     "status": "ok",
     "timestamp": 1564138141887,
     "user": {
      "displayName": "Stephen Koo",
      "photoUrl": "https://lh3.googleusercontent.com/a-/AAuE7mBMuHvf2j89kjsex3el-nRjPCbBTs0fFHlWIdsmmg=s64",
      "userId": "10496446536891937763"
     },
     "user_tz": -180
    },
    "id": "WsApCAky3Dw6",
    "outputId": "b3a9c5f1-042a-4648-8b27-bf81100dea0a"
   },
   "outputs": [
    {
     "data": {
      "text/plain": [
       "12"
      ]
     },
     "execution_count": 4,
     "metadata": {
      "tags": []
     },
     "output_type": "execute_result"
    }
   ],
   "source": [
    "def funkierFunc(x):\n",
    "    # Your code here.\n",
    "\n",
    "\n",
    "    # Check if your code is correct here:\n",
    "funkierFunc(funkyFunc(12))"
   ]
  }
 ],
 "metadata": {
  "colab": {
   "collapsed_sections": [],
   "name": "probs1b.ipynb",
   "provenance": [],
   "version": "0.3.2"
  },
  "kernelspec": {
   "display_name": "Python 3 (ipykernel)",
   "language": "python",
   "name": "python3"
  },
  "language_info": {
   "codemirror_mode": {
    "name": "ipython",
    "version": 3
   },
   "file_extension": ".py",
   "mimetype": "text/x-python",
   "name": "python",
   "nbconvert_exporter": "python",
   "pygments_lexer": "ipython3",
   "version": "3.9.7"
  }
 },
 "nbformat": 4,
 "nbformat_minor": 1
}
