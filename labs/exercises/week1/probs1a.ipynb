{
 "cells": [
  {
   "cell_type": "markdown",
   "metadata": {
    "colab_type": "text",
    "id": "fh3TuPnozjDw"
   },
   "source": [
    "# Week 1, Day1 and Part A Exercises "
   ]
  },
  {
   "cell_type": "markdown",
   "metadata": {},
   "source": [
    "# Table of Contents  \n",
    "\n",
    "**[Question 1: Numeric type](#1)**\n",
    "\n",
    "**[Question 2: String Type](#2)**\n",
    "\n",
    "**[Question 3: Error type](#3)**\n",
    "\n",
    "**[Question 4: List Type](#4)**\n",
    "\n",
    "**[Question 5: Multiplication Operation](#5)**\n",
    "\n",
    "**[Question 6: Boolean Operator](#6)**\n",
    "\n",
    "**[Question 7: Variable ](#7)**\n",
    "\n",
    "**[Question 8: Variable Tricky Name](#8)**\n",
    "\n",
    "**[Question 9: Maths and Increment operations ](#8)**"
   ]
  },
  {
   "cell_type": "markdown",
   "metadata": {
    "colab_type": "text",
    "id": "PjxbdiutzjEX"
   },
   "source": [
    "## Question 1: Numeric type ( Integer, Float )"
   ]
  },
  {
   "cell_type": "markdown",
   "metadata": {
    "colab_type": "text",
    "id": "1gtUFha4zjEf"
   },
   "source": [
    "_Use code to determine the answers to the question 1.1-1.4_"
   ]
  },
  {
   "cell_type": "markdown",
   "metadata": {
    "colab_type": "text",
    "id": "yoQwowxQzjEj"
   },
   "source": [
    "### 1.1 \n",
    "What is the type of ```1```? "
   ]
  },
  {
   "cell_type": "code",
   "execution_count": null,
   "metadata": {
    "colab": {},
    "colab_type": "code",
    "id": "LiOZYcDhzjEo"
   },
   "outputs": [],
   "source": []
  },
  {
   "cell_type": "markdown",
   "metadata": {
    "colab_type": "text",
    "id": "vakteEunzjFA"
   },
   "source": [
    "### 1.2 \n",
    "What about the type of ```1.0```? "
   ]
  },
  {
   "cell_type": "code",
   "execution_count": null,
   "metadata": {
    "colab": {},
    "colab_type": "code",
    "id": "vuDlygrUzjFE"
   },
   "outputs": [],
   "source": []
  },
  {
   "cell_type": "markdown",
   "metadata": {
    "colab_type": "text",
    "id": "lyIE0CqIzjFj"
   },
   "source": [
    "### 1.3 \n",
    "What is the resulting type of adding an ```1``` and ```1```? "
   ]
  },
  {
   "cell_type": "code",
   "execution_count": null,
   "metadata": {
    "colab": {},
    "colab_type": "code",
    "id": "HFeATOwszjFp"
   },
   "outputs": [],
   "source": []
  },
  {
   "cell_type": "markdown",
   "metadata": {
    "colab_type": "text",
    "id": "WJZhT0MlzjF7"
   },
   "source": [
    "### 1.4\n",
    "What is the resulting type of adding ```1``` and ```1.0```? "
   ]
  },
  {
   "cell_type": "code",
   "execution_count": null,
   "metadata": {
    "colab": {},
    "colab_type": "code",
    "id": "W-niaeRAzjF_"
   },
   "outputs": [],
   "source": []
  },
  {
   "cell_type": "markdown",
   "metadata": {
    "colab_type": "text",
    "id": "IQnNwnLjzjGS"
   },
   "source": [
    "### 1.5\n",
    "So, what can you say about the resulting type of adding an ```int``` and a ```float```?"
   ]
  },
  {
   "cell_type": "code",
   "execution_count": null,
   "metadata": {
    "colab": {},
    "colab_type": "code",
    "id": "cSawBtG4zjGX"
   },
   "outputs": [],
   "source": []
  },
  {
   "cell_type": "markdown",
   "metadata": {
    "colab_type": "text",
    "id": "TXYEtJy4zjG3"
   },
   "source": [
    "## Question 2 : String Type"
   ]
  },
  {
   "cell_type": "markdown",
   "metadata": {
    "colab_type": "text",
    "id": "vPOkYk9azjG8"
   },
   "source": [
    "_Use code to determine the answers to the question 2.1-2.4_"
   ]
  },
  {
   "cell_type": "markdown",
   "metadata": {
    "colab_type": "text",
    "id": "nlUsy1FBzjHC"
   },
   "source": [
    "### 2.1\n",
    "What is the type of `\"Jelani\"`?"
   ]
  },
  {
   "cell_type": "code",
   "execution_count": null,
   "metadata": {
    "colab": {},
    "colab_type": "code",
    "id": "TEErEdStzjHJ"
   },
   "outputs": [],
   "source": []
  },
  {
   "cell_type": "markdown",
   "metadata": {
    "colab_type": "text",
    "id": "-ESGxIE3zjHX"
   },
   "source": [
    "### 2.2\n",
    "What is the type of ```'Computer'```?"
   ]
  },
  {
   "cell_type": "code",
   "execution_count": null,
   "metadata": {
    "colab": {},
    "colab_type": "code",
    "id": "fYD4eYF-zjHb"
   },
   "outputs": [],
   "source": []
  },
  {
   "cell_type": "markdown",
   "metadata": {
    "colab_type": "text",
    "id": "OS5JS87OzjHs"
   },
   "source": [
    "### 2.3\n",
    "What happens when you add ```\"Jelani\"``` and ```'Computer'```? "
   ]
  },
  {
   "cell_type": "code",
   "execution_count": null,
   "metadata": {
    "colab": {},
    "colab_type": "code",
    "id": "mAAG2R0KzjHx"
   },
   "outputs": [],
   "source": []
  },
  {
   "cell_type": "markdown",
   "metadata": {
    "colab_type": "text",
    "id": "gUL26CuVzjH9"
   },
   "source": [
    "### 2.4\n",
    "What is the resulting type of adding ```\"Jelani\"``` and ```'Computer'```?"
   ]
  },
  {
   "cell_type": "code",
   "execution_count": null,
   "metadata": {
    "colab": {},
    "colab_type": "code",
    "id": "kcuj-u56zjH_"
   },
   "outputs": [],
   "source": []
  },
  {
   "cell_type": "markdown",
   "metadata": {
    "colab_type": "text",
    "id": "JtYpK1tMzjIR"
   },
   "source": [
    "### 2.5\n",
    "Is there a difference between single quotes and double quotes?"
   ]
  },
  {
   "cell_type": "code",
   "execution_count": null,
   "metadata": {
    "colab": {},
    "colab_type": "code",
    "id": "lRcOVAT4zjIV"
   },
   "outputs": [],
   "source": []
  },
  {
   "cell_type": "markdown",
   "metadata": {
    "colab_type": "text",
    "id": "M6DCViJHzjIh"
   },
   "source": [
    "### 2.6\n",
    "What happens when you add two strings (with the `+` operator)? "
   ]
  },
  {
   "cell_type": "code",
   "execution_count": null,
   "metadata": {
    "colab": {},
    "colab_type": "code",
    "id": "9LiLT2uYzjIq"
   },
   "outputs": [],
   "source": []
  },
  {
   "cell_type": "markdown",
   "metadata": {
    "colab_type": "text",
    "id": "vxfbKcPMzjJJ"
   },
   "source": [
    "## Question 3: Error Type"
   ]
  },
  {
   "cell_type": "markdown",
   "metadata": {
    "colab_type": "text",
    "id": "wMxcoy5IzjJM"
   },
   "source": [
    "_Use code to determine the answers to the question 3.1_"
   ]
  },
  {
   "cell_type": "markdown",
   "metadata": {
    "colab_type": "text",
    "id": "gy0CCdRXzjJP"
   },
   "source": [
    "### 3.1\n",
    "What is the resulting type of adding ```3``` and ```'3'```? "
   ]
  },
  {
   "cell_type": "code",
   "execution_count": null,
   "metadata": {
    "colab": {},
    "colab_type": "code",
    "id": "AAyZPOhKzjJS"
   },
   "outputs": [],
   "source": []
  },
  {
   "cell_type": "markdown",
   "metadata": {
    "colab_type": "text",
    "id": "-x0AHBIpzjJo"
   },
   "source": [
    "### 3.2\n",
    "Can you explain why the error occured?"
   ]
  },
  {
   "cell_type": "markdown",
   "metadata": {
    "colab_type": "text",
    "id": "cCtEGZ6f8oCy"
   },
   "source": []
  },
  {
   "cell_type": "markdown",
   "metadata": {
    "colab_type": "text",
    "id": "_TH-WBDJzjJ7"
   },
   "source": [
    "## Question 4: List type"
   ]
  },
  {
   "cell_type": "markdown",
   "metadata": {
    "colab_type": "text",
    "id": "WI4YykV_zjJ_"
   },
   "source": [
    "_Use code to determine the answers to the question 4.1-4.4_"
   ]
  },
  {
   "cell_type": "markdown",
   "metadata": {
    "colab_type": "text",
    "id": "1GliqIUrzjKD"
   },
   "source": [
    "### 4.1\n",
    "Make a list that contains ```4``` and ```5.0```. "
   ]
  },
  {
   "cell_type": "code",
   "execution_count": null,
   "metadata": {
    "colab": {},
    "colab_type": "code",
    "id": "j1r1vPxozjKF"
   },
   "outputs": [],
   "source": []
  },
  {
   "cell_type": "markdown",
   "metadata": {
    "colab_type": "text",
    "id": "lMmCvSyCzjKz"
   },
   "source": [
    "### 4.2\n",
    "Can you make a list that has ```1```, ```2``` and ```\"Jelani\"```in it? "
   ]
  },
  {
   "cell_type": "code",
   "execution_count": null,
   "metadata": {
    "colab": {},
    "colab_type": "code",
    "id": "ZXa6FVA2zjK1"
   },
   "outputs": [],
   "source": []
  },
  {
   "cell_type": "markdown",
   "metadata": {
    "colab_type": "text",
    "id": "szQxWidrzjK8"
   },
   "source": [
    "### 4.3\n",
    "Can you make a list that contains ```1```, ```2```, ```\"Jelani\"```, and ```[4, 5.0]```? "
   ]
  },
  {
   "cell_type": "code",
   "execution_count": null,
   "metadata": {
    "colab": {},
    "colab_type": "code",
    "id": "DyCTAOLOzjK_"
   },
   "outputs": [],
   "source": []
  },
  {
   "cell_type": "markdown",
   "metadata": {
    "colab_type": "text",
    "id": "tOSK_yCdzjLS"
   },
   "source": [
    "### 4.4\n",
    "Think about another type we haven't used in Question 4. Can you put it in the list of ```[1, 2.0]```?  "
   ]
  },
  {
   "cell_type": "code",
   "execution_count": null,
   "metadata": {
    "colab": {},
    "colab_type": "code",
    "id": "UK_vaeenzjLU"
   },
   "outputs": [],
   "source": []
  },
  {
   "cell_type": "markdown",
   "metadata": {
    "colab_type": "text",
    "id": "ovUALfxpzjLe"
   },
   "source": [
    "### 4.5\n",
    "What types can lists contain?"
   ]
  },
  {
   "cell_type": "code",
   "execution_count": null,
   "metadata": {
    "colab": {},
    "colab_type": "code",
    "id": "Gntbzgc-zjLi"
   },
   "outputs": [],
   "source": []
  },
  {
   "cell_type": "markdown",
   "metadata": {
    "colab_type": "text",
    "id": "hRn9fN2czjLs"
   },
   "source": [
    "### 4.6\n",
    "Add lists ```[5, 6, 'pom']``` and ```[True, 12, 5.0]``` together. What happens? "
   ]
  },
  {
   "cell_type": "code",
   "execution_count": null,
   "metadata": {
    "colab": {},
    "colab_type": "code",
    "id": "o2L1OXK1zjLu"
   },
   "outputs": [],
   "source": []
  },
  {
   "cell_type": "markdown",
   "metadata": {
    "colab_type": "text",
    "id": "x1631alMzjL6"
   },
   "source": [
    "## Question 5: Multiplication Operation"
   ]
  },
  {
   "cell_type": "markdown",
   "metadata": {
    "colab_type": "text",
    "id": "o3rx_26bzjL8"
   },
   "source": [
    "_Use code to determine the answers to the question 5.1-5.4_"
   ]
  },
  {
   "cell_type": "markdown",
   "metadata": {
    "colab_type": "text",
    "id": "hfUep0U-zjME"
   },
   "source": [
    "### 5.1\n",
    "Multiply ```5``` and ```4```."
   ]
  },
  {
   "cell_type": "code",
   "execution_count": null,
   "metadata": {
    "colab": {},
    "colab_type": "code",
    "id": "_JdfHcSqzjMH"
   },
   "outputs": [],
   "source": []
  },
  {
   "cell_type": "markdown",
   "metadata": {
    "colab_type": "text",
    "id": "etox1HqXzjMX"
   },
   "source": [
    "### 5.2\n",
    "Multiply ```'Shiro'``` by ```3```."
   ]
  },
  {
   "cell_type": "code",
   "execution_count": null,
   "metadata": {
    "colab": {},
    "colab_type": "code",
    "id": "Z9dyob6dzjMa"
   },
   "outputs": [],
   "source": []
  },
  {
   "cell_type": "markdown",
   "metadata": {
    "colab_type": "text",
    "id": "WnztKM1jzjMn"
   },
   "source": [
    "### 5.3\n",
    "Multiply ```5.0``` and ```4```."
   ]
  },
  {
   "cell_type": "code",
   "execution_count": null,
   "metadata": {
    "colab": {},
    "colab_type": "code",
    "id": "x-JJ9HwozjMq"
   },
   "outputs": [],
   "source": []
  },
  {
   "cell_type": "markdown",
   "metadata": {
    "colab_type": "text",
    "id": "pGDFXy3nzjM9"
   },
   "source": [
    "### 5.4\n",
    "Multiply ```['Shiro', 5]``` by ```4```."
   ]
  },
  {
   "cell_type": "code",
   "execution_count": null,
   "metadata": {
    "colab": {},
    "colab_type": "code",
    "id": "ivlPzBNvzjNA"
   },
   "outputs": [],
   "source": []
  },
  {
   "cell_type": "markdown",
   "metadata": {
    "colab_type": "text",
    "id": "U0Z_sTj6zjNP"
   },
   "source": [
    "### 5.5\n",
    "What patterns emerge when you multiply different types with an integer? "
   ]
  },
  {
   "cell_type": "markdown",
   "metadata": {
    "colab_type": "text",
    "id": "DKRFEmKJ81Pa"
   },
   "source": []
  },
  {
   "cell_type": "markdown",
   "metadata": {
    "colab_type": "text",
    "id": "Tlr__Jm7zjNd"
   },
   "source": [
    "# Question 6: Boolean operator\n",
    "\n",
    "_The upper left corner that's colored represents the operator. For example, in figure 1, B represents the result of False and True._"
   ]
  },
  {
   "cell_type": "markdown",
   "metadata": {
    "colab_type": "text",
    "id": "-wcpz-HLzjNh"
   },
   "source": [
    "**Figure 1**\n",
    "\n",
    "| AND      |  True | False |\n",
    "| -------- | ----- | ----- |\n",
    "| **True** |   A   |   B   |\n",
    "| **False**|   C   |   D   |"
   ]
  },
  {
   "cell_type": "markdown",
   "metadata": {
    "colab_type": "text",
    "id": "nOVKVSS7zjNj"
   },
   "source": [
    "**Figure 2**\n",
    " \n",
    "|  OR      |  True | False |\n",
    "| -------- | ----- | ----- |\n",
    "| **True** |   E   |   F   |\n",
    "| **False**|   G   |   H   |"
   ]
  },
  {
   "cell_type": "markdown",
   "metadata": {
    "colab_type": "text",
    "id": "gAcxDNNbzjNm"
   },
   "source": [
    "### 6.1\n",
    "What are the boolean values of A through H? Use your intuition. "
   ]
  },
  {
   "cell_type": "markdown",
   "metadata": {
    "colab_type": "text",
    "id": "wEDzU7Or8-mA"
   },
   "source": [
    "*Fill out this list.*\n",
    "\n",
    "A. \n",
    "\n",
    "B. \n",
    "\n",
    "C. \n",
    "\n",
    "D.\n",
    "\n",
    "E. \n",
    "\n",
    "F. \n",
    "\n",
    "G. \n",
    "\n",
    "H."
   ]
  },
  {
   "cell_type": "markdown",
   "metadata": {
    "colab_type": "text",
    "id": "KAUnQTgbzjN_"
   },
   "source": [
    "### 6.2\n",
    "Use code to check your above answers. "
   ]
  },
  {
   "cell_type": "code",
   "execution_count": null,
   "metadata": {
    "colab": {},
    "colab_type": "code",
    "id": "jmHWPxcgzjOB"
   },
   "outputs": [],
   "source": []
  },
  {
   "cell_type": "markdown",
   "metadata": {
    "colab_type": "text",
    "id": "mr_pak-dzjOL"
   },
   "source": [
    "### 6.3\n",
    "Are ```3``` and ```'3'``` equivalent? Use code to confirm. "
   ]
  },
  {
   "cell_type": "code",
   "execution_count": null,
   "metadata": {
    "colab": {},
    "colab_type": "code",
    "id": "QSa8QhZUzjON"
   },
   "outputs": [],
   "source": []
  },
  {
   "cell_type": "markdown",
   "metadata": {
    "colab_type": "text",
    "id": "6ZUyfq03zjOV"
   },
   "source": [
    "### 6.4\n",
    "Are ```\"Jelani\"``` and ```\"jelani\"``` equivalent? Use code to confirm. "
   ]
  },
  {
   "cell_type": "code",
   "execution_count": null,
   "metadata": {
    "colab": {},
    "colab_type": "code",
    "id": "T6_jDq2EzjOW"
   },
   "outputs": [],
   "source": []
  },
  {
   "cell_type": "markdown",
   "metadata": {
    "colab_type": "text",
    "id": "TFH4RN6YzjOc"
   },
   "source": [
    "### 6.5\n",
    "What is the result of ```(not False) == True```? "
   ]
  },
  {
   "cell_type": "code",
   "execution_count": null,
   "metadata": {
    "colab": {},
    "colab_type": "code",
    "id": "rDRYODJZzjOd"
   },
   "outputs": [],
   "source": []
  },
  {
   "cell_type": "markdown",
   "metadata": {
    "colab_type": "text",
    "id": "8c5-cSN-zjOs"
   },
   "source": [
    "## Question 7 Variable"
   ]
  },
  {
   "cell_type": "markdown",
   "metadata": {
    "colab_type": "text",
    "id": "L5UPycg-zjOt"
   },
   "source": [
    "### 7.1\n",
    "Define a variable ```x```, that has a value of ```5```. "
   ]
  },
  {
   "cell_type": "code",
   "execution_count": null,
   "metadata": {
    "colab": {},
    "colab_type": "code",
    "id": "M-7O5a-JzjOv"
   },
   "outputs": [],
   "source": []
  },
  {
   "cell_type": "markdown",
   "metadata": {
    "colab_type": "text",
    "id": "zBVhxkKMzjO2"
   },
   "source": [
    "### 7.2\n",
    "Define a variable ```y```, that has a value of ```x```. "
   ]
  },
  {
   "cell_type": "code",
   "execution_count": null,
   "metadata": {
    "colab": {},
    "colab_type": "code",
    "id": "W5oQ3wyrzjO3"
   },
   "outputs": [],
   "source": []
  },
  {
   "cell_type": "markdown",
   "metadata": {
    "colab_type": "text",
    "id": "iFMa1mHrzjO9"
   },
   "source": [
    "### 7.3\n",
    "What is the value of ```y```? "
   ]
  },
  {
   "cell_type": "code",
   "execution_count": null,
   "metadata": {
    "colab": {},
    "colab_type": "code",
    "id": "LmNI_bIazjO-"
   },
   "outputs": [],
   "source": []
  },
  {
   "cell_type": "markdown",
   "metadata": {
    "colab_type": "text",
    "id": "-1a_vMUnzjPD"
   },
   "source": [
    "### 7.4\n",
    "Change ```x``` to ```4```. What is the value of ```y```? "
   ]
  },
  {
   "cell_type": "code",
   "execution_count": null,
   "metadata": {
    "colab": {},
    "colab_type": "code",
    "id": "zBDjO2KbzjPF"
   },
   "outputs": [],
   "source": []
  },
  {
   "cell_type": "markdown",
   "metadata": {
    "colab_type": "text",
    "id": "_s3wCQgGzjPO"
   },
   "source": [
    "### 7.5\n",
    "Define a variable ```z```, that has a value of the sum of ```x``` and ```y```"
   ]
  },
  {
   "cell_type": "code",
   "execution_count": null,
   "metadata": {
    "colab": {},
    "colab_type": "code",
    "id": "MHIt7cdWzjPQ"
   },
   "outputs": [],
   "source": []
  },
  {
   "cell_type": "markdown",
   "metadata": {
    "colab_type": "text",
    "id": "pPUKjYEfzjPc"
   },
   "source": [
    "### 7.6\n",
    "Assign ```x``` another value, ```12```. What are the values of ```y``` and ```z```? "
   ]
  },
  {
   "cell_type": "code",
   "execution_count": null,
   "metadata": {
    "colab": {},
    "colab_type": "code",
    "id": "uIJME8kazjPe"
   },
   "outputs": [],
   "source": []
  },
  {
   "cell_type": "markdown",
   "metadata": {
    "colab_type": "text",
    "id": "3zdY03w0zjOj"
   },
   "source": [
    "### 7.7\n",
    "Define a variable ```x``` and assign it the value of ```False```,  **but without using the keyword `False`**. \n",
    "\n",
    "Hint: You can do it using one special operator."
   ]
  },
  {
   "cell_type": "code",
   "execution_count": null,
   "metadata": {
    "colab": {},
    "colab_type": "code",
    "id": "L94xAZ9Z9aRY"
   },
   "outputs": [],
   "source": []
  },
  {
   "cell_type": "markdown",
   "metadata": {
    "colab_type": "text",
    "id": "OPXbR38HzjPm"
   },
   "source": [
    "## Question 8: Tricky variable name"
   ]
  },
  {
   "cell_type": "markdown",
   "metadata": {
    "colab_type": "text",
    "id": "JYQFw6qfzjPo"
   },
   "source": [
    "### 8.1\n",
    "Given the following lines of code, what is the value of the variable ```seven```? "
   ]
  },
  {
   "cell_type": "markdown",
   "metadata": {
    "colab_type": "text",
    "id": "9m2pdJ4QzjPq"
   },
   "source": [
    "```python\n",
    "seven = 8\n",
    "```"
   ]
  },
  {
   "cell_type": "code",
   "execution_count": null,
   "metadata": {
    "colab": {},
    "colab_type": "code",
    "id": "VGKOFVdTzjPs"
   },
   "outputs": [],
   "source": []
  },
  {
   "cell_type": "markdown",
   "metadata": {
    "colab_type": "text",
    "id": "AxYGPLMfzjPz"
   },
   "source": [
    "### 8.2\n",
    "Given the following lines of code, are the variables ```shiro``` and ```Shiro``` equivalent? "
   ]
  },
  {
   "cell_type": "code",
   "execution_count": null,
   "metadata": {
    "colab": {},
    "colab_type": "code",
    "id": "ZwyxT1aEzjP8"
   },
   "outputs": [],
   "source": [
    "shiro = 10\n",
    "Shiro = 12"
   ]
  },
  {
   "cell_type": "markdown",
   "metadata": {
    "colab_type": "text",
    "id": "5WSDbPAwzjQJ"
   },
   "source": [
    "## Question 9: Maths and Increment operations "
   ]
  },
  {
   "cell_type": "markdown",
   "metadata": {
    "colab_type": "text",
    "id": "Jw5IpadlzjQM"
   },
   "source": [
    "### 9.1\n",
    "Define a variable ```x``` that has the value ```10``` times ```20```.\n"
   ]
  },
  {
   "cell_type": "code",
   "execution_count": null,
   "metadata": {
    "colab": {},
    "colab_type": "code",
    "id": "P9eu6VbqzjQQ"
   },
   "outputs": [],
   "source": []
  },
  {
   "cell_type": "markdown",
   "metadata": {
    "colab_type": "text",
    "id": "R_uf0e4SzjQi"
   },
   "source": [
    "### 9.2\n",
    "Now increment `x` by 3."
   ]
  },
  {
   "cell_type": "code",
   "execution_count": null,
   "metadata": {
    "colab": {},
    "colab_type": "code",
    "id": "lirsaov9zjQk"
   },
   "outputs": [],
   "source": []
  },
  {
   "cell_type": "markdown",
   "metadata": {
    "colab_type": "text",
    "id": "vJsa2wTG58fF"
   },
   "source": [
    "Can you increment `x` by 3 in a different way (using a different operator)?"
   ]
  },
  {
   "cell_type": "code",
   "execution_count": null,
   "metadata": {
    "colab": {},
    "colab_type": "code",
    "id": "q-bb4lFK6Cg9"
   },
   "outputs": [],
   "source": []
  },
  {
   "cell_type": "markdown",
   "metadata": {
    "colab_type": "text",
    "id": "MaYucDnfzjRA"
   },
   "source": [
    "### 9.3\n",
    "Find the remainder of ```78``` divided by ```14``` using one operator from lecture. For example - \n",
    "\n",
    "$16 = 5 * 3 + 1$ (1 is the remainder). "
   ]
  },
  {
   "cell_type": "code",
   "execution_count": null,
   "metadata": {
    "colab": {},
    "colab_type": "code",
    "id": "ASBdD-jYzjRK"
   },
   "outputs": [],
   "source": []
  },
  {
   "cell_type": "markdown",
   "metadata": {
    "colab_type": "text",
    "id": "4qmkRp6PzjRS"
   },
   "source": [
    "### 9.4\n",
    "Given ```x```, make ```x``` 10 times smaller using one operation. Return a value that has the type ```int```. "
   ]
  },
  {
   "cell_type": "code",
   "execution_count": null,
   "metadata": {
    "colab": {},
    "colab_type": "code",
    "id": "3LvyQaJxzjRT"
   },
   "outputs": [],
   "source": []
  },
  {
   "cell_type": "markdown",
   "metadata": {
    "colab_type": "text",
    "id": "r0sJwWCrzjRf"
   },
   "source": []
  },
  {
   "cell_type": "markdown",
   "metadata": {
    "colab_type": "text",
    "id": "xaRSaQ7kzjRh"
   },
   "source": [
    "### 9.5\n",
    "What type(s) can you multiply lists with, without creating an error?"
   ]
  },
  {
   "cell_type": "markdown",
   "metadata": {
    "colab_type": "text",
    "id": "nAW-w9eK9pmN"
   },
   "source": []
  },
  {
   "cell_type": "markdown",
   "metadata": {
    "colab_type": "text",
    "id": "LzhgT6iWzjRx"
   },
   "source": []
  },
  {
   "cell_type": "markdown",
   "metadata": {
    "colab_type": "text",
    "id": "g1zA998VzjRz"
   },
   "source": [
    "### 9.6\n",
    "Write code to produce\n",
    "\n",
    "a.  ``` 'ShiroShiroShiro' ```\n",
    "\n",
    "b. ```'Shiro3'```\n",
    "\n",
    "You should only type  ```'Shiro'``` once and ```3``` once for each case."
   ]
  },
  {
   "cell_type": "code",
   "execution_count": null,
   "metadata": {
    "colab": {},
    "colab_type": "code",
    "id": "ByPI6HfMzjR0"
   },
   "outputs": [],
   "source": []
  },
  {
   "cell_type": "markdown",
   "metadata": {
    "colab_type": "text",
    "id": "jIP4lzwDzjR8"
   },
   "source": []
  },
  {
   "cell_type": "markdown",
   "metadata": {
    "colab_type": "text",
    "id": "EM0WvnIjzjR9"
   },
   "source": [
    "### 9.7\n",
    "Look at the following code\n",
    "```python\n",
    "x = 99\n",
    "x /= 10\n",
    "x *= 50\n",
    "y = x\n",
    "y += 5\n",
    "x -= y\n",
    "y %= x\n",
    "\n",
    "```\n",
    "What is ```x``` and ```y```?  Try to do it in your head (or on paper) first before trying it with code."
   ]
  },
  {
   "cell_type": "code",
   "execution_count": null,
   "metadata": {
    "colab": {},
    "colab_type": "code",
    "id": "SbDb49yRzjSC"
   },
   "outputs": [],
   "source": []
  }
 ],
 "metadata": {
  "colab": {
   "collapsed_sections": [],
   "name": "probs1a.ipynb",
   "provenance": [],
   "version": "0.3.2"
  },
  "kernelspec": {
   "display_name": "Python 3 (ipykernel)",
   "language": "python",
   "name": "python3"
  },
  "language_info": {
   "codemirror_mode": {
    "name": "ipython",
    "version": 3
   },
   "file_extension": ".py",
   "mimetype": "text/x-python",
   "name": "python",
   "nbconvert_exporter": "python",
   "pygments_lexer": "ipython3",
   "version": "3.10.10"
  }
 },
 "nbformat": 4,
 "nbformat_minor": 1
}
