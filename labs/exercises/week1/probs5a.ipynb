{
 "cells": [
  {
   "cell_type": "markdown",
   "metadata": {},
   "source": [
    "# Lecture 5, Part 1 Exercises\n",
    "\n",
    "## *All of your answers should use recursion!*\n",
    "## *No loops allowed!!*\n"
   ]
  },
  {
   "cell_type": "markdown",
   "metadata": {},
   "source": [
    "## Question 0: Warm-Up\n",
    "Look at this recursive function `repeatPrint()`. Notice how there are no loops!"
   ]
  },
  {
   "cell_type": "code",
   "execution_count": null,
   "metadata": {},
   "outputs": [],
   "source": [
    "def repeatPrint(text, howManyTimes):\n",
    "    if howManyTimes == 0:\n",
    "        return\n",
    "    else:\n",
    "        print(text)\n",
    "        repeatPrint(text, howManyTimes - 1)\n",
    "\n",
    "\n",
    "repeatPrint('Hello AddisCoder', 3)\n",
    "repeatPrint('Recursion is the best', 8)"
   ]
  },
  {
   "cell_type": "markdown",
   "metadata": {},
   "source": [
    "#### 0.1\n",
    "What is the recursive case for `repeatPrint()`? Please use English."
   ]
  },
  {
   "cell_type": "code",
   "execution_count": null,
   "metadata": {},
   "outputs": [],
   "source": [
    "# recursive case is a branch of the conditional statement in a recursive function that results in a recursive call.\n",
    "# for the above the recursive case is: repeatPrint(text, howManyTimes - 1)"
   ]
  },
  {
   "cell_type": "markdown",
   "metadata": {},
   "source": [
    "#### 0.2 \n",
    "What is the base case for `repeatPrint()`? Please use English. "
   ]
  },
  {
   "cell_type": "code",
   "execution_count": null,
   "metadata": {},
   "outputs": [],
   "source": [
    "# base case is a branch of the conditional statement in a recursive function that does not result in a recursive call.\n",
    "# for the above the base case is: if howManyTimes == 0:"
   ]
  },
  {
   "cell_type": "markdown",
   "metadata": {},
   "source": [
    "## Question 1    \n",
    "\n",
    "Consider a recursive function called `sumAll(lst)`. \n",
    "* It takes a list of numbers, `lst`, as input.\n",
    "* It returns the sum of the list.\n",
    "\n",
    "For example:\n",
    "\n",
    "```\n",
    "sumAll([1, 1, 1]) == 3\n",
    "sumAll([1, 2, 3]) == 6\n",
    "sumAll([]) == 0\n",
    "sumAll([1, -1]) == 0\n",
    "```\n",
    "\n",
    "#### 1.1\n",
    "What is the recursive case for `sumAll()`? Describe your answer using English."
   ]
  },
  {
   "cell_type": "code",
   "execution_count": null,
   "metadata": {},
   "outputs": [],
   "source": []
  },
  {
   "cell_type": "markdown",
   "metadata": {},
   "source": [
    "#### 1.2\n",
    "What is the base case for `sumAll()`? Use English."
   ]
  },
  {
   "cell_type": "code",
   "execution_count": null,
   "metadata": {},
   "outputs": [],
   "source": []
  },
  {
   "cell_type": "markdown",
   "metadata": {},
   "source": [
    "#### 1.3\n",
    "Use your base case and recursive case to write a `sumAll()` function"
   ]
  },
  {
   "cell_type": "code",
   "execution_count": null,
   "metadata": {},
   "outputs": [],
   "source": [
    "def sumAll(lst):\n",
    "    # YOUR ANSWER HERE\n",
    "\n",
    "\n",
    "    # After you finish, these should all print True\n",
    "print(sumAll([1, 1, 1]) == 3)\n",
    "print(sumAll([1, 2, 3]) == 6)\n",
    "print(sumAll([]) == 0)\n",
    "print(sumAll([1, -1]) == 0)"
   ]
  },
  {
   "cell_type": "markdown",
   "metadata": {},
   "source": [
    "## Question 2\n",
    "Consider a recursive function called `numTimes(s, letter)`:\n",
    "* It takes a string `s` and a single letter `letter`.\n",
    "* It returns how many times `letter` appears in `s`.\n",
    "\n",
    "For example:\n",
    "\n",
    "```\n",
    "numTimes('aaabbaaab', 'b') == 3\n",
    "numTimes('aaabbaaab', 'a') == 6\n",
    "numTimes('c', 'c') == 1\n",
    "numTimes('abcd', 'e') == 0\n",
    "numTimes('', 'a') == 0\n",
    "```\n",
    "\n",
    "#### 2.1\n",
    "What is the recursive case for `numTimes()`? "
   ]
  },
  {
   "cell_type": "code",
   "execution_count": null,
   "metadata": {},
   "outputs": [],
   "source": []
  },
  {
   "cell_type": "markdown",
   "metadata": {},
   "source": [
    "#### 2.2\n",
    "What is the base case for `numTimes()`?"
   ]
  },
  {
   "cell_type": "code",
   "execution_count": null,
   "metadata": {},
   "outputs": [],
   "source": []
  },
  {
   "cell_type": "markdown",
   "metadata": {},
   "source": [
    "#### 2.3\n",
    "Write a `numTimes()` function using your base and recursive cases. "
   ]
  },
  {
   "cell_type": "code",
   "execution_count": null,
   "metadata": {},
   "outputs": [],
   "source": [
    "def numTimes(s, letter):\n",
    "    # YOUR ANSWER HERE\n",
    "\n",
    "\n",
    "    # After you finish, these should all print True\n",
    "print(numTimes('aaabbaaab', 'b') == 3)\n",
    "print(numTimes('aaabbaaab', 'a') == 6)\n",
    "print(numTimes('c', 'c') == 1)\n",
    "print(numTimes('abcd', 'e') == 0)\n",
    "print(numTimes('', 'a') == 0)"
   ]
  },
  {
   "cell_type": "markdown",
   "metadata": {},
   "source": [
    "## Question 3\n",
    "Use recursion to write an exponential function, `exp(a, b)`, that calculates $a^b$. \n",
    "\n",
    "Some examples: \n",
    "\n",
    "```\n",
    "exp(5, 2)   == 25\n",
    "exp(5, 3)   == 125\n",
    "exp(2, 3)   == 8\n",
    "exp(1, 100) == 1\n",
    "exp(5, 0)   == 1\n",
    "exp(123, 0) == 1\n",
    "```\n",
    "\n",
    "Assume: \n",
    "\n",
    "* $a$ and $b$ are integers.\n",
    "* $a >= 1$\n",
    "* $b >= 0$\n",
    "\n",
    "Under these assumptions, we know two things about $a^b$:\n",
    "1. $a^0 = 1$\n",
    "2. $a^b = a \\cdot a^{b-1}$"
   ]
  },
  {
   "cell_type": "markdown",
   "metadata": {},
   "source": [
    "#### 3.1\n",
    "Looking at the math above, what is the recursive case for `exp(a, b)`?"
   ]
  },
  {
   "cell_type": "code",
   "execution_count": null,
   "metadata": {},
   "outputs": [],
   "source": []
  },
  {
   "cell_type": "markdown",
   "metadata": {},
   "source": [
    "#### 3.2\n",
    "What is the base case for `exp(a, b)`?"
   ]
  },
  {
   "cell_type": "code",
   "execution_count": null,
   "metadata": {},
   "outputs": [],
   "source": []
  },
  {
   "cell_type": "markdown",
   "metadata": {},
   "source": [
    "#### 3.3 \n",
    "Write code for `exp(a, b)`"
   ]
  },
  {
   "cell_type": "code",
   "execution_count": null,
   "metadata": {},
   "outputs": [],
   "source": [
    "def exp(a, b):\n",
    "    # YOUR ANSWER HERE\n",
    "\n",
    "\n",
    "    # After you finish, these should all print True\n",
    "print(exp(5, 2) == 25)\n",
    "print(exp(5, 3) == 125)\n",
    "print(exp(2, 3) == 8)\n",
    "print(exp(1, 100) == 1)\n",
    "print(exp(5, 0) == 1)\n",
    "print(exp(171, 0) == 1)"
   ]
  },
  {
   "cell_type": "markdown",
   "metadata": {},
   "source": [
    "## Question 4\n",
    "Make a recursive function called `reverse(s)` that takes a string, `s`, and reverses it.\n",
    "\n",
    "For example: \n",
    "\n",
    "```\n",
    "reverse('abc') == 'cba'\n",
    "reverse('ccc') == 'ccc'\n",
    "reverse('this is a long string') == 'gnirts gnol a si siht'\n",
    "reverse('') == ''\n",
    "```"
   ]
  },
  {
   "cell_type": "markdown",
   "metadata": {},
   "source": [
    "#### 4.1\n",
    "What is the recursive case for `reverse(s)`? "
   ]
  },
  {
   "cell_type": "code",
   "execution_count": null,
   "metadata": {},
   "outputs": [],
   "source": []
  },
  {
   "cell_type": "markdown",
   "metadata": {},
   "source": [
    "#### 4.2 \n",
    "What is the base case for `reverse(s)`?"
   ]
  },
  {
   "cell_type": "code",
   "execution_count": null,
   "metadata": {},
   "outputs": [],
   "source": []
  },
  {
   "cell_type": "markdown",
   "metadata": {},
   "source": [
    "#### 4.3\n",
    "Write code for `reverse(s)`"
   ]
  },
  {
   "cell_type": "code",
   "execution_count": null,
   "metadata": {},
   "outputs": [],
   "source": [
    "def reverse(s):\n",
    "    # YOUR ANSWER HERE\n",
    "\n",
    "\n",
    "    # After you finish, these should all print True\n",
    "print(reverse('abc') == 'cba')\n",
    "print(reverse('ccc') == 'ccc')\n",
    "print(reverse('this is a long string') == 'gnirts gnol a si siht')\n",
    "print(reverse('') == '')"
   ]
  },
  {
   "cell_type": "markdown",
   "metadata": {},
   "source": [
    "## Question 5\n",
    "Define a recursive function `removeLetter(s, letter)` which: \n",
    "* Takes a string `s` and a single character `letter`.\n",
    "* Returns the string back without the given letter."
   ]
  },
  {
   "cell_type": "code",
   "execution_count": null,
   "metadata": {},
   "outputs": [],
   "source": [
    "def removeLetter(s, letter):\n",
    "    # YOUR ANSWER HERE\n",
    "\n",
    "\n",
    "    # After you finish, these should all print True\n",
    "print(removeLetter('abc', 'a') == 'bc')\n",
    "print(removeLetter('abaca', 'a') == 'bc')\n",
    "print(removeLetter('abc', 'd') == 'abc')\n",
    "print(removeLetter('', 'a') == '')\n",
    "print(removeLetter('letter', 't') == 'leer')"
   ]
  },
  {
   "cell_type": "markdown",
   "metadata": {},
   "source": [
    "## Question 6\n",
    ";\n",
    "Define a recursive function called `sumDigits(n)` which:\n",
    "1. Takes an int `n` as an argument. Assume `n >= 0`. \n",
    "2. Returns the sum of the digits of `n`. For example: \n",
    "```\n",
    "sumDigits(111) == 3   # because 1 + 1 + 1 == 3\n",
    "sumDigits(123) == 6   # because 1 + 2 + 3 == 6\n",
    "sumDigits(505) == 10  # because 5 + 0 + 5 == 10\n",
    "```\n",
    "Hint: use the `%` and `//` operators"
   ]
  },
  {
   "cell_type": "code",
   "execution_count": null,
   "metadata": {},
   "outputs": [],
   "source": [
    "def sumDigits(n):\n",
    "    # YOUR ANSWER HERE\n",
    "\n",
    "\n",
    "    # After you finish, these should all print True\n",
    "print(sumDigits(111) == 3)\n",
    "print(sumDigits(123) == 6)\n",
    "print(sumDigits(505) == 10)\n",
    "print(sumDigits(123456789) == 45)\n",
    "print(sumDigits(0) == 0)"
   ]
  },
  {
   "cell_type": "markdown",
   "metadata": {},
   "source": [
    "# Optional Challenge Problems\n",
    "## Try these if you finish the other exercises early"
   ]
  },
  {
   "cell_type": "markdown",
   "metadata": {},
   "source": [
    "## Question 7\n",
    "Write a recursive function `gcd(a, b)` that:\n",
    "1. Takes two positive integers `a` and `b` as input.\n",
    "2. Returns the **greatest common divisor** of `a` and `b`.\n",
    "\n",
    "For example:\n",
    "```\n",
    "gcd(15, 10)   == 5  # nothing bigger than 5 divides 15 and 10.\n",
    "gcd(24, 36)   == 12\n",
    "gcd(72, 180)  == 36\n",
    "gcd(101, 197) == 1  # 101 and 197 do not share any common factors.\n",
    "gcd(39793, 1) == 1  # gcd(a, 1) == 1 for all positive a.\n",
    "gcd(22, 0)    == 22 # gcd(a, 0) == a for all positive a.\n",
    "```"
   ]
  },
  {
   "cell_type": "markdown",
   "metadata": {},
   "source": [
    "To implement `gcd()`, we will use a recursive algorithm that Euclid discovered in Alexandria, Egypt in 300BC. Here it is:\n",
    "\n",
    "#### Recursive case\n",
    "If $b > 0$,\n",
    "`gcd(a, b) == gcd(b, a % b)`\n",
    "\n",
    "#### Base case\n",
    "`gcd(a, 0) == a`\n",
    "\n",
    "Here is an example of Euclid's algorithm for `gcd(180, 72)`:\n",
    "\n",
    "```\n",
    "# Recursive case: 180 % 72 == 36\n",
    "gcd(180, 72) == gcd(72, 36)\n",
    "\n",
    "# Recursive case: 72 % 36  == 0\n",
    "gcd(72, 36) == gcd(36, 0)\n",
    "\n",
    "# Base case (b == 0)\n",
    "gcd(36, 0) == 36\n",
    "```\n",
    "\n",
    "Result: the greatest common divisor of 180 and 72 is 36.\n",
    "\n",
    "Here is another example, of `gcd(45, 210)`: \n",
    "\n",
    "```\n",
    "# Recursive case: 45 % 210 == 45\n",
    "gcd(45, 210) == gcd(210, 45)\n",
    "\n",
    "# Recursive case: 210 % 45 == 30\n",
    "gcd(210, 45) == gcd(45, 20)\n",
    "\n",
    "# Recursive case: 45 % 30 == 15\n",
    "gcd(45, 30) == gcd(30, 15)\n",
    "\n",
    "# Recursive case: 30 % 15 = 0\n",
    "gcd(30, 15) == gcd(15, 0)\n",
    "\n",
    "# Base case (b == 0)\n",
    "gcd(15, 0) == 15 \n",
    "```\n",
    "\n",
    "Result: the greatest common divisor of 45 and 210 is 15."
   ]
  },
  {
   "cell_type": "markdown",
   "metadata": {},
   "source": [
    "### 7.1\n",
    "Using Euclid's algorithm, write code for `gcd(a, b)`"
   ]
  },
  {
   "cell_type": "code",
   "execution_count": null,
   "metadata": {},
   "outputs": [],
   "source": [
    "def gcd(a, b):\n",
    "    # YOUR ANSWER HERE\n",
    "\n",
    "\n",
    "    # After you finish, these should all print True\n",
    "print(gcd(15, 10) == 5)\n",
    "print(gcd(24, 36) == 12)\n",
    "print(gcd(72, 180) == 36)\n",
    "print(gcd(101, 197) == 1)\n",
    "print(gcd(39793, 1) == 1)\n",
    "print(gcd(22, 0) == 22)"
   ]
  },
  {
   "cell_type": "markdown",
   "metadata": {},
   "source": [
    "## Question 8\n",
    "**Fibonacci numbers** have many applications in nature and math. Here are the first 10 Fibonacci numbers:\n",
    "\n",
    "```\n",
    "fib(0) == 0\n",
    "fib(1) == 1\n",
    "fib(2) == 1\n",
    "fib(3) == 2\n",
    "fib(4) == 3\n",
    "fib(5) == 5\n",
    "fib(6) == 8\n",
    "fib(7) == 13\n",
    "fib(8) == 21\n",
    "fib(9) == 34\n",
    "...\n",
    "```\n",
    "\n",
    "Can you see a pattern? Using math, we can define the $n^{th}$ Fibonacci  number, $F(n)$, using a recurrence:\n",
    "\n",
    "$F(0) = 0$\n",
    "\n",
    "$F(1) = 1$\n",
    "\n",
    "and for $n >= 2$:\n",
    "\n",
    "$F(n) = F(n - 1) + F(n - 2)$\n",
    "\n",
    "### 8.1\n",
    "Write code to find the $n^{th}$ Fibonacci number."
   ]
  },
  {
   "cell_type": "code",
   "execution_count": null,
   "metadata": {},
   "outputs": [],
   "source": [
    "def fib(n):\n",
    "    # YOUR ANSWER HERE\n",
    "\n",
    "\n",
    "    # When you finish, these should all print True\n",
    "print(fib(0) == 0)\n",
    "print(fib(1) == 1)\n",
    "print(fib(2) == 1)\n",
    "print(fib(3) == 2)\n",
    "print(fib(6) == 8)\n",
    "print(fib(9) == 34)\n",
    "print(fib(20) == 6765)"
   ]
  },
  {
   "cell_type": "markdown",
   "metadata": {},
   "source": [
    "## Question 9\n",
    "The decimal number system (base 10) is a common way to write numbers. Here we will explore the **binary number system** (base 2) which has many applications in computing. \n",
    "\n",
    "To give an example, 128 in decimal is written as 10000000 in binary. Here is why: \n",
    "\n",
    "In decimal (base 10),\n",
    "\n",
    "$128 = 1 \\cdot 10^2 + 2 \\cdot 10^1 + 8 \\cdot 10^0$\n",
    "\n",
    "and in binary (base 2),\n",
    "\n",
    "$128 = 1 \\cdot 2^6 + 0 \\cdot 2^5 + \\dots + 0 \\cdot 2^0$\n",
    "\n",
    "Here is another example. 39 is 100111 in binary:\n",
    "\n",
    "In decimal, \n",
    "\n",
    "$39 = 3 \\cdot 10^1 + 9 \\cdot 10^0$\n",
    "\n",
    "and in binary,\n",
    "\n",
    "$39 = 1 \\cdot 2^5 + 0 \\cdot 2^4 + 0 \\cdot 2^3 + 1 \\cdot 2^2 + 1 \\cdot 2^1 + 1 \\cdot 2^0$ "
   ]
  },
  {
   "cell_type": "markdown",
   "metadata": {},
   "source": [
    "### 9.1 \n",
    "Write a recursive function, `binaryString(n)`, that:\n",
    "* Takes an integer, `n`, as input.\n",
    "* Returns a string of 1s and 0s representing n in binary.\n",
    "\n",
    "Hint: In python, `str(n)` converts a number to a string.\n",
    "* `str(1) == '1'`\n",
    "* `str(55) == '55'`"
   ]
  },
  {
   "cell_type": "code",
   "execution_count": null,
   "metadata": {},
   "outputs": [],
   "source": [
    "def binaryString(n):\n",
    "    # YOUR ANSWER HERE\n",
    "\n",
    "\n",
    "    # After you finish, these should print True\n",
    "testCases = [\n",
    "    [0, '0'],\n",
    "    [1, '1'],\n",
    "    [2, '10'],\n",
    "    [1, '1'],\n",
    "    [2, '10'],\n",
    "    [3, '11'],\n",
    "    [4, '100'],\n",
    "    [5, '101'],\n",
    "    [6, '110'],\n",
    "    [7, '111'],\n",
    "    [8, '1000'],\n",
    "    [39, '100111'],\n",
    "    [128, '10000000'],\n",
    "    [297371, '1001000100110011011'],\n",
    "]\n",
    "for arg, result in testCases:\n",
    "    print(binaryString(arg) == result)"
   ]
  },
  {
   "cell_type": "markdown",
   "metadata": {},
   "source": [
    "### 9.2 \n",
    "Write a recursive function `decimalNumber(binString)` that converts a binary string `binString` into its corresponding decimal number. \n",
    "\n",
    "Hint: In Python, `int(decimalString)` converts a string into an integer:\n",
    "* `int('0') == 0`\n",
    "* `int('44') == 44`"
   ]
  },
  {
   "cell_type": "code",
   "execution_count": null,
   "metadata": {},
   "outputs": [],
   "source": [
    "def decimalNumber(binString):\n",
    "    # YOUR ANSWER HERE\n",
    "\n",
    "\n",
    "testCases = [\n",
    "    ['0', 0],\n",
    "    ['1', 1],\n",
    "    ['10', 2],\n",
    "    ['1', 1],\n",
    "    ['10', 2],\n",
    "    ['11', 3],\n",
    "    ['100', 4],\n",
    "    ['101', 5],\n",
    "    ['110', 6],\n",
    "    ['111', 7],\n",
    "    ['1000', 8],\n",
    "    ['100111', 39],\n",
    "    ['10000000', 128],\n",
    "    ['1001000100110011011', 297371],\n",
    "]\n",
    "for arg, result in testCases:\n",
    "    print(decimalNumber(arg) == result)\n",
    "print(decimalNumber(binaryString(12278)) == 12278)\n",
    "print(binaryString(decimalNumber('100111')) == '100111')"
   ]
  },
  {
   "cell_type": "markdown",
   "metadata": {},
   "source": [
    "## Question 10\n",
    "In mathematics, a **permutation** of a list is the same list, but in a different order. \n",
    "\n",
    "For example, `[0, 2, 1]` and `[2, 0, 1]` are both permutations of `[0, 1, 2]`.\n",
    "\n",
    "Write a recursive function `permutations(n)` that takes an integer, `n`, as input, and returns a **sorted** list of all permutations of integers between `0` and `n`. Examples: \n",
    "\n",
    "```\n",
    "permutations(0) == [[0]]\n",
    "\n",
    "permutations(1) == [[0, 1], [1, 0]]\n",
    "\n",
    "permutations(2) == [[0, 1, 2], [0, 2, 1], \n",
    "                    [1, 0, 2], [1, 2, 0], \n",
    "                    [2, 0, 1], [2, 1, 0]]\n",
    "\n",
    "```\n",
    "Hints\n",
    "* `myList.insert(5, 'myItem')` will insert `'myItem'` at position `5` in `myList`.\n",
    "* Use `myList.sort()` to put `myList` in sorted order. Note: `sort()` returns `None`, so use it on its own line of code. \n",
    "* In problem 10, **it is OK to use loops too**."
   ]
  },
  {
   "cell_type": "code",
   "execution_count": null,
   "metadata": {},
   "outputs": [],
   "source": [
    "# Example code: insert() and sort()\n",
    "myList = [2, 0, 3, 1]\n",
    "\n",
    "myList.insert(2, 77)  # insert 77 at position 2 in myList\n",
    "print(\"myList hasn't been sorted yet:\", myList)\n",
    "\n",
    "myList.sort()\n",
    "print(\"Now myList is sorted:\", myList)"
   ]
  },
  {
   "cell_type": "markdown",
   "metadata": {},
   "source": [
    "### 10.1 \n",
    "Write a recursive `permutations(n)` function. **Remember: it is OK to use loops in Question 10!**"
   ]
  },
  {
   "cell_type": "code",
   "execution_count": 2,
   "metadata": {},
   "outputs": [
    {
     "ename": "IndentationError",
     "evalue": "expected an indented block after function definition on line 1 (768552296.py, line 6)",
     "output_type": "error",
     "traceback": [
      "\u001b[0;36m  Cell \u001b[0;32mIn[2], line 6\u001b[0;36m\u001b[0m\n\u001b[0;31m    print(permutations(0) == [[0]])\u001b[0m\n\u001b[0m    ^\u001b[0m\n\u001b[0;31mIndentationError\u001b[0m\u001b[0;31m:\u001b[0m expected an indented block after function definition on line 1\n"
     ]
    }
   ],
   "source": [
    "def permutations(n):\n",
    "    # YOUR ANSWER HERE\n",
    "\n",
    "\n",
    "    # If your code is correct, these should all print True\n",
    "print(permutations(0) == [[0]])\n",
    "print(permutations(1) == [[0, 1], [1, 0]])\n",
    "\n",
    "print(permutations(2) == [[0, 1, 2], [0, 2, 1],\n",
    "                          [1, 0, 2], [1, 2, 0],\n",
    "                          [2, 0, 1], [2, 1, 0]])\n",
    "\n",
    "if permutations(0) != None:\n",
    "    print(len(permutations(6)) == 5040)\n",
    "    print(permutations(6)[3791] == [5, 1, 3, 6, 4, 2, 0])\n",
    "else:\n",
    "    print(False)"
   ]
  },
  {
   "cell_type": "markdown",
   "metadata": {},
   "source": [
    "# Question 11\n",
    "\n",
    "Write a Python program to calculate the harmonic sum of n.\n",
    "\n",
    "Note: The harmonic sum is the sum of reciprocals of the positive integers.\n",
    "\n",
    "**Ex:** `1 + 1/2 + 1/3 + 1/4 + ...`"
   ]
  },
  {
   "cell_type": "code",
   "execution_count": null,
   "metadata": {},
   "outputs": [],
   "source": [
    "def harmonic_sum(n):\n",
    "  #Your code here\n",
    "    \n",
    "#test your code here\n",
    "print(harmonic_sum(7))\n",
    "print(harmonic_sum(4))\n",
    "print(harmonic_sum(5))"
   ]
  }
 ],
 "metadata": {
  "kernelspec": {
   "display_name": "Python 3 (ipykernel)",
   "language": "python",
   "name": "python3"
  },
  "language_info": {
   "codemirror_mode": {
    "name": "ipython",
    "version": 3
   },
   "file_extension": ".py",
   "mimetype": "text/x-python",
   "name": "python",
   "nbconvert_exporter": "python",
   "pygments_lexer": "ipython3",
   "version": "3.11.4"
  }
 },
 "nbformat": 4,
 "nbformat_minor": 4
}
