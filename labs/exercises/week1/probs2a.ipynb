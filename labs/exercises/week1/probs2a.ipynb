{
 "cells": [
  {
   "cell_type": "markdown",
   "metadata": {
    "colab_type": "text",
    "id": "hYtLkLkDwkfK"
   },
   "source": [
    "# Week 1, Day 2  and Part 1 Exercises "
   ]
  },
  {
   "cell_type": "markdown",
   "metadata": {
    "colab_type": "text",
    "id": "uT4wXLaLwkfX"
   },
   "source": [
    "# Table of Contents  \n",
    "\n",
    "**[Question 1: Print](#1)**\n",
    "\n",
    "**[Question 2: Function](#2)**\n",
    "\n",
    "**[Question 3: Guessing output](#3)**\n",
    "\n",
    "**[Question 4: Condition With Function](#4)**\n",
    "\n",
    "**[Question 5: List Indexing](#5)**\n",
    "\n",
    "**[Challenging Questions](#6)**\n",
    "\n",
    "\n"
   ]
  },
  {
   "cell_type": "markdown",
   "metadata": {
    "colab_type": "text",
    "id": "unhWBgNfwkfX"
   },
   "source": [
    "## Question 1: Print "
   ]
  },
  {
   "cell_type": "markdown",
   "metadata": {
    "colab_type": "text",
    "id": "q0rVsp7bwkfY"
   },
   "source": [
    "### 1.1"
   ]
  },
  {
   "cell_type": "markdown",
   "metadata": {
    "colab_type": "text",
    "id": "nrNM9ca5wkfZ"
   },
   "source": [
    "How can we print the string \n",
    "```\n",
    "He said, \"Hello there!\"\n",
    "```\n",
    "?"
   ]
  },
  {
   "cell_type": "code",
   "execution_count": null,
   "metadata": {
    "colab": {},
    "colab_type": "code",
    "id": "niRQxSVWwkfa"
   },
   "outputs": [],
   "source": [
    "# Write your answer here!"
   ]
  },
  {
   "cell_type": "markdown",
   "metadata": {
    "colab_type": "text",
    "id": "YmiyGCz8wkff"
   },
   "source": [
    "### 1.2"
   ]
  },
  {
   "cell_type": "markdown",
   "metadata": {
    "colab_type": "text",
    "id": "jcnPxKE9wkfg"
   },
   "source": [
    "This print statement will fail with an error. Please fix the code so that it prints \"my age is 24\"."
   ]
  },
  {
   "cell_type": "code",
   "execution_count": null,
   "metadata": {
    "colab": {},
    "colab_type": "code",
    "id": "G90bsdDdwkfj"
   },
   "outputs": [],
   "source": [
    "print('my age is ' + 24)"
   ]
  },
  {
   "cell_type": "markdown",
   "metadata": {},
   "source": [
    "## 1.3\n",
    "\n",
    "Use function print to print \"Jelani\". On a new line, print his occupation - \"Lecturer\". Finish by printing the list of other TAs you know."
   ]
  },
  {
   "cell_type": "code",
   "execution_count": null,
   "metadata": {},
   "outputs": [],
   "source": []
  },
  {
   "cell_type": "markdown",
   "metadata": {
    "colab_type": "text",
    "id": "x04DNHFwwkfq"
   },
   "source": [
    "### 1.4"
   ]
  },
  {
   "cell_type": "markdown",
   "metadata": {
    "colab_type": "text",
    "id": "YBcICnTSwkfr"
   },
   "source": [
    "For what **value** of `x` will the following code segment print `\"yes\"`? Modify these lines to make this happen."
   ]
  },
  {
   "cell_type": "code",
   "execution_count": null,
   "metadata": {
    "colab": {},
    "colab_type": "code",
    "id": "2WshS9jswkfs"
   },
   "outputs": [],
   "source": []
  },
  {
   "cell_type": "markdown",
   "metadata": {
    "colab_type": "text",
    "id": "UnzhtJFUwkfw"
   },
   "source": [
    "## Question 2: Function "
   ]
  },
  {
   "cell_type": "markdown",
   "metadata": {},
   "source": [
    "We will be using functions in this lab. You've seen them briefly in lecture, and will see them in more depth in this afternoon's lecture.\n",
    "\n",
    "Here is an example of a function (run it to see it working):"
   ]
  },
  {
   "cell_type": "code",
   "execution_count": null,
   "metadata": {},
   "outputs": [],
   "source": [
    "def multiply_by_five(x):\n",
    "    answer = 5*x\n",
    "    return answer \n",
    "\n",
    "print(multiply_by_five(3)) # should print 15"
   ]
  },
  {
   "cell_type": "markdown",
   "metadata": {},
   "source": [
    "There are two important things to notice:\n",
    "\n",
    "All code within the function must be indented.\n",
    "The return statement gives the output of the function.\n",
    "Try running this code to see what happens when the code within the function is not indented:"
   ]
  },
  {
   "cell_type": "code",
   "execution_count": null,
   "metadata": {},
   "outputs": [],
   "source": [
    "def multiply_by_seven(x):\n",
    "    answer = 7*x\n",
    "    return answer\n",
    "\n",
    "print(multiply_by_seven(3))"
   ]
  },
  {
   "cell_type": "markdown",
   "metadata": {},
   "source": [
    "Now try running this code to see what happens when nothing is returned:"
   ]
  },
  {
   "cell_type": "code",
   "execution_count": null,
   "metadata": {},
   "outputs": [],
   "source": [
    "def multiply_by_eleven(x):\n",
    "    answer = 11*x\n",
    "\n",
    "print(multiply_by_eleven(3))"
   ]
  },
  {
   "cell_type": "markdown",
   "metadata": {},
   "source": [
    "Notice that it now prints None, because nothing is returned from the function.\n",
    "\n",
    "Finally, note that the function itself does not actually print anything. If we remove the print statement from below the function, nothing is printed (if something is printed when running the following cell, try running the first cell in this booklet and then re-running the following cell):"
   ]
  },
  {
   "cell_type": "code",
   "execution_count": null,
   "metadata": {},
   "outputs": [],
   "source": [
    "def multiply_by_thirteen(x):\n",
    "    answer = 13*x\n",
    "    return answer\n",
    "\n",
    "multiply_by_thirteen(3)"
   ]
  },
  {
   "cell_type": "markdown",
   "metadata": {},
   "source": [
    "## 2.1\n",
    "Now it's your turn. Write a function that takes in an input x and returns x without modifying it.\n"
   ]
  },
  {
   "cell_type": "code",
   "execution_count": null,
   "metadata": {},
   "outputs": [],
   "source": [
    "def return_x(x):\n",
    "    # YOUR CODE HERE"
   ]
  },
  {
   "cell_type": "markdown",
   "metadata": {},
   "source": [
    "## 2.2\n",
    "Great job! Just one more function is needed. Write a function that takes in a number x and returns three times x minus one."
   ]
  },
  {
   "cell_type": "code",
   "execution_count": null,
   "metadata": {},
   "outputs": [],
   "source": [
    " def times_three_minus_one(x):\n",
    "    # YOUR CODE HERE"
   ]
  },
  {
   "cell_type": "markdown",
   "metadata": {},
   "source": [
    "## 2.3 \n",
    "For what **value** of `x` would this function print `\"five\"`?  `\"six\"`?  `\"other\"`? "
   ]
  },
  {
   "cell_type": "code",
   "execution_count": null,
   "metadata": {},
   "outputs": [],
   "source": [
    "def printX(x):\n",
    "    if x == 5:\n",
    "        print(\"five\")\n",
    "    elif x == 6:\n",
    "        print(\"six\")\n",
    "    else:\n",
    "        print(\"other\")"
   ]
  },
  {
   "cell_type": "markdown",
   "metadata": {},
   "source": [
    "**Your Answer:**"
   ]
  },
  {
   "cell_type": "markdown",
   "metadata": {
    "colab_type": "text",
    "id": "f3NJpio3wkf2"
   },
   "source": [
    "## Question 3: Guessing Output"
   ]
  },
  {
   "cell_type": "markdown",
   "metadata": {
    "colab_type": "text",
    "id": "7asdwNXmwkf3"
   },
   "source": [
    "### 3.1\n",
    "\n",
    "What do you expect will be printed if you run this code?\n",
    "\n",
    "```python\n",
    "def foo():\n",
    "    if -10 == 10:\n",
    "        print('Hello world!')\n",
    "    else:\n",
    "        print('Goodbye world!')\n",
    "foo()\n",
    "```"
   ]
  },
  {
   "cell_type": "markdown",
   "metadata": {},
   "source": [
    "**You Answer:**"
   ]
  },
  {
   "cell_type": "code",
   "execution_count": null,
   "metadata": {
    "colab": {},
    "colab_type": "code",
    "id": "_A3S1IpBwkf8"
   },
   "outputs": [],
   "source": [
    "def foo():\n",
    "    if -10 == 10:\n",
    "        print('Hello world!')\n",
    "    else:\n",
    "        print('Goodbye world!')\n",
    "\n",
    "\n",
    "# Write code here to verify!"
   ]
  },
  {
   "cell_type": "markdown",
   "metadata": {
    "colab_type": "text",
    "id": "6pajjRWMwkgA"
   },
   "source": [
    "### 3.2"
   ]
  },
  {
   "cell_type": "markdown",
   "metadata": {
    "colab_type": "text",
    "collapsed": true,
    "id": "XTxwAMuDwkgB"
   },
   "source": [
    "What do you expect will be printed if you run this code?\n",
    "\n",
    "\n",
    "```python\n",
    "def bar():\n",
    "    if -10 < 10:\n",
    "        print('Hello world!')\n",
    "    else:\n",
    "        print('Goodbye world!')\n",
    "bar()\n",
    "```"
   ]
  },
  {
   "cell_type": "markdown",
   "metadata": {
    "colab_type": "text",
    "id": "esnJageqwkgC"
   },
   "source": [
    "**Your Answer**: "
   ]
  },
  {
   "cell_type": "markdown",
   "metadata": {
    "colab_type": "text",
    "id": "WukTHRVVwkgD"
   },
   "source": [
    "How can you **verify** your solution using the **code** above?"
   ]
  },
  {
   "cell_type": "code",
   "execution_count": null,
   "metadata": {
    "colab": {},
    "colab_type": "code",
    "id": "ooMV_vYowkgH"
   },
   "outputs": [],
   "source": [
    "def bar():\n",
    "    if -10 < 10:\n",
    "        print('Hello world!')\n",
    "    else:\n",
    "        print('Goodbye world!')\n",
    "\n",
    "\n",
    "# Write code here to verify!"
   ]
  },
  {
   "cell_type": "markdown",
   "metadata": {
    "colab_type": "text",
    "id": "vuTBoCttwkgL"
   },
   "source": [
    "### 3.3"
   ]
  },
  {
   "cell_type": "markdown",
   "metadata": {
    "colab_type": "text",
    "collapsed": true,
    "id": "IN7NM1UKwkgN"
   },
   "source": [
    "What do you expect will be printed if you run this code?\n",
    "\n",
    "```python\n",
    "def foobar():\n",
    "    if -10 != 10:\n",
    "        print('Hello world!')\n",
    "    else:\n",
    "        print('Goodbye world!')\n",
    "foobar()\n",
    "```"
   ]
  },
  {
   "cell_type": "markdown",
   "metadata": {
    "colab_type": "text",
    "id": "lWxQAZ6cwkgP"
   },
   "source": [
    "**Your Answer**: "
   ]
  },
  {
   "cell_type": "markdown",
   "metadata": {
    "colab_type": "text",
    "id": "MI3hAr3GwkgR"
   },
   "source": [
    "How can you **verify** your solution using the **code** above? "
   ]
  },
  {
   "cell_type": "code",
   "execution_count": null,
   "metadata": {
    "colab": {},
    "colab_type": "code",
    "id": "Ex2j5TOZwkgT"
   },
   "outputs": [],
   "source": [
    "def foobar():\n",
    "    if -10 != 10:\n",
    "        print('Hello world!')\n",
    "    else:\n",
    "        print('Goodbye world!')\n",
    "\n",
    "\n",
    "# Write code here to verify!"
   ]
  },
  {
   "cell_type": "markdown",
   "metadata": {
    "colab_type": "text",
    "id": "_zpCzeqwwkga"
   },
   "source": [
    "## Question 4: Condition with Function"
   ]
  },
  {
   "cell_type": "markdown",
   "metadata": {
    "colab_type": "text",
    "id": "IlAOLwRbwkgb"
   },
   "source": [
    "### 4.1"
   ]
  },
  {
   "cell_type": "markdown",
   "metadata": {
    "colab_type": "text",
    "id": "APN161Ghwkgd"
   },
   "source": [
    "We will present **incorrect functions** that takes an **integer test score between 0 and 100 as an input**, and **prints** the corresponding **letter grade**. You will be asked to fix the errors in the code. \n",
    "\n",
    "(This process of finding and fixing the errors is called debugging.)\n",
    "\n",
    "Here are the cutoffs: \n",
    "\n",
    "    90-100   A\n",
    "\n",
    "    80-89    B\n",
    "\n",
    "    70-79    C\n",
    "    \n",
    "    60-69    D\n",
    "\n",
    "    0-60     F     "
   ]
  },
  {
   "cell_type": "markdown",
   "metadata": {
    "colab_type": "text",
    "id": "2kcx-B5pwkgd"
   },
   "source": [
    "Warmup: Daniel has gotten score 75 on an exam. What **letter grade** (from A to F) does this correspond to?"
   ]
  },
  {
   "cell_type": "code",
   "execution_count": null,
   "metadata": {
    "colab": {},
    "colab_type": "code",
    "id": "x2mlgKYVwkge"
   },
   "outputs": [],
   "source": [
    "# Write your answer from A to F here"
   ]
  },
  {
   "cell_type": "markdown",
   "metadata": {
    "colab_type": "text",
    "id": "u_YEdVDjwkgf"
   },
   "source": [
    "### 4.2"
   ]
  },
  {
   "cell_type": "markdown",
   "metadata": {
    "colab_type": "text",
    "id": "7Y45oUsKwkgf"
   },
   "source": [
    "A student tried to write the code for this. Here is their attempt:"
   ]
  },
  {
   "cell_type": "code",
   "execution_count": null,
   "metadata": {
    "colab": {},
    "colab_type": "code",
    "id": "9d_VHLOfwkgg"
   },
   "outputs": [],
   "source": [
    "def printGradeIncomplete(x):\n",
    "    if x >= 90:\n",
    "        print(\"A\")\n",
    "    elif x >= 80:\n",
    "        print(\"B\")\n",
    "    elif x >= 70:\n",
    "        print(\"C\")\n",
    "    elif x >= 60:\n",
    "        print(\"D\")"
   ]
  },
  {
   "cell_type": "markdown",
   "metadata": {
    "colab_type": "text",
    "id": "JjpcCy8xwkgi"
   },
   "source": [
    "This code, however, is **incomplete**. Can you see why?\n",
    "What happens if a student gets 55? **Modify** the code above (**add** an `else` statement to the `printGradeIncomplete` function) to take care of this case."
   ]
  },
  {
   "cell_type": "code",
   "execution_count": null,
   "metadata": {
    "colab": {},
    "colab_type": "code",
    "id": "gID_pDYvwkgk"
   },
   "outputs": [],
   "source": [
    "# Modify this code to take care of the case where student gets 55.\n",
    "def printGradeIncomplete(x):\n",
    "    if x >= 90:\n",
    "        print(\"A\")\n",
    "    elif x >= 80:\n",
    "        print(\"B\")\n",
    "    elif x >= 70:\n",
    "        print(\"C\")\n",
    "    elif x >= 60:\n",
    "        print(\"D\")\n",
    "\n",
    "\n",
    "# Test your code here\n",
    "printGradeIncomplete(55)"
   ]
  },
  {
   "cell_type": "markdown",
   "metadata": {
    "colab_type": "text",
    "id": "YFXo0NqGwkgn"
   },
   "source": [
    "### 4.3"
   ]
  },
  {
   "cell_type": "markdown",
   "metadata": {
    "colab_type": "text",
    "id": "9mnAit_Kwkgo"
   },
   "source": [
    "Another student tries to code a different method. This however, is also **incorrect**."
   ]
  },
  {
   "cell_type": "code",
   "execution_count": null,
   "metadata": {
    "colab": {},
    "colab_type": "code",
    "id": "UMS9U0_Rwkgo"
   },
   "outputs": [],
   "source": [
    "def printGradeIncorrect(x):\n",
    "    if x >= 60:\n",
    "        print(\"D\")\n",
    "    elif x >= 70:\n",
    "        print(\"C\")\n",
    "    elif x >= 80:\n",
    "        print(\"D\")\n",
    "    elif x >= 90:\n",
    "        print(\"A\")\n",
    "    else:\n",
    "        print(\"F\")\n",
    "\n",
    "\n",
    "printGradeIncorrect(55)  # This one is correct\n",
    "printGradeIncorrect(65)  # This one is correct\n",
    "printGradeIncorrect(96)  # And this one is incorrect"
   ]
  },
  {
   "cell_type": "markdown",
   "metadata": {
    "colab_type": "text",
    "id": "fcth0xPYwkgr"
   },
   "source": [
    "Can you **spot the error** in the code above? For what **input scores** will this print the right letter?"
   ]
  },
  {
   "cell_type": "code",
   "execution_count": null,
   "metadata": {
    "colab": {},
    "colab_type": "code",
    "id": "PKhaI1Edwkgs"
   },
   "outputs": [],
   "source": [
    "# Your answer here"
   ]
  },
  {
   "cell_type": "markdown",
   "metadata": {
    "colab_type": "text",
    "id": "O4MG0Si1wkgs"
   },
   "source": [
    "### 4.4"
   ]
  },
  {
   "cell_type": "markdown",
   "metadata": {
    "colab_type": "text",
    "id": "o7e_kh2Ewkgt"
   },
   "source": [
    "Now the student thinks he's got it. This also **does not work** as expected though."
   ]
  },
  {
   "cell_type": "code",
   "execution_count": null,
   "metadata": {
    "colab": {},
    "colab_type": "code",
    "id": "ZQxXuSzHwkgu"
   },
   "outputs": [],
   "source": [
    "def printGradeIncorrect2(x):\n",
    "    if x >= 90:\n",
    "        print(\"A\")\n",
    "    if x >= 80:\n",
    "        print(\"B\")\n",
    "    if x >= 70:\n",
    "        print(\"C\")\n",
    "    if x >= 60:\n",
    "        print(\"D\")\n",
    "    else:\n",
    "        print(\"F\")"
   ]
  },
  {
   "cell_type": "markdown",
   "metadata": {
    "colab_type": "text",
    "id": "U7JpKzdQwkgx"
   },
   "source": [
    "Can you **spot the error** in the code above? Again, for what **input scores** will this print the right letter?"
   ]
  },
  {
   "cell_type": "code",
   "execution_count": null,
   "metadata": {
    "colab": {},
    "colab_type": "code",
    "id": "DQbkHOzJ0Wjl"
   },
   "outputs": [],
   "source": [
    "# Your answer here"
   ]
  },
  {
   "cell_type": "markdown",
   "metadata": {
    "colab_type": "text",
    "id": "ngr5PaWfwkgy"
   },
   "source": [
    "**Modify** the code above (`printGradeIncorrect2` function) to make it **correct**. Make sure it only prints one letter grade for each input and that it prints the correct letter grade."
   ]
  },
  {
   "cell_type": "markdown",
   "metadata": {
    "colab_type": "text",
    "id": "Wloeb7E1wkgz"
   },
   "source": [
    "How can you **verify** that your function is correct? Write some test cases to verify your solution."
   ]
  },
  {
   "cell_type": "code",
   "execution_count": null,
   "metadata": {
    "colab": {},
    "colab_type": "code",
    "id": "MEuhJIA9wkgz"
   },
   "outputs": [],
   "source": [
    "# Modify this function to fix it.\n",
    "def printGradeIncorrect2(x):\n",
    "    if x >= 90:\n",
    "        print(\"A\")\n",
    "    if x >= 80:\n",
    "        print(\"B\")\n",
    "    if x >= 70:\n",
    "        print(\"C\")\n",
    "    if x >= 60:\n",
    "        print(\"D\")\n",
    "    else:\n",
    "        print(\"F\")\n",
    "\n",
    "\n",
    "# Your test cases here."
   ]
  },
  {
   "cell_type": "markdown",
   "metadata": {
    "colab_type": "text",
    "id": "npa7rAmiwkg2"
   },
   "source": [
    "## Question 5   List Indexing"
   ]
  },
  {
   "cell_type": "markdown",
   "metadata": {
    "colab_type": "text",
    "id": "hMkHCu3vwkg2"
   },
   "source": [
    "### 5.1"
   ]
  },
  {
   "cell_type": "markdown",
   "metadata": {
    "colab_type": "text",
    "id": "E-Dk9x_swkg3"
   },
   "source": [
    "Create a **list** storing five (5) different **integers**. Store this in a **variable** called `x`."
   ]
  },
  {
   "cell_type": "code",
   "execution_count": null,
   "metadata": {
    "colab": {},
    "colab_type": "code",
    "id": "Yjf2J8uDwkg4"
   },
   "outputs": [],
   "source": [
    "# Create the list here"
   ]
  },
  {
   "cell_type": "markdown",
   "metadata": {
    "colab_type": "text",
    "id": "7ppxUUf_wkg6"
   },
   "source": [
    "### 5.2"
   ]
  },
  {
   "cell_type": "markdown",
   "metadata": {
    "colab_type": "text",
    "id": "ybot0wnTwkg6"
   },
   "source": [
    "Using **list indexing** print the **first** and **last** values in the list. For the **last** value, do this two ways:\n",
    "\n",
    "1) using `-1` \n",
    "\n",
    "2) NOT using `-1`"
   ]
  },
  {
   "cell_type": "code",
   "execution_count": null,
   "metadata": {
    "colab": {},
    "colab_type": "code",
    "id": "KRBI8j2Twkg8"
   },
   "outputs": [],
   "source": [
    "# Write code to print the first value here\n",
    "\n",
    "\n",
    "# Write code to print the last value for method 1 here (using -1)\n",
    "\n",
    "\n",
    "# Write code to print the last value for method 2 here (NOT using -1)"
   ]
  },
  {
   "cell_type": "markdown",
   "metadata": {
    "colab_type": "text",
    "id": "otiXYoLywkhA"
   },
   "source": [
    "### 5.3"
   ]
  },
  {
   "cell_type": "markdown",
   "metadata": {
    "colab_type": "text",
    "id": "eIl_aSk0wkhD"
   },
   "source": [
    "Using **slicing** on list `x` make another list `y` containing the second to fourth elements inclusive. **Print** `y` and **verify** it is in fact the correct slicing."
   ]
  },
  {
   "cell_type": "code",
   "execution_count": null,
   "metadata": {
    "colab": {},
    "colab_type": "code",
    "id": "9jf5UKMZwkhE"
   },
   "outputs": [],
   "source": [
    "# Write code to make another list `y` here"
   ]
  },
  {
   "cell_type": "markdown",
   "metadata": {
    "colab_type": "text",
    "id": "tnhj5mLJwkhI"
   },
   "source": [
    "### 5.4"
   ]
  },
  {
   "cell_type": "markdown",
   "metadata": {
    "colab_type": "text",
    "id": "RtkrEVQ7wkhI"
   },
   "source": [
    "**Change** the first value of `y` to be `\"hello\"`, **without** making a new list. "
   ]
  },
  {
   "cell_type": "code",
   "execution_count": null,
   "metadata": {
    "colab": {},
    "colab_type": "code",
    "id": "IySRFqRLwkhJ"
   },
   "outputs": [],
   "source": [
    "# Write code to change the first value here"
   ]
  },
  {
   "cell_type": "markdown",
   "metadata": {
    "colab_type": "text",
    "id": "1NyhAvvzwkhM"
   },
   "source": [
    "### 5.5"
   ]
  },
  {
   "cell_type": "markdown",
   "metadata": {
    "colab_type": "text",
    "id": "V8tsav-qwkhN"
   },
   "source": [
    "Using the ```len()``` function, print the **length** of `x` and the **length** of the **first element** of `y` (which should now be the string `\"hello\"`). "
   ]
  },
  {
   "cell_type": "code",
   "execution_count": null,
   "metadata": {
    "colab": {},
    "colab_type": "code",
    "id": "w8zNUpOrwkhN"
   },
   "outputs": [],
   "source": [
    "# Write code here to print the lengths of `x` and the first element of `y`"
   ]
  },
  {
   "cell_type": "markdown",
   "metadata": {
    "colab_type": "text",
    "id": "FzDYOtwkwkhS"
   },
   "source": [
    "Using code show that `x` and the first element of `y` are the **same lengths**."
   ]
  },
  {
   "cell_type": "code",
   "execution_count": null,
   "metadata": {
    "colab": {},
    "colab_type": "code",
    "id": "yAbrdpQZwkhT"
   },
   "outputs": [],
   "source": [
    "# Write code here to show the lengths of `x` and the first element of `y` are the same"
   ]
  },
  {
   "cell_type": "markdown",
   "metadata": {
    "colab_type": "text",
    "id": "An0hMTZlwkha"
   },
   "source": [
    " However, also using code and the ```type``` function, show they are **not the same type**."
   ]
  },
  {
   "cell_type": "code",
   "execution_count": null,
   "metadata": {
    "colab": {},
    "colab_type": "code",
    "id": "rSmoYezpwkha"
   },
   "outputs": [],
   "source": [
    "# Write code here to show the lengths of `x` and the first element of `y` are not the same type"
   ]
  },
  {
   "cell_type": "markdown",
   "metadata": {
    "colab_type": "text",
    "id": "tAbfLRsPwkhd"
   },
   "source": [
    "## Question 6"
   ]
  },
  {
   "cell_type": "markdown",
   "metadata": {
    "colab_type": "text",
    "id": "JNcLvjB5wkhe"
   },
   "source": [
    "Write a function `verifyInteger(x)` that takes in an integer `x` and **prints** if it is `\"positive\"`, `\"negative\"` or `\"zero\"`."
   ]
  },
  {
   "cell_type": "code",
   "execution_count": null,
   "metadata": {
    "colab": {},
    "colab_type": "code",
    "id": "IDo3VS2vwkhf"
   },
   "outputs": [],
   "source": [
    "# Define your function verifyInteger here\n",
    "\n",
    "\n",
    "# Write your test cases here."
   ]
  },
  {
   "cell_type": "markdown",
   "metadata": {
    "colab_type": "text",
    "id": "oPyA2U8Zwkhi"
   },
   "source": [
    "## ***Challenge Questions***\n",
    "\n",
    "If you've finished the core questions above, feel free to move on to these challenge questions."
   ]
  },
  {
   "cell_type": "markdown",
   "metadata": {
    "colab_type": "text",
    "id": "n6GNRgohwkhi"
   },
   "source": [
    "## Question 7"
   ]
  },
  {
   "cell_type": "markdown",
   "metadata": {
    "colab_type": "text",
    "id": "W1EgkPa2wkhj"
   },
   "source": [
    "Different **ages** correspond to different **school** in Ethiopia. This shows these categories:\n",
    "\n",
    "    0 - 5     No School\n",
    " \n",
    "    6 - 13    Elementary School     \n",
    "\n",
    "    14 - 18   High School\n",
    "    \n",
    "    19 - 22   University\n",
    "\n",
    "    23 - 100  No School   \n",
    "    "
   ]
  },
  {
   "cell_type": "markdown",
   "metadata": {
    "colab_type": "text",
    "id": "mI6_jOmcwkho"
   },
   "source": [
    "### 7.1"
   ]
  },
  {
   "cell_type": "markdown",
   "metadata": {
    "colab_type": "text",
    "id": "TVsNVl2ewkhp"
   },
   "source": [
    "Write a variable for Daniel that stores his age (an integer between 0 and 100). \n",
    "\n",
    "Now **using this variable**, how would you write a **conditional** to check if Daniel is in **elementary** school? If this is `True`, **print** the string `\"Elementary School\"`."
   ]
  },
  {
   "cell_type": "code",
   "execution_count": null,
   "metadata": {
    "colab": {},
    "colab_type": "code",
    "id": "4_GCPYF7wkhq"
   },
   "outputs": [],
   "source": [
    "# Write code here to verify if Daniel is in \"Elementary School\" using conditionals (`if`, `elif`, `else`)"
   ]
  },
  {
   "cell_type": "markdown",
   "metadata": {
    "colab_type": "text",
    "id": "VJm9po_Vwkhu"
   },
   "source": [
    "### 7.2"
   ]
  },
  {
   "cell_type": "markdown",
   "metadata": {
    "colab_type": "text",
    "id": "RAzlArUcwkhv"
   },
   "source": [
    "Similar to above, how would you write a **conditional** to check if Daniel is in the `\"No School\"` category? Make sure to verify both cases (`\"Elementary School\"` and `\"No School\"`) and if the age is in those ranges, **print** the string `\"No School\"`. "
   ]
  },
  {
   "cell_type": "code",
   "execution_count": null,
   "metadata": {
    "colab": {},
    "colab_type": "code",
    "id": "Fho2HC2owkhw"
   },
   "outputs": [],
   "source": [
    "# Write code here to verify if Daniel is in \"Elementary School\" or \"No School\" using conditionals (`if`, `elif`, `else`)"
   ]
  },
  {
   "cell_type": "markdown",
   "metadata": {
    "colab_type": "text",
    "id": "wL-dUdqpwkhy"
   },
   "source": [
    "### 7.3"
   ]
  },
  {
   "cell_type": "markdown",
   "metadata": {
    "colab_type": "text",
    "id": "-SnwOJL3wkhy"
   },
   "source": [
    "Write a **function** `isInSchool(age)` where `age` is an integer between 0 and 100, that either returns `\"No School\"` if the person is not in school or `\"School\"` if the person is in school."
   ]
  },
  {
   "cell_type": "code",
   "execution_count": null,
   "metadata": {
    "colab": {},
    "colab_type": "code",
    "id": "7yhHh-iMwkhz"
   },
   "outputs": [],
   "source": [
    "# Write a function here to verify if someone is in \"School\" or \"No School\" using conditional (`if`, `elif`, `else`)"
   ]
  },
  {
   "cell_type": "markdown",
   "metadata": {
    "colab_type": "text",
    "id": "9yYmXfgIwkh0"
   },
   "source": [
    "### 7.4"
   ]
  },
  {
   "cell_type": "markdown",
   "metadata": {
    "colab_type": "text",
    "id": "ffKowNP4wkh1"
   },
   "source": [
    "Now using the code pieces you just wrote and your knowledge of **conditionals**, write a function `scoolCategory(age)` that will take in an **age** integer between 0 - 100 and **prints** the category of school they are in (string). Try to do this using **only one if statement**."
   ]
  },
  {
   "cell_type": "code",
   "execution_count": null,
   "metadata": {
    "colab": {},
    "colab_type": "code",
    "id": "a29XjSewwkh1"
   },
   "outputs": [],
   "source": [
    "def schoolCategory(age):\n",
    "    # Complete the function here using the code from 5.1 to 5.3\n",
    "\n",
    "\n",
    "    # Here are some tests to check that your code is working correctly.\n",
    "    # Please add your own tests here so that you can be sure your code is\n",
    "    # working correctly.\n",
    "print(schoolCategory(20))\n",
    "print(schoolCategory(2))"
   ]
  },
  {
   "cell_type": "markdown",
   "metadata": {
    "colab_type": "text",
    "id": "n450tOvnwkh5"
   },
   "source": [
    "## Question 8"
   ]
  },
  {
   "cell_type": "markdown",
   "metadata": {
    "colab_type": "text",
    "id": "cwu2-xa6wkh6"
   },
   "source": [
    "Write a **function** `listLen(l)` that takes in a list `l` and returns the **length** of the list if the list **is not empty**. If the input is the empty list, return `\"this is empty\"`. "
   ]
  },
  {
   "cell_type": "code",
   "execution_count": null,
   "metadata": {
    "colab": {},
    "colab_type": "code",
    "id": "9tXIlUIywkh8"
   },
   "outputs": [],
   "source": [
    "# Define your function listLen(l) here\n",
    "\n",
    "\n",
    "# Test your code here."
   ]
  },
  {
   "cell_type": "markdown",
   "metadata": {
    "colab_type": "text",
    "id": "svEAepmMwkh_"
   },
   "source": [
    "## Question 9"
   ]
  },
  {
   "cell_type": "markdown",
   "metadata": {
    "colab_type": "text",
    "id": "Y2_Ph49Owkh_"
   },
   "source": [
    "Write a **function** ```allEqual(l)``` that takes in a list `l` and returns ```True``` if all the elements in the list **are equal** and ```False``` otherwise. You do not need for loops for this. \n",
    "Hint: You can **multiply** lists with integers and you can **compare** two lists to check if they are equal.\n",
    "\n",
    "```python\n",
    "allEqual([1,1,1]) == True\n",
    "allEqual([]) == True\n",
    "allEqual([1,2]) == False\n",
    "allEqual([\"salaam\", \"salaam\"]) == True\n",
    "```"
   ]
  },
  {
   "cell_type": "code",
   "execution_count": null,
   "metadata": {
    "colab": {},
    "colab_type": "code",
    "id": "f2cjORNdwkh_"
   },
   "outputs": [],
   "source": [
    "# Define your function allEqual(l) here\n",
    "\n",
    "\n",
    "# Here are some tests to check that your code is working correctly.\n",
    "# Please add your own tests here so that you can be sure your code is\n",
    "# working correctly.\n",
    "print(allEqual([1, 1, 1]))\n",
    "print(allEqual([]))\n",
    "print(allEqual([1, 2]))"
   ]
  },
  {
   "cell_type": "markdown",
   "metadata": {
    "colab_type": "text",
    "id": "kS_R1AWpwkiC"
   },
   "source": [
    "## Question 10"
   ]
  },
  {
   "cell_type": "markdown",
   "metadata": {
    "colab_type": "text",
    "id": "EHloBH69wkiD"
   },
   "source": [
    "You are given two **lists of strings** called ```names``` and ```cities```. The **first person** in ```names``` lives in the **last city** in ```cities```, the second person lives in the second to last city, the third lives in the third to last, and so on. Write code to create a third list called ```inOrder``` such that the even indexes (0, 2, 4, etc.) are the names of the people (in order) and that the odd indexes (1, 3, 5, etc.) are the cities. For a person in index $i$, their corresponding city should be in index $i+1$. \n",
    "\n",
    "For example:\n",
    "\n",
    "```python\n",
    "names = [\"Daniel\", \"Nati\", \"Jelani\"]\n",
    "cities = [\"Cambridge\",\"Addis Ababa\", \"San Fransisco\"]\n",
    "```\n",
    "In this case, \n",
    "\n",
    "    - Daniel lives in San Francisco\n",
    "    - Nati lives in Addis Ababa\n",
    "    - Jelani lives Cambridge\n",
    "    \n",
    "    \n",
    "You should create the final list:\n",
    "```python\n",
    "inOrder = [\"Daniel\",\"San Fransisco\", \"Nati\", \"Addis Ababa\", \"Jelani\", \"Cambridge\"]\n",
    "```"
   ]
  },
  {
   "cell_type": "code",
   "execution_count": null,
   "metadata": {
    "colab": {},
    "colab_type": "code",
    "id": "u_ZYNbr3wkiD"
   },
   "outputs": [],
   "source": [
    "names = [\"Timnit\", \"Binam\", \"Basi\"]\n",
    "cities = [\"Harar\", \"Addis Ababa\", \"Gondar\"]"
   ]
  },
  {
   "cell_type": "code",
   "execution_count": null,
   "metadata": {
    "colab": {},
    "colab_type": "code",
    "id": "QNrdlYUgwkiF"
   },
   "outputs": [],
   "source": [
    "# Write code to create `inOrder` list from `names` and `cities` lists"
   ]
  },
  {
   "cell_type": "markdown",
   "metadata": {
    "colab_type": "text",
    "id": "C-A-tXdpwkiH"
   },
   "source": [
    "## Question 11"
   ]
  },
  {
   "cell_type": "markdown",
   "metadata": {
    "colab_type": "text",
    "id": "Bwm9zMMLwkiI"
   },
   "source": [
    "Write a **function** `round(x)` that takes in a number `x` and returns the **rounded** version of that number.\n",
    "\n",
    "For example, `round(1.2) = 1`\n",
    "\n",
    "Similarly, `round(2.6) = 3`"
   ]
  },
  {
   "cell_type": "code",
   "execution_count": null,
   "metadata": {
    "colab": {},
    "colab_type": "code",
    "id": "ctQicMRawkiI"
   },
   "outputs": [],
   "source": [
    "# Write the function `round(x)` here\n",
    "\n",
    "\n",
    "# Here are some tests to check that your code is working correctly.\n",
    "# Please add your own tests here so that you can be sure your code is\n",
    "# working correctly.\n",
    "print(round(3.4))\n",
    "print(round(3.5))"
   ]
  },
  {
   "cell_type": "markdown",
   "metadata": {
    "colab_type": "text",
    "id": "7PgBHuefwkiL"
   },
   "source": [
    "## Question 12"
   ]
  },
  {
   "cell_type": "markdown",
   "metadata": {
    "colab_type": "text",
    "id": "7edWZELdwkiL"
   },
   "source": [
    "Write a **function** `addFractions(l0, l1)` that takes in 2 lists `l0` and `l1` where each list represents a fractional number where the **first** number is the **numerator** and the **second** is the **denominator**. \n",
    "\n",
    "\n",
    "For example, $[2,1] => \\frac{2}{1} = 2$, (Numerator is 2, denominator is 1)\n",
    "\n",
    "For example, $[3,4] => \\frac{3}{4} $,  (Numerator is 3, denominator is 4)\n",
    "\n",
    "\n",
    "**We want to return the sum of these two fractions.**\n",
    "\n",
    "For example, `addFractions([3,4], [2,3])` should return `[17, 12]` because $\\frac{3}{4} + \\frac{2}{3} = \\frac{17}{12}$"
   ]
  },
  {
   "cell_type": "code",
   "execution_count": null,
   "metadata": {
    "colab": {},
    "colab_type": "code",
    "id": "J5gb1oF-wkiM"
   },
   "outputs": [],
   "source": [
    "# Write your `addFractions(l0, l1)` function here\n",
    "\n",
    "\n",
    "# Here are some tests to check that your code is working correctly.\n",
    "# Please add your own tests here so that you can be sure your code is\n",
    "# working correctly.\n",
    "print(addFractions([3, 4], [2, 3]))"
   ]
  },
  {
   "cell_type": "markdown",
   "metadata": {
    "colab_type": "text",
    "id": "WVrhBkPSwkiP"
   },
   "source": [
    "## Question 13"
   ]
  },
  {
   "cell_type": "markdown",
   "metadata": {
    "colab_type": "text",
    "id": "CK2Dl_vXwkiQ"
   },
   "source": [
    "Write a **function** `costToM(n, m, upcost, downcost)` that takes in four (4) **integers**, `n`, `m`, `upcost`, `downcost`.  We want to know the cost to make `n` a **multiple** of `m`.It costs amount `upcost` for every **increment** ($+$) of 1 and costs amount `downcost` for every **decrement** ($-$) of 1.\n",
    "\n",
    "**Return** the **cheapest** cost to get from `n` to a multiple of `m`.\n",
    "\n",
    "For example, `costToM(14, 5, 1, 1)` should return 1 because you can get to 15 (a multiple of 5) with cost 1 and you can get to 10 (a multiple of 5) with cost 4. \n",
    "\n",
    "`costToM(14, 5, 20, 1)` should return 4 because you can get to 15 (a multiple of 5) with cost 20 and you can get to 10 (a multiple of 5) with cost 4. "
   ]
  },
  {
   "cell_type": "code",
   "execution_count": null,
   "metadata": {
    "colab": {},
    "colab_type": "code",
    "id": "vHykvpbHwkiQ"
   },
   "outputs": [],
   "source": [
    "# Write your function `costToM(n, m, upcost, downcost)` here\n",
    "\n",
    "\n",
    "# Here are some tests to check that your code is working correctly.\n",
    "# Please add your own tests here so that you can be sure your code is\n",
    "# working correctly.\n",
    "print(costToM(11, 7, 1, 1))"
   ]
  },
  {
   "cell_type": "markdown",
   "metadata": {
    "colab_type": "text",
    "id": "yn5g4MkgwkiS"
   },
   "source": [
    "## Question 14"
   ]
  },
  {
   "cell_type": "markdown",
   "metadata": {
    "colab_type": "text",
    "id": "ayEtFLVvwkiT"
   },
   "source": [
    "Write a **function** `calcArea(p0, p1)` that takes in 2 points `p0`, `p1` where the first is the bottom left coordinate (x0, y0) and the second is the top right coordinate (x1, y1) of a rectangle. Return the area of the rectangle. \n",
    "\n",
    "For example, `calcArea((1,1), (4,5))` should return $4*3 = 12$.\n",
    "\n",
    "![title](calcArea.png)"
   ]
  },
  {
   "cell_type": "code",
   "execution_count": null,
   "metadata": {
    "colab": {},
    "colab_type": "code",
    "id": "3EGq8v8RwkiT"
   },
   "outputs": [],
   "source": [
    "# Write function `calcArea(p0, p1)` here\n",
    "\n",
    "\n",
    "# Here are some tests to check that your code is working correctly.\n",
    "# Please add your own tests here so that you can be sure your code is\n",
    "# working correctly.\n",
    "print(calcArea((1, 1), (4, 5)))"
   ]
  },
  {
   "cell_type": "markdown",
   "metadata": {
    "colab_type": "text",
    "id": "xXe0hS5SwkiW"
   },
   "source": [
    "## Question 15"
   ]
  },
  {
   "cell_type": "markdown",
   "metadata": {
    "colab_type": "text",
    "id": "HDxO_0MswkiW"
   },
   "source": [
    "### 15.1"
   ]
  },
  {
   "cell_type": "markdown",
   "metadata": {
    "colab_type": "text",
    "id": "3WmCWZhswkiX"
   },
   "source": [
    "Write a **function** `overlappingRectangles(l1, r1, l2, r2)` that takes in 4 points `l1`, `r1`, `l2`, `r2`. The first 2 points are the **bottom left** coordinate and **top right** coordinates of the **first rectangle**. The second 2 points are the **bottom left** and **top right** coordinates of the **second rectangle**. Return `True` if the 2 different rectangles overlap. \n",
    "\n",
    "For example, with the image below we would call the function with inputs as such: `overlappingRectangles((2,2), (7,3), (8,5), (9,7))`, and since they do not overlap, return `False`.\n",
    "\n",
    "![title](overlapRect.png)"
   ]
  },
  {
   "cell_type": "code",
   "execution_count": null,
   "metadata": {
    "colab": {},
    "colab_type": "code",
    "id": "yMAh3_iQwkiX"
   },
   "outputs": [],
   "source": [
    "# Write overlappingRectangles(l1, r1, l2, r2) function here!\n",
    "\n",
    "\n",
    "# Here are some tests to check that your code is working correctly.\n",
    "# Please add your own tests here so that you can be sure your code is\n",
    "# working correctly.\n",
    "print(overlappingRectangles((1, 1), (7, 7), (2, 2), (8, 8)))"
   ]
  },
  {
   "cell_type": "markdown",
   "metadata": {
    "colab_type": "text",
    "id": "-ITBGP2Awkia"
   },
   "source": [
    "### 15.2"
   ]
  },
  {
   "cell_type": "markdown",
   "metadata": {
    "colab_type": "text",
    "id": "4VG3fPrVwkic"
   },
   "source": [
    "Write a **function** `areaOverlap(l1, r1, l2, r2)` to compute the **area** of the overlapping rectangles. If the rectangles do not overlap, return 0."
   ]
  },
  {
   "cell_type": "code",
   "execution_count": null,
   "metadata": {
    "colab": {},
    "colab_type": "code",
    "id": "gh-KHqyLwkid"
   },
   "outputs": [],
   "source": [
    "# Write areaOverlap(l1, r1, l2, r2) functiono here!\n",
    "\n",
    "\n",
    "# Here are some tests to check that your code is working correctly.\n",
    "# Please add your own tests here so that you can be sure your code is\n",
    "# working correctly.\n",
    "print(areaOverlap((1, 1), (7, 7), (2, 2), (8, 8)))"
   ]
  }
 ],
 "metadata": {
  "colab": {
   "name": "probs2a.ipynb",
   "provenance": [],
   "version": "0.3.2"
  },
  "kernelspec": {
   "display_name": "Python 3 (ipykernel)",
   "language": "python",
   "name": "python3"
  },
  "language_info": {
   "codemirror_mode": {
    "name": "ipython",
    "version": 3
   },
   "file_extension": ".py",
   "mimetype": "text/x-python",
   "name": "python",
   "nbconvert_exporter": "python",
   "pygments_lexer": "ipython3",
   "version": "3.10.10"
  }
 },
 "nbformat": 4,
 "nbformat_minor": 1
}
