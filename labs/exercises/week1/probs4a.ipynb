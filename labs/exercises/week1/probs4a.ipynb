{
 "cells": [
  {
   "cell_type": "markdown",
   "metadata": {
    "colab_type": "text",
    "id": "UEQoHAeKBjsD"
   },
   "source": [
    "# Lecture 4, Part 1 Exercises\n"
   ]
  },
  {
   "cell_type": "markdown",
   "metadata": {
    "colab_type": "text",
    "id": "I6Rns84qBjso"
   },
   "source": [
    "## Question 1\n",
    "_Execute all the following cells in order._"
   ]
  },
  {
   "cell_type": "markdown",
   "metadata": {
    "colab_type": "text",
    "id": "BB9jFIDsBjsr"
   },
   "source": [
    "### 1.1 \n",
    "Write a list called `my_list` that contains 5 integers."
   ]
  },
  {
   "cell_type": "code",
   "execution_count": 0,
   "metadata": {
    "colab": {},
    "colab_type": "code",
    "id": "KE9Vg8eeBjsx"
   },
   "outputs": [],
   "source": []
  },
  {
   "cell_type": "markdown",
   "metadata": {
    "colab_type": "text",
    "id": "myN_pxfLBjs_"
   },
   "source": [
    "### 1.2 \n",
    "Print the first element in `my_list`"
   ]
  },
  {
   "cell_type": "code",
   "execution_count": 0,
   "metadata": {
    "colab": {
     "base_uri": "https://localhost:8080/",
     "height": 34
    },
    "colab_type": "code",
    "executionInfo": {
     "elapsed": 1358,
     "status": "ok",
     "timestamp": 1562631720931,
     "user": {
      "displayName": "Stephen Koo",
      "photoUrl": "https://lh4.googleusercontent.com/-puW04LijCY0/AAAAAAAAAAI/AAAAAAABMD8/p1HymCYlPUI/s64/photo.jpg",
      "userId": "00528687567139275578"
     },
     "user_tz": 240
    },
    "id": "tlqP6kkHBjtF",
    "outputId": "1505ebbb-be65-408d-d286-5b41ae7250d6"
   },
   "outputs": [
    {
     "name": "stdout",
     "output_type": "stream",
     "text": [
      "1\n"
     ]
    }
   ],
   "source": []
  },
  {
   "cell_type": "markdown",
   "metadata": {
    "colab_type": "text",
    "id": "qqR5pfvmBjtQ"
   },
   "source": [
    "### 1.3 \n",
    "Remember from previous labs that you can use negative indices for lists. Print the second to last element in `my_list` using negative indices (if you don't remember how to do it, look back at lecture 1, part 2)."
   ]
  },
  {
   "cell_type": "code",
   "execution_count": 0,
   "metadata": {
    "colab": {
     "base_uri": "https://localhost:8080/"
    },
    "colab_type": "code",
    "executionInfo": {
     "elapsed": 1364,
     "status": "ok",
     "timestamp": 1562631720942,
     "user": {
      "displayName": "Stephen Koo",
      "photoUrl": "https://lh4.googleusercontent.com/-puW04LijCY0/AAAAAAAAAAI/AAAAAAABMD8/p1HymCYlPUI/s64/photo.jpg",
      "userId": "00528687567139275578"
     },
     "user_tz": 240
    },
    "id": "VA6dbDRgBjtX",
    "outputId": "b6162c4e-7c97-4023-bfca-92ff9e7ec6a9"
   },
   "outputs": [
    {
     "name": "stdout",
     "output_type": "stream",
     "text": [
      "4\n"
     ]
    }
   ],
   "source": []
  },
  {
   "cell_type": "markdown",
   "metadata": {
    "colab_type": "text",
    "id": "bYXz1rXtBjtj"
   },
   "source": [
    "### 1.4 \n",
    "Now, write a function `reverseTwo` that returns a two element list containing the last two elements of `my_list` in reversed order. \n",
    "\n",
    "**Ex:** `reverseTwo([1, 2, 3, 4]) ==> [4, 3]`"
   ]
  },
  {
   "cell_type": "code",
   "execution_count": 0,
   "metadata": {
    "colab": {
     "base_uri": "https://localhost:8080/"
    },
    "colab_type": "code",
    "executionInfo": {
     "elapsed": 1374,
     "status": "ok",
     "timestamp": 1562631720957,
     "user": {
      "displayName": "Stephen Koo",
      "photoUrl": "https://lh4.googleusercontent.com/-puW04LijCY0/AAAAAAAAAAI/AAAAAAABMD8/p1HymCYlPUI/s64/photo.jpg",
      "userId": "00528687567139275578"
     },
     "user_tz": 240
    },
    "id": "UjapwZF0Bjto",
    "outputId": "96056c62-1c36-4789-cabd-f8dcfdfe503d"
   },
   "outputs": [
    {
     "name": "stdout",
     "output_type": "stream",
     "text": [
      "[4, 3]\n"
     ]
    }
   ],
   "source": [
    "def reverseTwo(l):\n",
    "    # Write your code here.\n",
    "\n",
    "\n",
    "    # Here is a test case to check if your code works correctly.\n",
    "    # Feel free to add your own!\n",
    "print(reverseTwo([1, 2, 3, 4]))  # Should be [4, 3]"
   ]
  },
  {
   "cell_type": "markdown",
   "metadata": {
    "colab_type": "text",
    "id": "lL85zXfYBjty"
   },
   "source": [
    "### 1.5\n",
    "Write a function `reverseList` that takes in a list `lst` and returns the reversed list.\n",
    "\n",
    "**Ex:** `reverseList([1, 2, 3, 4])` => `[4, 3, 2, 1]`"
   ]
  },
  {
   "cell_type": "code",
   "execution_count": 0,
   "metadata": {
    "colab": {
     "base_uri": "https://localhost:8080/"
    },
    "colab_type": "code",
    "executionInfo": {
     "elapsed": 2030,
     "status": "ok",
     "timestamp": 1562631721617,
     "user": {
      "displayName": "Stephen Koo",
      "photoUrl": "https://lh4.googleusercontent.com/-puW04LijCY0/AAAAAAAAAAI/AAAAAAABMD8/p1HymCYlPUI/s64/photo.jpg",
      "userId": "00528687567139275578"
     },
     "user_tz": 240
    },
    "id": "xhEHStYABjt6",
    "outputId": "08635691-a6b4-4382-ed07-b43578c1bd73"
   },
   "outputs": [
    {
     "name": "stdout",
     "output_type": "stream",
     "text": [
      "[4, 3]\n"
     ]
    }
   ],
   "source": [
    "def reverseList(my_list):\n",
    "    # Write your code here.\n",
    "\n",
    "\n",
    "    # Here is a test case to check if your code works correctly.\n",
    "    # Feel free to add your own!\n",
    "print(reverseTwo([1, 2, 3, 4]))  # Should be [4, 3, 2, 1]"
   ]
  },
  {
   "cell_type": "markdown",
   "metadata": {
    "colab_type": "text",
    "id": "2bEISxGiBjuH"
   },
   "source": [
    "## Question 2"
   ]
  },
  {
   "cell_type": "markdown",
   "metadata": {
    "colab_type": "text",
    "id": "vT5ro7yBBjuN"
   },
   "source": [
    "### 2.1 \n",
    "DNA has 4 bases: Adenine (A), Thymine (T), Cytosine (C), Guanine (G). In the DNA, each base fits like a puzzle piece, with another base. So, Adenine will pair up with Thymine (A-T base pairing) and Cytosine will pair up with Guanine (C-G base pairing), and vice versa. DNA is double stranded, so if we look at one side side of the strand, we can figure out the other side that matches. For example:\n",
    "\n",
    "- ATACGTACGATCA #this is the strand we know\n",
    "- TATGCATGCTAGT #this is the _complement strand_, that we can figure out.\n",
    "\n",
    "Just as an exercise, figure out the complement strand to the following strands manually: \n",
    "\n",
    "1. \n",
    "ATCCGGGATCAA\n",
    "\n",
    "2. \n",
    "GGCCCCATTTTC\n",
    "\n",
    "3. \n",
    "TTACCAGGGGAT\n"
   ]
  },
  {
   "cell_type": "markdown",
   "metadata": {
    "colab_type": "text",
    "id": "GqUyS3gyFlUj"
   },
   "source": [
    "*Fill this in.*\n",
    "\n",
    "1. \n",
    "2.  \n",
    "3.  "
   ]
  },
  {
   "cell_type": "markdown",
   "metadata": {
    "colab_type": "text",
    "id": "BugmqcanBjug"
   },
   "source": [
    "### 2.2 \n",
    "Given a string `x` that contains only A, C, G, and T characters, write a function called `containsA` that returns `True` if the string contains an Adenine, expressed as an `'A'`. "
   ]
  },
  {
   "cell_type": "code",
   "execution_count": 0,
   "metadata": {
    "colab": {},
    "colab_type": "code",
    "id": "7YM4SrAjBjuq"
   },
   "outputs": [],
   "source": [
    "def containsA(dna):\n",
    "    # Write your code here."
   ]
  },
  {
   "cell_type": "markdown",
   "metadata": {
    "colab_type": "text",
    "id": "bMjPvKB_Bju2"
   },
   "source": [
    "### 2.3 \n",
    "Given a string `x` that contains only A, C, G, and T characters, write a function called `complementStrand` that will return the complement DNA strand explained in 2.1. "
   ]
  },
  {
   "cell_type": "code",
   "execution_count": 0,
   "metadata": {
    "colab": {
     "base_uri": "https://localhost:8080/",
     "height": 34
    },
    "colab_type": "code",
    "executionInfo": {
     "elapsed": 2040,
     "status": "ok",
     "timestamp": 1562631721638,
     "user": {
      "displayName": "Stephen Koo",
      "photoUrl": "https://lh4.googleusercontent.com/-puW04LijCY0/AAAAAAAAAAI/AAAAAAABMD8/p1HymCYlPUI/s64/photo.jpg",
      "userId": "00528687567139275578"
     },
     "user_tz": 240
    },
    "id": "2OLKTIr6BjvI",
    "outputId": "e0657145-a150-4239-e155-9f46117d2409"
   },
   "outputs": [
    {
     "name": "stdout",
     "output_type": "stream",
     "text": [
      "CTAATGT\n"
     ]
    }
   ],
   "source": [
    "def complement(DNA):\n",
    "    # Write your code here.\n",
    "\n",
    "\n",
    "    # Here is a test case to check if your code works correctly.\n",
    "    # Feel free to add your own!\n",
    "print(complement('GATTACA'))  # Should be 'CTAATGT'"
   ]
  },
  {
   "cell_type": "markdown",
   "metadata": {
    "colab_type": "text",
    "id": "vHT4jMhFBjvU"
   },
   "source": [
    "## Question 3\n",
    "_Execute all the following cells in order._"
   ]
  },
  {
   "cell_type": "markdown",
   "metadata": {
    "colab_type": "text",
    "id": "kO7pcsRvBjvf"
   },
   "source": [
    "### 3.1 \n",
    "Create a list called `vowels` that contains all the vowels from the English alphabet. "
   ]
  },
  {
   "cell_type": "code",
   "execution_count": 0,
   "metadata": {
    "colab": {},
    "colab_type": "code",
    "id": "LULFD0jtBjvi"
   },
   "outputs": [],
   "source": []
  },
  {
   "cell_type": "markdown",
   "metadata": {
    "colab_type": "text",
    "id": "bt6EeQ6CBjvt"
   },
   "source": [
    "### 3.2 \n",
    "Create a variable called `my_letter` that has the value `\"a\"`."
   ]
  },
  {
   "cell_type": "code",
   "execution_count": 0,
   "metadata": {
    "colab": {},
    "colab_type": "code",
    "id": "qg8vg3q8Bjvv"
   },
   "outputs": [],
   "source": []
  },
  {
   "cell_type": "markdown",
   "metadata": {
    "colab_type": "text",
    "id": "jy2e2o_UBjv_"
   },
   "source": [
    "### 3.3 \n",
    "Now, write a conditional statement that returns `True` when `my_letter` is equal to `\"a\"`."
   ]
  },
  {
   "cell_type": "code",
   "execution_count": 0,
   "metadata": {
    "colab": {
     "base_uri": "https://localhost:8080/",
     "height": 34
    },
    "colab_type": "code",
    "executionInfo": {
     "elapsed": 2060,
     "status": "ok",
     "timestamp": 1562631721675,
     "user": {
      "displayName": "Stephen Koo",
      "photoUrl": "https://lh4.googleusercontent.com/-puW04LijCY0/AAAAAAAAAAI/AAAAAAABMD8/p1HymCYlPUI/s64/photo.jpg",
      "userId": "00528687567139275578"
     },
     "user_tz": 240
    },
    "id": "oYKfEl7_BjwA",
    "outputId": "ffd2acd7-7317-4ecc-b7a7-89557f08a681"
   },
   "outputs": [
    {
     "data": {
      "text/plain": [
       "True"
      ]
     },
     "execution_count": 21,
     "metadata": {
      "tags": []
     },
     "output_type": "execute_result"
    }
   ],
   "source": []
  },
  {
   "cell_type": "markdown",
   "metadata": {
    "colab_type": "text",
    "id": "uysGN0QhBjwG"
   },
   "source": [
    "### 3.4 \n",
    "Write a function `printVowels` that iterates through `vowels` and prints each element."
   ]
  },
  {
   "cell_type": "code",
   "execution_count": 0,
   "metadata": {
    "colab": {},
    "colab_type": "code",
    "id": "bIs1opb3BjwR"
   },
   "outputs": [],
   "source": [
    "def printVowels():\n",
    "    # Fill in your code here!\n",
    "    # Note: You can use `vowels` from inside this function.\n",
    "\n",
    "\n",
    "    # Here is a test case to check if your code works correctly.\n",
    "printVowels()"
   ]
  },
  {
   "cell_type": "markdown",
   "metadata": {
    "colab_type": "text",
    "id": "R-VPfg6uBjwf"
   },
   "source": [
    "### 3.5 \n",
    "Now, write a function called `isVowel` that takes in a string `letter` and returns `True` if `letter` is a vowel and `False` otherwise. **Do this by looping through `vowels`.**"
   ]
  },
  {
   "cell_type": "code",
   "execution_count": 0,
   "metadata": {
    "colab": {
     "base_uri": "https://localhost:8080/",
     "height": 52
    },
    "colab_type": "code",
    "executionInfo": {
     "elapsed": 812,
     "status": "ok",
     "timestamp": 1562631887876,
     "user": {
      "displayName": "Stephen Koo",
      "photoUrl": "https://lh4.googleusercontent.com/-puW04LijCY0/AAAAAAAAAAI/AAAAAAABMD8/p1HymCYlPUI/s64/photo.jpg",
      "userId": "00528687567139275578"
     },
     "user_tz": 240
    },
    "id": "pzjkqsy5Bjwi",
    "outputId": "33524da2-9271-4774-c6bf-e1d6f6c81ab5"
   },
   "outputs": [
    {
     "name": "stdout",
     "output_type": "stream",
     "text": [
      "True\n",
      "False\n"
     ]
    }
   ],
   "source": [
    "def isVowel(letter):\n",
    "  # Write your code here.\n",
    "\n",
    "\n",
    "    # Here are test cases to check if your code works correctly.\n",
    "print(isVowel('a'))  # Should be True\n",
    "print(isVowel('b'))  # Should be False"
   ]
  },
  {
   "cell_type": "markdown",
   "metadata": {
    "colab_type": "text",
    "id": "lIFFJEl_Bjwy"
   },
   "source": [
    "### 3.6 \n",
    "Write a function `isVowel2` that does the same thing as $3.5$, but using only conditional statements or boolean expressions."
   ]
  },
  {
   "cell_type": "code",
   "execution_count": 0,
   "metadata": {
    "colab": {
     "base_uri": "https://localhost:8080/",
     "height": 52
    },
    "colab_type": "code",
    "executionInfo": {
     "elapsed": 911,
     "status": "ok",
     "timestamp": 1562632073118,
     "user": {
      "displayName": "Stephen Koo",
      "photoUrl": "https://lh4.googleusercontent.com/-puW04LijCY0/AAAAAAAAAAI/AAAAAAABMD8/p1HymCYlPUI/s64/photo.jpg",
      "userId": "00528687567139275578"
     },
     "user_tz": 240
    },
    "id": "5aadHoyXBjw1",
    "outputId": "5f68d32c-e21f-4a1b-8382-560ad7af1881"
   },
   "outputs": [
    {
     "name": "stdout",
     "output_type": "stream",
     "text": [
      "True\n",
      "False\n"
     ]
    }
   ],
   "source": [
    "def isVowel2(letter):\n",
    "    # Write your code here.\n",
    "\n",
    "\n",
    "    # Here are test cases to check if your code works correctly.\n",
    "print(isVowel2('a'))  # Should be True\n",
    "print(isVowel2('b'))  # Should be False"
   ]
  },
  {
   "cell_type": "markdown",
   "metadata": {
    "colab_type": "text",
    "id": "eIDh6sMBBjxD"
   },
   "source": [
    "### 3.7 \n",
    "Create a function called `isConsonant`, that returns `True` if the input is not a vowel, and `False` otherwise. \n"
   ]
  },
  {
   "cell_type": "code",
   "execution_count": 0,
   "metadata": {
    "colab": {},
    "colab_type": "code",
    "id": "_B__mSChBjxF"
   },
   "outputs": [],
   "source": [
    "def isConsonant(letter):\n",
    "    # Write your code here."
   ]
  },
  {
   "cell_type": "markdown",
   "metadata": {
    "colab_type": "text",
    "id": "e9RIu5URBjxm"
   },
   "source": [
    "### 3.8 \n",
    "Try running the code below. Does it do what you expect?"
   ]
  },
  {
   "cell_type": "code",
   "execution_count": 0,
   "metadata": {
    "colab": {
     "base_uri": "https://localhost:8080/",
     "height": 34
    },
    "colab_type": "code",
    "executionInfo": {
     "elapsed": 2098,
     "status": "ok",
     "timestamp": 1562631721740,
     "user": {
      "displayName": "Stephen Koo",
      "photoUrl": "https://lh4.googleusercontent.com/-puW04LijCY0/AAAAAAAAAAI/AAAAAAABMD8/p1HymCYlPUI/s64/photo.jpg",
      "userId": "00528687567139275578"
     },
     "user_tz": 240
    },
    "id": "8XRvBNvyBjxs",
    "outputId": "8714b5ce-5cd2-4704-f6fa-4a00e2690661"
   },
   "outputs": [
    {
     "data": {
      "text/plain": [
       "True"
      ]
     },
     "execution_count": 26,
     "metadata": {
      "tags": []
     },
     "output_type": "execute_result"
    }
   ],
   "source": [
    "print(isConsonant(\"a\"))\n",
    "print(isConsonant(\"b\"))\n",
    "print(isConsonant(\"1\"))\n",
    "print(isConsonant(\".\"))"
   ]
  },
  {
   "cell_type": "markdown",
   "metadata": {
    "colab_type": "text",
    "id": "RlmpMoS5Bjx5"
   },
   "source": [
    "### 3.9 \n",
    "Rewrite `isConsonant` so that it also returns `False` when it is not part of the alphabet. \n",
    "\n",
    "_Hint: Use >, <, >=, and/or <= as string comparators to test if it's part of the alphabet._"
   ]
  },
  {
   "cell_type": "code",
   "execution_count": 0,
   "metadata": {
    "colab": {},
    "colab_type": "code",
    "id": "EZ-whg4BBjx9"
   },
   "outputs": [],
   "source": [
    "def isConsonant(letter):\n",
    "    # Write your code here.\n",
    "\n",
    "\n",
    "    # Test your code here!\n",
    "print(isConsonant(\"a\"))\n",
    "print(isConsonant(\"b\"))\n",
    "print(isConsonant(\"1\"))\n",
    "print(isConsonant(\".\"))"
   ]
  },
  {
   "cell_type": "markdown",
   "metadata": {
    "colab_type": "text",
    "id": "FbNSOIbJBjyJ"
   },
   "source": [
    "### 4.1 \n",
    "Write a function ``inTheList`` that takes in a list `lst` and a target element `t` that returns `True` if `t` is in `lst` and `False` otherwise. **Use a `for`-loop.**"
   ]
  },
  {
   "cell_type": "code",
   "execution_count": 0,
   "metadata": {
    "colab": {},
    "colab_type": "code",
    "id": "RkF7quPrBjyL"
   },
   "outputs": [],
   "source": [
    "def inTheList(lst, t):\n",
    "  # Write your code here.\n",
    "\n",
    "    # Test your code here."
   ]
  },
  {
   "cell_type": "markdown",
   "metadata": {
    "colab_type": "text",
    "id": "RiAp26MdBjyU"
   },
   "source": [
    "### 4.2 \n",
    "Write a function `overlaps` which takes in two lists, `lst1` and `lst2`, and returns `True` if any element of `lst1` is in `lst2` and `False` otherwise. **You must use `for`-loops.**"
   ]
  },
  {
   "cell_type": "code",
   "execution_count": 0,
   "metadata": {
    "colab": {},
    "colab_type": "code",
    "id": "apR_jF8EBjyd"
   },
   "outputs": [],
   "source": [
    "def overlaps(lst1, lst2):\n",
    "  # Write your code here.\n",
    "\n",
    "    # Test your code here."
   ]
  },
  {
   "cell_type": "markdown",
   "metadata": {
    "colab_type": "text",
    "id": "13AFPZnQBjzH"
   },
   "source": [
    "### 4.3 \n",
    "Write a function `intersection` which takes in two lists, `lst1` and `lst2`, and returns a list containing the all the elements present in both lists. **You must use `for`-loops.**"
   ]
  },
  {
   "cell_type": "code",
   "execution_count": 0,
   "metadata": {
    "colab": {
     "base_uri": "https://localhost:8080/",
     "height": 34
    },
    "colab_type": "code",
    "executionInfo": {
     "elapsed": 1189,
     "status": "ok",
     "timestamp": 1562632697844,
     "user": {
      "displayName": "Stephen Koo",
      "photoUrl": "https://lh4.googleusercontent.com/-puW04LijCY0/AAAAAAAAAAI/AAAAAAABMD8/p1HymCYlPUI/s64/photo.jpg",
      "userId": "00528687567139275578"
     },
     "user_tz": 240
    },
    "id": "H4ho20CcBjzK",
    "outputId": "4517fd41-77bf-4f9e-867c-5009d640d456"
   },
   "outputs": [
    {
     "name": "stdout",
     "output_type": "stream",
     "text": [
      "[2, 3]\n"
     ]
    }
   ],
   "source": [
    "def intersection(lst1, lst2):\n",
    "  # Write your code here.\n",
    "\n",
    "\n",
    "    # Test your code here.\n",
    "print(intersection([1, 2, 3], [2, 3, 4]))"
   ]
  },
  {
   "cell_type": "markdown",
   "metadata": {
    "colab_type": "text",
    "id": "hfbfsrGbBjzV"
   },
   "source": [
    "## Question 5"
   ]
  },
  {
   "cell_type": "markdown",
   "metadata": {
    "colab_type": "text",
    "id": "VhREEswbBjzY"
   },
   "source": [
    "### 5.1 \n",
    "Write a function `rectangleArea` that takes in two integers, `x` and `y`, which represent the side lengths of the rectangle, and returns the area of the rectangle. Can you use this function to find the area of a square?"
   ]
  },
  {
   "cell_type": "code",
   "execution_count": 0,
   "metadata": {
    "colab": {},
    "colab_type": "code",
    "id": "LDZE8F2aBjza"
   },
   "outputs": [],
   "source": [
    "def rectangleArea(x, y):\n",
    "    # Write your code here."
   ]
  },
  {
   "cell_type": "markdown",
   "metadata": {
    "colab_type": "text",
    "id": "oMtYmntZBjzn"
   },
   "source": [
    "### 5.2 \n",
    "Write a function `circleArea` that takes in an integer `r` that represents the radius, and returns the area of a circle. "
   ]
  },
  {
   "cell_type": "code",
   "execution_count": 0,
   "metadata": {
    "colab": {},
    "colab_type": "code",
    "id": "4IW-FqYiBjzp"
   },
   "outputs": [],
   "source": [
    "def circleArea(r):\n",
    "    # Write your code here."
   ]
  },
  {
   "cell_type": "markdown",
   "metadata": {
    "colab_type": "text",
    "id": "7YYmFEE4Bjz2"
   },
   "source": [
    "### 5.3 \n",
    "Write a function `triangleArea` that takes in three integers, `a`, `b`, and `c` that represent the traingle side lengths, and returns the area of the triangle. \n",
    "\n",
    "Note: the formula for the area of a triangle is - \n",
    "$$ A = \\sqrt{s \\times (s-a) \\times (s-b) \\times (s-c) } $$\n",
    "where $s$ is the semi-perimeter represented as $ s = 0.5 \\times (a + b + c) $. "
   ]
  },
  {
   "cell_type": "code",
   "execution_count": 0,
   "metadata": {
    "colab": {
     "base_uri": "https://localhost:8080/",
     "height": 34
    },
    "colab_type": "code",
    "executionInfo": {
     "elapsed": 963,
     "status": "ok",
     "timestamp": 1562632788973,
     "user": {
      "displayName": "Stephen Koo",
      "photoUrl": "https://lh4.googleusercontent.com/-puW04LijCY0/AAAAAAAAAAI/AAAAAAABMD8/p1HymCYlPUI/s64/photo.jpg",
      "userId": "00528687567139275578"
     },
     "user_tz": 240
    },
    "id": "OeORbBUjK3Dz",
    "outputId": "c998d670-560e-4494-b708-f768a7f2ed80"
   },
   "outputs": [
    {
     "data": {
      "text/plain": [
       "2.0"
      ]
     },
     "execution_count": 2,
     "metadata": {
      "tags": []
     },
     "output_type": "execute_result"
    }
   ],
   "source": [
    "# If you run this cell first, you can use `math.sqrt` in your function below.\n",
    "import math\n",
    "\n",
    "math.sqrt(4)"
   ]
  },
  {
   "cell_type": "code",
   "execution_count": 0,
   "metadata": {
    "colab": {},
    "colab_type": "code",
    "id": "QpFqy6ndBjz4"
   },
   "outputs": [],
   "source": [
    "def triangleArea(a, b, c):\n",
    "    # Write your code here."
   ]
  },
  {
   "cell_type": "markdown",
   "metadata": {
    "colab_type": "text",
    "id": "EX9FMTSxBjz-"
   },
   "source": [
    "### 5.4 \n",
    "If a square, circle, and equilateral triangle ($a=b=c$) have the same perimeter `P`, find which figure has the largest area. Return the largest area as a float. \n",
    "\n",
    "_Hint: You should use the functions from 5.1 to 5.3._"
   ]
  },
  {
   "cell_type": "code",
   "execution_count": 0,
   "metadata": {
    "colab": {},
    "colab_type": "code",
    "id": "DLgRTrxjBjz_"
   },
   "outputs": [],
   "source": [
    "def largestArea(P):\n",
    "    r =   # Fill this in. (find the circle's radius by using P)\n",
    "    x =   # Fill this in. (find the square's side by using P)\n",
    "    a =   # Fill this in. (find the triangle's side by using P)\n",
    "    # Return the largest area here."
   ]
  },
  {
   "cell_type": "markdown",
   "metadata": {
    "colab_type": "text",
    "id": "oRZYO5Z0Bj0E"
   },
   "source": [
    "## Question 6"
   ]
  },
  {
   "cell_type": "markdown",
   "metadata": {
    "colab_type": "text",
    "id": "S5GblpJPBj0F"
   },
   "source": [
    "### 6.1 \n",
    "Write a function `cumulativeSum` that takes in a list `lst`, and returns the list that represents the cumulative sum. In other words, the i-th element in the final list should be equal to the sum of the elements from 0 to i in the input list.\n",
    "\n",
    "**Ex:** `[1, 2, 3]` => `[1, 3, 6]`, `[5, 10, 15]` => `[5, 15, 30]`\n",
    "\n",
    "_Hint: You don't need 2 loops. If you have found the i-th element in the final list, how would use it to find the (i+1)-th element?_"
   ]
  },
  {
   "cell_type": "code",
   "execution_count": 0,
   "metadata": {
    "colab": {
     "base_uri": "https://localhost:8080/",
     "height": 34
    },
    "colab_type": "code",
    "executionInfo": {
     "elapsed": 985,
     "status": "ok",
     "timestamp": 1562633064551,
     "user": {
      "displayName": "Stephen Koo",
      "photoUrl": "https://lh4.googleusercontent.com/-puW04LijCY0/AAAAAAAAAAI/AAAAAAABMD8/p1HymCYlPUI/s64/photo.jpg",
      "userId": "00528687567139275578"
     },
     "user_tz": 240
    },
    "id": "g09sfWr9Bj0H",
    "outputId": "39d945ca-6467-4abf-c4fa-ea60da37fcd1"
   },
   "outputs": [
    {
     "name": "stdout",
     "output_type": "stream",
     "text": [
      "[1, 3, 6]\n"
     ]
    }
   ],
   "source": [
    "def cumulativeSum(lst):\n",
    "  # Write your code here.\n",
    "\n",
    "\n",
    "    # Test your code here.\n",
    "print(cumulativeSum([1, 2, 3]))  # Should be [1, 3, 6]"
   ]
  },
  {
   "cell_type": "markdown",
   "metadata": {
    "colab_type": "text",
    "id": "XMGc8MKHBj0M"
   },
   "source": [
    "### 6.2 \n",
    "Write a function `largestCumulativeSum` that takes in a list `lst`, and **returns an integer `i`** for which the sum of the elements from $0$ to $i$ is the largest.\n",
    "\n",
    "Please try to do this with only one loop as well.\n",
    "\n",
    "**Ex:** `[10, -6, 4, 8, -5]` => `3`, `[20, -15, 3, 1, 1, 1, 5, 2]` => `0`  "
   ]
  },
  {
   "cell_type": "code",
   "execution_count": 0,
   "metadata": {
    "colab": {
     "base_uri": "https://localhost:8080/",
     "height": 34
    },
    "colab_type": "code",
    "executionInfo": {
     "elapsed": 894,
     "status": "ok",
     "timestamp": 1562633568996,
     "user": {
      "displayName": "Stephen Koo",
      "photoUrl": "https://lh4.googleusercontent.com/-puW04LijCY0/AAAAAAAAAAI/AAAAAAABMD8/p1HymCYlPUI/s64/photo.jpg",
      "userId": "00528687567139275578"
     },
     "user_tz": 240
    },
    "id": "-fNXJXGbBj0N",
    "outputId": "6a0c9d9c-a161-4695-f499-910f1e81234b"
   },
   "outputs": [
    {
     "name": "stdout",
     "output_type": "stream",
     "text": [
      "3\n"
     ]
    }
   ],
   "source": [
    "def largestCumulativeSum(lst):\n",
    "  # Write your code here.\n",
    "\n",
    "\n",
    "    # Test your code here:\n",
    "print(largestCumulativeSum([10, -6, 4, 8, -5]))  # Should be 3"
   ]
  },
  {
   "cell_type": "markdown",
   "metadata": {
    "colab_type": "text",
    "id": "VoqcorWIBj0R"
   },
   "source": [
    "## Question 7"
   ]
  },
  {
   "cell_type": "markdown",
   "metadata": {
    "colab_type": "text",
    "id": "VJIXmUgTBj0T"
   },
   "source": [
    "### 7.1 \n",
    "Write a function `isPrime` that takes in an integer `x`, and returns the boolean `True` if the number is prime, and false otherwise. As a reminder, a prime number is a number that is only divisible by itself and 1. \n",
    "\n",
    "_Hint: Use the modulo operator to check if x is divisible by a number._"
   ]
  },
  {
   "cell_type": "code",
   "execution_count": 0,
   "metadata": {
    "colab": {
     "base_uri": "https://localhost:8080/",
     "height": 69
    },
    "colab_type": "code",
    "executionInfo": {
     "elapsed": 825,
     "status": "ok",
     "timestamp": 1562633696117,
     "user": {
      "displayName": "Stephen Koo",
      "photoUrl": "https://lh4.googleusercontent.com/-puW04LijCY0/AAAAAAAAAAI/AAAAAAABMD8/p1HymCYlPUI/s64/photo.jpg",
      "userId": "00528687567139275578"
     },
     "user_tz": 240
    },
    "id": "3Ep6qxfuBj0W",
    "outputId": "153a5305-1e8e-4b85-c0aa-203ed6109efc"
   },
   "outputs": [
    {
     "name": "stdout",
     "output_type": "stream",
     "text": [
      "True\n",
      "True\n",
      "False\n"
     ]
    }
   ],
   "source": [
    "def isPrime(x):\n",
    "    # Write your code here.\n",
    "\n",
    "\n",
    "    # Test your code here.\n",
    "print(isPrime(2))  # Should be True\n",
    "print(isPrime(5))  # Should be True\n",
    "print(isPrime(8))  # Should be False"
   ]
  },
  {
   "cell_type": "markdown",
   "metadata": {
    "colab_type": "text",
    "id": "qHIV3dYCBj0d"
   },
   "source": [
    "### 7.2 \n",
    "Write a function `primesToX` that takes in an integer `x`, and returns a list of all the prime numbers smaller or equal to `x`. "
   ]
  },
  {
   "cell_type": "code",
   "execution_count": 0,
   "metadata": {
    "colab": {},
    "colab_type": "code",
    "id": "o4fz9rB7Bj0f"
   },
   "outputs": [],
   "source": [
    "def primesToX(x):\n",
    "    # Write your code here.\n",
    "\n",
    "    # Test your code here"
   ]
  },
  {
   "cell_type": "markdown",
   "metadata": {
    "colab_type": "text",
    "id": "EebvGNmEBj0q"
   },
   "source": [
    "### 7.3 \n",
    "Write a function `nextPrime` that takes in an integer `x`, and returns the first prime greater than `x`. "
   ]
  },
  {
   "cell_type": "code",
   "execution_count": 0,
   "metadata": {
    "colab": {},
    "colab_type": "code",
    "id": "37oI_wiyBj0r"
   },
   "outputs": [],
   "source": [
    "def nextPrime(x):\n",
    "    # Write your code here.\n",
    "\n",
    "    # Test your code here"
   ]
  },
  {
   "cell_type": "markdown",
   "metadata": {
    "colab_type": "text",
    "id": "-XVypZEIBj0x"
   },
   "source": [
    "## Question 8"
   ]
  },
  {
   "cell_type": "markdown",
   "metadata": {
    "colab_type": "text",
    "id": "5PrFh5DTBj00"
   },
   "source": [
    "### 8.1 \n",
    "Write a function `hashExtract` that takes in a string `s`, and returns a list of all the words that start with a hashtag (#). \n",
    "\n",
    "**Ex:** `'I'm so excited to code for #AddisCoder! Looking to learn lots of #CS.\"` => `['AddisCoder', 'CS']`"
   ]
  },
  {
   "cell_type": "code",
   "execution_count": 0,
   "metadata": {
    "colab": {
     "base_uri": "https://localhost:8080/",
     "height": 34
    },
    "colab_type": "code",
    "executionInfo": {
     "elapsed": 842,
     "status": "ok",
     "timestamp": 1562638550148,
     "user": {
      "displayName": "Stephen Koo",
      "photoUrl": "https://lh4.googleusercontent.com/-puW04LijCY0/AAAAAAAAAAI/AAAAAAABMD8/p1HymCYlPUI/s64/photo.jpg",
      "userId": "00528687567139275578"
     },
     "user_tz": 240
    },
    "id": "7rwWyU6ABj04",
    "outputId": "543db9ad-2f1f-4eca-d5b7-c80d3813af73"
   },
   "outputs": [
    {
     "name": "stdout",
     "output_type": "stream",
     "text": [
      "['AddisCoder', 'CS']\n"
     ]
    }
   ],
   "source": [
    "def hashExtract(s):\n",
    "    # Write your code here.\n",
    "\n",
    "\n",
    "    # Test your code here.\n",
    "print(hashExtract(\"I'm so excited to code for #AddisCoder! Looking to learn lots of #CS.\"))"
   ]
  },
  {
   "cell_type": "markdown",
   "metadata": {
    "colab_type": "text",
    "id": "va196M5zBj09"
   },
   "source": [
    "## Question 9"
   ]
  },
  {
   "cell_type": "markdown",
   "metadata": {
    "colab_type": "text",
    "id": "Av2xz_ZtBj1C"
   },
   "source": [
    "### 9.1 \n",
    "Write a function `interweave` that takes in two lists, `lst1` and `lst2`, and returns a list of the elements from `lst1` and `lst2` that first places an element from `lst1`, then places an element from `lst2`, and continues to do that until all the elements have been placed in the new list. You may assume that the list lengths are equivalent. \n",
    "\n",
    "**Ex:** `[1,2,3], [4, 5, 6]` => `[1, 4, 2, 5, 3, 6]`, `[13, 4, 6, 8], [17, 2, 1, 5]` => `[13, 17, 4, 2, 6, 1, 8, 5]`"
   ]
  },
  {
   "cell_type": "code",
   "execution_count": 0,
   "metadata": {
    "colab": {},
    "colab_type": "code",
    "id": "zyn1Zbc2Bj1K"
   },
   "outputs": [],
   "source": [
    "def interweave(lst1, lst2):\n",
    "    # Write your code here.\n",
    "\n",
    "\n",
    "    # Test your code here!\n",
    "print(interweave([1, 2, 3], [4, 5, ]))"
   ]
  },
  {
   "cell_type": "markdown",
   "metadata": {},
   "source": [
    "# Question 10\n",
    "\n",
    "### 10.1\n",
    "\n",
    "Given a list `numbers`, write a program to remove all occurrences of item 20.\n",
    "`numbers` = `[5, 20, 15, 20, 25, 50, 20]`\n",
    "\n",
    "**Ex:** `[5, 20, 15, 20, 25, 50, 20]` => `[5, 15, 25, 50]`"
   ]
  },
  {
   "cell_type": "code",
   "execution_count": null,
   "metadata": {},
   "outputs": [],
   "source": []
  }
 ],
 "metadata": {
  "colab": {
   "collapsed_sections": [],
   "name": "probs4a.ipynb",
   "provenance": [],
   "version": "0.3.2"
  },
  "kernelspec": {
   "display_name": "Python 3 (ipykernel)",
   "language": "python",
   "name": "python3"
  },
  "language_info": {
   "codemirror_mode": {
    "name": "ipython",
    "version": 3
   },
   "file_extension": ".py",
   "mimetype": "text/x-python",
   "name": "python",
   "nbconvert_exporter": "python",
   "pygments_lexer": "ipython3",
   "version": "3.9.12"
  }
 },
 "nbformat": 4,
 "nbformat_minor": 1
}
