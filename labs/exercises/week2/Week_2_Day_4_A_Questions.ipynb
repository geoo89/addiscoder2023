{
  "nbformat": 4,
  "nbformat_minor": 0,
  "metadata": {
    "colab": {
      "provenance": []
    },
    "kernelspec": {
      "name": "python3",
      "display_name": "Python 3"
    },
    "language_info": {
      "name": "python"
    }
  },
  "cells": [
    {
      "cell_type": "code",
      "source": [
        "# RUN THIS BLOCK OF CODE BEFORE RUNNING ANY CELLS\n",
        "def check_test(actual, expected):\n",
        "    if expected != actual:\n",
        "        print(f\"Function should return the value {expected}, it is returning the value {actual}\")\n",
        "    else:\n",
        "        print(f\"Congratulations, the test case passed!\")"
      ],
      "metadata": {
        "id": "BY9aZJfMIqls"
      },
      "execution_count": null,
      "outputs": []
    },
    {
      "cell_type": "markdown",
      "source": [
        "# Week 2, Day 4: List Comprehension, Time Complexity and Search"
      ],
      "metadata": {
        "id": "hLR6YHzecZJM"
      }
    },
    {
      "cell_type": "markdown",
      "source": [
        " In lecture today, you covered list comprehension, time complexity and search.In the exercises today, we will practice using more of these list comprehension technique. You should see that what you have learned so far is already quite powerful. You will be able to automatically solve interesting and complex problems with the tools you now have.  "
      ],
      "metadata": {
        "id": "6WNmQL3KbraK"
      }
    },
    {
      "cell_type": "markdown",
      "source": [
        "## List Comprehension\n"
      ],
      "metadata": {
        "id": "I5W2CrGUv3Dd"
      }
    },
    {
      "cell_type": "markdown",
      "source": [
        "List comprehension is a concise and powerful way to create lists in Python. It allows you to combine loops and conditional statements into a single line of code. Let's explore this concept with some fun and easy exercises:"
      ],
      "metadata": {
        "id": "V2Uy7flzctLc"
      }
    },
    {
      "cell_type": "markdown",
      "source": [
        "### Question 1\n",
        "You are given a string, consisting of lowercase Latin letters. Write a function that deletes all the vowels. Vowels are letters \"a\", \"e\", \"i\", \"o\", \"u\", and the rest are consonants. The program's input is exactly one string, it should return the output as a single string with all vowels removed.\n"
      ],
      "metadata": {
        "id": "qjGppKq1pnlL"
      }
    },
    {
      "cell_type": "code",
      "source": [
        "def remove_vowels(word):\n",
        "  # WRITE YOUR CODE HERE"
      ],
      "metadata": {
        "id": "YM6zS_uDrQxZ"
      },
      "execution_count": null,
      "outputs": []
    },
    {
      "cell_type": "code",
      "source": [
        "check_test(remove_vowels(\"abacaba\"), \"bcb\")\n",
        "check_test(remove_vowels(\"addis coder\"), \"dds cdr\")\n",
        "check_test(remove_vowels(\"list comprehension is fun\"), \"lst cmprhnsn s fn\")\n",
        "check_test(remove_vowels(\"zzzzzzzzz\"), \"zzzzzzzzz\")\n",
        "check_test(remove_vowels(\"aaaaaaaaaaaaaa\"), \"\")\n",
        "check_test(remove_vowels(\"\"), \"\")\n"
      ],
      "metadata": {
        "id": "iJwp0s_8I_Es"
      },
      "execution_count": null,
      "outputs": []
    },
    {
      "cell_type": "markdown",
      "source": [
        "### Question 2\n",
        "\n",
        "You are give a list of words, Find all of the words in the list that are palindromes.\n",
        "\n",
        "A palindrom is a word, phrase, or sequence that reads the same backward as forward, e.g., <b><i>\"madam\"</i></b> or <b><i>\"mom\"</i></b> .\n",
        "\n",
        "In order to solve this problem. You can follow this steps.\n",
        "\n",
        "1. First create a function that checks if a word is a palindrome or not.\n",
        "2. Create another function that uses list comprehension to collect the words that are palindrome from the list.\n"
      ],
      "metadata": {
        "id": "VuraeqEosuqo"
      }
    },
    {
      "cell_type": "code",
      "source": [
        "# Step 1: Createh a function that checks if a word is palindrome or not.\n",
        "def check_palindrome(word):\n",
        "  # WRITE YOUR CODE HERE"
      ],
      "metadata": {
        "id": "QH23D6GnC5kr"
      },
      "execution_count": null,
      "outputs": []
    },
    {
      "cell_type": "code",
      "source": [
        "# Step 2: Create another function that uses list comprehension to collect the words that are palindrome from the list.\n",
        "def get_palindromic_words(words):\n",
        "  # WRITE YOUR CODE HERE"
      ],
      "metadata": {
        "id": "GgDtah4XF1U4"
      },
      "execution_count": null,
      "outputs": []
    },
    {
      "cell_type": "code",
      "source": [
        "check_test(get_palindromic_words([\"madam\", \"horse\", \"ball\", \"racecar\"]), [\"madam\", \"racecar\"])\n",
        "check_test(get_palindromic_words([\"one\", \"black\", \"zebra\", \"list\"]), [])\n",
        "check_test(get_palindromic_words([\"kayak\", \"rotator\", \"noon\", \"deed\", \"wow\"]), [\"kayak\", \"rotator\", \"noon\", \"deed\", \"wow\"])\n",
        "\n"
      ],
      "metadata": {
        "id": "ffYSyNf2L1nb"
      },
      "execution_count": null,
      "outputs": []
    },
    {
      "cell_type": "markdown",
      "source": [
        "## Time Complexity\n"
      ],
      "metadata": {
        "id": "sv_d7QBeYHpb"
      }
    },
    {
      "cell_type": "markdown",
      "source": [
        "Time complexity is defined as the amount of operations taken by an algorithm to run, as a function of the length of the input. It explains how the time it takes a an algorithm to complete grows with respect to the growth in the size of inputs.\n",
        "\n",
        "Consider the following code. The function addNums takes a number n and adds all the numbers from 0 to n - 1\n",
        "\n",
        "```\n",
        "def addNums(n):\n",
        "    answer = 0\n",
        "    for i in range(n):\n",
        "        answer += i\n",
        "\n",
        "    return answer\n",
        "```\n",
        "\n"
      ],
      "metadata": {
        "id": "Nu4pLrLvtadW"
      }
    },
    {
      "cell_type": "code",
      "source": [
        "# For how many iterations is the loop going to run?\n",
        "# Put your answer below."
      ],
      "metadata": {
        "id": "hUOj2eS7Oo2B"
      },
      "execution_count": null,
      "outputs": []
    },
    {
      "cell_type": "code",
      "source": [],
      "metadata": {
        "id": "ay13Q0XYtlnG"
      },
      "execution_count": null,
      "outputs": []
    },
    {
      "cell_type": "code",
      "source": [
        "# What is the time complexity of the code in terms of big O notation?\n",
        "# Put your answer below."
      ],
      "metadata": {
        "id": "ci7AvuGhgCI4"
      },
      "execution_count": null,
      "outputs": []
    },
    {
      "cell_type": "code",
      "source": [],
      "metadata": {
        "id": "XxgKX-augN0s"
      },
      "execution_count": null,
      "outputs": []
    },
    {
      "cell_type": "markdown",
      "source": [
        "Now let's consider another function addNumList(n). It takes in a list of numbers, and calls the addNums function for each item in the list.\n",
        "\n",
        "\n",
        "\n",
        "```\n",
        "def addNumList(lst):\n",
        "    for i in lst:\n",
        "        addNums(i)\n",
        "```\n",
        "\n",
        "\n"
      ],
      "metadata": {
        "id": "hu3cT62ytmLy"
      }
    },
    {
      "cell_type": "code",
      "source": [
        "# How many times does the addNumList function call addNums()?\n",
        "# [Your answer here]"
      ],
      "metadata": {
        "id": "JE6vZuqDuH7L"
      },
      "execution_count": null,
      "outputs": []
    },
    {
      "cell_type": "code",
      "source": [
        "# Now, how many addition operations are going to be performed in total?\n",
        "# [Your answer here]"
      ],
      "metadata": {
        "id": "Js0p01ixuI8S"
      },
      "execution_count": null,
      "outputs": []
    },
    {
      "cell_type": "code",
      "source": [
        "# What is the time complexity of the code in terms of big O notation?\n",
        "# [Your answer here]"
      ],
      "metadata": {
        "id": "Ej0FmgBCgYhk"
      },
      "execution_count": null,
      "outputs": []
    },
    {
      "cell_type": "markdown",
      "source": [
        "## Search\n",
        "\n"
      ],
      "metadata": {
        "id": "L4Qg9cmQYLT9"
      }
    },
    {
      "cell_type": "markdown",
      "source": [
        "Implement a function called `linear_search` that takes in two parameters: a list of integers and a target integer. The function should return the index of the target integer if it is found in the list, or `-1` if it is not present. Use the linear search algorithm to solve this problem.\n",
        "\n",
        "For example, given the list `[4, 2, 7, 1, 9, 5]` and the target integer `7`, the function should return `2` since `7` is located at index `2` in the list."
      ],
      "metadata": {
        "id": "fRtYZ7aOgugA"
      }
    },
    {
      "cell_type": "code",
      "source": [
        "def linear_search(array, target):\n",
        "  # WRITE YOUR CODE HERE\n"
      ],
      "metadata": {
        "id": "HDat2tXVaKeT"
      },
      "execution_count": null,
      "outputs": []
    },
    {
      "cell_type": "code",
      "source": [
        "check_test(linear_search([4, 2, 7, 1, 9, 5], 7), 2)\n",
        "check_test(linear_search([1, 2, 3, 4, 5], 5), 4)\n",
        "check_test(linear_search([4, 2, 7, 1, 9, 5], 3), -1)"
      ],
      "metadata": {
        "id": "qBGe2Zj-a5VJ"
      },
      "execution_count": null,
      "outputs": []
    }
  ]
}