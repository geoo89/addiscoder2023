{
  "nbformat": 4,
  "nbformat_minor": 0,
  "metadata": {
    "colab": {
      "provenance": []
    },
    "kernelspec": {
      "name": "python3",
      "display_name": "Python 3"
    },
    "language_info": {
      "name": "python"
    }
  },
  "cells": [
    {
      "cell_type": "markdown",
      "source": [
        "#### Lecture 7, Exercises B\n",
        "\n"
      ],
      "metadata": {
        "id": "Qi8hPCQT0xd5"
      }
    },
    {
      "cell_type": "code",
      "source": [
        "# Library Function (Run this)\n",
        "def check(actual, expected):\n",
        "    if expected != actual:\n",
        "        print(\n",
        "            f\"Function should return the value {expected}, it is returning the value {actual}\")\n",
        "    else:\n",
        "        print(f\"Congratulations, the test case passed!\")"
      ],
      "metadata": {
        "id": "H-jcPZ6j1Oyt"
      },
      "execution_count": null,
      "outputs": []
    },
    {
      "cell_type": "markdown",
      "source": [
        "####Practicing functions more"
      ],
      "metadata": {
        "id": "vNDHnvaP5ODR"
      }
    },
    {
      "cell_type": "markdown",
      "source": [
        "So far, you have learned about types, strings, ``for`` loops and basic functions, and you've practiced making some simple functions. Today, you are going to write more complex functions using these tools as well as some basic high school mathematics. If you are running out of time, please skip problems labeled Challenge. These are optional and should only be done if you have already finished practicing the rest of the material.\n",
        "\n"
      ],
      "metadata": {
        "id": "7eTD8aLM5UcJ"
      }
    },
    {
      "cell_type": "markdown",
      "source": [
        "#### Question 1\n"
      ],
      "metadata": {
        "id": "69oO5opQ5bcO"
      }
    },
    {
      "cell_type": "markdown",
      "source": [
        "In Python, ``**`` is the power operation. Here you are going to write a function ``power`` that takes two inputs ``x`` and ``y``, which are both integers, and raises x to y using multiplication and ``for`` loops. Your function should return \"NA\" if ``y < 0``."
      ],
      "metadata": {
        "id": "nZQhoo6V6HkJ"
      }
    },
    {
      "cell_type": "markdown",
      "source": [
        "*Step 1:*\n",
        "\n",
        "First check whether ``y`` is equal to zero, greater than zero, or less than zero since your function works only when ``y`` is a non- negative integer.\n",
        "\n",
        "*Step 2:*\n",
        "\n",
        "Try using a loop. You may **not** use the built-in Python power operator\n"
      ],
      "metadata": {
        "id": "_y6G3IFX6mo3"
      }
    },
    {
      "cell_type": "code",
      "source": [
        "def power(x,y):\n",
        "  \"\"\"\n",
        "  This function raises x to the power of y.\n",
        "  It expects y to be a non-negative integer.\n",
        "  \"\"\"\n",
        "  pass"
      ],
      "metadata": {
        "id": "Ha4xhDtR6lrJ"
      },
      "execution_count": null,
      "outputs": []
    },
    {
      "cell_type": "markdown",
      "source": [
        "Write at least three tests your ``power`` function must pass. Does your function pass them?\n",
        "\n"
      ],
      "metadata": {
        "id": "eC_AkQU97HoK"
      }
    },
    {
      "cell_type": "code",
      "source": [
        "check(power(3, 3), 27)\n",
        "check(power(4, 0), 1)\n",
        "check(power(2, -5), \"NA\")\n"
      ],
      "metadata": {
        "colab": {
          "base_uri": "https://localhost:8080/"
        },
        "id": "NWjepeAY5ajZ",
        "outputId": "8fdc1362-dae7-4bf7-bb8a-199252357e7a"
      },
      "execution_count": null,
      "outputs": [
        {
          "output_type": "stream",
          "name": "stdout",
          "text": [
            "Congratulations, the test case passed!\n",
            "Congratulations, the test case passed!\n",
            "Congratulations, the test case passed!\n"
          ]
        }
      ]
    },
    {
      "cell_type": "markdown",
      "source": [
        "#### Question **2**"
      ],
      "metadata": {
        "id": "tyd5G4y889Vt"
      }
    },
    {
      "cell_type": "markdown",
      "source": [
        "Imagine you are taking an aptitude national exam and your task is to find all the prime numbers less than a given number. Ideally you want your calculator to do it for you! In this exercise, you will write two functions to accomplish this task.\n",
        "\n",
        "1. The first function ``is_prime`` is going to return a Boolean based on whether the given integer n is a prime number or not.\n",
        "2. The second function ``list_prime`` is going to return a list of prime numbers which are less than a given number n. The second function is going to call the first function which returns a Boolean.\n",
        "\n",
        "*Hint: remember that 0 and 1 are neither prime nor composite numbers.*"
      ],
      "metadata": {
        "id": "2yFFvtAo9C3O"
      }
    },
    {
      "cell_type": "code",
      "source": [
        "def is_prime(n):\n",
        "    \"\"\"\n",
        "    Returns a Boolean True if n is prime, False otherwise\n",
        "    \"\"\"\n",
        "    pass\n"
      ],
      "metadata": {
        "id": "vySYjGNm6fhO"
      },
      "execution_count": null,
      "outputs": []
    },
    {
      "cell_type": "code",
      "source": [
        "# TEST_CASES\n",
        "\n",
        "check(is_prime(3), True)\n",
        "check(is_prime(8), False)\n",
        "check(is_prime(123), False)\n",
        "check(is_prime(107), True)\n",
        "check(is_prime(0), False)\n",
        "check(is_prime(1), False)"
      ],
      "metadata": {
        "colab": {
          "base_uri": "https://localhost:8080/"
        },
        "id": "DBOdbEWp9LA2",
        "outputId": "aacc9ea7-d9e8-4d10-c6d0-5f7a7156bff0"
      },
      "execution_count": null,
      "outputs": [
        {
          "output_type": "stream",
          "name": "stdout",
          "text": [
            "Congratulations, the test case passed!\n",
            "Congratulations, the test case passed!\n",
            "Congratulations, the test case passed!\n",
            "Congratulations, the test case passed!\n",
            "Congratulations, the test case passed!\n",
            "Congratulations, the test case passed!\n"
          ]
        }
      ]
    },
    {
      "cell_type": "code",
      "source": [
        "def list_prime(n):\n",
        "    \"\"\"\n",
        "    Return a list of all prime numbers less than n.\n",
        "    \"\"\"\n",
        "    pass"
      ],
      "metadata": {
        "id": "0JTbGttq9UTD"
      },
      "execution_count": null,
      "outputs": []
    },
    {
      "cell_type": "code",
      "source": [
        "# Write your tests here.\n",
        "\n",
        "check(list_prime(19), [2, 3, 5, 7, 11, 13, 17])\n",
        "check(list_prime(26), [2, 3, 5, 7, 11, 13, 17, 19, 23])\n",
        "check(list_prime(2), [])"
      ],
      "metadata": {
        "colab": {
          "base_uri": "https://localhost:8080/"
        },
        "id": "XKe-nWfn9YB8",
        "outputId": "294e7b75-7226-41d6-e815-f722c6cf2630"
      },
      "execution_count": null,
      "outputs": [
        {
          "output_type": "stream",
          "name": "stdout",
          "text": [
            "Congratulations, the test case passed!\n",
            "Congratulations, the test case passed!\n",
            "Congratulations, the test case passed!\n"
          ]
        }
      ]
    },
    {
      "cell_type": "markdown",
      "source": [
        "**Bonus**: Write a function that returns the nth prime number. The function should take an input n, which represents the position of the prime number to find. Your task is to complete the function ``nth_prime(n)``. Here are some examples.\n",
        "\n",
        "\n",
        "```\n",
        "Input: n = 1\n",
        "Output: 2\n",
        "```\n",
        "```\n",
        "Input: n = 5\n",
        "Output: 11\n",
        "```\n",
        "\n",
        "*Hint: You may consider using your is_prime function*\n",
        "\n",
        "\n"
      ],
      "metadata": {
        "id": "j0wIxN3L-4fO"
      }
    },
    {
      "cell_type": "code",
      "source": [
        "def nth_prime(n):\n",
        "  \"\"\"\n",
        "  Returns the nth prime number.\n",
        "  This function expects the n >= 1\n",
        "  \"\"\"\n",
        "  pass"
      ],
      "metadata": {
        "id": "Lz6V0wCweZ7o"
      },
      "execution_count": null,
      "outputs": []
    },
    {
      "cell_type": "code",
      "source": [
        "# Write your tests here.\n",
        "\n",
        "check(nth_prime(1),2 )\n",
        "check(nth_prime(5),11)\n",
        "check(nth_prime(8), 19)"
      ],
      "metadata": {
        "colab": {
          "base_uri": "https://localhost:8080/"
        },
        "id": "uCFCIYo7B0EZ",
        "outputId": "b85f01e5-2c94-4372-baf7-10cf464f9616"
      },
      "execution_count": null,
      "outputs": [
        {
          "output_type": "stream",
          "name": "stdout",
          "text": [
            "Congratulations, the test case passed!\n",
            "Congratulations, the test case passed!\n",
            "Congratulations, the test case passed!\n"
          ]
        }
      ]
    },
    {
      "cell_type": "markdown",
      "source": [
        "#### Question 3"
      ],
      "metadata": {
        "id": "t-7G2yp9Czez"
      }
    },
    {
      "cell_type": "markdown",
      "source": [
        "Given a list of integers L (that may have repeats), return a list of all the unique elements in L. You may not use any built-in Python functions.\n",
        "\n",
        "*Example*: If L = [1,1,1,2,2,3,3,3,3] Output = [1,2,3]\n",
        "\n",
        "*Hint: assign a variable or use a data structure that will contain unique elements*\n"
      ],
      "metadata": {
        "id": "Kc3XB22WC5TO"
      }
    },
    {
      "cell_type": "code",
      "source": [
        "def list_unique(L):\n",
        "    pass\n"
      ],
      "metadata": {
        "id": "bdKxY_K4DdMH"
      },
      "execution_count": null,
      "outputs": []
    },
    {
      "cell_type": "code",
      "source": [
        "# Write your tests here.\n",
        "\n",
        "check(list_unique([1, 1, 1, 1]), [1])\n",
        "check(list_unique([2, 1, 1, 1, 2, 2, 3, 3, 3, 3, 4, 5]), [1, 2, 3, 4, 5])\n",
        "check(list_unique([]), [])\n"
      ],
      "metadata": {
        "colab": {
          "base_uri": "https://localhost:8080/"
        },
        "id": "H8-q4ff3DdJV",
        "outputId": "7d317a1a-904f-4e01-e463-08fe8ced08f1"
      },
      "execution_count": null,
      "outputs": [
        {
          "output_type": "stream",
          "name": "stdout",
          "text": [
            "Congratulations, the test case passed!\n",
            "Congratulations, the test case passed!\n",
            "Congratulations, the test case passed!\n"
          ]
        }
      ]
    },
    {
      "cell_type": "markdown",
      "source": [
        "**Bonus**: Write the function that counts the frequency of a number in a list L.\n"
      ],
      "metadata": {
        "id": "ni8o2_ePrQga"
      }
    },
    {
      "cell_type": "code",
      "source": [
        "def frequency(number,L):\n",
        "  pass\n"
      ],
      "metadata": {
        "id": "hf1jNj9XsK2d"
      },
      "execution_count": null,
      "outputs": []
    },
    {
      "cell_type": "code",
      "source": [
        "check(frequency(1,[1, 1, 1, 1]), 4)\n",
        "check(frequency(4,[1, 2, 2, 1]), 0)\n"
      ],
      "metadata": {
        "colab": {
          "base_uri": "https://localhost:8080/"
        },
        "id": "dSTnRkpgt0Vz",
        "outputId": "40690752-b662-4885-8d02-fcd58939a7e8"
      },
      "execution_count": null,
      "outputs": [
        {
          "output_type": "stream",
          "name": "stdout",
          "text": [
            "Congratulations, the test case passed!\n",
            "Congratulations, the test case passed!\n"
          ]
        }
      ]
    },
    {
      "cell_type": "markdown",
      "source": [
        "#### Question 4"
      ],
      "metadata": {
        "id": "1bE-LfYvDlq4"
      }
    },
    {
      "cell_type": "markdown",
      "source": [
        "Pangrams are sentences that use every letter of the English alphabet letter at least once. You are going to write a function that checks whether a given string is a Pangram or not.\n",
        "\n",
        "*Hint: The method lower() returns a copy of the string in which all case-based characters have been made lowercase.*\n",
        "\n"
      ],
      "metadata": {
        "id": "EiO5qXypDq3D"
      }
    },
    {
      "cell_type": "code",
      "source": [
        "def is_pangram(k):\n",
        "  '''Return True if k is a pangram,\n",
        "  otherwise return False'''\n",
        "  pass"
      ],
      "metadata": {
        "id": "b5FHT_GqgQCA"
      },
      "execution_count": null,
      "outputs": []
    },
    {
      "cell_type": "code",
      "source": [
        "# Write your tests here.\n",
        "check(is_pangram('The quick brown fox jumps over a lazy dog.'), True)\n",
        "check(is_pangram('Pack my box with five dozen liquor jugs.'), True)\n",
        "check(is_pangram('what are you doing?'), False)\n"
      ],
      "metadata": {
        "colab": {
          "base_uri": "https://localhost:8080/"
        },
        "id": "j7JsQN2cDc4U",
        "outputId": "aa96d0e9-94c1-43f5-e928-d02f5f9dfedd"
      },
      "execution_count": null,
      "outputs": [
        {
          "output_type": "stream",
          "name": "stdout",
          "text": [
            "Congratulations, the test case passed!\n",
            "Congratulations, the test case passed!\n",
            "Congratulations, the test case passed!\n"
          ]
        }
      ]
    },
    {
      "cell_type": "markdown",
      "source": [
        "#### Question 5"
      ],
      "metadata": {
        "id": "VkJiIZrJEuTP"
      }
    },
    {
      "cell_type": "markdown",
      "source": [
        "You are taking the English national entrance exam and you are faced with a question that asks to remove characters whose index value are divisible by 2 and 3 except for white spaces(' '). You are going to write two functions,\n",
        "\n",
        "The first function called is_divisible_2_3 is going to return a Boolean based on whether number is a multiple of both 2 and 3. Remember that 0 is divisible by 2 and 3.\n",
        "\n",
        "The second function # change_string removes characters whose index value is a multiple of both 2 and 3. Remember that an index value of 0 means the first letter in the string, an index value of 3 means the fourth letter in the string, etc. change_string should call the first function #s_divisible_2_3."
      ],
      "metadata": {
        "id": "Mwqflx3OEuN4"
      }
    },
    {
      "cell_type": "code",
      "source": [
        "def is_divisible_2_3(n):\n",
        "  pass\n"
      ],
      "metadata": {
        "id": "ObG2abfBgt1c"
      },
      "execution_count": null,
      "outputs": []
    },
    {
      "cell_type": "code",
      "source": [
        "#TEST_CASE\n",
        "check(is_divisible_2_3(6),True)\n",
        "check(is_divisible_2_3(4),False)"
      ],
      "metadata": {
        "colab": {
          "base_uri": "https://localhost:8080/"
        },
        "id": "QWDDZpLegx36",
        "outputId": "8cafd342-bf03-4984-e18c-a3576d098ad0"
      },
      "execution_count": null,
      "outputs": [
        {
          "output_type": "stream",
          "name": "stdout",
          "text": [
            "Congratulations, the test case passed!\n",
            "Congratulations, the test case passed!\n"
          ]
        }
      ]
    },
    {
      "cell_type": "code",
      "source": [
        "def change_string(s):\n",
        "  pass"
      ],
      "metadata": {
        "id": "80o2xkCCgzyV"
      },
      "execution_count": null,
      "outputs": []
    },
    {
      "cell_type": "code",
      "source": [
        "#TEST_CASES\n",
        "check(change_string('the fox'),'he fo')\n",
        "check(change_string('the cat jumped over the fence'),'he ca jumpd ove the ence')"
      ],
      "metadata": {
        "colab": {
          "base_uri": "https://localhost:8080/"
        },
        "id": "BH1OF1PWg6DL",
        "outputId": "2f048588-0400-47e5-c6e0-348caf98c2df"
      },
      "execution_count": null,
      "outputs": [
        {
          "output_type": "stream",
          "name": "stdout",
          "text": [
            "Congratulations, the test case passed!\n",
            "Congratulations, the test case passed!\n"
          ]
        }
      ]
    },
    {
      "cell_type": "markdown",
      "source": [
        "### Question 6 (Challenge)\n",
        "Check whether a list contains the first 3 digits in the famous number  𝜋\n",
        " . Recall that the first three digits of  𝜋\n",
        "  are  3.14\n",
        " . We want our function to check whether 3, 1, 4 are contained anywhere in the given list in that order but digits in between are allowed. For instance, [4,3,1,4] should return True and [4,3,4,1] should return False. But [3, 0, 1, 0, 4] should also return True!"
      ],
      "metadata": {
        "id": "tbAK33xzg9pC"
      }
    },
    {
      "cell_type": "code",
      "source": [
        "def pi_game(r):\n",
        "  pass"
      ],
      "metadata": {
        "id": "K925U2cshBWN"
      },
      "execution_count": null,
      "outputs": []
    },
    {
      "cell_type": "code",
      "source": [
        "#TEST_CASES\n",
        "\n",
        "check(pi_game([1,2,4,3,1,4,5]),True)\n",
        "check(pi_game([1,3,2,4,1,5,4]),True)\n",
        "check(pi_game([[1,4,2,3,4,5,1]]),False)"
      ],
      "metadata": {
        "colab": {
          "base_uri": "https://localhost:8080/"
        },
        "id": "rLkZXq8-hGSV",
        "outputId": "130f76b8-58ff-40fc-c277-efee2b19de81"
      },
      "execution_count": null,
      "outputs": [
        {
          "output_type": "stream",
          "name": "stdout",
          "text": [
            "Congratulations, the test case passed!\n",
            "Congratulations, the test case passed!\n",
            "Congratulations, the test case passed!\n"
          ]
        }
      ]
    }
  ]
}