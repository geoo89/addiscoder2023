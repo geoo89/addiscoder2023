{
  "nbformat": 4,
  "nbformat_minor": 0,
  "metadata": {
    "colab": {
      "provenance": []
    },
    "kernelspec": {
      "name": "python3",
      "display_name": "Python 3"
    },
    "language_info": {
      "name": "python"
    }
  },
  "cells": [
    {
      "cell_type": "markdown",
      "source": [
        "# Lecture 8, Exercises B\n"
      ],
      "metadata": {
        "id": "vB6dF2yHEDB1"
      }
    },
    {
      "cell_type": "markdown",
      "source": [
        "***The answer to every question should use recursion!***\n"
      ],
      "metadata": {
        "id": "CTv2Jn2hEJWK"
      }
    },
    {
      "cell_type": "code",
      "source": [
        "def check(actual, expected):\n",
        "    if expected != actual:\n",
        "        print(\n",
        "            f\"Function should return the value {expected}, it is returning the value {actual}\")\n",
        "    else:\n",
        "        print(f\"Congratulations, the test case passed!\")"
      ],
      "metadata": {
        "id": "ZbPTgnXUED9W"
      },
      "execution_count": null,
      "outputs": []
    },
    {
      "cell_type": "markdown",
      "source": [
        "## Exercise 1"
      ],
      "metadata": {
        "id": "96jp6MdTEkRf"
      }
    },
    {
      "cell_type": "markdown",
      "source": [
        "### Question 1"
      ],
      "metadata": {
        "id": "9ATPjTFGE6c2"
      }
    },
    {
      "cell_type": "markdown",
      "source": [
        "Suppose you are in Grade 12 and you want to know your National Exam score. Write a function add_matric_scores(list) that takes in a list of subject scores and return the total sum of the scores. Your function must use recursion! If you're curious, the subjects are Math, English, Physics, Biology, Aptitude, Civics and Biology.\n",
        "\n",
        "Example:\n",
        "> Input: [78, 80, 90, 95, 85, 91, 89]\n",
        "> Output: 608"
      ],
      "metadata": {
        "id": "JwMlB3IDEjWO"
      }
    },
    {
      "cell_type": "markdown",
      "source": [
        "### 1.1\n",
        "\n",
        "Write down the base case.\n",
        "\n"
      ],
      "metadata": {
        "id": "PvMAfgSvFGl5"
      }
    },
    {
      "cell_type": "code",
      "source": [
        "# base case\n"
      ],
      "metadata": {
        "id": "vfsNqLYVFNrj"
      },
      "execution_count": null,
      "outputs": []
    },
    {
      "cell_type": "markdown",
      "source": [
        "### 1.2\n",
        "\n",
        "Write down the recursive case.\n",
        "\n"
      ],
      "metadata": {
        "id": "fxveZp0-FHxs"
      }
    },
    {
      "cell_type": "code",
      "source": [
        "# recursive case\n"
      ],
      "metadata": {
        "id": "2tEF4AvUFWqF"
      },
      "execution_count": null,
      "outputs": []
    },
    {
      "cell_type": "markdown",
      "source": [
        "### 1.3"
      ],
      "metadata": {
        "id": "GAjuQ_AbFiaX"
      }
    },
    {
      "cell_type": "code",
      "source": [
        "def add_matric_scores(list):\n",
        "    # Base_case\n",
        "\n",
        "    # recursive_case\n",
        "    pass"
      ],
      "metadata": {
        "id": "umoude9nFhM7"
      },
      "execution_count": null,
      "outputs": []
    },
    {
      "cell_type": "code",
      "source": [
        "# TEST_CASE\n",
        "check(add_matric_scores([78, 80, 90, 95, 85, 91, 89]), 608)\n",
        "check(add_matric_scores([100, 82, 90, 95, 85, 91, 99]), 642)\n",
        "check(add_matric_scores([78, 80, 90, 95, 85, 91, 89]), 608)\n"
      ],
      "metadata": {
        "colab": {
          "base_uri": "https://localhost:8080/"
        },
        "id": "74UfebM2FobG",
        "outputId": "3736f370-ae7e-4478-cd60-328b32423512"
      },
      "execution_count": null,
      "outputs": [
        {
          "output_type": "stream",
          "name": "stdout",
          "text": [
            "Function should return the value 608, it is returning the value None\n",
            "Function should return the value 642, it is returning the value None\n",
            "Function should return the value 608, it is returning the value None\n"
          ]
        }
      ]
    },
    {
      "cell_type": "markdown",
      "source": [
        "### 1.4\n",
        "\n",
        "Now you want to know your running score after taking each exam. Write a recursive function commulativeSum(L) that returns the cummulative sum of the subject scores in the list L\n",
        "\n",
        "Example:\n",
        "> input: [1,2,3]\n",
        "> returns: [1,3,6] The output contains the first element, then the sum of the first two elements (1+2), then the sum of the first three elements (1+2+3), etc."
      ],
      "metadata": {
        "id": "soMezgJNGO0w"
      }
    },
    {
      "cell_type": "code",
      "source": [
        "def cummulative_sum(l):\n",
        "    # Base Case\n",
        "\n",
        "    # Recursive Case\n",
        "    pass"
      ],
      "metadata": {
        "id": "cCowL3W1FsWA"
      },
      "execution_count": null,
      "outputs": []
    },
    {
      "cell_type": "code",
      "source": [
        "# TEST_CASES\n",
        "check(cummulative_sum([78, 80, 90, 95, 85, 91, 89]),\n",
        "      ([78, 158, 248, 343, 428, 519, 608]))\n",
        "check(cummulative_sum([93, 80, 90, 95, 85, 91, 89]),\n",
        "      ([93, 173, 263, 358, 443, 534, 623]))"
      ],
      "metadata": {
        "colab": {
          "base_uri": "https://localhost:8080/"
        },
        "id": "C74RZSLmGaN8",
        "outputId": "34cd63b2-c019-49ee-ca9e-46a4bf2e3cd7"
      },
      "execution_count": null,
      "outputs": [
        {
          "output_type": "stream",
          "name": "stdout",
          "text": [
            "Function should return the value [78, 158, 248, 343, 428, 519, 608], it is returning the value None\n",
            "Function should return the value [93, 173, 263, 358, 443, 534, 623], it is returning the value None\n"
          ]
        }
      ]
    },
    {
      "cell_type": "markdown",
      "source": [
        "## Exercise 2\n",
        "\n",
        "Now we want to write the function `countAnswerChoices(s)` that given a string of answer choices, and will return how many `'b'` answers you have.\n",
        "\n",
        "For example `countAnswerChoices(b(\"bcccbcccacc\") = 2`.\n",
        "\n",
        "Another example: `countAnswerChoices(b(\"aaaa\") = 0`.\n",
        "\n",
        "Also: `countAnswerChoices(b(\"\") = 0`."
      ],
      "metadata": {
        "id": "K_GlNDa9GgD0"
      }
    },
    {
      "cell_type": "markdown",
      "source": [
        "### 2.1\n",
        "\n",
        "Write down the base case\n"
      ],
      "metadata": {
        "id": "uG3-XJK4G4gJ"
      }
    },
    {
      "cell_type": "code",
      "source": [
        "# base case"
      ],
      "metadata": {
        "id": "NyWnlppuGcZB"
      },
      "execution_count": null,
      "outputs": []
    },
    {
      "cell_type": "markdown",
      "source": [
        "### 2.2\n",
        "\n",
        "Write down the recursive case"
      ],
      "metadata": {
        "id": "r1KAT0WaG-Og"
      }
    },
    {
      "cell_type": "code",
      "source": [
        "# recursive case"
      ],
      "metadata": {
        "id": "I9f9ZKH5G9gJ"
      },
      "execution_count": null,
      "outputs": []
    },
    {
      "cell_type": "markdown",
      "source": [
        "### 2.3"
      ],
      "metadata": {
        "id": "aMVxpGR-HGQj"
      }
    },
    {
      "cell_type": "code",
      "source": [
        "def countAnswerChoices(b):\n",
        "    # base case\n",
        "\n",
        "    # recursive case\n",
        "    pass"
      ],
      "metadata": {
        "id": "kcEzMla5HFic"
      },
      "execution_count": null,
      "outputs": []
    },
    {
      "cell_type": "code",
      "source": [
        "# Test_cases\n",
        "check(countAnswerChoices(\"bcacbdcbccb\"), 4)\n",
        "check(countAnswerChoices(\"cccc\"), 0)\n",
        "check(countAnswerChoices(\"\"), 0)"
      ],
      "metadata": {
        "colab": {
          "base_uri": "https://localhost:8080/"
        },
        "id": "edqyEw-AHOtS",
        "outputId": "281d73fc-631d-466c-ce34-ec87833e794d"
      },
      "execution_count": null,
      "outputs": [
        {
          "output_type": "stream",
          "name": "stdout",
          "text": [
            "Function should return the value 4, it is returning the value None\n",
            "Function should return the value 0, it is returning the value None\n",
            "Function should return the value 0, it is returning the value None\n"
          ]
        }
      ]
    },
    {
      "cell_type": "markdown",
      "source": [
        "## Challenge problems\n"
      ],
      "metadata": {
        "id": "VRrbol1JHXJ1"
      }
    },
    {
      "cell_type": "markdown",
      "source": [
        "### 3.1\n",
        "\n",
        "Given an integer `n`, write a recursive` permutations(n)` function.\n",
        "\n",
        "For example: If `n = 3`, There are six permutations of the set` {0, 1, 2}`, namely: `[2, 1, 0], [1, 2, 0],\n",
        "                        [1, 0, 2], [2, 0, 1],\n",
        "                        [0, 2, 1], [0, 1, 2]`"
      ],
      "metadata": {
        "id": "vTrj-ZJbHbeF"
      }
    },
    {
      "cell_type": "code",
      "source": [
        "def permutations(n):\n",
        "    # solution here\n",
        "    pass"
      ],
      "metadata": {
        "id": "YlaQp317HwIh"
      },
      "execution_count": null,
      "outputs": []
    },
    {
      "cell_type": "code",
      "source": [
        "# TEST_CASES\n",
        "check(permutations(0), [[0]])\n",
        "check(permutations(1), [[1, 0], [0, 1]])\n",
        "check(permutations(2), [[2, 1, 0], [1, 2, 0],\n",
        "                        [1, 0, 2], [2, 0, 1],\n",
        "                        [0, 2, 1], [0, 1, 2]])"
      ],
      "metadata": {
        "colab": {
          "base_uri": "https://localhost:8080/"
        },
        "id": "PM1pEawUHytK",
        "outputId": "e99e16d4-de3c-4652-9ddc-480eb21c32c4"
      },
      "execution_count": null,
      "outputs": [
        {
          "output_type": "stream",
          "name": "stdout",
          "text": [
            "Function should return the value [[0]], it is returning the value None\n",
            "Function should return the value [[1, 0], [0, 1]], it is returning the value None\n",
            "Function should return the value [[2, 1, 0], [1, 2, 0], [1, 0, 2], [2, 0, 1], [0, 2, 1], [0, 1, 2]], it is returning the value None\n"
          ]
        }
      ]
    },
    {
      "cell_type": "markdown",
      "source": [
        "### 3.2\n",
        "\n",
        "Recall the cumulative sum problem from earlier. Now lets write a program `recursive_list_sum(data_list)` that can handle nested scores, when a list is within another list\n",
        "\n",
        "For Example:\n",
        "\n",
        "Input: `([5, [3,4],[5,[6,7]])`\n",
        "\n",
        "*output*: ` 30 (5+3+4+5+6+7)`"
      ],
      "metadata": {
        "id": "f60rx2HVH4WQ"
      }
    },
    {
      "cell_type": "code",
      "source": [
        "def recursive_list_sum(data_list):\n",
        "    # solution_here\n",
        "    pass"
      ],
      "metadata": {
        "id": "jZlaZjiUH04h"
      },
      "execution_count": null,
      "outputs": []
    },
    {
      "cell_type": "code",
      "source": [
        "# TEST_CASES\n",
        "check(recursive_list_sum([1, 2, [3, 4], [5, 6]]), 21)\n",
        "check(recursive_list_sum([-3, 2, [3, 8], [10, 6]]), 26)\n",
        "check(recursive_list_sum([]), 0)\n",
        "check(recursive_list_sum([1, 2, [3, 4, [5, 6]]]), 21)"
      ],
      "metadata": {
        "colab": {
          "base_uri": "https://localhost:8080/"
        },
        "id": "2Pz8uC2tILQj",
        "outputId": "b3c39db8-577c-4b60-b99c-ff16b546e046"
      },
      "execution_count": null,
      "outputs": [
        {
          "output_type": "stream",
          "name": "stdout",
          "text": [
            "Function should return the value 21, it is returning the value None\n",
            "Function should return the value 26, it is returning the value None\n",
            "Function should return the value 0, it is returning the value None\n",
            "Function should return the value 21, it is returning the value None\n"
          ]
        }
      ]
    },
    {
      "cell_type": "markdown",
      "source": [
        "## Fun with recursion"
      ],
      "metadata": {
        "id": "RMMUcCNhIRKg"
      }
    },
    {
      "cell_type": "markdown",
      "source": [
        "### 4\n",
        "\n",
        "Write a recursive function that takes a natural number `n` as input and returns a list of perfect squares from `1` to `n2`\n",
        "\n",
        "For example:\n",
        "\n",
        "input= ` 4`\n",
        "\n",
        "output= `[1,4,9,16]`"
      ],
      "metadata": {
        "id": "rkbU-ohSIVC7"
      }
    },
    {
      "cell_type": "code",
      "source": [
        "def recur(n):\n",
        "    # BASE_CASE\n",
        "\n",
        "    # RECURSIVE_CASE\n",
        "    pass"
      ],
      "metadata": {
        "id": "e4xT0ngUIlVw"
      },
      "execution_count": null,
      "outputs": []
    },
    {
      "cell_type": "code",
      "source": [
        "check(recur(4), ([1, 4, 9, 16]))\n",
        "check(recur(5), ([1, 4, 9, 16, 25]))\n",
        "check(recur(9), ([1, 4, 9, 16, 25, 36, 49, 64, 81]))"
      ],
      "metadata": {
        "colab": {
          "base_uri": "https://localhost:8080/"
        },
        "id": "aUc12Ud_Iona",
        "outputId": "a3cf1b9f-f1d0-4565-da2a-0376ccadfb9a"
      },
      "execution_count": null,
      "outputs": [
        {
          "output_type": "stream",
          "name": "stdout",
          "text": [
            "Function should return the value [1, 4, 9, 16], it is returning the value None\n",
            "Function should return the value [1, 4, 9, 16, 25], it is returning the value None\n",
            "Function should return the value [1, 4, 9, 16, 25, 36, 49, 64, 81], it is returning the value None\n"
          ]
        }
      ]
    },
    {
      "cell_type": "markdown",
      "source": [
        "### 5\n",
        "\n",
        "Given a number `‘x’`, write a program to check if `x` is a Fibonacci number\n",
        "\n",
        "(*Hint:* A number is Fibonacci if and only if one or both of (5n<sup>2</sup>  + 4) or (5n<sup>2</sup>  – 4) is a perfect square )"
      ],
      "metadata": {
        "id": "cysn_HJbI1uB"
      }
    },
    {
      "cell_type": "markdown",
      "source": [
        "In order to solve this problem, you need to write to functions. The first one is called `isPerfectSquare(n)` that checks if a number is a perfect square or not. The the second function is called `isFibonacci(n)` that takes a number as an input and uses the above formula to solve the problem."
      ],
      "metadata": {
        "id": "29uZjS_jK-BD"
      }
    },
    {
      "cell_type": "code",
      "source": [
        "# Implement isPerfectSquare\n",
        "\n",
        "def isPerfectSquare(n):\n",
        "  # base case\n",
        "\n",
        "  # recursive case\n",
        "  pass"
      ],
      "metadata": {
        "id": "cVPaC7_QLkWi"
      },
      "execution_count": null,
      "outputs": []
    },
    {
      "cell_type": "code",
      "source": [
        "# TEST-CASES\n",
        "\n",
        "check(isPerfectSquare(5), False)\n",
        "check(isPerfectSquare(9), True)\n",
        "check(isPerfectSquare(25), True)\n",
        "check(isPerfectSquare(99), False)\n"
      ],
      "metadata": {
        "colab": {
          "base_uri": "https://localhost:8080/"
        },
        "id": "GGdUswWULs49",
        "outputId": "44ff6b9d-14c2-4508-a325-84e3e75a5ec9"
      },
      "execution_count": null,
      "outputs": [
        {
          "output_type": "stream",
          "name": "stdout",
          "text": [
            "Function should return the value False, it is returning the value None\n",
            "Function should return the value True, it is returning the value None\n",
            "Function should return the value True, it is returning the value None\n",
            "Function should return the value False, it is returning the value None\n"
          ]
        }
      ]
    },
    {
      "cell_type": "code",
      "source": [
        "# Implement isFibonacci\n",
        "def isFibonacci(n):\n",
        "  pass\n"
      ],
      "metadata": {
        "id": "lY7CUstfMDoa"
      },
      "execution_count": null,
      "outputs": []
    },
    {
      "cell_type": "code",
      "source": [
        "# TEST-CASES\n",
        "check(isFibonacci(3), True)\n",
        "check(isFibonacci(5), True)"
      ],
      "metadata": {
        "colab": {
          "base_uri": "https://localhost:8080/"
        },
        "id": "-HI8cA8DIued",
        "outputId": "4b5c1666-2f63-406d-d482-bb15e19137b7"
      },
      "execution_count": null,
      "outputs": [
        {
          "output_type": "stream",
          "name": "stdout",
          "text": [
            "Function should return the value True, it is returning the value None\n",
            "Function should return the value True, it is returning the value None\n"
          ]
        }
      ]
    }
  ]
}