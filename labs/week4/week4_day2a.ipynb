{
 "cells": [
  {
   "cell_type": "markdown",
   "metadata": {
    "colab_type": "text",
    "id": "Z9DELoKIHJcS"
   },
   "source": [
    "# Dynamic Programming Warm-Up"
   ]
  },
  {
   "cell_type": "markdown",
   "metadata": {
    "colab_type": "text",
    "id": "tzl27Mg4HJcV"
   },
   "source": [
    "## Edit Distance\n",
    "\n",
    "Can you find the `edit distance` between two strings? The `edit distance` is smallest number of changes you can make to get from `s1` (the first string) to `s2` (the second string). The only changes you're allowed to make are to `Insert`, `Delete` and `Replace` any character from one of the strings.\n",
    "\n",
    "*Note:* The strings will consist of only lowercase english letters\n",
    "\n",
    "*Examples:*\n",
    "\n",
    "1. s1: \"addis\" s2: \"adis\" -> 1 (delete second 'd')\n",
    "\n",
    "3. s1: \"ready\" s2: \"really\"  -> 2 (replace 'd' with 'l', insert 'l')"
   ]
  },
  {
   "cell_type": "code",
   "execution_count": null,
   "metadata": {
    "colab": {},
    "colab_type": "code",
    "id": "QlU1zC-VHJc-"
   },
   "outputs": [],
   "source": [
    "def check(actual, expected):\n",
    "    if expected != actual:\n",
    "        print(f\"Function should return the value {expected}, it is returning value {actual}\")\n",
    "    else:\n",
    "        print(f\"Congratulations, the test cases passed!\")"
   ]
  },
  {
   "cell_type": "markdown",
   "metadata": {
    "colab_type": "text",
    "id": "C5DgFp0tHJcX"
   },
   "source": [
    "### 1.1\n",
    "What is the edit distance between:\n",
    "\n",
    "s1: \"sunday\" s2: \"saturday\""
   ]
  },
  {
   "cell_type": "markdown",
   "metadata": {
    "colab_type": "text",
    "id": "e0bkZB3KHJcZ"
   },
   "source": [
    "Write your solution here: "
   ]
  },
  {
   "cell_type": "markdown",
   "metadata": {
    "colab_type": "text",
    "id": "Tu1bihLxHJcd",
    "tags": [
     "hide_cell"
    ]
   },
   "source": [
    "<details>\n",
    "<summary>Click here to see the solution</summary>\n",
    "Solution: 3 (replace 'n' with 'r', insert 'a', insert 't')\n",
    "</details>"
   ]
  },
  {
   "cell_type": "markdown",
   "metadata": {
    "colab_type": "text",
    "id": "mf1-WNiXHJcg"
   },
   "source": [
    "### 1.2\n",
    "How could we break this problem into subproblems? Write down the subproblem in words."
   ]
  },
  {
   "cell_type": "markdown",
   "metadata": {
    "colab_type": "text",
    "id": "r5pVT-bQHJcj"
   },
   "source": [
    "Your solution: "
   ]
  },
  {
   "cell_type": "markdown",
   "metadata": {
    "colab_type": "text",
    "id": "EWD1x85zHJck"
   },
   "source": [
    "<details>\n",
    "<summary>Click here to see the solution</summary>\n",
    "This problem gets easier when we compare shorter words. For example, let's say we have a string s1 with m characters and a string s2 with n characters. If we remove the last characters from s1 and s2, then our subproblem becomes: \"what is the edit distance between the first m - 1 characters of s1 and the first n - 1 characters of s2?\" We could also just remove the last character from one of the starting strings, which would lead to a slightly different subproblem.\n",
    "</details>"
   ]
  },
  {
   "cell_type": "markdown",
   "metadata": {
    "colab_type": "text",
    "id": "0ocg8zweHJcp"
   },
   "source": [
    "### 1.3\n",
    "\n",
    "What are the \"easy\" subproblems or base cases? What are their solutions?"
   ]
  },
  {
   "cell_type": "markdown",
   "metadata": {
    "colab_type": "text",
    "id": "KqO2DbFiHJcr"
   },
   "source": [
    "Your solution: "
   ]
  },
  {
   "cell_type": "markdown",
   "metadata": {
    "colab_type": "text",
    "id": "9wUbbRtLHJcs"
   },
   "source": [
    "<details>\n",
    "<summary>Click here to see the solution</summary>\n",
    "The easiest case is when either of the words is an empty string.\n",
    "\n",
    "If the first string is empty (m is 0), we have to insert all the letters from the second string, so the edit distance is the length of the second string.\n",
    "\n",
    "If the second string is empty (n is 0), we have to delete all the letters from the first string, so the edit distance is the length of the first string.\n",
    "\n",
    "`if m == 0: return n`\n",
    "\n",
    "`if n == 0: return m`\n",
    "\n",
    "\n",
    "</details>"
   ]
  },
  {
   "cell_type": "markdown",
   "metadata": {
    "colab_type": "text",
    "id": "4WJthu8FHJcu"
   },
   "source": [
    "### 1.4\n",
    "How can we get from one subproblem to another subproblem? What are the cases?\n",
    "\n",
    "More specifically, if we want to know the `edit_distance(s1[:m], s2[:n])`, how can we calculate that in terms of `s1[:m-1], s2[:n-1]), s1[:m]` and `s2[:n]`?\n"
   ]
  },
  {
   "cell_type": "markdown",
   "metadata": {
    "colab_type": "text",
    "id": "pM9g3gwXHJcw"
   },
   "source": [
    "Write your solution here:"
   ]
  },
  {
   "cell_type": "markdown",
   "metadata": {
    "colab_type": "text",
    "id": "sd9-LnLRHJcy"
   },
   "source": [
    "<details>\n",
    "    <summary><i>Click here to see the solution</i></summary>\n",
    "There are two cases:\n",
    "\n",
    "<i>First Case: </i> The last characters in each word are the same. In this case, we don't need to increase the edit distance. We can just move on to the two previous characters.\n",
    "\n",
    "`return edit_distance(s1[:m-1], s2[:n-1])`\n",
    "\n",
    "<i>Second Case:</i> The last characters in each word are different. We have three options here: we can either delete, replace, or insert a character to make them the same. The edit distance of <code>s1[:m]</code>, <code>s2[:n]</code> will be the minimum of the edit distance resulting from deleting, inserting, or changing a character to make them the same. Don't forget to add one because we made an edit!\n",
    "\n",
    "\n",
    "`return 1 + min(edit_distance(s1[:m], s2[:n-1]),        # Insert \n",
    "                   edit_distance(s1[:m-1], s2[:n]),    # Remove \n",
    "                   edit_distance(s1[:m-1], s2[:n-1])   # Replace \n",
    "                   )`\n",
    "\n",
    "</details>"
   ]
  },
  {
   "cell_type": "markdown",
   "metadata": {
    "colab_type": "text",
    "id": "NCT_mDxwHJc0"
   },
   "source": [
    "### 1.5\n",
    "Put these pieces together to write a function `edit_distance` that uses recursion to solve the problem!\n",
    "\n"
   ]
  },
  {
   "cell_type": "code",
   "execution_count": null,
   "metadata": {
    "colab": {},
    "colab_type": "code",
    "id": "N-2vb7UmHJc1"
   },
   "outputs": [],
   "source": [
    "def edit_distance(s1, s2, m, n):\n",
    "    pass"
   ]
  },
  {
   "cell_type": "markdown",
   "metadata": {
    "colab_type": "text",
    "id": "EDhyXGcWHJc7"
   },
   "source": [
    "### Check your answer\n",
    "\n",
    "Test your recursive solution on the following 2 test cases before you proceed to the next exercises (just execute the following cells)."
   ]
  },
  {
   "cell_type": "code",
   "execution_count": null,
   "metadata": {
    "colab": {},
    "colab_type": "code",
    "id": "PekKFu9CHJdD"
   },
   "outputs": [],
   "source": [
    "def test_small(fn):\n",
    "    def test_1():\n",
    "        s1 = \"ztlqqmtppm\"\n",
    "        s2 = \"zfewmvuc\"\n",
    "\n",
    "        m, n = len(s1), len(s2)\n",
    "\n",
    "        check(fn(s1, s2, m, n), 8)\n",
    "    \n",
    "    def test_2():\n",
    "        s1 = \"eodh\"\n",
    "        s2 = \"hmowpx\"\n",
    "        \n",
    "        m, n = len(s1), len(s2)\n",
    "\n",
    "        check(fn(s1, s2, m, n), 5)\n",
    "    \n",
    "    test_1()\n",
    "    test_2()\n",
    "\n",
    "test_small(edit_distance)"
   ]
  },
  {
   "cell_type": "markdown",
   "metadata": {
    "colab_type": "text",
    "id": "2wAe8JtcHJdJ"
   },
   "source": [
    "<details>\n",
    "<summary>Click here to see the solution</summary>\n",
    "\n",
    "def edit_distance(s1, s2, m , n):\n",
    "\n",
    "    if m == 0:\n",
    "         return n\n",
    "         \n",
    "    if n == 0:\n",
    "        return m\n",
    "        \n",
    "    if s1[m-1] == s2[n-1]:\n",
    "        return edit_distance(s1, s2, m-1, n-1) \n",
    "        \n",
    "    return 1 + min(edit_distance(s1, s2, m, n-1),    # Insert\n",
    "                   edit_distance(s1, s2, m-1, n),    # Remove \n",
    "                   edit_distance(s1, s2, m-1, n-1)   # Replace\n",
    "                   )\n",
    "</details>"
   ]
  },
  {
   "cell_type": "markdown",
   "metadata": {
    "colab_type": "text",
    "id": "eakErWJ2HJdM"
   },
   "source": [
    "### 1.6\n",
    "We can use memoization to improve our solution (remember that memoization means keeping track of the subproblems we've already solved so we don't do unnecessary work).\n",
    "\n",
    "What would our data structure look like to store the subproblems?"
   ]
  },
  {
   "cell_type": "markdown",
   "metadata": {
    "colab_type": "text",
    "id": "PWBxiJ5KHJdN"
   },
   "source": [
    "Write your solution here:"
   ]
  },
  {
   "cell_type": "markdown",
   "metadata": {
    "colab_type": "text",
    "id": "OW7mmVt3HJdO"
   },
   "source": [
    "<details>\n",
    "<summary><i>Click here to see the solution</i></summary><br/>\n",
    "We notice that every subproblem is completely defined by the state (m, n). That means we can use a 2-D array to represent every state (0, 0), (0, 1) . . . (m, n). Also note that we need to initialize our memo table with an invalid value to denote that we have not visited this state yet. Here we put 'None'.\n",
    "    \n",
    "```\n",
    "m = len(s1)\n",
    "n = len(s2)\n",
    "memo = [[None for i in range(n+1)] for j in range(m+1)]\n",
    "```\n",
    "</details>"
   ]
  },
  {
   "cell_type": "markdown",
   "metadata": {
    "colab_type": "text",
    "id": "Kb2m5DA-HJdY"
   },
   "source": [
    "### 1.7\n",
    "\n",
    "Write a new function called `edit_distance_memo` that uses memoization to save the answers into a memo table."
   ]
  },
  {
   "cell_type": "code",
   "execution_count": null,
   "metadata": {
    "colab": {},
    "colab_type": "code",
    "id": "gNTSg7j1HJdZ"
   },
   "outputs": [],
   "source": [
    "def edit_distance_memo(s1, s2, m, n):\n",
    "    pass"
   ]
  },
  {
   "cell_type": "markdown",
   "metadata": {
    "colab_type": "text",
    "id": "vhyh9jNTHJdd"
   },
   "source": [
    "### Check your answer\n",
    "\n",
    "Now test your solution on the following 4 test cases (just execute the following cell). Also make sure that you have already tested your recursive solution."
   ]
  },
  {
   "cell_type": "code",
   "execution_count": null,
   "metadata": {
    "colab": {},
    "colab_type": "code",
    "id": "5qRnbhjKHJdf",
    "scrolled": true
   },
   "outputs": [],
   "source": [
    "def test_large(fn):\n",
    "    def test_1():\n",
    "        s1 = \"unfhabkcodvvnhywehylksbxqrpcogowrwhfxppmekrxlmwzvpigguswoigazmwnvkblbcnpjcejetsnafbapjvaykdetadfxtapsgspvacmrzyhhtmquvrltnibowfvjsypixrkfryoaxzrmiyhmzygusdngbcobbvdsvucutgrelrgruipbljesxjudogkqmnqwwqotapqdijmslphcaylzbelbyvbuhghneq\"\n",
    "        s2 = \"qyquxbguzngqxvqifkizoyelwpnfbcbpcjjnhwxxcuaxjxigibwfwspuouzukzdrobbpcdszhihsizewhtsgtkjncyezdxlfagpgukultsotfxheydwgmjgjrjalxaojblsddnnoavseroauchhryhzjgtgpczlozhikkiaycsteolhecwfutoyrhkrmerdrhmyeecukly\"\n",
    "        \n",
    "        m, n = len(s1), len(s2)\n",
    "\n",
    "        check(fn(s1, s2, m, n), 199)\n",
    "    \n",
    "    def test_2():\n",
    "        s1 = \"mzvwhhkckeszquyxfmkvjffintsnhszyvsnjbyoudmlinismsestwagqemblfmrmlakcerxphlyiqxoqmxuqmvrkjapqynworjgjndchvnyawpygkbwqiknhbjflboaauzmkexigmfhkpsckamsgqvtbmpwmnaovdvxbmfowlmarkxwnhldtrwvtbdifi\"\n",
    "        s2 = \"ovkruoltszfadqmitjvkjakrxljydrbcoxuyiglwoebvhhhqzkopgtyjjrajlpbtkvqcnokttiaurqpueczbzqdtifwwltyxrllihsdskzdqcivcefbpobrinmmmlpodkzimqxrmhzfvdopohtgxeqdtqaugxagqwvsjmvsktjxtlcsixxomkcrrcetjbymuviwcyvssngdkudczeurhbecpjaozavlftpdubowvhfdwqvkijmbvroko\"\n",
    "        \n",
    "        m, n = len(s1), len(s2)\n",
    "\n",
    "        check(fn(s1, s2, m, n), 209)\n",
    "    \n",
    "    test_1()\n",
    "    test_2()\n",
    "\n",
    "test_small(edit_distance_memo)\n",
    "test_large(edit_distance_memo)"
   ]
  },
  {
   "cell_type": "markdown",
   "metadata": {
    "colab_type": "text",
    "id": "87Jyu8YOHJdl"
   },
   "source": [
    "<details>\n",
    "<summary><i>Click here to see the solution</i></summary><br/>\n",
    "    <code>\n",
    "def edit_distance_memo(str1, str2, m, n):\n",
    "    memo = [[None for i in range(n+1)] for j in range(m+1)]\n",
    "    return dp(str1, str2, m, n, memo)\n",
    "\n",
    "def dp(str1, str2, m, n, memo):\n",
    "    if m == 0:\n",
    "         return n\n",
    "    if n == 0:\n",
    "        return m\n",
    "    if memo[m][n] != None:\n",
    "        return memo[m][n]\n",
    "    if str1[m-1] == str2[n-1]:\n",
    "        memo[m][n] = dp(str1, str2, m-1, n-1, memo)\n",
    "        return memo[m][n] \n",
    "    memo[m][n] = 1 + min(dp(str1, str2, m, n-1, memo),   # Insert\n",
    "                       dp(str1, str2, m-1, n, memo),     # Remove \n",
    "                       dp(str1, str2, m-1, n-1, memo)    # Replace\n",
    "                     )\n",
    "    return memo[m][n]\n",
    "\n",
    "</code>\n",
    "</details>"
   ]
  },
  {
   "cell_type": "code",
   "execution_count": null,
   "metadata": {},
   "outputs": [],
   "source": []
  },
  {
   "cell_type": "markdown",
   "metadata": {
    "colab_type": "text",
    "id": "6d1lTYoALyJF"
   },
   "source": [
    "## Remember the Steps\n",
    "\n",
    "As you're solving other dynamic programming problems, remember the steps you followed here to break down the problem.\n",
    "\n",
    "1. How could we break this problem into subproblems? Write down the subproblem in words. \n",
    "\n",
    "2. What are the base cases? What are their solutions?\n",
    "\n",
    "3. How can we get from one subproblem to another subproblem? What are the cases?\n",
    "\n",
    "4. Can you incorporate memoization?"
   ]
  }
 ],
 "metadata": {
  "colab": {
   "collapsed_sections": [],
   "name": "week4_day2_warm_up_reviewed.ipynb",
   "provenance": [],
   "version": "0.3.2"
  },
  "kernelspec": {
   "display_name": "Python 3",
   "language": "python",
   "name": "python3"
  },
  "language_info": {
   "codemirror_mode": {
    "name": "ipython",
    "version": 3
   },
   "file_extension": ".py",
   "mimetype": "text/x-python",
   "name": "python",
   "nbconvert_exporter": "python",
   "pygments_lexer": "ipython3",
   "version": "3.7.3"
  }
 },
 "nbformat": 4,
 "nbformat_minor": 1
}
