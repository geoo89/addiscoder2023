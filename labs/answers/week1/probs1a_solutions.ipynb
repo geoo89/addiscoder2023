{
 "cells": [
  {
   "cell_type": "markdown",
   "metadata": {
    "colab_type": "text",
    "id": "fh3TuPnozjDw"
   },
   "source": [
    "# Lecture 1, Part 1 Exercises "
   ]
  },
  {
   "cell_type": "markdown",
   "metadata": {
    "colab_type": "text",
    "id": "PjxbdiutzjEX"
   },
   "source": [
    "## Question 1"
   ]
  },
  {
   "cell_type": "markdown",
   "metadata": {
    "colab_type": "text",
    "id": "1gtUFha4zjEf"
   },
   "source": [
    "_Use code to determine the answers to the question 1.1-1.4_"
   ]
  },
  {
   "cell_type": "markdown",
   "metadata": {
    "colab_type": "text",
    "id": "yoQwowxQzjEj"
   },
   "source": [
    "### 1.1 \n",
    "What is the type of ```1```? Use the function ```type``` to determine. "
   ]
  },
  {
   "cell_type": "code",
   "execution_count": null,
   "metadata": {
    "colab": {},
    "colab_type": "code",
    "id": "LiOZYcDhzjEo",
    "outputId": "b542c575-ba25-4c66-9fca-28db3effd70b"
   },
   "outputs": [],
   "source": [
    "type(1)"
   ]
  },
  {
   "cell_type": "markdown",
   "metadata": {
    "colab_type": "text",
    "id": "vakteEunzjFA"
   },
   "source": [
    "### 1.2 \n",
    "What about the type of ```1.0```? "
   ]
  },
  {
   "cell_type": "code",
   "execution_count": null,
   "metadata": {
    "colab": {},
    "colab_type": "code",
    "id": "vuDlygrUzjFE",
    "outputId": "d9daadbf-4f3b-4e91-a47a-16c29c0d61dd"
   },
   "outputs": [],
   "source": [
    "type(1.0)"
   ]
  },
  {
   "cell_type": "markdown",
   "metadata": {
    "colab_type": "text",
    "id": "lyIE0CqIzjFj"
   },
   "source": [
    "### 1.3 \n",
    "What is the resulting type of adding an ```1``` and ```1```? "
   ]
  },
  {
   "cell_type": "code",
   "execution_count": null,
   "metadata": {
    "colab": {},
    "colab_type": "code",
    "id": "HFeATOwszjFp",
    "outputId": "3d9d09a4-8a2c-4306-a8f8-4b54e0ace347"
   },
   "outputs": [],
   "source": [
    "type(1+1)"
   ]
  },
  {
   "cell_type": "markdown",
   "metadata": {
    "colab_type": "text",
    "id": "WJZhT0MlzjF7"
   },
   "source": [
    "### 1.4\n",
    "What is different about the resulting type of adding ```1``` and ```1.0```? "
   ]
  },
  {
   "cell_type": "code",
   "execution_count": null,
   "metadata": {
    "colab": {},
    "colab_type": "code",
    "id": "W-niaeRAzjF_",
    "outputId": "e404bccd-7dd4-49b0-e141-73afb37c036d"
   },
   "outputs": [],
   "source": [
    "type(1+1.0)"
   ]
  },
  {
   "cell_type": "markdown",
   "metadata": {
    "colab_type": "text",
    "id": "IQnNwnLjzjGS"
   },
   "source": [
    "### 1.5\n",
    "So, what can you say about the resulting type of adding an ```int``` and a ```float```?"
   ]
  },
  {
   "cell_type": "code",
   "execution_count": null,
   "metadata": {
    "colab": {},
    "colab_type": "code",
    "id": "cSawBtG4zjGX",
    "outputId": "0d24309d-8393-45ac-d8a6-af7af68aa8bb"
   },
   "outputs": [],
   "source": [
    "type(1+1.0)"
   ]
  },
  {
   "cell_type": "markdown",
   "metadata": {
    "colab_type": "text",
    "id": "TXYEtJy4zjG3"
   },
   "source": [
    "## Question 2"
   ]
  },
  {
   "cell_type": "markdown",
   "metadata": {
    "colab_type": "text",
    "id": "vPOkYk9azjG8"
   },
   "source": [
    "_Use code to determine the answers to the question 2.1-2.4_"
   ]
  },
  {
   "cell_type": "markdown",
   "metadata": {
    "colab_type": "text",
    "id": "nlUsy1FBzjHC"
   },
   "source": [
    "### 2.1\n",
    "What is the type of `\"Jelani\"`?"
   ]
  },
  {
   "cell_type": "code",
   "execution_count": null,
   "metadata": {
    "colab": {},
    "colab_type": "code",
    "id": "TEErEdStzjHJ",
    "outputId": "9803dd49-4a76-4f94-dd67-95b359162ff9"
   },
   "outputs": [],
   "source": [
    "type(\"Jelani\")"
   ]
  },
  {
   "cell_type": "markdown",
   "metadata": {
    "colab_type": "text",
    "id": "-ESGxIE3zjHX"
   },
   "source": [
    "### 2.2\n",
    "What is the type of ```'Computer'```?"
   ]
  },
  {
   "cell_type": "code",
   "execution_count": null,
   "metadata": {
    "colab": {},
    "colab_type": "code",
    "id": "fYD4eYF-zjHb",
    "outputId": "65da7baf-c806-47da-c36d-769af5e44d2d"
   },
   "outputs": [],
   "source": [
    "type(\"computer\")"
   ]
  },
  {
   "cell_type": "markdown",
   "metadata": {
    "colab_type": "text",
    "id": "OS5JS87OzjHs"
   },
   "source": [
    "### 2.3\n",
    "What happens when you add ```\"Jelani\"``` and ```'Computer'```? "
   ]
  },
  {
   "cell_type": "code",
   "execution_count": null,
   "metadata": {
    "colab": {
     "base_uri": "https://localhost:8080/",
     "height": 34
    },
    "colab_type": "code",
    "executionInfo": {
     "elapsed": 1004,
     "status": "ok",
     "timestamp": 1562626853946,
     "user": {
      "displayName": "Stephen Koo",
      "photoUrl": "https://lh4.googleusercontent.com/-puW04LijCY0/AAAAAAAAAAI/AAAAAAABMD8/p1HymCYlPUI/s64/photo.jpg",
      "userId": "00528687567139275578"
     },
     "user_tz": 240
    },
    "id": "mAAG2R0KzjHx",
    "outputId": "87e563c6-c6d8-4d2a-869d-65bbbb55fe41"
   },
   "outputs": [],
   "source": [
    "# It creates a joined string.\n",
    "\"Jelani\" + 'Computer'"
   ]
  },
  {
   "cell_type": "markdown",
   "metadata": {
    "colab_type": "text",
    "id": "gUL26CuVzjH9"
   },
   "source": [
    "### 2.4\n",
    "What is the resulting type of adding ```\"Jelani\"``` and ```'Computer'```?"
   ]
  },
  {
   "cell_type": "code",
   "execution_count": null,
   "metadata": {
    "colab": {},
    "colab_type": "code",
    "id": "kcuj-u56zjH_",
    "outputId": "ab152770-ae9d-492c-c647-9786e24ef8aa"
   },
   "outputs": [],
   "source": [
    "type(\"Jelani\"+\"computer\")"
   ]
  },
  {
   "cell_type": "markdown",
   "metadata": {
    "colab_type": "text",
    "id": "JtYpK1tMzjIR"
   },
   "source": [
    "### 2.5\n",
    "Is there a difference between single quotes and double quotes?"
   ]
  },
  {
   "cell_type": "code",
   "execution_count": null,
   "metadata": {
    "colab": {},
    "colab_type": "code",
    "id": "lRcOVAT4zjIV",
    "outputId": "0f646ec6-b8f9-43ff-967c-8930744fd7b9"
   },
   "outputs": [],
   "source": [
    "# There is no difference.\n",
    "'abc' == \"abc\""
   ]
  },
  {
   "cell_type": "markdown",
   "metadata": {
    "colab_type": "text",
    "id": "M6DCViJHzjIh"
   },
   "source": [
    "### 2.6\n",
    "What happens when you add two strings (with the `+` operator)? "
   ]
  },
  {
   "cell_type": "code",
   "execution_count": null,
   "metadata": {
    "colab": {},
    "colab_type": "code",
    "id": "9LiLT2uYzjIq",
    "outputId": "45a1403d-5917-4ba3-d5c3-35fcbbc5934c"
   },
   "outputs": [],
   "source": [
    "# It will concatenate the first str to the second one.\n",
    "'abc' + 'def'"
   ]
  },
  {
   "cell_type": "markdown",
   "metadata": {
    "colab_type": "text",
    "id": "vxfbKcPMzjJJ"
   },
   "source": [
    "## Question 3"
   ]
  },
  {
   "cell_type": "markdown",
   "metadata": {
    "colab_type": "text",
    "id": "wMxcoy5IzjJM"
   },
   "source": [
    "_Use code to determine the answers to the question 3.1_"
   ]
  },
  {
   "cell_type": "markdown",
   "metadata": {
    "colab_type": "text",
    "id": "gy0CCdRXzjJP"
   },
   "source": [
    "### 3.1\n",
    "What is the resulting type of adding ```3``` and ```'3'```? "
   ]
  },
  {
   "cell_type": "code",
   "execution_count": null,
   "metadata": {
    "colab": {
     "base_uri": "https://localhost:8080/",
     "height": 167
    },
    "colab_type": "code",
    "executionInfo": {
     "elapsed": 890,
     "status": "error",
     "timestamp": 1562626928246,
     "user": {
      "displayName": "Stephen Koo",
      "photoUrl": "https://lh4.googleusercontent.com/-puW04LijCY0/AAAAAAAAAAI/AAAAAAABMD8/p1HymCYlPUI/s64/photo.jpg",
      "userId": "00528687567139275578"
     },
     "user_tz": 240
    },
    "id": "AAyZPOhKzjJS",
    "outputId": "5cb12ceb-5aa5-4795-ddd7-d9aa3bdfb0f2"
   },
   "outputs": [],
   "source": [
    "# Throws an error.\n",
    "3 + '3'"
   ]
  },
  {
   "cell_type": "markdown",
   "metadata": {
    "colab_type": "text",
    "id": "-x0AHBIpzjJo"
   },
   "source": [
    "### 3.2\n",
    "Can you explain why the error occured?"
   ]
  },
  {
   "cell_type": "code",
   "execution_count": null,
   "metadata": {
    "colab": {},
    "colab_type": "code",
    "id": "hk5oNevqzjJw"
   },
   "outputs": [],
   "source": [
    "# 'str' and 'int' types are incompatible."
   ]
  },
  {
   "cell_type": "markdown",
   "metadata": {
    "colab_type": "text",
    "id": "_TH-WBDJzjJ7"
   },
   "source": [
    "## Question 4"
   ]
  },
  {
   "cell_type": "markdown",
   "metadata": {
    "colab_type": "text",
    "id": "WI4YykV_zjJ_"
   },
   "source": [
    "_Use code to determine the answers to the question 4.1-4.4_"
   ]
  },
  {
   "cell_type": "markdown",
   "metadata": {
    "colab_type": "text",
    "id": "1GliqIUrzjKD"
   },
   "source": [
    "### 4.1\n",
    "Make a list that contains ```4``` and ```5.0```. "
   ]
  },
  {
   "cell_type": "code",
   "execution_count": null,
   "metadata": {
    "colab": {},
    "colab_type": "code",
    "id": "j1r1vPxozjKF",
    "outputId": "48834488-01ed-4e52-b85b-1ea22e4e4302"
   },
   "outputs": [],
   "source": [
    "l = [4, 5.0]\n",
    "l"
   ]
  },
  {
   "cell_type": "markdown",
   "metadata": {
    "colab_type": "text",
    "id": "lMmCvSyCzjKz"
   },
   "source": [
    "### 4.2\n",
    "Can you make a list that has ```1```, ```2``` and ```\"Jelani\"```in it? "
   ]
  },
  {
   "cell_type": "code",
   "execution_count": null,
   "metadata": {
    "colab": {
     "base_uri": "https://localhost:8080/",
     "height": 34
    },
    "colab_type": "code",
    "executionInfo": {
     "elapsed": 903,
     "status": "ok",
     "timestamp": 1562627015838,
     "user": {
      "displayName": "Stephen Koo",
      "photoUrl": "https://lh4.googleusercontent.com/-puW04LijCY0/AAAAAAAAAAI/AAAAAAABMD8/p1HymCYlPUI/s64/photo.jpg",
      "userId": "00528687567139275578"
     },
     "user_tz": 240
    },
    "id": "ZXa6FVA2zjK1",
    "outputId": "6166cc60-e030-4b5d-ed9c-35cf0341b6a7"
   },
   "outputs": [],
   "source": [
    "li = [1, 2, 'Jelani']\n",
    "li"
   ]
  },
  {
   "cell_type": "markdown",
   "metadata": {
    "colab_type": "text",
    "id": "szQxWidrzjK8"
   },
   "source": [
    "### 4.3\n",
    "Can you make a list that contains ```1```, ```2```, ```\"Jelani\"```, and ```[4, 5.0]```? "
   ]
  },
  {
   "cell_type": "code",
   "execution_count": null,
   "metadata": {
    "colab": {
     "base_uri": "https://localhost:8080/",
     "height": 34
    },
    "colab_type": "code",
    "executionInfo": {
     "elapsed": 893,
     "status": "ok",
     "timestamp": 1562627075858,
     "user": {
      "displayName": "Stephen Koo",
      "photoUrl": "https://lh4.googleusercontent.com/-puW04LijCY0/AAAAAAAAAAI/AAAAAAABMD8/p1HymCYlPUI/s64/photo.jpg",
      "userId": "00528687567139275578"
     },
     "user_tz": 240
    },
    "id": "DyCTAOLOzjK_",
    "outputId": "db30e6b6-ef9d-4812-8c4e-1916096695c2"
   },
   "outputs": [],
   "source": [
    "[1, 2, 'Jelani', [4, 5.0]]"
   ]
  },
  {
   "cell_type": "markdown",
   "metadata": {
    "colab_type": "text",
    "id": "tOSK_yCdzjLS"
   },
   "source": [
    "### 4.4\n",
    "Think about another type we haven't used in Question 4. Can you put it in the list of ```[1, 2.0]```?  "
   ]
  },
  {
   "cell_type": "code",
   "execution_count": null,
   "metadata": {
    "colab": {
     "base_uri": "https://localhost:8080/",
     "height": 34
    },
    "colab_type": "code",
    "executionInfo": {
     "elapsed": 2308,
     "status": "ok",
     "timestamp": 1562627209600,
     "user": {
      "displayName": "Stephen Koo",
      "photoUrl": "https://lh4.googleusercontent.com/-puW04LijCY0/AAAAAAAAAAI/AAAAAAABMD8/p1HymCYlPUI/s64/photo.jpg",
      "userId": "00528687567139275578"
     },
     "user_tz": 240
    },
    "id": "UK_vaeenzjLU",
    "outputId": "0ed541b4-1b76-41c5-900f-f733d567c3fa"
   },
   "outputs": [],
   "source": [
    "# Can be either NoneType or bool.\n",
    "[1, 2.0, True]"
   ]
  },
  {
   "cell_type": "markdown",
   "metadata": {
    "colab_type": "text",
    "id": "ovUALfxpzjLe"
   },
   "source": [
    "### 4.5\n",
    "What types can lists contain?"
   ]
  },
  {
   "cell_type": "code",
   "execution_count": null,
   "metadata": {
    "colab": {},
    "colab_type": "code",
    "id": "Gntbzgc-zjLi"
   },
   "outputs": [],
   "source": [
    "# Any type"
   ]
  },
  {
   "cell_type": "markdown",
   "metadata": {
    "colab_type": "text",
    "id": "hRn9fN2czjLs"
   },
   "source": [
    "### 4.6\n",
    "Add lists ```[5, 6, 'pom']``` and ```[True, 12, 5.0]``` together. What happens? "
   ]
  },
  {
   "cell_type": "code",
   "execution_count": null,
   "metadata": {
    "colab": {
     "base_uri": "https://localhost:8080/",
     "height": 34
    },
    "colab_type": "code",
    "executionInfo": {
     "elapsed": 668,
     "status": "ok",
     "timestamp": 1562627273674,
     "user": {
      "displayName": "Stephen Koo",
      "photoUrl": "https://lh4.googleusercontent.com/-puW04LijCY0/AAAAAAAAAAI/AAAAAAABMD8/p1HymCYlPUI/s64/photo.jpg",
      "userId": "00528687567139275578"
     },
     "user_tz": 240
    },
    "id": "o2L1OXK1zjLu",
    "outputId": "80e0661a-8ab7-4953-ba06-38cd7fa97dd1"
   },
   "outputs": [],
   "source": [
    "[5, 6, 'pom'] + [True, 12, 5.0]"
   ]
  },
  {
   "cell_type": "markdown",
   "metadata": {
    "colab_type": "text",
    "id": "x1631alMzjL6"
   },
   "source": [
    "## Question 5"
   ]
  },
  {
   "cell_type": "markdown",
   "metadata": {
    "colab_type": "text",
    "id": "o3rx_26bzjL8"
   },
   "source": [
    "_Use code to determine the answers to the question 5.1-5.4_"
   ]
  },
  {
   "cell_type": "markdown",
   "metadata": {
    "colab_type": "text",
    "id": "hfUep0U-zjME"
   },
   "source": [
    "### 5.1\n",
    "Multiply ```5``` and ```4```."
   ]
  },
  {
   "cell_type": "code",
   "execution_count": null,
   "metadata": {
    "colab": {},
    "colab_type": "code",
    "id": "_JdfHcSqzjMH",
    "outputId": "a45e84d5-6e8a-4aa3-d5ee-9dba31097e3d"
   },
   "outputs": [],
   "source": [
    "5 * 4"
   ]
  },
  {
   "cell_type": "markdown",
   "metadata": {
    "colab_type": "text",
    "id": "etox1HqXzjMX"
   },
   "source": [
    "### 5.2\n",
    "Multiply ```'Shiro'``` by ```3```."
   ]
  },
  {
   "cell_type": "code",
   "execution_count": null,
   "metadata": {
    "colab": {
     "base_uri": "https://localhost:8080/",
     "height": 34
    },
    "colab_type": "code",
    "executionInfo": {
     "elapsed": 914,
     "status": "ok",
     "timestamp": 1562627582941,
     "user": {
      "displayName": "Stephen Koo",
      "photoUrl": "https://lh4.googleusercontent.com/-puW04LijCY0/AAAAAAAAAAI/AAAAAAABMD8/p1HymCYlPUI/s64/photo.jpg",
      "userId": "00528687567139275578"
     },
     "user_tz": 240
    },
    "id": "Z9dyob6dzjMa",
    "outputId": "9054de55-da1d-40ef-8b84-71cea79b8c6c"
   },
   "outputs": [],
   "source": [
    "'Shiro' * 3"
   ]
  },
  {
   "cell_type": "markdown",
   "metadata": {
    "colab_type": "text",
    "id": "WnztKM1jzjMn"
   },
   "source": [
    "### 5.3\n",
    "Multiply ```5.0``` and ```4```."
   ]
  },
  {
   "cell_type": "code",
   "execution_count": null,
   "metadata": {
    "colab": {},
    "colab_type": "code",
    "id": "x-JJ9HwozjMq",
    "outputId": "694b660c-5248-45d7-964e-4def2e6040af"
   },
   "outputs": [],
   "source": [
    "5.0 * 4"
   ]
  },
  {
   "cell_type": "markdown",
   "metadata": {
    "colab_type": "text",
    "id": "pGDFXy3nzjM9"
   },
   "source": [
    "### 5.4\n",
    "Multiply ```['Shiro', 5]``` by ```4```."
   ]
  },
  {
   "cell_type": "code",
   "execution_count": null,
   "metadata": {
    "colab": {},
    "colab_type": "code",
    "id": "ivlPzBNvzjNA",
    "outputId": "cdf5e349-cb7a-4bd3-a774-8cbe87af82c5"
   },
   "outputs": [],
   "source": [
    "['Shiro', 5] * 4"
   ]
  },
  {
   "cell_type": "markdown",
   "metadata": {
    "colab_type": "text",
    "id": "U0Z_sTj6zjNP"
   },
   "source": [
    "### 5.5\n",
    "What patterns emerge when you multiply different types with an integer? "
   ]
  },
  {
   "cell_type": "code",
   "execution_count": null,
   "metadata": {
    "colab": {},
    "colab_type": "code",
    "id": "ELTz7h0izjNS",
    "outputId": "3a7bf88b-076a-40af-e1d4-94d32c47a46d"
   },
   "outputs": [],
   "source": [
    "# It repeats the content of the list to the number of times we give.\n",
    "['Shiro', 5] * 4"
   ]
  },
  {
   "cell_type": "markdown",
   "metadata": {
    "colab_type": "text",
    "id": "Tlr__Jm7zjNd"
   },
   "source": [
    "## Question 6\n",
    "\n",
    "_The upper left corner that's colored represents the operator. For example, in figure 1, B represents the result of False and True._"
   ]
  },
  {
   "cell_type": "markdown",
   "metadata": {
    "colab_type": "text",
    "id": "-wcpz-HLzjNh"
   },
   "source": [
    "### Figure 1. \n",
    "![Table for `and`](https://www.addiscoder.com/syllabus/2018/notebooks/AndImg.png)"
   ]
  },
  {
   "cell_type": "markdown",
   "metadata": {
    "colab_type": "text",
    "id": "nOVKVSS7zjNj"
   },
   "source": [
    "### Figure 2. \n",
    "![Table for `or`](https://www.addiscoder.com/syllabus/2018/notebooks/OrImg.png)"
   ]
  },
  {
   "cell_type": "markdown",
   "metadata": {
    "colab_type": "text",
    "id": "gAcxDNNbzjNm"
   },
   "source": [
    "### 6.1\n",
    "What are the boolean values of A through H? Use your intuition. \n",
    "\n",
    "A. True\n",
    "\n",
    "B. False\n",
    "\n",
    "C. False\n",
    "\n",
    "D.False\n",
    "\n",
    "E. True\n",
    "\n",
    "\n",
    "F. True\n",
    "\n",
    "\n",
    "G. True\n",
    "\n",
    "\n",
    "H.False"
   ]
  },
  {
   "cell_type": "markdown",
   "metadata": {
    "colab_type": "text",
    "id": "KAUnQTgbzjN_"
   },
   "source": [
    "### 6.2\n",
    "Use code to check your above answers. "
   ]
  },
  {
   "cell_type": "code",
   "execution_count": null,
   "metadata": {
    "colab": {},
    "colab_type": "code",
    "id": "jmHWPxcgzjOB",
    "outputId": "6470e83f-d6b8-4200-ca9f-e9a9db4a568d"
   },
   "outputs": [],
   "source": [
    "# Explore here\n",
    "print(True and True)\n",
    "print(True and False)\n",
    "print(False and True)\n",
    "print(False and False)\n",
    "\n",
    "print(True or True)\n",
    "print(True or False)\n",
    "print(False or True)\n",
    "print(False or False)\n"
   ]
  },
  {
   "cell_type": "markdown",
   "metadata": {
    "colab_type": "text",
    "id": "mr_pak-dzjOL"
   },
   "source": [
    "### 6.3\n",
    "Are ```3``` and ```'3'``` equivalent? Use code to confirm. "
   ]
  },
  {
   "cell_type": "code",
   "execution_count": null,
   "metadata": {
    "colab": {},
    "colab_type": "code",
    "id": "QSa8QhZUzjON",
    "outputId": "4fd863e9-0231-43a1-af06-d270f8a32b22"
   },
   "outputs": [],
   "source": [
    "3 == '3'"
   ]
  },
  {
   "cell_type": "markdown",
   "metadata": {
    "colab_type": "text",
    "id": "6ZUyfq03zjOV"
   },
   "source": [
    "### 6.4\n",
    "Are ```\"Jelani\"``` and ```\"jelani\"``` equivalent? Use code to confirm. "
   ]
  },
  {
   "cell_type": "code",
   "execution_count": null,
   "metadata": {
    "colab": {},
    "colab_type": "code",
    "id": "T6_jDq2EzjOW",
    "outputId": "76104cf4-eca5-4ba9-8398-46671b2cdbe1"
   },
   "outputs": [],
   "source": [
    "\"Jelani\" == \"jelani\""
   ]
  },
  {
   "cell_type": "markdown",
   "metadata": {
    "colab_type": "text",
    "id": "TFH4RN6YzjOc"
   },
   "source": [
    "### 6.5\n",
    "What is the result of ```(not False) == True```? "
   ]
  },
  {
   "cell_type": "code",
   "execution_count": null,
   "metadata": {
    "colab": {},
    "colab_type": "code",
    "id": "rDRYODJZzjOd",
    "outputId": "ddead12b-cc97-4b0d-f512-01e44ef39d59"
   },
   "outputs": [],
   "source": [
    "(not False) == True"
   ]
  },
  {
   "cell_type": "code",
   "execution_count": null,
   "metadata": {
    "colab": {},
    "colab_type": "code",
    "id": "xfJHuUQ6zjOl",
    "outputId": "4a0532be-f705-4fa9-e898-99b1c6cb8a15"
   },
   "outputs": [],
   "source": [
    "x = not True"
   ]
  },
  {
   "cell_type": "markdown",
   "metadata": {
    "colab_type": "text",
    "id": "8c5-cSN-zjOs"
   },
   "source": [
    "## Question 7"
   ]
  },
  {
   "cell_type": "markdown",
   "metadata": {
    "colab_type": "text",
    "id": "L5UPycg-zjOt"
   },
   "source": [
    "### 7.1\n",
    "Define a variable ```x```, that has a value of ```5```. "
   ]
  },
  {
   "cell_type": "code",
   "execution_count": null,
   "metadata": {
    "colab": {},
    "colab_type": "code",
    "id": "M-7O5a-JzjOv",
    "outputId": "b176aa11-8608-4e9b-a2c8-e12b47d10143"
   },
   "outputs": [],
   "source": [
    "x = 5\n",
    "x"
   ]
  },
  {
   "cell_type": "markdown",
   "metadata": {
    "colab_type": "text",
    "id": "zBVhxkKMzjO2"
   },
   "source": [
    "### 7.2\n",
    "Define a variable ```y```, that has a value of ```x```. "
   ]
  },
  {
   "cell_type": "code",
   "execution_count": null,
   "metadata": {
    "colab": {},
    "colab_type": "code",
    "id": "W5oQ3wyrzjO3",
    "outputId": "5d489943-0cd1-4a1e-f091-36198d342a7d"
   },
   "outputs": [],
   "source": [
    "y = x\n",
    "y"
   ]
  },
  {
   "cell_type": "markdown",
   "metadata": {
    "colab_type": "text",
    "id": "iFMa1mHrzjO9"
   },
   "source": [
    "### 7.3\n",
    "What is the value of ```y```? "
   ]
  },
  {
   "cell_type": "code",
   "execution_count": null,
   "metadata": {
    "colab": {},
    "colab_type": "code",
    "id": "LmNI_bIazjO-",
    "outputId": "ff7a92cd-8dd5-4f39-b1f7-e0a07d860460"
   },
   "outputs": [],
   "source": [
    "y"
   ]
  },
  {
   "cell_type": "markdown",
   "metadata": {
    "colab_type": "text",
    "id": "-1a_vMUnzjPD"
   },
   "source": [
    "### 7.4\n",
    "Change ```x``` to ```4```. What is the value of ```y```? "
   ]
  },
  {
   "cell_type": "code",
   "execution_count": null,
   "metadata": {
    "colab": {},
    "colab_type": "code",
    "id": "zBDjO2KbzjPF",
    "outputId": "ee3050f0-b1ed-485e-cdcd-2faab42fdc07"
   },
   "outputs": [],
   "source": [
    "x=4\n",
    "y"
   ]
  },
  {
   "cell_type": "markdown",
   "metadata": {
    "colab_type": "text",
    "id": "_s3wCQgGzjPO"
   },
   "source": [
    "### 7.5\n",
    "Define a variable ```z```, that has a value of the sum of ```x``` and ```y```"
   ]
  },
  {
   "cell_type": "code",
   "execution_count": null,
   "metadata": {
    "colab": {},
    "colab_type": "code",
    "id": "MHIt7cdWzjPQ",
    "outputId": "df589147-b374-458d-ed38-288b9a5e588c"
   },
   "outputs": [],
   "source": [
    "z=x+y\n",
    "z"
   ]
  },
  {
   "cell_type": "markdown",
   "metadata": {
    "colab_type": "text",
    "id": "pPUKjYEfzjPc"
   },
   "source": [
    "### 7.6\n",
    "Assign ```x``` another value, ```12```. What are the values of ```y``` and ```z```? "
   ]
  },
  {
   "cell_type": "code",
   "execution_count": null,
   "metadata": {
    "colab": {},
    "colab_type": "code",
    "id": "uIJME8kazjPe",
    "outputId": "c3f4de05-6f8b-447d-9e0c-c4bdebf64a72"
   },
   "outputs": [],
   "source": [
    "x=12\n",
    "print(y)\n",
    "print(z)"
   ]
  },
  {
   "cell_type": "markdown",
   "metadata": {
    "colab_type": "text",
    "id": "3zdY03w0zjOj"
   },
   "source": [
    "### 6.6\n",
    "Define a variable ```x``` and assign it the value of ```False```,  **but without using the keyword `False`**. \n",
    "\n",
    "Hint: You can do it using one special operator."
   ]
  },
  {
   "cell_type": "markdown",
   "metadata": {
    "colab_type": "text",
    "id": "OPXbR38HzjPm"
   },
   "source": [
    "## Question 8"
   ]
  },
  {
   "cell_type": "markdown",
   "metadata": {
    "colab_type": "text",
    "id": "JYQFw6qfzjPo"
   },
   "source": [
    "### 8.1\n",
    "Given the following lines of code, what is the value of the variable ```seven```? "
   ]
  },
  {
   "cell_type": "markdown",
   "metadata": {
    "colab_type": "text",
    "id": "9m2pdJ4QzjPq"
   },
   "source": [
    "```python\n",
    "seven = 8\n",
    "```"
   ]
  },
  {
   "cell_type": "code",
   "execution_count": null,
   "metadata": {
    "colab": {
     "base_uri": "https://localhost:8080/",
     "height": 34
    },
    "colab_type": "code",
    "executionInfo": {
     "elapsed": 875,
     "status": "ok",
     "timestamp": 1562628045684,
     "user": {
      "displayName": "Stephen Koo",
      "photoUrl": "https://lh4.googleusercontent.com/-puW04LijCY0/AAAAAAAAAAI/AAAAAAABMD8/p1HymCYlPUI/s64/photo.jpg",
      "userId": "00528687567139275578"
     },
     "user_tz": 240
    },
    "id": "VGKOFVdTzjPs",
    "outputId": "f2bf9e50-0671-43a2-8cf0-e6b11a2474c0"
   },
   "outputs": [],
   "source": [
    "seven = 8\n",
    "seven"
   ]
  },
  {
   "cell_type": "markdown",
   "metadata": {
    "colab_type": "text",
    "id": "AxYGPLMfzjPz"
   },
   "source": [
    "### 8.2\n",
    "Given the following lines of code, are the variables ```shiro``` and ```Shiro``` equivalent? "
   ]
  },
  {
   "cell_type": "code",
   "execution_count": null,
   "metadata": {
    "colab": {
     "base_uri": "https://localhost:8080/",
     "height": 34
    },
    "colab_type": "code",
    "executionInfo": {
     "elapsed": 827,
     "status": "ok",
     "timestamp": 1562628237857,
     "user": {
      "displayName": "Stephen Koo",
      "photoUrl": "https://lh4.googleusercontent.com/-puW04LijCY0/AAAAAAAAAAI/AAAAAAABMD8/p1HymCYlPUI/s64/photo.jpg",
      "userId": "00528687567139275578"
     },
     "user_tz": 240
    },
    "id": "ZwyxT1aEzjP8",
    "outputId": "1441b683-7214-4148-ef0b-7aac9c1eab67"
   },
   "outputs": [],
   "source": [
    "shiro = 10\n",
    "Shiro = 12\n",
    "shiro == Shiro"
   ]
  },
  {
   "cell_type": "markdown",
   "metadata": {
    "colab_type": "text",
    "id": "5WSDbPAwzjQJ"
   },
   "source": [
    "## Question 9"
   ]
  },
  {
   "cell_type": "markdown",
   "metadata": {
    "colab_type": "text",
    "id": "Jw5IpadlzjQM"
   },
   "source": [
    "### 9.1\n",
    "Define a variable ```x``` that has the value ```10``` times ```20```.\n"
   ]
  },
  {
   "cell_type": "code",
   "execution_count": null,
   "metadata": {
    "colab": {
     "base_uri": "https://localhost:8080/",
     "height": 34
    },
    "colab_type": "code",
    "executionInfo": {
     "elapsed": 900,
     "status": "ok",
     "timestamp": 1562628362979,
     "user": {
      "displayName": "Stephen Koo",
      "photoUrl": "https://lh4.googleusercontent.com/-puW04LijCY0/AAAAAAAAAAI/AAAAAAABMD8/p1HymCYlPUI/s64/photo.jpg",
      "userId": "00528687567139275578"
     },
     "user_tz": 240
    },
    "id": "P9eu6VbqzjQQ",
    "outputId": "76fca2c1-cc07-434d-e9a6-7fe1e7cc366a"
   },
   "outputs": [],
   "source": [
    "x = 10 * 20\n",
    "x"
   ]
  },
  {
   "cell_type": "markdown",
   "metadata": {
    "colab_type": "text",
    "id": "R_uf0e4SzjQi"
   },
   "source": [
    "### 9.2\n",
    "Now increment `x` by 3."
   ]
  },
  {
   "cell_type": "code",
   "execution_count": null,
   "metadata": {
    "colab": {
     "base_uri": "https://localhost:8080/",
     "height": 34
    },
    "colab_type": "code",
    "executionInfo": {
     "elapsed": 917,
     "status": "ok",
     "timestamp": 1562628365464,
     "user": {
      "displayName": "Stephen Koo",
      "photoUrl": "https://lh4.googleusercontent.com/-puW04LijCY0/AAAAAAAAAAI/AAAAAAABMD8/p1HymCYlPUI/s64/photo.jpg",
      "userId": "00528687567139275578"
     },
     "user_tz": 240
    },
    "id": "lirsaov9zjQk",
    "outputId": "2ac1fc3a-3c5f-48a5-9627-04f7894180f0"
   },
   "outputs": [],
   "source": [
    "x += 3\n",
    "x"
   ]
  },
  {
   "cell_type": "markdown",
   "metadata": {
    "colab_type": "text",
    "id": "vJsa2wTG58fF"
   },
   "source": [
    "Can you increment `x` by 3 in a different way (using a different operator)?"
   ]
  },
  {
   "cell_type": "code",
   "execution_count": null,
   "metadata": {
    "colab": {
     "base_uri": "https://localhost:8080/",
     "height": 34
    },
    "colab_type": "code",
    "executionInfo": {
     "elapsed": 672,
     "status": "ok",
     "timestamp": 1562628367196,
     "user": {
      "displayName": "Stephen Koo",
      "photoUrl": "https://lh4.googleusercontent.com/-puW04LijCY0/AAAAAAAAAAI/AAAAAAABMD8/p1HymCYlPUI/s64/photo.jpg",
      "userId": "00528687567139275578"
     },
     "user_tz": 240
    },
    "id": "q-bb4lFK6Cg9",
    "outputId": "d6469be5-cc7a-41e0-dff9-b4c0a9461773"
   },
   "outputs": [],
   "source": [
    "x = x + 3\n",
    "x"
   ]
  },
  {
   "cell_type": "markdown",
   "metadata": {
    "colab_type": "text",
    "id": "MaYucDnfzjRA"
   },
   "source": [
    "### 9.3\n",
    "Find the remainder of ```78``` divided by ```14``` using one operator from lecture. For example - \n",
    "\n",
    "$16 = 5 * 3 + 1$ (1 is the remainder). "
   ]
  },
  {
   "cell_type": "code",
   "execution_count": null,
   "metadata": {
    "colab": {},
    "colab_type": "code",
    "id": "ASBdD-jYzjRK",
    "outputId": "2368d505-2780-4548-bda2-1b224d6e21a6"
   },
   "outputs": [],
   "source": [
    "78 % 14"
   ]
  },
  {
   "cell_type": "markdown",
   "metadata": {
    "colab_type": "text",
    "id": "4qmkRp6PzjRS"
   },
   "source": [
    "### 9.4\n",
    "Given ```x```, make ```x``` 10 times smaller using one operation. Return a value that has the type ```int```. "
   ]
  },
  {
   "cell_type": "code",
   "execution_count": null,
   "metadata": {
    "colab": {},
    "colab_type": "code",
    "id": "3LvyQaJxzjRT",
    "outputId": "d40b323b-39da-44f3-9dec-fdda778631ff"
   },
   "outputs": [],
   "source": [
    "x = 200\n",
    "x // 10"
   ]
  },
  {
   "cell_type": "markdown",
   "metadata": {
    "colab_type": "text",
    "id": "r0sJwWCrzjRf"
   },
   "source": [
    "## Question 10"
   ]
  },
  {
   "cell_type": "markdown",
   "metadata": {
    "colab_type": "text",
    "id": "xaRSaQ7kzjRh"
   },
   "source": [
    "### 10.1\n",
    "What type(s) can you multiply lists with, without creating an error?"
   ]
  },
  {
   "cell_type": "code",
   "execution_count": null,
   "metadata": {
    "colab": {
     "base_uri": "https://localhost:8080/",
     "height": 34
    },
    "colab_type": "code",
    "executionInfo": {
     "elapsed": 992,
     "status": "ok",
     "timestamp": 1562628413293,
     "user": {
      "displayName": "Stephen Koo",
      "photoUrl": "https://lh4.googleusercontent.com/-puW04LijCY0/AAAAAAAAAAI/AAAAAAABMD8/p1HymCYlPUI/s64/photo.jpg",
      "userId": "00528687567139275578"
     },
     "user_tz": 240
    },
    "id": "_ESAUDUhzjRi",
    "outputId": "2e0fc18c-6a7c-48ad-f4c4-bf402eb37d0c"
   },
   "outputs": [],
   "source": [
    "# int type only\n",
    "[1,1.3,'kidist'] * 3"
   ]
  },
  {
   "cell_type": "markdown",
   "metadata": {
    "colab_type": "text",
    "id": "LzhgT6iWzjRx"
   },
   "source": [
    "## Question 11"
   ]
  },
  {
   "cell_type": "markdown",
   "metadata": {
    "colab_type": "text",
    "id": "g1zA998VzjRz"
   },
   "source": [
    "### 11.1\n",
    "Write code to produce\n",
    "\n",
    "a.  ``` 'ShiroShiroShiro' ```\n",
    "\n",
    "b. ```'Shiro3'```\n",
    "\n",
    "You should only type  ```'Shiro'``` once, and ```3``` once for each case."
   ]
  },
  {
   "cell_type": "code",
   "execution_count": null,
   "metadata": {
    "colab": {
     "base_uri": "https://localhost:8080/",
     "height": 52
    },
    "colab_type": "code",
    "executionInfo": {
     "elapsed": 878,
     "status": "ok",
     "timestamp": 1562628484763,
     "user": {
      "displayName": "Stephen Koo",
      "photoUrl": "https://lh4.googleusercontent.com/-puW04LijCY0/AAAAAAAAAAI/AAAAAAABMD8/p1HymCYlPUI/s64/photo.jpg",
      "userId": "00528687567139275578"
     },
     "user_tz": 240
    },
    "id": "ByPI6HfMzjR0",
    "outputId": "e5dfee71-8dea-4b9b-df9a-f3b7b421c2f9"
   },
   "outputs": [],
   "source": [
    "print(\"Shiro\" * 3)\n",
    "print(\"Shiro\" + '3')"
   ]
  },
  {
   "cell_type": "markdown",
   "metadata": {
    "colab_type": "text",
    "id": "jIP4lzwDzjR8"
   },
   "source": [
    "## Question 12"
   ]
  },
  {
   "cell_type": "markdown",
   "metadata": {
    "colab_type": "text",
    "id": "EM0WvnIjzjR9"
   },
   "source": [
    "### 12.1\n",
    "Look at the following code\n",
    "```python\n",
    "x = 99\n",
    "x /= 10\n",
    "x *= 50\n",
    "y = x\n",
    "y += 5\n",
    "x -= y\n",
    "y %= x\n",
    "\n",
    "```\n",
    "What is ```x``` and ```y```?  Try to do it in your head (or on paper) first before trying it with code."
   ]
  },
  {
   "cell_type": "code",
   "execution_count": null,
   "metadata": {
    "colab": {},
    "colab_type": "code",
    "id": "SbDb49yRzjSC",
    "outputId": "664a6752-419c-4437-af63-b790cf0f2836"
   },
   "outputs": [],
   "source": [
    "x = 99\n",
    "x /= 10\n",
    "x *= 50\n",
    "y = x\n",
    "y += 5\n",
    "x -= y\n",
    "y %= x\n",
    "print(x)\n",
    "print(y)"
   ]
  }
 ],
 "metadata": {
  "colab": {
   "collapsed_sections": [
    "PjxbdiutzjEX",
    "TXYEtJy4zjG3",
    "gy0CCdRXzjJP",
    "-x0AHBIpzjJo",
    "_TH-WBDJzjJ7",
    "x1631alMzjL6",
    "hfUep0U-zjME",
    "etox1HqXzjMX",
    "WnztKM1jzjMn",
    "pGDFXy3nzjM9",
    "Tlr__Jm7zjNd",
    "-wcpz-HLzjNh",
    "nOVKVSS7zjNj",
    "gAcxDNNbzjNm",
    "KAUnQTgbzjN_",
    "8c5-cSN-zjOs",
    "iFMa1mHrzjO9",
    "-1a_vMUnzjPD",
    "_s3wCQgGzjPO",
    "pPUKjYEfzjPc",
    "OPXbR38HzjPm",
    "5WSDbPAwzjQJ",
    "g1zA998VzjRz"
   ],
   "name": "prob1ASolutions.ipynb",
   "provenance": [],
   "version": "0.3.2"
  },
  "kernelspec": {
   "display_name": "Python 3 (ipykernel)",
   "language": "python",
   "name": "python3"
  },
  "language_info": {
   "codemirror_mode": {
    "name": "ipython",
    "version": 3
   },
   "file_extension": ".py",
   "mimetype": "text/x-python",
   "name": "python",
   "nbconvert_exporter": "python",
   "pygments_lexer": "ipython3",
   "version": "3.9.7"
  }
 },
 "nbformat": 4,
 "nbformat_minor": 1
}
