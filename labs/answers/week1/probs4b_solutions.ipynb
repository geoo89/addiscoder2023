{
 "cells": [
  {
   "cell_type": "markdown",
   "metadata": {
    "colab_type": "text",
    "id": "gQVcTiChFEon"
   },
   "source": [
    "# Lecture 4, Part 2 Exercises\n",
    "\n",
    "* TA Owner: Bre\n",
    "* Reviewer: Stephen Koo\n",
    "\n",
    "Exercises on variable scope."
   ]
  },
  {
   "cell_type": "markdown",
   "metadata": {
    "colab_type": "text",
    "id": "xdqRwuuXFEor"
   },
   "source": [
    "\n",
    "####    1) There are two kinds of variables in a Python program depending on where they are defined and how long they exist. What are the kinds of variables in the Python program?\n",
    "       \n",
    "       "
   ]
  },
  {
   "cell_type": "markdown",
   "metadata": {
    "colab_type": "text",
    "id": "-Ma4IlnrFEou"
   },
   "source": [
    "1. What are variables defined outside of a function called?"
   ]
  },
  {
   "cell_type": "code",
   "execution_count": null,
   "metadata": {},
   "outputs": [],
   "source": [
    "# Global variables"
   ]
  },
  {
   "cell_type": "markdown",
   "metadata": {},
   "source": [
    "2. What are variables that only exist during the execution of a function called?"
   ]
  },
  {
   "cell_type": "code",
   "execution_count": null,
   "metadata": {},
   "outputs": [],
   "source": [
    "# Local variables"
   ]
  },
  {
   "cell_type": "markdown",
   "metadata": {
    "colab_type": "text",
    "id": "j_W_rYFVFEo4"
   },
   "source": [
    "\n",
    "#### 2) What is the outcome of running the following? Try to think of  before running the cell.\n",
    "   "
   ]
  },
  {
   "cell_type": "code",
   "execution_count": 2,
   "metadata": {
    "colab": {},
    "colab_type": "code",
    "id": "taRLCuFeFEo5"
   },
   "outputs": [
    {
     "data": {
      "text/plain": [
       "(802, 246)"
      ]
     },
     "execution_count": 2,
     "metadata": {},
     "output_type": "execute_result"
    }
   ],
   "source": [
    "# 2A\n",
    "# Predict what will be printed, then run this cell to see the actual result.\n",
    "\n",
    "def reverse(a, b):\n",
    "    a, b = b, a\n",
    "    return a, b\n",
    "\n",
    "x, y = 246, 802\n",
    "\n",
    "reverse(x, y)"
   ]
  },
  {
   "cell_type": "markdown",
   "metadata": {
    "colab_type": "raw",
    "id": "MmyC9_OlFEo8"
   },
   "source": [
    "Now consider this similar function. Try to think of what will be printed before running the cell."
   ]
  },
  {
   "cell_type": "code",
   "execution_count": 3,
   "metadata": {
    "colab": {},
    "colab_type": "code",
    "id": "8vdtmfalFEo9"
   },
   "outputs": [
    {
     "data": {
      "text/plain": [
       "(802, 802)"
      ]
     },
     "execution_count": 3,
     "metadata": {},
     "output_type": "execute_result"
    }
   ],
   "source": [
    "# 2B\n",
    "# Predict what will be printed, then run this cell to see the actual result.\n",
    "\n",
    "def incorrect_reverse(a, b):\n",
    "    a = b\n",
    "    b = a\n",
    "    return a,b\n",
    "\n",
    "x, y = 246, 802\n",
    "\n",
    "incorrect_reverse(x, y)"
   ]
  },
  {
   "cell_type": "markdown",
   "metadata": {
    "colab_type": "text",
    "id": "6sGrzrdQFEpA"
   },
   "source": [
    "Please explain the difference between the two."
   ]
  },
  {
   "cell_type": "code",
   "execution_count": 5,
   "metadata": {},
   "outputs": [],
   "source": [
    "# In the first example, the assignment (ie `a, b = b, a`) happens in one go. This causes the values to be swapped.\n",
    "# In the second example, `a = b` happens first, which sets `a` to the value of `b` (ie 802).\n",
    "# When `b = a` is called, `b` is set back to the value of `a`, which by that time is 802."
   ]
  },
  {
   "cell_type": "markdown",
   "metadata": {
    "colab_type": "text",
    "id": "tOAgWy9pFEpB"
   },
   "source": [
    "\n",
    "####  3) What is the outcome of running the code below? Try to think of the answer before running the code. \n",
    "       "
   ]
  },
  {
   "cell_type": "code",
   "execution_count": 6,
   "metadata": {
    "colab": {},
    "colab_type": "code",
    "id": "DWngfka2FEpC"
   },
   "outputs": [
    {
     "name": "stdout",
     "output_type": "stream",
     "text": [
      "10 20\n"
     ]
    }
   ],
   "source": [
    "# Think of the answer, then run this cell to see the actual result.\n",
    "def change_value(x, y):\n",
    "    a = 100 \n",
    "    b = 200 \n",
    "    return x, y\n",
    "\n",
    "a = 10 \n",
    "b = 20 \n",
    "x, y = change_value(a, b)\n",
    "print(x, y)"
   ]
  },
  {
   "cell_type": "markdown",
   "metadata": {},
   "source": [
    "####  3) What about this code? Try to think of the answer before running the code. "
   ]
  },
  {
   "cell_type": "code",
   "execution_count": 7,
   "metadata": {},
   "outputs": [
    {
     "name": "stdout",
     "output_type": "stream",
     "text": [
      "10 20\n"
     ]
    }
   ],
   "source": [
    "# Think of the answer, then run this cell to see the actual result.\n",
    "def change_value(x, y):\n",
    "    x = 100 \n",
    "    y = 200 \n",
    "\n",
    "a = 10 \n",
    "b = 20 \n",
    "change_value(a, b)\n",
    "print(a, b)"
   ]
  },
  {
   "cell_type": "markdown",
   "metadata": {
    "colab_type": "text",
    "id": "Im21nNtIFEpF"
   },
   "source": [
    "#### 4) One of the three print statements from the code below will not run because the code has an error.\n",
    "\n",
    "```python\n",
    "a = 2 \n",
    "def my_func(a):\n",
    "    z = a * 5\n",
    "    return a, z\n",
    "print(my_func(3))\n",
    "print(a)\n",
    "print(z)\n",
    "```\n",
    "\n",
    "Figure out which one it is and explain the error without running the code."
   ]
  },
  {
   "cell_type": "markdown",
   "metadata": {
    "colab_type": "text",
    "id": "vbh-cjrlFEpJ"
   },
   "source": [
    "**Answer**: `print(z)` will not run because `z` is a local variable *inside* of `my_func(a)`. It does not exist outside `my_func(a)`."
   ]
  },
  {
   "cell_type": "markdown",
   "metadata": {
    "colab_type": "text",
    "id": "6NAObumQFEpK"
   },
   "source": [
    "#### 5) The `global` keyword is used to access and change the values of global variables inside functions. Taking note of that try to predict the outcome of the following code."
   ]
  },
  {
   "cell_type": "code",
   "execution_count": 8,
   "metadata": {
    "colab": {},
    "colab_type": "code",
    "id": "FKG1alHyFEpL",
    "outputId": "fa89d9b1-3026-44fb-9138-4934fb42569c"
   },
   "outputs": [
    {
     "name": "stdout",
     "output_type": "stream",
     "text": [
      "0\n",
      "3.14\n"
     ]
    }
   ],
   "source": [
    "var = 0\n",
    "def MyFunc1(): \n",
    "    var = 10\n",
    "def MyFunc2():\n",
    "    global var \n",
    "    var = 3.14\n",
    "    \n",
    "MyFunc1()\n",
    "print(var) \n",
    "MyFunc2() \n",
    "print(var)"
   ]
  },
  {
   "cell_type": "markdown",
   "metadata": {
    "colab_type": "text",
    "id": "-RS5Ik96FEpQ"
   },
   "source": [
    "## Challenge Problems\n",
    "\n",
    "### Question 1\n",
    "\n",
    "Now let's work on some fun problems.  Write a code after reading the instruction carefully. The hints will help ease the question.\n",
    "\n",
    "The code below is incomplete. You should complete it so that it performs the tasks mentioned below. \n",
    "\n",
    "Implement given functions: deposit(), withdrawal(), and bank() so that your program works like an ATM.\n",
    "\n",
    "Your program should ask user What do you want to do? deposit(d) or withdrawal(w) or balance check(c)? first and then:\n",
    "\n",
    "If user input is empty string, '', then quit this function using return.\n",
    "If user input is 'w', then ask the amount of money to be withdrawn and withdraw it.\n",
    "If user input is 'd', then ask the amount of money to be deposited and deposit it.\n",
    "If user input is 'c', then check the current balance.\n",
    "\n",
    "Hints:\n",
    "\n",
    "1) We have created a global variable \"balance\" that will have the value of the money you have in the bank. You need to access this variable everytime you need to deposit, withdraw, or check your balance.\n",
    "\n",
    "2) Normally global variables can be accessed but not changed from inside functions. so, Use global keyword to access and change global variables from inside function.\n",
    "\n",
    "3) There can not be a negative balance in the bank."
   ]
  },
  {
   "cell_type": "code",
   "execution_count": 9,
   "metadata": {
    "colab": {},
    "colab_type": "code",
    "id": "7RvnN4T8FEpR"
   },
   "outputs": [
    {
     "name": "stdout",
     "output_type": "stream",
     "text": [
      "Deposit(d) or withdrawal(w) or balance check(c)? c\n",
      "your current balance is 0birr\n",
      "Please type d, w, c, or stop, then press enter.\n",
      "Deposit(d) or withdrawal(w) or balance check(c)? stop\n",
      "Deposit(d) or withdrawal(w) or balance check(c)? stop\n"
     ]
    }
   ],
   "source": [
    "balance = 0\n",
    "\n",
    "def deposit(amount) :\n",
    "    # YOUR CODE HERE\n",
    "\n",
    "    # Write code here to add the `amount` to the `balance`. \n",
    "    \n",
    "    print (\"You have deposited\" + str(balance) + \"birr\")\n",
    "    pass\n",
    "\n",
    "\n",
    "\n",
    "def withdraw(amount) :\n",
    "    # YOUR CODE HERE\n",
    "    \n",
    "    # Write code here to withdraw the `amount` from the `balance`.\n",
    "    # If the amount is larger than the balance, make sure to print a message\n",
    "    # telling the customer that the withdrawal is improper.\n",
    "\n",
    "    # As an example for how to write print statements,\n",
    "    # see the print line written above in the deposit function.\n",
    "    pass\n",
    "\n",
    "\n",
    "def bank() :\n",
    "    while True:\n",
    "        process = input(\"Deposit(d) or withdrawal(w) or balance check(c)? \")\n",
    "        if process == \"d\":     \n",
    "            amount = float(input(\"How much do you want to deposit?\"))\n",
    "            deposit(amount)\n",
    "       \n",
    "        if process == \"c\":\n",
    "            print('your current balance is ' + str(balance) + 'birr')\n",
    "        \n",
    "        if process ==\"w\":\n",
    "            amount = float(input(\"How much do you want to withdraw?\"))\n",
    "            withdraw(amount)\n",
    "        if process == \"stop\":\n",
    "            break\n",
    "        else:\n",
    "            print(\"Please type d, w, c, or stop, then press enter.\")\n",
    "            bank()\n",
    "\n",
    "\n",
    "bank()           "
   ]
  },
  {
   "cell_type": "code",
   "execution_count": 10,
   "metadata": {
    "colab": {},
    "colab_type": "code",
    "id": "cErlzlFyFEpT",
    "outputId": "6a05ada7-cf7e-4ff4-cc04-cd8817d14b34"
   },
   "outputs": [
    {
     "name": "stdout",
     "output_type": "stream",
     "text": [
      "Deposit(d) or withdrawal(w) or balance check(c)? stop\n"
     ]
    }
   ],
   "source": [
    "######### Solution to question 5. The code is not perfect, it is intended to simple enough to be understood by the students.\n",
    "\n",
    "balance = 0\n",
    "\n",
    "def deposit(money) :\n",
    "    global balance\n",
    "    balance = balance + money\n",
    "    print (\"you have deposited\" + str(balance) + \"birr\")\n",
    "    \n",
    "def withdrawal(money):\n",
    "    global balance\n",
    "    if balance - money >=  0:\n",
    "        balance -= money\n",
    "        print(\"you've withdrawn\" + str(money) + \"birr\")\n",
    "    elif balance - money < 0:\n",
    "        print(\"You are tyring to withdraw \" + str(money) + \"birr\")\n",
    "        print(\"but you only have \" + str(balance) + \"birr\")\n",
    "        \n",
    "def bank():\n",
    "    while True:\n",
    "        process = input(\"Deposit(d) or withdrawal(w) or balance check(c)? \")\n",
    "        if process == \"d\":\n",
    "            \n",
    "            amount = float(input(\"How much do you want to deposit?\"))\n",
    "            deposit(amount)\n",
    "       \n",
    "        if process == \"c\":\n",
    "            print('your current balance is ' + str(balance) + 'birr')\n",
    "        \n",
    "        if process ==\"w\":\n",
    "        \n",
    "            amount = float(input(\"How much do you want to withdraw?\"))\n",
    "            withdrawal(amount)\n",
    "        if process == \"stop\":\n",
    "            break\n",
    "        else:\n",
    "            print(\"Please type d or w or c, then press enter.\")\n",
    "            bank()\n",
    "        \n",
    "bank()"
   ]
  },
  {
   "cell_type": "markdown",
   "metadata": {},
   "source": [
    "### Question 2\n",
    "\n",
    "Write a Python function that accepts a string and calculate the number of upper case letters and lower case letters.\n",
    "Sample String : 'The quick Brow Fox'\n",
    "\n",
    "Expected Output : \n",
    "\n",
    "No. of Upper case characters : 3\n",
    "\n",
    "No. of Lower case Characters : 12"
   ]
  },
  {
   "cell_type": "code",
   "execution_count": 14,
   "metadata": {},
   "outputs": [
    {
     "name": "stdout",
     "output_type": "stream",
     "text": [
      "No. of Upper Case characters: 3\n",
      "No. of Lower Case characters: 12\n"
     ]
    }
   ],
   "source": [
    "def upper_lower(s):\n",
    "    upper = 0\n",
    "    lower = 0\n",
    "    for i in s:\n",
    "        if ord('a') <= ord(i) <= ord('z'):\n",
    "            lower += 1\n",
    "        elif ord('A') <= ord(i) <= ord('Z'):\n",
    "            upper += 1\n",
    "    print(\"No. of Upper Case characters: \" + str(upper))\n",
    "    print(\"No. of Lower Case characters: \" + str(lower))\n",
    "\n",
    "upper_lower(\"The quick Brow Fox\")"
   ]
  },
  {
   "cell_type": "markdown",
   "metadata": {},
   "source": [
    "### Question 3"
   ]
  },
  {
   "cell_type": "markdown",
   "metadata": {},
   "source": [
    "Write a Python function that takes a list and returns a new list with unique elements of the first list. \n",
    "\n",
    "Sample List : `[1, 2 ,3, 3, 3, 3, 4, 5]`\n",
    "\n",
    "Unique List : `[1, 2, 3, 4, 5]`"
   ]
  },
  {
   "cell_type": "code",
   "execution_count": 19,
   "metadata": {},
   "outputs": [
    {
     "data": {
      "text/plain": [
       "[1, 2, 3, 4, 5]"
      ]
     },
     "execution_count": 19,
     "metadata": {},
     "output_type": "execute_result"
    }
   ],
   "source": [
    "lst = [1, 2, 3, 3, 3, 3, 4, 5]\n",
    "\n",
    "def unique_lst(l):\n",
    "    if l == []: return l\n",
    "    l.sort()\n",
    "    ret = [l[0]]\n",
    "    for i in l:\n",
    "        if i != ret[-1]:\n",
    "            ret += [i]\n",
    "    return ret\n",
    "\n",
    "unique_lst(lst)"
   ]
  },
  {
   "cell_type": "markdown",
   "metadata": {},
   "source": [
    "### Question 4\n",
    "Write a Python function to check whether a number is perfect or not. \n",
    "\n",
    "Note: In number theory, a perfect number is a positive integer that is equal to the sum of its proper positive \n",
    "divisors, that is, the sum of its positive divisors excluding the number itself. Equivalently, a perfect number is a number that is half the sum of all of its positive divisors (including itself).\n",
    "\n",
    "Example : The first perfect number is 6, because 1, 2, and 3 are its proper positive divisors, and `1 + 2 + 3 = 6`. Equivalently, the number 6 is equal to half the sum of all its positive divisors: `( 1 + 2 + 3 + 6 ) / 2 = 6`. \n",
    "\n",
    "The next perfect number is `28 = 1 + 2 + 4 + 7 + 14`. This is followed by the perfect numbers 496 and 8128."
   ]
  },
  {
   "cell_type": "code",
   "execution_count": 17,
   "metadata": {},
   "outputs": [
    {
     "data": {
      "text/plain": [
       "True"
      ]
     },
     "execution_count": 17,
     "metadata": {},
     "output_type": "execute_result"
    }
   ],
   "source": [
    "def is_perfect(n):\n",
    "    divisors = []\n",
    "    i = 2\n",
    "    sum = 1\n",
    "    while i * i <= n:\n",
    "        if n % i == 0:\n",
    "            sum += (i + n / i)\n",
    "        i += 1\n",
    "    return sum == n\n",
    "\n",
    "is_perfect(6)"
   ]
  },
  {
   "cell_type": "markdown",
   "metadata": {},
   "source": [
    "### Question 5\n",
    "Write a Python function to check whether a string is a pangram or not. \n",
    "\n",
    "Note : Pangrams are words or sentences containing every letter of the alphabet at least once.\n",
    "For example : \"The quick brown fox jumps over the lazy dog\" "
   ]
  },
  {
   "cell_type": "code",
   "execution_count": 1,
   "metadata": {
    "tags": []
   },
   "outputs": [
    {
     "data": {
      "text/plain": [
       "True"
      ]
     },
     "execution_count": 1,
     "metadata": {},
     "output_type": "execute_result"
    }
   ],
   "source": [
    "def is_pangram(s):\n",
    "    s = s.lower()\n",
    "    visited = [0 for i in range(26)]\n",
    "    for i in s:\n",
    "        if ord('a') <= ord(i) <= ord('z'):\n",
    "            visited[ord(i) - ord('a')] = 1\n",
    "    for i in visited:\n",
    "        if i == 0: return False\n",
    "    return True\n",
    "\n",
    "is_pangram('The quick brown fox jumps over the lazy dog')"
   ]
  },
  {
   "cell_type": "markdown",
   "metadata": {},
   "source": [
    "# Question 6\n",
    "\n",
    "Given an integer `x`, return `true` if `x` is a palindrome, and `false` otherwise.\n",
    "\n",
    "Note:A palindrome is a word, phrase, number, or sequence of characters that reads the same forwards and backwards"
   ]
  },
  {
   "cell_type": "code",
   "execution_count": 2,
   "metadata": {
    "tags": []
   },
   "outputs": [
    {
     "data": {
      "text/plain": [
       "False"
      ]
     },
     "execution_count": 2,
     "metadata": {},
     "output_type": "execute_result"
    }
   ],
   "source": [
    "def isPalindrome(x):\n",
    "    x = str(x)\n",
    "    rev=x[::-1]\n",
    "    if rev == x:\n",
    "        return True\n",
    "    return False\n",
    "\n",
    "# Test your code here.\n",
    "isPalindrome(121)  # Should be True\n",
    "isPalindrome(126621)  # Should be True\n",
    "isPalindrome(42214)  # Should be False"
   ]
  },
  {
   "cell_type": "code",
   "execution_count": null,
   "metadata": {},
   "outputs": [],
   "source": []
  }
 ],
 "metadata": {
  "colab": {
   "collapsed_sections": [],
   "name": "probs4b_new.ipynb",
   "provenance": [],
   "version": "0.3.2"
  },
  "kernelspec": {
   "display_name": "Python 3 (ipykernel)",
   "language": "python",
   "name": "python3"
  },
  "language_info": {
   "codemirror_mode": {
    "name": "ipython",
    "version": 3
   },
   "file_extension": ".py",
   "mimetype": "text/x-python",
   "name": "python",
   "nbconvert_exporter": "python",
   "pygments_lexer": "ipython3",
   "version": "3.10.6"
  }
 },
 "nbformat": 4,
 "nbformat_minor": 4
}
