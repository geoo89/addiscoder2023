{
 "cells": [
  {
   "cell_type": "markdown",
   "metadata": {
    "colab_type": "text",
    "id": "hYtLkLkDwkfK"
   },
   "source": [
    "# Lecture 2, Part 1 Exercises "
   ]
  },
  {
   "cell_type": "markdown",
   "metadata": {
    "colab_type": "text",
    "id": "uT4wXLaLwkfX"
   },
   "source": [
    "## ***Core Questions***\n",
    "\n"
   ]
  },
  {
   "cell_type": "markdown",
   "metadata": {
    "colab_type": "text",
    "id": "unhWBgNfwkfX"
   },
   "source": [
    "## Question 1"
   ]
  },
  {
   "cell_type": "markdown",
   "metadata": {
    "colab_type": "text",
    "id": "q0rVsp7bwkfY"
   },
   "source": [
    "### 1.1"
   ]
  },
  {
   "cell_type": "markdown",
   "metadata": {
    "colab_type": "text",
    "id": "nrNM9ca5wkfZ"
   },
   "source": [
    "How can we print the string \n",
    "```\n",
    "He said, \"Hello there!\"\n",
    "```\n",
    "?"
   ]
  },
  {
   "cell_type": "code",
   "execution_count": 0,
   "metadata": {
    "colab": {},
    "colab_type": "code",
    "id": "niRQxSVWwkfa",
    "outputId": "949abfff-b887-4944-f634-4b27d1d61714"
   },
   "outputs": [
    {
     "name": "stdout",
     "output_type": "stream",
     "text": [
      "He said, \"Hello there\"\n"
     ]
    }
   ],
   "source": [
    "# Write your answer here!\n",
    "print(\"He said, \\\"Hello there\\\"\")"
   ]
  },
  {
   "cell_type": "markdown",
   "metadata": {
    "colab_type": "text",
    "id": "YmiyGCz8wkff"
   },
   "source": [
    "### 1.2"
   ]
  },
  {
   "cell_type": "markdown",
   "metadata": {
    "colab_type": "text",
    "id": "jcnPxKE9wkfg"
   },
   "source": [
    "This print statement will fail with an error. Please fix the code so that it prints \"my age is 24\"."
   ]
  },
  {
   "cell_type": "code",
   "execution_count": 0,
   "metadata": {
    "colab": {},
    "colab_type": "code",
    "id": "G90bsdDdwkfj"
   },
   "outputs": [],
   "source": [
    "print('my age is ' + 24)"
   ]
  },
  {
   "cell_type": "code",
   "execution_count": 0,
   "metadata": {
    "colab": {},
    "colab_type": "code",
    "id": "BHhNcHJ7wkfm",
    "outputId": "7a99129e-40b2-41f9-cfe2-2a3a22aed809"
   },
   "outputs": [
    {
     "name": "stdout",
     "output_type": "stream",
     "text": [
      "my age is 24\n"
     ]
    }
   ],
   "source": [
    "# Write your modified answer here!\n",
    "print('my age is ' + str(24))"
   ]
  },
  {
   "cell_type": "markdown",
   "metadata": {
    "colab_type": "text",
    "id": "x04DNHFwwkfq"
   },
   "source": [
    "### 1.3"
   ]
  },
  {
   "cell_type": "markdown",
   "metadata": {
    "colab_type": "text",
    "id": "YBcICnTSwkfr"
   },
   "source": [
    "For what **value** of `x` will the following code segment print `\"yes\"`? Modify these lines to make this happen."
   ]
  },
  {
   "cell_type": "code",
   "execution_count": 0,
   "metadata": {
    "colab": {},
    "colab_type": "code",
    "id": "2WshS9jswkfs",
    "outputId": "7dfade92-52ab-449c-d302-954d1d454873"
   },
   "outputs": [
    {
     "name": "stdout",
     "output_type": "stream",
     "text": [
      "yes\n"
     ]
    }
   ],
   "source": [
    "def printX(x):\n",
    "    if x == 5:\n",
    "        print(\"yes\")\n",
    "\n",
    "printX(1)  # Modify this line to make this happen! e.g. what happens if you try printX(2), printX(3), etc..\n",
    "#solution\n",
    "printX(5) #answer"
   ]
  },
  {
   "cell_type": "markdown",
   "metadata": {
    "colab_type": "text",
    "id": "UnzhtJFUwkfw"
   },
   "source": [
    "## Question 2"
   ]
  },
  {
   "cell_type": "markdown",
   "metadata": {},
   "source": [
    "### 2.1\n",
    "Now it's your turn. Write a function that takes in an input x and returns x without modifying it.\n",
    "\n"
   ]
  },
  {
   "cell_type": "code",
   "execution_count": 1,
   "metadata": {},
   "outputs": [
    {
     "data": {
      "text/plain": [
       "5"
      ]
     },
     "execution_count": 1,
     "metadata": {},
     "output_type": "execute_result"
    }
   ],
   "source": [
    "def return_x(x):\n",
    "    return x\n",
    "\n",
    "return_x(5)    "
   ]
  },
  {
   "cell_type": "markdown",
   "metadata": {},
   "source": [
    "### 2.2\n",
    "Great job! Just one more function is needed. Write a function that takes in a number x and returns three times x minus one."
   ]
  },
  {
   "cell_type": "code",
   "execution_count": 2,
   "metadata": {},
   "outputs": [
    {
     "data": {
      "text/plain": [
       "8"
      ]
     },
     "execution_count": 2,
     "metadata": {},
     "output_type": "execute_result"
    }
   ],
   "source": [
    "def times_three_minus_one(x):\n",
    "    return (3*x)-1\n",
    "times_three_minus_one(3)"
   ]
  },
  {
   "cell_type": "markdown",
   "metadata": {
    "colab_type": "text",
    "id": "77SRLd8Pwkfx"
   },
   "source": [
    "### 2.3"
   ]
  },
  {
   "cell_type": "markdown",
   "metadata": {
    "colab_type": "text",
    "id": "JOEkbYPZwkfy"
   },
   "source": [
    "For what **value** of `x` would this function print `\"five\"`?  `\"six\"`?  `\"other\"`? "
   ]
  },
  {
   "cell_type": "code",
   "execution_count": 0,
   "metadata": {
    "colab": {},
    "colab_type": "code",
    "id": "Z2cil7F5wkfz",
    "outputId": "9468645e-50ec-4879-8a0f-da02ee1ec659"
   },
   "outputs": [
    {
     "name": "stdout",
     "output_type": "stream",
     "text": [
      "other\n",
      "five\n",
      "six\n",
      "other\n"
     ]
    }
   ],
   "source": [
    "def printX(x):\n",
    "    if x == 5:\n",
    "        print(\"five\")\n",
    "    elif x == 6:\n",
    "        print(\"six\")\n",
    "    else:\n",
    "        print(\"other\")\n",
    "\n",
    "printX(1) # Modify this line\n",
    "#solutions\n",
    "printX(5)# answer \"five\"\n",
    "printX(6)# answer \"six\"\n",
    "printX(34)# answer \"other\" Note: Are there many ways to get `\"other\"` or only one way?"
   ]
  },
  {
   "cell_type": "markdown",
   "metadata": {
    "colab_type": "text",
    "id": "f3NJpio3wkf2"
   },
   "source": [
    "## Question 3"
   ]
  },
  {
   "cell_type": "markdown",
   "metadata": {
    "colab_type": "text",
    "id": "7asdwNXmwkf3"
   },
   "source": [
    "What do you expect the following calls to *print*?"
   ]
  },
  {
   "cell_type": "markdown",
   "metadata": {
    "colab_type": "text",
    "id": "-L0hx1cRwkf4"
   },
   "source": [
    "### 3.1"
   ]
  },
  {
   "cell_type": "markdown",
   "metadata": {
    "colab_type": "text",
    "collapsed": true,
    "id": "yfToNzVrwkf5"
   },
   "source": [
    "```python\n",
    "def foo():\n",
    "    if -10 == 10:\n",
    "        print('Hello world!')\n",
    "    else:\n",
    "        print('Goodbye world!')\n",
    "foo()\n",
    "```"
   ]
  },
  {
   "cell_type": "markdown",
   "metadata": {
    "colab_type": "text",
    "id": "UdFnVodGwkf6"
   },
   "source": [
    "## Answer:\n",
    "it will print Goodbye world! \n"
   ]
  },
  {
   "cell_type": "markdown",
   "metadata": {
    "colab_type": "text",
    "id": "psehxPAQwkf7"
   },
   "source": [
    "How can you **verify** your solution using the **code** above?"
   ]
  },
  {
   "cell_type": "code",
   "execution_count": 1,
   "metadata": {
    "colab": {},
    "colab_type": "code",
    "id": "_A3S1IpBwkf8",
    "outputId": "3929e947-6732-4e6f-9c60-0ac09ae2851f"
   },
   "outputs": [
    {
     "name": "stdout",
     "output_type": "stream",
     "text": [
      "Goodbye world!\n"
     ]
    }
   ],
   "source": [
    "# Write code here to verify! \n",
    "def foo():\n",
    "    if -10 == 10:\n",
    "        print('Hello world!')\n",
    "    else:\n",
    "        print('Goodbye world!')\n",
    "foo()"
   ]
  },
  {
   "cell_type": "markdown",
   "metadata": {
    "colab_type": "text",
    "id": "6pajjRWMwkgA"
   },
   "source": [
    "### 3.2"
   ]
  },
  {
   "cell_type": "markdown",
   "metadata": {
    "colab_type": "text",
    "collapsed": true,
    "id": "XTxwAMuDwkgB"
   },
   "source": [
    "```python\n",
    "def bar():\n",
    "    if -10 < 10:\n",
    "        print('Hello world!')\n",
    "    else:\n",
    "        print('Goodbye world!')\n",
    "bar()\n",
    "```"
   ]
  },
  {
   "cell_type": "markdown",
   "metadata": {
    "colab_type": "text",
    "id": "esnJageqwkgC"
   },
   "source": [
    "## Answer:\n",
    "it will print Hello world! \n"
   ]
  },
  {
   "cell_type": "markdown",
   "metadata": {
    "colab_type": "text",
    "id": "WukTHRVVwkgD"
   },
   "source": [
    "How can you **verify** your solution using the **code** above?"
   ]
  },
  {
   "cell_type": "code",
   "execution_count": 0,
   "metadata": {
    "colab": {},
    "colab_type": "code",
    "id": "ooMV_vYowkgH",
    "outputId": "41647bfc-1b77-4d3e-bd3d-91d10956576a"
   },
   "outputs": [
    {
     "name": "stdout",
     "output_type": "stream",
     "text": [
      "Hello world!\n"
     ]
    }
   ],
   "source": [
    "# Write code here to verify! \n",
    "def bar():\n",
    "    if -10 < 10:\n",
    "        print('Hello world!')\n",
    "    else:\n",
    "        print('Goodbye world!')\n",
    "bar()"
   ]
  },
  {
   "cell_type": "markdown",
   "metadata": {
    "colab_type": "text",
    "id": "vuTBoCttwkgL"
   },
   "source": [
    "### 3.3"
   ]
  },
  {
   "cell_type": "markdown",
   "metadata": {
    "colab_type": "text",
    "collapsed": true,
    "id": "IN7NM1UKwkgN"
   },
   "source": [
    "```python\n",
    "def foobar():\n",
    "    if -10 != 10:\n",
    "        print('Hello world!')\n",
    "    else:\n",
    "        print('Goodbye world!')\n",
    "foobar()\n",
    "```"
   ]
  },
  {
   "cell_type": "markdown",
   "metadata": {
    "colab_type": "text",
    "id": "lWxQAZ6cwkgP"
   },
   "source": [
    "## Answer:\n",
    "it will print Hello world! \n"
   ]
  },
  {
   "cell_type": "markdown",
   "metadata": {
    "colab_type": "text",
    "id": "MI3hAr3GwkgR"
   },
   "source": [
    "How can you **verify** your solution using the **code** above? "
   ]
  },
  {
   "cell_type": "code",
   "execution_count": 0,
   "metadata": {
    "colab": {},
    "colab_type": "code",
    "id": "Ex2j5TOZwkgT",
    "outputId": "106f7d1f-cd7a-4c4c-9d92-64eb822a13b5"
   },
   "outputs": [
    {
     "name": "stdout",
     "output_type": "stream",
     "text": [
      "Hello world!\n"
     ]
    }
   ],
   "source": [
    "# Write code here to verify! \n",
    "def foobar():\n",
    "    if -10 != 10:\n",
    "        print('Hello world!')\n",
    "    else:\n",
    "        print('Goodbye world!')\n",
    "foobar()"
   ]
  },
  {
   "cell_type": "markdown",
   "metadata": {
    "colab_type": "text",
    "id": "_zpCzeqwwkga"
   },
   "source": [
    "## Question 4"
   ]
  },
  {
   "cell_type": "markdown",
   "metadata": {
    "colab_type": "text",
    "id": "IlAOLwRbwkgb"
   },
   "source": [
    "### 4.1"
   ]
  },
  {
   "cell_type": "markdown",
   "metadata": {
    "colab_type": "text",
    "id": "APN161Ghwkgd"
   },
   "source": [
    "We will present **incorrect functions** that takes an **integer test score between 0 and 100 as an input**, and **prints** the corresponding **letter grade**. You will be asked to fix the errors in the code. \n",
    "\n",
    "(This process of finding and fixing the errors is called debugging.)\n",
    "\n",
    "Here are the cutoffs: \n",
    "\n",
    "    90-100   A\n",
    "\n",
    "    80-89    B\n",
    "\n",
    "    70-79    C\n",
    "    \n",
    "    60-69    D\n",
    "\n",
    "    0-60     F     "
   ]
  },
  {
   "cell_type": "markdown",
   "metadata": {
    "colab_type": "text",
    "id": "2kcx-B5pwkgd"
   },
   "source": [
    "Warmup: Daniel has gotten score 75 on an exam. What **letter grade** (from A to F) does this correspond to?"
   ]
  },
  {
   "cell_type": "markdown",
   "metadata": {
    "colab_type": "text",
    "id": "x2mlgKYVwkge"
   },
   "source": [
    "## Answer:\n",
    "    It corresponds to letter C"
   ]
  },
  {
   "cell_type": "markdown",
   "metadata": {
    "colab_type": "text",
    "id": "u_YEdVDjwkgf"
   },
   "source": [
    "### 4.2"
   ]
  },
  {
   "cell_type": "markdown",
   "metadata": {
    "colab_type": "text",
    "id": "7Y45oUsKwkgf"
   },
   "source": [
    "A student tried to write the code for this. Here is their attempt:"
   ]
  },
  {
   "cell_type": "code",
   "execution_count": 0,
   "metadata": {
    "colab": {},
    "colab_type": "code",
    "id": "9d_VHLOfwkgg"
   },
   "outputs": [],
   "source": [
    "def printGradeIncomplete(x):\n",
    "    if x >= 90:\n",
    "        print(\"A\")\n",
    "    elif x >= 80:\n",
    "        print(\"B\")\n",
    "    elif x >= 70:\n",
    "        print(\"C\")\n",
    "    elif x >= 60:\n",
    "        print(\"D\")"
   ]
  },
  {
   "cell_type": "markdown",
   "metadata": {
    "colab_type": "text",
    "id": "JjpcCy8xwkgi"
   },
   "source": [
    "This code, however, is **incomplete**. Can you see why?\n",
    "What happens if a student gets 55? **Modify** the code above (**add** an `else` statement to the `printGradeIncomplete` function) to take care of this case."
   ]
  },
  {
   "cell_type": "code",
   "execution_count": 0,
   "metadata": {
    "colab": {},
    "colab_type": "code",
    "id": "gID_pDYvwkgk",
    "outputId": "f830f125-91fb-40ce-e89f-895296042892"
   },
   "outputs": [
    {
     "name": "stdout",
     "output_type": "stream",
     "text": [
      "F\n"
     ]
    }
   ],
   "source": [
    "#the modified solution \n",
    "def printGradeIncomplete(x):\n",
    "    if x >= 90:\n",
    "        print(\"A\")\n",
    "    elif x >= 80:\n",
    "        print(\"B\")\n",
    "    elif x >= 70:\n",
    "        print(\"C\")\n",
    "    elif x >= 60:\n",
    "        print(\"D\")\n",
    "    else:\n",
    "        print(\"F\")\n",
    "        \n",
    "printGradeIncomplete(55)"
   ]
  },
  {
   "cell_type": "markdown",
   "metadata": {
    "colab_type": "text",
    "id": "YFXo0NqGwkgn"
   },
   "source": [
    "### 4.3"
   ]
  },
  {
   "cell_type": "markdown",
   "metadata": {
    "colab_type": "text",
    "id": "9mnAit_Kwkgo"
   },
   "source": [
    "Another student tries to code a different method. This however, is also **incorrect**."
   ]
  },
  {
   "cell_type": "code",
   "execution_count": 0,
   "metadata": {
    "colab": {},
    "colab_type": "code",
    "id": "UMS9U0_Rwkgo",
    "outputId": "5fcd9f76-389b-42d4-d5f5-ccb7040db357"
   },
   "outputs": [
    {
     "name": "stdout",
     "output_type": "stream",
     "text": [
      "F\n",
      "D\n",
      "D\n"
     ]
    }
   ],
   "source": [
    "def printGradeIncorrect(x):\n",
    "    if x >= 60:\n",
    "        print(\"D\")\n",
    "    elif x >= 70:\n",
    "        print(\"C\")\n",
    "    elif x >= 80:\n",
    "        print(\"D\")\n",
    "    elif x >= 90:\n",
    "        print(\"A\")\n",
    "    else:\n",
    "        print(\"F\")\n",
    "        \n",
    "printGradeIncorrect(55) # This one is correct \n",
    "printGradeIncorrect(65) # This one is correct\n",
    "printGradeIncorrect(96) # And this one is incorrect "
   ]
  },
  {
   "cell_type": "markdown",
   "metadata": {
    "colab_type": "text",
    "id": "fcth0xPYwkgr"
   },
   "source": [
    "Can you **spot the error** in the code above? For what **input scores** will this print the right letter?"
   ]
  },
  {
   "cell_type": "markdown",
   "metadata": {
    "colab_type": "text",
    "id": "PKhaI1Edwkgs"
   },
   "source": [
    "## Answer:\n",
    "    Because the order of the elif statement is incorrect and some of the grade letter are not in their correct order. "
   ]
  },
  {
   "cell_type": "markdown",
   "metadata": {
    "colab_type": "text",
    "id": "O4MG0Si1wkgs"
   },
   "source": [
    "### 4.4"
   ]
  },
  {
   "cell_type": "markdown",
   "metadata": {
    "colab_type": "text",
    "id": "o7e_kh2Ewkgt"
   },
   "source": [
    "Now the student thinks he's got it. This also **does not work** as expected though."
   ]
  },
  {
   "cell_type": "code",
   "execution_count": 0,
   "metadata": {
    "colab": {},
    "colab_type": "code",
    "id": "ZQxXuSzHwkgu"
   },
   "outputs": [],
   "source": [
    "def printGradeIncorrect2(x):\n",
    "    if x >= 90:\n",
    "        print(\"A\")\n",
    "    if x >= 80:\n",
    "        print(\"B\")\n",
    "    if x >= 70:\n",
    "        print(\"C\")\n",
    "    if x >= 60:\n",
    "        print(\"D\")\n",
    "    else:\n",
    "        print(\"F\")"
   ]
  },
  {
   "cell_type": "markdown",
   "metadata": {
    "colab_type": "text",
    "id": "U7JpKzdQwkgx"
   },
   "source": [
    "Can you **spot the error** in the code above? Again, for what **input scores** will this print the right letter?"
   ]
  },
  {
   "cell_type": "markdown",
   "metadata": {
    "colab_type": "text",
    "id": "4nS5N5NQwkgx"
   },
   "source": [
    "## Answer:\n",
    "    Because it is an if statement it will display multiple results. The code will only display correct result for marks less than 60. "
   ]
  },
  {
   "cell_type": "markdown",
   "metadata": {
    "colab_type": "text",
    "id": "ngr5PaWfwkgy"
   },
   "source": [
    "**Modify** the code above (`printGradeIncorrect2` function) to make it **correct**. Make sure it only prints one letter grade for each input and that it prints the correct letter grade."
   ]
  },
  {
   "cell_type": "markdown",
   "metadata": {
    "colab_type": "text",
    "id": "Wloeb7E1wkgz"
   },
   "source": [
    "How can you **verify** that your function is correct? Write some test cases to verify your solution."
   ]
  },
  {
   "cell_type": "code",
   "execution_count": 0,
   "metadata": {
    "colab": {},
    "colab_type": "code",
    "id": "MEuhJIA9wkgz",
    "outputId": "1296c618-3936-47f7-f486-01fb7d065051"
   },
   "outputs": [
    {
     "name": "stdout",
     "output_type": "stream",
     "text": [
      "A\n",
      "B\n",
      "C\n",
      "D\n",
      "C\n",
      "B\n",
      "F\n"
     ]
    }
   ],
   "source": [
    "# Write some tests cases here (e.g. `printGradeIncorrect2(55) == 'F'` and more...)\n",
    "#solution\n",
    "\n",
    "def printGradeIncorrect2(x):\n",
    "    if x >= 90:\n",
    "        print(\"A\")\n",
    "    elif x >= 80 and x < 90:\n",
    "        print(\"B\")\n",
    "    elif x >= 70 and x < 80:\n",
    "        print(\"C\")\n",
    "    elif x >= 60 and x < 70:\n",
    "        print(\"D\")\n",
    "    else:\n",
    "        print(\"F\")\n",
    "\n",
    "printGradeIncorrect2(98)\n",
    "printGradeIncorrect2(85)\n",
    "printGradeIncorrect2(75)\n",
    "printGradeIncorrect2(65)\n",
    "printGradeIncorrect2(70)\n",
    "printGradeIncorrect2(80)\n",
    "printGradeIncorrect2(5)"
   ]
  },
  {
   "cell_type": "markdown",
   "metadata": {
    "colab_type": "text",
    "id": "npa7rAmiwkg2"
   },
   "source": [
    "## Question 5"
   ]
  },
  {
   "cell_type": "markdown",
   "metadata": {
    "colab_type": "text",
    "id": "hMkHCu3vwkg2"
   },
   "source": [
    "### 5.1"
   ]
  },
  {
   "cell_type": "markdown",
   "metadata": {
    "colab_type": "text",
    "id": "E-Dk9x_swkg3"
   },
   "source": [
    "Create a **list** storing five (5) different **integers**. Store this in a **variable** called `x`."
   ]
  },
  {
   "cell_type": "code",
   "execution_count": 0,
   "metadata": {
    "colab": {},
    "colab_type": "code",
    "id": "Yjf2J8uDwkg4"
   },
   "outputs": [],
   "source": [
    "# Create the list here\n",
    "#solution \n",
    "x= [1,2,3,4,56]"
   ]
  },
  {
   "cell_type": "markdown",
   "metadata": {
    "colab_type": "text",
    "id": "7ppxUUf_wkg6"
   },
   "source": [
    "### 5.2"
   ]
  },
  {
   "cell_type": "markdown",
   "metadata": {
    "colab_type": "text",
    "id": "ybot0wnTwkg6"
   },
   "source": [
    "Using **list indexing** print the **first** and **last** values in the list. For the **last** value, do this two ways:\n",
    "\n",
    "1) using `-1` \n",
    "\n",
    "2) NOT using `-1`"
   ]
  },
  {
   "cell_type": "code",
   "execution_count": 0,
   "metadata": {
    "colab": {},
    "colab_type": "code",
    "id": "KRBI8j2Twkg8",
    "outputId": "c454becf-3dcc-417d-9eaa-d89ae351abc6"
   },
   "outputs": [
    {
     "name": "stdout",
     "output_type": "stream",
     "text": [
      "1\n",
      "56\n",
      "56\n"
     ]
    }
   ],
   "source": [
    "# Write code to print the first value here\n",
    "print(x[0])\n",
    "\n",
    "# Write code to print the last value for method 1 here (using -1)\n",
    "print(x[-1])\n",
    "\n",
    "# Write code to print the last value for method 2 here (NOT using -1)\n",
    "\n",
    "print(x[len(x)-1])"
   ]
  },
  {
   "cell_type": "markdown",
   "metadata": {
    "colab_type": "text",
    "id": "otiXYoLywkhA"
   },
   "source": [
    "### 5.3"
   ]
  },
  {
   "cell_type": "markdown",
   "metadata": {
    "colab_type": "text",
    "id": "eIl_aSk0wkhD"
   },
   "source": [
    "Using **slicing** on list `x` make another list `y` containing the second to fourth elements inclusive. **Print** `y` and **verify** it is in fact the correct slicing."
   ]
  },
  {
   "cell_type": "code",
   "execution_count": 0,
   "metadata": {
    "colab": {},
    "colab_type": "code",
    "id": "9jf5UKMZwkhE",
    "outputId": "f56a67db-bfe0-4317-dea9-4d0858798127"
   },
   "outputs": [
    {
     "data": {
      "text/plain": [
       "[2, 3, 4]"
      ]
     },
     "execution_count": 19,
     "metadata": {
      "tags": []
     },
     "output_type": "execute_result"
    }
   ],
   "source": [
    "# Write code to make another list `y` here \n",
    "#solution\n",
    "y= x[1:4]\n",
    "y"
   ]
  },
  {
   "cell_type": "markdown",
   "metadata": {
    "colab_type": "text",
    "id": "tnhj5mLJwkhI"
   },
   "source": [
    "### 5.4"
   ]
  },
  {
   "cell_type": "markdown",
   "metadata": {
    "colab_type": "text",
    "id": "RtkrEVQ7wkhI"
   },
   "source": [
    "**Change** the first value of `y` to be `\"hello\"`, **without** making a new list. "
   ]
  },
  {
   "cell_type": "code",
   "execution_count": 0,
   "metadata": {
    "colab": {},
    "colab_type": "code",
    "id": "IySRFqRLwkhJ",
    "outputId": "da54f375-fdd7-4102-d7e6-b46095a9db38"
   },
   "outputs": [
    {
     "data": {
      "text/plain": [
       "['hello', 3, 4]"
      ]
     },
     "execution_count": 20,
     "metadata": {
      "tags": []
     },
     "output_type": "execute_result"
    }
   ],
   "source": [
    "# Write code to change the first value here\n",
    "#solution\n",
    "y[0]='hello'\n",
    "y"
   ]
  },
  {
   "cell_type": "markdown",
   "metadata": {
    "colab_type": "text",
    "id": "1NyhAvvzwkhM"
   },
   "source": [
    "### 5.5"
   ]
  },
  {
   "cell_type": "markdown",
   "metadata": {
    "colab_type": "text",
    "id": "V8tsav-qwkhN"
   },
   "source": [
    "Using the ```len()``` function, print the **length** of `x` and the **length** of the **first element** of `y` (which should now be the string `\"hello\"`). "
   ]
  },
  {
   "cell_type": "code",
   "execution_count": 0,
   "metadata": {
    "colab": {},
    "colab_type": "code",
    "id": "w8zNUpOrwkhN",
    "outputId": "49e14256-1acb-4e4e-f098-08798495fa45"
   },
   "outputs": [
    {
     "name": "stdout",
     "output_type": "stream",
     "text": [
      "5\n",
      "5\n"
     ]
    }
   ],
   "source": [
    "# Write code here to print the lengths of `x` and the first element of `y`\n",
    "#solution\n",
    "print(len(x))\n",
    "print(len(y[0]))"
   ]
  },
  {
   "cell_type": "markdown",
   "metadata": {
    "colab_type": "text",
    "id": "FzDYOtwkwkhS"
   },
   "source": [
    "Using code show that `x` and the first element of `y` are the **same lengths**."
   ]
  },
  {
   "cell_type": "code",
   "execution_count": 0,
   "metadata": {
    "colab": {},
    "colab_type": "code",
    "id": "yAbrdpQZwkhT",
    "outputId": "b6f2b24b-0f2f-409f-c757-aa28c762f825"
   },
   "outputs": [
    {
     "name": "stdout",
     "output_type": "stream",
     "text": [
      "True\n"
     ]
    }
   ],
   "source": [
    "# Write code here to show the lengths of `x` and the first element of `y` are the same\n",
    "#solution\n",
    "print(len(x)==len(y[0]))"
   ]
  },
  {
   "cell_type": "markdown",
   "metadata": {
    "colab_type": "text",
    "id": "An0hMTZlwkha"
   },
   "source": [
    " However, also using code and the ```type``` function, show they are **not the same type**."
   ]
  },
  {
   "cell_type": "code",
   "execution_count": 0,
   "metadata": {
    "colab": {},
    "colab_type": "code",
    "id": "rSmoYezpwkha",
    "outputId": "bdccd92f-82d6-4061-eb1b-01a8af7511fa"
   },
   "outputs": [
    {
     "name": "stdout",
     "output_type": "stream",
     "text": [
      "<class 'list'>\n",
      "<class 'str'>\n",
      "False\n"
     ]
    }
   ],
   "source": [
    "# Write code here to show the lengths of `x` and the first element of `y` are not the same type\n",
    "#solution \n",
    "print(type(x))\n",
    "print(type(y[0]))\n",
    "\n",
    "print(type(x)==type(y[0]))\n",
    "\n"
   ]
  },
  {
   "cell_type": "markdown",
   "metadata": {
    "colab_type": "text",
    "id": "tAbfLRsPwkhd"
   },
   "source": [
    "## Question 6"
   ]
  },
  {
   "cell_type": "markdown",
   "metadata": {
    "colab_type": "text",
    "id": "JNcLvjB5wkhe"
   },
   "source": [
    "Write a function `verifyInteger(x)` that takes in an integer `x` and **prints** if it is `\"positive\"`, `\"negative\"` or `\"zero\"`."
   ]
  },
  {
   "cell_type": "code",
   "execution_count": 0,
   "metadata": {
    "colab": {},
    "colab_type": "code",
    "id": "IDo3VS2vwkhf",
    "outputId": "61fd70c8-fa25-4674-a1ca-e979f9959af8"
   },
   "outputs": [
    {
     "name": "stdout",
     "output_type": "stream",
     "text": [
      "positive\n",
      "negative\n",
      "zero\n"
     ]
    }
   ],
   "source": [
    "# Define your function verifyInteger here\n",
    "def verifyInteger(x):\n",
    "    if x > 0:\n",
    "        print(\"positive\")\n",
    "    elif x < 0:\n",
    "        print(\"negative\")\n",
    "    else:\n",
    "        print(\"zero\")\n",
    "#test cases\n",
    "verifyInteger(34)\n",
    "verifyInteger(-56)\n",
    "verifyInteger(0)"
   ]
  },
  {
   "cell_type": "markdown",
   "metadata": {
    "colab_type": "text",
    "id": "oPyA2U8Zwkhi"
   },
   "source": [
    "## Challenging Questions "
   ]
  },
  {
   "cell_type": "markdown",
   "metadata": {
    "colab_type": "text",
    "id": "n6GNRgohwkhi"
   },
   "source": [
    "## Question 7"
   ]
  },
  {
   "cell_type": "markdown",
   "metadata": {
    "colab_type": "text",
    "id": "W1EgkPa2wkhj"
   },
   "source": [
    "Different **ages** correspond to different **school** in Ethiopia. This shows these categories:\n",
    "\n",
    "    0 - 5     No School\n",
    " \n",
    "    6 - 13    Elementary School     \n",
    "\n",
    "    14 - 18   High School\n",
    "    \n",
    "    19 - 22   University\n",
    "\n",
    "    23 - 100  No School   \n",
    "    "
   ]
  },
  {
   "cell_type": "markdown",
   "metadata": {
    "colab_type": "text",
    "id": "mI6_jOmcwkho"
   },
   "source": [
    "### 7.1"
   ]
  },
  {
   "cell_type": "markdown",
   "metadata": {
    "colab_type": "text",
    "id": "TVsNVl2ewkhp"
   },
   "source": [
    "Write a variable for Daniel that stores his age (an integer between 0 and 100). \n",
    "\n",
    "Now **using this variable**, how would you write a **conditional** to check if Daniel is in **elementary** school? If this is `True`, **print** the string `\"Elementary School\"`."
   ]
  },
  {
   "cell_type": "code",
   "execution_count": 0,
   "metadata": {
    "colab": {},
    "colab_type": "code",
    "id": "4_GCPYF7wkhq",
    "outputId": "5fa78b9e-2b79-4ec8-9a56-2af4251ffbee"
   },
   "outputs": [
    {
     "name": "stdout",
     "output_type": "stream",
     "text": [
      "Elementary school\n"
     ]
    }
   ],
   "source": [
    "# Write code here to verify if Daniel is in \"Elementary School\" using conditionals (`if`, `elif`, `else`)\n",
    "#solution\n",
    "age = 8\n",
    "if age >= 6 and age <= 13:\n",
    "    print(\"Elementary school\")"
   ]
  },
  {
   "cell_type": "markdown",
   "metadata": {
    "colab_type": "text",
    "id": "VJm9po_Vwkhu"
   },
   "source": [
    "### 7.2"
   ]
  },
  {
   "cell_type": "markdown",
   "metadata": {
    "colab_type": "text",
    "id": "RAzlArUcwkhv"
   },
   "source": [
    "Similar to above, how would you write a **conditional** to check if Daniel is in the `\"No School\"` category? Make sure to verify both cases (`\"Elementary School\"` and `\"No School\"`) and if the age is in those ranges, **print** the string `\"No School\"`. "
   ]
  },
  {
   "cell_type": "code",
   "execution_count": 0,
   "metadata": {
    "colab": {},
    "colab_type": "code",
    "id": "Fho2HC2owkhw",
    "outputId": "648b921e-81f7-416a-f9ff-081850184efb"
   },
   "outputs": [
    {
     "name": "stdout",
     "output_type": "stream",
     "text": [
      "No School\n"
     ]
    }
   ],
   "source": [
    "# Write code here to verify if Daniel is in \"Elementary School\" or \"No School\" using conditionals (`if`, `elif`, `else`)\n",
    "# solution\n",
    "age = 100 # test case\n",
    "\n",
    "if (age >= 0 and age <= 5) or (age >= 23 and age <= 100) :\n",
    "    print(\"No School\")\n",
    "elif age >= 6 and age <= 13:\n",
    "    print(\"Elementary school\")\n",
    "else:\n",
    "    print(\"Enter correct age range\")\n"
   ]
  },
  {
   "cell_type": "markdown",
   "metadata": {
    "colab_type": "text",
    "id": "wL-dUdqpwkhy"
   },
   "source": [
    "### 7.3"
   ]
  },
  {
   "cell_type": "markdown",
   "metadata": {
    "colab_type": "text",
    "id": "-SnwOJL3wkhy"
   },
   "source": [
    "Write a **function** `isInSchool(age)` where `age` is an integer between 0 and 100, that either returns `\"No School\"` if the person is not in school or `\"School\"` if the person is in school."
   ]
  },
  {
   "cell_type": "code",
   "execution_count": 0,
   "metadata": {
    "colab": {},
    "colab_type": "code",
    "id": "7yhHh-iMwkhz"
   },
   "outputs": [],
   "source": [
    "# Write a function here to verify if someone is in \"School\" or \"No School\" using conditional (`if`, `elif`, `else`)\n",
    "\n",
    "#solution\n",
    "def isInSchool(age):\n",
    "    if age >= 6 and age <= 22:\n",
    "        print(\"School\")\n",
    "    else:\n",
    "        print(\" No School\")"
   ]
  },
  {
   "cell_type": "markdown",
   "metadata": {
    "colab_type": "text",
    "id": "9yYmXfgIwkh0"
   },
   "source": [
    "### 7.4"
   ]
  },
  {
   "cell_type": "markdown",
   "metadata": {
    "colab_type": "text",
    "id": "ffKowNP4wkh1"
   },
   "source": [
    "Now using the code pieces you just wrote and your knowledge of **conditionals**, write a function `scoolCategory(age)` that will take in an **age** integer between 0 - 100 and **prints** the category of school they are in (string). Try to do this using **only one if statement**."
   ]
  },
  {
   "cell_type": "code",
   "execution_count": 0,
   "metadata": {
    "colab": {},
    "colab_type": "code",
    "id": "a29XjSewwkh1",
    "outputId": "71678886-44e3-4ed4-b9f0-27c95bf85101"
   },
   "outputs": [
    {
     "name": "stdout",
     "output_type": "stream",
     "text": [
      "University\n",
      "No School\n",
      "Elementary school\n",
      "High School\n",
      "Enter correct age range\n"
     ]
    },
    {
     "data": {
      "text/plain": [
       "0"
      ]
     },
     "execution_count": 38,
     "metadata": {
      "tags": []
     },
     "output_type": "execute_result"
    }
   ],
   "source": [
    "def schoolCategory(age):\n",
    "    # Complete the function here using the code from 5.1 to 5.3\n",
    "    #solution\n",
    "    if (age >= 0 and age <= 5) or (age >= 23 and age <= 100) :\n",
    "         print(\"No School\")\n",
    "    elif age >= 6 and age <= 13:\n",
    "          print(\"Elementary school\")\n",
    "    elif age >= 14 and age <= 18:\n",
    "         print(\"High School\")\n",
    "    elif age >= 19 and age <= 22:\n",
    "         print(\"University\")\n",
    "    else:\n",
    "        print(\"Enter correct age range\")\n",
    "    return 0\n",
    "\n",
    "#test cases\n",
    "schoolCategory(20)\n",
    "schoolCategory(2)\n",
    "schoolCategory(7)\n",
    "schoolCategory(15)\n",
    "schoolCategory(200)"
   ]
  },
  {
   "cell_type": "markdown",
   "metadata": {
    "colab_type": "text",
    "id": "n450tOvnwkh5"
   },
   "source": [
    "## Question 8"
   ]
  },
  {
   "cell_type": "markdown",
   "metadata": {
    "colab_type": "text",
    "id": "cwu2-xa6wkh6"
   },
   "source": [
    "Write a f**unction** `listLen(l)` that takes in a list `l` and returns the **length** of the list if the list **is not empty**. If the input is the empty list, return `\"this is empty\"`. "
   ]
  },
  {
   "cell_type": "code",
   "execution_count": 0,
   "metadata": {
    "colab": {},
    "colab_type": "code",
    "id": "9tXIlUIywkh8",
    "outputId": "66606fcd-41c6-486c-b28b-5aa91369c61c"
   },
   "outputs": [
    {
     "name": "stdout",
     "output_type": "stream",
     "text": [
      "4\n",
      "this is empty\n"
     ]
    }
   ],
   "source": [
    "# Define your function listLen(l) here\n",
    "def listLen(l):\n",
    "    if len(l) != 0:\n",
    "        return len(l)\n",
    "    else:\n",
    "        return \"this is empty\"\n",
    "#test cases\n",
    "l1= [2,7,98,4]\n",
    "l2= []\n",
    "print(listLen(l1))\n",
    "print(listLen(l2))"
   ]
  },
  {
   "cell_type": "markdown",
   "metadata": {
    "colab_type": "text",
    "id": "svEAepmMwkh_"
   },
   "source": [
    "## Question 9"
   ]
  },
  {
   "cell_type": "markdown",
   "metadata": {
    "colab_type": "text",
    "id": "Y2_Ph49Owkh_"
   },
   "source": [
    "Write a **function** ```allEqual(l)``` that takes in a list `l` and returns ```True``` if all the elements in the list **are equal** and ```False``` otherwise. You do not need for loops for this. \n",
    "Hint: You can **multiply** lists with integers and you can **compare** two lists to check if they are equal.\n",
    "\n",
    "```python\n",
    "allEqual([1,1,1]) == True\n",
    "allEqual([]) == True\n",
    "allEqual([1,2]) == False\n",
    "allEqual([\"salaam\", \"salaam\"]) == True\n",
    "```"
   ]
  },
  {
   "cell_type": "code",
   "execution_count": 1,
   "metadata": {
    "colab": {},
    "colab_type": "code",
    "id": "f2cjORNdwkh_",
    "outputId": "73bc2057-a2f1-4b72-b4f8-63627a475522"
   },
   "outputs": [
    {
     "data": {
      "text/plain": [
       "True"
      ]
     },
     "execution_count": 1,
     "metadata": {},
     "output_type": "execute_result"
    }
   ],
   "source": [
    "# Define your function allEqual(l) here\n",
    "#solution \n",
    "def allEqual(l):\n",
    "    ele = l[0]\n",
    "    chk= True\n",
    "    for item in l:\n",
    "        if ele != item: \n",
    "            chk = False\n",
    "            break; \n",
    "              \n",
    "    if (chk == True): return True\n",
    "    else: return False\n",
    "        \n",
    "#test cases\n",
    "allEqual([1,1,1]) \n",
    "#allEqual([]) \n",
    "allEqual([1,2]) \n",
    "allEqual([\"salaam\", \"salaam\"]) "
   ]
  },
  {
   "cell_type": "markdown",
   "metadata": {
    "colab_type": "text",
    "id": "kS_R1AWpwkiC"
   },
   "source": [
    "## Question 10"
   ]
  },
  {
   "cell_type": "markdown",
   "metadata": {
    "colab_type": "text",
    "id": "EHloBH69wkiD"
   },
   "source": [
    "You are given two **lists of strings** called ```names``` and ```cities```. The **first person** in ```names``` lives in the **last city** in ```cities```, the second person lives in the second to last city, the third lives in the third to last, and so on. Write code to create a third list called ```inOrder``` such that the even indexes (0, 2, 4, etc.) are the names of the people (in order) and that the odd indexes (1, 3, 5, etc.) are the cities. For a person in index $i$, their corresponding city should be in index $i+1$. \n",
    "\n",
    "For example:\n",
    "\n",
    "```python\n",
    "names = [\"Daniel\", \"Nati\", \"Jelani\"]\n",
    "cities = [\"Cambridge\",\"Addis Ababa\", \"San Fransisco\"]\n",
    "```\n",
    "In this case, \n",
    "\n",
    "    - Daniel lives in San Francisco\n",
    "    - Nati lives in Addis Ababa\n",
    "    - Jelani lives Cambridge\n",
    "    \n",
    "    \n",
    "You should create the final list:\n",
    "```python\n",
    "inOrder = [\"Daniel\",\"San Fransisco\", \"Nati\", \"Addis Ababa\", \"Jelani\", \"Cambridge\"]\n",
    "```"
   ]
  },
  {
   "cell_type": "code",
   "execution_count": 0,
   "metadata": {
    "colab": {},
    "colab_type": "code",
    "id": "u_ZYNbr3wkiD"
   },
   "outputs": [],
   "source": [
    "names = [\"Timnit\", \"Binam\", \"Basi\"]\n",
    "cities = [\"Harar\", \"Addis Ababa\", \"Gondar\"]"
   ]
  },
  {
   "cell_type": "code",
   "execution_count": 0,
   "metadata": {
    "colab": {},
    "colab_type": "code",
    "id": "QNrdlYUgwkiF",
    "outputId": "85dfc19f-c420-46b3-9d1d-fba1958fead0"
   },
   "outputs": [
    {
     "name": "stdout",
     "output_type": "stream",
     "text": [
      "['Timnit', 'Gondar', 'Binam', 'Addis Ababa', 'Basi', 'Harar']\n"
     ]
    }
   ],
   "source": [
    "# Write code to create `inOrder` list from `names` and `cities` lists\n",
    "inOrder = []\n",
    "l= len(names)\n",
    "for i in range (l):\n",
    "   \n",
    "    inOrder += [names[i] ]  + [cities[l-i-1]]\n",
    "print(inOrder)"
   ]
  },
  {
   "cell_type": "markdown",
   "metadata": {
    "colab_type": "text",
    "id": "C-A-tXdpwkiH"
   },
   "source": [
    "## Question 11"
   ]
  },
  {
   "cell_type": "markdown",
   "metadata": {
    "colab_type": "text",
    "id": "Bwm9zMMLwkiI"
   },
   "source": [
    "Write a **function** `round(x)` that takes in a number `x` and returns the **rounded** version of that number.\n",
    "\n",
    "For example, `round(1.2) = 1`\n",
    "\n",
    "Similarly, `round(2.6) = 3`"
   ]
  },
  {
   "cell_type": "code",
   "execution_count": 0,
   "metadata": {
    "colab": {},
    "colab_type": "code",
    "id": "ctQicMRawkiI",
    "outputId": "d6e4cb58-bd96-42bf-beee-4aeb591b97c7"
   },
   "outputs": [
    {
     "name": "stdout",
     "output_type": "stream",
     "text": [
      "3\n",
      "4\n"
     ]
    }
   ],
   "source": [
    "# Write the function `round(x)` here\n",
    "#solution\n",
    "def round(x):\n",
    "    if x - int(x) < 0.5:\n",
    "        return (int(x))\n",
    "    else: \n",
    "        return int(x)+1\n",
    "    \n",
    "#test case\n",
    "print(round(3.4))\n",
    "print(round(3.5))"
   ]
  },
  {
   "cell_type": "markdown",
   "metadata": {
    "colab_type": "text",
    "id": "7PgBHuefwkiL"
   },
   "source": [
    "## Question 12"
   ]
  },
  {
   "cell_type": "markdown",
   "metadata": {
    "colab_type": "text",
    "id": "7edWZELdwkiL"
   },
   "source": [
    "Write a **function** `addFractions(l0, l1)` that takes in 2 lists `l0` and `l1` where each list represents a fractional number where the **first** number is the **numerator** and the **second** is the **denominator**. \n",
    "\n",
    "\n",
    "For example, $[2,1] => \\frac{2}{1} = 2$, (Numerator is 2, denominator is 1)\n",
    "\n",
    "For example, $[3,4] => \\frac{3}{4} $,  (Numerator is 3, denominator is 4)\n",
    "\n",
    "\n",
    "**We want to return the sum of these two fractions.**\n",
    "\n",
    "For example, `addFractions([3,4], [2,3])` should return `[17, 12]` because $\\frac{3}{4} + \\frac{2}{3} = \\frac{17}{12}$"
   ]
  },
  {
   "cell_type": "code",
   "execution_count": 0,
   "metadata": {
    "colab": {},
    "colab_type": "code",
    "id": "J5gb1oF-wkiM",
    "outputId": "7eb647ce-efa4-4a7e-d0fc-4c928e1fdede"
   },
   "outputs": [
    {
     "data": {
      "text/plain": [
       "[17, 12]"
      ]
     },
     "execution_count": 83,
     "metadata": {
      "tags": []
     },
     "output_type": "execute_result"
    }
   ],
   "source": [
    "# Write your `addFractions(l0, l1)` function here \n",
    "def addFractions(l0,l1):\n",
    "    sum_num= l0[0] * l1[1] + l1[0] * l0 [1]\n",
    "    sum_den= l0[1]* l1[1]\n",
    "    return [sum_num,sum_den]\n",
    "#test case\n",
    "addFractions([3,4], [2,3])"
   ]
  },
  {
   "cell_type": "markdown",
   "metadata": {
    "colab_type": "text",
    "id": "WVrhBkPSwkiP"
   },
   "source": [
    "## Question 13"
   ]
  },
  {
   "cell_type": "markdown",
   "metadata": {
    "colab_type": "text",
    "id": "CK2Dl_vXwkiQ"
   },
   "source": [
    "Write a **function** `costToM(n, m, upcost, downcost)` that takes in four (4) **integers**, `n`, `m`, `upcost`, `downcost`.  We want to know the cost to make `n` a **multiple** of `m`.It costs amount `upcost` for every **increment** ($+$) of 1 and costs amount `downcost` for every **decrement** ($-$) of 1.\n",
    "\n",
    "**Return** the **cheapest** cost to get from `n` to a multiple of `m`.\n",
    "\n",
    "For example, `costToM(14, 5, 1, 1)` should return 1 because you can get to 15 (a multiple of 5) with cost 1 and you can get to 10 (a multiple of 5) with cost 4. \n",
    "\n",
    "`costToM(14, 5, 20, 1)` should return 4 because you can get to 15 (a multiple of 5) with cost 20 and you can get to 10 (a multiple of 5) with cost 4. "
   ]
  },
  {
   "cell_type": "code",
   "execution_count": 1,
   "metadata": {
    "colab": {},
    "colab_type": "code",
    "id": "vHykvpbHwkiQ",
    "outputId": "4be0ba53-039a-47ed-e139-266ca0f9332e"
   },
   "outputs": [
    {
     "data": {
      "text/plain": [
       "3"
      ]
     },
     "execution_count": 1,
     "metadata": {},
     "output_type": "execute_result"
    }
   ],
   "source": [
    "# Write your function `costToM(n, m, upcost, downcost)` here\n",
    "\n",
    "# solution \n",
    "def costToM(n, m, upcost, downcost):\n",
    "    upCost=0\n",
    "    downCost=0\n",
    "    n1=n\n",
    "    while n%m!=0:\n",
    "        upCost+=upcost\n",
    "        n+=1\n",
    "    while n1%m!=0:\n",
    "        downCost+=downcost\n",
    "        n1-=1\n",
    "    if downCost>upCost:\n",
    "        return upCost\n",
    "    return downCost\n",
    "\n",
    "#test cases\n",
    "#costToM(14, 5, 1, 1)\n",
    "#costToM(14, 5, 20, 1)\n",
    "costToM(11, 7, 1, 1)"
   ]
  },
  {
   "cell_type": "markdown",
   "metadata": {
    "colab_type": "text",
    "id": "yn5g4MkgwkiS"
   },
   "source": [
    "## Question 14"
   ]
  },
  {
   "cell_type": "markdown",
   "metadata": {
    "colab_type": "text",
    "id": "ayEtFLVvwkiT"
   },
   "source": [
    "Write a **function** `calcArea(p0, p1)` that takes in 2 points `p0`, `p1` where the first is the bottom left coordinate (x0, y0) and the second is the top right coordinate (x1, y1) of a rectangle. Return the area of the rectangle. \n",
    "\n",
    "For example, `calcArea((1,1), (4,5))` should return $4*3 = 12$.\n",
    "\n",
    "![title](calcArea.png)"
   ]
  },
  {
   "cell_type": "code",
   "execution_count": 0,
   "metadata": {
    "colab": {},
    "colab_type": "code",
    "id": "3EGq8v8RwkiT",
    "outputId": "64e7ad6e-5dcf-4077-b65d-cd710b5c62c7"
   },
   "outputs": [
    {
     "data": {
      "text/plain": [
       "12"
      ]
     },
     "execution_count": 12,
     "metadata": {
      "tags": []
     },
     "output_type": "execute_result"
    }
   ],
   "source": [
    "# Write function `calcArea(p0, p1)` here\n",
    "\n",
    "def calcArea(p0,p1):\n",
    "    width = p1[0]-p0[0]\n",
    "    height= p1[1]- p0[1]\n",
    "    return width *height\n",
    "\n",
    "#test case\n",
    "calcArea((1,1), (4,5))"
   ]
  },
  {
   "cell_type": "markdown",
   "metadata": {
    "colab_type": "text",
    "id": "xXe0hS5SwkiW"
   },
   "source": [
    "## Question 15"
   ]
  },
  {
   "cell_type": "markdown",
   "metadata": {
    "colab_type": "text",
    "id": "HDxO_0MswkiW"
   },
   "source": [
    "### 15.1"
   ]
  },
  {
   "cell_type": "markdown",
   "metadata": {
    "colab_type": "text",
    "id": "3WmCWZhswkiX"
   },
   "source": [
    "Write a **function** `overlappingRectangles(l1, r1, l2, r2)` that takes in 4 points `l1`, `r1`, `l2`, `r2`. The first 2 points are the **bottom left** coordinate and **top right** coordinates of the **first rectangle**. The second 2 points are the **bottom left** and **top right** coordinates of the **second rectangle**. Return `True` if the 2 different rectangles overlap. \n",
    "\n",
    "For example, with the image below we would call the function with inputs as such: `overlappingRectangles((2,2), (7,3), (8,5), (9,7))`, and since they do not overlap, return `False`.\n",
    "\n",
    "![title](overlapRect.png)"
   ]
  },
  {
   "cell_type": "code",
   "execution_count": 0,
   "metadata": {
    "colab": {},
    "colab_type": "code",
    "id": "yMAh3_iQwkiX",
    "outputId": "4e5c93d5-ed40-4343-b5ce-36a7f186fbb6"
   },
   "outputs": [
    {
     "data": {
      "text/plain": [
       "True"
      ]
     },
     "execution_count": 9,
     "metadata": {
      "tags": []
     },
     "output_type": "execute_result"
    }
   ],
   "source": [
    "# Write overlappingRectangles(l1, r1, l2, r2) function here!\n",
    "def overlappingRectangles(l1,r1,l2,r2):\n",
    "    if ((l1[0] > r2[0]) or (l2[0] > r1[0])):\n",
    "        return False\n",
    "    if ( (l1[1] > r2[1]) or (l2[1] > r1[1])):\n",
    "        return False\n",
    "    return True\n",
    "\n",
    "#test cases\n",
    "#overlappingRectangles((2,2), (5,4), (3,4), (7,6))\n",
    "#overlappingRectangles((2,2), (7,3), (8,5), (9,7))\n",
    "overlappingRectangles((1,1), (7,7), (2,2), (8,8))"
   ]
  },
  {
   "cell_type": "markdown",
   "metadata": {
    "colab_type": "text",
    "id": "-ITBGP2Awkia"
   },
   "source": [
    "### 15.2"
   ]
  },
  {
   "cell_type": "markdown",
   "metadata": {
    "colab_type": "text",
    "id": "4VG3fPrVwkic"
   },
   "source": [
    "Write a **function** `areaOverlap(l1, r1, l2, r2)` to compute the **area** of the overlapping rectangles. If the rectangles do not overlap, return 0."
   ]
  },
  {
   "cell_type": "code",
   "execution_count": 0,
   "metadata": {
    "colab": {},
    "colab_type": "code",
    "id": "gh-KHqyLwkid",
    "outputId": "549c8c31-fa5f-45a4-9b4f-61d5c8b36a37"
   },
   "outputs": [
    {
     "data": {
      "text/plain": [
       "25"
      ]
     },
     "execution_count": 21,
     "metadata": {
      "tags": []
     },
     "output_type": "execute_result"
    }
   ],
   "source": [
    "# Write areaOverlap(l1, r1, l2, r2) functiono here!\n",
    "#solution\n",
    "\n",
    "def areaOverlap(l1,r1,l2,r2):\n",
    "    if (overlappingRectangles(l1,r1,l2,r2)):\n",
    "        if ((r1[0] < r2[0]) and (l1[0] < l2[0])):\n",
    "                               x_distanceOfoverlap = r1[0] - l2[0] \n",
    "        if ((r2[0] < r1[0]) and (l2[0] < l1[0])):\n",
    "                                  x_distanceOfoverlap = r2[0] - l1[0] \n",
    "        if ((r1[1] < r2[1]) and (l1[1] < l2[1])):\n",
    "                               y_distanceOfoverlap = r1[1] - l2[1] \n",
    "        if ((r2[1] < r1[1]) and (l2[1] < l1[1])):\n",
    "                                  y_distanceOfoverlap = r2[1] - l1[1] \n",
    "        \n",
    "        return x_distanceOfoverlap *  y_distanceOfoverlap\n",
    "        \n",
    "    else: return 0\n",
    "                                \n",
    "#test cases \n",
    "                                \n",
    "areaOverlap((1,1), (7,7), (2,2), (8,8))  \n",
    "        \n",
    "\n",
    "                                \n",
    "                                \n",
    "                                \n",
    "    "
   ]
  }
 ],
 "metadata": {
  "colab": {
   "name": "probs2a_solutions.ipynb",
   "provenance": [],
   "version": "0.3.2"
  },
  "kernelspec": {
   "display_name": "Python 3 (ipykernel)",
   "language": "python",
   "name": "python3"
  },
  "language_info": {
   "codemirror_mode": {
    "name": "ipython",
    "version": 3
   },
   "file_extension": ".py",
   "mimetype": "text/x-python",
   "name": "python",
   "nbconvert_exporter": "python",
   "pygments_lexer": "ipython3",
   "version": "3.9.7"
  }
 },
 "nbformat": 4,
 "nbformat_minor": 1
}
