{
 "cells": [
  {
   "cell_type": "markdown",
   "metadata": {},
   "source": [
    "# Lecture 3, Part 1 Exercises\n",
    "\n",
    "## Owner- Getu \n",
    "## Reviewer - Stephen and Kidist "
   ]
  },
  {
   "cell_type": "markdown",
   "metadata": {},
   "source": [
    "## Question 1"
   ]
  },
  {
   "cell_type": "markdown",
   "metadata": {},
   "source": [
    "### 1.1 \n",
    "\n",
    "Print the integers from 0 - 10 using a `for` loop"
   ]
  },
  {
   "cell_type": "code",
   "execution_count": 1,
   "metadata": {},
   "outputs": [
    {
     "name": "stdout",
     "output_type": "stream",
     "text": [
      "0\n",
      "1\n",
      "2\n",
      "3\n",
      "4\n",
      "5\n",
      "6\n",
      "7\n",
      "8\n",
      "9\n",
      "10\n"
     ]
    }
   ],
   "source": [
    "# printing integers from 0-1\n",
    "for i in range(11): #because it only prints 0 - n-1 \n",
    "    print(i)"
   ]
  },
  {
   "cell_type": "markdown",
   "metadata": {},
   "source": [
    "### 1.2 \n",
    "\n",
    "Print the integers from 0 - 10 using a `while` loop"
   ]
  },
  {
   "cell_type": "code",
   "execution_count": null,
   "metadata": {},
   "outputs": [],
   "source": [
    "#printig 0 -10 using while loop\n",
    "i = 0\n",
    "while(i <= 10):\n",
    "    print(i)\n",
    "    i = i+1"
   ]
  },
  {
   "cell_type": "markdown",
   "metadata": {},
   "source": [
    "### 1.3\n",
    "\n",
    "Write a function that takes `x` as input and prints it"
   ]
  },
  {
   "cell_type": "code",
   "execution_count": null,
   "metadata": {},
   "outputs": [],
   "source": [
    "def printX(x):#func definition\n",
    "    print(x)\n",
    "    \n",
    "printX(2) #calling a function"
   ]
  },
  {
   "cell_type": "markdown",
   "metadata": {},
   "source": [
    "### 1.4 \n",
    "\n",
    "Write a function that takes `x` and prints every number between 0 and `x-1` using a `for` loop"
   ]
  },
  {
   "cell_type": "code",
   "execution_count": null,
   "metadata": {},
   "outputs": [],
   "source": [
    "def printValues(x):\n",
    "    for i in range(x):\n",
    "        print(i)\n",
    "        \n",
    "printValues(5)"
   ]
  },
  {
   "cell_type": "markdown",
   "metadata": {},
   "source": [
    "### 1.5 \n",
    "\n",
    "Write a function that takes `x` and prints every number between 0 and `x-1` using a `while` loop"
   ]
  },
  {
   "cell_type": "code",
   "execution_count": null,
   "metadata": {},
   "outputs": [],
   "source": [
    "def printValues(x):\n",
    "    i=0\n",
    "    while (i < x):\n",
    "        print(i)\n",
    "        i=i+1\n",
    "printValues(5)"
   ]
  },
  {
   "cell_type": "markdown",
   "metadata": {},
   "source": [
    "## Question 2"
   ]
  },
  {
   "cell_type": "markdown",
   "metadata": {},
   "source": [
    "### 2.1 \n",
    "\n",
    "Use code to verify that 4 is even"
   ]
  },
  {
   "cell_type": "code",
   "execution_count": null,
   "metadata": {},
   "outputs": [],
   "source": [
    "def isEven(x):\n",
    "    if x % 2 == 0:#check that is x is evenly divisible\n",
    "        return True\n",
    "    return False \n",
    "\n",
    "print(isEven(4))"
   ]
  },
  {
   "cell_type": "markdown",
   "metadata": {},
   "source": [
    "### 2.2 \n",
    "\n",
    "Write a function that takes `x` and returns `True` if `x` is even "
   ]
  },
  {
   "cell_type": "code",
   "execution_count": null,
   "metadata": {},
   "outputs": [],
   "source": [
    "def isEven(x):\n",
    "    if x % 2 == 0:#check that is x is evenly divisible\n",
    "        return True\n",
    "    return False \n",
    "\n",
    "print(isEven(4))"
   ]
  },
  {
   "cell_type": "markdown",
   "metadata": {},
   "source": [
    "### 2.3 \n",
    "\n",
    "Write a function that takes `x` and prints every number between 0 and `x-1` using a `for` loop"
   ]
  },
  {
   "cell_type": "code",
   "execution_count": null,
   "metadata": {},
   "outputs": [],
   "source": [
    "def printOddValue(x):\n",
    "    for i in range(x):\n",
    "        if i%2!=0:\n",
    "            print(i)\n",
    "printOddValue(6)"
   ]
  },
  {
   "cell_type": "markdown",
   "metadata": {},
   "source": [
    "### 2.4 \n",
    "\n",
    "Write a function that takes `x` and prints every EVEN number between 0 and `x-1` using a `for` loop"
   ]
  },
  {
   "cell_type": "code",
   "execution_count": 1,
   "metadata": {},
   "outputs": [
    {
     "name": "stdout",
     "output_type": "stream",
     "text": [
      "0\n",
      "2\n",
      "4\n",
      "6\n",
      "8\n"
     ]
    }
   ],
   "source": [
    "def printEvenNumbers(x):\n",
    "    for i in range(x):\n",
    "        if i % 2 == 0:\n",
    "            print (i)\n",
    "printEvenNumbers(9)"
   ]
  },
  {
   "cell_type": "markdown",
   "metadata": {},
   "source": [
    "## 2.5 \n",
    "\n",
    "Write a function that takes `x` and prints every EVEN number between 0 and `x-1` using a `while` loop"
   ]
  },
  {
   "cell_type": "code",
   "execution_count": null,
   "metadata": {},
   "outputs": [],
   "source": [
    "def printEvenNumbers(x):\n",
    "    i=0\n",
    "    while (i < x):\n",
    "        if i % 2 == 0:\n",
    "            print(i)\n",
    "        i = i + 1\n",
    "            \n",
    "printEvenNumbers(9)"
   ]
  },
  {
   "cell_type": "markdown",
   "metadata": {},
   "source": [
    "### 2.6 \n",
    "\n",
    "Using `while True:`, print the integers from 0 - 10"
   ]
  },
  {
   "cell_type": "code",
   "execution_count": null,
   "metadata": {},
   "outputs": [],
   "source": [
    "i = 0\n",
    "while True:\n",
    "    print (i)\n",
    "    i = i + 1\n",
    "    if i == 11:\n",
    "        break\n",
    "        "
   ]
  },
  {
   "cell_type": "markdown",
   "metadata": {},
   "source": [
    "### 2.7 \n",
    "\n",
    "Write a function that takes `x` and prints every EVEN number between 0 and `x-1` using `while True:`"
   ]
  },
  {
   "cell_type": "code",
   "execution_count": null,
   "metadata": {},
   "outputs": [],
   "source": [
    "\n",
    "def printEvenNumbers(x):\n",
    "    i = 0\n",
    "    while True:\n",
    "        print(i)\n",
    "        if i == x-1:\n",
    "            break\n",
    "        i = i + 1\n",
    "        \n",
    "num = int(input('Enter a number? '))\n",
    "printEvenNumbers(num)"
   ]
  },
  {
   "cell_type": "markdown",
   "metadata": {},
   "source": [
    "### 2.8 \n",
    "Write a function that takes `x` and prints every EVEN number between 0 and `x-1` using a `for` loop, without **control flow** (i.e. no `if` statements)"
   ]
  },
  {
   "cell_type": "code",
   "execution_count": null,
   "metadata": {},
   "outputs": [],
   "source": [
    "def printEvenNumbers(x):\n",
    "    for i in range(0, x, 2):\n",
    "        print(i)\n",
    "        \n",
    "printEvenNumbers(10)\n",
    "    "
   ]
  },
  {
   "cell_type": "markdown",
   "metadata": {},
   "source": [
    "## Question 3"
   ]
  },
  {
   "cell_type": "markdown",
   "metadata": {},
   "source": [
    "### 3.1 \n",
    "\n",
    "Create a list called `my_list` with 3 integers"
   ]
  },
  {
   "cell_type": "code",
   "execution_count": null,
   "metadata": {},
   "outputs": [],
   "source": [
    "my_list = [1,3,5]\n",
    "print(my_list)"
   ]
  },
  {
   "cell_type": "markdown",
   "metadata": {},
   "source": [
    "### 3.2 \n",
    "\n",
    "Print the first element in `my_list`\n"
   ]
  },
  {
   "cell_type": "code",
   "execution_count": null,
   "metadata": {},
   "outputs": [],
   "source": [
    "print(my_list[0])"
   ]
  },
  {
   "cell_type": "markdown",
   "metadata": {},
   "source": [
    "### 3.3 \n",
    "\n",
    "Print the length of `my_list`"
   ]
  },
  {
   "cell_type": "code",
   "execution_count": null,
   "metadata": {},
   "outputs": [],
   "source": [
    "print(len(my_list))"
   ]
  },
  {
   "cell_type": "markdown",
   "metadata": {},
   "source": [
    "### 3.4 \n",
    "\n",
    "Print every number in `my_list` using a `for x in y` loop"
   ]
  },
  {
   "cell_type": "code",
   "execution_count": null,
   "metadata": {},
   "outputs": [],
   "source": [
    "for x in my_list:\n",
    "    print(x)"
   ]
  },
  {
   "cell_type": "markdown",
   "metadata": {},
   "source": [
    "### 3.5 \n",
    "\n",
    "Write a function that takes a list and prints all items in it using a `for x in y` loop"
   ]
  },
  {
   "cell_type": "code",
   "execution_count": null,
   "metadata": {},
   "outputs": [],
   "source": [
    "def printListElem(L):\n",
    "    for i in L:\n",
    "        print(i)\n",
    "        \n",
    "printListElem([2,3,'Key', 'one', 2.5])"
   ]
  },
  {
   "cell_type": "markdown",
   "metadata": {},
   "source": [
    "### 3.6 \n",
    "\n",
    "Print the sum of all the elements in `my_list` using a `for x in y` loop"
   ]
  },
  {
   "cell_type": "code",
   "execution_count": null,
   "metadata": {},
   "outputs": [],
   "source": [
    "my_list = [2,4,7,8]\n",
    "sum = 0\n",
    "for i in my_list:\n",
    "    sum = sum + i\n",
    "print(sum)\n",
    "\n",
    "    "
   ]
  },
  {
   "cell_type": "markdown",
   "metadata": {},
   "source": [
    "### 3.7 \n",
    "\n",
    "Write a function that takes a list and prints the sum of all items in it using a `for x in y` loop"
   ]
  },
  {
   "cell_type": "code",
   "execution_count": null,
   "metadata": {},
   "outputs": [],
   "source": [
    "my_list = [2,4,7,8]\n",
    "def printSum(L):\n",
    "    sum = 0\n",
    "    for i in L:\n",
    "        sum = sum + i\n",
    "    print(sum)\n",
    "printSum(my_list)\n",
    "    "
   ]
  },
  {
   "cell_type": "markdown",
   "metadata": {},
   "source": [
    "### 3.8\n",
    "Write a function that takes a list and prints the sum of all items in it using a `while` loop"
   ]
  },
  {
   "cell_type": "code",
   "execution_count": null,
   "metadata": {},
   "outputs": [],
   "source": [
    "my_list = [2,4,7,8]#create my list\n",
    "\n",
    "def printSum(L):\n",
    "    sum = 0\n",
    "    i = 0\n",
    "    while i < len(L):\n",
    "        sum = sum + L[i]\n",
    "        i = i + 1\n",
    "    print(sum)\n",
    "printSum(my_list)\n",
    "    "
   ]
  },
  {
   "cell_type": "markdown",
   "metadata": {},
   "source": [
    "### 3.9 \n",
    "\n",
    "Write a function that takes a list and prints the sum of all items in it that does NOT use a `for x in y` loop or a `while` loop. (Can you think of a different kind of `for` loop?)"
   ]
  },
  {
   "cell_type": "code",
   "execution_count": null,
   "metadata": {},
   "outputs": [],
   "source": [
    "my_list = [2,4,7,8]\n",
    "\n",
    "def printSum(L):\n",
    "    s = 0\n",
    "    for i in range(len(L)):\n",
    "        s += L[i]\n",
    "    return s\n",
    "    \n",
    "    #print(sum(L))#sum built in function \n",
    "printSum(my_list)\n",
    "    \n",
    " "
   ]
  },
  {
   "cell_type": "markdown",
   "metadata": {},
   "source": [
    "## Question 4"
   ]
  },
  {
   "cell_type": "markdown",
   "metadata": {},
   "source": [
    "### 4.1 \n",
    "\n",
    "Create a string called `my_string` with the value `\"racecar\"`"
   ]
  },
  {
   "cell_type": "code",
   "execution_count": null,
   "metadata": {},
   "outputs": [],
   "source": [
    "my_string = 'racecar' "
   ]
  },
  {
   "cell_type": "markdown",
   "metadata": {},
   "source": [
    "### 4.2 \n",
    "\n",
    "Print the first character of `my_string`"
   ]
  },
  {
   "cell_type": "code",
   "execution_count": null,
   "metadata": {},
   "outputs": [],
   "source": [
    "print(my_string[0])"
   ]
  },
  {
   "cell_type": "markdown",
   "metadata": {},
   "source": [
    "### 4.3\n",
    "\n",
    "Print the last character of `my_string` using `len`"
   ]
  },
  {
   "cell_type": "code",
   "execution_count": null,
   "metadata": {},
   "outputs": [],
   "source": [
    "print(my_string[len(my_string)-1])"
   ]
  },
  {
   "cell_type": "markdown",
   "metadata": {},
   "source": [
    "### 4.4\n",
    "\n",
    "Print `True` if the first and last characters of `my_string` are the same "
   ]
  },
  {
   "cell_type": "code",
   "execution_count": null,
   "metadata": {},
   "outputs": [],
   "source": [
    "print(my_string[0] == my_string[-1])"
   ]
  },
  {
   "cell_type": "markdown",
   "metadata": {},
   "source": [
    "### 4.5\n",
    "\n",
    "Write a function that takes a string and returns `True` if the first and last characters of the string are the same and `False` otherwise"
   ]
  },
  {
   "cell_type": "code",
   "execution_count": null,
   "metadata": {},
   "outputs": [],
   "source": [
    "def checkChar(str1):\n",
    "    return str1[0] == str1[-1]\n",
    "\n",
    "checkChar('rar')"
   ]
  },
  {
   "cell_type": "markdown",
   "metadata": {},
   "source": [
    "### 4.6\n",
    "\n",
    "Write a function that takes a string and returns `True` if the second and second to last characters of the string are the same and `False` otherwise"
   ]
  },
  {
   "cell_type": "code",
   "execution_count": null,
   "metadata": {},
   "outputs": [],
   "source": [
    "def checkSecond(str1):\n",
    "    if str1[1] == str1[-2]:\n",
    "        return True\n",
    "    return False\n",
    "\n",
    "checkSecond('racecar')"
   ]
  },
  {
   "cell_type": "markdown",
   "metadata": {},
   "source": [
    "*Note:* A **palindrome** is a word that is spelt the same forward as it is backwards.\n",
    "- Palindromes:\n",
    "    - racecar\n",
    "    - madam\n",
    "    - 12321"
   ]
  },
  {
   "cell_type": "markdown",
   "metadata": {},
   "source": [
    "### 4.7\n",
    "\n",
    "For each of the following strings, say whether they are palindromes (in words):\n",
    "\n",
    "1. kayak\n",
    "2. 12323\n",
    "3. hello\n",
    "4. noon"
   ]
  },
  {
   "cell_type": "markdown",
   "metadata": {},
   "source": [
    "*Fill this in.*\n",
    "\n",
    "1. palindrome\n",
    "2. not palindrome\n",
    "3. not palindrome\n",
    "4. palindrome"
   ]
  },
  {
   "cell_type": "markdown",
   "metadata": {},
   "source": [
    "### 4.8\n",
    "Write a function that takes a string and returns `True` if the string is a palindrome and `False` otherwise"
   ]
  },
  {
   "cell_type": "code",
   "execution_count": null,
   "metadata": {},
   "outputs": [],
   "source": [
    "def isPalindrome(str1):\n",
    "    if str1 == str1 [::-1]:\n",
    "        return True\n",
    "    return False\n",
    "\n",
    "print(isPalindrome('noon'))\n",
    "print(isPalindrome('Hello'))\n",
    "print(isPalindrome('kayak'))\n",
    "print(isPalindrome('123123'))"
   ]
  },
  {
   "cell_type": "markdown",
   "metadata": {},
   "source": [
    "## Challenge: Would you be able to solve the above problem in a different way?\n"
   ]
  },
  {
   "cell_type": "code",
   "execution_count": 1,
   "metadata": {},
   "outputs": [
    {
     "data": {
      "text/plain": [
       "True"
      ]
     },
     "execution_count": 1,
     "metadata": {},
     "output_type": "execute_result"
    }
   ],
   "source": [
    "def isPalindrome(string):\n",
    "    left_pos = 0\n",
    "    right_pos = len(string) -1\n",
    "    \n",
    "    while right_pos >= left_pos:\n",
    "        if not string[left_pos] == string[right_pos]:\n",
    "            return False\n",
    "        left_pos += 1\n",
    "        right_pos -= 1\n",
    "    return True\n",
    "\n",
    "isPalindrome('aza')"
   ]
  },
  {
   "cell_type": "markdown",
   "metadata": {},
   "source": [
    "### 4.9\n",
    "Write a function called ```concat_x_to_y``` that takes two strings ```x``` and ```y```, and concatenates them together, and returns the result."
   ]
  },
  {
   "cell_type": "code",
   "execution_count": 1,
   "metadata": {},
   "outputs": [
    {
     "data": {
      "text/plain": [
       "'JelaniTayler'"
      ]
     },
     "execution_count": 1,
     "metadata": {},
     "output_type": "execute_result"
    }
   ],
   "source": [
    "def concat_x_to_y(x,y):\n",
    "    return x+y\n",
    "concat_x_to_y('Jelani','Tayler')"
   ]
  },
  {
   "cell_type": "markdown",
   "metadata": {},
   "source": [
    "# Question 5"
   ]
  },
  {
   "cell_type": "markdown",
   "metadata": {},
   "source": [
    "### 5.1\n",
    "\n",
    "Run the code below to print the numbers from 0 - 20"
   ]
  },
  {
   "cell_type": "code",
   "execution_count": null,
   "metadata": {},
   "outputs": [],
   "source": [
    "for i in range(21):\n",
    "    print(i)"
   ]
  },
  {
   "cell_type": "markdown",
   "metadata": {},
   "source": [
    "### 5.2\n",
    "\n",
    "Add to the code in the block above (without deleting anything) to break out of the loop after printing the numbers 0 - 5"
   ]
  },
  {
   "cell_type": "code",
   "execution_count": null,
   "metadata": {},
   "outputs": [],
   "source": [
    "for i in range(21):\n",
    "    print(i)\n",
    "    if i == 5:\n",
    "        break"
   ]
  },
  {
   "cell_type": "markdown",
   "metadata": {},
   "source": [
    "### 5.3\n",
    "\n",
    "Now, use the code from 5.1 to print all the numbers between 0 and 20 that are not multiples of 3."
   ]
  },
  {
   "cell_type": "code",
   "execution_count": null,
   "metadata": {},
   "outputs": [],
   "source": [
    "for i in range(21):\n",
    "    if i % 3 != 0:\n",
    "        print(i)"
   ]
  },
  {
   "cell_type": "markdown",
   "metadata": {},
   "source": [
    "### 5.4\n",
    "\n",
    "Write code that will print all the numbers between 0 and 20 that are not multiples of 3 using `continue`"
   ]
  },
  {
   "cell_type": "code",
   "execution_count": null,
   "metadata": {},
   "outputs": [],
   "source": [
    "for i in range(21):\n",
    "    if i % 3 == 0:\n",
    "        continue\n",
    "    print(i)\n",
    "        "
   ]
  },
  {
   "cell_type": "markdown",
   "metadata": {},
   "source": [
    "### 5.5\n",
    "\n",
    "Try running the code below and see what happens (hint: you might need to use the stop button at the top of the page)."
   ]
  },
  {
   "cell_type": "code",
   "execution_count": null,
   "metadata": {},
   "outputs": [],
   "source": [
    "i = 0\n",
    "while True:\n",
    "    i += 1\n",
    "    print(i)"
   ]
  },
  {
   "cell_type": "markdown",
   "metadata": {},
   "source": [
    "### 5.6\n",
    "\n",
    "Now, edit the code above to only print the numbers up to 20."
   ]
  },
  {
   "cell_type": "code",
   "execution_count": null,
   "metadata": {},
   "outputs": [],
   "source": [
    "i = 0\n",
    "while True:\n",
    "    i += 1\n",
    "    print(i)\n",
    "    if i == 20:\n",
    "        break"
   ]
  },
  {
   "cell_type": "markdown",
   "metadata": {},
   "source": [
    "### 5.7\n",
    "\n",
    "Now, using `continue`, use the same code from 5.6 to print the numbers up to 20 that are not multiples of 3."
   ]
  },
  {
   "cell_type": "code",
   "execution_count": 2,
   "metadata": {},
   "outputs": [
    {
     "name": "stdout",
     "output_type": "stream",
     "text": [
      "1\n",
      "2\n",
      "4\n",
      "5\n",
      "7\n",
      "8\n",
      "10\n",
      "11\n",
      "13\n",
      "14\n",
      "16\n",
      "17\n",
      "19\n",
      "20\n"
     ]
    }
   ],
   "source": [
    "i = 0\n",
    "while True:\n",
    "    i += 1\n",
    "    if i % 3 == 0:\n",
    "        continue\n",
    "    print(i)\n",
    "    if i == 20:\n",
    "        break"
   ]
  },
  {
   "cell_type": "markdown",
   "metadata": {},
   "source": [
    "## Question 6"
   ]
  },
  {
   "cell_type": "markdown",
   "metadata": {},
   "source": [
    "### 5.8\n",
    "write a function called ```multiply_x_to_y``` that takes two arguments ```x``` and ```y```, and returns their product."
   ]
  },
  {
   "cell_type": "code",
   "execution_count": 4,
   "metadata": {},
   "outputs": [
    {
     "data": {
      "text/plain": [
       "12"
      ]
     },
     "execution_count": 4,
     "metadata": {},
     "output_type": "execute_result"
    }
   ],
   "source": [
    "def multiply_x_to_y(x,y):\n",
    "    return x*y\n",
    "\n",
    "multiply_x_to_y(3,4)"
   ]
  },
  {
   "cell_type": "markdown",
   "metadata": {},
   "source": []
  },
  {
   "cell_type": "markdown",
   "metadata": {},
   "source": [
    "### 6.1"
   ]
  },
  {
   "cell_type": "code",
   "execution_count": 4,
   "metadata": {},
   "outputs": [],
   "source": [
    "sum = 0\n",
    "number = 1\n",
    "while number <= 20:\n",
    "    number += 1\n",
    "    sum += number\n",
    "    if sum >= 100:\n",
    "        break"
   ]
  },
  {
   "cell_type": "markdown",
   "metadata": {},
   "source": [
    "### 6.2\n",
    "\n",
    "Write a program that adds all the integers from 1 to 20 except 10 and 11. "
   ]
  },
  {
   "cell_type": "code",
   "execution_count": null,
   "metadata": {},
   "outputs": [],
   "source": [
    "sum = 0\n",
    "number = 0\n",
    "while number < 20:\n",
    "    number += 1\n",
    "    if number == 10 or number == 11:\n",
    "        continue\n",
    "    sum += number"
   ]
  },
  {
   "cell_type": "markdown",
   "metadata": {},
   "source": [
    "## Question 7 Challenge\n",
    "Write a program that displays the first fifty prime numbers."
   ]
  },
  {
   "cell_type": "code",
   "execution_count": 8,
   "metadata": {},
   "outputs": [
    {
     "name": "stdout",
     "output_type": "stream",
     "text": [
      "2\n",
      "3\n",
      "5\n",
      "7\n",
      "11\n",
      "13\n",
      "17\n",
      "19\n",
      "23\n",
      "29\n",
      "31\n",
      "37\n",
      "41\n",
      "43\n",
      "47\n",
      "53\n",
      "59\n",
      "61\n",
      "67\n",
      "71\n",
      "73\n",
      "79\n",
      "83\n",
      "89\n",
      "97\n",
      "101\n",
      "103\n",
      "107\n",
      "109\n",
      "113\n",
      "127\n",
      "131\n",
      "137\n",
      "139\n",
      "149\n",
      "151\n",
      "157\n",
      "163\n",
      "167\n",
      "173\n",
      "179\n",
      "181\n",
      "191\n",
      "193\n",
      "197\n",
      "199\n",
      "211\n",
      "223\n",
      "227\n",
      "229\n"
     ]
    }
   ],
   "source": [
    "n = 50 # Number of primes to display\n",
    "number = 2 # First prime number\n",
    "count = 0 \n",
    "while count < n:\n",
    "    isPrime = True  \n",
    "\n",
    "    divisor = 2\n",
    "    while divisor * divisor <= number:\n",
    "        if number % divisor == 0:\n",
    "            isPrime = False \n",
    "            break \n",
    "        divisor += 1\n",
    "\n",
    "    if isPrime:\n",
    "        count += 1\n",
    "        print(number)\n",
    "        \n",
    "    number += 1"
   ]
  },
  {
   "cell_type": "markdown",
   "metadata": {},
   "source": [
    "## Question 8"
   ]
  },
  {
   "cell_type": "markdown",
   "metadata": {},
   "source": [
    "### 8.1 \n",
    "\n",
    "What is the output of the following code?\n",
    "\n",
    "```python\n",
    "i = 0\n",
    "def func(x):\n",
    "    i = 10\n",
    "    print(i, x)\n",
    "    \n",
    "func(5)\n",
    "```"
   ]
  },
  {
   "cell_type": "markdown",
   "metadata": {},
   "source": [
    "Output:\n",
    "10 5 "
   ]
  },
  {
   "cell_type": "markdown",
   "metadata": {},
   "source": [
    "What is the value of `i` after the above code is executed?"
   ]
  },
  {
   "cell_type": "markdown",
   "metadata": {},
   "source": [
    "value of i is 10"
   ]
  },
  {
   "cell_type": "markdown",
   "metadata": {},
   "source": [
    "### 8.2 \n",
    "\n",
    "What is the output of the following code?\n",
    "\n",
    "```python\n",
    "i = 8\n",
    "def func2():\n",
    "    i += 10\n",
    "    print(i)\n",
    "    \n",
    "func2()\n",
    "```"
   ]
  },
  {
   "cell_type": "markdown",
   "metadata": {},
   "source": [
    "Output: 18"
   ]
  },
  {
   "cell_type": "markdown",
   "metadata": {},
   "source": [
    "What is the value of `i` after the above code is executed?"
   ]
  },
  {
   "cell_type": "markdown",
   "metadata": {},
   "source": [
    "18"
   ]
  },
  {
   "cell_type": "markdown",
   "metadata": {},
   "source": [
    "### 8.3\n",
    "\n",
    "What will `j` be when printed in the code below?\n",
    "\n",
    "```python\n",
    "def func1(x):\n",
    "    j = 10\n",
    "    print(j, x)\n",
    "    \n",
    "def func2(x):\n",
    "    j = 5\n",
    "    func1(x)\n",
    "    print(x)\n",
    "    \n",
    "func2(3)\n",
    "print(j)\n",
    "```"
   ]
  },
  {
   "cell_type": "markdown",
   "metadata": {},
   "source": [
    "NameError: name 'j' is not defined"
   ]
  },
  {
   "cell_type": "markdown",
   "metadata": {},
   "source": [
    "### 8.4\n",
    "\n",
    "Now, we are going to create a `FortuneTeller` function that will print out a fortune depending on the value of the input given. Use the code comments below to help you complete this task.\n"
   ]
  },
  {
   "cell_type": "code",
   "execution_count": null,
   "metadata": {},
   "outputs": [],
   "source": [
    "# Let's pretend we are taking in user input. Make a variable `input` with the value 1.\n",
    "inputVal = 1\n",
    "\n",
    "# Function header that creates a function called `FortuneTeller` that takes no arguments.\n",
    "def FortuneTeller():\n",
    "    # Add a local variable to `FortuneTeller` called `input` that has the value 3.\n",
    "    inputval= 3\n",
    "    \n",
    "    # Add a conditional that checks when input is equal to 1. Print out \"You will be lucky\" if input equals 1.\n",
    "    if inputval == 1:\n",
    "        print('You will be lucky.')\n",
    "    \n",
    "    # Add a conditional that checks when input is equal to 2. Print out \"You will be unlucky\" if input equals 2.\n",
    "    if inputval == 2:\n",
    "        print('You will be unlucky.')\n",
    "    \n",
    "    # Add a conditional that checks when input is equal to 3. Print out \"You will get money\" if input equals 3.\n",
    "    \n",
    "    if inputval == 3:\n",
    "        print('You will get money.')\n",
    "    \n",
    "    # Add a conditional that checks when input is equal to 4. Print out \"You will lose money\" if input equals 4.\n",
    "    if inputval == 4:\n",
    "        print('You will lose money.')\n",
    "    \n",
    "    # Add a conditional that checks when input is equal to 5. Print out your own statement if input equals 5.\n",
    "    if inputval == 5:\n",
    "        print('Why travelling this long?')\n",
    "    \n",
    "\n",
    "# Call the FortuneTeller function and observe the output value\n",
    "FortuneTeller()\n",
    "    "
   ]
  },
  {
   "cell_type": "markdown",
   "metadata": {},
   "source": [
    "### 8.5\n",
    "\n",
    "What value did you get when you ran the code above? Was it the value you expected?"
   ]
  },
  {
   "cell_type": "markdown",
   "metadata": {},
   "source": [
    "Yes. The value printed is 3 since the global variable inputval is replaced by the local same variable name. "
   ]
  },
  {
   "cell_type": "markdown",
   "metadata": {},
   "source": [
    "### 8.6\n",
    "\n",
    "How can you change the code in 6.4 so that the output given is \"You will lose money\"?"
   ]
  },
  {
   "cell_type": "markdown",
   "metadata": {},
   "source": [
    "Assign the local variable inputval to 4. "
   ]
  },
  {
   "cell_type": "markdown",
   "metadata": {},
   "source": [
    "### 8.7\n",
    "\n",
    "In the code block below, what will be the output? Was it what you expected?\n",
    "\n",
    "```python\n",
    "i = 100\n",
    "for i in range(3):\n",
    "    print(i)\n",
    "```"
   ]
  },
  {
   "cell_type": "markdown",
   "metadata": {},
   "source": [
    "Output: 0 1 2 . Yes. Because I am reassigning the value of i every time I run the for loop. "
   ]
  },
  {
   "cell_type": "markdown",
   "metadata": {},
   "source": [
    "### 8.8\n",
    "\n",
    "Will (a) and (b) output the same thing? If not, explain why.\n",
    "\n",
    "(a) \n",
    "```python\n",
    "k = 0\n",
    "for i in range(3):\n",
    "    print(k)\n",
    "```\n",
    "\n",
    "(b)\n",
    "```python\n",
    "k = 0\n",
    "for i in range(3):\n",
    "    k = 6\n",
    "    print(k)\n",
    "```"
   ]
  },
  {
   "cell_type": "markdown",
   "metadata": {},
   "source": [
    "In (a) the output is 0 0 0. In (b) the output is 6 6 6 . The reason is in (b) the code is updating the value of k to 6.  "
   ]
  }
 ],
 "metadata": {
  "kernelspec": {
   "display_name": "Python 3 (ipykernel)",
   "language": "python",
   "name": "python3"
  },
  "language_info": {
   "codemirror_mode": {
    "name": "ipython",
    "version": 3
   },
   "file_extension": ".py",
   "mimetype": "text/x-python",
   "name": "python",
   "nbconvert_exporter": "python",
   "pygments_lexer": "ipython3",
   "version": "3.10.10"
  }
 },
 "nbformat": 4,
 "nbformat_minor": 2
}
