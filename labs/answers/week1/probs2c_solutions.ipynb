{
 "cells": [
  {
   "cell_type": "markdown",
   "metadata": {},
   "source": [
    "# Lecture 2, Part 2 Advanced Exercises \n",
    "\n",
    "* Owner - Getu \n",
    "* Reviewer - Hawi and Stephen "
   ]
  },
  {
   "cell_type": "markdown",
   "metadata": {},
   "source": [
    "## Question 12"
   ]
  },
  {
   "cell_type": "markdown",
   "metadata": {},
   "source": [
    "### 12.1"
   ]
  },
  {
   "cell_type": "markdown",
   "metadata": {},
   "source": [
    "Write a function called `invertBool(l)` that takes in a list of lists called `l`, and returns a list of lists that represents all the booleans in the matrix, inverted. \n",
    "\n",
    "For example: \n",
    "\n",
    "`invertBool([[True, False, True],\n",
    "  [False, True, True],  \n",
    "  [False, False, False]])`\n",
    "  \n",
    "  Should return:\n",
    "\n",
    "`[[False, True, False],\n",
    "  [True, False, False],  \n",
    "  [True, True, True]]` "
   ]
  },
  {
   "cell_type": "code",
   "execution_count": 5,
   "metadata": {},
   "outputs": [
    {
     "data": {
      "text/plain": [
       "[[False, True, False], [True, False, False], [True, True, True]]"
      ]
     },
     "execution_count": 5,
     "metadata": {},
     "output_type": "execute_result"
    }
   ],
   "source": [
    "# write code here \n",
    "def invertBool(l):\n",
    "    inverted_list = []\n",
    "    for i in l:\n",
    "        inverted_list.append([not x for x in i ] ) #use the concept of list compression\n",
    "    return inverted_list\n",
    "\n",
    "\n",
    "invertBool([[True, False, True],\n",
    "  [False, True, True],  \n",
    "  [False, False, False]])\n",
    "        \n",
    "            \n"
   ]
  },
  {
   "cell_type": "markdown",
   "metadata": {},
   "source": [
    "#### Challenge: Can you do the above problem without using list compression?"
   ]
  },
  {
   "cell_type": "code",
   "execution_count": 14,
   "metadata": {},
   "outputs": [
    {
     "data": {
      "text/plain": [
       "[[False, True, False], [True, False, False], [True, True, True]]"
      ]
     },
     "execution_count": 14,
     "metadata": {},
     "output_type": "execute_result"
    }
   ],
   "source": [
    "def invertBool(l):\n",
    "    new_list=[]\n",
    "    new_list_1=[]\n",
    "    for i in l:\n",
    "        for j in i:\n",
    "            new_list.append(not j)\n",
    "        new_list_1.append(new_list)\n",
    "        new_list=[]\n",
    "    return new_list_1\n",
    "\n",
    "invertBool([[True, False, True],\n",
    "  [False, True, True],  \n",
    "  [False, False, False]])\n",
    "        "
   ]
  },
  {
   "cell_type": "markdown",
   "metadata": {},
   "source": [
    "Run the following cell to test your `invertBool(l)` function. "
   ]
  },
  {
   "cell_type": "code",
   "execution_count": 6,
   "metadata": {},
   "outputs": [
    {
     "data": {
      "text/plain": [
       "'All Tests Passed!'"
      ]
     },
     "execution_count": 6,
     "metadata": {},
     "output_type": "execute_result"
    }
   ],
   "source": [
    "def test(): \n",
    "    lsts = [[[True, False, True, True],\n",
    "            [False, False, False, True],\n",
    "            [True, True, True, True],\n",
    "            [False, True, False, True]],\n",
    "            \n",
    "            [[False, True, False],\n",
    "             [True, True, True],\n",
    "             [False, False, False]]]\n",
    "    ans = [[[False, True, False, False],\n",
    "            [True, True, True, False],\n",
    "            [False, False, False, False],\n",
    "            [True, False, True, False]],\n",
    "            \n",
    "            [[True, False, True],\n",
    "             [False, False, False],\n",
    "             [True, True, True]]]\n",
    "    \n",
    "    for i in range(2):\n",
    "        if invertBool(lsts[i]) != ans[i]: \n",
    "            return \"Test Failed :'(\"\n",
    "    return \"All Tests Passed!\"\n",
    "\n",
    "test()"
   ]
  },
  {
   "cell_type": "markdown",
   "metadata": {},
   "source": [
    "### 12.2"
   ]
  },
  {
   "cell_type": "markdown",
   "metadata": {},
   "source": [
    "Write a function called `diagProd(l)` that takes in a list of integer or float lists where each nested list is the same length. The function should return the product of a matrix's diagonal. You may assume the list is non-empty. \n",
    "\n",
    "For example: \n",
    "\n",
    "`diagProd(` <br/>\n",
    "`[[12, 5, 3],\n",
    "[2, 1, 3],  \n",
    "[35, 23, 2]]` )\n",
    "  \n",
    "  will return `24`. "
   ]
  },
  {
   "cell_type": "code",
   "execution_count": 20,
   "metadata": {},
   "outputs": [],
   "source": [
    "# Write your function here\n",
    "def diagProd(l):\n",
    "    pro=1\n",
    "    pr=[]\n",
    "    for i in range(len(l)):\n",
    "        pro=pro*l[i][i]\n",
    "        pr.append(pro)\n",
    "    return pro\n",
    "\n",
    "diagProd( \n",
    "[[12, 5, 3],\n",
    "[2, 1, 3],  \n",
    "[35, 23, 2]] )\n",
    "\n",
    "lst = [\n",
    "           [[12, 5, 3],\n",
    "            [2, 1, 3],  \n",
    "            [35, 23, 2]], \n",
    "           [[54, 345, 23, 25],\n",
    "            [135, 43, 3, 5],\n",
    "            [75, 46, 63, 15],\n",
    "            [16, 10, 9, 2]],\n",
    "            [[1]], \n",
    "            [[2, 4],\n",
    "             [4, 2]]\n",
    "          ]\n",
    "\n",
    "for i in range(len(lst)):\n",
    "        print(diagProd(lst[i]))\n",
    "\n"
   ]
  },
  {
   "cell_type": "markdown",
   "metadata": {},
   "source": [
    "Run the following cell to test your `diagProd(l)` function. "
   ]
  },
  {
   "cell_type": "code",
   "execution_count": 21,
   "metadata": {},
   "outputs": [
    {
     "data": {
      "text/plain": [
       "'All Tests Passed!'"
      ]
     },
     "execution_count": 21,
     "metadata": {},
     "output_type": "execute_result"
    }
   ],
   "source": [
    "def test(): \n",
    "    lst = [\n",
    "           [[12, 5, 3],\n",
    "            [2, 1, 3],  \n",
    "            [35, 23, 2]], \n",
    "           [[54, 345, 23, 25],\n",
    "            [135, 43, 3, 5],\n",
    "            [75, 46, 63, 15],\n",
    "            [16, 10, 9, 2]],\n",
    "            [[1]], \n",
    "            [[2, 4],\n",
    "             [4, 2]]\n",
    "          ]\n",
    "    ans = [24,292572, 1, 4]\n",
    "    for i in range(2):\n",
    "        if diagProd(lst[i]) != ans[i]: \n",
    "            return \"Test Failed :'(\"\n",
    "    return \"All Tests Passed!\"\n",
    "\n",
    "test()"
   ]
  },
  {
   "cell_type": "markdown",
   "metadata": {},
   "source": [
    "### 12.3"
   ]
  },
  {
   "cell_type": "markdown",
   "metadata": {},
   "source": [
    "Write a function called `symmetric(l)` that takes in a list of integer lists called `l`, and returns `True` if the boolean is symmetrical and `False` if the matrix is not symmetrical. Recall: A matrix is symmetrical if and only if it is still the same matrix when the ith columm becomes the ith row.\n",
    "\n",
    "_Hint: You can do this without looking at the elements more than once._\n",
    "\n",
    "For example: \n",
    "\n",
    "`symmetric(` <br/>\n",
    "`[[12, 5, 3],\n",
    "[2, 1, 3],  \n",
    "[35, 23, 2]] )` will return `False`. \n",
    "\n",
    "`symmetric(` <br/>\n",
    "`[[1, 4, 5],\n",
    "[4, 2, 6],  \n",
    "[5, 6, 3]] )` will return `True`. "
   ]
  },
  {
   "cell_type": "code",
   "execution_count": 34,
   "metadata": {},
   "outputs": [],
   "source": [
    "# Write your code here\n",
    "def symmetric(l):\n",
    "    h = len(l) \n",
    "    m = len(l[0])\n",
    "    for i in range(h):\n",
    "        for j in range(m): \n",
    "            if l[i][j] != l[j][i]: \n",
    "                return False\n",
    "\n",
    "    return True"
   ]
  },
  {
   "cell_type": "markdown",
   "metadata": {},
   "source": [
    "Run the following cell to test your `symmetric(l)` function. "
   ]
  },
  {
   "cell_type": "code",
   "execution_count": 33,
   "metadata": {},
   "outputs": [
    {
     "data": {
      "text/plain": [
       "'All Test Cases Passed!'"
      ]
     },
     "execution_count": 33,
     "metadata": {},
     "output_type": "execute_result"
    }
   ],
   "source": [
    "def test(): \n",
    "    lst = [[[12, 5, 3],\n",
    "            [2, 1, 3],  \n",
    "            [35, 23, 2]],\n",
    "           \n",
    "            [[1, 4, 5],\n",
    "            [4, 2, 6],  \n",
    "            [5, 6, 3]], \n",
    "           \n",
    "            [[2, 4], \n",
    "             [4, 2]],\n",
    "           \n",
    "           [[54, 345, 23, 25],\n",
    "            [135, 43, 3, 5],\n",
    "            [75, 46, 63, 15],\n",
    "            [16, 10, 9, 2]]\n",
    "          ]\n",
    "    ans = [False, True, True, False]\n",
    "    \n",
    "    for i in range(4):\n",
    "        if symmetric(lst[i]) != ans[i]:\n",
    "            return f'Test Case #{i +1} Failed'\n",
    "    return \"All Test Cases Passed!\"\n",
    "\n",
    "test()"
   ]
  },
  {
   "cell_type": "markdown",
   "metadata": {},
   "source": [
    "## Question 13"
   ]
  },
  {
   "cell_type": "markdown",
   "metadata": {},
   "source": [
    "### 13.1"
   ]
  },
  {
   "cell_type": "markdown",
   "metadata": {},
   "source": [
    "Write the function `advancedCheckered(x)` that takes in an integer `s` and prints a `s` by `s` checkerboard that alternates between hashtags and percent signs on odd lines and percent signs and hashtags on even lines. \n",
    "\n",
    "For example: \n",
    "\n",
    "```python\n",
    "advancedCheckered(4) → \n",
    "#%#%\n",
    "%#%#\n",
    "#%#%\n",
    "%#%#\n",
    "```"
   ]
  },
  {
   "cell_type": "code",
   "execution_count": 12,
   "metadata": {},
   "outputs": [
    {
     "name": "stdout",
     "output_type": "stream",
     "text": [
      "#%#%\n",
      "%#%#\n",
      "#%#%\n",
      "%#%#\n"
     ]
    }
   ],
   "source": [
    "# Write code here\n",
    "def advancedcheckered(x):\n",
    "    for i in range(x):\n",
    "        if i % 2 == 0:\n",
    "            print('#%'*(x//2))\n",
    "        else:\n",
    "            print('%#'*(x//2))\n",
    "advancedcheckered(4)\n"
   ]
  },
  {
   "cell_type": "markdown",
   "metadata": {},
   "source": [
    "#### Challenge: Solve the above problem 13 in a different way. "
   ]
  },
  {
   "cell_type": "code",
   "execution_count": 15,
   "metadata": {},
   "outputs": [
    {
     "name": "stdout",
     "output_type": "stream",
     "text": [
      "#%#%\n",
      "#%#%\n",
      "#%#%\n",
      "#%#%\n"
     ]
    }
   ],
   "source": [
    "# Write code here\n",
    "def advancedCheckered(n):\n",
    "    k=['#','%']\n",
    "    l=0\n",
    "    for i in range(n):\n",
    "        for j in range(n):\n",
    "            print(k[l],end='')\n",
    "            k=k[::-1]\n",
    "        print('\\n',end='')\n",
    "advancedCheckered(4)"
   ]
  },
  {
   "cell_type": "markdown",
   "metadata": {},
   "source": [
    "## Question 14"
   ]
  },
  {
   "cell_type": "markdown",
   "metadata": {},
   "source": [
    "### 14.1"
   ]
  },
  {
   "cell_type": "markdown",
   "metadata": {},
   "source": [
    "An image is usually represented as a 2D array, but let's say we only have access to a 1D array. Is there a way that we can represent a 2D array using a 1D array? Here's a picture that describes how we can store an image as a 1D array. \n",
    "\n",
    "\n",
    "<img src = \"2D.png\" width = \"800px\">\n",
    "<img src = \"1D.png\" width = \"800px\">\n",
    "\n",
    "Write a function called `getPixel(lst, h, w, i, j)` where `lst` is a 1D array, `h` is the height of the image, `w` is the width of image, `i` is the row that the pixel is on, and `j` is the column that the pixel is on. Then, this function will return the value that the pixel holds. "
   ]
  },
  {
   "cell_type": "code",
   "execution_count": 17,
   "metadata": {},
   "outputs": [
    {
     "data": {
      "text/plain": [
       "([34, 234, 23, 255, 98, 23, 155, 87], 2, 4)"
      ]
     },
     "execution_count": 17,
     "metadata": {},
     "output_type": "execute_result"
    }
   ],
   "source": [
    "def getPixel(lst, h, w, i, j):\n",
    "    oneD_list=[]\n",
    "    for i in lst:\n",
    "        for j in i:\n",
    "            oneD_list.append(j)\n",
    "    return (oneD_list,h,w)\n",
    "getPixel([[34, 234, 23, 255], [98, 23, 155, 87]], 2, 4, 2, 4)\n",
    "        \n",
    "    "
   ]
  },
  {
   "cell_type": "markdown",
   "metadata": {},
   "source": [
    "### 14.2"
   ]
  },
  {
   "cell_type": "markdown",
   "metadata": {},
   "source": [
    "Write a function called `1Dto2D` that takes in a list of integer pixels `lst`, height `h`, and width `w` and returns the 2D array representation of the image.\n",
    "\n",
    "For example: \n",
    "\n",
    "```python \n",
    "1Dto2D([34, 234, 23, 255, 98, 23, 155, 87], 2, 4) → \n",
    "[[34, 234, 23, 255],\n",
    "  [98, 23, 155, 87]]\n",
    "```"
   ]
  },
  {
   "cell_type": "code",
   "execution_count": 21,
   "metadata": {},
   "outputs": [
    {
     "data": {
      "text/plain": [
       "[[34, 234, 23, 255], [98, 23, 155, 87]]"
      ]
     },
     "execution_count": 21,
     "metadata": {},
     "output_type": "execute_result"
    }
   ],
   "source": [
    "def oneDto2D(lst, h, w):\n",
    "    twoD_list=[]\n",
    "    for i in range(h):\n",
    "        twoD_list.append(lst[:w])\n",
    "        lst=lst[w:]\n",
    "    return twoD_list\n",
    "oneDto2D([34, 234, 23, 255, 98, 23, 155, 87], 2, 4)\n",
    "    "
   ]
  }
 ],
 "metadata": {
  "kernelspec": {
   "display_name": "Python 3",
   "language": "python",
   "name": "python3"
  },
  "language_info": {
   "codemirror_mode": {
    "name": "ipython",
    "version": 3
   },
   "file_extension": ".py",
   "mimetype": "text/x-python",
   "name": "python",
   "nbconvert_exporter": "python",
   "pygments_lexer": "ipython3",
   "version": "3.7.3"
  }
 },
 "nbformat": 4,
 "nbformat_minor": 2
}
