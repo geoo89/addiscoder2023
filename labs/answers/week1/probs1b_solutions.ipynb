{
 "cells": [
  {
   "cell_type": "markdown",
   "metadata": {},
   "source": [
    "# Extra exercices for lecture One"
   ]
  },
  {
   "cell_type": "markdown",
   "metadata": {},
   "source": [
    "## Question 11"
   ]
  },
  {
   "cell_type": "markdown",
   "metadata": {},
   "source": [
    "### 11.0\n",
    "\n",
    "The exponentiation operator in python is `**`. You might have seen the `^` character on your calculator. They do the same thing. <br/>\n",
    "For example : <br/>\n",
    "`2**2 = 4` <br/>\n",
    "`3**3 = 27` <br/>\n",
    "`25**0.5 = 5` <br/>\n",
    "\n",
    "Compute $2^{10}$:"
   ]
  },
  {
   "cell_type": "code",
   "execution_count": 1,
   "metadata": {},
   "outputs": [
    {
     "data": {
      "text/plain": [
       "1024"
      ]
     },
     "execution_count": 1,
     "metadata": {},
     "output_type": "execute_result"
    }
   ],
   "source": [
    "2**10 #** donotes the exponentiation. "
   ]
  },
  {
   "cell_type": "markdown",
   "metadata": {},
   "source": [
    "### 11.1\n",
    "\n",
    "Write a function `kthDigit` that takes two integer arguments `n` and `k` and returns the k-th digit of  `n` ? <br/>\n",
    "For example :<br/>\n",
    "`kthDigit(567, 2)` should return `6` <br/>\n",
    "`kthDigit(324877, 5)` should return `2` <br/>\n",
    "`kthDigit(235468, 1)` should return `8` <br/>"
   ]
  },
  {
   "cell_type": "code",
   "execution_count": 5,
   "metadata": {},
   "outputs": [
    {
     "data": {
      "text/plain": [
       "8"
      ]
     },
     "execution_count": 5,
     "metadata": {},
     "output_type": "execute_result"
    }
   ],
   "source": [
    "def kthDigit(n,k):\n",
    "    return int(str(n)[-k]) #accessing the -kth element of the string and convert it to int. \n",
    "kthDigit(235468, 1) #call the function"
   ]
  },
  {
   "cell_type": "markdown",
   "metadata": {},
   "source": [
    "### 11.2\n",
    "\n",
    "Write a function `kEdit` that takes three integer arguments `n`, `k`, and `e` with $0 \\leq e \\leq 9$ that replaces the `k`-th digit of `n` with `e`. <br/>\n",
    "\n",
    "Examples : <br/>\n",
    "\n",
    "`kEdit(1234, 2, 0)` should return `1204` <br/>\n",
    "`kEdit(34578, 3, 1)` should return `34178` <br/>"
   ]
  },
  {
   "cell_type": "code",
   "execution_count": 8,
   "metadata": {},
   "outputs": [
    {
     "name": "stdout",
     "output_type": "stream",
     "text": [
      "34178\n",
      "111311\n"
     ]
    }
   ],
   "source": [
    "def kEdit(n,k,e):\n",
    "    n = list(str(n))\n",
    "    n[-k] = str(e)\n",
    "    return ''.join(n)\n",
    "#     return int(str(n).replace(str(n)[-k],str(e))) #use replace method to replace the kth digit by the value of e.\n",
    "\n",
    "print(kEdit(34578, 3, 1))\n",
    "print(kEdit(111111, 3, 3))"
   ]
  },
  {
   "cell_type": "markdown",
   "metadata": {},
   "source": [
    "### 11.3"
   ]
  },
  {
   "cell_type": "markdown",
   "metadata": {},
   "source": [
    "An RGB value is three colors that combine to make up one color. Write a function `rgbconvert` that takes in a 9 digit integer `n`, and returns 3 integers that represents each RGB value. \n",
    "\n",
    "Examples: \n",
    "\n",
    "`rgbconvert(255255255)` => 255, 255, 255\n",
    "\n",
    "`rgbconvert(132234075)` => 132, 234, 75"
   ]
  },
  {
   "cell_type": "code",
   "execution_count": 3,
   "metadata": {},
   "outputs": [
    {
     "data": {
      "text/plain": [
       "[132, 234, 75]"
      ]
     },
     "execution_count": 3,
     "metadata": {},
     "output_type": "execute_result"
    }
   ],
   "source": [
    "def rgbconvert(x):\n",
    "    x=str(x)\n",
    "    return [int(x[:3]),int(x[3:6]),int(x[6:9])] #convert the result to a list containing the values of R, G, B\n",
    "        \n",
    "rgbconvert(132234075) "
   ]
  },
  {
   "cell_type": "markdown",
   "metadata": {},
   "source": [
    "## 12"
   ]
  },
  {
   "cell_type": "markdown",
   "metadata": {},
   "source": [
    "### 12.1"
   ]
  },
  {
   "cell_type": "markdown",
   "metadata": {},
   "source": [
    "Given this code:\n",
    "```\n",
    "x = 12\n",
    "y = 5\n",
    "z = y\n",
    "y = 12\n",
    "x = 1\n",
    "z = x + y + z\n",
    "```\n",
    "what is the value of z? Verify your solution by running the code above."
   ]
  },
  {
   "cell_type": "code",
   "execution_count": 12,
   "metadata": {},
   "outputs": [
    {
     "name": "stdout",
     "output_type": "stream",
     "text": [
      "18\n"
     ]
    }
   ],
   "source": [
    "x = 12\n",
    "y = 5\n",
    "z = y\n",
    "y = 12\n",
    "x = 1\n",
    "z = x + y + z\n",
    "print(z) #18"
   ]
  },
  {
   "cell_type": "markdown",
   "metadata": {},
   "source": [
    "### 12.2"
   ]
  },
  {
   "cell_type": "markdown",
   "metadata": {},
   "source": [
    "Given this code:\n",
    "```\n",
    "z = 5 * (12 % 1) / 18\n",
    "x = 23 - 14\n",
    "y = x * z\n",
    "z = 2 * x\n",
    "```\n",
    "what is the value of z? Verify your solution by running the code above."
   ]
  },
  {
   "cell_type": "code",
   "execution_count": 13,
   "metadata": {},
   "outputs": [
    {
     "name": "stdout",
     "output_type": "stream",
     "text": [
      "18\n"
     ]
    }
   ],
   "source": [
    "z = 5 * (12 % 1) / 18\n",
    "x = 23 - 14\n",
    "y = x * z\n",
    "z = 2 * x\n",
    "print(z) #18"
   ]
  },
  {
   "cell_type": "markdown",
   "metadata": {},
   "source": [
    "### 12.3"
   ]
  },
  {
   "cell_type": "markdown",
   "metadata": {},
   "source": [
    "Given this code:\n",
    "```\n",
    "d = 1\n",
    "c = d\n",
    "b = c\n",
    "a = b\n",
    "```\n",
    "what is the value of a? Verify your solution by running the code above."
   ]
  },
  {
   "cell_type": "code",
   "execution_count": 14,
   "metadata": {},
   "outputs": [
    {
     "name": "stdout",
     "output_type": "stream",
     "text": [
      "1\n"
     ]
    }
   ],
   "source": [
    "d = 1\n",
    "c = d\n",
    "b = c\n",
    "a = b\n",
    "print(b) #1"
   ]
  }
 ],
 "metadata": {
  "kernelspec": {
   "display_name": "Python 3 (ipykernel)",
   "language": "python",
   "name": "python3"
  },
  "language_info": {
   "codemirror_mode": {
    "name": "ipython",
    "version": 3
   },
   "file_extension": ".py",
   "mimetype": "text/x-python",
   "name": "python",
   "nbconvert_exporter": "python",
   "pygments_lexer": "ipython3",
   "version": "3.9.7"
  }
 },
 "nbformat": 4,
 "nbformat_minor": 2
}
