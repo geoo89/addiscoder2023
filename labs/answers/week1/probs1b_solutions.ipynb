{
 "cells": [
  {
   "cell_type": "markdown",
   "metadata": {
    "colab_type": "text",
    "id": "_b-Jnw2b5lWR"
   },
   "source": [
    "# Lecture 1, Part 2 Exercises"
   ]
  },
  {
   "cell_type": "markdown",
   "metadata": {
    "colab_type": "text",
    "id": "YsIWqaiE5lWT"
   },
   "source": [
    "## Question 1\n",
    "_Use code for exercises 1.1-1.3_"
   ]
  },
  {
   "cell_type": "markdown",
   "metadata": {
    "colab_type": "text",
    "id": "FIabjo5B5lWV"
   },
   "source": [
    "### 1.1 \n",
    "Use function _print_ to print ```\"Daniel\"```. On a new line, print his occupation - ```\"Lecturer\"```. Finish by printing another new line with his favorite TAs - ```\"Jessica\"```, ```\"Jess\"``` and ```\"Jessica Lee\"```.\n"
   ]
  },
  {
   "cell_type": "code",
   "execution_count": 0,
   "metadata": {
    "colab": {},
    "colab_type": "code",
    "id": "b_Txrn1C5lWW",
    "outputId": "7f62fbbc-fefe-49f7-ef96-050f7c7e729c"
   },
   "outputs": [
    {
     "name": "stdout",
     "output_type": "stream",
     "text": [
      "Daniel\n",
      "Lecturer\n",
      "Jessica Jess and Jessica Lee\n"
     ]
    }
   ],
   "source": [
    "print(\"Daniel\")\n",
    "print(\"Lecturer\")\n",
    "print(\"Jessica\",\"Jess\",\"and\",\"Jessica Lee\")\n"
   ]
  },
  {
   "cell_type": "markdown",
   "metadata": {
    "colab_type": "text",
    "id": "BbZCYydl5lWe"
   },
   "source": [
    "### 1.2 \n",
    "Given the code below, print ```x```, ```y```, and ```z``` on three different lines."
   ]
  },
  {
   "cell_type": "code",
   "execution_count": 0,
   "metadata": {
    "colab": {},
    "colab_type": "code",
    "id": "_uAoaFmc5lWf",
    "outputId": "bad56c0f-a5c1-491d-8361-be370d0b036e"
   },
   "outputs": [
    {
     "name": "stdout",
     "output_type": "stream",
     "text": [
      "17\n",
      "19\n",
      "42\n"
     ]
    }
   ],
   "source": [
    "x = 17\n",
    "y = 19\n",
    "z = 42\n",
    "print(x)\n",
    "print(y)\n",
    "print(z)\n"
   ]
  },
  {
   "cell_type": "markdown",
   "metadata": {
    "colab_type": "text",
    "id": "Pwq0oLto5lWj"
   },
   "source": [
    "### 1.3 \n",
    "Given the code below, print ```u```, ```v```, and ```w``` on the same line."
   ]
  },
  {
   "cell_type": "code",
   "execution_count": 0,
   "metadata": {
    "colab": {},
    "colab_type": "code",
    "id": "2ZkTnnzQ5lWk",
    "outputId": "b19255d7-4663-493c-b3a8-da8573504f6a"
   },
   "outputs": [
    {
     "name": "stdout",
     "output_type": "stream",
     "text": [
      "[3, 5, 8] True 3.14\n"
     ]
    }
   ],
   "source": [
    "u = [3, 5, 8]\n",
    "v = True\n",
    "w = 3.14\n",
    "print(u,v,w)"
   ]
  },
  {
   "cell_type": "markdown",
   "metadata": {
    "colab_type": "text",
    "id": "uj0fPUxq5lWo"
   },
   "source": [
    "## Question 2 \n",
    "_Use code for exercises 2.1-2.3_"
   ]
  },
  {
   "cell_type": "markdown",
   "metadata": {
    "colab_type": "text",
    "id": "5vM1kxVG5lWp"
   },
   "source": [
    "### 2.1 \n",
    "Given the list ```list1```, print the first element. "
   ]
  },
  {
   "cell_type": "code",
   "execution_count": 0,
   "metadata": {
    "colab": {},
    "colab_type": "code",
    "id": "Lsp-Xdzk5lWq",
    "outputId": "51190809-34b0-4217-eab0-9a290e5396cd"
   },
   "outputs": [
    {
     "name": "stdout",
     "output_type": "stream",
     "text": [
      "coder\n"
     ]
    }
   ],
   "source": [
    "list1 = [\"coder\", 2018, \"addis\"]\n",
    "print(list1[0])"
   ]
  },
  {
   "cell_type": "markdown",
   "metadata": {
    "colab_type": "text",
    "id": "3S-0jBAg5lWt"
   },
   "source": [
    "### 2.2 \n",
    "Given the list ```list2```, print the last element in two ways. "
   ]
  },
  {
   "cell_type": "code",
   "execution_count": 0,
   "metadata": {
    "colab": {},
    "colab_type": "code",
    "id": "BhZUIt4U5lWu",
    "outputId": "dcebcbe6-e4a4-4e84-df63-1aed1de4911e"
   },
   "outputs": [
    {
     "name": "stdout",
     "output_type": "stream",
     "text": [
      "starfruit\n",
      "starfruit\n"
     ]
    }
   ],
   "source": [
    "list2 = ['apple', 'orange', 'banana', 'pear', 'dragonfruit', 'lychee', 'starfruit']\n",
    "print(list2[6])\n",
    "print(list2[-1])"
   ]
  },
  {
   "cell_type": "markdown",
   "metadata": {
    "colab_type": "text",
    "id": "T7kJaFVj5lWz"
   },
   "source": [
    "### 2.3 \n",
    "Given ```list3```, print the 5th through 8th indexed elements \n",
    "\n",
    "_Hint: You should be printing 4 elements_"
   ]
  },
  {
   "cell_type": "code",
   "execution_count": 0,
   "metadata": {
    "colab": {},
    "colab_type": "code",
    "id": "_OacnrFJ5lW0",
    "outputId": "6eedba78-a4f9-4914-f8fd-4e3920a4c39b"
   },
   "outputs": [
    {
     "name": "stdout",
     "output_type": "stream",
     "text": [
      "[False, True, True, True]\n"
     ]
    }
   ],
   "source": [
    "list3 = [True, False, True, True, True, False, True, True, True, False]\n",
    "         \n",
    "print(list3[5:9])\n",
    "\n"
   ]
  },
  {
   "cell_type": "markdown",
   "metadata": {
    "colab_type": "text",
    "id": "NXhcWnVf5lW4"
   },
   "source": [
    "### 2.4 \n",
    "Given ```list4``` print the last 5 elements in two ways. "
   ]
  },
  {
   "cell_type": "code",
   "execution_count": 0,
   "metadata": {
    "colab": {},
    "colab_type": "code",
    "id": "1vefIqWm5lW5",
    "outputId": "4421ccc5-fcf4-4d56-fa5c-1c0c355bd1b7"
   },
   "outputs": [
    {
     "name": "stdout",
     "output_type": "stream",
     "text": [
      "21 34 55 89 144\n",
      "21 34 55 89 144\n"
     ]
    }
   ],
   "source": [
    "list4 = [1, 1, 2, 3, 5, 8, 13, 21, 34, 55, 89, 144]\n",
    "print(list4[-5],list4[-4],list4[-3],list4[-2],list4[-1])\n",
    "print(list4[7],list4[8],list4[9],list4[10],list4[11])"
   ]
  },
  {
   "cell_type": "markdown",
   "metadata": {
    "colab_type": "text",
    "id": "alPCa7yJ5lW8"
   },
   "source": [
    "### 2.5 \n",
    "Given ```list5```, create the list ```[4,3,\"hello world\", \"Jelani\"]``` using one line of code. How do you know you've succeeded? \n",
    "\n",
    "_Hint: print out the list to check_"
   ]
  },
  {
   "cell_type": "code",
   "execution_count": 0,
   "metadata": {
    "colab": {},
    "colab_type": "code",
    "id": "3EZzqd515lW9",
    "outputId": "35524eca-8845-48e3-a466-47efa762cf6f"
   },
   "outputs": [
    {
     "name": "stdout",
     "output_type": "stream",
     "text": [
      "[4, 3, 'hello world', 7, 'Jelani']\n"
     ]
    }
   ],
   "source": [
    "list5 = [4, 3, 7, 'Jelani']\n",
    "list5.insert(2,\"hello world\")\n",
    "print(list5)"
   ]
  },
  {
   "cell_type": "markdown",
   "metadata": {
    "colab_type": "text",
    "id": "QGfAmgSc5lXA"
   },
   "source": [
    "### 2.6 \n",
    "Given ```str1```, create the string ```cat``` by using slicing."
   ]
  },
  {
   "cell_type": "code",
   "execution_count": 0,
   "metadata": {
    "colab": {},
    "colab_type": "code",
    "id": "VYq4lXsS5lXB",
    "outputId": "4bc655ad-f4f2-4109-fe55-b9febf0b29ba"
   },
   "outputs": [
    {
     "name": "stdout",
     "output_type": "stream",
     "text": [
      "cat\n"
     ]
    }
   ],
   "source": [
    "str1 = \"caterpillar\"\n",
    "print(str1[0:3])  # modify this line"
   ]
  },
  {
   "cell_type": "markdown",
   "metadata": {
    "colab_type": "text",
    "id": "12wbTmqf5lXE"
   },
   "source": [
    "## Question 3"
   ]
  },
  {
   "cell_type": "markdown",
   "metadata": {
    "colab_type": "text",
    "id": "J6fyHXD55lXF"
   },
   "source": [
    "### 3.1 \n",
    "Try executing the code below. Can you change the output by changing only 1 character (there may be multiple solutions)?"
   ]
  },
  {
   "cell_type": "code",
   "execution_count": 0,
   "metadata": {
    "colab": {},
    "colab_type": "code",
    "id": "86zwtbMZ5lXG",
    "outputId": "2cf50bb7-d4ea-4fd1-e766-31fb61dd55c6"
   },
   "outputs": [
    {
     "name": "stdout",
     "output_type": "stream",
     "text": [
      "True\n"
     ]
    }
   ],
   "source": [
    "x = 42\n",
    "y = 111\n",
    "print(x < y)"
   ]
  },
  {
   "cell_type": "markdown",
   "metadata": {
    "colab_type": "text",
    "id": "16rUoZ7L5lXJ"
   },
   "source": [
    "Yes we can change th output. \n",
    "\n",
    "x = 423\n",
    "y = 111\n",
    "\n",
    "print(x < y). \n",
    "\n",
    "\n"
   ]
  },
  {
   "cell_type": "markdown",
   "metadata": {
    "colab_type": "text",
    "id": "ap3B92ET5lXK"
   },
   "source": [
    "### 3.2 \n",
    "What is different in the case below? "
   ]
  },
  {
   "cell_type": "markdown",
   "metadata": {
    "colab_type": "text",
    "id": "k8A9wD-Y5lXK"
   },
   "source": [
    "```\n",
    "x = \"42\"\n",
    "y = \"111\"\n",
    "print(x < y)\n",
    "```"
   ]
  },
  {
   "cell_type": "markdown",
   "metadata": {
    "colab_type": "text",
    "id": "IsT4YDiy5lXL"
   },
   "source": [
    "the main difference between 3.1 and 3.2 is the type of the variables 'x' and 'y'. In 3.1 it is int in 3.2 it is string.  "
   ]
  },
  {
   "cell_type": "markdown",
   "metadata": {
    "colab_type": "text",
    "id": "auUuQaKS5lXM"
   },
   "source": [
    "### 3.3 \n",
    "Construct an 4 digit number and a 5 digit number such that the 4 digit number is greater than the 5 digit number when they are of type string. "
   ]
  },
  {
   "cell_type": "code",
   "execution_count": 0,
   "metadata": {
    "colab": {},
    "colab_type": "code",
    "id": "RuNrf1Nl5lXO",
    "outputId": "38439c01-9ac1-427f-b742-72144138e925"
   },
   "outputs": [
    {
     "name": "stdout",
     "output_type": "stream",
     "text": [
      "True\n"
     ]
    }
   ],
   "source": [
    "x = '5678'\n",
    "y = '34555'\n",
    "print(x > y)"
   ]
  },
  {
   "cell_type": "markdown",
   "metadata": {
    "colab_type": "text",
    "id": "89rnk50X5lXR"
   },
   "source": [
    "### 3.4 \n",
    "What would be the result of the following operations?\n",
    "\n",
    "\n",
    "```\n",
    "'A' == 'a' \n",
    "'Brunch'< 'banana' \n",
    "'coffee' < 'Coffee' \n",
    "'Dog' > 'cat'\n",
    "'Daniel' != 'daniel'\n",
    "'jessica' > 'jess'\n",
    "'CORINA' < 'CORONA'\n",
    "```"
   ]
  },
  {
   "cell_type": "code",
   "execution_count": 0,
   "metadata": {
    "colab": {},
    "colab_type": "code",
    "id": "ux3bh-1B5lXT",
    "outputId": "da66b4cb-81de-44fe-e1b5-ef50c0395c56"
   },
   "outputs": [
    {
     "name": "stdout",
     "output_type": "stream",
     "text": [
      "False\n",
      "True\n",
      "False\n",
      "False\n",
      "True\n",
      "True\n",
      "True\n"
     ]
    }
   ],
   "source": [
    "print('A' == 'a' )\n",
    "print('Brunch'< 'banana' )\n",
    "print('coffee' < 'Coffee') \n",
    "print('Dog' > 'cat')\n",
    "print('Daniel' != 'daniel')\n",
    "print('jessica' > 'jess')\n",
    "print('CORINA' < 'CORONA')"
   ]
  },
  {
   "cell_type": "markdown",
   "metadata": {
    "colab_type": "text",
    "id": "ValjtIJ35lXY"
   },
   "source": [
    "### 3.5 \n",
    "Check your answer in the box below. Can you figure out the rules for string comparisons?"
   ]
  },
  {
   "cell_type": "code",
   "execution_count": 0,
   "metadata": {
    "colab": {},
    "colab_type": "code",
    "id": "GZMApifx5lXZ"
   },
   "outputs": [],
   "source": [
    "# Explore here\n",
    "# print('A' == 'a')\n",
    "#ans....i think it compares their Ascii value A!=a b/c 65<97"
   ]
  },
  {
   "cell_type": "markdown",
   "metadata": {
    "colab_type": "text",
    "id": "uXXx1Xp_5lXc"
   },
   "source": [
    "## Question 4 "
   ]
  },
  {
   "cell_type": "markdown",
   "metadata": {
    "colab_type": "text",
    "id": "8n77nu6K5lXc"
   },
   "source": [
    "### 4.1 \n",
    "Write a function that takes ```x``` as an argument, and returns ```5 * x```."
   ]
  },
  {
   "cell_type": "code",
   "execution_count": 0,
   "metadata": {
    "colab": {},
    "colab_type": "code",
    "id": "mDGi3oKF5lXd",
    "outputId": "913e20bf-b998-4415-83f9-a26d1388437b"
   },
   "outputs": [
    {
     "name": "stdout",
     "output_type": "stream",
     "text": [
      "pls enter the value of x:4\n"
     ]
    },
    {
     "data": {
      "text/plain": [
       "20"
      ]
     },
     "execution_count": 59,
     "metadata": {
      "tags": []
     },
     "output_type": "execute_result"
    }
   ],
   "source": [
    "def multFive(x):\n",
    "    return  5*x  # place code here \n",
    "x=int(input(\"pls enter the value of x:\"))\n",
    "multFive(x)\n"
   ]
  },
  {
   "cell_type": "markdown",
   "metadata": {
    "colab_type": "text",
    "id": "pXILvNa45lXh"
   },
   "source": [
    "### 4.2 \n",
    "Write a function that takes ```x``` as an argument and returns ```x + 2```. "
   ]
  },
  {
   "cell_type": "code",
   "execution_count": 0,
   "metadata": {
    "colab": {},
    "colab_type": "code",
    "id": "4_7pP61x5lXh",
    "outputId": "c41aaecf-8297-45a6-f963-1c9b51db26d6"
   },
   "outputs": [
    {
     "name": "stdout",
     "output_type": "stream",
     "text": [
      "pls enter the value of x:4\n"
     ]
    },
    {
     "data": {
      "text/plain": [
       "6"
      ]
     },
     "execution_count": 58,
     "metadata": {
      "tags": []
     },
     "output_type": "execute_result"
    }
   ],
   "source": [
    "def addTwo(x):\n",
    "    return x+2  # place code here\n",
    "x=int(input(\"pls enter the value of x:\"))\n",
    "addTwo(x)\n"
   ]
  },
  {
   "cell_type": "markdown",
   "metadata": {
    "colab_type": "text",
    "id": "TMxpS9yG5lXk"
   },
   "source": [
    "### 4.3 \n",
    "Write a function that returns ```5 * x + 2```, without using any arithmetic operations.\n",
    "\n",
    "_Hint: use multFive and addTwo. Please run the cells for exercises 4.1 and 4.2 before running this cell._"
   ]
  },
  {
   "cell_type": "code",
   "execution_count": 0,
   "metadata": {
    "colab": {},
    "colab_type": "code",
    "id": "SPLe14Mo5lXl",
    "outputId": "71fba376-d1ea-438e-ef13-59f435d0b6da"
   },
   "outputs": [
    {
     "data": {
      "text/plain": [
       "22"
      ]
     },
     "execution_count": 62,
     "metadata": {
      "tags": []
     },
     "output_type": "execute_result"
    }
   ],
   "source": [
    "def me():\n",
    "    return addTwo(multFive(x))\n",
    "\n",
    "me()\n",
    "    "
   ]
  },
  {
   "cell_type": "markdown",
   "metadata": {
    "colab_type": "text",
    "id": "aPeai00f5lXo"
   },
   "source": [
    "### 5.1 \n",
    "Write a function called ```addXtoY``` that takes two arguments ```x``` and ```y```, and returns their sum. "
   ]
  },
  {
   "cell_type": "code",
   "execution_count": 0,
   "metadata": {
    "colab": {},
    "colab_type": "code",
    "id": "YcWLe2pF5lXp",
    "outputId": "20a0931b-2999-4da0-dc83-1e97eb895a24"
   },
   "outputs": [
    {
     "name": "stdout",
     "output_type": "stream",
     "text": [
      "enter the value of x:4\n",
      "enter the value of y:7\n"
     ]
    },
    {
     "data": {
      "text/plain": [
       "11"
      ]
     },
     "execution_count": 64,
     "metadata": {
      "tags": []
     },
     "output_type": "execute_result"
    }
   ],
   "source": [
    "def addXtoY(x,y):\n",
    "    return x+y\n",
    "x=int(input(\"enter the value of x:\"))\n",
    "y=int(input(\"enter the value of y:\"))\n",
    "addXtoY(x,y)"
   ]
  },
  {
   "cell_type": "markdown",
   "metadata": {
    "colab_type": "text",
    "id": "jmAHeg5x5lXr"
   },
   "source": [
    "### 5.2 \n",
    "Write a function called ```multiplyXandY``` that takes two arguments ```x``` and ```y```, and returns their product. "
   ]
  },
  {
   "cell_type": "code",
   "execution_count": 0,
   "metadata": {
    "colab": {},
    "colab_type": "code",
    "id": "C7EBhhzC5lXs",
    "outputId": "1ab1e5af-51fc-4356-830e-b3e38d4b5c76"
   },
   "outputs": [
    {
     "name": "stdout",
     "output_type": "stream",
     "text": [
      "enter the value of x:4\n",
      "enter the value of y:7\n"
     ]
    },
    {
     "data": {
      "text/plain": [
       "28"
      ]
     },
     "execution_count": 65,
     "metadata": {
      "tags": []
     },
     "output_type": "execute_result"
    }
   ],
   "source": [
    "def multiplyXandY(x,y):\n",
    "    return x*y\n",
    "x=int(input(\"enter the value of x:\"))\n",
    "y=int(input(\"enter the value of y:\"))\n",
    "multiplyXandY(x,y)"
   ]
  },
  {
   "cell_type": "markdown",
   "metadata": {
    "colab_type": "text",
    "id": "n5diGV8v5lXw"
   },
   "source": [
    "### 5.3 \n",
    "Use the functions from 5.1 and 5.2, and add at least 3 functions similar to those above that simulate a calculator's functions."
   ]
  },
  {
   "cell_type": "code",
   "execution_count": 0,
   "metadata": {
    "colab": {},
    "colab_type": "code",
    "id": "aaldpoIg5lXw",
    "outputId": "35aca2c4-f3b0-4729-c251-ac8f54fe52de"
   },
   "outputs": [
    {
     "name": "stdout",
     "output_type": "stream",
     "text": [
      "7\n",
      "12\n",
      "0.75\n",
      "3\n",
      "-1\n"
     ]
    }
   ],
   "source": [
    "\n",
    "def addXtoY(x,y):\n",
    "    return x + y\n",
    "\n",
    "def multiplyXandY(x,y):\n",
    "    return x * y\n",
    "\n",
    "def  dividXtoY(x,y):\n",
    "     return x/ y\n",
    "    \n",
    "def modXY(x,y):\n",
    "    return x%y\n",
    "\n",
    "def sub(x,y):\n",
    "    return x-y\n",
    "\n",
    "def calc(x,y):\n",
    "    return addXtoY(x,y) + multiplyXandY(x,y) + dividXtoY(x,y) + modXY(x,y) + sub(x,y)\n",
    "\n",
    "\n",
    "\n",
    "print(addXtoY(3,4))\n",
    "print(multiplyXandY(3,4))\n",
    "print(dividXtoY(3,4))\n",
    "print(modXY(3,4))\n",
    "print(sub(3,4))"
   ]
  },
  {
   "cell_type": "markdown",
   "metadata": {
    "colab_type": "text",
    "id": "xL-aEK6D5lX0"
   },
   "source": [
    "### 5.4 \n",
    "Use your calculator functions to write a function that represents $ f(x) = 5x + 4 $."
   ]
  },
  {
   "cell_type": "code",
   "execution_count": 0,
   "metadata": {
    "colab": {},
    "colab_type": "code",
    "id": "oRNIPIPx5lX1",
    "outputId": "76367827-dc1d-475e-93da-8a13fe2c858f"
   },
   "outputs": [
    {
     "data": {
      "text/plain": [
       "39"
      ]
     },
     "execution_count": 66,
     "metadata": {
      "tags": []
     },
     "output_type": "execute_result"
    }
   ],
   "source": [
    "def f(x):\n",
    "    return  5*x+4  # place code here\n",
    "f(7)"
   ]
  },
  {
   "cell_type": "markdown",
   "metadata": {
    "colab_type": "text",
    "id": "9FbE6PH-5lX4"
   },
   "source": [
    "## Question 6 "
   ]
  },
  {
   "cell_type": "markdown",
   "metadata": {
    "colab_type": "text",
    "id": "eFrxQT7o5lX5"
   },
   "source": [
    "### 6.1 \n",
    "Write a function called ```concatXandY``` that takes two strings ```x``` and ```y```, and concatenates them together."
   ]
  },
  {
   "cell_type": "code",
   "execution_count": 0,
   "metadata": {
    "colab": {},
    "colab_type": "code",
    "id": "sODHEZLy5lX6",
    "outputId": "2c5bb0e6-0f7c-4a8a-9146-d9d33b399d79"
   },
   "outputs": [
    {
     "data": {
      "text/plain": [
       "'hello Addiscoders'"
      ]
     },
     "execution_count": 104,
     "metadata": {
      "tags": []
     },
     "output_type": "execute_result"
    }
   ],
   "source": [
    "def concatXandY(x,y):\n",
    "       return x+y\n",
    "concatXandY(\"hello\",\" Addiscoders\")"
   ]
  },
  {
   "cell_type": "markdown",
   "metadata": {
    "colab_type": "text",
    "id": "7ov-rluZ5lX8"
   },
   "source": [
    "### 6.2 \n",
    "Write a function ```concatXYZ``` that takes three strings ```x```, ```y```, and ```z```, and concatenates them together without using any arithmethic operations."
   ]
  },
  {
   "cell_type": "code",
   "execution_count": 0,
   "metadata": {
    "colab": {},
    "colab_type": "code",
    "id": "Ergcq0g15lX9",
    "outputId": "a0e17e0d-939d-4af9-ef98-97281385ee0f"
   },
   "outputs": [
    {
     "data": {
      "text/plain": [
       "'hello Addiscoder programmers'"
      ]
     },
     "execution_count": 119,
     "metadata": {
      "tags": []
     },
     "output_type": "execute_result"
    }
   ],
   "source": [
    "def concatXYZ(x,y,z):\n",
    "    return concatXandY(concatXandY(x,y),z)\n",
    "concatXYZ('hello ',\"Addiscoder \", 'programmers')"
   ]
  },
  {
   "cell_type": "markdown",
   "metadata": {
    "colab_type": "text",
    "id": "KJwdZMdu5lYB"
   },
   "source": [
    "## Question 7\n"
   ]
  },
  {
   "cell_type": "markdown",
   "metadata": {
    "colab_type": "text",
    "id": "MD29p1IB5lYB"
   },
   "source": [
    "### 7.1 \n",
    "Write a function ```cToF``` that converts Celsius to Fahrenheit using the equation $F = C \\times \\frac{9}{5} + 32$."
   ]
  },
  {
   "cell_type": "code",
   "execution_count": 0,
   "metadata": {
    "colab": {},
    "colab_type": "code",
    "id": "rylyc7uf5lYC",
    "outputId": "14496d44-4a33-47cc-a210-cd946f3e8897"
   },
   "outputs": [
    {
     "name": "stdout",
     "output_type": "stream",
     "text": [
      "F= 194.0\n"
     ]
    }
   ],
   "source": [
    "def cTof(c):\n",
    "    return (c*(9/5))+32\n",
    "f=cTof(90)\n",
    "print(\"F=\",f)"
   ]
  },
  {
   "cell_type": "markdown",
   "metadata": {
    "colab_type": "text",
    "id": "29HdFxKy5lYG"
   },
   "source": [
    "### 7.2 \n",
    "Write a function ```fToC``` that converts Fahrenheit to Celsius using the equation $C = (F - 32) \\times \\frac{5}{9}$."
   ]
  },
  {
   "cell_type": "code",
   "execution_count": 0,
   "metadata": {
    "colab": {},
    "colab_type": "code",
    "id": "Vd2H82es5lYH",
    "outputId": "70b3325c-1a4e-4fb7-b0f9-ef397188ce14"
   },
   "outputs": [
    {
     "name": "stdout",
     "output_type": "stream",
     "text": [
      "C= 90.0\n"
     ]
    }
   ],
   "source": [
    "def fToc(f):\n",
    "    return ((f-32)*5/9)\n",
    "c=fToc(194)\n",
    "print(\"C=\",c)"
   ]
  },
  {
   "cell_type": "markdown",
   "metadata": {
    "colab_type": "text",
    "id": "pfxHp8A-5lYL"
   },
   "source": [
    "### 7.3 \n",
    "What happens when you call ```cToF(fToC(x))```? Try for a few values of ```x```. Can you prove it? "
   ]
  },
  {
   "cell_type": "code",
   "execution_count": 0,
   "metadata": {
    "colab": {},
    "colab_type": "code",
    "id": "eOTjOAoa5lYL",
    "outputId": "f93569ec-45fb-411c-c7ce-ae9598b4f74b"
   },
   "outputs": [
    {
     "data": {
      "text/plain": [
       "194.0"
      ]
     },
     "execution_count": 101,
     "metadata": {
      "tags": []
     },
     "output_type": "execute_result"
    }
   ],
   "source": [
    "def me1(x):\n",
    "    return cTof(fToc(x))\n",
    "me1(194)\n"
   ]
  },
  {
   "cell_type": "markdown",
   "metadata": {
    "colab_type": "text",
    "id": "W6BhHLcO5lYP"
   },
   "source": [
    "## Question 8 \n"
   ]
  },
  {
   "cell_type": "markdown",
   "metadata": {
    "colab_type": "text",
    "id": "gEsMTOGB5lYQ"
   },
   "source": [
    "### 8.1 \n",
    "Write a function called ```pythagoreanTriplet``` that takes in 3 integers which will represent triangle side lengths and returns a bool, to determine if it forms a right-angled triangle. The arguments are guaranteed to be sorted in increasing order.\n",
    "\n",
    "_Hint: A triangle is a right-angled when side lengths a, b, and c satisfy $ a^{2} + b^{2} = c^{2}$._ "
   ]
  },
  {
   "cell_type": "code",
   "execution_count": 0,
   "metadata": {
    "colab": {},
    "colab_type": "code",
    "id": "gmzCcEp55lYS",
    "outputId": "f611136a-efbd-4852-8d0f-4d9bbb3d2322"
   },
   "outputs": [
    {
     "name": "stdout",
     "output_type": "stream",
     "text": [
      "True\n"
     ]
    }
   ],
   "source": [
    "# write function here\n",
    "\n",
    "def pythagoreanTriplet(a,b,c):\n",
    "    return (a**2 + b**2) == c**2\n",
    "\n",
    "# some unit tests\n",
    "print(pythagoreanTriplet(3, 4, 5))\n"
   ]
  },
  {
   "cell_type": "markdown",
   "metadata": {
    "colab_type": "text",
    "id": "zh-uRkuf5lYV"
   },
   "source": [
    "## Question 9"
   ]
  },
  {
   "cell_type": "markdown",
   "metadata": {
    "colab_type": "text",
    "id": "GOnhh_Er5lYW"
   },
   "source": [
    "### 9.1 \n",
    "A palindrome is a string that is the same when read forwards and backwards. For example, \"madam\", \"alabala\", and \"12321\" are palindromes but \"daniel\", \"hello\", and \"1234\" are not. Write a function ```threePalindrome``` that takes in a THREE-LETTER string, and returns a boolean that is ```True``` when the string is palindrome, and ```False``` when it is not.\n"
   ]
  },
  {
   "cell_type": "code",
   "execution_count": 0,
   "metadata": {
    "colab": {},
    "colab_type": "code",
    "id": "JcaqZIEW5lYX",
    "outputId": "4c6c1d6e-5fdc-4543-83ce-b95e52a5e2da"
   },
   "outputs": [
    {
     "name": "stdout",
     "output_type": "stream",
     "text": [
      "True\n"
     ]
    }
   ],
   "source": [
    "def revers(x):\n",
    "    return x[::-1]\n",
    "def threePalindrome(x):\n",
    "    rev=revers(x)\n",
    "    if (x==rev):\n",
    "     return True\n",
    "    return False\n",
    "x='mom'\n",
    "y=threePalindrome(x)\n",
    "if(y==1):\n",
    "    print(\"True\")\n",
    "else:\n",
    "    print(\"false\")\n",
    "     "
   ]
  },
  {
   "cell_type": "markdown",
   "metadata": {
    "colab_type": "text",
    "id": "CJcQ4WUn5lYd"
   },
   "source": [
    "### 9.2 \n",
    "Write a function ```fourPalindrome``` that checks if a four-letter string is a palindrome."
   ]
  },
  {
   "cell_type": "code",
   "execution_count": 0,
   "metadata": {
    "colab": {},
    "colab_type": "code",
    "id": "hYmsO7Vc5lYe",
    "outputId": "595fe6cf-b5a9-4607-e0b4-3ff456798a2d"
   },
   "outputs": [
    {
     "name": "stdout",
     "output_type": "stream",
     "text": [
      "True\n"
     ]
    }
   ],
   "source": [
    "def revers(x):\n",
    "    return x[::-1]\n",
    "def threePalindrome(x):\n",
    "    rev=revers(x)\n",
    "    if (x==rev):\n",
    "     return True\n",
    "    return False\n",
    "x='madam'\n",
    "y=threePalindrome(x)\n",
    "if(y==1):\n",
    "    print(\"True\")\n",
    "else:\n",
    "    print(\"false\")\n",
    "     "
   ]
  },
  {
   "cell_type": "markdown",
   "metadata": {
    "colab_type": "text",
    "id": "_kTWKZWW5lYi"
   },
   "source": [
    "## Question 10"
   ]
  },
  {
   "cell_type": "markdown",
   "metadata": {
    "colab_type": "text",
    "id": "5Zfzi7eX5lYk"
   },
   "source": [
    "### 10.1 \n",
    "Look at the function below. Without running it, can you predict the outcomes of calling ```funkyFunc(100)```, ```funkyFunc(123456)```, and ```funkyFunc(420)```?"
   ]
  },
  {
   "cell_type": "markdown",
   "metadata": {
    "colab_type": "text",
    "id": "kiKDsGTN5lYl"
   },
   "source": [
    "```\n",
    "def funkyFunc(x):\n",
    "    z = x * 10\n",
    "    x = x % 10\n",
    "    z = z + x\n",
    "    return z\n",
    "```"
   ]
  },
  {
   "cell_type": "code",
   "execution_count": 0,
   "metadata": {
    "colab": {},
    "colab_type": "code",
    "id": "U2bhQBXI5lYm"
   },
   "outputs": [],
   "source": [
    "# for x = 100,     funkyFunc(x) = ??\n",
    "# for x = 123456,  funkyFunc(x) = ??\n",
    "# for x = 420,      funkyFunc(x) = ??\n",
    "\n",
    "# Check your answers below:\n",
    "\n",
    "funkyFunc(100)=1000\n",
    "funkyFunc(123456)=1234566\n",
    "funkyFunc(420)=4200"
   ]
  },
  {
   "cell_type": "markdown",
   "metadata": {
    "colab_type": "text",
    "id": "0Fybx7xU5lYp"
   },
   "source": [
    "### 10.2 \n",
    "Can you write a function ```funkierFunc``` which takes one argument and for which the following equation is true for any $x>0$:\n",
    " \n",
    " ```funkierFunc ( funkyFunc(x) ) = x```\n",
    " "
   ]
  },
  {
   "cell_type": "code",
   "execution_count": 0,
   "metadata": {
    "colab": {},
    "colab_type": "code",
    "id": "v_9UANMc5lYq",
    "outputId": "f7c26f00-a3c4-41a5-93d3-bb10d8dee153"
   },
   "outputs": [
    {
     "ename": "SyntaxError",
     "evalue": "unexpected EOF while parsing (<ipython-input-2-70fdd6ba2f1d>, line 2)",
     "output_type": "error",
     "traceback": [
      "\u001b[0;36m  File \u001b[0;32m\"<ipython-input-2-70fdd6ba2f1d>\"\u001b[0;36m, line \u001b[0;32m2\u001b[0m\n\u001b[0;31m    \u001b[0m\n\u001b[0m    ^\u001b[0m\n\u001b[0;31mSyntaxError\u001b[0m\u001b[0;31m:\u001b[0m unexpected EOF while parsing\n"
     ]
    }
   ],
   "source": [
    "def funkierFunc(x):\n",
    "  a = x % 10\n",
    "  b = x // 100 * 10\n",
    "  return a + b"
   ]
  },
  {
   "cell_type": "code",
   "execution_count": 0,
   "metadata": {
    "colab": {},
    "colab_type": "code",
    "id": "gz0p6dta5lYs"
   },
   "outputs": [],
   "source": []
  }
 ],
 "metadata": {
  "colab": {
   "collapsed_sections": [
    "NXhcWnVf5lW4",
    "alPCa7yJ5lW8",
    "QGfAmgSc5lXA",
    "J6fyHXD55lXF",
    "ap3B92ET5lXK",
    "auUuQaKS5lXM",
    "89rnk50X5lXR",
    "ValjtIJ35lXY",
    "8n77nu6K5lXc",
    "pXILvNa45lXh",
    "TMxpS9yG5lXk",
    "aPeai00f5lXo",
    "jmAHeg5x5lXr",
    "n5diGV8v5lXw",
    "xL-aEK6D5lX0",
    "eFrxQT7o5lX5",
    "7ov-rluZ5lX8",
    "MD29p1IB5lYB",
    "29HdFxKy5lYG",
    "pfxHp8A-5lYL",
    "gEsMTOGB5lYQ",
    "GOnhh_Er5lYW",
    "CJcQ4WUn5lYd",
    "5Zfzi7eX5lYk"
   ],
   "name": "probs1b_solutions.ipynb",
   "provenance": [],
   "version": "0.3.2"
  },
  "kernelspec": {
   "display_name": "Python 3 (ipykernel)",
   "language": "python",
   "name": "python3"
  },
  "language_info": {
   "codemirror_mode": {
    "name": "ipython",
    "version": 3
   },
   "file_extension": ".py",
   "mimetype": "text/x-python",
   "name": "python",
   "nbconvert_exporter": "python",
   "pygments_lexer": "ipython3",
   "version": "3.11.2"
  }
 },
 "nbformat": 4,
 "nbformat_minor": 1
}
