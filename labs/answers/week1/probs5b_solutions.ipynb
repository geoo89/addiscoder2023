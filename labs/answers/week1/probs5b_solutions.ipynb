{
 "cells": [
  {
   "cell_type": "markdown",
   "metadata": {},
   "source": [
    "# Lecture 5, Part 2 Exercises \n",
    "\n",
    "Owners: Hawi Abraham, Stephen Koo"
   ]
  },
  {
   "cell_type": "markdown",
   "metadata": {},
   "source": [
    "### Review of Dictionaries\n",
    "\n",
    "A dictionary or `dict` in Python is a object that can store a mapping from \"keys\" to \"values\".\n",
    "\n",
    "We can define a dictionary like this:\n"
   ]
  },
  {
   "cell_type": "code",
   "execution_count": 8,
   "metadata": {},
   "outputs": [],
   "source": [
    "countryCapitals = {\n",
    "    'Ethiopia': 'Addis Abada', \n",
    "    'Canada': 'Ottawa', \n",
    "    'Iran': 'Teheran', \n",
    "    'Turkey': 'Ankara'\n",
    "}"
   ]
  },
  {
   "cell_type": "markdown",
   "metadata": {},
   "source": [
    "This dictionary maps the names of each country (the key) to the name of its capital (the value). Once the dictionary is defined, we can get a value corresponding to a given key using square bracket notation:"
   ]
  },
  {
   "cell_type": "code",
   "execution_count": 9,
   "metadata": {},
   "outputs": [
    {
     "data": {
      "text/plain": [
       "'Addis Abada'"
      ]
     },
     "execution_count": 9,
     "metadata": {},
     "output_type": "execute_result"
    }
   ],
   "source": [
    "countryCapitals['Ethiopia']"
   ]
  },
  {
   "cell_type": "markdown",
   "metadata": {},
   "source": [
    "We can also replace entries or add new ones:"
   ]
  },
  {
   "cell_type": "code",
   "execution_count": 10,
   "metadata": {},
   "outputs": [
    {
     "data": {
      "text/plain": [
       "'Addis Ababa'"
      ]
     },
     "execution_count": 10,
     "metadata": {},
     "output_type": "execute_result"
    }
   ],
   "source": [
    "countryCapitals['Ethiopia'] = 'Addis Ababa'\n",
    "countryCapitals['Ethiopia']"
   ]
  },
  {
   "cell_type": "code",
   "execution_count": 11,
   "metadata": {},
   "outputs": [
    {
     "data": {
      "text/plain": [
       "'Taipei'"
      ]
     },
     "execution_count": 11,
     "metadata": {},
     "output_type": "execute_result"
    }
   ],
   "source": [
    "countryCapitals['Taiwan'] = 'Taipei'\n",
    "countryCapitals['Taiwan']"
   ]
  },
  {
   "cell_type": "markdown",
   "metadata": {},
   "source": [
    "There are also a few useful methods (functions defined on objects) that give you the full list of keys, or the full list of values, or the number of entries."
   ]
  },
  {
   "cell_type": "code",
   "execution_count": 12,
   "metadata": {},
   "outputs": [
    {
     "data": {
      "text/plain": [
       "dict_keys(['Ethiopia', 'Canada', 'Iran', 'Turkey', 'Taiwan'])"
      ]
     },
     "execution_count": 12,
     "metadata": {},
     "output_type": "execute_result"
    }
   ],
   "source": [
    "countryCapitals.keys()"
   ]
  },
  {
   "cell_type": "code",
   "execution_count": 13,
   "metadata": {},
   "outputs": [
    {
     "data": {
      "text/plain": [
       "dict_values(['Addis Ababa', 'Ottawa', 'Teheran', 'Ankara', 'Taipei'])"
      ]
     },
     "execution_count": 13,
     "metadata": {},
     "output_type": "execute_result"
    }
   ],
   "source": [
    "countryCapitals.values()"
   ]
  },
  {
   "cell_type": "code",
   "execution_count": 14,
   "metadata": {},
   "outputs": [
    {
     "data": {
      "text/plain": [
       "5"
      ]
     },
     "execution_count": 14,
     "metadata": {},
     "output_type": "execute_result"
    }
   ],
   "source": [
    "len(countryCapitals)"
   ]
  },
  {
   "cell_type": "markdown",
   "metadata": {},
   "source": [
    "You can also check if a key exists in the dictionary using the `in` operator."
   ]
  },
  {
   "cell_type": "code",
   "execution_count": 16,
   "metadata": {},
   "outputs": [
    {
     "data": {
      "text/plain": [
       "True"
      ]
     },
     "execution_count": 16,
     "metadata": {},
     "output_type": "execute_result"
    }
   ],
   "source": [
    "'Iran' in countryCapitals"
   ]
  },
  {
   "cell_type": "code",
   "execution_count": 17,
   "metadata": {},
   "outputs": [
    {
     "data": {
      "text/plain": [
       "False"
      ]
     },
     "execution_count": 17,
     "metadata": {},
     "output_type": "execute_result"
    }
   ],
   "source": [
    "'Iraq' in countryCapitals"
   ]
  },
  {
   "cell_type": "markdown",
   "metadata": {},
   "source": [
    "## Question 1"
   ]
  },
  {
   "cell_type": "markdown",
   "metadata": {},
   "source": [
    "We have a dictionary that links a username to the user's full name: \n",
    "\n",
    "```python\n",
    "users = {\n",
    "    'koomaster': 'Stephen Koo',\n",
    "    'hawidoin': 'Hawi Abraham',\n",
    "    'unicornprincess': 'Winston Du',\n",
    "    'kiyam': 'Kidist Amdie',\n",
    "}\n",
    "```"
   ]
  },
  {
   "cell_type": "markdown",
   "metadata": {},
   "source": [
    "### 1.1"
   ]
  },
  {
   "cell_type": "markdown",
   "metadata": {},
   "source": [
    "What will `users.keys()` output?"
   ]
  },
  {
   "cell_type": "code",
   "execution_count": null,
   "metadata": {},
   "outputs": [],
   "source": [
    "['koomaster', 'hawidoin', 'unicornprincess', 'kiyam']"
   ]
  },
  {
   "cell_type": "markdown",
   "metadata": {},
   "source": [
    "### 1.2"
   ]
  },
  {
   "cell_type": "markdown",
   "metadata": {},
   "source": [
    "What will `users.values()` output?"
   ]
  },
  {
   "cell_type": "code",
   "execution_count": 15,
   "metadata": {},
   "outputs": [
    {
     "data": {
      "text/plain": [
       "['Stephen Koo', 'Hawi Abraham', 'Winston Du', 'Kidist Amdie']"
      ]
     },
     "execution_count": 15,
     "metadata": {},
     "output_type": "execute_result"
    }
   ],
   "source": [
    "['Stephen Koo', 'Hawi Abraham', 'Winston Du', 'Kidist Amdie']"
   ]
  },
  {
   "cell_type": "markdown",
   "metadata": {},
   "source": [
    "### 1.3 "
   ]
  },
  {
   "cell_type": "markdown",
   "metadata": {},
   "source": [
    "What will `len(users)` output?"
   ]
  },
  {
   "cell_type": "code",
   "execution_count": null,
   "metadata": {},
   "outputs": [],
   "source": [
    "4"
   ]
  },
  {
   "cell_type": "markdown",
   "metadata": {},
   "source": [
    "### 1.4 "
   ]
  },
  {
   "cell_type": "markdown",
   "metadata": {},
   "source": [
    "What will `'hawidoin' in users` output?"
   ]
  },
  {
   "cell_type": "code",
   "execution_count": null,
   "metadata": {},
   "outputs": [],
   "source": [
    "True"
   ]
  },
  {
   "cell_type": "markdown",
   "metadata": {},
   "source": [
    "### 1.5"
   ]
  },
  {
   "cell_type": "markdown",
   "metadata": {},
   "source": [
    "What will `'puppykiller' in users` output?"
   ]
  },
  {
   "cell_type": "code",
   "execution_count": null,
   "metadata": {},
   "outputs": [],
   "source": [
    "False"
   ]
  },
  {
   "cell_type": "markdown",
   "metadata": {},
   "source": [
    "**Raise your hand before moving on to ask a TA to check your answers if you'd like.**"
   ]
  },
  {
   "cell_type": "markdown",
   "metadata": {},
   "source": [
    "## Question 2"
   ]
  },
  {
   "cell_type": "markdown",
   "metadata": {},
   "source": [
    "### 2.1"
   ]
  },
  {
   "cell_type": "markdown",
   "metadata": {},
   "source": [
    "Write a dictionary `friendsAge` mapping the names of five of your friends to their ages. In other words, we want a dictionary with students names as keys and ages as values. "
   ]
  },
  {
   "cell_type": "code",
   "execution_count": 37,
   "metadata": {},
   "outputs": [
    {
     "data": {
      "text/plain": [
       "dict_values([500, 4, 2, 19, 14])"
      ]
     },
     "execution_count": 37,
     "metadata": {},
     "output_type": "execute_result"
    }
   ],
   "source": [
    "friendsAge = {\"Barney\": 500, \"Caillou\": 4, \"Lala\": 2, \"Blue\": 19, \"Jimmy Neutron\": 14}\n",
    "friendsAge.values()"
   ]
  },
  {
   "cell_type": "markdown",
   "metadata": {},
   "source": [
    "### 2.2"
   ]
  },
  {
   "cell_type": "markdown",
   "metadata": {},
   "source": [
    "Write a function `averageFriendsAge(d)` where `d` is a dictionary mapping the names of friends to their ages and that returns the average age of all the friends in the dictionary `d`. "
   ]
  },
  {
   "cell_type": "code",
   "execution_count": 44,
   "metadata": {},
   "outputs": [
    {
     "name": "stdout",
     "output_type": "stream",
     "text": [
      "107.8\n"
     ]
    }
   ],
   "source": [
    "def averageFriendsAge(d):\n",
    "    total = 0\n",
    "    for age in d.values():\n",
    "        total += age\n",
    "    return total / len(d)\n",
    "\n",
    "\n",
    "# Test your code here.\n",
    "friendsAge = {\"Barney\": 500, \"Cailou\": 4, \"Lala\": 2, \"Blue\": 19, \"Jimmy Newtron\": 14}\n",
    "print(averageFriendsAge(friendsAge))  # Should be 107.8"
   ]
  },
  {
   "cell_type": "markdown",
   "metadata": {},
   "source": [
    "### 2.3"
   ]
  },
  {
   "cell_type": "markdown",
   "metadata": {},
   "source": [
    "Now, write a function `addFriend(d, name, age)` where `d` is a dictionary mapping the names of friends to their ages, `name` is a string and `age` is an integer, that returns an updated dictionary containing the new entry.\n",
    "\n",
    "Use it to add Selam, your 3.3 million-year-old friend, to your `friendsAge` dictionary. "
   ]
  },
  {
   "cell_type": "code",
   "execution_count": 47,
   "metadata": {},
   "outputs": [
    {
     "name": "stdout",
     "output_type": "stream",
     "text": [
      "{'Barney': 500, 'Cailou': 4, 'Lala': 2, 'Blue': 19, 'Jimmy Newtron': 14, 'Daniel': 80, 'Selam': 3300000}\n"
     ]
    }
   ],
   "source": [
    "def addFriend(d, name, age):\n",
    "    d[name] = age\n",
    "    return d\n",
    "\n",
    "print(addFriend(friendsAge, 'Selam', 3300000))"
   ]
  },
  {
   "cell_type": "markdown",
   "metadata": {},
   "source": [
    "### 2.4 "
   ]
  },
  {
   "cell_type": "markdown",
   "metadata": {},
   "source": [
    "Selam drinks a magic potion and gets 1.3 million years younger. Write a function `modifyAge(d, name, age)` to update one of your friends age, where `d` is a dictionary mapping the names of friends to their ages, `name` is a string and `age` is an integer, that returns the updated dictionary."
   ]
  },
  {
   "cell_type": "code",
   "execution_count": 48,
   "metadata": {},
   "outputs": [
    {
     "name": "stdout",
     "output_type": "stream",
     "text": [
      "{'Barney': 500, 'Cailou': 4, 'Lala': 2, 'Blue': 19, 'Jimmy Newtron': 14, 'Daniel': 80, 'Selam': 2000000}\n"
     ]
    }
   ],
   "source": [
    "def modifyAge(d,name,age):\n",
    "    d[name] = age\n",
    "    return d\n",
    "\n",
    "print (modifyAge(friendsAge, 'Selam', 2000000))"
   ]
  },
  {
   "cell_type": "markdown",
   "metadata": {},
   "source": [
    "### 2.5 "
   ]
  },
  {
   "cell_type": "markdown",
   "metadata": {},
   "source": [
    "Compare `addFriend(d, name, age)` and `modifyAge(d, name,age)` functions. What does it tell you about the dictionaries property? "
   ]
  },
  {
   "cell_type": "markdown",
   "metadata": {},
   "source": [
    "They are exactly the same.\n",
    "\n",
    "If a key doesn't exist yet in the dictionary, assigning to it will automatically create a new entry. So it looks the same as assigning to an existing key."
   ]
  },
  {
   "cell_type": "markdown",
   "metadata": {},
   "source": [
    "### 2.6 "
   ]
  },
  {
   "cell_type": "markdown",
   "metadata": {},
   "source": [
    "Write a function `getFriendAge(d, name)` where `d` is a dictionary mapping the names of friends to their ages and `name` is a string, that returns the age of your friend. \n",
    "\n",
    "What happens if you run it with a name not in your dictionary? In this case return `-1`."
   ]
  },
  {
   "cell_type": "code",
   "execution_count": 50,
   "metadata": {},
   "outputs": [
    {
     "data": {
      "text/plain": [
       "2000000"
      ]
     },
     "execution_count": 50,
     "metadata": {},
     "output_type": "execute_result"
    }
   ],
   "source": [
    "def getFriendAge(d,name):\n",
    "    if name in d:\n",
    "        return d[name]\n",
    "    else:\n",
    "        return -1\n",
    "\n",
    "getFriendAge(friendsAge, 'Selam')"
   ]
  },
  {
   "cell_type": "markdown",
   "metadata": {},
   "source": [
    "## Question 3"
   ]
  },
  {
   "cell_type": "markdown",
   "metadata": {},
   "source": [
    "### 3.1"
   ]
  },
  {
   "cell_type": "markdown",
   "metadata": {},
   "source": [
    "In _Lecture 2 Exercices (Part 2)_, we wrote a function `mostCommon(s)` that takes in a string `s` and returns the most common character in a string. If no character occurs more often than other character, return any character in the string. \n",
    "\n",
    "For example, `mostCommon('salaam') = 'a'`\n",
    "\n",
    "Also, `mostCommon('abc') = 'a', 'b' or 'c'`"
   ]
  },
  {
   "cell_type": "markdown",
   "metadata": {},
   "source": [
    "Now, we want to rewrite this function using a dictionary without changing the argument of the function."
   ]
  },
  {
   "cell_type": "code",
   "execution_count": 55,
   "metadata": {},
   "outputs": [
    {
     "data": {
      "text/plain": [
       "'a'"
      ]
     },
     "execution_count": 55,
     "metadata": {},
     "output_type": "execute_result"
    }
   ],
   "source": [
    "def mostCommon(s):\n",
    "    counts = {}\n",
    "    for letter in s:\n",
    "        if letter in counts:\n",
    "            counts[letter] += 1\n",
    "        else:\n",
    "            counts[letter] = 1\n",
    "    max_count = 0\n",
    "    most_common_letter = ''\n",
    "    for letter in counts:\n",
    "        if counts[letter] > max_count:\n",
    "            max_count = counts[letter]\n",
    "            most_common_letter = letter\n",
    "    \n",
    "    return most_common_letter\n",
    "\n",
    "mostCommon('aaadjfkdjkfjdjfaaaaaaa')"
   ]
  },
  {
   "cell_type": "markdown",
   "metadata": {},
   "source": [
    "### 3.2"
   ]
  },
  {
   "cell_type": "markdown",
   "metadata": {},
   "source": [
    "In _Lecture 5 Exercises (Part 1)_, we wrote a function `numTimes(s, letter)` that returned how many times `letter` appears in `s`.\n",
    "\n",
    "For example numTimes(\"scccscccccc\", \"s\") = 2.\n",
    "\n",
    "Another example: numTimes(\"cccc\", \"s\") = 0.\n",
    "\n",
    "Also:  = 0."
   ]
  },
  {
   "cell_type": "markdown",
   "metadata": {},
   "source": [
    "Now, we want to rewrite this function using a dictionary."
   ]
  },
  {
   "cell_type": "code",
   "execution_count": 3,
   "metadata": {},
   "outputs": [
    {
     "name": "stdout",
     "output_type": "stream",
     "text": [
      "1\n"
     ]
    }
   ],
   "source": [
    "def numTimes(s, letter):\n",
    "    counts = {}\n",
    "    if s == '':\n",
    "        return 0\n",
    "    for ch in s:\n",
    "        if ch in counts:\n",
    "            counts[ch] += 1\n",
    "        else:\n",
    "            counts[ch] = 0\n",
    "    return counts[letter]\n",
    "    \n",
    "\n",
    "# Test your code here.\n",
    "print(numTimes(\"scccscccccc\", \"s\"))\n",
    "# print(numTimes(\"cccc\", \"s\"))\n",
    "# print(numTimes(\"\", \"s\"))"
   ]
  },
  {
   "cell_type": "markdown",
   "metadata": {},
   "source": [
    "### 3.3"
   ]
  },
  {
   "cell_type": "markdown",
   "metadata": {},
   "source": [
    "Similarly, we want to write a function `encodeString(s)` that takes in a string s and returns a string of the encoded letters.\n",
    "\n",
    "For example, `encodeString('aabbb')` returns `'a2b3'`\n",
    "\n",
    "Also, `encodeString('abbbaac')` returns `'a3b3c1'`\n",
    "\n",
    "Also, `encodeString('')` returns `''`"
   ]
  },
  {
   "cell_type": "code",
   "execution_count": 227,
   "metadata": {},
   "outputs": [
    {
     "name": "stdout",
     "output_type": "stream",
     "text": [
      "\n",
      "a1b2c2d2\n"
     ]
    }
   ],
   "source": [
    "def encodeString(s):\n",
    "    countString = {}\n",
    "\n",
    "    for letter in s:\n",
    "        if letter in countString:\n",
    "            countString[letter] += 1\n",
    "        else:\n",
    "            countString[letter] = 1\n",
    "        \n",
    "    encoder = ''\n",
    "    for letter in s:\n",
    "        if letter not in encoder:\n",
    "            encoder += letter + str(countString[letter])\n",
    "   \n",
    "    return encoder\n",
    " \n",
    "print(encodeString(''))\n",
    "print(encodeString('abccddb'))"
   ]
  },
  {
   "cell_type": "markdown",
   "metadata": {},
   "source": [
    "## Question 4"
   ]
  },
  {
   "cell_type": "markdown",
   "metadata": {},
   "source": [
    "### 4.1"
   ]
  },
  {
   "cell_type": "markdown",
   "metadata": {},
   "source": [
    "We are given two lists: one list (`lNames`) of students names as strings and one list (`lGrades`) of grades from A to F as strings. We want to write a function `mergeListAsDict(lNames, lGrades)` that takes the two lists as inputs and returns a dictionary with the names of the sudents as key and the grade as value.\n",
    "\n",
    "For example, `mergeListsAsDict(['Daniel', 'Rupal'], ['F', 'A'])` returns `{'Daniel': 'F', 'Rupal': 'A'}`"
   ]
  },
  {
   "cell_type": "code",
   "execution_count": 219,
   "metadata": {},
   "outputs": [],
   "source": [
    "def mergeListsAsDict(lNames, lGrades):\n",
    "    # Complete the function here \n",
    "    mergeDict = {}\n",
    "    i = 0\n",
    "    for name in lNames:\n",
    "        mergeDict[name] = lGrades[i]\n",
    "        i += 1\n",
    "        \n",
    "    return mergeDict"
   ]
  },
  {
   "cell_type": "code",
   "execution_count": 220,
   "metadata": {},
   "outputs": [
    {
     "data": {
      "text/plain": [
       "{'Daniel': 'F',\n",
       " 'Basi': 'B',\n",
       " 'Rupal': 'A',\n",
       " 'Dim': 'C',\n",
       " 'Leello': 'A',\n",
       " 'Mike': 'B'}"
      ]
     },
     "execution_count": 220,
     "metadata": {},
     "output_type": "execute_result"
    }
   ],
   "source": [
    "lNames = ['Daniel', 'Basi', 'Rupal', 'Dim', 'Leello', 'Mike']\n",
    "lGrades = ['F', 'B', 'A', 'C', 'A', 'B']\n",
    "\n",
    "mergeListsAsDict(lNames, lGrades) "
   ]
  },
  {
   "cell_type": "markdown",
   "metadata": {},
   "source": [
    "Run the cell below to verify your solution"
   ]
  },
  {
   "cell_type": "code",
   "execution_count": 221,
   "metadata": {},
   "outputs": [],
   "source": [
    "dictResult = {\n",
    "    'Daniel': 'F',\n",
    "    'Basi': 'B',\n",
    "    'Rupal': 'A',\n",
    "    'Dim': 'C', \n",
    "    'Leello': 'A', \n",
    "    'Mike': 'B'\n",
    "}\n",
    "assert mergeListsAsDict(lNames, lGrades) == dictResult, 'The solution is incorrect'"
   ]
  },
  {
   "cell_type": "markdown",
   "metadata": {},
   "source": [
    "### 4.2 "
   ]
  },
  {
   "cell_type": "markdown",
   "metadata": {},
   "source": [
    "Write a function `getStudentsWithGrade(d, grade)` where `d` is the dictionary mapping sutdents names to grades and `grade` is a grade (from A to F) as a string, that returns a list of students with that given grade.\n",
    "\n",
    "For example, `getStudentsWithGrade({'Daniel': 'F', 'Rupal': 'A'}, 'A')` returns `['Rupal']`.\n",
    "\n",
    "Also, `getStudentsWithGrade({'Daniel': 'A', 'Rupal': 'A'}, 'A')` returns `['Daniel', 'Rupal']`.\n",
    "\n",
    "Also, `getStudentsWithGrade({'Daniel': 'F', 'Rupal': 'A'}, 'D')` returns `[]`"
   ]
  },
  {
   "cell_type": "code",
   "execution_count": 218,
   "metadata": {},
   "outputs": [
    {
     "data": {
      "text/plain": [
       "['Daniel']"
      ]
     },
     "execution_count": 218,
     "metadata": {},
     "output_type": "execute_result"
    }
   ],
   "source": [
    "def getStudentWithGrade(d, grade):\n",
    "    grade_names = []\n",
    "    for name in d:\n",
    "        if d[name] == grade:\n",
    "            grade_names.append(name)\n",
    "    return grade_names\n",
    "\n",
    "mergeDict = {\n",
    "    'Daniel': 'F',\n",
    "    'Basi': 'B',\n",
    "    'Rupal': 'A',\n",
    "    'Dim': 'C', \n",
    "    'Leello': 'A', \n",
    "    'Mike': 'B'}\n",
    "\n",
    "getStudentWithGrade(mergeDict, 'F')"
   ]
  },
  {
   "cell_type": "markdown",
   "metadata": {},
   "source": [
    "## Question 5 "
   ]
  },
  {
   "cell_type": "markdown",
   "metadata": {},
   "source": [
    "## 5.1"
   ]
  },
  {
   "cell_type": "markdown",
   "metadata": {},
   "source": [
    "We are given a dictionary `friends` mapping people to their friends. We want to write a function `getFriendsOfFriends(d)` where `d` would be that dictionary mapping people to their friends, that returns anonther dictionary mapping the same keys of people to friends of their friends. We can assume each person can't be friends with themselves. \n",
    "\n",
    "For example, \n",
    "```\n",
    "getFriendsOfFriends({'Amy': ['Daniel', 'Basi', 'Teddy'], \n",
    "                     'Teddy': ['Rupal', 'Elvis', 'Amy']})\n",
    "``` \n",
    "returns `{'Amy': ['Rupal', 'Elvis'], 'Teddy': ['Daniel', 'Basi']}`"
   ]
  },
  {
   "cell_type": "code",
   "execution_count": 212,
   "metadata": {},
   "outputs": [
    {
     "data": {
      "text/plain": [
       "{'Basi': ['Rupal', 'Daniel', 'Dim', 'Leello', 'Arash', 'Mike'],\n",
       " 'Jessica': [],\n",
       " 'Arash': ['Will', 'Jessica'],\n",
       " 'Mike': ['Rupal', 'Daniel', 'Dim', 'Will'],\n",
       " 'Corina': ['Leello', 'Jessica', 'Isabelle'],\n",
       " 'Isabelle': ['Will', 'Mike', 'Jessica', 'Arash'],\n",
       " 'Daniel': []}"
      ]
     },
     "execution_count": 212,
     "metadata": {},
     "output_type": "execute_result"
    }
   ],
   "source": [
    "def getFriendsOfFriends(friends):\n",
    "    # Complete the function here \n",
    "    result = {}\n",
    "    for name in friends:\n",
    "        fofs = []\n",
    "        for friend in friends[name]:\n",
    "            if friend in friends:\n",
    "                for fof in friends[friend]:\n",
    "                    if fof != name and fof not in fofs:\n",
    "                        fofs.append(fof)\n",
    "        result[name] = fofs   \n",
    "    return result\n",
    "            \n",
    "friends = {\n",
    "    'Basi' : ['Leello', 'Jessica', 'Corina', 'Isabelle'], \n",
    "    'Jessica': ['Rupal', 'Daniel', 'Dim'],\n",
    "    'Arash': ['Will', 'Mike'], \n",
    "    'Mike': ['Will', 'Jessica', 'Arash'], \n",
    "    'Corina': ['Basi', 'Leello'],\n",
    "    'Isabelle': ['Arash', 'Rupal', 'Mike'],\n",
    "    'Daniel': []  # :(\n",
    "}\n",
    "\n",
    "getFriendsOfFriends(friends)"
   ]
  },
  {
   "cell_type": "code",
   "execution_count": 213,
   "metadata": {},
   "outputs": [
    {
     "data": {
      "text/plain": [
       "{'Basi': ['Rupal', 'Daniel', 'Dim', 'Leello', 'Arash', 'Mike'],\n",
       " 'Jessica': [],\n",
       " 'Arash': ['Will', 'Jessica'],\n",
       " 'Mike': ['Rupal', 'Daniel', 'Dim', 'Will'],\n",
       " 'Corina': ['Leello', 'Jessica', 'Isabelle'],\n",
       " 'Isabelle': ['Will', 'Mike', 'Jessica', 'Arash'],\n",
       " 'Daniel': []}"
      ]
     },
     "execution_count": 213,
     "metadata": {},
     "output_type": "execute_result"
    }
   ],
   "source": [
    "friends = {\n",
    "    'Basi' : ['Leello', 'Jessica', 'Corina', 'Isabelle'], \n",
    "    'Jessica': ['Rupal', 'Daniel', 'Dim'],\n",
    "    'Arash': ['Will', 'Mike'], \n",
    "    'Mike': ['Will', 'Jessica', 'Arash'], \n",
    "    'Corina': ['Basi', 'Leello'],\n",
    "     'Isabelle': ['Arash', 'Rupal', 'Mike'],\n",
    "    'Daniel': []  # :(\n",
    "}\n",
    "getFriendsOfFriends(friends)"
   ]
  },
  {
   "cell_type": "code",
   "execution_count": 214,
   "metadata": {},
   "outputs": [],
   "source": [
    "friendsOfFriends = {\n",
    "    'Basi': ['Rupal', 'Daniel', 'Dim', 'Leello', 'Arash', 'Mike'],\n",
    "    'Jessica': [],\n",
    "    'Arash': ['Will', 'Jessica'],\n",
    "    'Mike': ['Rupal', 'Daniel', 'Dim', 'Will'],\n",
    "    'Corina': ['Leello', 'Jessica', 'Isabelle'],\n",
    "    'Isabelle': ['Will', 'Mike', 'Jessica', 'Arash'],\n",
    "    'Daniel': []\n",
    "}\n",
    "\n",
    "assert getFriendsOfFriends(friends) == friendsOfFriends, 'The solution is incorrect'"
   ]
  },
  {
   "cell_type": "markdown",
   "metadata": {},
   "source": [
    "## Question 6"
   ]
  },
  {
   "cell_type": "markdown",
   "metadata": {},
   "source": [
    "There has been a case of food poisoning at the cafeteria Monday. We want to write a function `getDistinctEntriesCount(d)` that takes `d`, which is a dictionary mapping the days of the week to a list of entries in the cafeteria. The function should return another dictionary mapping the day to the number of distinct people who ate at the cafeteria each day.\n",
    "\n",
    "For example, `getDistinctEntriesCount({'Segno': ['rupal', 'rupal']})` returns `{'Segno': 1}`\n",
    "\n",
    "Also, `getDistinctEntriesCount({'Segno': ['rupal', 'rupal'], 'Arb': ['isa']})` returns `{'Segno': 1, 'Arb': 1}`"
   ]
  },
  {
   "cell_type": "code",
   "execution_count": 215,
   "metadata": {},
   "outputs": [
    {
     "data": {
      "text/plain": [
       "{'Segno': 4, 'Maksegno': 7, 'Erob': 3, 'Hamus': 2, 'Arb': 7}"
      ]
     },
     "execution_count": 215,
     "metadata": {},
     "output_type": "execute_result"
    }
   ],
   "source": [
    "def getDistinctEntriesCount(entries):\n",
    "    # Complete the function here \n",
    "    distinctEntriesCounter = {}\n",
    "    for day in entries:\n",
    "        peopleSeen = []\n",
    "        for person in entries[day]:\n",
    "            if person not in peopleSeen:\n",
    "                peopleSeen.append(person)\n",
    "                if day not in distinctEntriesCounter:\n",
    "                    distinctEntriesCounter[day] = 1\n",
    "                else:\n",
    "                    distinctEntriesCounter[day] += 1\n",
    "    return distinctEntriesCounter\n",
    "\n",
    "entries = {\n",
    "    'Segno': ['arash', 'arash', 'isa', 'rupal', 'arash', 'leello'],\n",
    "    'Maksegno': ['leello', 'dim', 'arash', 'arash', 'isa', 'rupal', 'nati', 'arash', 'nati', 'basi'],\n",
    "    'Erob': ['leello', 'dim', 'dim', 'dim', 'arash'],\n",
    "    'Hamus': ['arash', 'arash', 'rupal', 'arash'],\n",
    "    'Arb': ['leello', 'leello', 'isa', 'dim', 'rupal', 'corina', 'basi', 'nati']\n",
    "} \n",
    "\n",
    "getDistinctEntriesCount(entries)"
   ]
  },
  {
   "cell_type": "code",
   "execution_count": 216,
   "metadata": {},
   "outputs": [
    {
     "data": {
      "text/plain": [
       "{'Segno': 4, 'Maksegno': 7, 'Erob': 3, 'Hamus': 2, 'Arb': 7}"
      ]
     },
     "execution_count": 216,
     "metadata": {},
     "output_type": "execute_result"
    }
   ],
   "source": [
    "entries = {\n",
    "    'Segno': ['arash', 'arash', 'isa', 'rupal', 'arash', 'leello'],\n",
    "    'Maksegno': ['leello', 'dim', 'arash', 'arash', 'isa', 'rupal', 'nati', 'arash', 'nati', 'basi'],\n",
    "    'Erob': ['leello', 'dim', 'dim', 'dim', 'arash'],\n",
    "    'Hamus': ['arash', 'arash', 'rupal', 'arash'],\n",
    "    'Arb': ['leello', 'leello', 'isa', 'dim', 'rupal', 'corina', 'basi', 'nati']\n",
    "} \n",
    "getDistinctEntriesCount(entries)"
   ]
  },
  {
   "cell_type": "code",
   "execution_count": 217,
   "metadata": {},
   "outputs": [],
   "source": [
    "distinctEntries = {\n",
    "    'Segno': 4, \n",
    "    'Maksegno': 7, \n",
    "    'Erob': 3, \n",
    "    'Hamus': 2, \n",
    "    'Arb': 7\n",
    "}\n",
    "assert distinctEntries == getDistinctEntriesCount(entries), 'The solution is incorrect'"
   ]
  },
  {
   "cell_type": "markdown",
   "metadata": {},
   "source": [
    "# Question 7\n",
    "\n",
    "Write a Python script to print a dictionary where the keys are numbers between 1 and 15 (both included) and the values are the square of the keys.\n",
    "\n",
    "Sample Output: `{1: 1, 2: 4, 3: 9, 4: 16, 5: 25, 6: 36, 7: 49, 8: 64, 9: 81, 10: 100, 11: 121, 12: 144, 13: 169, 14: 196, 15: \n",
    "225} `"
   ]
  },
  {
   "cell_type": "code",
   "execution_count": 1,
   "metadata": {},
   "outputs": [
    {
     "name": "stdout",
     "output_type": "stream",
     "text": [
      "{1: 1, 2: 4, 3: 9, 4: 16, 5: 25, 6: 36, 7: 49, 8: 64, 9: 81, 10: 100, 11: 121, 12: 144, 13: 169, 14: 196, 15: 225}\n"
     ]
    }
   ],
   "source": [
    "d=dict()\n",
    "def dicti(d):\n",
    "    # Your code here.\n",
    "    for x in range(1,16):\n",
    "        d[x]=x**2\n",
    "    print(d)  \n",
    "# Test your code here.\n",
    "dicti(d)"
   ]
  },
  {
   "cell_type": "code",
   "execution_count": null,
   "metadata": {},
   "outputs": [],
   "source": []
  }
 ],
 "metadata": {
  "kernelspec": {
   "display_name": "Python 3 (ipykernel)",
   "language": "python",
   "name": "python3"
  },
  "language_info": {
   "codemirror_mode": {
    "name": "ipython",
    "version": 3
   },
   "file_extension": ".py",
   "mimetype": "text/x-python",
   "name": "python",
   "nbconvert_exporter": "python",
   "pygments_lexer": "ipython3",
   "version": "3.9.12"
  }
 },
 "nbformat": 4,
 "nbformat_minor": 2
}
