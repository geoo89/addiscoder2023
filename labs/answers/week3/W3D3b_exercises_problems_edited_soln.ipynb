{
 "cells": [
  {
   "cell_type": "markdown",
   "metadata": {},
   "source": [
    "# Week 3 (Day 3) - Afternoon: Ordered Data Structures"
   ]
  },
  {
   "cell_type": "markdown",
   "metadata": {},
   "source": [
    "Editors: Mukerem, Hellina, Henok\n",
    "\n",
    "Reviewer: ..."
   ]
  },
  {
   "cell_type": "markdown",
   "metadata": {},
   "source": [
    "## ***Before starting, please run the following cell***"
   ]
  },
  {
   "cell_type": "code",
   "execution_count": 5,
   "metadata": {},
   "outputs": [],
   "source": [
    "def check(actual, expected):\n",
    "    if expected != actual:\n",
    "        print(f\"Function should return the value {expected}, it is returning the value {actual}\")\n",
    "    else:\n",
    "        print(f\"Congratulations, the test case passed!\")\n",
    "\n",
    "# Decode ascii-encoded hints\n",
    "def AsciiToText(asci):\n",
    "    result = \"\"\n",
    "    for i in asci:\n",
    "        result += chr(i)\n",
    "    return result"
   ]
  },
  {
   "cell_type": "markdown",
   "metadata": {},
   "source": [
    "## I. Queue"
   ]
  },
  {
   "cell_type": "markdown",
   "metadata": {},
   "source": [
    "A queue is a data structure that follows the First-In-First-Out (FIFO) principle.\n",
    "\n",
    "The main operations of a queue are:\n",
    "* `Add(Q,item)`: Add  `item` to queue `Q`.\n",
    "* `Get(Q)`: Get the item in the queue that was added first.\n",
    "* `Pop(Q)`: Get the item in the queue that was added first, and remove it."
   ]
  },
  {
   "cell_type": "code",
   "execution_count": 37,
   "metadata": {},
   "outputs": [],
   "source": [
    "def new_queue():\n",
    "    return []\n",
    "\n",
    "# TODO: Implement add_queue\n",
    "def add_queue(Q, item):\n",
    "    Q.append(item)\n",
    "    \n",
    "# TODO: Implement get_queue\n",
    "def get_queue(Q):\n",
    "    item = Q[0]\n",
    "    return item\n",
    "    \n",
    "# TODO: Implement pop_queue\n",
    "def pop_queue(Q):\n",
    "    item = Q.pop(0)\n",
    "    return item\n",
    "\n",
    "\n",
    "    \n"
   ]
  },
  {
   "cell_type": "code",
   "execution_count": 39,
   "metadata": {},
   "outputs": [
    {
     "name": "stdout",
     "output_type": "stream",
     "text": [
      "Congratulations, the test case passed!\n",
      "Congratulations, the test case passed!\n",
      "Congratulations, the test case passed!\n",
      "Congratulations, the test case passed!\n",
      "Congratulations, the test case passed!\n"
     ]
    }
   ],
   "source": [
    "## Test your implementation\n",
    "q = new_queue()\n",
    "\n",
    "l = [1, 3, 2, 5]\n",
    "     \n",
    "for i in l:\n",
    "    add_queue(q, i)\n",
    "    \n",
    "item = get_queue(q)\n",
    "check(item, l[0])\n",
    "    \n",
    "for i in range(4):\n",
    "    item = pop_queue(q)\n",
    "    check(item, l[i])"
   ]
  },
  {
   "cell_type": "markdown",
   "metadata": {},
   "source": [
    "# II. Stack"
   ]
  },
  {
   "cell_type": "markdown",
   "metadata": {},
   "source": [
    "A stack is a data structure that follows the Last-In-First-Out (LIFO) principle.\n",
    "\n",
    "The main operations of a stack are:\n",
    "\n",
    "* `Add(S,item)`: Add `item` to the Stack `S`\n",
    "* `Get(S)`: Get the item in the stack `S` that  was added _last_.\n",
    "* `Pop(S)`: Get the item in the stack `S` that  was added _last_, and remove it."
   ]
  },
  {
   "cell_type": "code",
   "execution_count": 41,
   "metadata": {},
   "outputs": [],
   "source": [
    "def new_stack():\n",
    "    return []\n",
    "\n",
    "def add_stack(S,item):\n",
    "    S.append(item)\n",
    "    \n",
    "def get_stack(S):\n",
    "    item = S[-1]\n",
    "    return item\n",
    "\n",
    "def pop_stack(S):\n",
    "    item = S.pop(-1)\n",
    "    return item\n",
    "    \n",
    "\n",
    "\n",
    "  "
   ]
  },
  {
   "cell_type": "code",
   "execution_count": 43,
   "metadata": {},
   "outputs": [
    {
     "name": "stdout",
     "output_type": "stream",
     "text": [
      "Congratulations, the test case passed!\n",
      "Congratulations, the test case passed!\n",
      "Congratulations, the test case passed!\n",
      "Congratulations, the test case passed!\n",
      "Congratulations, the test case passed!\n",
      "Congratulations, the test case passed!\n"
     ]
    }
   ],
   "source": [
    "## Test your implementation\n",
    "q = new_stack()\n",
    "\n",
    "l = [5, 7, 2, 9, 0]\n",
    "\n",
    "for i in range(5):\n",
    "    add_stack(q, l[i])\n",
    "\n",
    "item = get_stack(q)\n",
    "check(item, l[-1])\n",
    "    \n",
    "for i in range(4, -1, -1):\n",
    "    item = pop_stack(q)\n",
    "    check(item, l[i])"
   ]
  },
  {
   "cell_type": "markdown",
   "metadata": {},
   "source": [
    "__Problem 1__\n",
    "\n",
    "__1.1__ Write a function `reverseList` that takes in a list of numbers and prints them in reverse order."
   ]
  },
  {
   "cell_type": "code",
   "execution_count": 13,
   "metadata": {},
   "outputs": [],
   "source": [
    "# TODO: Complete the function\n",
    "def reverseList(L):\n",
    "    return L[::-1] "
   ]
  },
  {
   "cell_type": "code",
   "execution_count": 14,
   "metadata": {},
   "outputs": [
    {
     "name": "stdout",
     "output_type": "stream",
     "text": [
      "Congratulations, the test case passed!\n",
      "Congratulations, the test case passed!\n",
      "Congratulations, the test case passed!\n"
     ]
    }
   ],
   "source": [
    "# Test your function\n",
    "check(reverseList([1,2,3,4]), [4,3,2,1])\n",
    "check(reverseList([4,3,2,1]), [1,2,3,4])\n",
    "check(reverseList([2,4,6,8,10,12]), [12,10,8,6,4,2])"
   ]
  },
  {
   "cell_type": "markdown",
   "metadata": {},
   "source": [
    "__1.2__ Now do the same using a stack"
   ]
  },
  {
   "cell_type": "code",
   "execution_count": 15,
   "metadata": {},
   "outputs": [],
   "source": [
    "# TODO: Complete the function\n",
    "def revStack(L):\n",
    "    n = len(L)\n",
    "    newL = []\n",
    "    s = new_stack()\n",
    "    for l in L:\n",
    "        add_stack(s,l)\n",
    "    for i in range(n):\n",
    "        newL += [pop_stack(s)] \n",
    "    return newL"
   ]
  },
  {
   "cell_type": "code",
   "execution_count": 16,
   "metadata": {},
   "outputs": [
    {
     "name": "stdout",
     "output_type": "stream",
     "text": [
      "Congratulations, the test case passed!\n",
      "Congratulations, the test case passed!\n"
     ]
    }
   ],
   "source": [
    "# Test your function\n",
    "\n",
    "check(revStack([1,2,3,4]), [4,3,2,1])\n",
    "check(revStack([10,8,6,4,2,0]), [0,2,4,6,8,10])"
   ]
  },
  {
   "cell_type": "markdown",
   "metadata": {},
   "source": [
    "__Problem 2:__\n",
    "\n",
    "Write a function that reads a string made up of letters and stars (`*`). Enqueue each letter and dequeue the topmost(first enqueue) letter for every star.\n",
    "\n",
    "So for example, `\"Jelani***\"` will become `\"ani\"`."
   ]
  },
  {
   "cell_type": "code",
   "execution_count": 48,
   "metadata": {},
   "outputs": [],
   "source": [
    "# TODO: Complete the function\n",
    "def lettersAndStars(s):\n",
    "    q = new_queue()\n",
    "    for i in s:\n",
    "        if i == '*':\n",
    "            pop_queue(q)\n",
    "        else:\n",
    "            add_queue(q,i)\n",
    "    return q"
   ]
  },
  {
   "cell_type": "code",
   "execution_count": 49,
   "metadata": {},
   "outputs": [
    {
     "name": "stdout",
     "output_type": "stream",
     "text": [
      "Congratulations, the test case passed!\n",
      "Congratulations, the test case passed!\n"
     ]
    }
   ],
   "source": [
    "# Test your function\n",
    "\n",
    "# Test1\n",
    "q = lettersAndStars(\"iLoveAddisCoder*\")\n",
    "s1 = \"LoveAddisCoder\"\n",
    "s2 = \"\"\n",
    "for i in q:\n",
    "    if i != None:\n",
    "        s2 += str(i)\n",
    "check(s1, s2)\n",
    "\n",
    "# Test2\n",
    "q = lettersAndStars(\"iHate*Lo**v**eShiro\")\n",
    "s1 = \"LoveShiro\"\n",
    "s2 = \"\"\n",
    "for i in q:\n",
    "    if i != None:\n",
    "        s2 += str(i)\n",
    "check(s1, s2)\n",
    "        "
   ]
  },
  {
   "cell_type": "markdown",
   "metadata": {},
   "source": [
    "__Challenge Problem:__ (Proposed by Joon Kim)\n",
    "\n",
    "Given a string of length at most 1000, we say that the string is balanced if it has a left-to-right sequence of characters where every open paranthetical character (i.e.`'[', '{', '('`) is followed later in the string by a matching enclosing paranthetical character (i.e.`']', '}', ')'`). A string is unbalanced if it includes any characters besides paranthetical characters. Consider empty strings as balanced. \n",
    "\n",
    "Return `Balanced` if the given string is balanced otherwise `Unbalanced`.\n",
    "\n",
    "Examples: \"`{ [ ] { ( ) } }`\" is balanced but \"`[ { } { } ( ]`\" and \"`[ m ]`\" are unbalanced."
   ]
  },
  {
   "cell_type": "code",
   "execution_count": 54,
   "metadata": {},
   "outputs": [],
   "source": [
    "# TODO: Implement check_balanced\n",
    "def check_balanced(par_string):\n",
    "    \"\"\"Checks if a string is balanced\"\"\"\n",
    "    stack = new_stack()\n",
    "    open_list = ['[', '{', '(']\n",
    "    close_list = [']', '}', ')']\n",
    "    for i in par_string: \n",
    "        if i in open_list: \n",
    "            add_stack(stack, i)\n",
    "        elif i in close_list: \n",
    "            if stack[0] <= 0:   #Error\n",
    "                return \"Unbalanced\"\n",
    "            pos = close_list.index(i) #can also use for loop\n",
    "            item = pop_stack(stack)\n",
    "            if open_list[pos] != item:  \n",
    "                return \"Unbalanced\"\n",
    "        else:\n",
    "            return \"Unbalanced\"\n",
    "    if stack[0] == 0: \n",
    "        return \"Balanced\""
   ]
  },
  {
   "cell_type": "code",
   "execution_count": 55,
   "metadata": {},
   "outputs": [
    {
     "ename": "TypeError",
     "evalue": "'<=' not supported between instances of 'str' and 'int'",
     "output_type": "error",
     "traceback": [
      "\u001b[1;31m---------------------------------------------------------------------------\u001b[0m",
      "\u001b[1;31mTypeError\u001b[0m                                 Traceback (most recent call last)",
      "\u001b[1;32m<ipython-input-55-8c550907d6bb>\u001b[0m in \u001b[0;36m<module>\u001b[1;34m\u001b[0m\n\u001b[0;32m      1\u001b[0m \u001b[1;31m## Test your solution\u001b[0m\u001b[1;33m\u001b[0m\u001b[1;33m\u001b[0m\u001b[1;33m\u001b[0m\u001b[0m\n\u001b[1;32m----> 2\u001b[1;33m \u001b[0mcheck\u001b[0m\u001b[1;33m(\u001b[0m\u001b[0mcheck_balanced\u001b[0m\u001b[1;33m(\u001b[0m\u001b[1;34m\"{[]{()}}\"\u001b[0m\u001b[1;33m)\u001b[0m\u001b[1;33m,\u001b[0m \u001b[1;34m\"Balanced\"\u001b[0m\u001b[1;33m)\u001b[0m\u001b[1;33m\u001b[0m\u001b[1;33m\u001b[0m\u001b[0m\n\u001b[0m\u001b[0;32m      3\u001b[0m \u001b[0mcheck\u001b[0m\u001b[1;33m(\u001b[0m\u001b[0mcheck_balanced\u001b[0m\u001b[1;33m(\u001b[0m\u001b[1;34m\"[{}{}(])\"\u001b[0m\u001b[1;33m)\u001b[0m\u001b[1;33m,\u001b[0m \u001b[1;34m\"Unbalanced\"\u001b[0m\u001b[1;33m)\u001b[0m\u001b[1;33m\u001b[0m\u001b[1;33m\u001b[0m\u001b[0m\n\u001b[0;32m      4\u001b[0m \u001b[0mcheck\u001b[0m\u001b[1;33m(\u001b[0m\u001b[0mcheck_balanced\u001b[0m\u001b[1;33m(\u001b[0m\u001b[1;34m\"]{}([{])}\"\u001b[0m\u001b[1;33m)\u001b[0m\u001b[1;33m,\u001b[0m \u001b[1;34m\"Unbalanced\"\u001b[0m\u001b[1;33m)\u001b[0m\u001b[1;33m\u001b[0m\u001b[1;33m\u001b[0m\u001b[0m\n\u001b[0;32m      5\u001b[0m \u001b[0mcheck\u001b[0m\u001b[1;33m(\u001b[0m\u001b[0mcheck_balanced\u001b[0m\u001b[1;33m(\u001b[0m\u001b[1;34m\"(kk)\"\u001b[0m\u001b[1;33m)\u001b[0m\u001b[1;33m,\u001b[0m \u001b[1;34m\"Unbalanced\"\u001b[0m\u001b[1;33m)\u001b[0m\u001b[1;33m\u001b[0m\u001b[1;33m\u001b[0m\u001b[0m\n",
      "\u001b[1;32m<ipython-input-54-64036a6e85f5>\u001b[0m in \u001b[0;36mcheck_balanced\u001b[1;34m(par_string)\u001b[0m\n\u001b[0;32m      9\u001b[0m             \u001b[0madd_stack\u001b[0m\u001b[1;33m(\u001b[0m\u001b[0mstack\u001b[0m\u001b[1;33m,\u001b[0m \u001b[0mi\u001b[0m\u001b[1;33m)\u001b[0m\u001b[1;33m\u001b[0m\u001b[1;33m\u001b[0m\u001b[0m\n\u001b[0;32m     10\u001b[0m         \u001b[1;32melif\u001b[0m \u001b[0mi\u001b[0m \u001b[1;32min\u001b[0m \u001b[0mclose_list\u001b[0m\u001b[1;33m:\u001b[0m\u001b[1;33m\u001b[0m\u001b[1;33m\u001b[0m\u001b[0m\n\u001b[1;32m---> 11\u001b[1;33m             \u001b[1;32mif\u001b[0m \u001b[0mstack\u001b[0m\u001b[1;33m[\u001b[0m\u001b[1;36m0\u001b[0m\u001b[1;33m]\u001b[0m \u001b[1;33m<=\u001b[0m \u001b[1;36m0\u001b[0m\u001b[1;33m:\u001b[0m\u001b[1;33m\u001b[0m\u001b[1;33m\u001b[0m\u001b[0m\n\u001b[0m\u001b[0;32m     12\u001b[0m                 \u001b[1;32mreturn\u001b[0m \u001b[1;34m\"Unbalanced\"\u001b[0m\u001b[1;33m\u001b[0m\u001b[1;33m\u001b[0m\u001b[0m\n\u001b[0;32m     13\u001b[0m             \u001b[0mpos\u001b[0m \u001b[1;33m=\u001b[0m \u001b[0mclose_list\u001b[0m\u001b[1;33m.\u001b[0m\u001b[0mindex\u001b[0m\u001b[1;33m(\u001b[0m\u001b[0mi\u001b[0m\u001b[1;33m)\u001b[0m \u001b[1;31m#can also use for loop\u001b[0m\u001b[1;33m\u001b[0m\u001b[1;33m\u001b[0m\u001b[0m\n",
      "\u001b[1;31mTypeError\u001b[0m: '<=' not supported between instances of 'str' and 'int'"
     ]
    }
   ],
   "source": [
    "## Test your solution\n",
    "check(check_balanced(\"{[]{()}}\"), \"Balanced\")\n",
    "check(check_balanced(\"[{}{}(])\"), \"Unbalanced\")\n",
    "check(check_balanced(\"]{}([{])}\"), \"Unbalanced\")\n",
    "check(check_balanced(\"(kk)\"), \"Unbalanced\")\n",
    "check(check_balanced(\"\"), \"Balanced\")\n",
    "check(check_balanced(\"()\"), \"Balanced\")\n",
    "check(check_balanced(\"][\"), \"Unbalanced\")"
   ]
  },
  {
   "cell_type": "markdown",
   "metadata": {},
   "source": [
    "## II. (Challange) Binary Search Tree\n",
    "\n",
    "A binary tree is a tree data structure in which each node has at most two children, referred to as the left child and the right child.\n",
    "\n",
    "![title](BinaryTree.png)\n",
    "\n",
    "- The __root__ of a tree is the first node from where the tree originates. \n",
    "\n",
    "- An __edge__ is the connecting link between any two nodes. \n",
    "\n",
    "- A __parent__ of a node is its ancestor. \n",
    "\n",
    "- A __child__ of a node is its descendant. \n",
    "\n",
    "- The __depth__ or __level__ of a node `M` in the tree is the length of the path from the `root` of the tree to `M`. \n",
    "\n",
    "- The __height__ of a tree is one more than the depth of the deepest node in the tree. \n",
    "\n",
    "- All nodes of depth `d` are at level `d` in the tree. The `root` is the only node at level `0`, and its depth is `0`.\n",
    "\n",
    "A Binary Search Tree is a node-based binary tree data structure which has the following properties:\n",
    "-  The left subtree of a node contains only nodes with keys lesser than or equal to the node’s key.\n",
    "-  The right subtree of a node contains only nodes with keys greater than the node’s key.\n",
    "-  The left and right subtree each must also be a binary search tree.\n",
    "\n",
    "![title](BST.png)"
   ]
  },
  {
   "cell_type": "markdown",
   "metadata": {},
   "source": [
    "Once again, we will use classes to represent our binary tree node structure called \"Node\".  \n",
    "__init__ allows us to initilize the attributes of any node and is run every time we create an object from a class.  \n",
    "__repr__ returns the formal representation of the tree."
   ]
  },
  {
   "cell_type": "code",
   "execution_count": 60,
   "metadata": {},
   "outputs": [],
   "source": [
    "class Node:\n",
    "    \n",
    "    def __init__(self, key):\n",
    "        \"\"\"Initialize node attributes.\"\"\"\n",
    "        self.key  = key \n",
    "        self.left = None\n",
    "        self.right = None\n",
    "    \n",
    "    def __repr__(self, level = 0):\n",
    "        \"\"\"Representation of a tree.\"\"\"\n",
    "        rep = repr(self.key) + \"\\n\"\n",
    "        if self.left is not None:\n",
    "            rep += \"\\t\" * (level + 1) + \"Left:\" + self.left.__repr__(level+1)\n",
    "        else:\n",
    "            rep += \"\\t\" * (level + 1) + \"(No left child)\" + \"\\n\"\n",
    "        if self.right is not None:\n",
    "            rep += \"\\t\" * (level + 1) + \"Right:\" + self.right.__repr__(level+1)\n",
    "        else:\n",
    "            rep += \"\\t\" * (level + 1) + \"(No right child)\" + \"\\n\"\n",
    "        return rep"
   ]
  },
  {
   "cell_type": "markdown",
   "metadata": {},
   "source": [
    "We can now use this class to form our example of a binary search tree as below:\n",
    "![title](BST.png)"
   ]
  },
  {
   "cell_type": "code",
   "execution_count": 61,
   "metadata": {},
   "outputs": [
    {
     "name": "stdout",
     "output_type": "stream",
     "text": [
      "8\n",
      "\tLeft:3\n",
      "\t\tLeft:1\n",
      "\t\t\t(No left child)\n",
      "\t\t\t(No right child)\n",
      "\t\tRight:6\n",
      "\t\t\tLeft:4\n",
      "\t\t\t\t(No left child)\n",
      "\t\t\t\t(No right child)\n",
      "\t\t\tRight:7\n",
      "\t\t\t\t(No left child)\n",
      "\t\t\t\t(No right child)\n",
      "\tRight:10\n",
      "\t\t(No left child)\n",
      "\t\tRight:14\n",
      "\t\t\tLeft:13\n",
      "\t\t\t\t(No left child)\n",
      "\t\t\t\t(No right child)\n",
      "\t\t\t(No right child)\n",
      "\n"
     ]
    }
   ],
   "source": [
    "t1_root = Node(8)\n",
    "t1_root.left = Node(3)\n",
    "t1_root.left.left = Node(1)\n",
    "t1_root.left.right = Node(6)\n",
    "t1_root.left.right.left = Node(4)\n",
    "t1_root.left.right.right = Node(7)\n",
    "t1_root.right = Node(10)\n",
    "t1_root.right.right = Node(14)\n",
    "t1_root.right.right.left = Node(13)\n",
    "\n",
    "print(t1_root)"
   ]
  },
  {
   "cell_type": "markdown",
   "metadata": {},
   "source": [
    "To make sure you understand how this class can be used to form __any__ binary tree, we also reproduced the following tree:\n",
    "![title](BinaryTree.png)"
   ]
  },
  {
   "cell_type": "code",
   "execution_count": 62,
   "metadata": {},
   "outputs": [
    {
     "name": "stdout",
     "output_type": "stream",
     "text": [
      "2\n",
      "\tLeft:7\n",
      "\t\tLeft:2\n",
      "\t\t\t(No left child)\n",
      "\t\t\t(No right child)\n",
      "\t\tRight:6\n",
      "\t\t\tLeft:5\n",
      "\t\t\t\t(No left child)\n",
      "\t\t\t\t(No right child)\n",
      "\t\t\tRight:11\n",
      "\t\t\t\t(No left child)\n",
      "\t\t\t\t(No right child)\n",
      "\tRight:5\n",
      "\t\t(No left child)\n",
      "\t\tRight:9\n",
      "\t\t\tLeft:4\n",
      "\t\t\t\t(No left child)\n",
      "\t\t\t\t(No right child)\n",
      "\t\t\t(No right child)\n",
      "\n"
     ]
    }
   ],
   "source": [
    "t2_root = Node(2)\n",
    "t2_root.left = Node(7)\n",
    "t2_root.right = Node(5)\n",
    "t2_root.left.left = Node(2)\n",
    "t2_root.left.right = Node(6)\n",
    "t2_root.left.right.left = Node(5)\n",
    "t2_root.left.right.right = Node(11)\n",
    "t2_root.right.right = Node(9)\n",
    "t2_root.right.right.left = Node(4)\n",
    "\n",
    "print(t2_root)"
   ]
  },
  {
   "cell_type": "markdown",
   "metadata": {},
   "source": [
    "Good! Now, we are ready to implement our operations starting with the __insert__ that takes as input _root_, the root of a binary search tree, and _node_, a node we want to add to our binary search tree, and adds _key_ to the binary search tree with root _root_.\n",
    "\n",
    "Remember that any binary search tree has to satisfy these three properties:\n",
    "-  The left subtree of a node contains only nodes with keys lesser than or equal to the node’s key.\n",
    "-  The right subtree of a node contains only nodes with keys greater than the node’s key.\n",
    "-  The left and right subtree each must also be a binary search tree."
   ]
  },
  {
   "cell_type": "code",
   "execution_count": 63,
   "metadata": {},
   "outputs": [],
   "source": [
    "# TODO: Implement insert\n",
    "def insert(root, node):\n",
    "    \"\"\"Insert key in the root's tree\"\"\"\n",
    "    if root is None: \n",
    "        root = node\n",
    "    else: \n",
    "        if root.key < node.key: \n",
    "            if root.right is None: \n",
    "                root.right = node\n",
    "            else: \n",
    "                insert(root.right, node) \n",
    "        else: \n",
    "            if root.left is None: \n",
    "                root.left = node\n",
    "            else: \n",
    "                insert(root.left, node)"
   ]
  },
  {
   "cell_type": "markdown",
   "metadata": {},
   "source": [
    "Great! Let's now use __insert__ to reproduce our previous binary search tree:\n",
    "![title](BST.png)"
   ]
  },
  {
   "cell_type": "markdown",
   "metadata": {},
   "source": [
    "__Note:__ The order of the insert operations does matter."
   ]
  },
  {
   "cell_type": "code",
   "execution_count": 64,
   "metadata": {},
   "outputs": [
    {
     "name": "stdout",
     "output_type": "stream",
     "text": [
      "Congratulations, the test case passed!\n"
     ]
    }
   ],
   "source": [
    "# TODO: Reproduce the binary search tree above using insert\n",
    "BST_root = Node(8)\n",
    "insert(BST_root, Node(3))\n",
    "insert(BST_root, Node(1))\n",
    "insert(BST_root, Node(6))\n",
    "insert(BST_root, Node(7))\n",
    "insert(BST_root, Node(4))\n",
    "insert(BST_root, Node(10))\n",
    "insert(BST_root, Node(14))\n",
    "insert(BST_root, Node(13))\n",
    "\n",
    "check(repr(BST_root), repr(t1_root))"
   ]
  },
  {
   "cell_type": "markdown",
   "metadata": {},
   "source": [
    "Now that we have __insert__, we can move on to implementing a __search__ function to test it!\n",
    "\n",
    "__search__ takes as input _root_, the root of a tree, and _key_, a key we want to search for in the nodes, and returns _True_ if the key is present in the tree and _False_ otherwise."
   ]
  },
  {
   "cell_type": "code",
   "execution_count": 65,
   "metadata": {},
   "outputs": [],
   "source": [
    "# TODO: Implement search\n",
    "def search(root, key):\n",
    "    \"\"\"Search for key in the root's tree\"\"\"\n",
    "    if root is None or root.key == key:\n",
    "        return True\n",
    "    elif root.key < key and root.right is not None:\n",
    "        return search(root.right, key)\n",
    "    elif root.left is not None:\n",
    "        return search(root.left, key)\n",
    "    return False"
   ]
  },
  {
   "cell_type": "code",
   "execution_count": 66,
   "metadata": {},
   "outputs": [
    {
     "name": "stdout",
     "output_type": "stream",
     "text": [
      "Congratulations, the test case passed!\n",
      "Congratulations, the test case passed!\n",
      "Congratulations, the test case passed!\n",
      "Congratulations, the test case passed!\n",
      "Congratulations, the test case passed!\n"
     ]
    }
   ],
   "source": [
    "## Test your implementation of Search and Insert\n",
    "check(search(t1_root, 7), True)\n",
    "check(search(t1_root, 12), False)\n",
    "check(search(Node(2), 3), False)\n",
    "\n",
    "import copy\n",
    "ex = copy.deepcopy(t1_root)\n",
    "check(search(insert(ex, Node(5)), 5), True)\n",
    "check(search(insert(ex, Node(12)), 12), True)"
   ]
  },
  {
   "cell_type": "code",
   "execution_count": 67,
   "metadata": {},
   "outputs": [
    {
     "name": "stdout",
     "output_type": "stream",
     "text": [
      "Congratulations, the test case passed!\n"
     ]
    }
   ],
   "source": [
    "## Test your new tree\n",
    "check(repr(BST_root), repr(t1_root))"
   ]
  },
  {
   "cell_type": "markdown",
   "metadata": {},
   "source": [
    "Awesome! Now all that is left is the __delete__ operation that takes in as input _root_, the root of a binary search tree and _key_, a key we want to delete from our binary search tree, and delete _key_ from the binary search tree with root _root_.\n",
    "\n",
    "__Note 1:__ You are given __minNode__, a helper function for __delete__, that takes as input _root_, the root of a binary search tree, and returns the minimum key value in the tree. How can you use it to implement __delete__?\n",
    "\n",
    "__Note 2:__ Below the following cell are hints to guide you when stuck. Run the cell associated to each hint to read it."
   ]
  },
  {
   "cell_type": "code",
   "execution_count": 69,
   "metadata": {},
   "outputs": [],
   "source": [
    "def minNode(root):\n",
    "    \"\"\"Return the node with minimum key value in the tree\"\"\"\n",
    "    current = root\n",
    "    while(current.left is not None): \n",
    "        current = minNode(root.left)\n",
    "    return current\n",
    "\n",
    "# TODO: Implement delete\n",
    "def delete(root, key):\n",
    "    \"\"\"Delete key from the root's tree\"\"\"\n",
    "    if root is None:\n",
    "        return root\n",
    "    elif key < root.key: \n",
    "        root.left = delete(root.left, key) \n",
    "    elif key > root.key: \n",
    "        root.right = delete(root.right, key) \n",
    "    elif root.key == key: \n",
    "        if root.left is None: \n",
    "            return root.right\n",
    "        elif root.right is None : \n",
    "            return root.left\n",
    "        root.key = minNode(root.right).key \n",
    "        root.right = delete(root.right , minNode(root.right).key) \n",
    "    return root"
   ]
  },
  {
   "cell_type": "code",
   "execution_count": 70,
   "metadata": {},
   "outputs": [
    {
     "name": "stdout",
     "output_type": "stream",
     "text": [
      "Hint 1: Consider recursion to reduce the size of the problem at every run by a subtree. \n"
     ]
    }
   ],
   "source": [
    "# Run this cell if you want to see Hint 1\n",
    "print(\"Hint 1: \" + AsciiToText([67,111,110,115,105,100,101,114,32,114,101,99,117,114,115,105,111,110,32,116,111,32,114,101,100,117,99,101,32,116,104,101,32,115,105,122,101,32,111,102,32,116,104,101,32,112,114,111,98,108,101,109,32,97,116,32,101,118,101,114,121,32,114,117,110,32,98,121,32,97,32,115,117,98,116,114,101,101,46,32]))"
   ]
  },
  {
   "cell_type": "code",
   "execution_count": 71,
   "metadata": {},
   "outputs": [
    {
     "name": "stdout",
     "output_type": "stream",
     "text": [
      "Hint 2: When we find the node with the desired key to delete, three possibilities arise.\n"
     ]
    }
   ],
   "source": [
    "# Run this cell if you want to see Hint 2\n",
    "print(\"Hint 2: \" + AsciiToText([87,104,101,110,32,119,101,32,102,105,110,100,32,116,104,101,32,110,111,100,101,32,119,105,116,104,32,116,104,101,32,100,101,115,105,114,101,100,32,107,101,121,32,116,111,32,100,101,108,101,116,101,44,32,116,104,114,101,101,32,112,111,115,115,105,98,105,108,105,116,105,101,115,32,97,114,105,115,101,46]))"
   ]
  },
  {
   "cell_type": "code",
   "execution_count": 72,
   "metadata": {},
   "outputs": [
    {
     "name": "stdout",
     "output_type": "stream",
     "text": [
      "Hint 3: The three possibilities are: Node to be deleted is leaf; Node to be deleted has only one child; and Node to be deleted has two children.\n"
     ]
    }
   ],
   "source": [
    "# Run this cell if you want to see Hint 3\n",
    "print(\"Hint 3: \" + AsciiToText([84,104,101,32,116,104,114,101,101,32,112,111,115,115,105,98,105,108,105,116,105,101,115,32,97,114,101,58,32,78,111,100,101,32,116,111,32,98,101,32,100,101,108,101,116,101,100,32,105,115,32,108,101,97,102,59,32,78,111,100,101,32,116,111,32,98,101,32,100,101,108,101,116,101,100,32,104,97,115,32,111,110,108,121,32,111,110,101,32,99,104,105,108,100,59,32,97,110,100,32,78,111,100,101,32,116,111,32,98,101,32,100,101,108,101,116,101,100,32,104,97,115,32,116,119,111,32,99,104,105,108,100,114,101,110,46]))"
   ]
  },
  {
   "cell_type": "code",
   "execution_count": 73,
   "metadata": {},
   "outputs": [
    {
     "name": "stdout",
     "output_type": "stream",
     "text": [
      "Congratulations, the test case passed!\n",
      "Congratulations, the test case passed!\n",
      "Congratulations, the test case passed!\n",
      "Congratulations, the test case passed!\n"
     ]
    }
   ],
   "source": [
    "## Test your implementation\n",
    "import copy\n",
    "example1 = Node(2)\n",
    "insert(example1, Node(3))\n",
    "check(repr(delete(example1, 3)), repr(Node(2)))\n",
    "check(repr(delete(example1, 3)), repr(Node(2)))\n",
    "check(str(repr(delete(example1, 2))), str(None))\n",
    "insert(example1, Node(4))\n",
    "insert(example1, Node(5))\n",
    "insert(example1, Node(3))\n",
    "insert(example1, Node(7))\n",
    "insert(example1, Node(8))\n",
    "insert(example1, Node(9))\n",
    "p = copy.deepcopy(example1)\n",
    "insert(example1, Node(1))\n",
    "insert(example1, Node(0))\n",
    "delete(example1, 1)\n",
    "insert(p, Node(0))\n",
    "check(repr(example1), repr(p))"
   ]
  },
  {
   "cell_type": "markdown",
   "metadata": {},
   "source": [
    "Congratulations! You have just finished implementing a fully operational Binary Search Tree data structure."
   ]
  },
  {
   "cell_type": "markdown",
   "metadata": {},
   "source": [
    "__Challenge Problem:__\n",
    "\n",
    "Now that we understand how to represent trees and operate on them, let's consider how we can check if an arbitrary tree with root _root_ is a binary search tree using a function __isBST__. Keep in mind the following properties of Binary Search Trees:\n",
    "-  The left subtree of a node contains only nodes with keys lesser than the node’s key.\n",
    "-  The right subtree of a node contains only nodes with keys greater than the node’s key.\n",
    "-  The left and right subtree each must also be a binary search tree.\n",
    "\n",
    "__Note 1:__ Below the following cells are hints to guide you when stuck. Run the cell associated to each hint to read it.\n",
    "\n",
    "__Note 2:__ There are at least two solutions to this problem. Any correct solution is a viable solution. Once you find a correct solution, check that it traverses every node only once. If it doesn't but it is correct, you can try to find the more efficient solution ;)"
   ]
  },
  {
   "cell_type": "code",
   "execution_count": 75,
   "metadata": {},
   "outputs": [],
   "source": [
    "# TODO: Implement isBST\n",
    "def isBST(root):\n",
    "    \"\"\"Returns True if an arbitrary tree is a Binary Search Tree\"\"\" \n",
    "    return (is_Limited_BST(root, -float(\"inf\"), +float(\"inf\"))) \n",
    "  \n",
    "def is_Limited_BST(root, mini, maxi): \n",
    "    \"\"\"Returns True if the given tree is a BST and its values are >= mini and <= maxi\"\"\"\n",
    "    if root is None: \n",
    "        return True\n",
    "    if root.key < mini or root.key > maxi: \n",
    "        return False \n",
    "    return (is_Limited_BST(root.left, mini, root.key -1) and is_Limited_BST(root.right, root.key+1, maxi))"
   ]
  },
  {
   "cell_type": "code",
   "execution_count": 76,
   "metadata": {},
   "outputs": [
    {
     "name": "stdout",
     "output_type": "stream",
     "text": [
      "Hint 1: Every parent's key has to be greater than its left child's key and smaller than its right child's key.\n"
     ]
    }
   ],
   "source": [
    "# Run this cell if you want to see Hint 1\n",
    "print(\"Hint 1: \" + AsciiToText([69,118,101,114,121,32,112,97,114,101,110,116,39,115,32,107,101,121,32,104,97,115,32,116,111,32,98,101,32,103,114,101,97,116,101,114,32,116,104,97,110,32,105,116,115,32,108,101,102,116,32,99,104,105,108,100,39,115,32,107,101,121,32,97,110,100,32,115,109,97,108,108,101,114,32,116,104,97,110,32,105,116,115,32,114,105,103,104,116,32,99,104,105,108,100,39,115,32,107,101,121,46]))"
   ]
  },
  {
   "cell_type": "code",
   "execution_count": 77,
   "metadata": {},
   "outputs": [
    {
     "name": "stdout",
     "output_type": "stream",
     "text": [
      "Hint 2: minNode, delete's helper function, can be used to solve this problem too.\n"
     ]
    }
   ],
   "source": [
    "# Run this cell if you want to see Hint 2\n",
    "print(\"Hint 2: \" + AsciiToText([109,105,110,78,111,100,101,44,32,100,101,108,101,116,101,39,115,32,104,101,108,112,101,114,32,102,117,110,99,116,105,111,110,44,32,99,97,110,32,98,101,32,117,115,101,100,32,116,111,32,115,111,108,118,101,32,116,104,105,115,32,112,114,111,98,108,101,109,32,116,111,111,46]))"
   ]
  },
  {
   "cell_type": "code",
   "execution_count": null,
   "metadata": {},
   "outputs": [],
   "source": [
    "# Run this cell if you want to see Hint 3\n",
    "print(\"Hint 3: \" + AsciiToText([65,32,104,101,108,112,101,114,32,102,117,110,99,116,105,111,110,32,99,97,110,32,107,101,101,112,32,116,114,97,99,107,32,111,102,32,116,104,101,32,110,97,114,114,111,119,105,110,103,32,109,105,110,32,97,110,100,32,109,97,120,32,97,108,108,111,119,101,100,32,118,97,108,117,101,115,32,97,115,32,111,110,101,32,116,114,97,118,101,114,115,101,115,32,100,111,119,110,32,116,104,101,32,116,114,101,101,46]))"
   ]
  },
  {
   "cell_type": "code",
   "execution_count": 78,
   "metadata": {},
   "outputs": [
    {
     "name": "stdout",
     "output_type": "stream",
     "text": [
      "Congratulations, the test case passed!\n",
      "Congratulations, the test case passed!\n"
     ]
    }
   ],
   "source": [
    "## Test your solution\n",
    "check(isBST(t1_root), True)\n",
    "check(isBST(t2_root), False)"
   ]
  }
 ],
 "metadata": {
  "kernelspec": {
   "display_name": "Python 3",
   "language": "python",
   "name": "python3"
  },
  "language_info": {
   "codemirror_mode": {
    "name": "ipython",
    "version": 3
   },
   "file_extension": ".py",
   "mimetype": "text/x-python",
   "name": "python",
   "nbconvert_exporter": "python",
   "pygments_lexer": "ipython3",
   "version": "3.7.3"
  },
  "varInspector": {
   "cols": {
    "lenName": 16,
    "lenType": 16,
    "lenVar": 40
   },
   "kernels_config": {
    "python": {
     "delete_cmd_postfix": "",
     "delete_cmd_prefix": "del ",
     "library": "var_list.py",
     "varRefreshCmd": "print(var_dic_list())"
    },
    "r": {
     "delete_cmd_postfix": ") ",
     "delete_cmd_prefix": "rm(",
     "library": "var_list.r",
     "varRefreshCmd": "cat(var_dic_list()) "
    }
   },
   "types_to_exclude": [
    "module",
    "function",
    "builtin_function_or_method",
    "instance",
    "_Feature"
   ],
   "window_display": false
  }
 },
 "nbformat": 4,
 "nbformat_minor": 2
}
