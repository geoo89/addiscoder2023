{
 "cells": [
  {
   "cell_type": "markdown",
   "metadata": {},
   "source": [
    "# Week 3 Day 4 - Graphs: Morning Exercises\n",
    "#### Adopted from Addis Coder 2019 with modifications by Hellina, Henok, and Mukerem."
   ]
  },
  {
   "cell_type": "code",
   "execution_count": 1,
   "metadata": {
    "scrolled": true
   },
   "outputs": [],
   "source": [
    "%run \"W3D4functions.ipynb\""
   ]
  },
  {
   "cell_type": "markdown",
   "metadata": {},
   "source": [
    "### 1. \n",
    "\n",
    "You are given a graph and two vertices. Check if they are neigbours. Recall that two vertices are neighbors if they are connected by an edge.\n",
    "\n",
    "For example, for ```G=[[1,2,3],[0],[0,4,5],[0],[2,5],[2,4]], x=2, y=5``` it should return ```True```"
   ]
  },
  {
   "cell_type": "code",
   "execution_count": 4,
   "metadata": {},
   "outputs": [],
   "source": [
    "def neighbours(G, x, y):\n",
    "    # Complete the function. G is a graph adjacency list, x and y are numbers of vertices\n",
    "    return"
   ]
  },
  {
   "cell_type": "markdown",
   "metadata": {},
   "source": [
    "#### Testcases"
   ]
  },
  {
   "cell_type": "code",
   "execution_count": null,
   "metadata": {},
   "outputs": [],
   "source": [
    "G = [[1, 2, 3], [0], [0, 4, 5], [0], [2, 5], [2, 4]]\n",
    "x = 2\n",
    "y = 5\n",
    "check(neighbours(G, x, y), True)\n",
    "G = [[1, 2, 3], [0], [0, 4, 5], [0], [2, 5], [2, 4]]\n",
    "x = 5\n",
    "y = 2\n",
    "check(neighbours(G, x, y), True)\n",
    "G = [[1, 2, 3], [0], [0, 4, 5], [0], [2, 5], [2, 4]]\n",
    "x = 3\n",
    "y = 2\n",
    "check(neighbours(G, x, y), False)\n",
    "G = [[1, 2, 3], [0], [0, 4, 5], [0], [2, 5], [2, 4]]\n",
    "x = 0\n",
    "y = 4\n",
    "check(neighbours(G, x, y), False)\n",
    "G = [[1, 3], [], [0, 4, 5], [0], [2, 5], [2, 4]]\n",
    "x = 0\n",
    "y = 2\n",
    "check(neighbours(G, x, y), False)\n",
    "G = [[1, 2, 3], [0], [0, 4, 5], [0], [2, 5], [2, 4]]\n",
    "x = 2\n",
    "y = 2\n",
    "check(neighbours(G, x, y), False)"
   ]
  },
  {
   "cell_type": "markdown",
   "metadata": {},
   "source": [
    "### 2.\n",
    "\n",
    "You are given a graph and two vertices. Check if they are distance two apart. For example, on the picture below vertices 1 and 2 are distance two apart while 3 and 4 are not and 4 and 5 are not because they are neighbours.\n",
    "<img src=\"w3d4_1.jpeg\">\n",
    "\n",
    "For example, we need to solve this problem to find out whether people $x$ and $y$ have mutual friends.\n",
    "\n",
    "For example, for ```G=[[1,2,3],[0],[0,4,5],[0],[2,5],[2,4]], x=2, y=3``` it should return ```True```.\n",
    "\n",
    "_Be sure you have checked all the corner cases_"
   ]
  },
  {
   "cell_type": "code",
   "execution_count": null,
   "metadata": {},
   "outputs": [],
   "source": [
    "def almost_neighbours(G, x, y):\n",
    "    # Complete the function. G is a graph adjacency list, x and y are numbers of vertices"
   ]
  },
  {
   "cell_type": "code",
   "execution_count": 2,
   "metadata": {},
   "outputs": [
    {
     "ename": "NameError",
     "evalue": "name 'neighbours' is not defined",
     "output_type": "error",
     "traceback": [
      "\u001b[0;31m---------------------------------------------------------------------------\u001b[0m",
      "\u001b[0;31mNameError\u001b[0m                                 Traceback (most recent call last)",
      "Cell \u001b[0;32mIn[2], line 4\u001b[0m\n\u001b[1;32m      2\u001b[0m x \u001b[38;5;241m=\u001b[39m \u001b[38;5;241m2\u001b[39m\n\u001b[1;32m      3\u001b[0m y \u001b[38;5;241m=\u001b[39m \u001b[38;5;241m5\u001b[39m\n\u001b[0;32m----> 4\u001b[0m \u001b[43mcorrect_almost_neighbours\u001b[49m\u001b[43m(\u001b[49m\u001b[43mG\u001b[49m\u001b[43m,\u001b[49m\u001b[43m \u001b[49m\u001b[43mx\u001b[49m\u001b[43m,\u001b[49m\u001b[43m \u001b[49m\u001b[43my\u001b[49m\u001b[43m)\u001b[49m\n",
      "File \u001b[0;32m/var/folders/ds/g6jpnww90q17fr0nr4169hmr0000gn/T/ipykernel_47969/2657567823.py:13\u001b[0m, in \u001b[0;36mcorrect_almost_neighbours\u001b[0;34m(G, x, y)\u001b[0m\n\u001b[1;32m     12\u001b[0m \u001b[38;5;28;01mdef\u001b[39;00m \u001b[38;5;21mcorrect_almost_neighbours\u001b[39m(G, x, y):\n\u001b[0;32m---> 13\u001b[0m     \u001b[38;5;28;01mif\u001b[39;00m x \u001b[38;5;241m==\u001b[39m y \u001b[38;5;129;01mor\u001b[39;00m \u001b[43mneighbours\u001b[49m(G, x, y):\n\u001b[1;32m     14\u001b[0m         \u001b[38;5;28;01mreturn\u001b[39;00m \u001b[38;5;28;01mFalse\u001b[39;00m\n\u001b[1;32m     15\u001b[0m     \u001b[38;5;28;01mfor\u001b[39;00m i \u001b[38;5;129;01min\u001b[39;00m G[x]:\n",
      "\u001b[0;31mNameError\u001b[0m: name 'neighbours' is not defined"
     ]
    }
   ],
   "source": [
    "G = [[1, 2, 3], [0], [0, 4, 5], [0], [2, 5], [2, 4]]\n",
    "x = 2\n",
    "y = 5\n",
    "correct_almost_neighbours(G, x, y)"
   ]
  },
  {
   "cell_type": "markdown",
   "metadata": {},
   "source": [
    "#### Testcases"
   ]
  },
  {
   "cell_type": "code",
   "execution_count": null,
   "metadata": {},
   "outputs": [],
   "source": [
    "G = [[1, 2, 3], [0], [0, 4, 5], [0], [2, 5], [2, 4]]\n",
    "x = 2\n",
    "y = 5\n",
    "check(almost_neighbours(G, x, y), )\n",
    "G = [[1, 2, 3], [0], [0, 4, 5], [0], [2, 5], [2, 4]]\n",
    "x = 3\n",
    "y = 2\n",
    "check(almost_neighbours(G, x, y), correct_almost_neighbours(G, x, y))\n",
    "G = [[1, 2, 3], [0], [0, 4, 5], [0], [2, 5], [2, 4]]\n",
    "x = 0\n",
    "y = 4\n",
    "check(almost_neighbours(G, x, y), correct_almost_neighbours(G, x, y))\n",
    "G = [[1, 2, 3], [0], [0, 4, 5], [0], [2, 5], [2, 4]]\n",
    "x = 1\n",
    "y = 5\n",
    "check(almost_neighbours(G, x, y), correct_almost_neighbours(G, x, y))\n",
    "G = [[1, 3], [], [0, 4, 5], [0], [2, 5], [2, 4]]\n",
    "x = 0\n",
    "y = 2\n",
    "check(almost_neighbours(G, x, y), correct_almost_neighbours(G, x, y))\n",
    "G = [[1, 2, 3], [0], [0, 4, 5], [0], [2, 5], [2, 4]]\n",
    "x = 2\n",
    "y = 2\n",
    "check(almost_neighbours(G, x, y), correct_almost_neighbours(G, x, y))"
   ]
  },
  {
   "cell_type": "markdown",
   "metadata": {},
   "source": [
    "### 3. (Challenge)\n",
    "\n",
    "Consider a graph with $N$ vertices numbered from 1 to $N$ and without edges, $N\\geq3$. You need to make it connected (every vertice should be reachable from each other) in a such way that sums of numbers of vertices adjacent to each vertice are equal. \n",
    "\n",
    "Below you can see such graph for $N=3$.\n",
    "\n",
    "<img src=\"w3d4_2.jpg\">\n",
    "\n",
    "Here each vertice has sum of nubers of adjacent vertices equals to 3.\n",
    "\n",
    "For example for the graph above ```solve(3)``` *may* return ```[[], [3], [3], [1, 2]]```.\n",
    "\n",
    "_Hint: solve the problem for even values of $N$ first_"
   ]
  },
  {
   "cell_type": "code",
   "execution_count": null,
   "metadata": {},
   "outputs": [],
   "source": [
    "def solve(n):\n",
    "    # Complete the function. It should return the graph adjacency list of size n+1, with an empty first list."
   ]
  },
  {
   "cell_type": "markdown",
   "metadata": {},
   "source": [
    "#### Testcases"
   ]
  },
  {
   "cell_type": "code",
   "execution_count": null,
   "metadata": {},
   "outputs": [],
   "source": [
    "n = 3\n",
    "check(solve(n), correct_solve(n))\n",
    "n = 4\n",
    "check(solve(n), correct_solve(n))\n",
    "n = 5\n",
    "check(solve(n), correct_solve(n))\n",
    "n = 6\n",
    "check(solve(n), correct_solve(n))\n",
    "n = 49\n",
    "check(solve(n), correct_solve(n))\n",
    "n = 50\n",
    "check(solve(n), correct_solve(n))"
   ]
  },
  {
   "cell_type": "code",
   "execution_count": null,
   "metadata": {},
   "outputs": [],
   "source": []
  }
 ],
 "metadata": {
  "kernelspec": {
   "display_name": "Python 3 (ipykernel)",
   "language": "python",
   "name": "python3"
  },
  "language_info": {
   "codemirror_mode": {
    "name": "ipython",
    "version": 3
   },
   "file_extension": ".py",
   "mimetype": "text/x-python",
   "name": "python",
   "nbconvert_exporter": "python",
   "pygments_lexer": "ipython3",
   "version": "3.11.1"
  }
 },
 "nbformat": 4,
 "nbformat_minor": 2
}
