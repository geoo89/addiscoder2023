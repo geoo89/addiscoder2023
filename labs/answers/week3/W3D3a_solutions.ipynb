{
 "cells": [
  {
   "cell_type": "markdown",
   "metadata": {},
   "source": [
    "# Week 3, Lecture 3, Morning"
   ]
  },
  {
   "cell_type": "markdown",
   "metadata": {},
   "source": [
    "Adopted from AddisCoder 2019 with modifications by Hellina, Henok, and Mukerem."
   ]
  },
  {
   "cell_type": "markdown",
   "metadata": {},
   "source": [
    "RUN THIS NEXT SNIPPET BEFORE STARTING THE EXERCISES"
   ]
  },
  {
   "cell_type": "code",
   "execution_count": 1,
   "metadata": {},
   "outputs": [],
   "source": [
    "def check(actual, expected):\n",
    "    if expected != actual:\n",
    "        print(\n",
    "            f\"Function should return the value {expected}, it is returning the value {actual}\")\n",
    "    else:\n",
    "        print(f\"Congratulations, the test case passed!\")"
   ]
  },
  {
   "cell_type": "markdown",
   "metadata": {},
   "source": [
    "## Question 0: List Review"
   ]
  },
  {
   "cell_type": "code",
   "execution_count": 2,
   "metadata": {},
   "outputs": [],
   "source": [
    "my_list = [3, -1, 5, 10, 15, -6, 4, 7]"
   ]
  },
  {
   "cell_type": "markdown",
   "metadata": {},
   "source": [
    "#### 0.1 \n",
    "Print all elements in `my_list` using a `for` loop."
   ]
  },
  {
   "cell_type": "code",
   "execution_count": 3,
   "metadata": {},
   "outputs": [
    {
     "name": "stdout",
     "output_type": "stream",
     "text": [
      "3\n",
      "-1\n",
      "5\n",
      "10\n",
      "15\n",
      "-6\n",
      "4\n",
      "7\n"
     ]
    }
   ],
   "source": [
    "for i in my_list:\n",
    "    print(i)"
   ]
  },
  {
   "cell_type": "markdown",
   "metadata": {},
   "source": [
    "#### 0.2\n",
    "Print all elements in `my_list` using a `while` loop."
   ]
  },
  {
   "cell_type": "code",
   "execution_count": 5,
   "metadata": {},
   "outputs": [
    {
     "name": "stdout",
     "output_type": "stream",
     "text": [
      "3\n",
      "-1\n",
      "5\n",
      "10\n",
      "15\n",
      "-6\n",
      "4\n",
      "7\n"
     ]
    }
   ],
   "source": [
    "i = 0\n",
    "while i < len(my_list):\n",
    "    print(my_list[i])\n",
    "    i += 1"
   ]
  },
  {
   "cell_type": "markdown",
   "metadata": {},
   "source": [
    "## Question 1: Dictionaries"
   ]
  },
  {
   "cell_type": "markdown",
   "metadata": {},
   "source": [
    "In python, we can create dictionaries with the following simple syntax:"
   ]
  },
  {
   "cell_type": "code",
   "execution_count": 6,
   "metadata": {},
   "outputs": [],
   "source": [
    "# here is a dictioary with a List of world Heritage sites in Ethiopia\n",
    "# with the year each site was inscribed on the world Heritage List.\n",
    "#Data taken from https://en.wikipedia.org/wiki/List_of_World_Heritage_Sites_in_Ethiopia\n",
    "ethiopia_unesco_heritage = {\n",
    "    'Aksum': '1980',\n",
    "    'Fasil Genb': '1979',\n",
    "    'Harar Jugol': '2006',\n",
    "    'Konso Landscape': '2011',\n",
    "    'Awash Valley': '1980',\n",
    "    'Omo Valley': '1890',\n",
    "    'Lalibela': '1978',\n",
    "    'Tiya': '1980'\n",
    "}"
   ]
  },
  {
   "cell_type": "markdown",
   "metadata": {},
   "source": [
    "An empty dictionary can be represented simply as `empty_dictionary = {}`. \n",
    "\n",
    "Each dictionary item is a \"key\" : \"value\" pair separated by a colon. The next item can be written into the dictionary with a comma between. We can also view the keys and the values in the dictonary with the following native python functions:"
   ]
  },
  {
   "cell_type": "code",
   "execution_count": 7,
   "metadata": {},
   "outputs": [
    {
     "name": "stdout",
     "output_type": "stream",
     "text": [
      "dict_items([('Aksum', '1980'), ('Fasil Genb', '1979'), ('Harar Jugol', '2006'), ('Konso Landscape', '2011'), ('Awash Valley', '1980'), ('Omo Valley', '1890'), ('Lalibela', '1978'), ('Tiya', '1980')])\n"
     ]
    }
   ],
   "source": [
    "# print(ethiopia_unesco_heritage.keys())\n",
    "# print(ethiopia_unesco_heritage.values())\n",
    "print(ethiopia_unesco_heritage.items())\n"
   ]
  },
  {
   "cell_type": "markdown",
   "metadata": {},
   "source": [
    "#### 1.1 \n",
    "Change the value associated with 'Omo Valley' key to '1980' instead of '1890'. Check to see that the change you make is correctly registered by printing key value pairs for `ethiopia_unesco_heritage`."
   ]
  },
  {
   "cell_type": "code",
   "execution_count": 10,
   "metadata": {},
   "outputs": [],
   "source": [
    "ethiopia_unesco_heritage[\"Omo Valley\"] = \"1980\""
   ]
  },
  {
   "cell_type": "markdown",
   "metadata": {},
   "source": [
    "Check for correctness by running the code snippet below."
   ]
  },
  {
   "cell_type": "code",
   "execution_count": 11,
   "metadata": {},
   "outputs": [
    {
     "name": "stdout",
     "output_type": "stream",
     "text": [
      "Congratulations, the test case passed!\n"
     ]
    }
   ],
   "source": [
    "check(ethiopia_unesco_heritage['Omo Valley'], '1980')"
   ]
  },
  {
   "cell_type": "markdown",
   "metadata": {},
   "source": [
    "#### 1.2 \n",
    "Create a function `add_site(K, V, D)` that takes in a key name `K` of type string, a value name `V` of type string, and a dictionary `D` that adds a new heritage site to the existing dictionary with the correct key value pair, then returns the new dictionary with the added heritage site."
   ]
  },
  {
   "cell_type": "code",
   "execution_count": 12,
   "metadata": {},
   "outputs": [],
   "source": [
    "def add_site(K, V, D):\n",
    "    D[K] = V\n",
    "    return D"
   ]
  },
  {
   "cell_type": "markdown",
   "metadata": {},
   "source": [
    "Check that the new key value pair was added correctly by running the code snippet below."
   ]
  },
  {
   "cell_type": "code",
   "execution_count": 14,
   "metadata": {},
   "outputs": [
    {
     "name": "stdout",
     "output_type": "stream",
     "text": [
      "Congratulations, the test case passed!\n"
     ]
    }
   ],
   "source": [
    "check(add_site('Semien National Park', '1978', ethiopia_unesco_heritage), {\n",
    "    'Aksum': '1980',\n",
    "    'Fasil Genb': '1979',\n",
    "    'Harar Jugol': '2006',\n",
    "    'Konso Landscape': '2011',\n",
    "    'Awash Valley': '1980',\n",
    "    'Omo Valley': '1980',\n",
    "    'Lalibela': '1978',\n",
    "    'Tiya': '1980',\n",
    "    'Semien National Park': '1978'\n",
    "})"
   ]
  },
  {
   "cell_type": "markdown",
   "metadata": {},
   "source": [
    "#### 1.3\n",
    "Finally, create a function called `count_sites(D)` that takes in a dictionary `D` with heritage sites and returns a new dictionary with keys that indicate the distinct years in the input dictionary D, and the values indicate the number of heriatge sites that were inscribed as a world heritage site in that year. \n",
    "\n",
    "For example, for the first version of our `ethiopia_unesco_heritage` dictionary, `count_sites(ethiopia_unesco_heritage)` should return the following dictionary:"
   ]
  },
  {
   "cell_type": "markdown",
   "metadata": {},
   "source": [
    "```\n",
    "{\n",
    "    '1980': 4,\n",
    "    '1979': 1,\n",
    "    '2006': 1,\n",
    "    '2011': 1,\n",
    "    '1978': 2\n",
    "}\n",
    "```"
   ]
  },
  {
   "cell_type": "code",
   "execution_count": 17,
   "metadata": {},
   "outputs": [],
   "source": [
    "def count_sites(D):\n",
    "    freq = {}\n",
    "    for i in D.values():\n",
    "        freq[i] = freq.get(i, 0) + 1\n",
    "    return freq\n"
   ]
  },
  {
   "cell_type": "markdown",
   "metadata": {},
   "source": [
    "Check for correctness of your function by running the code snippet below."
   ]
  },
  {
   "cell_type": "code",
   "execution_count": 18,
   "metadata": {},
   "outputs": [
    {
     "name": "stdout",
     "output_type": "stream",
     "text": [
      "Congratulations, the test case passed!\n"
     ]
    }
   ],
   "source": [
    "check(count_sites(ethiopia_unesco_heritage), {\n",
    "    '1980': 4,\n",
    "    '1979': 1,\n",
    "    '2006': 1,\n",
    "    '2011': 1,\n",
    "    '1978': 2\n",
    "})\n",
    "    "
   ]
  },
  {
   "cell_type": "markdown",
   "metadata": {},
   "source": [
    "## Question 2: Dictionaries Continued"
   ]
  },
  {
   "cell_type": "markdown",
   "metadata": {},
   "source": [
    "Now imagine that we are not given the dictionary of heritage sites, but we are givien two arrays. The first array contains just the keys in order and the second array contains just the values in order."
   ]
  },
  {
   "cell_type": "code",
   "execution_count": 22,
   "metadata": {},
   "outputs": [],
   "source": [
    "sites = ['Aksum', 'Harar Jugol','Konso Landscape', 'Fasil Genb',\n",
    "    'Awash Valley','Omo Valley', 'Lalibela', 'Tiya', 'Semien National Park']\n",
    "year = ['1980','2006','2011','1979','1980','1980','1978','1980','1978']\n"
   ]
  },
  {
   "cell_type": "markdown",
   "metadata": {},
   "source": [
    "#### 2.1 \n",
    "Create a function called `zip_lists(L_1, L_2)` that takes in two lists and returns a dictionary with the first list as keys and the second list as values. `zip_lists(sites, year)` should return the following:\n",
    "```\n",
    "{\n",
    "    'Aksum': '1980',\n",
    "    'Harar Jugol': '2006',\n",
    "    'Konso Landscape': '2011',\n",
    "    'Fasil Genb': '1979',\n",
    "    'Awash Valley': '1980',\n",
    "    'Omo Valley': '1980',\n",
    "    'Lalibela': '1978',\n",
    "    'Tiya': '1980',\n",
    "    'Semien National Park': '1978'\n",
    "}\n",
    "```"
   ]
  },
  {
   "cell_type": "code",
   "execution_count": 23,
   "metadata": {},
   "outputs": [],
   "source": [
    "def zip_lists(L_1, L2):\n",
    "    d = {}\n",
    "    for i,j in zip(L_1, L2):\n",
    "        d[i] = j\n",
    "    return d"
   ]
  },
  {
   "cell_type": "markdown",
   "metadata": {},
   "source": [
    "Check for correctness by running the code snippet below."
   ]
  },
  {
   "cell_type": "code",
   "execution_count": 24,
   "metadata": {},
   "outputs": [
    {
     "name": "stdout",
     "output_type": "stream",
     "text": [
      "Congratulations, the test case passed!\n"
     ]
    }
   ],
   "source": [
    "zipped = zip_lists(sites, year)\n",
    "check(zipped, {\n",
    "    'Aksum': '1980',\n",
    "    'Harar Jugol': '2006',\n",
    "    'Konso Landscape': '2011',\n",
    "    'Fasil Genb': '1979',\n",
    "    'Awash Valley': '1980',\n",
    "    'Omo Valley': '1980',\n",
    "    'Lalibela': '1978',\n",
    "    'Tiya': '1980',\n",
    "    'Semien National Park': '1978'\n",
    "})"
   ]
  },
  {
   "cell_type": "markdown",
   "metadata": {},
   "source": [
    "#### 2.2 \n",
    "Using the function you built previously, `count_sites`, create a function `min_sites(D)` that takes in a dictionary `D` of heritage sites and returns the year with the least number of sites inscribed in the dictionary. If multiple years have the same number of sites, return all the years."
   ]
  },
  {
   "cell_type": "code",
   "execution_count": 27,
   "metadata": {},
   "outputs": [],
   "source": [
    "def min_sites(D):\n",
    "    \n",
    "    freq = count_sites(D)\n",
    "    m = min(freq.values())\n",
    "    sites = [i for i in freq if freq[i] == m]\n",
    "    \n",
    "    return sorted(sites)\n"
   ]
  },
  {
   "cell_type": "markdown",
   "metadata": {},
   "source": [
    "Check for correctness by running the code snippet below."
   ]
  },
  {
   "cell_type": "code",
   "execution_count": 28,
   "metadata": {},
   "outputs": [
    {
     "name": "stdout",
     "output_type": "stream",
     "text": [
      "Congratulations, the test case passed!\n"
     ]
    }
   ],
   "source": [
    "check(min_sites(zipped), ['1979','2006','2011'])"
   ]
  },
  {
   "cell_type": "markdown",
   "metadata": {},
   "source": [
    "#### 2.3 \n",
    "Now create a function `max_sites(D)` with same input that returns the year when the highest number of sites were inscribed in the dictionary. If multiple years have the same number of sites, return all the years."
   ]
  },
  {
   "cell_type": "code",
   "execution_count": 29,
   "metadata": {},
   "outputs": [],
   "source": [
    "def max_sites(D):\n",
    "    freq = count_sites(D)\n",
    "    m = max(freq.values())\n",
    "    sites = [i for i in freq if freq[i] == m]\n",
    "    \n",
    "    return sorted(sites)\n"
   ]
  },
  {
   "cell_type": "markdown",
   "metadata": {},
   "source": [
    "Check for correctness by running the code snippet below."
   ]
  },
  {
   "cell_type": "code",
   "execution_count": 30,
   "metadata": {},
   "outputs": [
    {
     "name": "stdout",
     "output_type": "stream",
     "text": [
      "Congratulations, the test case passed!\n"
     ]
    }
   ],
   "source": [
    "check(max_sites(zipped), ['1980'])"
   ]
  },
  {
   "cell_type": "markdown",
   "metadata": {},
   "source": [
    "## Question 3: Hash tables"
   ]
  },
  {
   "cell_type": "markdown",
   "metadata": {},
   "source": [
    "In this section of the exercise, your goal is to implement a hash table! Recall that a hash table stores data into an array format. It uses a hashing function that generates a position to store any element or value."
   ]
  },
  {
   "cell_type": "markdown",
   "metadata": {},
   "source": [
    "As Ethiopia's Cultural Minster Officer, you have collected data about the average amount of money (in USD) a person spends per day at each of the Heritage sites."
   ]
  },
  {
   "cell_type": "code",
   "execution_count": 31,
   "metadata": {},
   "outputs": [],
   "source": [
    "sites_and_avg_money = {\n",
    "    'Axsum': 300,\n",
    "    'Lalibela': 253,\n",
    "    'Fasil Genb': 289,\n",
    "    'Tiya': 421,\n",
    "    'Semien National Park': 305,\n",
    "    'Awash Valley': 127,\n",
    "    'Harrar Jugol': 176,\n",
    "    'Konso': 304,\n",
    "    'Omo Valley': 232\n",
    "    \n",
    "}"
   ]
  },
  {
   "cell_type": "markdown",
   "metadata": {},
   "source": [
    "#### 3.1\n",
    "Create a hash table named `hash_table` of size 10 with empty data. To represent empty data, use python's native `None`."
   ]
  },
  {
   "cell_type": "code",
   "execution_count": 32,
   "metadata": {},
   "outputs": [],
   "source": [
    "hash = {i: None for i in range(10)}"
   ]
  },
  {
   "cell_type": "markdown",
   "metadata": {},
   "source": [
    "Now that we have an empty hash table initialized, below is a simple hash function."
   ]
  },
  {
   "cell_type": "code",
   "execution_count": 33,
   "metadata": {},
   "outputs": [],
   "source": [
    "def hash_func(key, hash_t):\n",
    "    return key % len(hash_t)"
   ]
  },
  {
   "cell_type": "markdown",
   "metadata": {},
   "source": [
    "#### 3.2 \n",
    "Create a function called `insert_to_hash`, which takes in the key, the value, and the hash table, then inserts item into our hash table and returns the hash table. Make sure to use the hash function you wrote above to use as the position when inserting into the table."
   ]
  },
  {
   "cell_type": "code",
   "execution_count": 34,
   "metadata": {},
   "outputs": [],
   "source": [
    "def insert_to_hash(key, val, hash_t):\n",
    "    hash_t[hash_func(key, hash_t)] = val\n",
    "    return hash_t"
   ]
  },
  {
   "cell_type": "markdown",
   "metadata": {},
   "source": [
    "Check for correctness by running the code snippet below."
   ]
  },
  {
   "cell_type": "code",
   "execution_count": 35,
   "metadata": {},
   "outputs": [
    {
     "name": "stdout",
     "output_type": "stream",
     "text": [
      "Congratulations, the test case passed!\n"
     ]
    }
   ],
   "source": [
    "test_table = [None]*10\n",
    "check_against = [None, None, None, None, 'Konso', None, None, None, None, None]\n",
    "check(insert_to_hash(304, 'Konso', test_table), check_against)"
   ]
  },
  {
   "cell_type": "markdown",
   "metadata": {},
   "source": [
    "#### 3.3 \n",
    "Create a function called `insert_dictionary_to_hash` that takes in a dictonary and a hash table to insert all items from the dictionary into the hash table, and returns the final hash table. Make sure to use `insert_to_hash` function you completed above."
   ]
  },
  {
   "cell_type": "code",
   "execution_count": 40,
   "metadata": {},
   "outputs": [],
   "source": [
    "def insert_dictionary_to_hash(dictionary, hash_t):\n",
    "    c = 0\n",
    "    for i in dictionary:\n",
    "        hash_t[hash_func(c, hash_t)] = dictionary[i]\n",
    "        c += 1\n",
    "    return hash_t\n"
   ]
  },
  {
   "cell_type": "markdown",
   "metadata": {},
   "source": [
    "Check for correctness by running the code snippet below."
   ]
  },
  {
   "cell_type": "code",
   "execution_count": 41,
   "metadata": {},
   "outputs": [
    {
     "name": "stdout",
     "output_type": "stream",
     "text": [
      "Function should return the value ['Aksum', 'Tiya', 'Omo Valley', 'Lalibela', 'Konso', 'Semien National Park', 'Harrar Jugoul', 'Awash Valley', None, 'Fasil Genb'], it is returning the value [300, 253, 289, 421, 305, 127, 176, 304, 232, None]\n"
     ]
    }
   ],
   "source": [
    "test_table_2 = [None]*10\n",
    "check_against_2 = ['Aksum', 'Tiya', 'Omo Valley', 'Lalibela', 'Konso', 'Semien National Park', 'Harrar Jugoul', 'Awash Valley', None, 'Fasil Genb']\n",
    "check(insert_dictionary_to_hash(sites_and_avg_money, test_table_2), check_against_2)"
   ]
  },
  {
   "cell_type": "markdown",
   "metadata": {},
   "source": [
    "## Question 4: Advanced Dictionary Analysis (challenge)"
   ]
  },
  {
   "cell_type": "markdown",
   "metadata": {},
   "source": [
    "The Head of the African Union wants you to put together the list of capital cities in African countries. However, you notice that you have duplicate country and capital city names in your data."
   ]
  },
  {
   "cell_type": "code",
   "execution_count": 44,
   "metadata": {},
   "outputs": [],
   "source": [
    "capital_cities = {\n",
    "    'Ethiopia': 'Addis Ababa',\n",
    "    'Niger': 'Niamey',\n",
    "    'South Africa': 'Pretoria',\n",
    "    'Egypt': 'Cairo',\n",
    "    'Morroco': 'Rabat',\n",
    "    'DRC': 'Kinshasa',\n",
    "    'Ethiopia': 'Addis Ababa',\n",
    "    'Namibia': 'Windhoek',\n",
    "    'Congo': 'Brazzaville',\n",
    "    'Gabon': 'Libreville',\n",
    "    'Egypt': 'Cairo',\n",
    "    'Morroco': 'Rabat',\n",
    "    'Ertiera': 'Asmera',\n",
    "    'Somalia': 'Mogadishu',\n",
    "    'Mali': 'Bamako'\n",
    "}"
   ]
  },
  {
   "cell_type": "markdown",
   "metadata": {},
   "source": [
    "#### 4.1 \n",
    "First, create a function `remove_duplicates(D)` that takes in a dictionary with capital cities and returns a new dictionary with duplicates removed."
   ]
  },
  {
   "cell_type": "code",
   "execution_count": 45,
   "metadata": {},
   "outputs": [],
   "source": [
    "def remove_duplicates(D):\n",
    "    return dict(D)"
   ]
  },
  {
   "cell_type": "markdown",
   "metadata": {},
   "source": [
    "Check for correctness by running the code snippet below."
   ]
  },
  {
   "cell_type": "code",
   "execution_count": 46,
   "metadata": {},
   "outputs": [
    {
     "name": "stdout",
     "output_type": "stream",
     "text": [
      "Function should return the value {'Ethiopia': 'Addis Ababa', 'Niger': 'Niamey', 'South Africa': 'Pretoria', 'Egypt': 'Cairo', 'Morroco': 'Rabat', 'DRC': 'Kinshasa', 'Namibia': 'Windhoek', 'Congo': 'Brazzaville', 'Gabon': 'Libreville', 'Eritrea': 'Asmera', 'Somalia': 'Mogadishu', 'Mali': 'Bamako'}, it is returning the value {'Ethiopia': 'Addis Ababa', 'Niger': 'Niamey', 'South Africa': 'Pretoria', 'Egypt': 'Cairo', 'Morroco': 'Rabat', 'DRC': 'Kinshasa', 'Namibia': 'Windhoek', 'Congo': 'Brazzaville', 'Gabon': 'Libreville', 'Ertiera': 'Asmera', 'Somalia': 'Mogadishu', 'Mali': 'Bamako'}\n"
     ]
    }
   ],
   "source": [
    "check(remove_duplicates(capital_cities), {\n",
    "    'Ethiopia': 'Addis Ababa',\n",
    "    'Niger': 'Niamey',\n",
    "    'South Africa': 'Pretoria',\n",
    "    'Egypt': 'Cairo',\n",
    "    'Morroco': 'Rabat',\n",
    "    'DRC': 'Kinshasa',\n",
    "    'Namibia': 'Windhoek',\n",
    "    'Congo': 'Brazzaville',\n",
    "    'Gabon': 'Libreville',\n",
    "    'Eritrea': 'Asmera',\n",
    "    'Somalia': 'Mogadishu',\n",
    "    'Mali': 'Bamako'\n",
    "})"
   ]
  },
  {
   "cell_type": "markdown",
   "metadata": {},
   "source": [
    "The Head of the AU is content with the new list without duplicated information! However, another problem arose. The Head receives two dictionaries; one dictionary `subregion_to_country` contains subregions as keys and lists of countries under the specific subregions as values while the second dictionary `country_to_city` contains a list of cities found in each country."
   ]
  },
  {
   "cell_type": "code",
   "execution_count": 58,
   "metadata": {},
   "outputs": [],
   "source": [
    "subregion_to_country = {\n",
    "    'South': ['South Africa', 'Namibia'],\n",
    "    'North': ['Egypt', 'Morocco'],\n",
    "    'Central': ['DRC', 'Congo', 'Gabon'],\n",
    "    'East': ['Ethiopia', 'Eritrea', 'Somalia'],\n",
    "    'West': ['Niger', 'Mali']\n",
    "}\n",
    "\n",
    "country_to_city = {\n",
    "    'Ethiopia': ['Addis Ababa', 'Adama', 'Mekelle'],\n",
    "    'Niger': ['Niamey'],\n",
    "    'South Africa': ['Pretoria', 'Cape Town', 'Johannsburg'],\n",
    "    'Egypt': ['Cairo'],\n",
    "    'Morocco': ['Rabat'],\n",
    "    'DRC': ['Kinshasa'],\n",
    "    'Namibia': ['Windhoek'],\n",
    "    'Congo': ['Brazzaville'],\n",
    "    'Gabon': ['Libreville'],\n",
    "    'Eritrea': ['Asmera', 'Assab'],\n",
    "    'Somalia': ['Mogadishu'],\n",
    "    'Mali': ['Bamako']\n",
    "}"
   ]
  },
  {
   "cell_type": "markdown",
   "metadata": {},
   "source": [
    "#### 4.2 \n",
    "The Head of the AU wants a consolidated dictionary with keys being subregions and values being lists of cities found in the subregion. Create a function `consolidate(D_1, D_2)` that takes in two dictionaries and returns a single dictionary with keys being distinct subregions and values being lists of cities found in the each of the countries found in that subregion."
   ]
  },
  {
   "cell_type": "code",
   "execution_count": 59,
   "metadata": {},
   "outputs": [],
   "source": [
    "def consolidate(D_1, D_2):\n",
    "    d = {i: [] for i in D_1}\n",
    "    for i in D_2:\n",
    "        for j in D_1:\n",
    "            if i in D_1[j]:\n",
    "                d[j].extend(D_2[i])\n",
    "                break\n",
    "    return d"
   ]
  },
  {
   "cell_type": "markdown",
   "metadata": {},
   "source": [
    "Check for correctness by running the code snippet below."
   ]
  },
  {
   "cell_type": "code",
   "execution_count": 60,
   "metadata": {},
   "outputs": [
    {
     "name": "stdout",
     "output_type": "stream",
     "text": [
      "Congratulations, the test case passed!\n"
     ]
    }
   ],
   "source": [
    "check(consolidate(subregion_to_country, country_to_city), {\n",
    "   'South': ['Pretoria', 'Cape Town', 'Johannsburg', 'Windhoek'],\n",
    "    'North': ['Cairo', 'Rabat'],\n",
    "    'Central': ['Kinshasa', 'Brazzaville', 'Libreville'],\n",
    "    'East': ['Addis Ababa', 'Adama', 'Mekelle', 'Asmera', 'Assab', 'Mogadishu'],\n",
    "    'West': ['Niamey', 'Bamako']\n",
    "})"
   ]
  },
  {
   "cell_type": "markdown",
   "metadata": {},
   "source": [
    "## Question 5: Words and Characters (challenge)"
   ]
  },
  {
   "cell_type": "markdown",
   "metadata": {},
   "source": [
    "#### Given a list of words and a list of characters, return a list with all valid words that are possible using characters from the list. Note: Repetitions of characters is not allowed. Write your code inside `possible_words`  function. Helper functions are allowed.\n",
    "Here is an example:"
   ]
  },
  {
   "cell_type": "markdown",
   "metadata": {},
   "source": [
    "Input"
   ]
  },
  {
   "cell_type": "code",
   "execution_count": 62,
   "metadata": {},
   "outputs": [],
   "source": [
    "words_ex = [\"go\", \"bat\", \"me\", \"eat\", \"goal\", \"boy\", \"run\"]\n",
    "characters_ex = ['e', 'o', 'b', 'a', 'm', 'g', 'l']"
   ]
  },
  {
   "cell_type": "markdown",
   "metadata": {},
   "source": [
    "Output"
   ]
  },
  {
   "cell_type": "code",
   "execution_count": 63,
   "metadata": {},
   "outputs": [
    {
     "data": {
      "text/plain": [
       "['go', 'me', 'goal']"
      ]
     },
     "execution_count": 63,
     "metadata": {},
     "output_type": "execute_result"
    }
   ],
   "source": [
    "[\"go\", \"me\", \"goal\"]"
   ]
  },
  {
   "cell_type": "code",
   "execution_count": 64,
   "metadata": {},
   "outputs": [],
   "source": [
    "def possible_words(words_arr, chars_arr):\n",
    "    possible = []\n",
    "    for word in words_arr:\n",
    "        for c in word:\n",
    "            if c not in chars_arr:\n",
    "                break\n",
    "        else:\n",
    "            possible.append(word)\n",
    "    return possible\n"
   ]
  },
  {
   "cell_type": "markdown",
   "metadata": {},
   "source": [
    "Check for correctness by running the code snippet below."
   ]
  },
  {
   "cell_type": "code",
   "execution_count": 65,
   "metadata": {},
   "outputs": [
    {
     "name": "stdout",
     "output_type": "stream",
     "text": [
      "Congratulations, the test case passed!\n"
     ]
    }
   ],
   "source": [
    "check(possible_words(words_ex, characters_ex), [\"go\", \"me\", \"goal\"])"
   ]
  }
 ],
 "metadata": {
  "kernelspec": {
   "display_name": "Python 3 (ipykernel)",
   "language": "python",
   "name": "python3"
  },
  "language_info": {
   "codemirror_mode": {
    "name": "ipython",
    "version": 3
   },
   "file_extension": ".py",
   "mimetype": "text/x-python",
   "name": "python",
   "nbconvert_exporter": "python",
   "pygments_lexer": "ipython3",
   "version": "3.11.1"
  },
  "varInspector": {
   "cols": {
    "lenName": 16,
    "lenType": 16,
    "lenVar": 40
   },
   "kernels_config": {
    "python": {
     "delete_cmd_postfix": "",
     "delete_cmd_prefix": "del ",
     "library": "var_list.py",
     "varRefreshCmd": "print(var_dic_list())"
    },
    "r": {
     "delete_cmd_postfix": ") ",
     "delete_cmd_prefix": "rm(",
     "library": "var_list.r",
     "varRefreshCmd": "cat(var_dic_list()) "
    }
   },
   "types_to_exclude": [
    "module",
    "function",
    "builtin_function_or_method",
    "instance",
    "_Feature"
   ],
   "window_display": false
  }
 },
 "nbformat": 4,
 "nbformat_minor": 2
}
