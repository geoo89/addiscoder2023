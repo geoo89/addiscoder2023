{
  "cells": [
    {
      "cell_type": "markdown",
      "metadata": {
        "id": "ud36Bq-0JklO"
      },
      "source": [
        "# Lecture 6, Exercise A"
      ]
    },
    {
      "cell_type": "markdown",
      "metadata": {
        "id": "ixZ8KSu-16a4"
      },
      "source": [
        "#### Run the following cell before doing the exercises."
      ]
    },
    {
      "cell_type": "code",
      "execution_count": 3,
      "metadata": {
        "id": "CpSgZ1kiJklR"
      },
      "outputs": [],
      "source": [
        "# Run this function\n",
        "def check(fn, *input, expected):\n",
        "    result = fn(*input)\n",
        "    if expected != result:\n",
        "        print(\n",
        "            f\"Function should return the value {expected}, it is returning the value {result}.\")\n",
        "    else:\n",
        "        print(f\"Congratulations, the test case passed!\")"
      ]
    },
    {
      "cell_type": "markdown",
      "source": [
        "##Question 1: Reviewing Week 1 Essentials\n",
        "\n",
        "So, last week there were some important concepts you needed to understand which will help you in the coming weeks. To make sure you've got it, we've prepared a few exercises to help you 😀.\n",
        "## First Concept: Functions are general\n",
        "\n",
        "When we say functions are general it means that every function you define should be able to work for any valid input you give it.\n",
        "\n",
        "It's just like how the `len` function can give you the length of any list or any string.\n",
        "\n",
        "```python\n",
        "len([9,3,2]) # 3\n",
        "\n",
        "len(\"I'm excited for week 2!\") # 23\n",
        "\n",
        "len(9) # invalid input, TypeError\n",
        "```\n",
        "\n",
        "Imagine how much harder labs would have been last week if `len` only worked for \"hello world\" 😖.\n"
      ],
      "metadata": {
        "id": "iHdAe1kF9g0R"
      }
    },
    {
      "cell_type": "markdown",
      "source": [
        "### 1.1\n",
        "\n",
        "To reinforce this concept let's do an example problem :)\n",
        "\n",
        "Akayou needs a function that can tell him the favorite dish of his fellow TAs so he can buy them dinner. He writes the following code:"
      ],
      "metadata": {
        "id": "NPiRTU2AB3bm"
      }
    },
    {
      "cell_type": "code",
      "source": [
        "## Run this code but don't alter it\n",
        "favoriteFoods = [\n",
        "  [\"Tony\", \"Hot pot\"],\n",
        "  [\"Akayou\", \"Grilled fish\"],\n",
        "  [\"Biniyam\", \"Raw meat\"],\n",
        "  [\"Alex\", \"Fried chicken\"],\n",
        "  [\"Ken\", \"Matcha ice cream\"],\n",
        "  [\"Helina\", \"Tibs\"],\n",
        "  [\"Henok\", \"Shiro\"],\n",
        "  [\"Noam\", \"Hummus\"],\n",
        "  [\"Abraham\", \"Tegabino\"],\n",
        "  [\"Yeabsira\", \"Misir wat\"],\n",
        "  [\"Yared\", \"Kitfo\"],\n",
        "  [\"Hana\", \"Doro wat\"],\n",
        "  [\"Menbere\", \"Rice\"],\n",
        "  [\"Bontu\", \"Shekla Tibs\"]\n",
        "]\n",
        "\n",
        "def find_favorite_dish(ta):\n",
        "  \"\"\"Takes the name of a TA and returns their favorite dish.\n",
        "  Input: TA (str)\n",
        "  Output: (str)\n",
        "  \"\"\"\n",
        "  for preference in favoriteFoods:\n",
        "    if preference[0] == ta:\n",
        "      return preference[1]\n",
        "  return f\"The favorite dish of {ta} was not found :(\""
      ],
      "metadata": {
        "id": "nrYk8vhPeDs4"
      },
      "execution_count": null,
      "outputs": []
    },
    {
      "cell_type": "markdown",
      "source": [
        "Using `find_favorite_dish`, print the following national dishes\n",
        "\n",
        "1. Shiro\n",
        "2. Fried chicken\n",
        "3. Rice\n",
        "4. Misir wat"
      ],
      "metadata": {
        "id": "J_z8dUppeMnb"
      }
    },
    {
      "cell_type": "code",
      "source": [
        "# Write your answers here\n",
        "# 1.\n",
        "print(find_favorite_dish('Henok'))\n",
        "\n",
        "# 2.\n",
        "print(find_favorite_dish('Alex'))\n",
        "\n",
        "# 3.\n",
        "print(find_favorite_dish('Menbere'))\n",
        "\n",
        "# 4.\n",
        "print(find_favorite_dish('Yeabsira'))"
      ],
      "metadata": {
        "colab": {
          "base_uri": "https://localhost:8080/"
        },
        "id": "2-_p15TGK6rj",
        "outputId": "640e8ac0-785d-4bee-c1fc-262463c81c41"
      },
      "execution_count": null,
      "outputs": [
        {
          "output_type": "stream",
          "name": "stdout",
          "text": [
            "Shiro\n",
            "Fried chicken\n",
            "Rice\n",
            "Misir wat\n"
          ]
        }
      ]
    },
    {
      "cell_type": "markdown",
      "source": [
        "## Second Concept: Indentation\n",
        "\n",
        "So, last week, understanding indentation in Python was very helpful for dealing with loops (for and while) and if statements. The indentation of the lines of code can determine whether it is part of a function or if its part of a loop or not. It can also determine when the line is run."
      ],
      "metadata": {
        "id": "mTNt-JwhDDnQ"
      }
    },
    {
      "cell_type": "markdown",
      "source": [
        "### 1.2\n",
        "Just as a reminder, this was the definition for `find_national_dish`\n",
        "\n",
        "```python\n",
        "def find_favorite_dish(ta):\n",
        "  \"\"\"Takes the name of a TA and returns their favorite dish.\n",
        "  Input: TA (str)\n",
        "  Output: (str)\n",
        "  \"\"\"\n",
        "  for preference in favoriteFoods:\n",
        "    if preference[0] == ta:\n",
        "      return preference[1]\n",
        "  return f\"The favorite dish of {ta} was not found :(\"\n",
        "```\n",
        "\n",
        "Akayou was messing around with the implementation and indented the last line to be in line with the if statement like:\n",
        "\n",
        "```python\n",
        "def find_favorite_dish(ta):\n",
        "  \"\"\"Takes the name of a TA and returns their favorite dish.\n",
        "  Input: TA (str)\n",
        "  Output: (str)\n",
        "  \"\"\"\n",
        "  for preference in favoriteFoods:\n",
        "    if preference[0] == ta:\n",
        "      return preference[1]\n",
        "    return f\"The favorite dish of {ta} was not found :(\"\n",
        "```\n",
        "\n",
        "What would happen if he tests it by calling `find_favorite_dish(\"Biniyam\")`?\n",
        "\n"
      ],
      "metadata": {
        "id": "XC_YC6B_DZkC"
      }
    },
    {
      "cell_type": "code",
      "source": [
        "# Write your answer here in a comment\n",
        "# It will only look at the first pair and if the ta is not in there, it will return favorite dish not found."
      ],
      "metadata": {
        "id": "Vo-ytHQ6DNbv"
      },
      "execution_count": null,
      "outputs": []
    },
    {
      "cell_type": "markdown",
      "source": [
        "## Third Concept: Scope\n",
        "\n",
        "Last week we also learnt about scope in Python :). Each function has a scope (local scope) that is specific them. On the other hand, outside functions exists the global scope. Variables declared inside a function exist only inside that function's scope and cannot be used outside of it.\n",
        "\n",
        "\n",
        "We also learnt about the `global` keyword which can be used inside functions to tell Python to modify a variable in the global scope\n",
        "rather than create a new variable in the function's scope."
      ],
      "metadata": {
        "id": "dUsf-ZUwLHT8"
      }
    },
    {
      "cell_type": "markdown",
      "source": [
        "### 1.3\n",
        "\n",
        "1.3.1. Akayou also wants to make a program that can greet other persons. Once it gets the name of the person it should say hi and ask for their age. He tries to write the following code but it keeps failing 😞.\n",
        "\n",
        "```python\n",
        "age = 0\n",
        "\n",
        "def greet(name):\n",
        "  \"\"\"Prints a greeting\n",
        "  Input: name (str)\n",
        "  Output: (None)\n",
        "  \"\"\"\n",
        "  print(f\"Hi, {name}\")\n",
        "\n",
        "def ask_age():\n",
        "  \"\"\"Asks a person what their age is\n",
        "  Input: (None)\n",
        "  Output: (None)\n",
        "  \"\"\"\n",
        "  age = int(input(f\"{name}, how old are you?: \"))\n",
        "\n",
        "greet(\"Hellina\")\n",
        "ask_age()\n",
        "print(f\"Okay, now I know you're {age} years old\")\n",
        "```\n",
        "\n",
        "What do you think would happen when the last three lines of this code are run? Explain why."
      ],
      "metadata": {
        "id": "sdoGhYO8L8q3"
      }
    },
    {
      "cell_type": "code",
      "source": [
        "## ask_age() will throw an error because name is not defined with in that function. Also the age variable must be updated globally or else it will print 0 years for any input."
      ],
      "metadata": {
        "colab": {
          "base_uri": "https://localhost:8080/"
        },
        "id": "HPWsuvc2LGaJ",
        "outputId": "8ec0009e-adae-40af-c8b1-7858a805eaa3"
      },
      "execution_count": null,
      "outputs": [
        {
          "output_type": "stream",
          "name": "stdout",
          "text": [
            "Hi, Hellina\n",
            "Hellina, how old are you?: 6\n",
            "Okay, now I know you're 6 years old\n"
          ]
        }
      ]
    },
    {
      "cell_type": "markdown",
      "source": [
        "1.3.2. (Optional)\n",
        "Fix the code so that it works as intended"
      ],
      "metadata": {
        "id": "dBivB3eYDgvX"
      }
    },
    {
      "cell_type": "code",
      "source": [
        "age = 0\n",
        "\n",
        "def greet(name):\n",
        "  \"\"\"Prints a greeting\n",
        "  Input: name (str)\n",
        "  Output: (None)\n",
        "  \"\"\"\n",
        "  print(f\"Hi, {name}\")\n",
        "\n",
        "def ask_age(name):\n",
        "  \"\"\"Asks a person what their age is\n",
        "  Input: (None)\n",
        "  Output: (None)\n",
        "  \"\"\"\n",
        "  age = int(input(f\"{name}, how old are you?: \"))\n",
        "  return age\n",
        "\n",
        "greet(\"Hellina\")\n",
        "age = ask_age(\"Hellina\")\n",
        "print(f\"Okay, now I know you're {age} years old\")"
      ],
      "metadata": {
        "id": "hy697Yqqg887"
      },
      "execution_count": null,
      "outputs": []
    },
    {
      "cell_type": "markdown",
      "metadata": {
        "id": "7qDuMHjTJklV"
      },
      "source": [
        "## Question 2: Grading\n",
        "Dr. Kang is assigning grades to his students. Help him write a grading function that takes a student's score (out of 100) as input and returns a letter grade. The cutoffs for grades are included below.<br>\n",
        "\n",
        "Range | Grade\n",
        "----------|----------\n",
        "[95-100] | A+\n",
        "[85-94] | A\n",
        "[80-84] | A-\n",
        "[75-79] | B+\n",
        "[70-74] | B\n",
        "[65-69] | B-\n",
        "[60-64] | C+\n",
        "[55-59] | C\n",
        "[50-54] | C-\n",
        "[45-49] | D\n",
        "[0-45] | F"
      ]
    },
    {
      "cell_type": "markdown",
      "metadata": {
        "id": "JaErZwQrJklW"
      },
      "source": [
        "### 2.1\n",
        "Define a helper function named `isValidScore` that takes in a score as input and returns a boolean. If the score that is passed into this function is between `0` and `100` (both inclusive) return True otherwise return False."
      ]
    },
    {
      "cell_type": "code",
      "execution_count": null,
      "metadata": {
        "id": "lfCG5DQXJklX"
      },
      "outputs": [],
      "source": [
        "def isValidScore(s):\n",
        "    # Put your code below this comment\n",
        "    if s > 100 or s < 0:\n",
        "      return False\n",
        "    return True"
      ]
    },
    {
      "cell_type": "code",
      "execution_count": null,
      "metadata": {
        "colab": {
          "base_uri": "https://localhost:8080/"
        },
        "id": "XdJb_oOdJkld",
        "outputId": "7079c324-aebf-4e85-a57c-7cb9369c34bf"
      },
      "outputs": [
        {
          "output_type": "stream",
          "name": "stdout",
          "text": [
            "Congratulations, the test case passed!\n",
            "Congratulations, the test case passed!\n",
            "Congratulations, the test case passed!\n",
            "Congratulations, the test case passed!\n",
            "Congratulations, the test case passed!\n"
          ]
        }
      ],
      "source": [
        "# TEST_CASE\n",
        "# Note: if an error is given saying \"check\" is not defined, rerun the first code\n",
        "#       cell in this notebook.\n",
        "check(isValidScore, 50, expected=True)\n",
        "check(isValidScore, 101, expected=False)\n",
        "check(isValidScore, -101, expected=False)\n",
        "check(isValidScore, 100, expected=True)\n",
        "check(isValidScore, 0, expected=True)"
      ]
    },
    {
      "cell_type": "markdown",
      "metadata": {
        "id": "YESN6ZpWJklj"
      },
      "source": [
        "### 2.2\n",
        "Define a function named `grader` that has one parameter. You can name the parameter score. Within the function you should call the `isValidScore` function you defined in **1.1** by passing in the score. If the call to `isValidScore` returns True your function must return the string `Valid Score`. Otherwise it should return the string `Invalid Score`."
      ]
    },
    {
      "cell_type": "code",
      "execution_count": null,
      "metadata": {
        "id": "PHxJtqDTJklj"
      },
      "outputs": [],
      "source": [
        "def grader(score):\n",
        "    # Put your code below this comment\n",
        "    if isValidScore(score):\n",
        "      return 'Valid Score'\n",
        "    return 'Invalid Score'"
      ]
    },
    {
      "cell_type": "code",
      "execution_count": null,
      "metadata": {
        "id": "kMydqZEsJklp"
      },
      "outputs": [],
      "source": [
        "# Note: if an error is given saying \"check\" is not defined, rerun the first code\n",
        "#       cell in this notebook.\n",
        "\n",
        "check(grader, 50, expected='Valid Score')\n",
        "check(grader, 150, expected='Invalid Score')\n",
        "check(grader, -10, expected='Invalid Score')"
      ]
    },
    {
      "cell_type": "markdown",
      "metadata": {
        "id": "HZb2nezhJklt"
      },
      "source": [
        "### 2.3\n",
        "Modify the `grader` function you defined in **1.2** so that it returns the letter grade for the score. Use the grade cutoffs written above. If the score is greater than or equal to 95 your function should return an A+, if the score less than 95 and greater than or equal to 85 your function should return an A and so on. You should still use the `isValidScore` to check for invalid input and it must return the string `Invalid Score` for any invalid scores."
      ]
    },
    {
      "cell_type": "code",
      "execution_count": null,
      "metadata": {
        "id": "xfUXSaWW2im6"
      },
      "outputs": [],
      "source": [
        "def grader(score):\n",
        "  # Put your code below this comment\n",
        "  if not isValidScore(score):\n",
        "    return 'Invalid Score'\n",
        "\n",
        "  if score >= 95:\n",
        "    return 'A+'\n",
        "  elif score >= 85:\n",
        "    return 'A'\n",
        "  elif score >= 80:\n",
        "    return 'A-'\n",
        "  elif score >= 75:\n",
        "    return 'B+'\n",
        "  elif score >= 70:\n",
        "    return 'B'\n",
        "  elif score >= 65:\n",
        "    return 'B-'\n",
        "  elif score >= 60:\n",
        "    return 'C+'\n",
        "  elif score >= 55:\n",
        "    return 'C'\n",
        "  elif score >= 50:\n",
        "    return 'C-'\n",
        "  elif score >= 45:\n",
        "    return 'D'\n",
        "  else:\n",
        "    return 'F'"
      ]
    },
    {
      "cell_type": "code",
      "execution_count": null,
      "metadata": {
        "id": "7YYZFqdAJklz",
        "colab": {
          "base_uri": "https://localhost:8080/"
        },
        "outputId": "0ad38fa4-b1d5-45bc-8cb8-59475c722626"
      },
      "outputs": [
        {
          "output_type": "stream",
          "name": "stdout",
          "text": [
            "Congratulations, the test case passed!\n",
            "Congratulations, the test case passed!\n",
            "Congratulations, the test case passed!\n",
            "Congratulations, the test case passed!\n",
            "Congratulations, the test case passed!\n",
            "Congratulations, the test case passed!\n"
          ]
        }
      ],
      "source": [
        "# TEST_CASE\n",
        "# Note: if an error is given saying \"check\" is not defined, rerun the first code\n",
        "#       cell in this notebook.\n",
        "\n",
        "check(grader, 90, expected='A')\n",
        "check(grader, 56, expected='C')\n",
        "check(grader, 70, expected='B')\n",
        "check(grader, -50, expected='Invalid Score')\n",
        "check(grader, 105, expected='Invalid Score')\n",
        "check(grader, -10, expected='Invalid Score')"
      ]
    },
    {
      "cell_type": "markdown",
      "metadata": {
        "id": "zRvbvAftJkl3"
      },
      "source": [
        "## Question 3: Statistics for the Matric exam\n",
        "Matric exam results came in recently. The Ministry of Education (MoE) of Ethiopia has set the passing score to be **350** out of **700**. The school you are working for received the following list of scores and wants to know what percentage of its students that passed the exam. Help them in writing a function that calculates the percentage of students that passed the exam.\n",
        "\n",
        "Student #1 - 186  \n",
        "Student #2 - 257  \n",
        "Student #3 - 632  \n",
        "Student #4 - 360  \n",
        "Student #5 - 478  \n",
        "Student #6 - 284  \n",
        "Student #7 - 259  \n",
        "Student #8 - 116  \n",
        "Student #9 - 569  \n",
        "Student #10 - 320"
      ]
    },
    {
      "cell_type": "markdown",
      "metadata": {
        "id": "MNr9aNalJkl3"
      },
      "source": [
        "### 3.1\n",
        "\n",
        "Create a list called `scores` that contains the score of 10 students."
      ]
    },
    {
      "cell_type": "code",
      "execution_count": null,
      "metadata": {
        "cellView": "both",
        "id": "7Hi-PuyLJkl4"
      },
      "outputs": [],
      "source": [
        "# Write your code below this comment\n",
        "scores = [186, 257, 632, 360, 478, 284, 259, 116, 569, 320]"
      ]
    },
    {
      "cell_type": "markdown",
      "metadata": {
        "id": "oBiOHoSKJkmA"
      },
      "source": [
        "### 3.2\n",
        "\n",
        "Define a function named `countHowManyPassed` that takes in a list containing scores as a first argument and the cutoff for passing scores as a second argument. The function should then return the count of the number of scores in the list that are above or equal to the passing score."
      ]
    },
    {
      "cell_type": "code",
      "execution_count": null,
      "metadata": {
        "id": "TaLnjaP3JkmB"
      },
      "outputs": [],
      "source": [
        "def countHowManyPassed(scoreList, passScore):\n",
        "  # Put your code below this comment\n",
        "  ctr = 0\n",
        "  for i in range(len(scoreList)):\n",
        "    if scoreList[i] >= passScore:\n",
        "      ctr += 1\n",
        "  return ctr"
      ]
    },
    {
      "cell_type": "code",
      "execution_count": null,
      "metadata": {
        "id": "QuFVUuAcJkmG",
        "colab": {
          "base_uri": "https://localhost:8080/"
        },
        "outputId": "f6075a18-9ab5-4266-8d48-966bcc29ad9d"
      },
      "outputs": [
        {
          "output_type": "stream",
          "name": "stdout",
          "text": [
            "Congratulations, the test case passed!\n",
            "Congratulations, the test case passed!\n"
          ]
        }
      ],
      "source": [
        "# TEST_CASE\n",
        "# Note: if an error is given saying \"check\" is not defined, rerun the first code\n",
        "#       cell in this notebook.\n",
        "\n",
        "check(countHowManyPassed, [320, 333, 243, 134, 677,\n",
        "                           644, 531, 544, 450, 120], 325, expected=6)\n",
        "check(countHowManyPassed, [320, 100, 243, 134, 677,\n",
        "                           200, 531, 544, 200, 120], 200, expected=7)"
      ]
    },
    {
      "cell_type": "markdown",
      "metadata": {
        "id": "6NYtmC-RJkmV"
      },
      "source": [
        "### 3.3\n",
        "\n",
        "Define a function named `calculatePercentage` that accepts two arguments. You can calculate the percentage using the formula: `(count_of_students_who_passed_the_exam / total_number_of_students) * 100`. The first argument is a list of students' score out of 700 and the second argument is the cutoff for passing score. Your function should use the `countHowManyPassed` function you defined earlier. It should then return the percentage of the students that passed."
      ]
    },
    {
      "cell_type": "code",
      "execution_count": null,
      "metadata": {
        "id": "z7HRAskRJkmW"
      },
      "outputs": [],
      "source": [
        "def calculatePercentage(s, p):\n",
        "    # Put your code below this comment\n",
        "    passed = countHowManyPassed(s, p)\n",
        "    percentage = 100 * passed / len(s)\n",
        "    return percentage"
      ]
    },
    {
      "cell_type": "code",
      "execution_count": null,
      "metadata": {
        "id": "cnkwwU_TJkmc",
        "colab": {
          "base_uri": "https://localhost:8080/"
        },
        "outputId": "3aeda74e-eb98-43a0-edbb-7fc42c66790a"
      },
      "outputs": [
        {
          "output_type": "stream",
          "name": "stdout",
          "text": [
            "Congratulations, the test case passed!\n",
            "Congratulations, the test case passed!\n"
          ]
        }
      ],
      "source": [
        "# TEST_CASE\n",
        "# Note: if an error is given saying \"check\" is not defined, rerun the first code\n",
        "#       cell in this notebook.\n",
        "\n",
        "check(calculatePercentage, [320, 333, 243, 134, 677,\n",
        "                            644, 531, 544, 450, 120], 325, expected=60.0)\n",
        "check(calculatePercentage, [320, 100, 243, 134, 677,\n",
        "                            200, 531, 544, 200, 120], 200, expected=70.0)"
      ]
    },
    {
      "cell_type": "markdown",
      "metadata": {
        "id": "-qdg196AJkmo"
      },
      "source": [
        "## Question 4: Armstrong Numbers\n",
        "Your CS professor, Alex, loves Armstrong numbers and asks you to help identify some Armstrong numbers for them. A three digit integer is said to be an **Armstrong** number if the sum of the cubes of its digits is equal to the number itself. For example, 371 is an Armstrong number since 3<sup>3</sup> + 7<sup>3</sup> + 1<sup>3</sup> = 371."
      ]
    },
    {
      "cell_type": "markdown",
      "metadata": {
        "id": "vh9r7y4RJkmp"
      },
      "source": [
        "### 4.1\n",
        "Define a helper function named `extractDigits` that is going to take in a positive integer and then returns the individual digits within the integer as a list. For example, if you give it **371** it should return the list `[1, 3, 7]`. Your list must be sorted in ascending order. Use the built-in function `sorted` to sort the list.    "
      ]
    },
    {
      "cell_type": "code",
      "execution_count": null,
      "metadata": {
        "id": "L_aAhLN8Jkmq"
      },
      "outputs": [],
      "source": [
        "def extractDigits(n):\n",
        "    # Put your code below this comment\n",
        "    ans = []\n",
        "    if n < 1:\n",
        "      return ans\n",
        "    while n > 0:\n",
        "      ans.append(n % 10)\n",
        "      n //= 10\n",
        "    return sorted(ans)"
      ]
    },
    {
      "cell_type": "code",
      "execution_count": null,
      "metadata": {
        "id": "NZWCy2UgJkmw",
        "colab": {
          "base_uri": "https://localhost:8080/"
        },
        "outputId": "997b34ac-ef4a-4de3-f82c-4d5853d01d2f"
      },
      "outputs": [
        {
          "output_type": "stream",
          "name": "stdout",
          "text": [
            "Congratulations, the test case passed!\n",
            "Congratulations, the test case passed!\n",
            "Congratulations, the test case passed!\n"
          ]
        }
      ],
      "source": [
        "# TEST_CASE\n",
        "# Note: if an error is given saying \"check\" is not defined, rerun the first code\n",
        "#       cell in this notebook.\n",
        "\n",
        "check(extractDigits, 371, expected=[1, 3, 7])\n",
        "check(extractDigits, 985, expected=[5, 8, 9])\n",
        "check(extractDigits, 652, expected=[2, 5, 6])"
      ]
    },
    {
      "cell_type": "markdown",
      "metadata": {
        "id": "bUaQl85oJkmz"
      },
      "source": [
        "### 4.2\n",
        "\n",
        "Define a helper function named `sumDigitCubes` that is going to take in a list and it should cube (raise the number by the power 3) and then sum them up. For example, if you're given the list `[3, 7, 1]` it should return the result of 3<sup>3</sup> + 7<sup>3</sup> + 1<sup>3</sup> which in this case is 371."
      ]
    },
    {
      "cell_type": "code",
      "execution_count": null,
      "metadata": {
        "id": "cjHcdtwX4VKD"
      },
      "outputs": [],
      "source": [
        "def sumDigitCubes(L):\n",
        "  # Put your code below this comment\n",
        "  ans = 0\n",
        "  for i in range(len(L)):\n",
        "    ans += L[i] ** 3\n",
        "  return ans"
      ]
    },
    {
      "cell_type": "code",
      "execution_count": null,
      "metadata": {
        "id": "Yv7oAjQmJkm4",
        "colab": {
          "base_uri": "https://localhost:8080/"
        },
        "outputId": "977ec939-ceef-4196-f7b8-3b33e3ca4a1b"
      },
      "outputs": [
        {
          "output_type": "stream",
          "name": "stdout",
          "text": [
            "Congratulations, the test case passed!\n",
            "Congratulations, the test case passed!\n"
          ]
        }
      ],
      "source": [
        "# TEST_CASE\n",
        "# Note: if an error is given saying \"check\" is not defined, rerun the first code\n",
        "#       cell in this notebook.\n",
        "\n",
        "check(sumDigitCubes, [3, 7, 1], expected=371)\n",
        "check(sumDigitCubes, [4, 2, 3], expected=99)"
      ]
    },
    {
      "cell_type": "markdown",
      "metadata": {
        "id": "zLj0BL6oJkm7"
      },
      "source": [
        "### 4.3\n",
        "\n",
        "Define a helper function named `isArmstrong` that is going to take in a number and returns True if the number is an Armstrong number otherwise return False. You should use the `extractDigits` and `sumDigitCubes` functions you defined earlier. You should first call the `extractDigits` function and then pass the result of that function call to the `sumDigitCubes` function. If the number is an Armstrong number return `True` otherwise return `False`."
      ]
    },
    {
      "cell_type": "code",
      "execution_count": null,
      "metadata": {
        "id": "WaYWku2dJkm9"
      },
      "outputs": [],
      "source": [
        "def isArmstrong(n):\n",
        "    # Put your code below this comment\n",
        "    digits = extractDigits(n)\n",
        "    digitCubeSum = sumDigitCubes(digits)\n",
        "    if digitCubeSum == n:\n",
        "      return True\n",
        "    return False"
      ]
    },
    {
      "cell_type": "code",
      "execution_count": null,
      "metadata": {
        "id": "eYOxPvQkJknA",
        "colab": {
          "base_uri": "https://localhost:8080/"
        },
        "outputId": "0174df4f-00ea-4c16-bcb2-c5c1fa7462ee"
      },
      "outputs": [
        {
          "output_type": "stream",
          "name": "stdout",
          "text": [
            "Congratulations, the test case passed!\n",
            "Congratulations, the test case passed!\n",
            "Congratulations, the test case passed!\n",
            "Congratulations, the test case passed!\n",
            "Congratulations, the test case passed!\n"
          ]
        }
      ],
      "source": [
        "# TEST_CASE\n",
        "# Note: if an error is given saying \"check\" is not defined, rerun the first code\n",
        "#       cell in this notebook.\n",
        "\n",
        "check(isArmstrong, 371, expected=True)\n",
        "check(isArmstrong, 372, expected=False)\n",
        "check(isArmstrong, 153, expected=True)\n",
        "check(isArmstrong, 407, expected=True)\n",
        "check(isArmstrong, 370, expected=True)"
      ]
    },
    {
      "cell_type": "markdown",
      "metadata": {
        "id": "FcNI2kJ7JknD"
      },
      "source": [
        "### 4.4\n",
        "\n",
        "Define a function named `findArmstrongNumbers` that finds all 3 digit armstrong numbers. It should return a list of three digit armstrong numbers. Make sure to return the list of numbers in order from smallest to largest."
      ]
    },
    {
      "cell_type": "code",
      "execution_count": null,
      "metadata": {
        "id": "YTfXFnk3JknD",
        "colab": {
          "base_uri": "https://localhost:8080/"
        },
        "outputId": "e9fe9c25-8989-482a-cf98-72f4391e633c"
      },
      "outputs": [
        {
          "output_type": "execute_result",
          "data": {
            "text/plain": [
              "[153, 370, 371, 407]"
            ]
          },
          "metadata": {},
          "execution_count": 47
        }
      ],
      "source": [
        "def findArmstrongNumbers():\n",
        "    # Put your code below this comment\n",
        "    ans = []\n",
        "    for n in range(100,1000):\n",
        "      if isArmstrong(n):\n",
        "        ans.append(n)\n",
        "    return sorted(ans)\n",
        "findArmstrongNumbers()"
      ]
    },
    {
      "cell_type": "code",
      "source": [
        "# TEST_CASE\n",
        "# Note: if an error is given saying \"check\" is not defined, rerun the first code\n",
        "#       cell in this notebook.\n",
        "\n",
        "check(len, findArmstrongNumbers(), expected=4)"
      ],
      "metadata": {
        "colab": {
          "base_uri": "https://localhost:8080/"
        },
        "id": "Tb5DV_gbE3hj",
        "outputId": "23397997-62d9-4af0-edf4-f62327847870"
      },
      "execution_count": null,
      "outputs": [
        {
          "output_type": "stream",
          "name": "stdout",
          "text": [
            "Congratulations, the test case passed!\n"
          ]
        }
      ]
    },
    {
      "cell_type": "markdown",
      "metadata": {
        "id": "q-8XXm_8JknM"
      },
      "source": [
        "## 5. Challenge: Ancient Ethiopian multiplication method\n",
        "Ethiopians have an ancient method of multiplying integers using only addition, doubling, and halving. Here is how the method works:\n",
        "\n",
        "> 1. Take two numbers to be multiplied and write them down at the top of two columns.\n",
        "2. In the left-hand column repeatedly halve the last number, discarding any remainders, and write the quotient below the last in the same column, until you write a value of 1.\n",
        "3. In the right-hand column repeatedly double the last number and write the result below. Stop when you add a result in the same row as where the left hand column shows 1.\n",
        "4. Examine the table produced and discard any row where the value in the left column is even.\n",
        "> 5. Sum the values in the right-hand column that remain to produce the result of multiplying the original two numbers together\n",
        "\n",
        "**For example**:   17 × 34\n",
        "Halving the first column:<br>\n",
        "\n",
        "17 | 34\n",
        "--|--\n",
        "8 |\n",
        "4 |\n",
        "2 |\n",
        "1 |\n",
        "\n",
        "Doubling the second column:\n",
        "\n",
        "17 | 34\n",
        "-----|-----\n",
        "8 | 68\n",
        "4 | 136\n",
        "2 | 272\n",
        "1 | 544\n",
        "\n",
        "Strike-out rows whose first cell is even:\n",
        "\n",
        "17 | 34\n",
        "---- | -----\n",
        "8|<s>68</s>\n",
        "4|<s>136</s>\n",
        "2|<s>272</s>\n",
        "1|&emsp;544\n",
        "\n",
        "Sum the remaining numbers in the right-hand column:\n",
        "\n",
        "17 | 34\n",
        "---- | ----\n",
        "8 | --\n",
        "4 | ---\n",
        "2 | ---\n",
        "1 | 544\n",
        "**Total** | 578\n",
        "\n",
        "So 17 multiplied by 34, by the Ethiopian method is 578."
      ]
    },
    {
      "cell_type": "markdown",
      "metadata": {
        "id": "4CKS2JyEJknN"
      },
      "source": [
        "### 5.1\n",
        "\n",
        "Define a helper function named `isEven` that takes in an integer and returns `True` if the number is even or `False` if it's odd."
      ]
    },
    {
      "cell_type": "code",
      "execution_count": 1,
      "metadata": {
        "id": "RXyKQS2QJknN"
      },
      "outputs": [],
      "source": [
        "def isEven(n):\n",
        "    # Put your code below this comment\n",
        "    if (n % 2):\n",
        "      return False\n",
        "    return True"
      ]
    },
    {
      "cell_type": "code",
      "execution_count": 4,
      "metadata": {
        "id": "nFPyz8LyJknS",
        "colab": {
          "base_uri": "https://localhost:8080/"
        },
        "outputId": "6246d4db-a2c0-407c-fb8f-096c1681c9a6"
      },
      "outputs": [
        {
          "output_type": "stream",
          "name": "stdout",
          "text": [
            "Congratulations, the test case passed!\n",
            "Congratulations, the test case passed!\n",
            "Congratulations, the test case passed!\n"
          ]
        }
      ],
      "source": [
        "# TEST_CASE\n",
        "# Note: if an error is given saying \"check\" is not defined, rerun the first code\n",
        "#       cell in this notebook.\n",
        "\n",
        "check(isEven, 2, expected=True)\n",
        "check(isEven, 1, expected=False)\n",
        "check(isEven, 15, expected=False)"
      ]
    },
    {
      "cell_type": "markdown",
      "metadata": {
        "id": "MHlZ00h4JknV"
      },
      "source": [
        "### 5.2\n",
        "\n",
        "Define another helper function named `halveIt` that takes in an integer and then returns a list with the halved values till it reaches 1. Make sure the list you are returning is sorted from smallest to largest. For example, if you give it the number **17** it should return the list `[1, 2, 4, 8, 17]`, and if you give it the number **105** it should return the list `[1, 3, 6, 13, 26, 52, 105]`."
      ]
    },
    {
      "cell_type": "code",
      "execution_count": 5,
      "metadata": {
        "id": "bWQc21qnJknV"
      },
      "outputs": [],
      "source": [
        "def halveIt(n):\n",
        "  # Put your code below this comment\n",
        "  ans = []\n",
        "  while n > 0:\n",
        "    ans.insert(0, n)\n",
        "    n //= 2\n",
        "  return ans"
      ]
    },
    {
      "cell_type": "code",
      "execution_count": null,
      "metadata": {
        "id": "P9ghnVTGJkna",
        "colab": {
          "base_uri": "https://localhost:8080/"
        },
        "outputId": "bfa4707a-2292-49c8-90db-e725526bcfb1"
      },
      "outputs": [
        {
          "output_type": "stream",
          "name": "stdout",
          "text": [
            "Congratulations, the test case passed!\n",
            "Congratulations, the test case passed!\n"
          ]
        }
      ],
      "source": [
        "# TEST_CASE\n",
        "# Note: if an error is given saying \"check\" is not defined, rerun the first code\n",
        "#       cell in this notebook.\n",
        "\n",
        "check(halveIt, 17, expected=[1, 2, 4, 8, 17])\n",
        "check(halveIt, 105, expected=[1, 3, 6, 13, 26, 52, 105])"
      ]
    },
    {
      "cell_type": "markdown",
      "metadata": {
        "id": "ZiMLBKLVJkni"
      },
      "source": [
        "### 5.3\n",
        "\n",
        "Define another helper function named `doubleIt` that takes in two argument. The first argument should be the number that is going to be doubled, and the second should number should be the target length of the list to be returned. (If the second number is 5, you will double the starting number 4 times.) Your function should return a list with the doubled values. Make sure the list is sorted from smallest to largest. For example, if you pass **34** and **5** to your function it should return the list `[34, 68, 136, 272, 544]`."
      ]
    },
    {
      "cell_type": "code",
      "execution_count": 6,
      "metadata": {
        "id": "ukHkDkNBJknj"
      },
      "outputs": [],
      "source": [
        "def doubleIt(num, n):\n",
        "  # Put your code below this line\n",
        "  ans = []\n",
        "  for i in range(n):\n",
        "    ans.append(num)\n",
        "    num = 2 * num\n",
        "  return ans"
      ]
    },
    {
      "cell_type": "code",
      "execution_count": 7,
      "metadata": {
        "id": "hUXK1CMMJknp",
        "colab": {
          "base_uri": "https://localhost:8080/"
        },
        "outputId": "98288044-d7b3-4649-faa5-547aa9952d69"
      },
      "outputs": [
        {
          "output_type": "stream",
          "name": "stdout",
          "text": [
            "Congratulations, the test case passed!\n"
          ]
        }
      ],
      "source": [
        "# TEST_CASE\n",
        "# Note: if an error is given saying \"check\" is not defined, rerun the first code\n",
        "#       cell in this notebook.\n",
        "\n",
        "check(doubleIt, 34, 5, expected=[34, 68, 136, 272, 544])"
      ]
    },
    {
      "cell_type": "markdown",
      "metadata": {
        "id": "sIrOiilbJkns"
      },
      "source": [
        "### 5.4\n",
        "Define a helper function named `sumLists` that takes in two lists. The two lists must have equal length. You should loop through each corresponding pair of elements in the two lists, and if the element in the first list is not even, then you should add the corresponding element from the second list to your total. Your function should use the `isEven` function you defined earlier to check if the element in the first list is even or not.\n",
        "For example, calling `sumLists([1, 2, 4, 8, 17], [34, 68, 136, 272, 544])` should return 578.\n"
      ]
    },
    {
      "cell_type": "code",
      "execution_count": 10,
      "metadata": {
        "id": "WkcOPeYLJkns"
      },
      "outputs": [],
      "source": [
        "def sumLists(list1, list2):\n",
        "    # Put your code below this comment\n",
        "    ans = 0\n",
        "    n = len(list1)\n",
        "    for i in range(n):\n",
        "      if not isEven(list1[i]):\n",
        "        ans += list2[n - i - 1]\n",
        "    return ans"
      ]
    },
    {
      "cell_type": "code",
      "execution_count": 11,
      "metadata": {
        "id": "dVONnsojJknv",
        "colab": {
          "base_uri": "https://localhost:8080/"
        },
        "outputId": "e699d174-7852-49bc-9fca-d4b0a10acf40"
      },
      "outputs": [
        {
          "output_type": "stream",
          "name": "stdout",
          "text": [
            "Congratulations, the test case passed!\n"
          ]
        }
      ],
      "source": [
        "# TEST_CASE\n",
        "# Note: if an error is given saying \"check\" is not defined, rerun the first code\n",
        "#       cell in this notebook.\n",
        "\n",
        "check(sumLists, [1, 2, 4, 8, 17], [34, 68, 136, 272, 544], expected=578)"
      ]
    },
    {
      "cell_type": "markdown",
      "metadata": {
        "id": "YQj7TDLpJkny"
      },
      "source": [
        "### 5.5\n",
        "\n",
        "Finally, define a function named `multiplyEth` that takes in two arguments (the numbers that are going to be multiplied) and returns the result of multiplying the first number by the second number. You should use the `halveIt` and `doubleIt` functions inside this function. Then, pass the results returned from the two helper functions to the `sumLists` function."
      ]
    },
    {
      "cell_type": "code",
      "execution_count": 12,
      "metadata": {
        "id": "fFDUowxEJkny"
      },
      "outputs": [],
      "source": [
        "def multiplyEth(a, b):\n",
        "    # Put your code below this comment\n",
        "    list1 = halveIt(a)\n",
        "    list2 = doubleIt(b, len(list1))\n",
        "    return sumLists(list1, list2)\n",
        "    [17, 8, 4, 2, 1]"
      ]
    },
    {
      "cell_type": "code",
      "execution_count": 13,
      "metadata": {
        "id": "Sk5J4_oQJkn6",
        "colab": {
          "base_uri": "https://localhost:8080/"
        },
        "outputId": "f79de2e2-eaca-4909-a9c9-eb7a24693bcb"
      },
      "outputs": [
        {
          "output_type": "stream",
          "name": "stdout",
          "text": [
            "Congratulations, the test case passed!\n",
            "Congratulations, the test case passed!\n",
            "Congratulations, the test case passed!\n"
          ]
        }
      ],
      "source": [
        "# TEST_CASE\n",
        "# Note: if an error is given saying \"check\" is not defined, rerun the first code\n",
        "#       cell in this notebook.\n",
        "\n",
        "check(multiplyEth, 17, 34, expected=578)\n",
        "check(multiplyEth, 15, 15, expected=225)\n",
        "check(multiplyEth, 24, 34, expected=816)"
      ]
    }
  ],
  "metadata": {
    "colab": {
      "provenance": []
    },
    "kernelspec": {
      "display_name": "Python 3 (ipykernel)",
      "language": "python",
      "name": "python3"
    },
    "language_info": {
      "codemirror_mode": {
        "name": "ipython",
        "version": 3
      },
      "file_extension": ".py",
      "mimetype": "text/x-python",
      "name": "python",
      "nbconvert_exporter": "python",
      "pygments_lexer": "ipython3",
      "version": "3.10.9"
    }
  },
  "nbformat": 4,
  "nbformat_minor": 0
}