{
  "nbformat": 4,
  "nbformat_minor": 0,
  "metadata": {
    "colab": {
      "provenance": []
    },
    "kernelspec": {
      "name": "python3",
      "display_name": "Python 3"
    },
    "language_info": {
      "name": "python"
    }
  },
  "cells": [
    {
      "cell_type": "code",
      "source": [
        "# RUN THIS BLOCK OF CODE BEFORE RUNNING ANY CELLS\n",
        "def check_test(actual, expected):\n",
        "    if expected != actual:\n",
        "        print(f\"Function should return the value {expected}, it is returning the value {actual}\")\n",
        "    else:\n",
        "        print(f\"Congratulations, the test case passed!\")"
      ],
      "metadata": {
        "id": "BY9aZJfMIqls"
      },
      "execution_count": null,
      "outputs": []
    },
    {
      "cell_type": "markdown",
      "source": [
        "# Week 2, Day 4: List Comprehension, Time Complexity and Search"
      ],
      "metadata": {
        "id": "hLR6YHzecZJM"
      }
    },
    {
      "cell_type": "markdown",
      "source": [
        " In lecture today, you covered list comprehension, time complexity and search.In the exercises today, we will practice using more of these list comprehension technique. You should see that what you have learned so far is already quite powerful. You will be able to automatically solve interesting and complex problems with the tools you now have.  "
      ],
      "metadata": {
        "id": "6WNmQL3KbraK"
      }
    },
    {
      "cell_type": "markdown",
      "source": [
        "## List Comprehension\n"
      ],
      "metadata": {
        "id": "I5W2CrGUv3Dd"
      }
    },
    {
      "cell_type": "markdown",
      "source": [
        "List comprehension is a concise and powerful way to create lists in Python. It allows you to combine loops and conditional statements into a single line of code. Let's explore this concept with some fun and easy exercises:"
      ],
      "metadata": {
        "id": "V2Uy7flzctLc"
      }
    },
    {
      "cell_type": "markdown",
      "source": [
        "### Question 1\n",
        "\n",
        "\n",
        "Use a nested list comprehension to find all of the possible combinations of two numbers that add up to some target integer. The input will be an array of integers and an integer target. You have to return a list of pairs of numbers from the array, that add up to the given target.\n"
      ],
      "metadata": {
        "id": "2crGqaESZ6qD"
      }
    },
    {
      "cell_type": "code",
      "source": [
        "def get_pairs_of_numbers(array, target):\n",
        "  return [[array[i], array[j]] for i in range(len(array)) for j in range(i + 1, len(array)) if array[i] + array[j] == target]"
      ],
      "metadata": {
        "id": "7s1U66t9RYyH"
      },
      "execution_count": null,
      "outputs": []
    },
    {
      "cell_type": "code",
      "source": [
        "check_test(get_pairs_of_numbers([1, 3, 5, 4, 6], 7), [[1, 6], [3, 4]])\n",
        "check_test(get_pairs_of_numbers([], 4), [])\n",
        "check_test(get_pairs_of_numbers([1, 3, 5, 4, 6], 0), [])\n",
        "check_test(get_pairs_of_numbers([6, 8, 3, 2, 7, 1, 9, 4, 5], 15), [[6, 9], [8, 7]])"
      ],
      "metadata": {
        "colab": {
          "base_uri": "https://localhost:8080/"
        },
        "id": "hUJtB8fAS4Qh",
        "outputId": "7d20d7c8-71cd-4de3-be2f-a5ba94d29c9e"
      },
      "execution_count": null,
      "outputs": [
        {
          "output_type": "stream",
          "name": "stdout",
          "text": [
            "Congratulations, the test case passed!\n",
            "Congratulations, the test case passed!\n",
            "Congratulations, the test case passed!\n",
            "Congratulations, the test case passed!\n"
          ]
        }
      ]
    },
    {
      "cell_type": "markdown",
      "source": [
        "### Question 2\n"
      ],
      "metadata": {
        "id": "wycAGJ_ZdB-K"
      }
    },
    {
      "cell_type": "markdown",
      "source": [
        "You are given a matrix represented as a nested list. Create a new matrix that is the transpose of the original matrix using list comprehension.\n",
        "\n",
        "  $\\begin{bmatrix} 1 & 2 & 3 \\\\ 4 & 5 & 6 \\\\ 7 & 8 & 9 \\end{bmatrix}$ ===> $\\begin{bmatrix} 1 & 4 & 7 \\\\ 2 & 5 & 8 \\\\ 3 & 6 & 9 \\end{bmatrix}$\n",
        "\n",
        "\n",
        "\n"
      ],
      "metadata": {
        "id": "Pq6RnGKLgywG"
      }
    },
    {
      "cell_type": "code",
      "source": [
        "def transpose(matrix):\n",
        "  return  [[matrix[i][j] for i in range(len(matrix))] for j in range(len(matrix[0]))]"
      ],
      "metadata": {
        "id": "VT4CxyW9dITk"
      },
      "execution_count": null,
      "outputs": []
    },
    {
      "cell_type": "code",
      "source": [
        "check_test(transpose([[1, 2, 3], [4, 5, 6], [7, 8, 9]]), [[1, 4, 7], [2, 5, 8], [3, 6, 9]])\n",
        "check_test(transpose([[2, 3], [1, 5]]), [[2, 1], [3, 5]])\n",
        "check_test(transpose([[2, 3], [5, 6], [8, 9]]), [[2, 5, 8], [3, 6, 9]])"
      ],
      "metadata": {
        "colab": {
          "base_uri": "https://localhost:8080/"
        },
        "id": "dYTjaq4Dh3qv",
        "outputId": "43029831-c7b6-431c-a64f-d5961112b254"
      },
      "execution_count": null,
      "outputs": [
        {
          "output_type": "stream",
          "name": "stdout",
          "text": [
            "Congratulations, the test case passed!\n",
            "Congratulations, the test case passed!\n",
            "Congratulations, the test case passed!\n"
          ]
        }
      ]
    },
    {
      "cell_type": "markdown",
      "source": [
        "### Challenge\n",
        "\n",
        "Question 2 Using list comprehension, define a python function unlucky, which returns all the days in a given year which have the date Friday 13th.\n",
        "\n",
        "***A list of daynames and a fucntion which returns day of the week for a date are provided*** Hint: you need two ranges one for day starting from 1 and going to 31 and another one for month starting from 1 going to 12. Using these and the year which comes as an argument and use the function day_of_week in the if part of list comprehension to check if a given date is ‘Friday’ and also check if the day is equal to 13."
      ],
      "metadata": {
        "id": "bxq01_NScdFz"
      }
    },
    {
      "cell_type": "code",
      "source": [
        "day_names = ['Monday','Tuesday','Wednesday','Thursday','Friday','Saturday','Sunday']"
      ],
      "metadata": {
        "id": "skMtfwyrdeTS"
      },
      "execution_count": 1,
      "outputs": []
    },
    {
      "cell_type": "code",
      "source": [
        "# Here is a function that gives you the day of the week for a given date.\n",
        "import datetime\n",
        "\n",
        "def day_of_week(day, month, year):\n",
        "    # Create a datetime object using the input date\n",
        "    date_obj = datetime.datetime(year, month, day)\n",
        "\n",
        "    # Get the name of the day\n",
        "    day_name = date_obj.strftime(\"%A\")\n",
        "\n",
        "    return day_name"
      ],
      "metadata": {
        "id": "IHLnBUfPdh-8"
      },
      "execution_count": 8,
      "outputs": []
    },
    {
      "cell_type": "code",
      "source": [
        "day_of_week(28,2,2023)\n"
      ],
      "metadata": {
        "colab": {
          "base_uri": "https://localhost:8080/",
          "height": 36
        },
        "id": "MDTC6d4Udl2J",
        "outputId": "e8beb394-020b-43d3-83c9-f507bbf20a0b"
      },
      "execution_count": 10,
      "outputs": [
        {
          "output_type": "execute_result",
          "data": {
            "text/plain": [
              "'Tuesday'"
            ],
            "application/vnd.google.colaboratory.intrinsic+json": {
              "type": "string"
            }
          },
          "metadata": {},
          "execution_count": 10
        }
      ]
    },
    {
      "cell_type": "code",
      "source": [
        "def unlucky(y):\n",
        " return [(d,m,y) for m in range(1,13) for d in range (1,32) if d == 13 and day_of_week(d,m,y) == \"Friday\"]"
      ],
      "metadata": {
        "id": "3LOf1m21d1oS"
      },
      "execution_count": null,
      "outputs": []
    },
    {
      "cell_type": "code",
      "source": [
        "check_test(unlucky(2019), [(13, 1, 2019), (13, 9, 2019), (13, 12, 2019)])\n",
        "check_test(unlucky(2020), [(13, 3, 2020), (13, 11, 2020)])\n",
        "check_test(unlucky(2021), [(13, 8, 2021)])\n",
        "check_test(unlucky(2022),  [(13, 5, 2022)])\n",
        "\n"
      ],
      "metadata": {
        "colab": {
          "base_uri": "https://localhost:8080/"
        },
        "id": "CHr-ARC-d2Ut",
        "outputId": "30aebf9a-1a3d-4838-8265-8b159d9a3843"
      },
      "execution_count": null,
      "outputs": [
        {
          "output_type": "stream",
          "name": "stdout",
          "text": [
            "Congratulations, the test case passed!\n",
            "Congratulations, the test case passed!\n",
            "Congratulations, the test case passed!\n",
            "Congratulations, the test case passed!\n"
          ]
        }
      ]
    },
    {
      "cell_type": "markdown",
      "source": [
        "## Time Complexity\n"
      ],
      "metadata": {
        "id": "sv_d7QBeYHpb"
      }
    },
    {
      "cell_type": "markdown",
      "source": [
        "Consider the following loop\n",
        "\n",
        "\n",
        "```\n",
        "for i in range(n):\n",
        "    for j in range(n):\n",
        "        for k in range(n):\n",
        "            print(i, k, j)\n",
        "```\n",
        "\n",
        "\n",
        "If you run the above code with n = 1000,000 how many times does the function call print ?"
      ],
      "metadata": {
        "id": "9YPU3hZMuPgl"
      }
    },
    {
      "cell_type": "code",
      "source": [
        "# 1000,000 * 1000,000 * 1000,000"
      ],
      "metadata": {
        "id": "cgP3falluWdq"
      },
      "execution_count": null,
      "outputs": []
    },
    {
      "cell_type": "markdown",
      "source": [
        "Let's go back to fibonacci for a second.\n",
        "Assume fib only gets numbers >= 0\n",
        "\n",
        "\n",
        "```\n",
        "def fib(n):\n",
        "    if n <= 1:\n",
        "        return 1\n",
        "\n",
        "    return fib(n-1) + fib(n-2)\n",
        "```\n",
        "\n",
        "\n",
        "Try running values fib(10), fib(20), fib(30), fib(40) ... fib(100) and see how long it takes for each of the cases. Explain your observation below interms of time complexity. How many recursive function calls do we need to solve for each of the cases above?"
      ],
      "metadata": {
        "id": "S5EbM7hfu6Jt"
      }
    },
    {
      "cell_type": "code",
      "source": [
        "# Since each function call branches in to two. There should be at most 2 ^ n funtions calls are needed."
      ],
      "metadata": {
        "id": "rRgrim-wvJHR"
      },
      "execution_count": 11,
      "outputs": []
    },
    {
      "cell_type": "markdown",
      "source": [
        "## Search\n",
        "\n"
      ],
      "metadata": {
        "id": "L4Qg9cmQYLT9"
      }
    },
    {
      "cell_type": "markdown",
      "source": [
        "### Question 1\n",
        "\n",
        "You are given a large sorted list of integers, where each integer appears exactly twice except for one element that appears only once. Implement a function called `find_unique_element` that takes in this sorted list as input and returns the unique element.\n",
        "\n",
        "For example, given the sorted list` [1, 1, 2, 2, 3, 3, 4, 5, 5, 6, 6]`, the function should return `4` since it is the only element that appears once in the list.\n",
        "\n"
      ],
      "metadata": {
        "id": "btBKmm4bcYcV"
      }
    },
    {
      "cell_type": "code",
      "source": [
        "def find_unique_element(array):\n",
        "  unique_elems = set()\n",
        "  for elem in array:\n",
        "    if elem in unique_elems:\n",
        "      unique_elems.remove(elem)\n",
        "    else:\n",
        "      unique_elems.add(elem)\n",
        "\n",
        "  return list(unique_elems)[0]\n"
      ],
      "metadata": {
        "id": "-qEUnaPYcZ24"
      },
      "execution_count": null,
      "outputs": []
    },
    {
      "cell_type": "code",
      "source": [
        "check_test(find_unique_element([1, 1, 2, 2, 3, 3, 4, 5, 5, 6, 6]), 4)\n",
        "check_test(find_unique_element([1]), 1)\n",
        "check_test(find_unique_element([3, 4, 4]), 3)\n",
        "check_test(find_unique_element([1, 1, 2, 2, 3, 3, 4, 4, 5, 5, 6]), 6)"
      ],
      "metadata": {
        "colab": {
          "base_uri": "https://localhost:8080/"
        },
        "id": "M_6UOp4oec0J",
        "outputId": "03cbc199-604d-403d-afe4-57b4fc0a3bd8"
      },
      "execution_count": null,
      "outputs": [
        {
          "output_type": "stream",
          "name": "stdout",
          "text": [
            "Congratulations, the test case passed!\n",
            "Congratulations, the test case passed!\n",
            "Congratulations, the test case passed!\n",
            "Congratulations, the test case passed!\n"
          ]
        }
      ]
    },
    {
      "cell_type": "code",
      "source": [],
      "metadata": {
        "id": "-eimKXTTeimu"
      },
      "execution_count": null,
      "outputs": []
    }
  ]
}