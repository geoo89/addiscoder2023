{
  "cells": [
    {
      "cell_type": "markdown",
      "metadata": {
        "id": "jkAd17GvxrOm"
      },
      "source": [
        "\n",
        "\n",
        "#### Lecture 7, Exercises A\n",
        "\n",
        "\n"
      ]
    },
    {
      "cell_type": "markdown",
      "metadata": {
        "id": "hzBwYY7nyI3X"
      },
      "source": [
        "####Practicing simple functions\n",
        "\n",
        "In lecture today, you covered simple functions and you saw that one function can call another function. In the exercises today, we will practice writing more of these functions. You should see that what you have learned so far is already quite powerful. You will be able to automatically solve interesting and complex problems with the tools you now have. If you are running out of time, please skip problems labeled as Challenge. These are optional and should only be done if you have already finished practicing the rest of the material.\n",
        "\n"
      ]
    },
    {
      "cell_type": "markdown",
      "metadata": {
        "id": "OP1j3H3RLw4I"
      },
      "source": [
        "## Question 1"
      ]
    },
    {
      "cell_type": "markdown",
      "metadata": {
        "id": "rzvshDHUL5oE"
      },
      "source": [
        "You are in three classes: mathematics, physics, and chemistry. Mathematics and physics are easy for you, but chemistry is hard. For you, a good grade in mathematics is above a 90. A good grade in physics is a 90. But in chemistry, a good grade is above an 80, because it is a hard class for you."
      ]
    },
    {
      "cell_type": "markdown",
      "metadata": {
        "id": "NEv5BFRuL_jt"
      },
      "source": [
        "### 1.1\n",
        "\n",
        "Write a function `is_good_math_grade` that tells you whether the grade you got in math is good or not. *Hint: the input should be a grade (number) and the output should be True/False (Boolean).*"
      ]
    },
    {
      "cell_type": "code",
      "execution_count": null,
      "metadata": {
        "id": "8T6DjDSbLsHd"
      },
      "outputs": [],
      "source": [
        "def is_good_math_grade(grade):\n",
        "  #solution here\n",
        "  pass"
      ]
    },
    {
      "cell_type": "code",
      "execution_count": null,
      "metadata": {
        "id": "q07Zs88CMKOS"
      },
      "outputs": [],
      "source": [
        "# solution\n",
        "def is_good_math_grade(grade):\n",
        "  if grade > 90:\n",
        "    return True\n",
        "  else:\n",
        "    return False\n",
        "  # return grade > 90 would to the job as well"
      ]
    },
    {
      "cell_type": "markdown",
      "metadata": {
        "id": "qIGxSw9nMNgK"
      },
      "source": [
        "If you have written your code correctly, the next cell should print \"All your tests pass.\""
      ]
    },
    {
      "cell_type": "code",
      "execution_count": null,
      "metadata": {
        "colab": {
          "base_uri": "https://localhost:8080/"
        },
        "id": "rkJhMAzdMTRp",
        "outputId": "0417ceef-ad53-408e-f12c-6d4376b195e0"
      },
      "outputs": [
        {
          "name": "stdout",
          "output_type": "stream",
          "text": [
            "All your tests pass.\n"
          ]
        }
      ],
      "source": [
        "test1 = (is_good_math_grade(92) == True)\n",
        "test2 = (is_good_math_grade(89) == False)\n",
        "\n",
        "if test1 and test2:\n",
        "  print(\"All your tests pass.\")\n",
        "if test1 and (not test2):\n",
        "  print(\"The first test failed.\")\n",
        "if (not test1) and test2:\n",
        "  print(\"The second test failed.\")\n",
        "if (not test1) and (not test2):\n",
        "  print(\"All tests failed.\")"
      ]
    },
    {
      "cell_type": "markdown",
      "metadata": {
        "id": "yhrOBGpjMQ1D"
      },
      "source": [
        "### 1.2\n",
        "\n",
        "Write a function `is_good_chem_grade` that tells you whether the grade you got in chemistry is good or not."
      ]
    },
    {
      "cell_type": "code",
      "execution_count": null,
      "metadata": {
        "id": "Ku_EYcG0Mem9"
      },
      "outputs": [],
      "source": [
        "def is_good_chem_grade(grade):\n",
        "  #solution_here\n",
        "  pass"
      ]
    },
    {
      "cell_type": "code",
      "execution_count": null,
      "metadata": {
        "id": "-K6GYnqzMhwr"
      },
      "outputs": [],
      "source": [
        "def is_good_chem_grade(grade):\n",
        "  return (grade > 80)"
      ]
    },
    {
      "cell_type": "markdown",
      "metadata": {
        "id": "eScYiulyMl5R"
      },
      "source": [
        "If you have written your code correctly, the next cell should print \"All your tests pass.\""
      ]
    },
    {
      "cell_type": "code",
      "execution_count": null,
      "metadata": {
        "colab": {
          "base_uri": "https://localhost:8080/"
        },
        "id": "aT2TWuERMnJX",
        "outputId": "0b736766-5743-4176-93e6-cbbd82aff489"
      },
      "outputs": [
        {
          "name": "stdout",
          "output_type": "stream",
          "text": [
            "All your tests pass.\n"
          ]
        }
      ],
      "source": [
        "test1 = (is_good_chem_grade(82) == True)\n",
        "test2 = (is_good_chem_grade(79) == False)\n",
        "\n",
        "if test1 & test2:\n",
        "  print(\"All your tests pass.\")\n",
        "if test1 & (not test2):\n",
        "  print(\"The first test failed.\")\n",
        "if (not test1) & test2:\n",
        "  print(\"The second test failed.\")\n",
        "if (not test1) & (not test2):\n",
        "  print(\"All tests failed.\")"
      ]
    },
    {
      "cell_type": "markdown",
      "metadata": {
        "id": "2B5qn9TkNpLE"
      },
      "source": [
        "### 1.3\n",
        "\n",
        "Notice that `is_good_math_grade` and `is_good_chem_grade` look really similar, except that the cutoff for what you consider \"good\" is different. Write a function `is_good_grade` that takes in the `grade` and the `cutoff` and returns whether the grade is good or not."
      ]
    },
    {
      "cell_type": "code",
      "execution_count": null,
      "metadata": {
        "id": "c9nWqkMHNo5h"
      },
      "outputs": [],
      "source": [
        "def is_good_grade(grade, cutoff):\n",
        "  #solution_here\n",
        "  pass"
      ]
    },
    {
      "cell_type": "code",
      "execution_count": null,
      "metadata": {
        "id": "t9H6Hgr0Nusf"
      },
      "outputs": [],
      "source": [
        "def is_good_grade(grade, cutoff):\n",
        "  return (grade > cutoff)"
      ]
    },
    {
      "cell_type": "markdown",
      "metadata": {
        "id": "wvKHIc5SM3HD"
      },
      "source": [
        "###1.4\n",
        "Write the function `is_good_phys_grade` that tells you whether the grade you got in physics is good or not by using is_good_grade."
      ]
    },
    {
      "cell_type": "code",
      "execution_count": null,
      "metadata": {
        "id": "774r-VXFM22X"
      },
      "outputs": [],
      "source": [
        "def is_good_phys_grade(grade):\n",
        "  #solution_here\n",
        "  pass"
      ]
    },
    {
      "cell_type": "code",
      "execution_count": null,
      "metadata": {
        "id": "t-of8-0fM_XL"
      },
      "outputs": [],
      "source": [
        "def is_good_phys_grade(grade):\n",
        "  return is_good_grade(grade, 90)"
      ]
    },
    {
      "cell_type": "markdown",
      "metadata": {
        "id": "f_GTJkSPND1a"
      },
      "source": [
        "### 1.5 (Challenge)\n",
        "\n",
        "Finally, write a function `are_grades_good` that takes in your `math_grade`, `phys_grade`, and `chem_grade` and returns whether all of them are good or not. Additionally, if you are not good in one class, this function should print out the classes you are not good in.\n",
        "\n",
        "For example, `are_grades_good(math_grade = 95, phys_grade = 95, chem_grade = 85)` should return `True`.\n",
        "\n",
        "Also, `are_grades_good(math_grade = 95, phys_grade = 95, chem_grade = 75)` should return `False` **and** it should print:\n",
        "`\"Your grade was not good in: chemistry\"`"
      ]
    },
    {
      "cell_type": "code",
      "execution_count": null,
      "metadata": {
        "id": "2HBbLCq8NGVL"
      },
      "outputs": [],
      "source": [
        "def are_grades_good(math_grade, phys_grade, chem_grade):\n",
        "  #solution_here\n",
        "  pass"
      ]
    },
    {
      "cell_type": "code",
      "execution_count": null,
      "metadata": {
        "id": "8cC0yo5nNGSY"
      },
      "outputs": [],
      "source": [
        "def are_grades_good(math_grade, phys_grade, chem_grade):\n",
        "  math_good = is_good_math_grade(math_grade)\n",
        "  phys_good = is_good_phys_grade(phys_grade)\n",
        "  chem_good = is_good_chem_grade(chem_grade)\n",
        "\n",
        "  if math_good and phys_good and chem_good:\n",
        "    return True\n",
        "  else:\n",
        "    result = \"Your grade was not good in:\"\n",
        "    if not math_good:\n",
        "      result = result + \" math\"\n",
        "    if not phys_good:\n",
        "      result = result + \" physics\"\n",
        "    if not chem_good:\n",
        "      result = result + \" chemistry\"\n",
        "    print(result)\n",
        "    return False"
      ]
    },
    {
      "cell_type": "code",
      "execution_count": null,
      "metadata": {
        "colab": {
          "base_uri": "https://localhost:8080/"
        },
        "id": "UTttmohDNGPo",
        "outputId": "00d97112-3a56-4ca3-8bc1-f0a1b62d3736"
      },
      "outputs": [
        {
          "data": {
            "text/plain": [
              "True"
            ]
          },
          "execution_count": 19,
          "metadata": {},
          "output_type": "execute_result"
        }
      ],
      "source": [
        "# Recall that this should return True.\n",
        "are_grades_good(math_grade=95, phys_grade=95, chem_grade=85)"
      ]
    },
    {
      "cell_type": "code",
      "execution_count": null,
      "metadata": {
        "colab": {
          "base_uri": "https://localhost:8080/"
        },
        "id": "Su-a4J-nN4a0",
        "outputId": "4079dfae-e145-42a5-b8de-5ec41b98d52f"
      },
      "outputs": [
        {
          "name": "stdout",
          "output_type": "stream",
          "text": [
            "Your grade was not good in: chemistry\n"
          ]
        },
        {
          "data": {
            "text/plain": [
              "False"
            ]
          },
          "execution_count": 20,
          "metadata": {},
          "output_type": "execute_result"
        }
      ],
      "source": [
        "# Recall that this should return False and the appropriate print statement.\n",
        "are_grades_good(math_grade = 95, phys_grade = 95, chem_grade = 75)"
      ]
    },
    {
      "cell_type": "code",
      "execution_count": null,
      "metadata": {
        "colab": {
          "base_uri": "https://localhost:8080/"
        },
        "id": "4SN9I-iCOBdC",
        "outputId": "7ad94845-8c87-483a-a54b-ac77c57ebf43"
      },
      "outputs": [
        {
          "name": "stdout",
          "output_type": "stream",
          "text": [
            "Your grade was not good in: math physics chemistry\n"
          ]
        },
        {
          "data": {
            "text/plain": [
              "False"
            ]
          },
          "execution_count": 21,
          "metadata": {},
          "output_type": "execute_result"
        }
      ],
      "source": [
        "# Uh oh! You got 70 in all three classes.\n",
        "# This should also return False and the appropriate print statement.\n",
        "are_grades_good(math_grade = 70, phys_grade = 70, chem_grade = 70)"
      ]
    },
    {
      "cell_type": "markdown",
      "metadata": {
        "id": "BSoVIfj45g9R"
      },
      "source": [
        "### Question 2\n",
        "Created by: Bontu"
      ]
    },
    {
      "cell_type": "markdown",
      "metadata": {
        "id": "Xvh_YkhL3nok"
      },
      "source": [
        "You are organizing a school event and need to manage the attendance of students. You have a list of student names, and you need to write some functions to handle the attendance data.\n"
      ]
    },
    {
      "cell_type": "markdown",
      "metadata": {
        "id": "6zD9cdbc50C8"
      },
      "source": [
        "\n",
        "#### 2.1\n",
        "Write a function called mark_attendance that takes in a student name and a list of attendance records. Each attendance record is a list containing the student name and a Boolean value representing their attendance (True for present, False for absent). The function should update the attendance records by marking the student as present.  The function should return the updated list of attendance records.\n"
      ]
    },
    {
      "cell_type": "code",
      "execution_count": null,
      "metadata": {
        "id": "dwOXmOQK6ANg"
      },
      "outputs": [],
      "source": [
        "def mark_attendance(student_name, attendance_records):\n",
        "    # solution_here\n",
        "    pass\n"
      ]
    },
    {
      "cell_type": "code",
      "execution_count": 40,
      "metadata": {
        "id": "IR-DJNyd7_MW"
      },
      "outputs": [],
      "source": [
        "#solution\n",
        "def mark_attendance(student_name, attendance_records):\n",
        "    for record in attendance_records:\n",
        "        record_name = record[0]\n",
        "        did_attend = record[1]\n",
        "        if record_name == student_name:\n",
        "            if did_attend == False:\n",
        "                record[1] = True\n",
        "            break\n",
        "\n",
        "    # If the student name is not found in the attendance records, add a new record marking the student as present\n",
        "    if student_name not in record:\n",
        "      attendance_records.append([student_name, True])\n",
        "    return attendance_records\n"
      ]
    },
    {
      "cell_type": "markdown",
      "metadata": {
        "id": "m1JLSDLw5z1H"
      },
      "source": [
        "If you have written your code correctly, the next cell should print \"All your tests pass.\""
      ]
    },
    {
      "cell_type": "code",
      "execution_count": 41,
      "metadata": {
        "colab": {
          "base_uri": "https://localhost:8080/"
        },
        "id": "xLdg-3JAyRPX",
        "outputId": "cc9ac77e-500b-4404-c869-a0520dd61277"
      },
      "outputs": [
        {
          "output_type": "stream",
          "name": "stdout",
          "text": [
            "All your tests pass.\n"
          ]
        }
      ],
      "source": [
        "attendance = [['Abebe', False], ['Kebede', True], ['Zenebe', True]]\n",
        "\n",
        "attendance = mark_attendance('Abebe', attendance)\n",
        "attendance = mark_attendance('Kebede', attendance)\n",
        "attendance = mark_attendance('Zenebe', attendance)\n",
        "\n",
        "test1 = (attendance == [['Abebe', True], ['Kebede', True], ['Zenebe', True]])\n",
        "\n",
        "if test1:\n",
        "    print(\"All your tests pass.\")\n",
        "else:\n",
        "    print(\"Test 1 failed.\")\n"
      ]
    },
    {
      "cell_type": "markdown",
      "metadata": {
        "id": "zIbqz7mK8g2h"
      },
      "source": [
        "#### 2.2\n",
        " Write a function called count_present_students that takes in a list of attendance records and returns the count of students who are marked as present (True)."
      ]
    },
    {
      "cell_type": "code",
      "execution_count": null,
      "metadata": {
        "id": "Xt8DggKL8bO6"
      },
      "outputs": [],
      "source": [
        "def count_present_students(attendance_records):\n",
        "    # solution_here\n",
        "    pass"
      ]
    },
    {
      "cell_type": "code",
      "execution_count": null,
      "metadata": {
        "id": "YbSq_1um81hK"
      },
      "outputs": [],
      "source": [
        "def count_present_students(attendance_records):\n",
        "    count = 0\n",
        "    for record in attendance_records:\n",
        "        if record[1] == True:\n",
        "            count += 1\n",
        "    return count\n"
      ]
    },
    {
      "cell_type": "markdown",
      "metadata": {
        "id": "DxJD4xQO8xjp"
      },
      "source": [
        "If you have written your code correctly, the next cell should print \"All your tests pass.\""
      ]
    },
    {
      "cell_type": "code",
      "execution_count": null,
      "metadata": {
        "colab": {
          "base_uri": "https://localhost:8080/"
        },
        "id": "zVsQIz_m8X-Y",
        "outputId": "42b67c82-038d-4621-a579-9453bee436c0"
      },
      "outputs": [
        {
          "name": "stdout",
          "output_type": "stream",
          "text": [
            "All your tests pass.\n"
          ]
        }
      ],
      "source": [
        "attendance = [['Abebe', True], ['Kebede', True], ['Zenebe', False], ['Hana', True]]\n",
        "result = count_present_students(attendance)\n",
        "test1 = (result == 3)\n",
        "\n",
        "if test1:\n",
        "    print(\"All your tests pass.\")\n",
        "else:\n",
        "    print(\"Test 1 failed.\")\n"
      ]
    },
    {
      "cell_type": "markdown",
      "metadata": {
        "id": "tuIcy4LlxnSh"
      },
      "source": [
        "#### 2.3\n",
        " Write a function called `get_absent_students` that takes in a list of attendance records and returns a list of names of students who are marked as absent (False)."
      ]
    },
    {
      "cell_type": "code",
      "execution_count": null,
      "metadata": {
        "id": "pEsrRbWR9Zn7"
      },
      "outputs": [],
      "source": [
        "def get_absent_students(attendance_records):\n",
        "    # solution_here\n",
        "    pass"
      ]
    },
    {
      "cell_type": "code",
      "execution_count": null,
      "metadata": {
        "id": "lLeDVrF59oym"
      },
      "outputs": [],
      "source": [
        "def get_absent_students(attendance_records):\n",
        "    absent_students = []\n",
        "    for record in attendance_records:\n",
        "        if record[1] == False:\n",
        "            absent_students.append(record[0])\n",
        "    return absent_students\n"
      ]
    },
    {
      "cell_type": "markdown",
      "metadata": {
        "id": "PEo8zDsq9qqh"
      },
      "source": [
        "If you have written your code correctly, the next cell should print \"All your tests pass.\""
      ]
    },
    {
      "cell_type": "code",
      "execution_count": null,
      "metadata": {
        "colab": {
          "base_uri": "https://localhost:8080/"
        },
        "id": "aDGxppsQ9ZlD",
        "outputId": "c202a039-e2b5-4b53-bcf5-4c3d09a7a184"
      },
      "outputs": [
        {
          "name": "stdout",
          "output_type": "stream",
          "text": [
            "All your tests pass.\n"
          ]
        }
      ],
      "source": [
        "attendance = [['Abebe', True], ['Kebede', False], ['Zenebe', False], ['Hana', True]]\n",
        "\n",
        "result = get_absent_students(attendance)\n",
        "\n",
        "test1 = (result == ['Kebede', 'Zenebe'])\n",
        "\n",
        "if test1:\n",
        "    print(\"All your tests pass.\")\n",
        "else:\n",
        "    print(\"Test 1 failed.\")\n"
      ]
    },
    {
      "cell_type": "markdown",
      "metadata": {
        "id": "FxoMZkYe-GyV"
      },
      "source": [
        "####2.4\n",
        " Write a function called is_student_present that takes in a student name and a list of attendance records and returns a Boolean value indicating whether the student is marked as present (True) or absent (False) in the attendance records."
      ]
    },
    {
      "cell_type": "code",
      "execution_count": null,
      "metadata": {
        "id": "UD7GIxqG9Zim"
      },
      "outputs": [],
      "source": [
        "def is_student_present(student_name, attendance_records):\n",
        "    # solution_here\n",
        "    pass\n"
      ]
    },
    {
      "cell_type": "code",
      "execution_count": null,
      "metadata": {
        "id": "hG7e3_Cu9Zfg"
      },
      "outputs": [],
      "source": [
        "def is_student_present(student_name, attendance_records):\n",
        "    for record in attendance_records:\n",
        "        if record[0] == student_name:\n",
        "            return True\n",
        "    return False\n"
      ]
    },
    {
      "cell_type": "markdown",
      "metadata": {
        "id": "4zeuv_3s-WmN"
      },
      "source": [
        "If you have written your code correctly, the next cell should print \"All your tests pass.\"\n",
        "\n",
        "\n"
      ]
    },
    {
      "cell_type": "code",
      "execution_count": null,
      "metadata": {
        "colab": {
          "base_uri": "https://localhost:8080/"
        },
        "id": "3yeTOQUy-XUz",
        "outputId": "e45853c7-45d3-4360-d210-85e096ecb117"
      },
      "outputs": [
        {
          "name": "stdout",
          "output_type": "stream",
          "text": [
            "Test 2 failed.\n",
            "Test 4 failed.\n"
          ]
        }
      ],
      "source": [
        "attendance = [['Abebe', True], ['Kebede', False], ['Zenebe', True], ['Hana', False]]\n",
        "\n",
        "test1 = (is_student_present('Abebe', attendance) == True)\n",
        "test2 = (is_student_present('Kebede', attendance) == False)\n",
        "test3 = (is_student_present('Zenebe', attendance) == True)\n",
        "test4 = (is_student_present('Hana', attendance) == False)\n",
        "\n",
        "if test1 and test2 and test3 and test4:\n",
        "    print(\"All your tests pass.\")\n",
        "else:\n",
        "    if not test1:\n",
        "        print(\"Test 1 failed.\")\n",
        "    if not test2:\n",
        "        print(\"Test 2 failed.\")\n",
        "    if not test3:\n",
        "        print(\"Test 3 failed.\")\n",
        "    if not test4:\n",
        "        print(\"Test 4 failed.\")\n"
      ]
    },
    {
      "cell_type": "markdown",
      "metadata": {
        "id": "QUDMQKfLBWJx"
      },
      "source": [
        "    Challenge Question\n",
        "\n",
        "You have a list of attendance records for a class. Each attendance record is a list containing the student name and a Boolean value representing their attendance (True for present, False for absent). Write a function called calculate_attendance_percentage that takes in the list of attendance records and returns the percentage of students who were present. The percentage should be rounded to two decimal places."
      ]
    },
    {
      "cell_type": "markdown",
      "metadata": {
        "id": "Oeqg66wsBgml"
      },
      "source": [
        "*Example*\n",
        "\n",
        "```\n",
        "attendance = [['Eden', True], ['Hana', True], ['Hawi', False], ['Biruk', True], ['Aman', False]]\n",
        "\n",
        "percentage = calculate_attendance_percentage(attendance)\n",
        "print(\"Attendance Percentage:\", percentage)\n",
        "```\n",
        "```\n",
        "Output\n",
        "Attendance Percentage: 60.00\n",
        "\n",
        "```\n",
        "In this example, out of the 5 students, 3 were present, so the attendance percentage is 60.00%.**\n",
        "\n"
      ]
    },
    {
      "cell_type": "code",
      "execution_count": null,
      "metadata": {
        "id": "L4NB3KwhBdin"
      },
      "outputs": [],
      "source": [
        "def calculate_attendance_percentage(attendance_records):\n",
        "    # solution_here\n",
        "    pass\n"
      ]
    },
    {
      "cell_type": "code",
      "execution_count": null,
      "metadata": {
        "id": "lfP43TFuBKm4"
      },
      "outputs": [],
      "source": [
        "def calculate_attendance_percentage(attendance_records):\n",
        "    total_students = len(attendance_records)\n",
        "    present_students = 0\n",
        "\n",
        "    for record in attendance_records:\n",
        "        if record[1] == True:  # Check if student is marked present\n",
        "            present_students += 1\n",
        "\n",
        "    attendance_percentage = (present_students / total_students) * 100\n",
        "    attendance_percentage = round(attendance_percentage, 2)\n",
        "\n",
        "    return attendance_percentage\n"
      ]
    },
    {
      "cell_type": "code",
      "execution_count": null,
      "metadata": {
        "colab": {
          "base_uri": "https://localhost:8080/"
        },
        "id": "o3TpmYCaDYOt",
        "outputId": "f131e3dc-d22f-4dca-8803-db908e43f5a7"
      },
      "outputs": [
        {
          "name": "stdout",
          "output_type": "stream",
          "text": [
            "Test 1 passed\n",
            "Test 2 passed\n"
          ]
        }
      ],
      "source": [
        "attendance_records_1 = [['Eden', True], ['Hana', True], ['Hawi', False], ['Biruk', True], ['Aman', False]]\n",
        "attendance_records_2 = [['Eden', True], ['Hana', True], ['Hawi', True], ['Biruk', True], ['Aman', True]]\n",
        "\n",
        "# Test case 1\n",
        "result1 = calculate_attendance_percentage(attendance_records_1)\n",
        "test1 = (result1 == 60.0)\n",
        "if test1:\n",
        "    print(\"Test 1 passed\")\n",
        "else:\n",
        "    print(\"Test 1 failed\")\n",
        "\n",
        "# Test case 2\n",
        "result2 = calculate_attendance_percentage(attendance_records_2)\n",
        "test2 = (result2 == 100.0)\n",
        "if test2:\n",
        "    print(\"Test 2 passed\")\n",
        "else:\n",
        "    print(\"Test 2 failed\")\n"
      ]
    },
    {
      "cell_type": "markdown",
      "metadata": {
        "id": "rbTBAFRDI2r3"
      },
      "source": [
        "##Question 3\n",
        "Modified by: Bontu\n",
        "\n",
        "Idea taken from 2019, 7a question 2"
      ]
    },
    {
      "cell_type": "markdown",
      "metadata": {
        "id": "f0NhxAlqJuXS"
      },
      "source": [
        "Imagine you are organizing a friendly inter-school sports competition between two schools, School A and School B. Each school has submitted a list of their preferred sports for the competition. Your task is to compare the sports preferences of both schools and find the sports that are common between them."
      ]
    },
    {
      "cell_type": "markdown",
      "metadata": {
        "id": "kBg0v_MWJx_6"
      },
      "source": [
        "####3.1\n",
        " Implement a function called find_common_sports that takes in the lists of sports for Group A and Group B, and returns a new list containing the sports that are favored by both groups. The order of sports in the resulting list should be the same as they appear in Group A's list.``"
      ]
    },
    {
      "cell_type": "code",
      "execution_count": null,
      "metadata": {
        "id": "Wrh8tiHhJtk-"
      },
      "outputs": [],
      "source": [
        "def find_common_sports(schoolA_sports, schoolB_sports):\n",
        "    # solution_here\n",
        "    pass\n"
      ]
    },
    {
      "cell_type": "code",
      "execution_count": null,
      "metadata": {
        "id": "n-bGCLo9KwXa"
      },
      "outputs": [],
      "source": [
        "def find_common_sports(schoolA_sports, schoolB_sports):\n",
        "    common_sports = []\n",
        "    for sportA in schoolA_sports:\n",
        "        if sportA in schoolB_sports:\n",
        "            common_sports.append(sportA)\n",
        "\n",
        "    return common_sports"
      ]
    },
    {
      "cell_type": "markdown",
      "metadata": {
        "id": "lvCvtQNZKEJt"
      },
      "source": [
        "If you have written your code correctly, the next cell should print \"All your tests pass.\"\n"
      ]
    },
    {
      "cell_type": "code",
      "execution_count": null,
      "metadata": {
        "colab": {
          "base_uri": "https://localhost:8080/"
        },
        "id": "aDIOJR14I9Fa",
        "outputId": "0ecb0976-947a-4cfc-8334-10892d28e88b"
      },
      "outputs": [
        {
          "name": "stdout",
          "output_type": "stream",
          "text": [
            "All your tests pass.\n"
          ]
        }
      ],
      "source": [
        "schoolA_sports = [\"Basketball\", \"Soccer\", \"Tennis\", \"Volleyball\"]\n",
        "schoolB_sports = [\"Volleyball\", \"Soccer\", \"Cricket\", \"Badminton\"]\n",
        "\n",
        "test1 = set(find_common_sports(schoolA_sports, schoolB_sports)) == set([\"Soccer\", \"Volleyball\"])\n",
        "\n",
        "\n",
        "schoolA_sports = [\"Baseball\", \"Swimming\", \"Basketball\"]\n",
        "schoolB_sports = [\"Basketball\", \"Tennis\", \"Swimming\"]\n",
        "\n",
        "test2 = set(find_common_sports(schoolA_sports, schoolB_sports)) == set([\"Basketball\", \"Swimming\"])\n",
        "\n",
        "schoolA_sports = [\"Football\", \"Hockey\", \"Cricket\"]\n",
        "schoolB_sports = [\"Tennis\", \"Golf\", \"Badminton\"]\n",
        "\n",
        "test3 = find_common_sports(schoolA_sports, schoolB_sports) == []\n",
        "\n",
        "\n",
        "if test1 & test2 & test3:\n",
        "    print(\"All your tests pass.\")\n",
        "else:\n",
        "  if not test1:\n",
        "    print(\"Test 1 failed.\")\n",
        "  if not test2:\n",
        "    print(\"Test 2 failed.\")\n",
        "  if not test3:\n",
        "    print(\"Test 3 failed.\")\n",
        "\n"
      ]
    },
    {
      "cell_type": "markdown",
      "metadata": {
        "id": "9P_w8ojOXb1e"
      },
      "source": [
        "####3.2\n",
        "However, there are a few corner cases we need to handle in our function:``\n",
        "\n",
        "    If School A and School B have submitted different numbers of sports, return \"NA\" to indicate an inconsistency.\n",
        "    If either School A's or School B's list is empty, return \"NA\" to indicate a missing submission.\n",
        "\n",
        "\n",
        "For all of these cases, the function should return `\"NA\"`.\n",
        "\n"
      ]
    },
    {
      "cell_type": "code",
      "execution_count": null,
      "metadata": {
        "id": "jmM8dQrsUrtp"
      },
      "outputs": [],
      "source": [
        "def find_common_sports(schoolA_sports, schoolB_sports):\n",
        "    pass"
      ]
    },
    {
      "cell_type": "code",
      "execution_count": null,
      "metadata": {
        "id": "iVDk1wIvYDgn"
      },
      "outputs": [],
      "source": [
        "def find_common_sports(schoolA_sports, schoolB_sports):\n",
        "\n",
        "    if not schoolA_sports or not schoolB_sports:\n",
        "        print(\"Uh oh! Your schoolA_sports is empty.\")\n",
        "        return \"NA\"\n",
        "    elif len(schoolA_sports) != len(schoolB_sports):\n",
        "        print(\"Uh oh! schoolA_sports list is not same legth as schoolB_sports list.\")\n",
        "        return \"NA\"\n",
        "\n",
        "    common_sports = []\n",
        "    for sportA in schoolA_sports:\n",
        "        if sportA in schoolB_sports:\n",
        "            common_sports.append(sportA)\n",
        "\n",
        "    return common_sports"
      ]
    },
    {
      "cell_type": "markdown",
      "metadata": {
        "id": "We6L2O9LYiNO"
      },
      "source": [
        "Do all of your test print as True and print the appropriate Warning messages?\n",
        "\n"
      ]
    },
    {
      "cell_type": "code",
      "execution_count": null,
      "metadata": {
        "colab": {
          "base_uri": "https://localhost:8080/"
        },
        "id": "RghyFUzLOqHj",
        "outputId": "ed02479b-3ee4-4dfc-8383-cc67fb86da5e"
      },
      "outputs": [
        {
          "name": "stdout",
          "output_type": "stream",
          "text": [
            "Uh oh! schoolA_sports list is not same legth as schoolB_sports list.\n",
            "Uh oh! Your schoolA_sports is empty.\n",
            "True\n",
            "True\n"
          ]
        }
      ],
      "source": [
        "test1 = find_common_sports(schoolA_sports=[\"Basketball\", \"Soccer\", \"Tennis\", \"Volleyball\"], schoolB_sports=[\n",
        "                   \"Basketball\", \"Soccer\", \"Tennis\"]) == \"NA\"\n",
        "test2 = find_common_sports(schoolA_sports=[], schoolB_sports=[]) == \"NA\"\n",
        "\n",
        "print(test1)\n",
        "print(test2)\n",
        "# Uh oh! schoolA_sports list is not same legth as schoolB_sports list.\n",
        "# Uh oh! Your schoolA_sports is empty.\n",
        "# True\n",
        "# True"
      ]
    },
    {
      "cell_type": "markdown",
      "metadata": {
        "id": "ba8tmBgEYtJx"
      },
      "source": [
        "####3.3 (Challenge)\n",
        "In order to clean up your code, let's write a separate function test_inputs that verifies whether the corner cases from Question 2.2. This function should take in answers and solutions and return a Boolean, whether the inputs are valid or not."
      ]
    },
    {
      "cell_type": "code",
      "execution_count": null,
      "metadata": {
        "id": "5FFpNCb5XN6E"
      },
      "outputs": [],
      "source": [
        "def test_inputs(schoolA_sports, schoolB_sports):\n",
        "    # solution_here\n",
        "    pass"
      ]
    },
    {
      "cell_type": "code",
      "execution_count": null,
      "metadata": {
        "id": "ghqWQWh6U381"
      },
      "outputs": [],
      "source": [
        "def test_inputs(schoolA_sports, schoolB_sports):\n",
        "    if len(schoolA_sports) != len(schoolB_sports):\n",
        "        print(\"Uh oh! schoolA_sports list is not same legth as schoolB_sports list.\")\n",
        "        return False\n",
        "    elif not schoolA_sports or not schoolB_sports:\n",
        "        print(\"Uh oh! Your schoolA_sports is empty.\")\n",
        "        return False\n",
        "    return True\n"
      ]
    },
    {
      "cell_type": "markdown",
      "metadata": {
        "id": "mt0iEK2fY9LS"
      },
      "source": [
        "#### 4.4 (Challenge)\n",
        "Now let's put it all together: rewrite the code in Question 2.2 so that it uses the function test_inputs from Question 2.3. Your code should still run exactly the same. Your code should be shorter now. This type of rewriting becomes even more useful as your code becomes more complicated."
      ]
    },
    {
      "cell_type": "code",
      "execution_count": null,
      "metadata": {
        "id": "szUuYJwMVKNr"
      },
      "outputs": [],
      "source": [
        "def find_common_sports(schoolA_sports, schoolB_sports):\n",
        "    # solution_here\n",
        "    pass\n"
      ]
    },
    {
      "cell_type": "code",
      "execution_count": null,
      "metadata": {
        "id": "FJDlNPNdXN3Y"
      },
      "outputs": [],
      "source": [
        "def find_common_sports(schoolA_sports, schoolB_sports):\n",
        "    if not test_inputs(schoolA_sports, schoolB_sports): return \"NA\"\n",
        "\n",
        "    common_sports = []\n",
        "    for sportA in schoolA_sports:\n",
        "        if sportA in schoolB_sports:\n",
        "            common_sports.append(sportA)\n",
        "\n",
        "    return common_sports\n"
      ]
    },
    {
      "cell_type": "markdown",
      "metadata": {
        "id": "pAy_TEPLZK37"
      },
      "source": [
        "Now make sure that the tests still pass.\n",
        "\n"
      ]
    },
    {
      "cell_type": "code",
      "execution_count": null,
      "metadata": {
        "colab": {
          "base_uri": "https://localhost:8080/"
        },
        "id": "me4Un8uvXN07",
        "outputId": "a50ba42e-9bc0-434e-d8c0-510ded7f4cde"
      },
      "outputs": [
        {
          "name": "stdout",
          "output_type": "stream",
          "text": [
            "Uh oh! schoolA_sports list is not same legth as schoolB_sports list.\n",
            "Uh oh! Your schoolA_sports is empty.\n",
            "All your tests pass.\n"
          ]
        }
      ],
      "source": [
        "schoolA_sports = [\"Basketball\", \"Soccer\", \"Tennis\", \"Volleyball\"]\n",
        "schoolB_sports = [\"Volleyball\", \"Soccer\", \"Cricket\", \"Badminton\"]\n",
        "\n",
        "test1 = find_common_sports(schoolA_sports, schoolB_sports) == [\"Soccer\", \"Volleyball\"]\n",
        "\n",
        "schoolA_sports = [\"Baseball\", \"Swimming\", \"Basketball\"]\n",
        "schoolB_sports = [\"Basketball\", \"Tennis\", \"Swimming\"]\n",
        "\n",
        "test2 = set(find_common_sports(schoolA_sports, schoolB_sports)) == set([\"Basketball\", \"Swimming\"])\n",
        "\n",
        "schoolA_sports = [\"Football\", \"Hockey\", \"Cricket\"]\n",
        "schoolB_sports = [\"Tennis\", \"Golf\", \"Badminton\"]\n",
        "\n",
        "test3 = find_common_sports(schoolA_sports, schoolB_sports) == []\n",
        "\n",
        "test4 = find_common_sports(schoolA_sports=[\"Basketball\", \"Soccer\", \"Tennis\", \"Volleyball\"], schoolB_sports=[\n",
        "                   \"Basketball\", \"Soccer\", \"Tennis\"]) == \"NA\"\n",
        "test5 = find_common_sports(schoolA_sports=[], schoolB_sports=[]) == \"NA\"\n",
        "\n",
        "\n",
        "if test1 & test2 & test3 & test4 & test5:\n",
        "    print(\"All your tests pass.\")\n",
        "else:\n",
        "  if not test1:\n",
        "    print(\"Test 1 failed.\")\n",
        "  if not test2:\n",
        "    print(\"Test 2 failed.\")\n",
        "  if not test3:\n",
        "    print(\"Test 3 failed.\")\n",
        "  if not test4:\n",
        "    print(\"Test 3 failed.\")\n",
        "  if not test5:\n",
        "    print(\"Test 3 failed.\")\n",
        "\n"
      ]
    },
    {
      "cell_type": "markdown",
      "metadata": {
        "id": "KjNFAI2Iyyvu"
      },
      "source": [
        "## Question 4"
      ]
    },
    {
      "cell_type": "markdown",
      "metadata": {
        "id": "j8X_Dzmky4L3"
      },
      "source": [
        "\n",
        "\n",
        "In order to prevent cheating on the national exams, the exam creators make slightly different exams for students sitting next to each other. Imagine you are taking the national math exam and you are sitting next to Leftor to your left and Righta to your right. You can see the questions on the exams of both of your neighbors.\n",
        "\n",
        "Now imagine you are working on Question 1:\n",
        "\n",
        "1. Which number is closest to the square root of 10?\n",
        "\n",
        "(a) 2.7\n",
        "\n",
        "(b) 3.0\n",
        "\n",
        "(c) 3.2\n",
        "\n",
        "(d) 4.0Indented block\n",
        "\n",
        "You look at Leftor's exam and see the following question:\n",
        "\n",
        "1. Which number is closest to the square root of 10?\n",
        "\n",
        "(a) 2.7\n",
        "\n",
        "(b) 3.2\n",
        "\n",
        "(c) 3.5\n",
        "\n",
        "(d) 3.9\n",
        "\n",
        "Notice that all the answer options are different except for 2.7 and 3.2 (the correct answer). But when you look at Righta's options, you can see that only 3.2 is in common between all three of you. Some students have theorized that you can game the exam by looking at all your neighbors' question options and choosing the only answer they all have in common. Write a function cheat_on_exam that will find the common answer option among three sets of options.\n",
        "\n"
      ]
    },
    {
      "cell_type": "markdown",
      "metadata": {
        "id": "tqIjypiyzPAe"
      },
      "source": [
        "Here are some test cases your function should be able to handle:\n",
        "\n",
        "1. ``cheat_on_exam(option1 = [1, 2], option2 = [1, 3], option3 = [0, 1]) should return 1.``\n",
        "2.`` cheat_on_exam(option1 = [1, 2, 3], option2 = [0, 1, 2], option3 = [2, 3, 4]) should return 2.``\n",
        "3. ``cheat_on_exam(option1 = [], option2 = [0, 1, 2], option3 = [2, 3, 4]) should return NA and print \"Warning: one or more of the inputs is empty.\".``\n"
      ]
    },
    {
      "cell_type": "markdown",
      "metadata": {
        "id": "60jcQhLMzhnM"
      },
      "source": [
        "Here is a test case your function should be able to handle, but we will leave as a Challenge problem:\n",
        "\n",
        "cheat_on_exam(option1 = [1, 2, 3], option2 = [1, 2, 3], option3 = [1, 2, 3]) should return NA and print \"Warning: more than one option in common.\"."
      ]
    },
    {
      "cell_type": "markdown",
      "metadata": {
        "id": "Ccp3BhYrzu7M"
      },
      "source": [
        "#### 4.1\n",
        "Start by writing your function interface: what will be the input and output? What is the description of what the function does? Leave a ??? in the body of the function like this:\n",
        "```python\n",
        "def my_fun(input):\n",
        "\n",
        "  \"\"\"\n",
        "  Write description here.\n",
        "  \"\"\"\n",
        "  # your code goes here\n",
        "  return output\n",
        "```"
      ]
    },
    {
      "cell_type": "code",
      "execution_count": null,
      "metadata": {
        "id": "8dIzmb25WJXx"
      },
      "outputs": [],
      "source": [
        "#Write your function here\n"
      ]
    },
    {
      "cell_type": "code",
      "execution_count": null,
      "metadata": {
        "id": "BDSawSw8zq4j"
      },
      "outputs": [],
      "source": [
        "def cheat_on_exam(option1, option2, option3):\n",
        "    \"\"\"\n",
        "    This function takes in three lists of values and returns\n",
        "    the value that all three lists have in common. It returns\n",
        "    \"NA\" when the inputs are invalid.\n",
        "    \"\"\"\n",
        "    return output"
      ]
    },
    {
      "cell_type": "markdown",
      "metadata": {
        "id": "Q6PATqGnz58Z"
      },
      "source": [
        "#### 4.2\n",
        "Write the tests you want your function to pass, copying the way it is done in previous exercises. You may leave them commented out (since they will not run properly yet).``\n",
        "\n"
      ]
    },
    {
      "cell_type": "code",
      "execution_count": null,
      "metadata": {
        "id": "_roIHst_yyO-"
      },
      "outputs": [],
      "source": [
        "# test1 = cheat_on_exam(option1 = [1, 2], option2 = [1, 3], option3 = [0, 1]) == 1\n",
        "# test2 = cheat_on_exam(option1 = [1, 2, 3], option2 = [0, 1, 2], option3 = [2, 3, 4]) == 2\n",
        "# test3 = cheat_on_exam(option1 = [], option2 = [0, 1, 2], option3 = [2, 3, 4]) == \""
      ]
    },
    {
      "cell_type": "markdown",
      "metadata": {
        "id": "JXoTZ8WB0HGR"
      },
      "source": [
        "#### 4.3\n",
        "Now fill in the body of the function to compute the desired output (but don't check for invalid inputs yet). Hint: your function can be quite short!``"
      ]
    },
    {
      "cell_type": "code",
      "execution_count": null,
      "metadata": {
        "id": "CbHCE86dXNyS"
      },
      "outputs": [],
      "source": [
        "def cheat_on_exam(option1, option2, option3):\n",
        "    # solution here\n",
        "    pass"
      ]
    },
    {
      "cell_type": "code",
      "execution_count": null,
      "metadata": {
        "id": "_c5pDh1CWP_s"
      },
      "outputs": [],
      "source": [
        "def cheat_on_exam(option1, option2, option3):\n",
        "  \"\"\"\n",
        "  This function takes in three lists of values and returns\n",
        "  the value that all three lists have in common. It returns\n",
        "  \"NA\" when the inputs are invalid.\n",
        "  \"\"\"\n",
        "  for item in option1:\n",
        "    if (item in option2) and (item in option3):\n",
        "      return item"
      ]
    },
    {
      "cell_type": "markdown",
      "metadata": {
        "id": "YRr3P3gE0OZV"
      },
      "source": [
        "Make sure it passes the first two tests!\n",
        "\n"
      ]
    },
    {
      "cell_type": "code",
      "execution_count": null,
      "metadata": {
        "colab": {
          "base_uri": "https://localhost:8080/"
        },
        "id": "be8ZczT_zlz5",
        "outputId": "a9d14579-293d-4ec9-97d9-0b06e2679401"
      },
      "outputs": [
        {
          "output_type": "stream",
          "name": "stdout",
          "text": [
            "True\n",
            "True\n"
          ]
        }
      ],
      "source": [
        "test1 = cheat_on_exam(option1=[1, 2], option2=[1, 3], option3=[0, 1]) == 1\n",
        "test2 = cheat_on_exam(option1=[1, 2, 3], option2=[\n",
        "                      0, 1, 2], option3=[2, 3, 4]) == 2\n",
        "\n",
        "print(test1)\n",
        "print(test2)\n"
      ]
    },
    {
      "cell_type": "markdown",
      "metadata": {
        "id": "BFAkshNm0Sp3"
      },
      "source": [
        "#### 4.4\n",
        "Now write the function valid_inputs that checks whether the inputs are valid and prints the appropriate Warning messages.``"
      ]
    },
    {
      "cell_type": "code",
      "execution_count": null,
      "metadata": {
        "id": "Tk1MA1gSXNvj"
      },
      "outputs": [],
      "source": [
        "def valid_inputs(option1, option2, option3):\n",
        "    # solution here\n",
        "    pass"
      ]
    },
    {
      "cell_type": "code",
      "execution_count": null,
      "metadata": {
        "id": "cJlloBgzWVGK"
      },
      "outputs": [],
      "source": [
        "def valid_inputs(option1, option2, option3):\n",
        "  if len(option1) == 0 or len(option1) == 0 or len(option1) == 0:\n",
        "    print(\"Warning: one or more of the inputs is empty.\")\n",
        "    return False\n",
        "\n",
        "  else:\n",
        "    return True"
      ]
    },
    {
      "cell_type": "markdown",
      "metadata": {
        "id": "96VC8vxY0bBN"
      },
      "source": [
        "#### 4.5\n",
        "Finally, put it all together and make sure all of your tests pass.\n",
        "\n"
      ]
    },
    {
      "cell_type": "code",
      "execution_count": null,
      "metadata": {
        "id": "GJ7WoiDdXNsr"
      },
      "outputs": [],
      "source": [
        "def cheat_on_exam(option1, option2, option3):\n",
        "    # solution_here\n",
        "    pass"
      ]
    },
    {
      "cell_type": "code",
      "execution_count": null,
      "metadata": {
        "id": "mWZsDck4Wejl"
      },
      "outputs": [],
      "source": [
        "#Solution\n",
        "def cheat_on_exam(option1, option2, option3):\n",
        "  \"\"\"\n",
        "  This function takes in three lists of values and returns\n",
        "  the value that all three lists have in common. It returns\n",
        "  \"NA\" when the inputs are invalid.\n",
        "  \"\"\"\n",
        "  if not valid_inputs(option1, option2, option3):\n",
        "    return \"NA\"\n",
        "\n",
        "  for item in option1:\n",
        "    if (item in option2) and (item in option3):\n",
        "      return item"
      ]
    },
    {
      "cell_type": "code",
      "execution_count": null,
      "metadata": {
        "colab": {
          "base_uri": "https://localhost:8080/"
        },
        "id": "u5ZW3DkbXNII",
        "outputId": "03760f96-d391-45c3-91bf-c81e5e898396"
      },
      "outputs": [
        {
          "name": "stdout",
          "output_type": "stream",
          "text": [
            "Warning: one or more of the inputs is empty.\n",
            "True\n",
            "True\n",
            "True\n"
          ]
        }
      ],
      "source": [
        "test1 = cheat_on_exam(option1=[1, 2], option2=[1, 3], option3=[0, 1]) == 1\n",
        "test2 = cheat_on_exam(option1=[1, 2, 3], option2=[\n",
        "                      0, 1, 2], option3=[2, 3, 4]) == 2\n",
        "test3 = cheat_on_exam(option1=[], option2=[0, 1, 2], option3=[2, 3, 4]) == \"NA\"\n",
        "\n",
        "print(test1)\n",
        "print(test2)\n",
        "print(test3)"
      ]
    },
    {
      "cell_type": "markdown",
      "metadata": {
        "id": "o8ZKnavx0hCU"
      },
      "source": [
        "#### 4.6(Challenge)\n",
        "Rewrite your function so that it is also able to handle the last corner case!``"
      ]
    },
    {
      "cell_type": "code",
      "execution_count": null,
      "metadata": {
        "id": "BSkapO--0n0m"
      },
      "outputs": [],
      "source": [
        "def cheat_on_exam(option1, option2, option3):\n",
        "    # solution_here\n",
        "    pass"
      ]
    },
    {
      "cell_type": "code",
      "execution_count": null,
      "metadata": {
        "id": "fOp-Qt0tWi9G"
      },
      "outputs": [],
      "source": [
        "#Solution\n",
        "def cheat_on_exam(option1, option2, option3):\n",
        "  \"\"\"\n",
        "  This function takes in three lists of values and returns\n",
        "  the value that all three lists have in common. It returns\n",
        "  \"NA\" when the inputs are invalid.\n",
        "  \"\"\"\n",
        "  if not valid_inputs(option1, option2, option3):\n",
        "    return \"NA\"\n",
        "\n",
        "  dup_items = []\n",
        "  for item in option1:\n",
        "    if (item in option2) and (item in option3):\n",
        "      dup_items.append(item)\n",
        "\n",
        "  if len(dup_items) > 1:\n",
        "    print(\"Warning: more than one option in common.\")\n",
        "    return(\"NA\")\n",
        "  else:\n",
        "    return(dup_items[1])"
      ]
    },
    {
      "cell_type": "markdown",
      "metadata": {
        "id": "nHv8Ua7Y0rjS"
      },
      "source": [
        "Does it pass the test?"
      ]
    },
    {
      "cell_type": "code",
      "execution_count": null,
      "metadata": {
        "colab": {
          "base_uri": "https://localhost:8080/"
        },
        "id": "RRA_RWej0pHe",
        "outputId": "4f8e497d-1ffd-48c7-bb50-9ba39d708b1a"
      },
      "outputs": [
        {
          "output_type": "stream",
          "name": "stdout",
          "text": [
            "Warning: more than one option in common.\n",
            "True\n"
          ]
        }
      ],
      "source": [
        "test4 = cheat_on_exam(option1=[1, 2, 3], option2=[1, 2, 3], option3=[1, 2, 3]) == \"NA\"\n",
        "print(test4)"
      ]
    }
  ],
  "metadata": {
    "colab": {
      "provenance": []
    },
    "kernelspec": {
      "display_name": "Python 3",
      "name": "python3"
    },
    "language_info": {
      "name": "python"
    }
  },
  "nbformat": 4,
  "nbformat_minor": 0
}