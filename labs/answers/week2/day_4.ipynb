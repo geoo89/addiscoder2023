{
  "nbformat": 4,
  "nbformat_minor": 0,
  "metadata": {
    "colab": {
      "provenance": []
    },
    "kernelspec": {
      "name": "python3",
      "display_name": "Python 3"
    },
    "language_info": {
      "name": "python"
    }
  },
  "cells": [
    {
      "cell_type": "code",
      "source": [
        "# RUN THIS BLOCK OF CODE BEFORE RUNNING ANY CELLS\n",
        "def check_test(actual, expected):\n",
        "    if expected != actual:\n",
        "        print(f\"Function should return the value {expected}, it is returning the value {actual}\")\n",
        "    else:\n",
        "        print(f\"Congratulations, the test case passed!\")"
      ],
      "metadata": {
        "id": "BY9aZJfMIqls"
      },
      "execution_count": 3,
      "outputs": []
    },
    {
      "cell_type": "markdown",
      "source": [
        "# Week 2, Day 4: List Comprehension, Time Complexity and Search"
      ],
      "metadata": {
        "id": "hLR6YHzecZJM"
      }
    },
    {
      "cell_type": "markdown",
      "source": [
        " In lecture today, you covered list comprehension, time complexity and search.In the exercises today, we will practice using more of these list comprehension technique. You should see that what you have learned so far is already quite powerful. You will be able to automatically solve interesting and complex problems with the tools you now have.  "
      ],
      "metadata": {
        "id": "6WNmQL3KbraK"
      }
    },
    {
      "cell_type": "markdown",
      "source": [
        "## List Comprehension\n"
      ],
      "metadata": {
        "id": "I5W2CrGUv3Dd"
      }
    },
    {
      "cell_type": "markdown",
      "source": [
        "List comprehension is a concise and powerful way to create lists in Python. It allows you to combine loops and conditional statements into a single line of code. Let's explore this concept with some fun and easy exercises:"
      ],
      "metadata": {
        "id": "V2Uy7flzctLc"
      }
    },
    {
      "cell_type": "markdown",
      "source": [
        "### Question 1\n",
        "You are given a string, consisting of lowercase Latin letters. Write a function that deletes all the vowels. Vowels are letters \"a\", \"e\", \"i\", \"o\", \"u\", and the rest are consonants. The program's input is exactly one string, it should return the output as a single string with all vowels removed.\n"
      ],
      "metadata": {
        "id": "qjGppKq1pnlL"
      }
    },
    {
      "cell_type": "code",
      "source": [
        "def remove_vowels(word):\n",
        "  return \"\".join([letter for letter in word if letter not in \"aeiou\"])"
      ],
      "metadata": {
        "id": "YM6zS_uDrQxZ"
      },
      "execution_count": 4,
      "outputs": []
    },
    {
      "cell_type": "code",
      "source": [
        "check_test(remove_vowels(\"abacaba\"), \"bcb\")\n",
        "check_test(remove_vowels(\"addis coder\"), \"dds cdr\")\n",
        "check_test(remove_vowels(\"list comprehension is fun\"), \"lst cmprhnsn s fn\")\n",
        "check_test(remove_vowels(\"zzzzzzzzz\"), \"zzzzzzzzz\")\n",
        "check_test(remove_vowels(\"aaaaaaaaaaaaaa\"), \"\")\n",
        "check_test(remove_vowels(\"\"), \"\")\n"
      ],
      "metadata": {
        "colab": {
          "base_uri": "https://localhost:8080/"
        },
        "id": "iJwp0s_8I_Es",
        "outputId": "451c700f-790f-4255-b36c-ff27a511d7a6"
      },
      "execution_count": 5,
      "outputs": [
        {
          "output_type": "stream",
          "name": "stdout",
          "text": [
            "Congratulations, the test case passed!\n",
            "Congratulations, the test case passed!\n",
            "Congratulations, the test case passed!\n",
            "Congratulations, the test case passed!\n",
            "Congratulations, the test case passed!\n",
            "Congratulations, the test case passed!\n"
          ]
        }
      ]
    },
    {
      "cell_type": "markdown",
      "source": [
        "### Question 2\n",
        "\n",
        "You are give a list of words, Find all of the words in the list that are palindromes.\n",
        "\n",
        "A palindrom is a word, phrase, or sequence that reads the same backward as forward, e.g., <b><i>\"madam\"</i></b> or <b><i>\"mom\"</i></b> .\n",
        "\n",
        "In order to solve this problem. You can follow this steps.\n",
        "\n",
        "1. First create a function that checks if a word is a palindrome or not.\n",
        "2. Create another function that uses list comprehension to collect the words that are palindrome from the list.\n"
      ],
      "metadata": {
        "id": "VuraeqEosuqo"
      }
    },
    {
      "cell_type": "code",
      "source": [
        "# Step 1: Createh a function that checks if a word is palindrome or not.\n",
        "def check_palindrome(word):\n",
        "  l, r = 0, len(word) - 1\n",
        "  while l < r:\n",
        "    if word[l] != word[r]:\n",
        "      return False\n",
        "    l += 1\n",
        "    r -= 1\n",
        "  return True"
      ],
      "metadata": {
        "id": "QH23D6GnC5kr"
      },
      "execution_count": 6,
      "outputs": []
    },
    {
      "cell_type": "code",
      "source": [
        "# Step 2: Create another function that uses list comprehension to collect the words that are palindrome from the list.\n",
        "def get_palindromic_words(words):\n",
        "  return [word for word in words if check_palindrome(word)]"
      ],
      "metadata": {
        "id": "GgDtah4XF1U4"
      },
      "execution_count": 7,
      "outputs": []
    },
    {
      "cell_type": "code",
      "source": [
        "check_test(get_palindromic_words([\"madam\", \"horse\", \"ball\", \"racecar\"]), [\"madam\", \"racecar\"])\n",
        "check_test(get_palindromic_words([\"one\", \"black\", \"zebra\", \"list\"]), [])\n",
        "check_test(get_palindromic_words([\"kayak\", \"rotator\", \"noon\", \"deed\", \"wow\"]), [\"kayak\", \"rotator\", \"noon\", \"deed\", \"wow\"])\n",
        "\n"
      ],
      "metadata": {
        "colab": {
          "base_uri": "https://localhost:8080/"
        },
        "id": "ffYSyNf2L1nb",
        "outputId": "7ba9876f-ce20-4314-f209-da99785307ac"
      },
      "execution_count": 8,
      "outputs": [
        {
          "output_type": "stream",
          "name": "stdout",
          "text": [
            "Congratulations, the test case passed!\n",
            "Congratulations, the test case passed!\n",
            "Congratulations, the test case passed!\n"
          ]
        }
      ]
    },
    {
      "cell_type": "markdown",
      "source": [
        "### Question 3\n",
        "\n",
        "Use a nested list comprehension to find all of the possible combinations of two numbers that add up to some target integer. The input will be an array of integers and an integer target. You have to return a list of pairs of numbers from the array, that add up to the given target.\n"
      ],
      "metadata": {
        "id": "5Fka7F3gRa7I"
      }
    },
    {
      "cell_type": "code",
      "source": [
        "def get_pairs_of_numbers(array, target):\n",
        "  return [[array[i], array[j]] for i in range(len(array)) for j in range(i + 1, len(array)) if array[i] + array[j] == target]"
      ],
      "metadata": {
        "id": "7s1U66t9RYyH"
      },
      "execution_count": 9,
      "outputs": []
    },
    {
      "cell_type": "code",
      "source": [
        "check_test(get_pairs_of_numbers([1, 3, 5, 4, 6], 7), [[1, 6], [3, 4]])\n",
        "check_test(get_pairs_of_numbers([], 4), [])\n",
        "check_test(get_pairs_of_numbers([1, 3, 5, 4, 6], 0), [])\n",
        "check_test(get_pairs_of_numbers([6, 8, 3, 2, 7, 1, 9, 4, 5], 15), [[6, 9], [8, 7]])"
      ],
      "metadata": {
        "colab": {
          "base_uri": "https://localhost:8080/"
        },
        "id": "hUJtB8fAS4Qh",
        "outputId": "7d20d7c8-71cd-4de3-be2f-a5ba94d29c9e"
      },
      "execution_count": 10,
      "outputs": [
        {
          "output_type": "stream",
          "name": "stdout",
          "text": [
            "Congratulations, the test case passed!\n",
            "Congratulations, the test case passed!\n",
            "Congratulations, the test case passed!\n",
            "Congratulations, the test case passed!\n"
          ]
        }
      ]
    },
    {
      "cell_type": "markdown",
      "source": [
        "### Question 4"
      ],
      "metadata": {
        "id": "wycAGJ_ZdB-K"
      }
    },
    {
      "cell_type": "markdown",
      "source": [
        "You are given a matrix represented as a nested list. Create a new matrix that is the transpose of the original matrix using list comprehension.\n",
        "\n",
        "  $\\begin{bmatrix} 1 & 2 & 3 \\\\ 4 & 5 & 6 \\\\ 7 & 8 & 9 \\end{bmatrix}$ ===> $\\begin{bmatrix} 1 & 4 & 7 \\\\ 2 & 5 & 8 \\\\ 3 & 6 & 9 \\end{bmatrix}$\n",
        "\n",
        "\n",
        "\n"
      ],
      "metadata": {
        "id": "Pq6RnGKLgywG"
      }
    },
    {
      "cell_type": "code",
      "source": [
        "def transpose(matrix):\n",
        "  return  [[matrix[i][j] for i in range(len(matrix))] for j in range(len(matrix[0]))]"
      ],
      "metadata": {
        "id": "VT4CxyW9dITk"
      },
      "execution_count": 11,
      "outputs": []
    },
    {
      "cell_type": "code",
      "source": [
        "check_test(transpose([[1, 2, 3], [4, 5, 6], [7, 8, 9]]), [[1, 4, 7], [2, 5, 8], [3, 6, 9]])\n",
        "check_test(transpose([[2, 3], [1, 5]]), [[2, 1], [3, 5]])\n",
        "check_test(transpose([[2, 3], [5, 6], [8, 9]]), [[2, 5, 8], [3, 6, 9]])"
      ],
      "metadata": {
        "colab": {
          "base_uri": "https://localhost:8080/"
        },
        "id": "dYTjaq4Dh3qv",
        "outputId": "43029831-c7b6-431c-a64f-d5961112b254"
      },
      "execution_count": 12,
      "outputs": [
        {
          "output_type": "stream",
          "name": "stdout",
          "text": [
            "Congratulations, the test case passed!\n",
            "Congratulations, the test case passed!\n",
            "Congratulations, the test case passed!\n"
          ]
        }
      ]
    },
    {
      "cell_type": "markdown",
      "source": [
        "### Challenge\n",
        "\n",
        "Question 2 Using list comprehension, define a python function unlucky, which returns all the days in a given year which have the date Friday 13th.\n",
        "\n",
        "***A list of daynames and a fucntion which returns day of the week for a date are provided*** Hint: you need two ranges one for day starting from 1 and going to 31 and another one for month starting from 1 going to 12. Using these and the year which comes as an argument and use the function day_of_week in the if part of list comprehension to check if a given date is ‘Friday’ and also check if the day is equal to 13."
      ],
      "metadata": {
        "id": "bxq01_NScdFz"
      }
    },
    {
      "cell_type": "code",
      "source": [
        "day_names = ['Monday','Tuesday','Wednesday','Thursday','Friday','Saturday','Sunday']"
      ],
      "metadata": {
        "id": "skMtfwyrdeTS"
      },
      "execution_count": 13,
      "outputs": []
    },
    {
      "cell_type": "code",
      "source": [
        "# Here is a function that gives you the day of the week for a given date.\n",
        "def day_of_week(d,m,y):\n",
        "    day = (((13*m+3) // 5 + d + y + (y // 4) - (y // 100) + (y // 400)) %7)\n",
        "    return day_names[day]"
      ],
      "metadata": {
        "id": "IHLnBUfPdh-8"
      },
      "execution_count": 14,
      "outputs": []
    },
    {
      "cell_type": "code",
      "source": [
        "day_of_week(16,7,2022)\n"
      ],
      "metadata": {
        "colab": {
          "base_uri": "https://localhost:8080/",
          "height": 36
        },
        "id": "MDTC6d4Udl2J",
        "outputId": "bda89414-189c-4d40-d2cb-bf8165498cb9"
      },
      "execution_count": 15,
      "outputs": [
        {
          "output_type": "execute_result",
          "data": {
            "text/plain": [
              "'Saturday'"
            ],
            "application/vnd.google.colaboratory.intrinsic+json": {
              "type": "string"
            }
          },
          "metadata": {},
          "execution_count": 15
        }
      ]
    },
    {
      "cell_type": "code",
      "source": [
        "def unlucky(y):\n",
        " return [(d,m,y) for m in range(1,13) for d in range (1,32) if d == 13 and day_of_week(d,m,y) == \"Friday\"]"
      ],
      "metadata": {
        "id": "3LOf1m21d1oS"
      },
      "execution_count": 16,
      "outputs": []
    },
    {
      "cell_type": "code",
      "source": [
        "check_test(unlucky(2019), [(13, 1, 2019), (13, 9, 2019), (13, 12, 2019)])\n",
        "check_test(unlucky(2020), [(13, 3, 2020), (13, 11, 2020)])\n",
        "check_test(unlucky(2021), [(13, 8, 2021)])\n",
        "check_test(unlucky(2022),  [(13, 5, 2022)])\n",
        "\n"
      ],
      "metadata": {
        "colab": {
          "base_uri": "https://localhost:8080/"
        },
        "id": "CHr-ARC-d2Ut",
        "outputId": "30aebf9a-1a3d-4838-8265-8b159d9a3843"
      },
      "execution_count": 17,
      "outputs": [
        {
          "output_type": "stream",
          "name": "stdout",
          "text": [
            "Congratulations, the test case passed!\n",
            "Congratulations, the test case passed!\n",
            "Congratulations, the test case passed!\n",
            "Congratulations, the test case passed!\n"
          ]
        }
      ]
    },
    {
      "cell_type": "markdown",
      "source": [
        "## Time Complexity\n"
      ],
      "metadata": {
        "id": "sv_d7QBeYHpb"
      }
    },
    {
      "cell_type": "markdown",
      "source": [
        "Time complexity is defined as the amount of operations taken by an algorithm to run, as a function of the length of the input. It explains how the time it takes a an algorithm to complete grows with respect to the growth in the size of inputs.\n",
        "\n",
        "Consider the following code. The function addNums takes a number n and adds all the numbers from 0 to n - 1\n",
        "\n",
        "```\n",
        "def addNums(n):\n",
        "    answer = 0\n",
        "    for i in range(n):\n",
        "        answer += i\n",
        "\n",
        "    return answer\n",
        "```\n",
        "\n"
      ],
      "metadata": {
        "id": "Nu4pLrLvtadW"
      }
    },
    {
      "cell_type": "code",
      "source": [
        "# For how many iterations is the loop going to run?\n",
        "# Put your answer below."
      ],
      "metadata": {
        "id": "hUOj2eS7Oo2B"
      },
      "execution_count": 18,
      "outputs": []
    },
    {
      "cell_type": "code",
      "source": [],
      "metadata": {
        "id": "ay13Q0XYtlnG"
      },
      "execution_count": 18,
      "outputs": []
    },
    {
      "cell_type": "code",
      "source": [
        "# What is the time complexity of the code in terms of big O notation?\n",
        "# Put your answer below."
      ],
      "metadata": {
        "id": "ci7AvuGhgCI4"
      },
      "execution_count": null,
      "outputs": []
    },
    {
      "cell_type": "code",
      "source": [],
      "metadata": {
        "id": "XxgKX-augN0s"
      },
      "execution_count": null,
      "outputs": []
    },
    {
      "cell_type": "markdown",
      "source": [
        "Now let's consider another function addNumList(n). It takes in a list of numbers, and calls the addNums function for each item in the list.\n",
        "\n",
        "\n",
        "\n",
        "```\n",
        "def addNumList(lst):\n",
        "    for i in lst:\n",
        "        addNums(i)\n",
        "```\n",
        "\n",
        "\n"
      ],
      "metadata": {
        "id": "hu3cT62ytmLy"
      }
    },
    {
      "cell_type": "code",
      "source": [
        "# How many times does the addNumList function call addNums()?\n",
        "# [Your answer here]"
      ],
      "metadata": {
        "id": "JE6vZuqDuH7L"
      },
      "execution_count": 19,
      "outputs": []
    },
    {
      "cell_type": "code",
      "source": [
        "# Now, how many addition operations are going to be performed in total?\n",
        "# [Your answer here]"
      ],
      "metadata": {
        "id": "Js0p01ixuI8S"
      },
      "execution_count": 20,
      "outputs": []
    },
    {
      "cell_type": "code",
      "source": [
        "# What is the time complexity of the code in terms of big O notation?\n",
        "# [Your answer here]"
      ],
      "metadata": {
        "id": "Ej0FmgBCgYhk"
      },
      "execution_count": null,
      "outputs": []
    },
    {
      "cell_type": "markdown",
      "source": [
        "Consider the following loop\n",
        "\n",
        "\n",
        "```\n",
        "for i in range(len(n)):\n",
        "    for j in range(len(n)):\n",
        "        for k in range(len(n)):\n",
        "            print(i, k, j)\n",
        "```\n",
        "\n",
        "\n",
        "If you run the above code with n = 1000,000 how many times does the function call print ?"
      ],
      "metadata": {
        "id": "9YPU3hZMuPgl"
      }
    },
    {
      "cell_type": "code",
      "source": [
        "# [Your code here]"
      ],
      "metadata": {
        "id": "cgP3falluWdq"
      },
      "execution_count": 21,
      "outputs": []
    },
    {
      "cell_type": "markdown",
      "source": [
        "Let's go back to fibonacci for a second.\n",
        "Assume fib only gets numbers >= 0\n",
        "\n",
        "\n",
        "```\n",
        "def fib(n):\n",
        "    if n <= 1:\n",
        "        return 1\n",
        "\n",
        "    return fib(n-1) + fib(n-2)\n",
        "```\n",
        "\n",
        "\n",
        "Try running values fib(10), fib(20), fib(30), fib(40) ... fib(100) and see how long it takes for each of the cases. Explain your observation below interms of time complexity. How many recursive function calls do we need to solve for each of the cases above?"
      ],
      "metadata": {
        "id": "S5EbM7hfu6Jt"
      }
    },
    {
      "cell_type": "code",
      "source": [],
      "metadata": {
        "id": "rRgrim-wvJHR"
      },
      "execution_count": 21,
      "outputs": []
    },
    {
      "cell_type": "markdown",
      "source": [
        "## Search\n",
        "\n"
      ],
      "metadata": {
        "id": "L4Qg9cmQYLT9"
      }
    },
    {
      "cell_type": "markdown",
      "source": [
        "Implement a function called `linear_search` that takes in two parameters: a list of integers and a target integer. The function should return the index of the target integer if it is found in the list, or `-1` if it is not present. Use the linear search algorithm to solve this problem.\n",
        "\n",
        "For example, given the list `[4, 2, 7, 1, 9, 5]` and the target integer `7`, the function should return `2` since `7` is located at index `2` in the list."
      ],
      "metadata": {
        "id": "fRtYZ7aOgugA"
      }
    },
    {
      "cell_type": "code",
      "source": [
        "def linear_search(array, target):\n",
        "  for i in range(len(array)):\n",
        "    if array[i] == target:\n",
        "      return i\n",
        "\n",
        "  return\n"
      ],
      "metadata": {
        "id": "HDat2tXVaKeT"
      },
      "execution_count": 24,
      "outputs": []
    },
    {
      "cell_type": "code",
      "source": [
        "check_test(linear_search([4, 2, 7, 1, 9, 5], 7), 2)\n",
        "check_test(linear_search([1, 2, 3, 4, 5], 5), 4)\n",
        "check_test(linear_search([4, 2, 7, 1, 9, 5], 3), -1)"
      ],
      "metadata": {
        "colab": {
          "base_uri": "https://localhost:8080/"
        },
        "id": "qBGe2Zj-a5VJ",
        "outputId": "c5643952-355a-4b29-a720-1c397ca4996f"
      },
      "execution_count": 27,
      "outputs": [
        {
          "output_type": "stream",
          "name": "stdout",
          "text": [
            "Congratulations, the test case passed!\n",
            "Congratulations, the test case passed!\n",
            "Congratulations, the test case passed!\n"
          ]
        }
      ]
    },
    {
      "cell_type": "markdown",
      "source": [
        "### Question 2\n",
        "\n",
        "Now the challenge is modified a bit. You are given a large sorted list of integers, where each integer appears exactly twice except for one element that appears only once. Implement a function called `find_unique_element` that takes in this sorted list as input and returns the unique element.\n",
        "\n",
        "For example, given the sorted list` [1, 1, 2, 2, 3, 3, 4, 5, 5, 6, 6]`, the function should return `4` since it is the only element that appears once in the list.\n",
        "\n"
      ],
      "metadata": {
        "id": "btBKmm4bcYcV"
      }
    },
    {
      "cell_type": "code",
      "source": [
        "def find_unique_element(array):\n",
        "  unique_elems = set()\n",
        "  for elem in array:\n",
        "    if elem in unique_elems:\n",
        "      unique_elems.remove(elem)\n",
        "    else:\n",
        "      unique_elems.add(elem)\n",
        "\n",
        "  return list(unique_elems)[0]\n"
      ],
      "metadata": {
        "id": "-qEUnaPYcZ24"
      },
      "execution_count": 28,
      "outputs": []
    },
    {
      "cell_type": "code",
      "source": [
        "check_test(find_unique_element([1, 1, 2, 2, 3, 3, 4, 5, 5, 6, 6]), 4)\n",
        "check_test(find_unique_element([1]), 1)\n",
        "check_test(find_unique_element([3, 4, 4]), 3)\n",
        "check_test(find_unique_element([1, 1, 2, 2, 3, 3, 4, 4, 5, 5, 6]), 6)"
      ],
      "metadata": {
        "colab": {
          "base_uri": "https://localhost:8080/"
        },
        "id": "M_6UOp4oec0J",
        "outputId": "03cbc199-604d-403d-afe4-57b4fc0a3bd8"
      },
      "execution_count": 40,
      "outputs": [
        {
          "output_type": "stream",
          "name": "stdout",
          "text": [
            "Congratulations, the test case passed!\n",
            "Congratulations, the test case passed!\n",
            "Congratulations, the test case passed!\n",
            "Congratulations, the test case passed!\n"
          ]
        }
      ]
    },
    {
      "cell_type": "code",
      "source": [],
      "metadata": {
        "id": "-eimKXTTeimu"
      },
      "execution_count": null,
      "outputs": []
    }
  ]
}