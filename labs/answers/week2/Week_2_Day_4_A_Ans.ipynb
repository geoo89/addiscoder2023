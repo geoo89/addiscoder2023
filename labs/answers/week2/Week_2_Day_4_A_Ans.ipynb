{
  "nbformat": 4,
  "nbformat_minor": 0,
  "metadata": {
    "colab": {
      "provenance": []
    },
    "kernelspec": {
      "name": "python3",
      "display_name": "Python 3"
    },
    "language_info": {
      "name": "python"
    }
  },
  "cells": [
    {
      "cell_type": "code",
      "source": [
        "# RUN THIS BLOCK OF CODE BEFORE RUNNING ANY CELLS\n",
        "def check_test(actual, expected):\n",
        "    if expected != actual:\n",
        "        print(f\"Function should return the value {expected}, it is returning the value {actual}\")\n",
        "    else:\n",
        "        print(f\"Congratulations, the test case passed!\")"
      ],
      "metadata": {
        "id": "BY9aZJfMIqls"
      },
      "execution_count": 3,
      "outputs": []
    },
    {
      "cell_type": "markdown",
      "source": [
        "# Week 2, Day 4: List Comprehension, Time Complexity and Search"
      ],
      "metadata": {
        "id": "hLR6YHzecZJM"
      }
    },
    {
      "cell_type": "markdown",
      "source": [
        " In lecture today, you covered list comprehension, time complexity and search.In the exercises today, we will practice using more of these list comprehension technique. You should see that what you have learned so far is already quite powerful. You will be able to automatically solve interesting and complex problems with the tools you now have.  "
      ],
      "metadata": {
        "id": "6WNmQL3KbraK"
      }
    },
    {
      "cell_type": "markdown",
      "source": [
        "## List Comprehension\n"
      ],
      "metadata": {
        "id": "I5W2CrGUv3Dd"
      }
    },
    {
      "cell_type": "markdown",
      "source": [
        "List comprehension is a concise and powerful way to create lists in Python. It allows you to combine loops and conditional statements into a single line of code. Let's explore this concept with some fun and easy exercises:"
      ],
      "metadata": {
        "id": "V2Uy7flzctLc"
      }
    },
    {
      "cell_type": "markdown",
      "source": [
        "### Question 1\n",
        "You are given a string, consisting of lowercase Latin letters. Write a function that deletes all the vowels. Vowels are letters \"a\", \"e\", \"i\", \"o\", \"u\", and the rest are consonants. The program's input is exactly one string, it should return the output as a single string with all vowels removed.\n"
      ],
      "metadata": {
        "id": "qjGppKq1pnlL"
      }
    },
    {
      "cell_type": "code",
      "source": [
        "def remove_vowels(word):\n",
        "  return \"\".join([letter for letter in word if letter not in \"aeiou\"])"
      ],
      "metadata": {
        "id": "YM6zS_uDrQxZ"
      },
      "execution_count": 4,
      "outputs": []
    },
    {
      "cell_type": "code",
      "source": [
        "check_test(remove_vowels(\"abacaba\"), \"bcb\")\n",
        "check_test(remove_vowels(\"addis coder\"), \"dds cdr\")\n",
        "check_test(remove_vowels(\"list comprehension is fun\"), \"lst cmprhnsn s fn\")\n",
        "check_test(remove_vowels(\"zzzzzzzzz\"), \"zzzzzzzzz\")\n",
        "check_test(remove_vowels(\"aaaaaaaaaaaaaa\"), \"\")\n",
        "check_test(remove_vowels(\"\"), \"\")\n"
      ],
      "metadata": {
        "colab": {
          "base_uri": "https://localhost:8080/"
        },
        "id": "iJwp0s_8I_Es",
        "outputId": "2c8f463b-a462-476e-fa86-deb70d129ff8"
      },
      "execution_count": 5,
      "outputs": [
        {
          "output_type": "stream",
          "name": "stdout",
          "text": [
            "Congratulations, the test case passed!\n",
            "Congratulations, the test case passed!\n",
            "Congratulations, the test case passed!\n",
            "Congratulations, the test case passed!\n",
            "Congratulations, the test case passed!\n",
            "Congratulations, the test case passed!\n"
          ]
        }
      ]
    },
    {
      "cell_type": "markdown",
      "source": [
        "### Question 2\n",
        "\n",
        "You are give a list of words, Find all of the words in the list that are palindromes.\n",
        "\n",
        "A palindrom is a word, phrase, or sequence that reads the same backward as forward, e.g., <b><i>\"madam\"</i></b> or <b><i>\"mom\"</i></b> .\n",
        "\n",
        "In order to solve this problem. You can follow this steps.\n",
        "\n",
        "1. First create a function that checks if a word is a palindrome or not.\n",
        "2. Create another function that uses list comprehension to collect the words that are palindrome from the list.\n"
      ],
      "metadata": {
        "id": "VuraeqEosuqo"
      }
    },
    {
      "cell_type": "code",
      "source": [
        "# Step 1: Createh a function that checks if a word is palindrome or not.\n",
        "def check_palindrome(word):\n",
        "  l, r = 0, len(word) - 1\n",
        "  while l < r:\n",
        "    if word[l] != word[r]:\n",
        "      return False\n",
        "    l += 1\n",
        "    r -= 1\n",
        "  return True"
      ],
      "metadata": {
        "id": "QH23D6GnC5kr"
      },
      "execution_count": 6,
      "outputs": []
    },
    {
      "cell_type": "code",
      "source": [
        "# Step 2: Create another function that uses list comprehension to collect the words that are palindrome from the list.\n",
        "def get_palindromic_words(words):\n",
        "  return [word for word in words if check_palindrome(word)]"
      ],
      "metadata": {
        "id": "GgDtah4XF1U4"
      },
      "execution_count": 7,
      "outputs": []
    },
    {
      "cell_type": "code",
      "source": [
        "check_test(get_palindromic_words([\"madam\", \"horse\", \"ball\", \"racecar\"]), [\"madam\", \"racecar\"])\n",
        "check_test(get_palindromic_words([\"one\", \"black\", \"zebra\", \"list\"]), [])\n",
        "check_test(get_palindromic_words([\"kayak\", \"rotator\", \"noon\", \"deed\", \"wow\"]), [\"kayak\", \"rotator\", \"noon\", \"deed\", \"wow\"])\n",
        "\n"
      ],
      "metadata": {
        "colab": {
          "base_uri": "https://localhost:8080/"
        },
        "id": "ffYSyNf2L1nb",
        "outputId": "df8adc28-c057-4b37-af9c-f887a2373a0c"
      },
      "execution_count": 8,
      "outputs": [
        {
          "output_type": "stream",
          "name": "stdout",
          "text": [
            "Congratulations, the test case passed!\n",
            "Congratulations, the test case passed!\n",
            "Congratulations, the test case passed!\n"
          ]
        }
      ]
    },
    {
      "cell_type": "markdown",
      "source": [
        "## Time Complexity\n"
      ],
      "metadata": {
        "id": "sv_d7QBeYHpb"
      }
    },
    {
      "cell_type": "markdown",
      "source": [
        "Time complexity is defined as the amount of operations taken by an algorithm to run, as a function of the length of the input. It explains how the time it takes a an algorithm to complete grows with respect to the growth in the size of inputs.\n",
        "\n",
        "Consider the following code. The function addNums takes a number n and adds all the numbers from 0 to n - 1\n",
        "\n",
        "```\n",
        "def addNums(n):\n",
        "    answer = 0\n",
        "    for i in range(n):\n",
        "        answer += i\n",
        "\n",
        "    return answer\n",
        "```\n",
        "\n"
      ],
      "metadata": {
        "id": "Nu4pLrLvtadW"
      }
    },
    {
      "cell_type": "code",
      "source": [
        "# For how many iterations is the loop going to run?\n",
        "# Put your answer below."
      ],
      "metadata": {
        "id": "hUOj2eS7Oo2B"
      },
      "execution_count": 9,
      "outputs": []
    },
    {
      "cell_type": "code",
      "source": [
        "# n iterations"
      ],
      "metadata": {
        "id": "ay13Q0XYtlnG"
      },
      "execution_count": 10,
      "outputs": []
    },
    {
      "cell_type": "code",
      "source": [
        "# What is the time complexity of the code in terms of big O notation?\n",
        "# Put your answer below."
      ],
      "metadata": {
        "id": "ci7AvuGhgCI4"
      },
      "execution_count": 11,
      "outputs": []
    },
    {
      "cell_type": "code",
      "source": [
        "O(n)"
      ],
      "metadata": {
        "id": "XxgKX-augN0s",
        "colab": {
          "base_uri": "https://localhost:8080/",
          "height": 165
        },
        "outputId": "1c33ecca-0e86-4d4c-a1d7-ef5bc13e0c2c"
      },
      "execution_count": 12,
      "outputs": [
        {
          "output_type": "error",
          "ename": "NameError",
          "evalue": "ignored",
          "traceback": [
            "\u001b[0;31m---------------------------------------------------------------------------\u001b[0m",
            "\u001b[0;31mNameError\u001b[0m                                 Traceback (most recent call last)",
            "\u001b[0;32m<ipython-input-12-daadcec4f051>\u001b[0m in \u001b[0;36m<cell line: 1>\u001b[0;34m()\u001b[0m\n\u001b[0;32m----> 1\u001b[0;31m \u001b[0mO\u001b[0m\u001b[0;34m(\u001b[0m\u001b[0mn\u001b[0m\u001b[0;34m)\u001b[0m\u001b[0;34m\u001b[0m\u001b[0;34m\u001b[0m\u001b[0m\n\u001b[0m",
            "\u001b[0;31mNameError\u001b[0m: name 'O' is not defined"
          ]
        }
      ]
    },
    {
      "cell_type": "markdown",
      "source": [
        "Now let's consider another function addNumList(n). It takes in a list of numbers, and calls the addNums function for each item in the list.\n",
        "\n",
        "\n",
        "\n",
        "```\n",
        "def addNumList(lst):\n",
        "    for i in lst:\n",
        "        addNums(i)\n",
        "```\n",
        "\n",
        "\n"
      ],
      "metadata": {
        "id": "hu3cT62ytmLy"
      }
    },
    {
      "cell_type": "code",
      "source": [
        "# How many times does the addNumList function call addNums()?\n",
        "# len(lst) times"
      ],
      "metadata": {
        "id": "JE6vZuqDuH7L"
      },
      "execution_count": null,
      "outputs": []
    },
    {
      "cell_type": "code",
      "source": [
        "# Now, how many addition operations are going to be performed in total?\n",
        "# sum(lst) operations\n"
      ],
      "metadata": {
        "id": "Js0p01ixuI8S"
      },
      "execution_count": null,
      "outputs": []
    },
    {
      "cell_type": "code",
      "source": [
        "# What is the time complexity of the code in terms of big O notation?\n",
        "# let n = len(lst) and m = max(lst)\n",
        "# O(n * m)"
      ],
      "metadata": {
        "id": "Ej0FmgBCgYhk"
      },
      "execution_count": 17,
      "outputs": []
    },
    {
      "cell_type": "markdown",
      "source": [
        "## Search\n",
        "\n"
      ],
      "metadata": {
        "id": "L4Qg9cmQYLT9"
      }
    },
    {
      "cell_type": "markdown",
      "source": [
        "Implement a function called `linear_search` that takes in two parameters: a list of integers and a target integer. The function should return the index of the target integer if it is found in the list, or `-1` if it is not present. Use the linear search algorithm to solve this problem.\n",
        "\n",
        "For example, given the list `[4, 2, 7, 1, 9, 5]` and the target integer `7`, the function should return `2` since `7` is located at index `2` in the list."
      ],
      "metadata": {
        "id": "fRtYZ7aOgugA"
      }
    },
    {
      "cell_type": "code",
      "source": [
        "def linear_search(array, target):\n",
        "  for i in range(len(array)):\n",
        "    if array[i] == target:\n",
        "      return i\n",
        "\n",
        "  return -1\n"
      ],
      "metadata": {
        "id": "HDat2tXVaKeT"
      },
      "execution_count": 15,
      "outputs": []
    },
    {
      "cell_type": "code",
      "source": [
        "check_test(linear_search([4, 2, 7, 1, 9, 5], 7), 2)\n",
        "check_test(linear_search([1, 2, 3, 4, 5], 5), 4)\n",
        "check_test(linear_search([4, 2, 7, 1, 9, 5], 3), -1)"
      ],
      "metadata": {
        "colab": {
          "base_uri": "https://localhost:8080/"
        },
        "id": "qBGe2Zj-a5VJ",
        "outputId": "1b7a60de-676b-435d-812f-ab36b1428120"
      },
      "execution_count": 16,
      "outputs": [
        {
          "output_type": "stream",
          "name": "stdout",
          "text": [
            "Congratulations, the test case passed!\n",
            "Congratulations, the test case passed!\n",
            "Congratulations, the test case passed!\n"
          ]
        }
      ]
    },
    {
      "cell_type": "code",
      "source": [],
      "metadata": {
        "id": "-eimKXTTeimu"
      },
      "execution_count": null,
      "outputs": []
    }
  ]
}