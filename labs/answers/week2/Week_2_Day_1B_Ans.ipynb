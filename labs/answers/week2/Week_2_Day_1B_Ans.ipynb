{
 "cells": [
  {
   "cell_type": "markdown",
   "metadata": {
    "id": "CIUTGfWm4tgU"
   },
   "source": [
    "# Lecture 6, Exercises B\n",
    "Reviewed By: Song Li"
   ]
  },
  {
   "cell_type": "code",
   "execution_count": null,
   "metadata": {
    "id": "mZapYPFD67rC"
   },
   "outputs": [],
   "source": [
    "def check(actual, expected):\n",
    "    if expected != actual:\n",
    "        print(\n",
    "            f\"Function should return the value {expected}, it is returning the value {actual}\")\n",
    "    else:\n",
    "        print(f\"Congratulations, the test case passed!\")"
   ]
  },
  {
   "cell_type": "markdown",
   "metadata": {
    "id": "RRv9GY0g4tgX"
   },
   "source": [
    "## Question 1"
   ]
  },
  {
   "cell_type": "markdown",
   "metadata": {
    "id": "X_3eaU8m4tgY"
   },
   "source": [
    "### 1.1\n",
    "\n",
    "The 8th grade exam for this year just ended. Help prepare result certificates for students by making a list of lists (called `ministry`) containing the grades obtained in the six subjects. Each list should contain a subject as the first index and the corresponding grade as the second index. Initialize all grades to 100. The subjects in the exam are English, Maths, General Science, Amharic, Social Studies, and Citizenship and should be put in the list in that order."
   ]
  },
  {
   "cell_type": "code",
   "execution_count": null,
   "metadata": {
    "id": "dshDwHh34tgZ"
   },
   "outputs": [],
   "source": [
    "# Put you code below this comment\n",
    "ministry = [['Englsih', 100], ['Maths', 100], ['General Science', 100], ['Amharic', 100], ['Social Studies', 100], ['Citizenship', 100]]"
   ]
  },
  {
   "cell_type": "markdown",
   "metadata": {
    "id": "L-m-4mzw4tgd"
   },
   "source": [
    "### 1.2\n",
    "\n",
    "Define a function to determine if all grades in the ministry matrix are equal to 100. If all grades are 100, print `True`. If not, print `False`. (Use range.) Run the function using the ministry list."
   ]
  },
  {
   "cell_type": "code",
   "execution_count": null,
   "metadata": {
    "colab": {
     "base_uri": "https://localhost:8080/"
    },
    "id": "q9mOl27b4tgf",
    "outputId": "7d3fa4c4-ca93-4a5e-e054-5990392c584c"
   },
   "outputs": [
    {
     "data": {
      "text/plain": [
       "True"
      ]
     },
     "execution_count": 22,
     "metadata": {},
     "output_type": "execute_result"
    }
   ],
   "source": [
    "def hundred(lst):\n",
    "  # Put you code below this comment\n",
    "  for i in range(len(lst)):\n",
    "    if lst[i][1] != 100:\n",
    "      return False\n",
    "  return True\n",
    "hundred(ministry)"
   ]
  },
  {
   "cell_type": "code",
   "execution_count": null,
   "metadata": {
    "colab": {
     "base_uri": "https://localhost:8080/"
    },
    "id": "bxtDjyif4tgi",
    "outputId": "ebd036a0-39bb-4373-f073-2e89eb0be017"
   },
   "outputs": [
    {
     "name": "stdout",
     "output_type": "stream",
     "text": [
      "Congratulations, the test case passed!\n",
      "Congratulations, the test case passed!\n"
     ]
    }
   ],
   "source": [
    "L = [['Englsih', 90], ['Maths', 90], ['General Science', 100], ['Amharic', 100], ['Social Studies', 100], ['Citizenship', 100]]\n",
    "check(hundred(L), False)\n",
    "\n",
    "L = [['Englsih', 100], ['Maths', 100], ['General Science', 100], ['Amharic', 100], ['Social Studies', 100], ['Citizenship', 100]]\n",
    "check(hundred(L), True)"
   ]
  },
  {
   "cell_type": "markdown",
   "metadata": {
    "id": "3SieMz8T4tgn"
   },
   "source": [
    "### 1.3\n",
    "\n",
    "Now change the General Science grade in ministry to 75 without completely redefining the list. Print the ministry list to confirm you altered the list as expected. Then, re-run your function from 1.2 to determine if you obtain the expected result.  "
   ]
  },
  {
   "cell_type": "code",
   "execution_count": null,
   "metadata": {
    "id": "fA59HQL74tgo"
   },
   "outputs": [],
   "source": [
    "# Put you code below this comment\n",
    "for i in range(len(ministry)):\n",
    "    if ministry[i][0] = 'General Science':\n",
    "        ministry[i][1] = 75\n",
    "        break"
   ]
  },
  {
   "cell_type": "markdown",
   "metadata": {
    "id": "HS05H9Aj4tgs"
   },
   "source": [
    "### 1.4\n",
    "\n",
    "Write a function to compute the average mark. (You may pick whether to use range or not.)"
   ]
  },
  {
   "cell_type": "code",
   "execution_count": null,
   "metadata": {
    "id": "ZIdxzK-84tgt"
   },
   "outputs": [],
   "source": [
    "def averageMark(lst):\n",
    "  # Put you code below this comment\n",
    "  runningSum = 0\n",
    "  for i in range(len(lst)):\n",
    "    runningSum += lst[i][1]\n",
    "  return runningSum/len(lst)"
   ]
  },
  {
   "cell_type": "code",
   "execution_count": null,
   "metadata": {
    "colab": {
     "base_uri": "https://localhost:8080/"
    },
    "id": "2Y5wXAWP4tg1",
    "outputId": "e57dec7a-afc3-4f72-9e5a-b27272913c3f"
   },
   "outputs": [
    {
     "name": "stdout",
     "output_type": "stream",
     "text": [
      "Congratulations, the test case passed!\n"
     ]
    }
   ],
   "source": [
    "L = [['English', 95],\n",
    "     ['Maths', 81],\n",
    "     ['General Science', 85],\n",
    "     ['Amharic', 75],\n",
    "     ['Social Studies', 90],\n",
    "     ['Citizenship', 84]]\n",
    "\n",
    "check(averageMark(L), 85)"
   ]
  },
  {
   "cell_type": "markdown",
   "metadata": {
    "id": "cOZ8Uu0W4tg4"
   },
   "source": [
    "### 1.5\n",
    "\n",
    "In all 100 students took the exam. Their scores is given in the list `ministryScores` below."
   ]
  },
  {
   "cell_type": "code",
   "execution_count": null,
   "metadata": {
    "id": "-EtSwHIfXQsQ"
   },
   "outputs": [],
   "source": [
    "## Run this cell but don't alter it\n",
    "allMinistryScores = [44, 42, 36, 57, 60, 48, 45, 47, 30, 51, 39, 55, 55, 37, 36, 31,\n",
    "                  72, 55, 28, 53, 44, 67, 38, 60, 85, 37, 44, 68, 66, 44, 33, 27,\n",
    "                  41, 34, 21, 21, 47, 71, 33, 53, 44, 80, 35, 38, 39, 42, 10, 46,\n",
    "                  51, 34, 60, 54, 41, 42, 51, 65, 53, 44, 71, 59, 38, 57, 52, 50,\n",
    "                  50, 55, 38, 17, 41, 59, 69, 54, 43, 60, 60, 38, 62, 58, 54, 48,\n",
    "                  38, 56, 66, 55, 34, 24, 51, 29, 39, 65, 20, 48, 94, 30, 38, 38,\n",
    "                  59, 42, 50, 55]"
   ]
  },
  {
   "cell_type": "markdown",
   "metadata": {
    "id": "tl6KDGulX1gm"
   },
   "source": [
    "Write a program called `percentileCalc` that given a score, will give the number of scores strictly below it in the list."
   ]
  },
  {
   "cell_type": "code",
   "execution_count": null,
   "metadata": {
    "colab": {
     "base_uri": "https://localhost:8080/"
    },
    "id": "rzEuUZ3N4tg5",
    "outputId": "2d984220-13e8-4538-8df4-795ca279585f"
   },
   "outputs": [
    {
     "data": {
      "text/plain": [
       "100"
      ]
     },
     "execution_count": 36,
     "metadata": {},
     "output_type": "execute_result"
    }
   ],
   "source": [
    "def percentileCalc(score):\n",
    "  # Put you code below this comment\n",
    "  ctr = 0\n",
    "  for i in range(len(allMinistryScores)):\n",
    "    if score > allMinistryScores[i]:\n",
    "      ctr += 1\n",
    "  return ctr"
   ]
  },
  {
   "cell_type": "code",
   "execution_count": null,
   "metadata": {
    "colab": {
     "base_uri": "https://localhost:8080/"
    },
    "id": "1KyHYdpL4tg-",
    "outputId": "ef53b96f-fbba-4d87-c17b-fb9c1a9c2690"
   },
   "outputs": [
    {
     "name": "stdout",
     "output_type": "stream",
     "text": [
      "Congratulations, the test case passed!\n",
      "Congratulations, the test case passed!\n",
      "Congratulations, the test case passed!\n",
      "Congratulations, the test case passed!\n"
     ]
    }
   ],
   "source": [
    "check(percentileCalc(19),2)\n",
    "check(percentileCalc(42),36)\n",
    "check(percentileCalc(64),87)\n",
    "check(percentileCalc(95),100)"
   ]
  },
  {
   "cell_type": "markdown",
   "metadata": {
    "id": "pJIaQaQ84thD"
   },
   "source": [
    "## Question 2"
   ]
  },
  {
   "cell_type": "markdown",
   "metadata": {
    "id": "mvc3t_Z_4thF"
   },
   "source": [
    "### 2.1\n",
    "\n",
    "Prof Jelani is giving grades to his students. From past experience, he is sure what the probabilities are for each grade. The grades are (A, B, C, D, F) and their probabilities are (0.1, 0.25, 0.3, 0.2, 0.15) equally likely for all students (with probability equal to 0.2) on the exam. Define a list of lists (called probs) where each list has the letter grade at the first index and the probability of obtaining the corresponding letter grade at the second index."
   ]
  },
  {
   "cell_type": "code",
   "execution_count": null,
   "metadata": {
    "id": "jvbj1kFt4thF"
   },
   "outputs": [],
   "source": [
    "probs = [['A', 0.1], ['B', 0.25], ['C', 0.3], ['D', 0.2], ['F', 0.15]]"
   ]
  },
  {
   "cell_type": "markdown",
   "metadata": {
    "id": "oqgx6mEQ4thI"
   },
   "source": [
    "### 2.2\n",
    "\n",
    "Write a function that uses a for loop to find the total probability of obtaining any of the grades (A, B, C, D, F). If the probabilities sum to 1, then print possible and return `True`. If the probabilities sum to more or less than 1, print impossible and return `False`. Make a helper function to sum values in lists."
   ]
  },
  {
   "cell_type": "code",
   "execution_count": null,
   "metadata": {
    "id": "lGesU0uO4thJ"
   },
   "outputs": [],
   "source": [
    "def probAdder1(lst):\n",
    "  val = 0\n",
    "  for i in range(len(lst)):\n",
    "    if lst[i][1] > 1 or lst[i][1] < 0:\n",
    "        val = -1\n",
    "        print('There are one or more invalid probabilies in the list.')\n",
    "        return val\n",
    "    val += lst[i][1]\n",
    "  return val\n",
    "\n",
    "def check_probs(lst):\n",
    "  num = probAdder1(lst)\n",
    "  if num != 1:\n",
    "    print('impossible')\n",
    "    return False\n",
    "  else:\n",
    "    print('possible')\n",
    "  return True\n",
    "\n",
    "# Test your function on the probs list you made in exercise 2.1"
   ]
  },
  {
   "cell_type": "code",
   "execution_count": null,
   "metadata": {
    "colab": {
     "base_uri": "https://localhost:8080/"
    },
    "id": "ywBglNpF4thL",
    "outputId": "6f038fe5-c37a-41f7-91fb-6c1949e6d81f"
   },
   "outputs": [
    {
     "name": "stdout",
     "output_type": "stream",
     "text": [
      "possible\n",
      "Congratulations, the test case passed!\n",
      "impossible\n",
      "Congratulations, the test case passed!\n"
     ]
    }
   ],
   "source": [
    "L = [['A', 0.5], ['B', 0.1], ['C', 0.1], ['D', 0.1], ['F', 0.2]]\n",
    "check(check_probs(L), True)\n",
    "\n",
    "M = [['A', 0.5], ['B', 0.1], ['C', 0.1], ['D', 0.1], ['F', 0.3]]\n",
    "check(check_probs(M), False)"
   ]
  },
  {
   "cell_type": "markdown",
   "metadata": {
    "id": "1HYMpEZd4thP"
   },
   "source": [
    "### 2.3\n",
    "\n",
    "Answer question 2.2 using a while loop instead of a for loop. You may use the same check_probs function from exercise 2.2."
   ]
  },
  {
   "cell_type": "code",
   "execution_count": null,
   "metadata": {
    "colab": {
     "base_uri": "https://localhost:8080/"
    },
    "id": "8h00f4Hf4thQ",
    "outputId": "0f7a4edc-36a0-4361-9ce7-7882777d7d99"
   },
   "outputs": [
    {
     "name": "stdout",
     "output_type": "stream",
     "text": [
      "impossible\n"
     ]
    },
    {
     "data": {
      "text/plain": [
       "False"
      ]
     },
     "execution_count": 37,
     "metadata": {},
     "output_type": "execute_result"
    }
   ],
   "source": [
    "def probAdder2(lst):\n",
    "  ctr = 0\n",
    "  val = 0\n",
    "  while (ctr < len(lst)):\n",
    "    val += lst[ctr][1]\n",
    "    ctr +=1\n",
    "  return val\n",
    "\n",
    "\n",
    "check_probs(probs)"
   ]
  },
  {
   "cell_type": "code",
   "execution_count": null,
   "metadata": {
    "colab": {
     "base_uri": "https://localhost:8080/"
    },
    "id": "kpohDHPe4thX",
    "outputId": "86bc03b0-684c-4336-a543-6480b623d6ff"
   },
   "outputs": [
    {
     "name": "stdout",
     "output_type": "stream",
     "text": [
      "possible\n",
      "Congratulations, the test case passed!\n",
      "impossible\n",
      "Congratulations, the test case passed!\n",
      "impossible\n",
      "Congratulations, the test case passed!\n"
     ]
    }
   ],
   "source": [
    "L = [['A', 0.5], ['B', 0.1], ['C', 0.1], ['D', 0.1], ['F', 0.2]]\n",
    "check(check_probs(L), True)\n",
    "\n",
    "M = [['A', 0.5], ['B', 0.1], ['C', 0.1], ['D', 0.1], ['F', 0.3]]\n",
    "check(check_probs(M), False)\n",
    "\n",
    "N = [['A', 0.5], ['B', 0.3], ['C', 0.1], ['D', 0.1], ['F', 0.3]]\n",
    "check(check_probs(N), False)"
   ]
  },
  {
   "cell_type": "markdown",
   "metadata": {
    "id": "U_fXCyMo4thc"
   },
   "source": [
    "### 2.4\n",
    "\n",
    "After grading the tests however, Jelani sees that the students did very well and he must update his probabilites. Define a function to change the probabilities of the grades in the probs list. Add 0.1 probability for A, 0.05 for B, 0 for C, subtract 0.05 for D and 0.1 for F. Use a while loop to accomplish this, and print the new_probs list to confirm that you have the proper elements. (You could define a new `list = [['A',0.2],['B',0.3],['C',0.3],['D',0.15],['F',0.05]]`, but try to alter the existing list for this problem.)"
   ]
  },
  {
   "cell_type": "code",
   "execution_count": null,
   "metadata": {
    "id": "8aPFXhzh4thd",
    "scrolled": false
   },
   "outputs": [],
   "source": [
    "def change(lst):\n",
    "  n = len(lst)\n",
    "  ctr = 1\n",
    "  while ctr <= n:\n",
    "    lst[n - ctr][1] += 0.05 * (ctr - 3)\n",
    "    lst[n - ctr][1] = round(lst[n - ctr][1], 2)\n",
    "    ctr += 1\n",
    "  return lst\n",
    "\n",
    "new_probs = change(probs)"
   ]
  },
  {
   "cell_type": "code",
   "execution_count": null,
   "metadata": {
    "colab": {
     "base_uri": "https://localhost:8080/"
    },
    "id": "D_iIz_CSNCVc",
    "outputId": "01c376d1-a1c5-47bf-f070-67534c81ff80"
   },
   "outputs": [
    {
     "name": "stdout",
     "output_type": "stream",
     "text": [
      "Congratulations, the test case passed!\n"
     ]
    }
   ],
   "source": [
    "L = [['A',0.2],['B',0.3],['C',0.3],['D',0.15],['F',0.05]]\n",
    "check(new_probs, L)"
   ]
  },
  {
   "cell_type": "markdown",
   "metadata": {
    "id": "r8DKaUPf4thx"
   },
   "source": [
    "## Question 3 - CHALLENGE"
   ]
  },
  {
   "cell_type": "markdown",
   "metadata": {
    "id": "ZZeyC2Ny4thy"
   },
   "source": [
    "### 3.1\n",
    "\n",
    "A math exam exam is coming up. You want to prepare, but you misplaced your calculator, and the computer your using only has jupyter notebook available. Normally you could use arithmetic operators, but your input is given as a string (ex. '1 + 2 * 8 ÷ 2'). Make a calculator capable of completing addition, subtraction, multiplication, and division. (Do not take order of operations into account. Perform functions from left to right.)  "
   ]
  },
  {
   "cell_type": "code",
   "execution_count": null,
   "metadata": {
    "id": "-DzGl_EL4thz"
   },
   "outputs": [],
   "source": [
    "#SOLUTION\n",
    "\n",
    "def calc1(string):\n",
    "  num_lst = []\n",
    "  operator_lst = []\n",
    "  cur_val = 0\n",
    "  index = 0\n",
    "  for i in string:\n",
    "    if i != ' ':\n",
    "      if index == (len(string) - 1):\n",
    "        if cur_val == 0:\n",
    "          cur_val = int(i)\n",
    "          num_lst.append(cur_val)\n",
    "        else:\n",
    "          cur_val = (cur_val * 10) + int(i)\n",
    "          num_lst.append(cur_val)\n",
    "      elif ((i != '+') & (i != '-') & (i != '*') & (i != '÷')):\n",
    "          if cur_val == 0:\n",
    "            cur_val = int(i)\n",
    "          else:\n",
    "            cur_val = (cur_val * 10) + int(i)\n",
    "      else:\n",
    "        num_lst.append(cur_val)\n",
    "        cur_val = 0\n",
    "        operator_lst.append(i)\n",
    "    index += 1\n",
    "\n",
    "  for op in operator_lst:\n",
    "    if op == '+':\n",
    "      num_lst[0] = num_lst[0] + num_lst[1]\n",
    "    elif op == '*':\n",
    "      num_lst[0] = num_lst[0] * num_lst[1]\n",
    "    elif op == '÷':\n",
    "      num_lst[0] = num_lst[0] / num_lst[1]\n",
    "    elif op == '-':\n",
    "      num_lst[0] = num_lst[0] - num_lst[1]\n",
    "    else:\n",
    "      raise ValueError('You have not added this operator yet.')\n",
    "    del num_lst[1]\n",
    "  return num_lst[0]\n",
    "\n",
    "#Test your function on this equation '10 + 20 * 80 ÷ 20'"
   ]
  },
  {
   "cell_type": "code",
   "execution_count": null,
   "metadata": {
    "colab": {
     "base_uri": "https://localhost:8080/"
    },
    "id": "LZNz6ufC4th1",
    "outputId": "c52f1d4a-25f6-462e-b445-3f7831234548"
   },
   "outputs": [
    {
     "name": "stdout",
     "output_type": "stream",
     "text": [
      "Congratulations, the test case passed!\n",
      "Congratulations, the test case passed!\n",
      "Congratulations, the test case passed!\n"
     ]
    }
   ],
   "source": [
    "check(calc1('1+2+3÷2*12'), 36)\n",
    "check(calc1('1+2+3÷2*0'), 0)\n",
    "check(calc1('100+2+3÷5*12'), 252)"
   ]
  },
  {
   "cell_type": "markdown",
   "metadata": {
    "id": "CyZ3_8ab4th4"
   },
   "source": [
    "### 3.2\n",
    "\n",
    "Now complete exercise 3.1 taking into acount the order of operations. Again, you only need to add functionality for addition, subtraction, multiplication, and division."
   ]
  },
  {
   "cell_type": "code",
   "execution_count": null,
   "metadata": {
    "id": "nVUKp5SQ4th5"
   },
   "outputs": [],
   "source": [
    "#SOLUTION\n",
    "\n",
    "def calc2(string):\n",
    "    num_lst = []\n",
    "    operator_lst = []\n",
    "    [count0,count1,count2,count3] = [0,0,0,0]\n",
    "    cur_val = 0\n",
    "    index = 0\n",
    "    for i in string:\n",
    "        if i != ' ':\n",
    "            if index == (len(string) - 1):\n",
    "                if cur_val == 0:\n",
    "                    cur_val = int(i)\n",
    "                    num_lst.append(cur_val)\n",
    "                else:\n",
    "                    cur_val = (cur_val * 10) + int(i)\n",
    "                    num_lst.append(cur_val)\n",
    "            elif ((i != '+') & (i != '-') & (i != '*') & (i != '÷')):\n",
    "                if cur_val == 0:\n",
    "                    cur_val = int(i)\n",
    "                else:\n",
    "                    cur_val = (cur_val * 10) + int(i)\n",
    "            else:\n",
    "                num_lst.append(cur_val)\n",
    "                cur_val = 0\n",
    "                operator_lst.append(i)\n",
    "                if i == '+':\n",
    "                    count0 += 1\n",
    "                elif i == '*':\n",
    "                    count1 += 1\n",
    "                elif i == '÷':\n",
    "                    count2 += 1\n",
    "                elif i == '-':\n",
    "                    count3 += 1\n",
    "                else:\n",
    "                    raise ValueError('You have not added this operator yet.')\n",
    "        index += 1\n",
    "\n",
    "    i = 0\n",
    "    while([count0,count1,count2,count3] != [0,0,0,0]):\n",
    "        if (count1 > 0) & (count2 > 0):\n",
    "            if operator_lst.index('*') < operator_lst.index('÷'):\n",
    "                i = operator_lst.index('*')\n",
    "                num_lst[i] = num_lst[i] * num_lst[i + 1]\n",
    "                count1 -= 1\n",
    "            elif operator_lst.index('*') > operator_lst.index('÷'):\n",
    "                i = operator_lst.index('÷')\n",
    "                num_lst[i] = num_lst[i] / num_lst[i + 1]\n",
    "                count2 -= 1\n",
    "        elif count1 > 0:\n",
    "            i = operator_lst.index('*')\n",
    "            num_lst[i] = num_lst[i] * num_lst[i + 1]\n",
    "            count1 -= 1\n",
    "        elif count2 > 0:\n",
    "            i = operator_lst.index('÷')\n",
    "            num_lst[i] = num_lst[i] / num_lst[i + 1]\n",
    "            count2 -= 1\n",
    "        elif (count0 > 0) & (count3 > 0):\n",
    "            if operator_lst.index('+') < operator_lst.index('-'):\n",
    "                i = operator_lst.index(count0)\n",
    "                num_lst[i] = num_lst[i] + num_lst[i + 1]\n",
    "                count0 -= 1\n",
    "            elif operator_lst.index('+') > operator_lst.index('-'):\n",
    "                i = operator_lst.index('-')\n",
    "                num_lst[i] = num_lst[i] - num_lst[i + 1]\n",
    "                count3 -= 1\n",
    "        elif count0 > 0:\n",
    "            i = operator_lst.index('+')\n",
    "            num_lst[i] = num_lst[i] + num_lst[i + 1]\n",
    "            count0 -= 1\n",
    "        elif count3 > 0:\n",
    "            i = operator_lst.index('-')\n",
    "            num_lst[i] = num_lst[i] - num_lst[i + 1]\n",
    "            count3 -= 1\n",
    "        else:\n",
    "            continue\n",
    "        del num_lst[i + 1]\n",
    "        del operator_lst[i]\n",
    "\n",
    "    return num_lst[0]\n",
    "\n",
    "\n",
    "def calc3(string):\n",
    "  num_lst = []\n",
    "  operator_lst = []\n",
    "  cur_val = 0\n",
    "  index = 0\n",
    "  for i in string:\n",
    "    if i != ' ':\n",
    "      if index == (len(string) - 1):\n",
    "        if cur_val == 0:\n",
    "          cur_val = int(i)\n",
    "          num_lst.append(cur_val)\n",
    "        else:\n",
    "          cur_val = (cur_val * 10) + int(i)\n",
    "          num_lst.append(cur_val)\n",
    "      elif ((i != '+') & (i != '-') & (i != '*') & (i != '÷')):\n",
    "          if cur_val == 0:\n",
    "            cur_val = int(i)\n",
    "          else:\n",
    "            cur_val = (cur_val * 10) + int(i)\n",
    "      else:\n",
    "        num_lst.append(cur_val)\n",
    "        cur_val = 0\n",
    "        operator_lst.append(i)\n",
    "    index += 1\n",
    "  idx = 0\n",
    "\n",
    "  while idx < len(operator_lst):\n",
    "    op = operator_lst[idx]\n",
    "    if op == '*':\n",
    "      num_lst[idx] = num_lst[idx] * num_lst[idx + 1]\n",
    "      operator_lst.pop(idx)\n",
    "      num_lst.pop(idx + 1)\n",
    "      idx -=1\n",
    "    elif op == '÷':\n",
    "      num_lst[idx] = num_lst[idx] / num_lst[idx + 1]\n",
    "      operator_lst.pop(idx)\n",
    "      num_lst.pop(idx + 1)\n",
    "      idx -=1\n",
    "    idx += 1\n",
    "\n",
    "  for op in operator_lst:\n",
    "    if op == '+':\n",
    "      num_lst[0] = num_lst[0] + num_lst[1]\n",
    "    elif op == '-':\n",
    "      num_lst[0] = num_lst[0] - num_lst[1]\n",
    "    else:\n",
    "      raise ValueError('You have not added this operator yet.')\n",
    "    del num_lst[1]\n",
    "  return num_lst[0]\n",
    "\n",
    "\n",
    "# Test your function on the equation '10 + 20 * 80 ÷ 20'"
   ]
  },
  {
   "cell_type": "code",
   "execution_count": null,
   "metadata": {
    "colab": {
     "base_uri": "https://localhost:8080/"
    },
    "id": "91oZl2lq4th7",
    "outputId": "bece2a93-d346-4ea8-e8b1-c8430489eb78"
   },
   "outputs": [
    {
     "name": "stdout",
     "output_type": "stream",
     "text": [
      "Congratulations, the test case passed!\n",
      "Congratulations, the test case passed!\n",
      "Congratulations, the test case passed!\n",
      "Congratulations, the test case passed!\n",
      "Congratulations, the test case passed!\n",
      "Congratulations, the test case passed!\n"
     ]
    }
   ],
   "source": [
    "check(calc2('1+2+3÷2*12'), 21)\n",
    "check(calc2('1+2+3÷2*0'), 3)\n",
    "check(calc2('100+2+3÷5*12'), 109.2)\n",
    "check(calc3('1+2+3÷2*12'), 21)\n",
    "check(calc3('1+2+3÷2*0'), 3)\n",
    "check(calc3('100+2+3÷5*12'), 109.2)"
   ]
  },
  {
   "cell_type": "code",
   "execution_count": null,
   "metadata": {
    "id": "9KhqVi-7mDLM"
   },
   "outputs": [],
   "source": []
  }
 ],
 "metadata": {
  "colab": {
   "provenance": []
  },
  "kernelspec": {
   "display_name": "Python 3 (ipykernel)",
   "language": "python",
   "name": "python3"
  },
  "language_info": {
   "codemirror_mode": {
    "name": "ipython",
    "version": 3
   },
   "file_extension": ".py",
   "mimetype": "text/x-python",
   "name": "python",
   "nbconvert_exporter": "python",
   "pygments_lexer": "ipython3",
   "version": "3.10.9"
  }
 },
 "nbformat": 4,
 "nbformat_minor": 1
}
