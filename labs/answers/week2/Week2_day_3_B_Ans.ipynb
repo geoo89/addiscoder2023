{
  "nbformat": 4,
  "nbformat_minor": 0,
  "metadata": {
    "colab": {
      "provenance": []
    },
    "kernelspec": {
      "name": "python3",
      "display_name": "Python 3"
    },
    "language_info": {
      "name": "python"
    }
  },
  "cells": [
    {
      "cell_type": "markdown",
      "source": [
        "# Lecture 8, Exercises B\n"
      ],
      "metadata": {
        "id": "vB6dF2yHEDB1"
      }
    },
    {
      "cell_type": "markdown",
      "source": [
        "***The answer to every question should use recursion!***\n"
      ],
      "metadata": {
        "id": "CTv2Jn2hEJWK"
      }
    },
    {
      "cell_type": "code",
      "source": [
        "def check(actual, expected):\n",
        "    if expected != actual:\n",
        "        print(\n",
        "            f\"Function should return the value {expected}, it is returning the value {actual}\")\n",
        "    else:\n",
        "        print(f\"Congratulations, the test case passed!\")"
      ],
      "metadata": {
        "id": "ZbPTgnXUED9W"
      },
      "execution_count": null,
      "outputs": []
    },
    {
      "cell_type": "markdown",
      "source": [
        "## Exercise 1"
      ],
      "metadata": {
        "id": "96jp6MdTEkRf"
      }
    },
    {
      "cell_type": "markdown",
      "source": [
        "### Question 1"
      ],
      "metadata": {
        "id": "9ATPjTFGE6c2"
      }
    },
    {
      "cell_type": "markdown",
      "source": [
        "Suppose you are in Grade 12 and you want to know your National Exam score. Write a function add_matric_scores(list) that takes in a list of subject scores and return the total sum of the scores. Your function must use recursion! If you're curious, the subjects are Math, English, Physics, Biology, Aptitude, Civics and Biology.\n",
        "\n",
        "Example:\n",
        "> Input: [78, 80, 90, 95, 85, 91, 89]\n",
        "> Output: 608"
      ],
      "metadata": {
        "id": "JwMlB3IDEjWO"
      }
    },
    {
      "cell_type": "markdown",
      "source": [
        "### 1.1\n",
        "\n",
        "Write down the base case.\n",
        "\n"
      ],
      "metadata": {
        "id": "PvMAfgSvFGl5"
      }
    },
    {
      "cell_type": "code",
      "source": [
        "# base case\n",
        "if len(scores) == 0:\n",
        "    return 0"
      ],
      "metadata": {
        "id": "vfsNqLYVFNrj"
      },
      "execution_count": null,
      "outputs": []
    },
    {
      "cell_type": "markdown",
      "source": [
        "### 1.2\n",
        "\n",
        "Write down the recursive case.\n",
        "\n"
      ],
      "metadata": {
        "id": "fxveZp0-FHxs"
      }
    },
    {
      "cell_type": "code",
      "source": [
        "# recursive case\n",
        "return scores[0] + add_matric_scores(scores[1:])"
      ],
      "metadata": {
        "id": "2tEF4AvUFWqF"
      },
      "execution_count": null,
      "outputs": []
    },
    {
      "cell_type": "markdown",
      "source": [
        "### 1.3"
      ],
      "metadata": {
        "id": "GAjuQ_AbFiaX"
      }
    },
    {
      "cell_type": "code",
      "source": [
        "def add_matric_scores(scores):\n",
        "    if len(scores) == 0:\n",
        "        return 0\n",
        "    else:\n",
        "        return scores[0] + add_matric_scores(scores[1:])"
      ],
      "metadata": {
        "id": "umoude9nFhM7"
      },
      "execution_count": null,
      "outputs": []
    },
    {
      "cell_type": "code",
      "source": [
        "# TEST_CASE\n",
        "check(add_matric_scores([78, 80, 90, 95, 85, 91, 89]), 608)\n",
        "check(add_matric_scores([100, 82, 90, 95, 85, 91, 99]), 642)\n",
        "check(add_matric_scores([78, 80, 90, 95, 85, 91, 89]), 608)\n"
      ],
      "metadata": {
        "colab": {
          "base_uri": "https://localhost:8080/"
        },
        "id": "74UfebM2FobG",
        "outputId": "97c5e489-cbab-4e95-b6eb-ec77e291f489"
      },
      "execution_count": null,
      "outputs": [
        {
          "output_type": "stream",
          "name": "stdout",
          "text": [
            "Congratulations, the test case passed!\n",
            "Congratulations, the test case passed!\n",
            "Congratulations, the test case passed!\n"
          ]
        }
      ]
    },
    {
      "cell_type": "markdown",
      "source": [
        "### 1.4\n",
        "\n",
        "Now you want to know your running score after taking each exam. Write a recursive function commulativeSum(L) that returns the cummulative sum of the subject scores in the list L\n",
        "\n",
        "Example:\n",
        "\n",
        "> input: `[1,2,3]`\n",
        ">\n",
        "> returns: `[1,3,6]` The output contains the first element, then the sum of the first two elements `(1+2)`, then the sum of the first three elements `(1+2+3)`, etc."
      ],
      "metadata": {
        "id": "soMezgJNGO0w"
      }
    },
    {
      "cell_type": "code",
      "source": [
        "def cummulative_sum(l):\n",
        "    if len(l) == 0:\n",
        "        return []\n",
        "    elif len(l) == 1:\n",
        "        return l\n",
        "    else:\n",
        "        prev_cumulative_sum = cummulative_sum(l[:-1])\n",
        "        current_cumulative_sum = prev_cumulative_sum[-1] + l[-1]\n",
        "        return prev_cumulative_sum + [current_cumulative_sum]"
      ],
      "metadata": {
        "id": "cCowL3W1FsWA"
      },
      "execution_count": null,
      "outputs": []
    },
    {
      "cell_type": "code",
      "source": [
        "# TEST_CASES\n",
        "check(cummulative_sum([78, 80, 90, 95, 85, 91, 89]),\n",
        "      ([78, 158, 248, 343, 428, 519, 608]))\n",
        "check(cummulative_sum([93, 80, 90, 95, 85, 91, 89]),\n",
        "      ([93, 173, 263, 358, 443, 534, 623]))"
      ],
      "metadata": {
        "colab": {
          "base_uri": "https://localhost:8080/"
        },
        "id": "C74RZSLmGaN8",
        "outputId": "8723809c-97c3-4cd3-9fe1-cdfa92b78292"
      },
      "execution_count": null,
      "outputs": [
        {
          "output_type": "stream",
          "name": "stdout",
          "text": [
            "Congratulations, the test case passed!\n",
            "Congratulations, the test case passed!\n"
          ]
        }
      ]
    },
    {
      "cell_type": "markdown",
      "source": [
        "## Exercise 2\n",
        "\n",
        "Now we want to write the function `countAnswerChoices(s)` that given a string of answer choices, and will return how many `'b'` answers you have.\n",
        "\n",
        "For example `countAnswerChoices(b(\"bcccbcccacc\")) = 2`.\n",
        "\n",
        "Another example: `countAnswerChoices(b(\"aaaa\")) = 0`.\n",
        "\n",
        "Also: `countAnswerChoices(b(\"\")) = 0`."
      ],
      "metadata": {
        "id": "K_GlNDa9GgD0"
      }
    },
    {
      "cell_type": "markdown",
      "source": [
        "### 2.1\n",
        "\n",
        "Write down the base case\n"
      ],
      "metadata": {
        "id": "uG3-XJK4G4gJ"
      }
    },
    {
      "cell_type": "code",
      "source": [
        "# base case\n",
        "if len(b) == 0:\n",
        "    return 0"
      ],
      "metadata": {
        "id": "NyWnlppuGcZB"
      },
      "execution_count": null,
      "outputs": []
    },
    {
      "cell_type": "markdown",
      "source": [
        "### 2.2\n",
        "\n",
        "Write down the recursive case"
      ],
      "metadata": {
        "id": "r1KAT0WaG-Og"
      }
    },
    {
      "cell_type": "code",
      "source": [
        "# recursive case\n",
        "elif b[0] == 'b':\n",
        "  return 1 + countAnswerChoices(b[1:])\n",
        "else:\n",
        "  return countAnswerChoices(b[1:])"
      ],
      "metadata": {
        "id": "I9f9ZKH5G9gJ"
      },
      "execution_count": null,
      "outputs": []
    },
    {
      "cell_type": "markdown",
      "source": [
        "### 2.3"
      ],
      "metadata": {
        "id": "aMVxpGR-HGQj"
      }
    },
    {
      "cell_type": "code",
      "source": [
        "def countAnswerChoices(b):\n",
        "    if len(b) == 0:\n",
        "        return 0\n",
        "    elif b[0] == 'b':\n",
        "        return 1 + countAnswerChoices(b[1:])\n",
        "    else:\n",
        "        return countAnswerChoices(b[1:])"
      ],
      "metadata": {
        "id": "kcEzMla5HFic"
      },
      "execution_count": null,
      "outputs": []
    },
    {
      "cell_type": "code",
      "source": [
        "# Test_cases\n",
        "check(countAnswerChoices(\"bcacbdcbccb\"), 4)\n",
        "check(countAnswerChoices(\"cccc\"), 0)\n",
        "check(countAnswerChoices(\"\"), 0)"
      ],
      "metadata": {
        "colab": {
          "base_uri": "https://localhost:8080/"
        },
        "id": "edqyEw-AHOtS",
        "outputId": "04a00c9d-cb28-4ea5-c877-12871510601f"
      },
      "execution_count": null,
      "outputs": [
        {
          "output_type": "stream",
          "name": "stdout",
          "text": [
            "Congratulations, the test case passed!\n",
            "Congratulations, the test case passed!\n",
            "Congratulations, the test case passed!\n"
          ]
        }
      ]
    },
    {
      "cell_type": "markdown",
      "source": [
        "## Challenge problems\n"
      ],
      "metadata": {
        "id": "VRrbol1JHXJ1"
      }
    },
    {
      "cell_type": "markdown",
      "source": [
        "### 3.1\n",
        "\n",
        "Given an integer `n`, write a recursive` permutations(n)` function.\n",
        "\n",
        "For example: If `n = 3`, There are six permutations of the set` {0, 1, 2}`, namely: `[2, 1, 0], [1, 2, 0],\n",
        "                        [1, 0, 2], [2, 0, 1],\n",
        "                        [0, 2, 1], [0, 1, 2]`"
      ],
      "metadata": {
        "id": "vTrj-ZJbHbeF"
      }
    },
    {
      "cell_type": "code",
      "source": [
        "def permutations(n):\n",
        "    if n < 0:\n",
        "        return [[]]\n",
        "    else:\n",
        "        all_permutations = []\n",
        "        prev_permutations = permutations(n - 1)\n",
        "        for perm in prev_permutations:\n",
        "            for i in range(len(perm) + 1):\n",
        "                new_perm = perm[:i] + [n] + perm[i:]\n",
        "                all_permutations.append(new_perm)\n",
        "        return all_permutations"
      ],
      "metadata": {
        "id": "YlaQp317HwIh"
      },
      "execution_count": 99,
      "outputs": []
    },
    {
      "cell_type": "code",
      "source": [
        "# TEST_CASES\n",
        "check(permutations(0), [[0]])\n",
        "check(permutations(1), [[1, 0], [0, 1]])\n",
        "check(permutations(2), [[2, 1, 0], [1, 2, 0],\n",
        "                        [1, 0, 2], [2, 0, 1],\n",
        "                        [0, 2, 1], [0, 1, 2]])"
      ],
      "metadata": {
        "colab": {
          "base_uri": "https://localhost:8080/"
        },
        "id": "PM1pEawUHytK",
        "outputId": "8d8e10c8-7d14-4c35-d792-139717b2759c"
      },
      "execution_count": 100,
      "outputs": [
        {
          "output_type": "stream",
          "name": "stdout",
          "text": [
            "Congratulations, the test case passed!\n",
            "Congratulations, the test case passed!\n",
            "Congratulations, the test case passed!\n"
          ]
        }
      ]
    },
    {
      "cell_type": "markdown",
      "source": [
        "### 3.2\n",
        "\n",
        "Recall the cumulative sum problem from earlier. Now lets write a program `recursive_list_sum(data_list)` that can handle nested scores, when a list is within another list\n",
        "\n",
        "For Example:\n",
        "\n",
        "Input: `([5, [3,4],[5,[6,7]])`\n",
        "\n",
        "*output*: ` 30 (5+3+4+5+6+7)`"
      ],
      "metadata": {
        "id": "f60rx2HVH4WQ"
      }
    },
    {
      "cell_type": "code",
      "source": [
        "def recursive_list_sum(data_list):\n",
        "    total_sum = 0\n",
        "    for item in data_list:\n",
        "        if isinstance(item, list):\n",
        "            total_sum += recursive_list_sum(item)\n",
        "        else:\n",
        "            total_sum += item\n",
        "    return total_sum\n"
      ],
      "metadata": {
        "id": "jZlaZjiUH04h"
      },
      "execution_count": null,
      "outputs": []
    },
    {
      "cell_type": "code",
      "source": [
        "# TEST_CASES\n",
        "check(recursive_list_sum([1, 2, [3, 4], [5, 6]]), 21)\n",
        "check(recursive_list_sum([-3, 2, [3, 8], [10, 6]]), 26)\n",
        "check(recursive_list_sum([]), 0)\n",
        "check(recursive_list_sum([1, 2, [3, 4, [5, 6]]]), 21)"
      ],
      "metadata": {
        "colab": {
          "base_uri": "https://localhost:8080/"
        },
        "id": "2Pz8uC2tILQj",
        "outputId": "a79f4ddf-00f6-4949-9a36-ec2c856c0290"
      },
      "execution_count": null,
      "outputs": [
        {
          "output_type": "stream",
          "name": "stdout",
          "text": [
            "Congratulations, the test case passed!\n",
            "Congratulations, the test case passed!\n",
            "Congratulations, the test case passed!\n",
            "Congratulations, the test case passed!\n"
          ]
        }
      ]
    },
    {
      "cell_type": "markdown",
      "source": [
        "## Fun with recursion"
      ],
      "metadata": {
        "id": "RMMUcCNhIRKg"
      }
    },
    {
      "cell_type": "markdown",
      "source": [
        "### 4\n",
        "\n",
        "Write a recursive function that takes a natural number `n` as input and returns a list of perfect squares from `1` to n<sup>2</sup>\n",
        "\n",
        "For example:\n",
        "\n",
        "input= ` 4`\n",
        "\n",
        "output= `[1,4,9,16]`"
      ],
      "metadata": {
        "id": "rkbU-ohSIVC7"
      }
    },
    {
      "cell_type": "code",
      "source": [
        "def recur(n):\n",
        "    if n == 1:\n",
        "        return [1]\n",
        "    else:\n",
        "        squares = recur(n - 1)\n",
        "        squares.append(n * n)\n",
        "        return squares"
      ],
      "metadata": {
        "id": "e4xT0ngUIlVw"
      },
      "execution_count": null,
      "outputs": []
    },
    {
      "cell_type": "code",
      "source": [
        "check(recur(4), ([1, 4, 9, 16]))\n",
        "check(recur(5), ([1, 4, 9, 16, 25]))\n",
        "check(recur(9), ([1, 4, 9, 16, 25, 36, 49, 64, 81]))"
      ],
      "metadata": {
        "colab": {
          "base_uri": "https://localhost:8080/"
        },
        "id": "aUc12Ud_Iona",
        "outputId": "28703202-ed13-409b-8928-184526f87535"
      },
      "execution_count": null,
      "outputs": [
        {
          "output_type": "stream",
          "name": "stdout",
          "text": [
            "Congratulations, the test case passed!\n",
            "Congratulations, the test case passed!\n",
            "Congratulations, the test case passed!\n"
          ]
        }
      ]
    },
    {
      "cell_type": "markdown",
      "source": [
        "### 5\n",
        "\n",
        "Given a number `‘x’`, write a program to check if `x` is a Fibonacci number\n",
        "\n",
        "(*Hint:* A number is Fibonacci if and only if one or both of (5n<sup>2</sup>  + 4) or (5n<sup>2</sup>  – 4) is a perfect square )"
      ],
      "metadata": {
        "id": "cysn_HJbI1uB"
      }
    },
    {
      "cell_type": "markdown",
      "source": [
        "In order to solve this problem, you need to write to functions. The first one is called `isPerfectSquare(n)` that checks if a number is a perfect square or not. The the second function is called `isFibonacci(n)` that takes a number as an input and uses the above formula to solve the problem."
      ],
      "metadata": {
        "id": "29uZjS_jK-BD"
      }
    },
    {
      "cell_type": "code",
      "source": [
        "# Implement isPerfectSquare\n",
        "\n",
        "import math\n",
        "\n",
        "def isPerfectSquare(n):\n",
        "  # base case\n",
        "  sqrt = int(math.sqrt(n))\n",
        "\n",
        "  # recursive case\n",
        "  return sqrt * sqrt == n"
      ],
      "metadata": {
        "id": "cVPaC7_QLkWi"
      },
      "execution_count": null,
      "outputs": []
    },
    {
      "cell_type": "code",
      "source": [
        "# TEST-CASES\n",
        "\n",
        "check(isPerfectSquare(5), False)\n",
        "check(isPerfectSquare(9), True)\n",
        "check(isPerfectSquare(25), True)\n",
        "check(isPerfectSquare(99), False)\n"
      ],
      "metadata": {
        "colab": {
          "base_uri": "https://localhost:8080/"
        },
        "id": "GGdUswWULs49",
        "outputId": "fa4fe4b4-76da-4102-81a9-85cbbec86006"
      },
      "execution_count": null,
      "outputs": [
        {
          "output_type": "stream",
          "name": "stdout",
          "text": [
            "Congratulations, the test case passed!\n",
            "Congratulations, the test case passed!\n",
            "Congratulations, the test case passed!\n",
            "Congratulations, the test case passed!\n"
          ]
        }
      ]
    },
    {
      "cell_type": "code",
      "source": [
        "# Implement isFibonacci\n",
        "\n",
        "def isFibonacci(n):\n",
        "    return isPerfectSquare(5 * n * n + 4) or isPerfectSquare(5 * n * n - 4)\n"
      ],
      "metadata": {
        "id": "lY7CUstfMDoa"
      },
      "execution_count": null,
      "outputs": []
    },
    {
      "cell_type": "code",
      "source": [
        "# TEST-CASES\n",
        "check(isFibonacci(3), True)\n",
        "check(isFibonacci(5), True)\n",
        "check(isFibonacci(9), False)"
      ],
      "metadata": {
        "colab": {
          "base_uri": "https://localhost:8080/"
        },
        "id": "-HI8cA8DIued",
        "outputId": "d54cbfa2-bab8-4a45-827c-2410789aa260"
      },
      "execution_count": null,
      "outputs": [
        {
          "output_type": "stream",
          "name": "stdout",
          "text": [
            "Congratulations, the test case passed!\n",
            "Congratulations, the test case passed!\n",
            "Congratulations, the test case passed!\n"
          ]
        }
      ]
    },
    {
      "cell_type": "code",
      "source": [],
      "metadata": {
        "id": "siYI1xOsJY7m"
      },
      "execution_count": null,
      "outputs": []
    }
  ]
}