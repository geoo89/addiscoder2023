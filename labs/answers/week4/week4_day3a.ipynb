{
 "cells": [
  {
   "cell_type": "markdown",
   "metadata": {
    "colab_type": "text",
    "id": "tEJy7YMM_wqI"
   },
   "source": [
    "# The Adventures of Mini-Tron Part III: Bomb Squad\n",
    "\n",
    "Our trusty Mini-Tron has been tasked with the diffusion of a bomb. Mini-Tron has never diffused a bomb before and has no idea how to do it. It is up to you to tell the robot how to proceed. However, there is one problem. The robot doesn't have enough memory to store all your instructions. So you decide to make your instruction as short as possible and take out the spaces. But now Mini-Tron is receiving a string which it doesn't understand. Can you help Mini-Tron be able to break the string into the original instructions?"
   ]
  },
  {
   "cell_type": "code",
   "execution_count": null,
   "metadata": {
    "colab": {},
    "colab_type": "code",
    "id": "9LhUGw09_wqM"
   },
   "outputs": [],
   "source": [
    "def check(actual, expected):\n",
    "    if expected != actual:\n",
    "        print(f\"Function should return the value {expected}, it is returning the value {actual}\")\n",
    "    else:\n",
    "        print(f\"Congratulations, the test case passed!\")"
   ]
  },
  {
   "cell_type": "markdown",
   "metadata": {
    "colab_type": "text",
    "id": "NSpvT28n_wqU"
   },
   "source": [
    "# The Word Breaking Problem\n",
    "\n",
    "If we are given the string \"mynameisyosef\", it is easy for us to read the information even though there are no spaces between words. We understand that the natural way to break apart this string into a meaningful sentence is: \"my name is yosef.\" Is there a way that we can program a computer to solve the same problem?"
   ]
  },
  {
   "cell_type": "markdown",
   "metadata": {
    "colab_type": "text",
    "id": "OD6j0jHs_wqW"
   },
   "source": [
    "## 1. Warm-Up\n",
    "We knew that the way we broke the string apart is valid because we know that the words \"my\", \"name\", \"is\", and \"yosef\" are all real words. If we broke the string apart in this way: \"my namei syosef,\" we realize that this doesn't make any sense because \"namei\" and \"syosef\" are nonsense strings. So, it seems like we need to first have a dictionary of real words before we can decide how to split up a string in a valid way.\n",
    "\n",
    "However, sometimes it is impossible to break apart an input string. Consider the string \"xvqyyyyyy\". There is no valid way to break this string apart with the words in the English Dictionary no matter where we insert spaces.\n",
    "\n",
    "*NOTE:* The answers to Problem 1 are located at the bottom of the jupyter notebook"
   ]
  },
  {
   "cell_type": "markdown",
   "metadata": {
    "colab_type": "text",
    "id": "whWycJeo_wqY"
   },
   "source": [
    "### 1.1. Making a wordlist\n",
    "Create a list `myWords` below that stores all of the following strings: \"a\", \"b\", \"c\", \"d\", \"e\", \"bcd\", \"abc\", \"ab\" and \"de\"."
   ]
  },
  {
   "cell_type": "code",
   "execution_count": null,
   "metadata": {
    "colab": {},
    "colab_type": "code",
    "id": "9TnOX4dN_wqZ"
   },
   "outputs": [],
   "source": [
    "# YOUR ANSWER HERE"
   ]
  },
  {
   "cell_type": "markdown",
   "metadata": {
    "colab_type": "text",
    "id": "oyO3A46e_wqe"
   },
   "source": [
    "### 1.2. Word-breaking by hand\n",
    "Write down all the ways that you can break apart the string \"abcde\" given the words in `myWords`. For example, given the string \"freshmango\" and a complete English dictionary, we can break this string apart into \"fresh man go\" or \"fresh mango\"."
   ]
  },
  {
   "cell_type": "code",
   "execution_count": null,
   "metadata": {
    "colab": {},
    "colab_type": "code",
    "id": "usH5oEWN_wqg"
   },
   "outputs": [],
   "source": [
    "# YOUR ANSWER HERE"
   ]
  },
  {
   "cell_type": "markdown",
   "metadata": {
    "colab_type": "text",
    "id": "Wb4ZKlke_wqk"
   },
   "source": [
    "### 1.3. Check your answer\n",
    "How many valid ways did you break the string?"
   ]
  },
  {
   "cell_type": "code",
   "execution_count": null,
   "metadata": {
    "colab": {},
    "colab_type": "code",
    "id": "Cg3R2c0q_wqm"
   },
   "outputs": [],
   "source": [
    "# YOUR ANSWER HERE"
   ]
  },
  {
   "cell_type": "markdown",
   "metadata": {
    "colab_type": "text",
    "id": "d0WvoEsb_wqr"
   },
   "source": [
    "## 2. Don't be too greedy\n",
    "### 2.1 Implement a greedy algorithm\n",
    "Given a string `S` and a list of words `w`, write a greedy algorithm that determines if there is a valid way to break apart `S`. Return `True` if there is a valid way and `False` if there is not.\n",
    "<br>\n",
    "\n",
    "*Hint:* Find the first word that is valid, then repeat the same process on the remaining substring. For example, you can check if the first letter is a valid word. If it's not, you can try the first two letters, and so forth until you find a valid word. Then you can repeat on the remaining substring (everything after the end of the first valid word)."
   ]
  },
  {
   "cell_type": "code",
   "execution_count": null,
   "metadata": {
    "colab": {},
    "colab_type": "code",
    "id": "nEIGCeLn_wqt"
   },
   "outputs": [],
   "source": [
    "# Write your solution here\n",
    "def greedyBreakable(S, w):\n",
    "    return False"
   ]
  },
  {
   "cell_type": "markdown",
   "metadata": {
    "colab_type": "text",
    "id": "qIzLb--__wqx"
   },
   "source": [
    "### 2.2 Test your code\n",
    "Test your algorithm on the string \"abcde\" using `myWords` and make sure it returns `True`"
   ]
  },
  {
   "cell_type": "code",
   "execution_count": null,
   "metadata": {
    "colab": {},
    "colab_type": "code",
    "id": "sL9iC9iY_wqz",
    "outputId": "a7b6c7d5-91c1-40f9-e13d-4ecd0e05e79a"
   },
   "outputs": [],
   "source": [
    "# Run your algorithm and make sure it works!\n",
    "check(greedyBreakable(\"abcde\", [\"a\", \"b\", \"c\", \"d\", \"e\", \"bcd\", \"abc\", \"ab\", \"de\"]), True)"
   ]
  },
  {
   "cell_type": "code",
   "execution_count": null,
   "metadata": {
    "colab": {},
    "colab_type": "code",
    "id": "GwWgGsvD_wq8",
    "outputId": "d5d0a1f1-0e81-4cef-e853-32af54c6f557"
   },
   "outputs": [],
   "source": [
    "check(greedyBreakable(\"mynameisyosef\", [\"my\", \"name\", \"is\", \"yosef\"]), True)"
   ]
  },
  {
   "cell_type": "markdown",
   "metadata": {
    "colab_type": "text",
    "id": "LKGWbqNt_wrG"
   },
   "source": [
    "### 2.3 Does it always work?\n",
    "Now test your algorithm on the string \"icecreamcone\" using a list of these words: \"i\", \"ice\", \"cream\", \"cone\", \"con\", \"am\", \"ream\" and \"one\". You can use the `check` function we used in the last two blocks"
   ]
  },
  {
   "cell_type": "code",
   "execution_count": null,
   "metadata": {
    "colab": {},
    "colab_type": "code",
    "id": "beobLXmp_wrH"
   },
   "outputs": [],
   "source": [
    "# Now test your algorithm on this new input string and list of words"
   ]
  },
  {
   "cell_type": "markdown",
   "metadata": {
    "colab_type": "text",
    "id": "lLy0N9k8_wrK"
   },
   "source": [
    "## 3. Recursion is the way to go\n",
    "There's a small chance that the algorithm you wrote succeeded and told you that the string \"icecreamcone\" is able to be broken apart (a correct solution would be \"ice cream cone\").\n",
    "<br><br>\n",
    "However, there is an even greater chance that your greedy algorithm failed. Suppose you test the word \"i\" first. You then try to find a valid way to break apart the rest of the string, \"cecreamcone\". There is no valid way to break this apart and your algorithm claims that there is no valid way to break apart the original string \"icecreamcone\". But you know that there is a valid way to break it apart! It's just \"ice cream cone\" like we mentioned a moment ago."
   ]
  },
  {
   "cell_type": "markdown",
   "metadata": {
    "colab_type": "text",
    "id": "YwEB0VBN_wrL"
   },
   "source": [
    "### 3.1. Implement a solution using recursion\n",
    "The greedy approach is clearly not a reliable solution -- because it's greedy, it misses some of the possible ways to break up the string. We want to make sure we test every possible way to break up the string. One way to do this is through recursion. Instead of commiting to using the first valid word we find, we should try that one and any others. Write a recursive algorithm that does exactly this. Again, you are given a string `S`, a list of words `w`, and your code must return either `True` or `False`. \n",
    "\n",
    "*Hint:* How can you make sure you consider every word as a possible first word?"
   ]
  },
  {
   "cell_type": "code",
   "execution_count": null,
   "metadata": {
    "colab": {},
    "colab_type": "code",
    "id": "abL4dWdI_wrM"
   },
   "outputs": [],
   "source": [
    "# Write your solution here\n",
    "def recursiveBreakable(S, w):\n",
    "    return False\n",
    "  "
   ]
  },
  {
   "cell_type": "markdown",
   "metadata": {
    "colab_type": "text",
    "id": "ZwKM1sBY_wrS"
   },
   "source": [
    "### 3.2. Testing your solution\n",
    "Now test your algorithm on the same input from problem 2.3. Your input string is \"icecreamcone\" and your list of words is: \"i\", \"ice\", \"cream\", \"cone\", \"con\", \"am\", \"ream\" and \"one\"."
   ]
  },
  {
   "cell_type": "code",
   "execution_count": null,
   "metadata": {
    "colab": {
     "base_uri": "https://localhost:8080/",
     "height": 34
    },
    "colab_type": "code",
    "executionInfo": {
     "elapsed": 1218,
     "status": "ok",
     "timestamp": 1564161077472,
     "user": {
      "displayName": "Hailey James Sorenson",
      "photoUrl": "",
      "userId": "02576305393335956279"
     },
     "user_tz": -180
    },
    "id": "fTGbnB7m_wrT",
    "outputId": "171e22bd-bf83-4921-b79b-d2561c89edd6"
   },
   "outputs": [],
   "source": [
    "words = [\"i\", \"ice\", \"cream\", \"cone\", \"con\", \"am\", \"ream\", \"one\"]\n",
    "\n",
    "# Check\n",
    "check(recursiveBreakable(\"icecreamcone\", words), True)"
   ]
  },
  {
   "cell_type": "code",
   "execution_count": null,
   "metadata": {
    "colab": {
     "base_uri": "https://localhost:8080/",
     "height": 34
    },
    "colab_type": "code",
    "executionInfo": {
     "elapsed": 899,
     "status": "ok",
     "timestamp": 1564161081547,
     "user": {
      "displayName": "Hailey James Sorenson",
      "photoUrl": "",
      "userId": "02576305393335956279"
     },
     "user_tz": -180
    },
    "id": "pFqIv-Kb_wrY",
    "outputId": "9033aae1-07c4-450c-92a7-77bf654249b2"
   },
   "outputs": [],
   "source": [
    "# Let's modify words by deleting \"ice\" so that if you run your algorithm, it returns False\n",
    "words = [\"i\", \"cream\", \"cone\", \"con\", \"am\", \"ream\", \"one\"]\n",
    "\n",
    "# Check\n",
    "check(recursiveBreakable(\"icecreamcone\", words), False)"
   ]
  },
  {
   "cell_type": "markdown",
   "metadata": {
    "colab_type": "text",
    "id": "6CqsrFV0_wrd"
   },
   "source": [
    "### Solutions to Problem 1\n",
    "<b>1.1</b> myWords = [\"a\", \"b\", \"c\", \"d\", \"e\", \"bcd\", \"abc\", \"ab\", \"de\"]\n",
    "<br>\n",
    "<b>1.2</b> Solutions: \"abc de\", \"abc d e\", \"ab c de\", \"ab c d e\", \"a bcd e\", \"a b c de\", \"a b c d e\"\n",
    "<br>\n",
    "<b>1.3</b> The number of solutions is 7"
   ]
  }
 ],
 "metadata": {
  "colab": {
   "collapsed_sections": [],
   "name": "week4_day3_morning-review1.ipynb",
   "provenance": [],
   "version": "0.3.2"
  },
  "kernelspec": {
   "display_name": "Python 3",
   "language": "python",
   "name": "python3"
  },
  "language_info": {
   "codemirror_mode": {
    "name": "ipython",
    "version": 3
   },
   "file_extension": ".py",
   "mimetype": "text/x-python",
   "name": "python",
   "nbconvert_exporter": "python",
   "pygments_lexer": "ipython3",
   "version": "3.7.3"
  }
 },
 "nbformat": 4,
 "nbformat_minor": 1
}
