{
 "cells": [
  {
   "cell_type": "markdown",
   "metadata": {
    "colab_type": "text",
    "id": "suZMjIwNga0E"
   },
   "source": [
    "# Week 4 Day 1, Core: Memoization"
   ]
  },
  {
   "cell_type": "markdown",
   "metadata": {},
   "source": [
    "## 1. Climbing Stairs"
   ]
  },
  {
   "cell_type": "markdown",
   "metadata": {},
   "source": [
    "You are climbing a staircase. It takes `n` steps to reach the top. Each time you can either climb `1` or `2` steps. In how many distinct ways can you climb to the top?"
   ]
  },
  {
   "cell_type": "markdown",
   "metadata": {},
   "source": [
    "### 1.1"
   ]
  },
  {
   "cell_type": "markdown",
   "metadata": {},
   "source": [
    "Write a recursive function `climbing_stairs(n)` that takes an integer `n` and returns the number of distinct ways  you can climb to the top."
   ]
  },
  {
   "cell_type": "code",
   "execution_count": null,
   "metadata": {},
   "outputs": [],
   "source": [
    "def climbing_stairs(n):\n",
    "    \n",
    "#     print(\"Calculating value for \" + str(n))\n",
    "    \n",
    "    # Base case\n",
    "    if n == 1 or n == 2:\n",
    "        return n\n",
    "    \n",
    "    # Recursive case\n",
    "    return climbing_stairs(n - 1) + climbing_stairs(n - 2)"
   ]
  },
  {
   "cell_type": "markdown",
   "metadata": {
    "colab_type": "text",
    "id": "v68sfB2tga0S"
   },
   "source": [
    "### 1.2 \n",
    "Add `print(\"Calculating value for \" + str(n))` at the beginning of your function (make it the first line), run it, and run the cell below :"
   ]
  },
  {
   "cell_type": "code",
   "execution_count": null,
   "metadata": {
    "colab": {},
    "colab_type": "code",
    "id": "yAdHACrHga0U"
   },
   "outputs": [],
   "source": [
    "climbing_stairs(10)"
   ]
  },
  {
   "cell_type": "markdown",
   "metadata": {
    "colab_type": "text",
    "id": "idYBMNpbga0a"
   },
   "source": [
    "How many times does it print `3` ?"
   ]
  },
  {
   "cell_type": "markdown",
   "metadata": {
    "colab": {},
    "colab_type": "code",
    "id": "HBqIFVhtga0a"
   },
   "source": [
    "21"
   ]
  },
  {
   "cell_type": "markdown",
   "metadata": {},
   "source": [
    "What did you learn from this number?"
   ]
  },
  {
   "cell_type": "markdown",
   "metadata": {},
   "source": [
    "The function call `climbing_stairs(3)` is being redundantly executed multiple times, as the computer is not retaining the previously computed results. This results in unnecessary computational overhead and inefficiency."
   ]
  },
  {
   "cell_type": "markdown",
   "metadata": {
    "colab_type": "text",
    "id": "-YlcjAqCga0f"
   },
   "source": [
    "## Check your answer here"
   ]
  },
  {
   "cell_type": "code",
   "execution_count": null,
   "metadata": {
    "colab": {
     "base_uri": "https://localhost:8080/",
     "height": 237
    },
    "colab_type": "code",
    "id": "jsCXkbuZga0h",
    "outputId": "9dfdfb57-6907-4408-d320-a00832fb8c46"
   },
   "outputs": [],
   "source": [
    "def check_test(actual, expected):\n",
    "    if expected != actual:\n",
    "        print(f\"Function should return the value {expected}, it is returning the value {actual}\")\n",
    "    else:\n",
    "        print(f\"Congratulations, the test case passed!\")\n",
    "        \n",
    "check_test(climbing_stairs(2), 2)\n",
    "check_test(climbing_stairs(5), 8)\n",
    "check_test(climbing_stairs(6), 13)"
   ]
  },
  {
   "cell_type": "markdown",
   "metadata": {
    "colab_type": "text",
    "id": "cA6Ceq1fga0n"
   },
   "source": [
    "## 2. Climbing Stairs - Memoized"
   ]
  },
  {
   "cell_type": "markdown",
   "metadata": {
    "colab_type": "text",
    "id": "eAS1h_Swga0q"
   },
   "source": [
    "We are going to store things we have computed before in a list `mem` such that <br/><br/>\n",
    "$$\n",
    "mem[i] = \\begin{cases}-1 \\text{ if we haven't computed } climbing\\_stairs_i \\text{ before }\\\\\n",
    "      climbing\\_stairs_i \\text{ if we have already computed it}\n",
    "    \\end{cases}\n",
    "$$\n",
    "\n",
    "### 2.1\n",
    "Write a function `create_memory(n)` that takes an integer `n` and returns a list L of length `n` that contains the integer `-1` repeated `n` times.\n",
    "\n"
   ]
  },
  {
   "cell_type": "code",
   "execution_count": null,
   "metadata": {
    "colab": {},
    "colab_type": "code",
    "id": "OCStBzgsga0r"
   },
   "outputs": [],
   "source": [
    "def create_memory(n):\n",
    "    return [-1] * n"
   ]
  },
  {
   "cell_type": "markdown",
   "metadata": {
    "colab_type": "text",
    "id": "Y_fWeVs7ga0v"
   },
   "source": [
    "\n",
    "### 2.2\n",
    "Write a function `check(i, mem)` that takes an index `i` and a list `mem` and returns `True` if `mem[i]` is not equal to `-1`:"
   ]
  },
  {
   "cell_type": "code",
   "execution_count": null,
   "metadata": {
    "colab": {},
    "colab_type": "code",
    "id": "PkpQzsCDga0w"
   },
   "outputs": [],
   "source": [
    "def check(i, mem):\n",
    "    return mem[i] != -1"
   ]
  },
  {
   "cell_type": "markdown",
   "metadata": {
    "colab_type": "text",
    "id": "BFGzDAR2ga01"
   },
   "source": [
    "### 2.3\n",
    "Write a function `add(mem, i, value)` that takes a list `mem`, an index `i` and an integer `value` and that stores the integer `value` in the list `mem` at index `i` :"
   ]
  },
  {
   "cell_type": "code",
   "execution_count": null,
   "metadata": {
    "colab": {},
    "colab_type": "code",
    "id": "ru6HcGpfga02"
   },
   "outputs": [],
   "source": [
    "def add(mem, i, value):\n",
    "    mem[i] = value"
   ]
  },
  {
   "cell_type": "markdown",
   "metadata": {
    "colab_type": "text",
    "id": "_qDt6nZJga06"
   },
   "source": [
    "## 2.4\n",
    "Write a recursive function `memo_climbing_stairs(n, mem)` that takes an integer `n` and a list `mem`.<br/><br/>\n",
    "Here is how it should work : \n",
    "<ul>\n",
    "    <li> If <code>mem[n]</code> is <i>not</i> equal to <code>-1</code>, it should return <code>mem[n]</code></li>\n",
    "    <li> If <code>mem[n]</code> is equal to <code>-1</code>, it should compute the value recursively and store it in <code>mem[n]</code> before returning it.</li>\n",
    "</ul>"
   ]
  },
  {
   "cell_type": "code",
   "execution_count": null,
   "metadata": {
    "colab": {},
    "colab_type": "code",
    "id": "BhILEwXOga08"
   },
   "outputs": [],
   "source": [
    "def memo_climbing_stairs(n, mem): \n",
    "    \n",
    "    # Check if computed before\n",
    "    if mem[n] != -1:\n",
    "        return mem[n]\n",
    "    \n",
    "    # Base case\n",
    "    if n == 0 or n == 1:\n",
    "        return 1\n",
    "    \n",
    "    # Recursive case\n",
    "    mem[n] = memo_climbing_stairs(n - 1, mem) + memo_climbing_stairs(n - 2, mem)\n",
    "    \n",
    "    return mem[n]"
   ]
  },
  {
   "cell_type": "markdown",
   "metadata": {
    "colab_type": "text",
    "id": "M_W9w0C0ga0_"
   },
   "source": [
    "### 2.5\n",
    "Write a function `climbing_stairs(n)` that takes an integer `n`. It should use `create_memory(n)` and `memo_climbing_stairs(n, mem)`.<br><br>*Hint: Remember that we are storing values from 0 to n*"
   ]
  },
  {
   "cell_type": "code",
   "execution_count": null,
   "metadata": {
    "colab": {},
    "colab_type": "code",
    "id": "9H0d7-zQga1A"
   },
   "outputs": [],
   "source": [
    "def climbing_stairs(n):\n",
    "    mem = create_memory(n + 1)\n",
    "    return memo_climbing_stairs(n, mem)"
   ]
  },
  {
   "cell_type": "markdown",
   "metadata": {
    "colab_type": "text",
    "id": "2awLteUjga1D"
   },
   "source": [
    "## Check your answer here"
   ]
  },
  {
   "cell_type": "code",
   "execution_count": null,
   "metadata": {
    "colab": {},
    "colab_type": "code",
    "id": "Fxo1i9Ffga1E",
    "outputId": "ef76d47c-f0b6-4966-f1dd-00df45e88d0d"
   },
   "outputs": [],
   "source": [
    "check_test(climbing_stairs(2), 2)\n",
    "check_test(climbing_stairs(5), 8)\n",
    "check_test(climbing_stairs(6), 13)"
   ]
  },
  {
   "cell_type": "markdown",
   "metadata": {
    "colab_type": "text",
    "id": "_AdSca-lga0J"
   },
   "source": [
    "## Fibonnacci Sequence\n",
    "\n",
    "The fibonnacci sequence is defined as below :\n",
    "\n",
    "$$\n",
    "\\Large\n",
    "f_n = \\begin{cases}n \\text{ if }  \\leq 1\\\\\n",
    "    f_{n-1} + f_{n-2} \\text{ if } n > 1\n",
    "    \\end{cases}\n",
    "$$\n",
    "\n",
    "For example, the first eight Fibonnacci numbers are:\n",
    "\n",
    "0,1,1,2,3,5,8,13 . . .\n",
    "\n",
    "Write a recursive function `fib(n)` that takes an integer `n` and returns $f_n$."
   ]
  },
  {
   "cell_type": "code",
   "execution_count": null,
   "metadata": {},
   "outputs": [],
   "source": [
    "def fib(n):\n",
    "    \n",
    "    # Base case\n",
    "    if n <= 1:\n",
    "        return n\n",
    "    \n",
    "    # Recursive case\n",
    "    return fib(n - 1) + fib(n - 2)"
   ]
  },
  {
   "cell_type": "markdown",
   "metadata": {},
   "source": [
    "Write a memoized version of the above function."
   ]
  },
  {
   "cell_type": "code",
   "execution_count": null,
   "metadata": {},
   "outputs": [],
   "source": [
    "def memo_fib(n, mem):\n",
    "    \n",
    "    if mem[n] != -1:\n",
    "        return mem[n]\n",
    "    \n",
    "    # Base case\n",
    "    if n <= 1:\n",
    "        return n\n",
    "    \n",
    "    # Recursive case\n",
    "    mem[n] = fib(n - 1) + fib(n - 2)\n",
    "    \n",
    "    return mem[n]"
   ]
  },
  {
   "cell_type": "markdown",
   "metadata": {},
   "source": [
    "Write a function `fib(n)` that takes an integer `n`. It should use `create_memory(n)` and `memo_fib(n, mem)`.<br><br>*Hint: Remember that we are storing fibs from 0 to n*"
   ]
  },
  {
   "cell_type": "code",
   "execution_count": null,
   "metadata": {},
   "outputs": [],
   "source": [
    "def fib(n):\n",
    "    mem = create_memory(n + 1)\n",
    "    return memo_fib(n, mem)"
   ]
  },
  {
   "cell_type": "markdown",
   "metadata": {},
   "source": [
    "## Check your answer here"
   ]
  },
  {
   "cell_type": "code",
   "execution_count": null,
   "metadata": {},
   "outputs": [],
   "source": [
    "check_test(fib(7), 13)\n",
    "check_test(fib(0), 0)\n",
    "check_test(fib(1), 1)"
   ]
  },
  {
   "cell_type": "markdown",
   "metadata": {},
   "source": [
    "## Q:\n",
    "Do you think `fibonnacci sequence` and `climbing stairs` are related? If so, how?"
   ]
  },
  {
   "cell_type": "markdown",
   "metadata": {},
   "source": [
    "Yes, `Climbing Stairs` and `Fibonacci sequence` are related because the solution to the `Climbing Stairs`can be obtained using a recurrence relation that is similar to the one used to define the Fibonacci sequence.\n",
    "\n",
    "To be more specific, let's consider the `Climbing Stairs` problem, which asks us to find the number of distinct ways to climb to the top of a staircase with n steps, where the person can take one or two steps at a time. We can solve this problem using a dynamic programming approach, where we build a memoization table to keep track of the number of ways to reach each step. \n",
    "\n",
    "The number of ways to reach step `i` is equal to the sum of the number of ways to reach step `i-1` and the number of ways to reach step `i-2`. This is because from step `i-1`, we can take one step to reach step `i`, and from step `i-2`, we can take two steps to reach step `i`. Therefore, the recurrence relation for the `Climbing Stairs` problem is:\n",
    "\n",
    "$$\n",
    "\\Large\n",
    "f_n = \\begin{cases}n \\text{ if }  n \\leq 2\\\\\n",
    "    f_{n-1} + f_{n-2} \\text{ if } n > 2\n",
    "    \\end{cases}\n",
    "$$\n",
    "\n",
    "This recurrence relation is the same as the one used to define the Fibonacci sequence. Therefore, we can see that the `Climbing Stairs` problem and the `Fibonacci sequence` are related, as they both involve finding the sum of the previous two terms to compute the current term."
   ]
  }
 ],
 "metadata": {
  "colab": {
   "collapsed_sections": [],
   "name": "week4_day1_problems1234.ipynb",
   "provenance": [],
   "version": "0.3.2"
  },
  "kernelspec": {
   "display_name": "Python 3 (ipykernel)",
   "language": "python",
   "name": "python3"
  },
  "language_info": {
   "codemirror_mode": {
    "name": "ipython",
    "version": 3
   },
   "file_extension": ".py",
   "mimetype": "text/x-python",
   "name": "python",
   "nbconvert_exporter": "python",
   "pygments_lexer": "ipython3",
   "version": "3.9.7"
  },
  "varInspector": {
   "cols": {
    "lenName": 16,
    "lenType": 16,
    "lenVar": 40
   },
   "kernels_config": {
    "python": {
     "delete_cmd_postfix": "",
     "delete_cmd_prefix": "del ",
     "library": "var_list.py",
     "varRefreshCmd": "print(var_dic_list())"
    },
    "r": {
     "delete_cmd_postfix": ") ",
     "delete_cmd_prefix": "rm(",
     "library": "var_list.r",
     "varRefreshCmd": "cat(var_dic_list()) "
    }
   },
   "types_to_exclude": [
    "module",
    "function",
    "builtin_function_or_method",
    "instance",
    "_Feature"
   ],
   "window_display": false
  }
 },
 "nbformat": 4,
 "nbformat_minor": 1
}
