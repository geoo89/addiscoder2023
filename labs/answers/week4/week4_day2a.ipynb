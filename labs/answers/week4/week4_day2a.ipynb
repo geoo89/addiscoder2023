{
 "cells": [
  {
   "cell_type": "markdown",
   "metadata": {
    "colab_type": "text",
    "id": "Z9DELoKIHJcS"
   },
   "source": [
    "# Dynamic Programming Warm-Up"
   ]
  },
  {
   "cell_type": "markdown",
   "metadata": {},
   "source": [
    "## 1. Edit Distance"
   ]
  },
  {
   "cell_type": "markdown",
   "metadata": {
    "colab_type": "text",
    "id": "tzl27Mg4HJcV",
    "tags": []
   },
   "source": [
    "Can you find the `edit distance` between two strings? The `edit distance` is smallest number of changes you can make to get from `s1` (the first string) to `s2` (the second string). The only changes you're allowed to make are to `Insert`, `Delete` and `Replace` any character from one of the strings.\n",
    "\n",
    "*Note:* The strings will consist of only lowercase english letters\n",
    "\n",
    "*Examples:*\n",
    "\n",
    "1. s1: \"addis\" s2: \"adis\" -> 1 (delete second 'd')\n",
    "\n",
    "3. s1: \"ready\" s2: \"really\"  -> 2 (replace 'd' with 'l', insert 'l')"
   ]
  },
  {
   "cell_type": "code",
   "execution_count": 1,
   "metadata": {
    "colab": {},
    "colab_type": "code",
    "id": "QlU1zC-VHJc-"
   },
   "outputs": [],
   "source": [
    "def check(actual, expected):\n",
    "    if expected != actual:\n",
    "        print(f\"Function should return the value {expected}, it is returning value {actual}\")\n",
    "    else:\n",
    "        print(f\"Congratulations, the test cases passed!\")"
   ]
  },
  {
   "cell_type": "markdown",
   "metadata": {
    "colab_type": "text",
    "id": "C5DgFp0tHJcX"
   },
   "source": [
    "### 1.1\n",
    "What is the edit distance between:\n",
    "\n",
    "s1: \"sunday\" s2: \"saturday\""
   ]
  },
  {
   "cell_type": "code",
   "execution_count": 2,
   "metadata": {
    "colab_type": "text",
    "id": "e0bkZB3KHJcZ"
   },
   "outputs": [],
   "source": [
    "# Answer here"
   ]
  },
  {
   "cell_type": "markdown",
   "metadata": {
    "colab_type": "text",
    "id": "Tu1bihLxHJcd",
    "tags": [
     "hide_cell"
    ]
   },
   "source": [
    "<details>\n",
    "<summary>Click here to see the solution</summary>\n",
    "Solution: 3 (replace 'n' with 'r', insert 'a', insert 't')\n",
    "</details>"
   ]
  },
  {
   "cell_type": "markdown",
   "metadata": {
    "colab_type": "text",
    "id": "mf1-WNiXHJcg"
   },
   "source": [
    "### 1.2\n",
    "How could we break this problem into subproblems? Write down the subproblem in words."
   ]
  },
  {
   "cell_type": "code",
   "execution_count": 3,
   "metadata": {
    "colab_type": "text",
    "id": "r5pVT-bQHJcj"
   },
   "outputs": [],
   "source": [
    "# Answer here"
   ]
  },
  {
   "cell_type": "markdown",
   "metadata": {
    "colab_type": "text",
    "id": "EWD1x85zHJck"
   },
   "source": [
    "<details>\n",
    "<summary>Click here to see the solution</summary>\n",
    "This problem gets easier when we compare shorter words. For example, let's say we have a string s1 with m characters and a string s2 with n characters. If we remove the last characters from s1 and s2, then our subproblem becomes: \"what is the edit distance between the first m - 1 characters of s1 and the first n - 1 characters of s2?\" We could also just remove the last character from one of the starting strings, which would lead to a slightly different subproblem.\n",
    "</details>"
   ]
  },
  {
   "cell_type": "markdown",
   "metadata": {
    "colab_type": "text",
    "id": "0ocg8zweHJcp"
   },
   "source": [
    "### 1.3\n",
    "\n",
    "What are the \"easy\" subproblems or base cases? What are their solutions?"
   ]
  },
  {
   "cell_type": "code",
   "execution_count": 4,
   "metadata": {
    "colab_type": "text",
    "id": "KqO2DbFiHJcr"
   },
   "outputs": [],
   "source": [
    "# Answer here"
   ]
  },
  {
   "cell_type": "markdown",
   "metadata": {
    "colab_type": "text",
    "id": "9wUbbRtLHJcs"
   },
   "source": [
    "<details>\n",
    "<summary>Click here to see the solution</summary>\n",
    "The easiest case is when either of the words is an empty string.\n",
    "\n",
    "If the first string is empty (m is 0), we have to insert all the letters from the second string, so the edit distance is the length of the second string.\n",
    "\n",
    "If the second string is empty (n is 0), we have to delete all the letters from the first string, so the edit distance is the length of the first string.\n",
    "\n",
    "`if m == 0: return n`\n",
    "\n",
    "`if n == 0: return m`\n",
    "\n",
    "For instance, if `s1` is \"cat\" and `s2` is \"\" (empty), then the only way to get from `s1` to `s2` is by deleting every letter in `s1`, so the edit distance must be `len(s1)`, ie 3.\n",
    "\n",
    "</details>"
   ]
  },
  {
   "cell_type": "markdown",
   "metadata": {
    "colab_type": "text",
    "id": "4WJthu8FHJcu"
   },
   "source": [
    "### 1.4\n",
    "How can we get from one subproblem to another subproblem? What are the cases?\n",
    "\n",
    "More specifically, if we want to know the `edit_distance(s1[:m], s2[:n])`, how can we calculate that in terms of `s1[:m-1]`, `s2[:n-1])`, `s1[:m]` and `s2[:n]`?\n"
   ]
  },
  {
   "cell_type": "code",
   "execution_count": 5,
   "metadata": {
    "colab_type": "text",
    "id": "pM9g3gwXHJcw"
   },
   "outputs": [],
   "source": [
    "# Answer here"
   ]
  },
  {
   "cell_type": "markdown",
   "metadata": {
    "colab_type": "text",
    "id": "sd9-LnLRHJcy"
   },
   "source": [
    "<details>\n",
    "<summary><i>Click here to see the solution</i></summary>\n",
    "\n",
    "There are two cases:\n",
    "\n",
    "<i>**First Case:** </i> The last characters in each word are the same. In this case, we don't need to increase the edit distance. We can just move on to the two previous characters.\n",
    "\n",
    "`return edit_distance(s1[:m-1], s2[:n-1])`\n",
    "\n",
    "Example:\n",
    "\n",
    "If `s1` is \"happy\" and `s2` is \"ready\", then `edit_distance(\"happy\", \"ready\")` is just `edit_distance(\"happ\", \"read\")`. More generally, it is `edit_distance(s1[:m-1], s2[:n-1])`. This case might be repeated a number of times. By the same logic `edit_distance(\"sunday\", \"saturday\")` is `edit_distance(\"sun\", \"satur\")`.\n",
    "\n",
    "\n",
    "<i>**Second Case:**</i> The last characters in each word are different. We have three options here: we can either delete, replace, or insert a character to make them the same. The edit distance of <code>s1[:m]</code>, <code>s2[:n]</code> will be the minimum of the edit distance resulting from deleting, inserting, or changing a character to make them the same. Don't forget to add one because we made an edit!\n",
    "\n",
    "    return 1 + min(edit_distance(s1[:m], s2[:n-1]),    # Insert \n",
    "                   edit_distance(s1[:m-1], s2[:n]),    # Remove \n",
    "                   edit_distance(s1[:m-1], s2[:n-1])   # Replace \n",
    "                   )\n",
    "\n",
    "Example:\n",
    "\n",
    "To get from `s1` \"sun\" to `s2` \"sunny\", there are three possibilities:\n",
    "\n",
    "- Insert 'y' to \"sun\"\n",
    "- Remove 'n' from \"sun\"\n",
    "- Replace 'n' with 'y'\n",
    "\n",
    "The edit distance is the cheapest option + 1, for this current edit.\n",
    "We can tell at a glance that a is the best option -- by inserting y, then n, we will get \"sunny\". However in general, there is no way to tell which one is the best until we calculate it out. If the \n",
    "\n",
    "</details>"
   ]
  },
  {
   "cell_type": "markdown",
   "metadata": {
    "colab_type": "text",
    "id": "NCT_mDxwHJc0",
    "tags": []
   },
   "source": [
    "### 1.5\n",
    "Put these pieces together to write a function `edit_distance` that uses recursion to solve the problem!"
   ]
  },
  {
   "cell_type": "code",
   "execution_count": 6,
   "metadata": {
    "colab": {},
    "colab_type": "code",
    "id": "N-2vb7UmHJc1"
   },
   "outputs": [],
   "source": [
    "# m and n are the lengths of s1 and s2 respectively\n",
    "def edit_distance(s1, s2, m, n):\n",
    "    # Your answer here\n",
    "    pass"
   ]
  },
  {
   "cell_type": "markdown",
   "metadata": {
    "colab_type": "text",
    "id": "EDhyXGcWHJc7"
   },
   "source": [
    "### Check your answer\n",
    "\n",
    "Test your recursive solution on the following 2 test cases before you proceed to the next exercises (just execute the following cell)."
   ]
  },
  {
   "cell_type": "code",
   "execution_count": 7,
   "metadata": {
    "colab": {},
    "colab_type": "code",
    "id": "PekKFu9CHJdD"
   },
   "outputs": [
    {
     "name": "stdout",
     "output_type": "stream",
     "text": [
      "Function should return the value 8, it is returning value None\n",
      "Function should return the value 5, it is returning value None\n"
     ]
    }
   ],
   "source": [
    "def test_small(fn):\n",
    "    def test_1():\n",
    "        s1 = \"ztlqqmtppm\"\n",
    "        s2 = \"zfewmvuc\"\n",
    "\n",
    "        m, n = len(s1), len(s2)\n",
    "\n",
    "        check(fn(s1, s2, m, n), 8)\n",
    "    \n",
    "    def test_2():\n",
    "        s1 = \"eodh\"\n",
    "        s2 = \"hmowpx\"\n",
    "        \n",
    "        m, n = len(s1), len(s2)\n",
    "\n",
    "        check(fn(s1, s2, m, n), 5)\n",
    "    \n",
    "    test_1()\n",
    "    test_2()\n",
    "\n",
    "test_small(edit_distance)"
   ]
  },
  {
   "cell_type": "markdown",
   "metadata": {
    "colab_type": "text",
    "id": "eakErWJ2HJdM"
   },
   "source": [
    "### 1.6\n",
    "We can use memoization to improve our solution (remember that memoization means keeping track of the subproblems we've already solved so we don't do unnecessary work).\n",
    "\n",
    "What would our data structure look like to store the subproblems? You can describe it in words or write the code that creates it."
   ]
  },
  {
   "cell_type": "code",
   "execution_count": 8,
   "metadata": {
    "colab_type": "text",
    "id": "PWBxiJ5KHJdN"
   },
   "outputs": [],
   "source": [
    "# Your answer"
   ]
  },
  {
   "cell_type": "markdown",
   "metadata": {
    "colab_type": "text",
    "id": "OW7mmVt3HJdO"
   },
   "source": [
    "<details>\n",
    "<summary><i>Click here to see the solution</i></summary><br/>\n",
    "We notice that every subproblem is completely defined by the state (m, n). That means we can use a 2-D array to represent every state (0, 0), (0, 1) . . . (m, n). Also note that we need to initialize our memo table with an invalid value to denote that we have not visited this state yet. Here we put 'None'.\n",
    "</details>"
   ]
  },
  {
   "cell_type": "markdown",
   "metadata": {
    "colab_type": "text",
    "id": "Kb2m5DA-HJdY",
    "tags": []
   },
   "source": [
    "### 1.7\n",
    "\n",
    "Write a new function called `edit_distance_memo` that uses memoization to save the answers into a memo table. Just like in earlier problems you should create a helper function that has `memo` as a parameter."
   ]
  },
  {
   "cell_type": "code",
   "execution_count": 9,
   "metadata": {
    "colab": {},
    "colab_type": "code",
    "id": "gNTSg7j1HJdZ"
   },
   "outputs": [],
   "source": [
    "def edit_distance_memo(s1, s2, m, n):\n",
    "    # Create an empty memo table\n",
    "    memo = [[None for i in range(n+1)] for j in range(m+1)]\n",
    "    # Call the recursive function with the memo table\n",
    "    return dp(str1, str2, m, n, memo)\n",
    "\n",
    "def dp(str1, str2, m, n, memo):\n",
    "    # Your answer here\n",
    "    # This function is very similar to your earlier recursive solution,\n",
    "    # except that it checks if this particular combination of (m, n) have been computed and stored in mem\n",
    "    pass"
   ]
  },
  {
   "cell_type": "markdown",
   "metadata": {
    "colab_type": "text",
    "id": "vhyh9jNTHJdd"
   },
   "source": [
    "### Check your answer\n",
    "\n",
    "Now test your solution on the following 4 test cases (just execute the following cell). Also make sure that you have already tested your recursive solution.\n",
    "\n",
    "You should also try running this large test with your un-memoized recursive solution. That version will run out of resources before it completes."
   ]
  },
  {
   "cell_type": "code",
   "execution_count": 10,
   "metadata": {
    "colab": {},
    "colab_type": "code",
    "id": "5qRnbhjKHJdf",
    "scrolled": true
   },
   "outputs": [
    {
     "ename": "NameError",
     "evalue": "name 'str1' is not defined",
     "output_type": "error",
     "traceback": [
      "\u001b[0;31m---------------------------------------------------------------------------\u001b[0m",
      "\u001b[0;31mNameError\u001b[0m                                 Traceback (most recent call last)",
      "Cell \u001b[0;32mIn[10], line 21\u001b[0m\n\u001b[1;32m     18\u001b[0m     test_1()\n\u001b[1;32m     19\u001b[0m     test_2()\n\u001b[0;32m---> 21\u001b[0m \u001b[43mtest_small\u001b[49m\u001b[43m(\u001b[49m\u001b[43medit_distance_memo\u001b[49m\u001b[43m)\u001b[49m\n\u001b[1;32m     22\u001b[0m test_large(edit_distance_memo)\n",
      "Cell \u001b[0;32mIn[7], line 18\u001b[0m, in \u001b[0;36mtest_small\u001b[0;34m(fn)\u001b[0m\n\u001b[1;32m     14\u001b[0m     m, n \u001b[38;5;241m=\u001b[39m \u001b[38;5;28mlen\u001b[39m(s1), \u001b[38;5;28mlen\u001b[39m(s2)\n\u001b[1;32m     16\u001b[0m     check(fn(s1, s2, m, n), \u001b[38;5;241m5\u001b[39m)\n\u001b[0;32m---> 18\u001b[0m \u001b[43mtest_1\u001b[49m\u001b[43m(\u001b[49m\u001b[43m)\u001b[49m\n\u001b[1;32m     19\u001b[0m test_2()\n",
      "Cell \u001b[0;32mIn[7], line 8\u001b[0m, in \u001b[0;36mtest_small.<locals>.test_1\u001b[0;34m()\u001b[0m\n\u001b[1;32m      4\u001b[0m s2 \u001b[38;5;241m=\u001b[39m \u001b[38;5;124m\"\u001b[39m\u001b[38;5;124mzfewmvuc\u001b[39m\u001b[38;5;124m\"\u001b[39m\n\u001b[1;32m      6\u001b[0m m, n \u001b[38;5;241m=\u001b[39m \u001b[38;5;28mlen\u001b[39m(s1), \u001b[38;5;28mlen\u001b[39m(s2)\n\u001b[0;32m----> 8\u001b[0m check(\u001b[43mfn\u001b[49m\u001b[43m(\u001b[49m\u001b[43ms1\u001b[49m\u001b[43m,\u001b[49m\u001b[43m \u001b[49m\u001b[43ms2\u001b[49m\u001b[43m,\u001b[49m\u001b[43m \u001b[49m\u001b[43mm\u001b[49m\u001b[43m,\u001b[49m\u001b[43m \u001b[49m\u001b[43mn\u001b[49m\u001b[43m)\u001b[49m, \u001b[38;5;241m8\u001b[39m)\n",
      "Cell \u001b[0;32mIn[9], line 5\u001b[0m, in \u001b[0;36medit_distance_memo\u001b[0;34m(s1, s2, m, n)\u001b[0m\n\u001b[1;32m      3\u001b[0m memo \u001b[38;5;241m=\u001b[39m [[\u001b[38;5;28;01mNone\u001b[39;00m \u001b[38;5;28;01mfor\u001b[39;00m i \u001b[38;5;129;01min\u001b[39;00m \u001b[38;5;28mrange\u001b[39m(n\u001b[38;5;241m+\u001b[39m\u001b[38;5;241m1\u001b[39m)] \u001b[38;5;28;01mfor\u001b[39;00m j \u001b[38;5;129;01min\u001b[39;00m \u001b[38;5;28mrange\u001b[39m(m\u001b[38;5;241m+\u001b[39m\u001b[38;5;241m1\u001b[39m)]\n\u001b[1;32m      4\u001b[0m \u001b[38;5;66;03m# Call the recursive function with the memo table\u001b[39;00m\n\u001b[0;32m----> 5\u001b[0m \u001b[38;5;28;01mreturn\u001b[39;00m dp(\u001b[43mstr1\u001b[49m, str2, m, n, memo)\n",
      "\u001b[0;31mNameError\u001b[0m: name 'str1' is not defined"
     ]
    }
   ],
   "source": [
    "def test_large(fn):\n",
    "    def test_1():\n",
    "        s1 = \"unfhabkcodvvnhywehylksbxqrpcogowrwhfxppmekrxlmwzvpigguswoigazmwnvkblbcnpjcejetsnafbapjvaykdetadfxtapsgspvacmrzyhhtmquvrltnibowfvjsypixrkfryoaxzrmiyhmzygusdngbcobbvdsvucutgrelrgruipbljesxjudogkqmnqwwqotapqdijmslphcaylzbelbyvbuhghneq\"\n",
    "        s2 = \"qyquxbguzngqxvqifkizoyelwpnfbcbpcjjnhwxxcuaxjxigibwfwspuouzukzdrobbpcdszhihsizewhtsgtkjncyezdxlfagpgukultsotfxheydwgmjgjrjalxaojblsddnnoavseroauchhryhzjgtgpczlozhikkiaycsteolhecwfutoyrhkrmerdrhmyeecukly\"\n",
    "        \n",
    "        m, n = len(s1), len(s2)\n",
    "\n",
    "        check(fn(s1, s2, m, n), 199)\n",
    "    \n",
    "    def test_2():\n",
    "        s1 = \"mzvwhhkckeszquyxfmkvjffintsnhszyvsnjbyoudmlinismsestwagqemblfmrmlakcerxphlyiqxoqmxuqmvrkjapqynworjgjndchvnyawpygkbwqiknhbjflboaauzmkexigmfhkpsckamsgqvtbmpwmnaovdvxbmfowlmarkxwnhldtrwvtbdifi\"\n",
    "        s2 = \"ovkruoltszfadqmitjvkjakrxljydrbcoxuyiglwoebvhhhqzkopgtyjjrajlpbtkvqcnokttiaurqpueczbzqdtifwwltyxrllihsdskzdqcivcefbpobrinmmmlpodkzimqxrmhzfvdopohtgxeqdtqaugxagqwvsjmvsktjxtlcsixxomkcrrcetjbymuviwcyvssngdkudczeurhbecpjaozavlftpdubowvhfdwqvkijmbvroko\"\n",
    "        \n",
    "        m, n = len(s1), len(s2)\n",
    "\n",
    "        check(fn(s1, s2, m, n), 209)\n",
    "    \n",
    "    test_1()\n",
    "    test_2()\n",
    "\n",
    "test_small(edit_distance_memo)\n",
    "test_large(edit_distance_memo)"
   ]
  },
  {
   "cell_type": "markdown",
   "metadata": {
    "colab_type": "text",
    "id": "6d1lTYoALyJF"
   },
   "source": [
    "## Remember the Steps\n",
    "\n",
    "As you're solving other dynamic programming problems, remember the steps you followed here to break down the problem.\n",
    "\n",
    "1. How could we break this problem into subproblems? Write down the subproblem in words.\n",
    "1. What are the base cases? What are their solutions?\n",
    "1. How can we get from one subproblem to another subproblem? What are the cases?\n",
    "1. Can you incorporate memoization?"
   ]
  }
 ],
 "metadata": {
  "colab": {
   "collapsed_sections": [],
   "name": "week4_day2_warm_up_reviewed.ipynb",
   "provenance": [],
   "version": "0.3.2"
  },
  "kernelspec": {
   "display_name": "Python 3 (ipykernel)",
   "language": "python",
   "name": "python3"
  },
  "language_info": {
   "codemirror_mode": {
    "name": "ipython",
    "version": 3
   },
   "file_extension": ".py",
   "mimetype": "text/x-python",
   "name": "python",
   "nbconvert_exporter": "python",
   "pygments_lexer": "ipython3",
   "version": "3.10.6"
  }
 },
 "nbformat": 4,
 "nbformat_minor": 4
}
